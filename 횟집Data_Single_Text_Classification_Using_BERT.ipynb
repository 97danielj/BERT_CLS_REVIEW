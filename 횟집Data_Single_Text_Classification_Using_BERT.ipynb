{
 "cells": [
  {
   "cell_type": "markdown",
   "id": "92c59b3c",
   "metadata": {},
   "source": [
    "# 1. 데이터 로드, 데이터 분석"
   ]
  },
  {
   "cell_type": "code",
   "execution_count": 1,
   "id": "59377efa",
   "metadata": {},
   "outputs": [],
   "source": [
    "import pandas as pd\n",
    "import numpy as np\n",
    "%matplotlib inline\n",
    "import matplotlib.pyplot as plt"
   ]
  },
  {
   "cell_type": "code",
   "execution_count": 3,
   "id": "e3494bef",
   "metadata": {},
   "outputs": [],
   "source": [
    "import pickle\n",
    "with open('df.pickle', 'rb') as f:\n",
    "    dataset = pickle.load(f)"
   ]
  },
  {
   "cell_type": "code",
   "execution_count": 4,
   "id": "f300990d",
   "metadata": {},
   "outputs": [
    {
     "data": {
      "text/plain": [
       "62389"
      ]
     },
     "execution_count": 4,
     "metadata": {},
     "output_type": "execute_result"
    }
   ],
   "source": [
    "len(dataset)"
   ]
  },
  {
   "cell_type": "code",
   "execution_count": 5,
   "id": "bbbfa710",
   "metadata": {},
   "outputs": [
    {
     "data": {
      "text/plain": [
       "<AxesSubplot:>"
      ]
     },
     "execution_count": 5,
     "metadata": {},
     "output_type": "execute_result"
    },
    {
     "data": {
      "image/png": "[encoded data removed]",
      "text/plain": [
       "<Figure size 432x288 with 1 Axes>"
      ]
     },
     "metadata": {
      "needs_background": "light"
     },
     "output_type": "display_data"
    }
   ],
   "source": [
    "dataset['Label'].value_counts().plot(kind = 'bar')"
   ]
  },
  {
   "cell_type": "code",
   "execution_count": 6,
   "id": "2f3e11aa",
   "metadata": {},
   "outputs": [],
   "source": [
    "# 훈련데이터와 테스트데이터 분리\n",
    "data = dataset['Review']\n",
    "target = dataset['Label']\n",
    "from sklearn.model_selection import train_test_split\n",
    "x_train, x_test, y_train, y_test = train_test_split(data,target,test_size=0.2,shuffle=True,stratify=target,random_state=24)"
   ]
  },
  {
   "cell_type": "code",
   "execution_count": 7,
   "id": "420ee1f7",
   "metadata": {},
   "outputs": [
    {
     "name": "stdout",
     "output_type": "stream",
     "text": [
      "총 훈련데이터 샘플의 수 :  49911\n",
      "총 훈련데이터 샘플의 수 :  12478\n"
     ]
    }
   ],
   "source": [
    "print('총 훈련데이터 샘플의 수 : ', len(x_train))\n",
    "print('총 훈련데이터 샘플의 수 : ', len(x_test))"
   ]
  },
  {
   "cell_type": "code",
   "execution_count": 8,
   "id": "a5226d56",
   "metadata": {
    "scrolled": true
   },
   "outputs": [
    {
     "data": {
      "text/plain": [
       "<AxesSubplot:>"
      ]
     },
     "execution_count": 8,
     "metadata": {},
     "output_type": "execute_result"
    },
    {
     "data": {
      "image/png": "[encoded data removed]",
      "text/plain": [
       "<Figure size 432x288 with 1 Axes>"
      ]
     },
     "metadata": {
      "needs_background": "light"
     },
     "output_type": "display_data"
    }
   ],
   "source": [
    "y_train.value_counts().plot(kind = 'bar')"
   ]
  },
  {
   "cell_type": "markdown",
   "id": "1787067e",
   "metadata": {},
   "source": [
    "# 2. BERT - FineTuning(Sentence analasis)\n",
    "## 2-1. 정수 인코딩"
   ]
  },
  {
   "cell_type": "code",
   "execution_count": 9,
   "id": "12c1208f",
   "metadata": {},
   "outputs": [],
   "source": [
    "from transformers import BertTokenizerFast\n",
    "\n",
    "tokenizer = BertTokenizerFast.from_pretrained(\"klue/bert-base\")"
   ]
  },
  {
   "cell_type": "code",
   "execution_count": 10,
   "id": "9e079052",
   "metadata": {},
   "outputs": [],
   "source": [
    "X_train_list = x_train.tolist()\n",
    "X_test_list = x_test.tolist()\n",
    "y_train = y_train.tolist()\n",
    "y_test = y_test.tolist()"
   ]
  },
  {
   "cell_type": "code",
   "execution_count": 11,
   "id": "15d47117",
   "metadata": {},
   "outputs": [],
   "source": [
    "X_train = tokenizer(X_train_list, truncation=True, padding=True)\n",
    "X_test = tokenizer(X_test_list, truncation=True, padding=True)"
   ]
  },
  {
   "cell_type": "code",
   "execution_count": 12,
   "id": "344b2862",
   "metadata": {},
   "outputs": [
    {
     "name": "stdout",
     "output_type": "stream",
     "text": [
      "['[CLS]', '대하', '##구이', '##는', '언제나', '진리', '##죠', '토', '##실', '##토', '##실', '너무', '[UNK]', '[SEP]', '[PAD]', '[PAD]', '[PAD]', '[PAD]', '[PAD]', '[PAD]', '[PAD]', '[PAD]', '[PAD]', '[PAD]', '[PAD]', '[PAD]', '[PAD]', '[PAD]', '[PAD]', '[PAD]', '[PAD]', '[PAD]', '[PAD]', '[PAD]', '[PAD]', '[PAD]', '[PAD]', '[PAD]', '[PAD]', '[PAD]', '[PAD]', '[PAD]', '[PAD]', '[PAD]', '[PAD]', '[PAD]', '[PAD]', '[PAD]', '[PAD]', '[PAD]', '[PAD]', '[PAD]', '[PAD]', '[PAD]', '[PAD]', '[PAD]', '[PAD]', '[PAD]', '[PAD]', '[PAD]', '[PAD]', '[PAD]', '[PAD]', '[PAD]', '[PAD]', '[PAD]', '[PAD]', '[PAD]', '[PAD]', '[PAD]', '[PAD]', '[PAD]', '[PAD]', '[PAD]', '[PAD]', '[PAD]', '[PAD]', '[PAD]', '[PAD]', '[PAD]', '[PAD]', '[PAD]', '[PAD]', '[PAD]', '[PAD]', '[PAD]', '[PAD]', '[PAD]', '[PAD]', '[PAD]', '[PAD]', '[PAD]', '[PAD]', '[PAD]', '[PAD]', '[PAD]', '[PAD]', '[PAD]', '[PAD]', '[PAD]', '[PAD]', '[PAD]', '[PAD]', '[PAD]', '[PAD]', '[PAD]', '[PAD]', '[PAD]']\n"
     ]
    }
   ],
   "source": [
    "print(X_train[0].tokens)"
   ]
  },
  {
   "cell_type": "code",
   "execution_count": 54,
   "id": "0e458fbb",
   "metadata": {},
   "outputs": [
    {
     "data": {
      "text/plain": [
       "Encoding(num_tokens=108, attributes=[ids, type_ids, tokens, offsets, attention_mask, special_tokens_mask, overflowing])"
      ]
     },
     "execution_count": 54,
     "metadata": {},
     "output_type": "execute_result"
    }
   ],
   "source": [
    "# 인코딩 객체 : 인코딩이란 숫자로 해당 텍스트를 나타내는것\n",
    "X_train[0]"
   ]
  },
  {
   "cell_type": "code",
   "execution_count": 13,
   "id": "2a19741e",
   "metadata": {},
   "outputs": [
    {
     "name": "stdout",
     "output_type": "stream",
     "text": [
      "[2, 5081, 19125, 2259, 5641, 6960, 2321, 1793, 2477, 2386, 2477, 3760, 1, 3, 0, 0, 0, 0, 0, 0, 0, 0, 0, 0, 0, 0, 0, 0, 0, 0, 0, 0, 0, 0, 0, 0, 0, 0, 0, 0, 0, 0, 0, 0, 0, 0, 0, 0, 0, 0, 0, 0, 0, 0, 0, 0, 0, 0, 0, 0, 0, 0, 0, 0, 0, 0, 0, 0, 0, 0, 0, 0, 0, 0, 0, 0, 0, 0, 0, 0, 0, 0, 0, 0, 0, 0, 0, 0, 0, 0, 0, 0, 0, 0, 0, 0, 0, 0, 0, 0, 0, 0, 0, 0, 0, 0, 0, 0]\n"
     ]
    }
   ],
   "source": [
    "print(X_train[0].ids)\n",
    "#id : 각 토큰의 아이디\n",
    "#ids : 각 토큰의 아이디 시퀀스 -> 즉 정수 인코딩/ 토큰 임베딩"
   ]
  },
  {
   "cell_type": "code",
   "execution_count": 14,
   "id": "9d5eb4f3",
   "metadata": {},
   "outputs": [
    {
     "name": "stdout",
     "output_type": "stream",
     "text": [
      "[0, 0, 0, 0, 0, 0, 0, 0, 0, 0, 0, 0, 0, 0, 0, 0, 0, 0, 0, 0, 0, 0, 0, 0, 0, 0, 0, 0, 0, 0, 0, 0, 0, 0, 0, 0, 0, 0, 0, 0, 0, 0, 0, 0, 0, 0, 0, 0, 0, 0, 0, 0, 0, 0, 0, 0, 0, 0, 0, 0, 0, 0, 0, 0, 0, 0, 0, 0, 0, 0, 0, 0, 0, 0, 0, 0, 0, 0, 0, 0, 0, 0, 0, 0, 0, 0, 0, 0, 0, 0, 0, 0, 0, 0, 0, 0, 0, 0, 0, 0, 0, 0, 0, 0, 0, 0, 0, 0]\n"
     ]
    }
   ],
   "source": [
    "print(X_train[0].type_ids) # 각 토큳의 타입 : 즉, 세그먼트 임베딩"
   ]
  },
  {
   "cell_type": "code",
   "execution_count": 15,
   "id": "0333928e",
   "metadata": {},
   "outputs": [
    {
     "name": "stdout",
     "output_type": "stream",
     "text": [
      "[1, 1, 1, 1, 1, 1, 1, 1, 1, 1, 1, 1, 1, 1, 0, 0, 0, 0, 0, 0, 0, 0, 0, 0, 0, 0, 0, 0, 0, 0, 0, 0, 0, 0, 0, 0, 0, 0, 0, 0, 0, 0, 0, 0, 0, 0, 0, 0, 0, 0, 0, 0, 0, 0, 0, 0, 0, 0, 0, 0, 0, 0, 0, 0, 0, 0, 0, 0, 0, 0, 0, 0, 0, 0, 0, 0, 0, 0, 0, 0, 0, 0, 0, 0, 0, 0, 0, 0, 0, 0, 0, 0, 0, 0, 0, 0, 0, 0, 0, 0, 0, 0, 0, 0, 0, 0, 0, 0]\n"
     ]
    }
   ],
   "source": [
    "print(X_train[0].attention_mask) #식제단어라면 숫자 1, 패딩 토큰은 숫자0 어텐션 마스크"
   ]
  },
  {
   "cell_type": "markdown",
   "id": "e3df3c6b",
   "metadata": {},
   "source": [
    "## 2-2. 데이터셋 생성 및 모델 학습"
   ]
  },
  {
   "cell_type": "code",
   "execution_count": 16,
   "id": "db3fef82",
   "metadata": {},
   "outputs": [],
   "source": [
    "import tensorflow as tf\n",
    "\n",
    "train_dataset = tf.data.Dataset.from_tensor_slices((\n",
    "    dict(X_train),\n",
    "    y_train\n",
    "))\n",
    "\n",
    "val_dataset = tf.data.Dataset.from_tensor_slices((\n",
    "    dict(X_test),\n",
    "    y_test\n",
    "))"
   ]
  },
  {
   "cell_type": "code",
   "execution_count": 17,
   "id": "ec729f63",
   "metadata": {},
   "outputs": [],
   "source": [
    "from transformers import TFBertForSequenceClassification\n",
    "from tensorflow.keras.callbacks import EarlyStopping"
   ]
  },
  {
   "cell_type": "code",
   "execution_count": 18,
   "id": "87843d81",
   "metadata": {},
   "outputs": [],
   "source": [
    "optimizer = tf.keras.optimizers.Adam(learning_rate=5e-5)"
   ]
  },
  {
   "cell_type": "code",
   "execution_count": 19,
   "id": "5e93f2c9",
   "metadata": {},
   "outputs": [
    {
     "name": "stderr",
     "output_type": "stream",
     "text": [
      "Some weights of the PyTorch model were not used when initializing the TF 2.0 model TFBertForSequenceClassification: ['bert.embeddings.position_ids']\n",
      "- This IS expected if you are initializing TFBertForSequenceClassification from a PyTorch model trained on another task or with another architecture (e.g. initializing a TFBertForSequenceClassification model from a BertForPreTraining model).\n",
      "- This IS NOT expected if you are initializing TFBertForSequenceClassification from a PyTorch model that you expect to be exactly identical (e.g. initializing a TFBertForSequenceClassification model from a BertForSequenceClassification model).\n",
      "Some weights or buffers of the TF 2.0 model TFBertForSequenceClassification were not initialized from the PyTorch model and are newly initialized: ['classifier.weight', 'classifier.bias']\n",
      "You should probably TRAIN this model on a down-stream task to be able to use it for predictions and inference.\n"
     ]
    }
   ],
   "source": [
    "model = TFBertForSequenceClassification.from_pretrained(\"klue/bert-base\", num_labels=2, from_pt=True)\n",
    "model.compile(optimizer=optimizer, loss=model.compute_loss, metrics=['accuracy'])"
   ]
  },
  {
   "cell_type": "code",
   "execution_count": 21,
   "id": "12d5a59b",
   "metadata": {},
   "outputs": [
    {
     "data": {
      "text/plain": [
       "<bound method TFPreTrainedModel.compute_loss of <transformers.models.bert.modeling_tf_bert.TFBertForSequenceClassification object at 0x000001EB013406D0>>"
      ]
     },
     "execution_count": 21,
     "metadata": {},
     "output_type": "execute_result"
    }
   ],
   "source": [
    "model.compute_loss"
   ]
  },
  {
   "cell_type": "code",
   "execution_count": null,
   "id": "7495f085",
   "metadata": {},
   "outputs": [
    {
     "name": "stdout",
     "output_type": "stream",
     "text": [
      "Epoch 1/5\n",
      " 124/3120 [>.............................] - ETA: 30:06 - loss: 0.0933 - accuracy: 0.9713"
     ]
    }
   ],
   "source": [
    "callback_earlystop = EarlyStopping(\n",
    "    monitor=\"val_accuracy\", \n",
    "    min_delta=0.001,\n",
    "    patience=2)\n",
    "\n",
    "model.fit(\n",
    "    #train_data랜덤 셔플\n",
    "    train_dataset.shuffle(4000).batch(16), epochs=5, batch_size=32,\n",
    "    validation_data = val_dataset.shuffle(4000).batch(32),\n",
    "    callbacks = [callback_earlystop]\n",
    ")"
   ]
  },
  {
   "cell_type": "code",
   "execution_count": null,
   "id": "8908dc62",
   "metadata": {},
   "outputs": [],
   "source": [
    "model.evaluate(val_dataset.batch(1024))"
   ]
  },
  {
   "cell_type": "code",
   "execution_count": null,
   "id": "c120d68c",
   "metadata": {},
   "outputs": [],
   "source": [
    "model.save_pretrained('BERT_model/bert-base')\n",
    "tokenizer.save_pretrained('BERT_model/bert-base')"
   ]
  },
  {
   "cell_type": "code",
   "execution_count": null,
   "id": "024ecb33",
   "metadata": {},
   "outputs": [],
   "source": [
    "from transformers import TextClassificationPipeline\n",
    "\n",
    "# 로드하기\n",
    "loaded_tokenizer = BertTokenizerFast.from_pretrained('BERT_model/bert-base')\n",
    "loaded_model = TFBertForSequenceClassification.from_pretrained('BERT_model/bert-base')\n",
    "\n",
    "text_classifier = TextClassificationPipeline(\n",
    "    tokenizer=loaded_tokenizer, \n",
    "    model=loaded_model, \n",
    "    framework='tf',\n",
    "    return_all_scores=True\n",
    ")"
   ]
  },
  {
   "cell_type": "markdown",
   "id": "3ca553a7",
   "metadata": {},
   "source": [
    "## 2-3. 모델 테스트"
   ]
  },
  {
   "cell_type": "code",
   "execution_count": 22,
   "id": "e8151a4b",
   "metadata": {},
   "outputs": [],
   "source": [
    "def show_sentiment(text):\n",
    "    result = text_classifier(text)[0]\n",
    "    print('부정일 확률 : ', round(result[0]['score'],3))\n",
    "    print('긍정일 확률 : ', round(result[1]['score'],3))"
   ]
  },
  {
   "cell_type": "code",
   "execution_count": 23,
   "id": "74a87ef8",
   "metadata": {},
   "outputs": [
    {
     "data": {
      "text/plain": [
       "[{'label': 'LABEL_0', 'score': 0.9952921867370605},\n",
       " {'label': 'LABEL_1', 'score': 0.00470778439193964}]"
      ]
     },
     "execution_count": 23,
     "metadata": {},
     "output_type": "execute_result"
    }
   ],
   "source": [
    "text_classifier('위생상태 불량')[0]"
   ]
  },
  {
   "cell_type": "code",
   "execution_count": 30,
   "id": "84c54d3a",
   "metadata": {},
   "outputs": [
    {
     "name": "stdout",
     "output_type": "stream",
     "text": [
      "부정일 확률 :  0.993\n",
      "긍정일 확률 :  0.007\n"
     ]
    }
   ],
   "source": [
    "show_sentiment('위생불량')"
   ]
  },
  {
   "cell_type": "code",
   "execution_count": 25,
   "id": "0f2c222e",
   "metadata": {},
   "outputs": [
    {
     "name": "stdout",
     "output_type": "stream",
     "text": [
      "부정일 확률 :  0.996\n",
      "긍정일 확률 :  0.004\n"
     ]
    }
   ],
   "source": [
    "show_sentiment('장소가 협소하네요')"
   ]
  },
  {
   "cell_type": "code",
   "execution_count": 26,
   "id": "bfd9db53",
   "metadata": {},
   "outputs": [
    {
     "name": "stdout",
     "output_type": "stream",
     "text": [
      "부정일 확률 :  0.984\n",
      "긍정일 확률 :  0.016\n"
     ]
    }
   ],
   "source": [
    "show_sentiment('비린맛이 심하네요')"
   ]
  },
  {
   "cell_type": "code",
   "execution_count": 27,
   "id": "080715d1",
   "metadata": {},
   "outputs": [
    {
     "name": "stdout",
     "output_type": "stream",
     "text": [
      "부정일 확률 :  0.998\n",
      "긍정일 확률 :  0.002\n"
     ]
    }
   ],
   "source": [
    "show_sentiment('맛은 좋지만 가성비가 떨어지네요')"
   ]
  },
  {
   "cell_type": "code",
   "execution_count": 65,
   "id": "2e97ffca",
   "metadata": {},
   "outputs": [
    {
     "name": "stdout",
     "output_type": "stream",
     "text": [
      "부정일 확률 :  0.001\n",
      "긍정일 확률 :  0.999\n"
     ]
    }
   ],
   "source": [
    "show_sentiment('알바가 친절하고 맛도 좋아요')"
   ]
  },
  {
   "cell_type": "code",
   "execution_count": 28,
   "id": "e6da2480",
   "metadata": {},
   "outputs": [
    {
     "name": "stdout",
     "output_type": "stream",
     "text": [
      "부정일 확률 :  0.001\n",
      "긍정일 확률 :  0.999\n"
     ]
    }
   ],
   "source": [
    "show_sentiment('가성비 좋고, 맛도 무진장 좋아요')"
   ]
  },
  {
   "cell_type": "code",
   "execution_count": 31,
   "id": "b57510b1",
   "metadata": {},
   "outputs": [
    {
     "name": "stdout",
     "output_type": "stream",
     "text": [
      "부정일 확률 :  0.979\n",
      "긍정일 확률 :  0.021\n"
     ]
    }
   ],
   "source": [
    "show_sentiment('가성비 좋고, 맛도 무진장 좋아요. 그런데 주차자리가 협소하네요')"
   ]
  },
  {
   "cell_type": "code",
   "execution_count": 32,
   "id": "2ab52e6f",
   "metadata": {},
   "outputs": [
    {
     "name": "stdout",
     "output_type": "stream",
     "text": [
      "부정일 확률 :  0.002\n",
      "긍정일 확률 :  0.998\n"
     ]
    }
   ],
   "source": [
    "show_sentiment('굿')"
   ]
  },
  {
   "cell_type": "code",
   "execution_count": 34,
   "id": "ea815f71",
   "metadata": {},
   "outputs": [
    {
     "name": "stdout",
     "output_type": "stream",
     "text": [
      "부정일 확률 :  0.002\n",
      "긍정일 확률 :  0.998\n"
     ]
    }
   ],
   "source": [
    "show_sentiment('개 좋다')"
   ]
  },
  {
   "cell_type": "code",
   "execution_count": 35,
   "id": "55fa60a4",
   "metadata": {},
   "outputs": [
    {
     "name": "stdout",
     "output_type": "stream",
     "text": [
      "부정일 확률 :  0.916\n",
      "긍정일 확률 :  0.084\n"
     ]
    }
   ],
   "source": [
    "show_sentiment('개 같다')"
   ]
  },
  {
   "cell_type": "code",
   "execution_count": 37,
   "id": "535c3e8e",
   "metadata": {},
   "outputs": [
    {
     "name": "stdout",
     "output_type": "stream",
     "text": [
      "부정일 확률 :  0.985\n",
      "긍정일 확률 :  0.015\n"
     ]
    }
   ],
   "source": [
    "show_sentiment('장사가 잘되니 초심을 잃었네요')"
   ]
  },
  {
   "cell_type": "code",
   "execution_count": null,
   "id": "d3101e4b",
   "metadata": {},
   "outputs": [],
   "source": []
  }
 ],
 "metadata": {
  "kernelspec": {
   "display_name": "Python 3 (ipykernel)",
   "language": "python",
   "name": "python3"
  },
  "language_info": {
   "codemirror_mode": {
    "name": "ipython",
    "version": 3
   },
   "file_extension": ".py",
   "mimetype": "text/x-python",
   "name": "python",
   "nbconvert_exporter": "python",
   "pygments_lexer": "ipython3",
   "version": "3.9.12"
  }
 },
 "nbformat": 4,
 "nbformat_minor": 5
}
