{
 "cells": [
  {
   "cell_type": "markdown",
   "id": "92c59b3c",
   "metadata": {},
   "source": [
    "# 1. 데이터 로드, 데이터 분석"
   ]
  },
  {
   "cell_type": "code",
   "execution_count": 1,
   "id": "59377efa",
   "metadata": {},
   "outputs": [],
   "source": [
    "import pandas as pd\n",
    "import numpy as np\n",
    "%matplotlib inline\n",
    "import matplotlib.pyplot as plt"
   ]
  },
  {
   "cell_type": "code",
   "execution_count": 2,
   "id": "e3494bef",
   "metadata": {},
   "outputs": [],
   "source": [
    "import pickle\n",
    "with open('df.pickle', 'rb') as f:\n",
    "    dataset = pickle.load(f)"
   ]
  },
  {
   "cell_type": "code",
   "execution_count": 3,
   "id": "f300990d",
   "metadata": {},
   "outputs": [
    {
     "data": {
      "text/plain": [
       "59920"
      ]
     },
     "execution_count": 3,
     "metadata": {},
     "output_type": "execute_result"
    }
   ],
   "source": [
    "len(dataset)"
   ]
  },
  {
   "cell_type": "code",
   "execution_count": 4,
   "id": "2f3e11aa",
   "metadata": {},
   "outputs": [],
   "source": [
    "# 훈련데이터와 테스트데이터 분리\n",
    "data = dataset['Review']\n",
    "target = dataset['Label']\n",
    "from sklearn.model_selection import train_test_split\n",
    "x_train, x_test, y_train, y_test = train_test_split(data,target,test_size=0.2,shuffle=True,stratify=target,random_state=24)"
   ]
  },
  {
   "cell_type": "code",
   "execution_count": 5,
   "id": "420ee1f7",
   "metadata": {},
   "outputs": [
    {
     "name": "stdout",
     "output_type": "stream",
     "text": [
      "총 X 훈련 샘플의 수 :  47936\n",
      "총 y 훈련 샘플의 수 :  47936\n",
      "총 X 테스트 샘플의 수 :  11984\n",
      "총 y 테스트 샘플의 수 :  11984\n"
     ]
    }
   ],
   "source": [
    "print('총 X 훈련 샘플의 수 : ', len(x_train))\n",
    "print('총 y 훈련 샘플의 수 : ', len(y_train))\n",
    "print('총 X 테스트 샘플의 수 : ', len(x_test))\n",
    "print('총 y 테스트 샘플의 수 : ', len(y_test))"
   ]
  },
  {
   "cell_type": "code",
   "execution_count": 6,
   "id": "a5226d56",
   "metadata": {
    "scrolled": true
   },
   "outputs": [
    {
     "data": {
      "text/plain": [
       "<AxesSubplot:>"
      ]
     },
     "execution_count": 6,
     "metadata": {},
     "output_type": "execute_result"
    },
    {
     "data": {
      "image/png": "[encoded data removed]",
      "text/plain": [
       "<Figure size 432x288 with 1 Axes>"
      ]
     },
     "metadata": {
      "needs_background": "light"
     },
     "output_type": "display_data"
    }
   ],
   "source": [
    "y_train.value_counts().plot(kind = 'bar')"
   ]
  },
  {
   "cell_type": "markdown",
   "id": "1787067e",
   "metadata": {},
   "source": [
    "# 2. BERT - FineTuning(Sentence analasis)\n",
    "## 2-1. 정수 인코딩"
   ]
  },
  {
   "cell_type": "code",
   "execution_count": 7,
   "id": "12c1208f",
   "metadata": {},
   "outputs": [],
   "source": [
    "from transformers import BertTokenizerFast\n",
    "\n",
    "tokenizer = BertTokenizerFast.from_pretrained(\"klue/bert-base\")"
   ]
  },
  {
   "cell_type": "code",
   "execution_count": 8,
   "id": "9e079052",
   "metadata": {},
   "outputs": [],
   "source": [
    "X_train_list = x_train.tolist()\n",
    "X_test_list = x_test.tolist()\n",
    "y_train = y_train.tolist()\n",
    "y_test = y_test.tolist()"
   ]
  },
  {
   "cell_type": "code",
   "execution_count": 9,
   "id": "15d47117",
   "metadata": {},
   "outputs": [],
   "source": [
    "X_train = tokenizer(X_train_list, truncation=True, padding=True)\n",
    "X_test = tokenizer(X_test_list, truncation=True, padding=True)"
   ]
  },
  {
   "cell_type": "code",
   "execution_count": 10,
   "id": "344b2862",
   "metadata": {},
   "outputs": [
    {
     "name": "stdout",
     "output_type": "stream",
     "text": [
      "['[CLS]', '회가', '두툼', '##하니', '맛있', '##습', '##니다', '.', '[SEP]', '[PAD]', '[PAD]', '[PAD]', '[PAD]', '[PAD]', '[PAD]', '[PAD]', '[PAD]', '[PAD]', '[PAD]', '[PAD]', '[PAD]', '[PAD]', '[PAD]', '[PAD]', '[PAD]', '[PAD]', '[PAD]', '[PAD]', '[PAD]', '[PAD]', '[PAD]', '[PAD]', '[PAD]', '[PAD]', '[PAD]', '[PAD]', '[PAD]', '[PAD]', '[PAD]', '[PAD]', '[PAD]', '[PAD]', '[PAD]', '[PAD]', '[PAD]', '[PAD]', '[PAD]', '[PAD]', '[PAD]', '[PAD]', '[PAD]', '[PAD]', '[PAD]', '[PAD]', '[PAD]', '[PAD]', '[PAD]', '[PAD]', '[PAD]', '[PAD]', '[PAD]', '[PAD]', '[PAD]', '[PAD]', '[PAD]', '[PAD]', '[PAD]', '[PAD]', '[PAD]', '[PAD]', '[PAD]', '[PAD]', '[PAD]', '[PAD]', '[PAD]', '[PAD]', '[PAD]', '[PAD]', '[PAD]', '[PAD]', '[PAD]', '[PAD]', '[PAD]', '[PAD]', '[PAD]', '[PAD]', '[PAD]', '[PAD]', '[PAD]', '[PAD]', '[PAD]', '[PAD]', '[PAD]', '[PAD]', '[PAD]', '[PAD]', '[PAD]', '[PAD]', '[PAD]', '[PAD]', '[PAD]']\n"
     ]
    }
   ],
   "source": [
    "print(X_train[0].tokens)"
   ]
  },
  {
   "cell_type": "code",
   "execution_count": 11,
   "id": "2a19741e",
   "metadata": {},
   "outputs": [
    {
     "name": "stdout",
     "output_type": "stream",
     "text": [
      "[2, 22705, 17918, 13679, 4550, 2219, 3606, 18, 3, 0, 0, 0, 0, 0, 0, 0, 0, 0, 0, 0, 0, 0, 0, 0, 0, 0, 0, 0, 0, 0, 0, 0, 0, 0, 0, 0, 0, 0, 0, 0, 0, 0, 0, 0, 0, 0, 0, 0, 0, 0, 0, 0, 0, 0, 0, 0, 0, 0, 0, 0, 0, 0, 0, 0, 0, 0, 0, 0, 0, 0, 0, 0, 0, 0, 0, 0, 0, 0, 0, 0, 0, 0, 0, 0, 0, 0, 0, 0, 0, 0, 0, 0, 0, 0, 0, 0, 0, 0, 0, 0, 0]\n"
     ]
    }
   ],
   "source": [
    "print(X_train[0].ids)"
   ]
  },
  {
   "cell_type": "code",
   "execution_count": 12,
   "id": "9d5eb4f3",
   "metadata": {},
   "outputs": [
    {
     "name": "stdout",
     "output_type": "stream",
     "text": [
      "[0, 0, 0, 0, 0, 0, 0, 0, 0, 0, 0, 0, 0, 0, 0, 0, 0, 0, 0, 0, 0, 0, 0, 0, 0, 0, 0, 0, 0, 0, 0, 0, 0, 0, 0, 0, 0, 0, 0, 0, 0, 0, 0, 0, 0, 0, 0, 0, 0, 0, 0, 0, 0, 0, 0, 0, 0, 0, 0, 0, 0, 0, 0, 0, 0, 0, 0, 0, 0, 0, 0, 0, 0, 0, 0, 0, 0, 0, 0, 0, 0, 0, 0, 0, 0, 0, 0, 0, 0, 0, 0, 0, 0, 0, 0, 0, 0, 0, 0, 0, 0]\n"
     ]
    }
   ],
   "source": [
    "print(X_train[0].type_ids)"
   ]
  },
  {
   "cell_type": "code",
   "execution_count": 13,
   "id": "0333928e",
   "metadata": {},
   "outputs": [
    {
     "name": "stdout",
     "output_type": "stream",
     "text": [
      "[1, 1, 1, 1, 1, 1, 1, 1, 1, 0, 0, 0, 0, 0, 0, 0, 0, 0, 0, 0, 0, 0, 0, 0, 0, 0, 0, 0, 0, 0, 0, 0, 0, 0, 0, 0, 0, 0, 0, 0, 0, 0, 0, 0, 0, 0, 0, 0, 0, 0, 0, 0, 0, 0, 0, 0, 0, 0, 0, 0, 0, 0, 0, 0, 0, 0, 0, 0, 0, 0, 0, 0, 0, 0, 0, 0, 0, 0, 0, 0, 0, 0, 0, 0, 0, 0, 0, 0, 0, 0, 0, 0, 0, 0, 0, 0, 0, 0, 0, 0, 0]\n"
     ]
    }
   ],
   "source": [
    "print(X_train[0].attention_mask)"
   ]
  },
  {
   "cell_type": "markdown",
   "id": "e3df3c6b",
   "metadata": {},
   "source": [
    "## 2-2. 데이터셋 생성 및 모델 학습"
   ]
  },
  {
   "cell_type": "code",
   "execution_count": 14,
   "id": "db3fef82",
   "metadata": {},
   "outputs": [],
   "source": [
    "import tensorflow as tf\n",
    "\n",
    "train_dataset = tf.data.Dataset.from_tensor_slices((\n",
    "    dict(X_train),\n",
    "    y_train\n",
    "))\n",
    "\n",
    "val_dataset = tf.data.Dataset.from_tensor_slices((\n",
    "    dict(X_test),\n",
    "    y_test\n",
    "))"
   ]
  },
  {
   "cell_type": "code",
   "execution_count": 15,
   "id": "ec729f63",
   "metadata": {},
   "outputs": [],
   "source": [
    "from transformers import TFBertForSequenceClassification\n",
    "from tensorflow.keras.callbacks import EarlyStopping"
   ]
  },
  {
   "cell_type": "code",
   "execution_count": 16,
   "id": "87843d81",
   "metadata": {},
   "outputs": [],
   "source": [
    "optimizer = tf.keras.optimizers.Adam(learning_rate=5e-5)"
   ]
  },
  {
   "cell_type": "code",
   "execution_count": 18,
   "id": "a5a80217",
   "metadata": {},
   "outputs": [
    {
     "name": "stderr",
     "output_type": "stream",
     "text": [
      "Some weights of the PyTorch model were not used when initializing the TF 2.0 model TFBertForSequenceClassification: ['bert.embeddings.position_ids']\n",
      "- This IS expected if you are initializing TFBertForSequenceClassification from a PyTorch model trained on another task or with another architecture (e.g. initializing a TFBertForSequenceClassification model from a BertForPreTraining model).\n",
      "- This IS NOT expected if you are initializing TFBertForSequenceClassification from a PyTorch model that you expect to be exactly identical (e.g. initializing a TFBertForSequenceClassification model from a BertForSequenceClassification model).\n",
      "Some weights or buffers of the TF 2.0 model TFBertForSequenceClassification were not initialized from the PyTorch model and are newly initialized: ['classifier.weight', 'classifier.bias']\n",
      "You should probably TRAIN this model on a down-stream task to be able to use it for predictions and inference.\n"
     ]
    }
   ],
   "source": [
    "model = TFBertForSequenceClassification.from_pretrained(\"klue/bert-base\", num_labels=2, from_pt=True)\n",
    "model.compile(optimizer=optimizer, loss=model.compute_loss, metrics=['accuracy'])"
   ]
  },
  {
   "cell_type": "code",
   "execution_count": 20,
   "id": "12d5a59b",
   "metadata": {},
   "outputs": [
    {
     "data": {
      "text/plain": [
       "<bound method TFPreTrainedModel.compute_loss of <transformers.models.bert.modeling_tf_bert.TFBertForSequenceClassification object at 0x000001C47B640A30>>"
      ]
     },
     "execution_count": 20,
     "metadata": {},
     "output_type": "execute_result"
    }
   ],
   "source": [
    "model.compute_loss"
   ]
  },
  {
   "cell_type": "code",
   "execution_count": 25,
   "id": "7495f085",
   "metadata": {
    "scrolled": true
   },
   "outputs": [
    {
     "name": "stdout",
     "output_type": "stream",
     "text": [
      "Epoch 1/5\n",
      "2996/2996 [==============================] - 2016s 673ms/step - loss: 0.0883 - accuracy: 0.9675 - val_loss: 0.2597 - val_accuracy: 0.9213\n",
      "Epoch 2/5\n",
      "2996/2996 [==============================] - 1910s 638ms/step - loss: 0.2098 - accuracy: 0.9208 - val_loss: 0.1818 - val_accuracy: 0.9214\n",
      "Epoch 3/5\n",
      "2996/2996 [==============================] - 1985s 663ms/step - loss: 0.1812 - accuracy: 0.9219 - val_loss: 0.1857 - val_accuracy: 0.9214\n"
     ]
    },
    {
     "data": {
      "text/plain": [
       "<keras.callbacks.History at 0x1c4c66d5ca0>"
      ]
     },
     "execution_count": 25,
     "metadata": {},
     "output_type": "execute_result"
    }
   ],
   "source": [
    "callback_earlystop = EarlyStopping(\n",
    "    monitor=\"val_accuracy\", \n",
    "    min_delta=0.003,\n",
    "    patience=2)\n",
    "\n",
    "model.fit(\n",
    "    train_dataset.shuffle(5000).batch(16), epochs=5, batch_size=32,\n",
    "    validation_data = val_dataset.shuffle(5000).batch(32),\n",
    "    callbacks = [callback_earlystop]\n",
    ")"
   ]
  },
  {
   "cell_type": "code",
   "execution_count": 28,
   "id": "8908dc62",
   "metadata": {
    "scrolled": true
   },
   "outputs": [
    {
     "name": "stdout",
     "output_type": "stream",
     "text": [
      "24/24 [==============================] - 122s 5s/step - loss: 0.1857 - accuracy: 0.9214\n"
     ]
    },
    {
     "data": {
      "text/plain": [
       "[0.1856682151556015, 0.9213951826095581]"
      ]
     },
     "execution_count": 28,
     "metadata": {},
     "output_type": "execute_result"
    }
   ],
   "source": [
    "model.evaluate(val_dataset.batch(512))"
   ]
  },
  {
   "cell_type": "markdown",
   "id": "a31919cd",
   "metadata": {},
   "source": [
    "# 3. 모델 저장"
   ]
  },
  {
   "cell_type": "code",
   "execution_count": 29,
   "id": "c120d68c",
   "metadata": {},
   "outputs": [
    {
     "data": {
      "text/plain": [
       "('BERT_model/bert-base\\\\tokenizer_config.json',\n",
       " 'BERT_model/bert-base\\\\special_tokens_map.json',\n",
       " 'BERT_model/bert-base\\\\vocab.txt',\n",
       " 'BERT_model/bert-base\\\\added_tokens.json',\n",
       " 'BERT_model/bert-base\\\\tokenizer.json')"
      ]
     },
     "execution_count": 29,
     "metadata": {},
     "output_type": "execute_result"
    }
   ],
   "source": [
    "model.save_pretrained('BERT_model/bert-base')\n",
    "tokenizer.save_pretrained('BERT_model/bert-base')"
   ]
  },
  {
   "cell_type": "markdown",
   "id": "2db2cc25",
   "metadata": {},
   "source": [
    "# 4. 모델 로드 및 테스트"
   ]
  },
  {
   "cell_type": "code",
   "execution_count": 30,
   "id": "024ecb33",
   "metadata": {},
   "outputs": [
    {
     "name": "stderr",
     "output_type": "stream",
     "text": [
      "Some layers from the model checkpoint at BERT_model/bert-base were not used when initializing TFBertForSequenceClassification: ['dropout_37']\n",
      "- This IS expected if you are initializing TFBertForSequenceClassification from the checkpoint of a model trained on another task or with another architecture (e.g. initializing a BertForSequenceClassification model from a BertForPreTraining model).\n",
      "- This IS NOT expected if you are initializing TFBertForSequenceClassification from the checkpoint of a model that you expect to be exactly identical (initializing a BertForSequenceClassification model from a BertForSequenceClassification model).\n",
      "All the layers of TFBertForSequenceClassification were initialized from the model checkpoint at BERT_model/bert-base.\n",
      "If your task is similar to the task the model of the checkpoint was trained on, you can already use TFBertForSequenceClassification for predictions without further training.\n",
      "C:\\Users\\DanielJeong\\AppData\\Roaming\\Python\\Python39\\site-packages\\transformers\\pipelines\\text_classification.py:89: UserWarning: `return_all_scores` is now deprecated, use `top_k=1` if you want similar functionnality\n",
      "  warnings.warn(\n"
     ]
    }
   ],
   "source": [
    "from transformers import TextClassificationPipeline\n",
    "\n",
    "# 로드하기\n",
    "loaded_tokenizer = BertTokenizerFast.from_pretrained('BERT_model/bert-base')\n",
    "loaded_model = TFBertForSequenceClassification.from_pretrained('BERT_model/bert-base')\n",
    "\n",
    "text_classifier = TextClassificationPipeline(\n",
    "    tokenizer=loaded_tokenizer, \n",
    "    model=loaded_model, \n",
    "    framework='tf',\n",
    "    return_all_scores=True\n",
    ")"
   ]
  },
  {
   "cell_type": "markdown",
   "id": "3ca553a7",
   "metadata": {},
   "source": [
    "## 2-3. 모델 테스트"
   ]
  },
  {
   "cell_type": "code",
   "execution_count": 31,
   "id": "e8151a4b",
   "metadata": {},
   "outputs": [],
   "source": [
    "def show_sentiment(text):\n",
    "    result = text_classifier(text)[0]\n",
    "    print('부정일 확률 : ', round(result[0]['score'],3))\n",
    "    print('긍정일 확률 : ', round(result[1]['score'],3))"
   ]
  },
  {
   "cell_type": "code",
   "execution_count": 32,
   "id": "74a87ef8",
   "metadata": {},
   "outputs": [
    {
     "data": {
      "text/plain": [
       "[{'label': 'LABEL_0', 'score': 0.33432087302207947},\n",
       " {'label': 'LABEL_1', 'score': 0.6656791567802429}]"
      ]
     },
     "execution_count": 32,
     "metadata": {},
     "output_type": "execute_result"
    }
   ],
   "source": [
    "text_classifier('위생상태 불량')[0]"
   ]
  },
  {
   "cell_type": "code",
   "execution_count": 44,
   "id": "6ef30d79",
   "metadata": {},
   "outputs": [
    {
     "data": {
      "text/plain": [
       "[{'label': 'LABEL_0', 'score': 0.0011311981361359358},\n",
       " {'label': 'LABEL_1', 'score': 0.9988687634468079}]"
      ]
     },
     "execution_count": 44,
     "metadata": {},
     "output_type": "execute_result"
    }
   ],
   "source": [
    "text_classifier('친절하네요')[0]"
   ]
  },
  {
   "cell_type": "code",
   "execution_count": 47,
   "id": "84c54d3a",
   "metadata": {},
   "outputs": [
    {
     "data": {
      "text/plain": [
       "[{'label': 'LABEL_0', 'score': 0.334321528673172},\n",
       " {'label': 'LABEL_1', 'score': 0.6656785011291504}]"
      ]
     },
     "execution_count": 47,
     "metadata": {},
     "output_type": "execute_result"
    }
   ],
   "source": [
    "text_classifier('양이 적어')[0]"
   ]
  },
  {
   "cell_type": "code",
   "execution_count": 34,
   "id": "0f2c222e",
   "metadata": {},
   "outputs": [
    {
     "name": "stdout",
     "output_type": "stream",
     "text": [
      "부정일 확률 :  0.334\n",
      "긍정일 확률 :  0.666\n"
     ]
    }
   ],
   "source": [
    "show_sentiment('장소가 협소하네요')"
   ]
  },
  {
   "cell_type": "code",
   "execution_count": 35,
   "id": "bfd9db53",
   "metadata": {},
   "outputs": [
    {
     "name": "stdout",
     "output_type": "stream",
     "text": [
      "부정일 확률 :  0.334\n",
      "긍정일 확률 :  0.666\n"
     ]
    }
   ],
   "source": [
    "show_sentiment('비린맛이 심하네요')"
   ]
  },
  {
   "cell_type": "code",
   "execution_count": 36,
   "id": "080715d1",
   "metadata": {},
   "outputs": [
    {
     "name": "stdout",
     "output_type": "stream",
     "text": [
      "부정일 확률 :  0.334\n",
      "긍정일 확률 :  0.666\n"
     ]
    }
   ],
   "source": [
    "show_sentiment('맛은 좋지만 가성비가 떨어지네요')"
   ]
  },
  {
   "cell_type": "code",
   "execution_count": 37,
   "id": "2e97ffca",
   "metadata": {},
   "outputs": [
    {
     "name": "stdout",
     "output_type": "stream",
     "text": [
      "부정일 확률 :  0.001\n",
      "긍정일 확률 :  0.999\n"
     ]
    }
   ],
   "source": [
    "show_sentiment('알바가 친절하고 맛도 좋아요')"
   ]
  },
  {
   "cell_type": "code",
   "execution_count": 38,
   "id": "e6da2480",
   "metadata": {},
   "outputs": [
    {
     "name": "stdout",
     "output_type": "stream",
     "text": [
      "부정일 확률 :  0.046\n",
      "긍정일 확률 :  0.954\n"
     ]
    }
   ],
   "source": [
    "show_sentiment('가성비 좋고, 맛도 무진장 좋아요')"
   ]
  },
  {
   "cell_type": "code",
   "execution_count": 39,
   "id": "b57510b1",
   "metadata": {},
   "outputs": [
    {
     "name": "stdout",
     "output_type": "stream",
     "text": [
      "부정일 확률 :  0.046\n",
      "긍정일 확률 :  0.954\n"
     ]
    }
   ],
   "source": [
    "show_sentiment('가성비 좋고, 맛도 무진장 좋아요. 그런데 주차자리가 협소하네요')"
   ]
  },
  {
   "cell_type": "code",
   "execution_count": 40,
   "id": "2ab52e6f",
   "metadata": {},
   "outputs": [
    {
     "name": "stdout",
     "output_type": "stream",
     "text": [
      "부정일 확률 :  0.001\n",
      "긍정일 확률 :  0.999\n"
     ]
    }
   ],
   "source": [
    "show_sentiment('굿')"
   ]
  },
  {
   "cell_type": "code",
   "execution_count": 41,
   "id": "ea815f71",
   "metadata": {},
   "outputs": [
    {
     "name": "stdout",
     "output_type": "stream",
     "text": [
      "부정일 확률 :  0.334\n",
      "긍정일 확률 :  0.666\n"
     ]
    }
   ],
   "source": [
    "show_sentiment('개 좋다')"
   ]
  },
  {
   "cell_type": "code",
   "execution_count": 42,
   "id": "55fa60a4",
   "metadata": {},
   "outputs": [
    {
     "name": "stdout",
     "output_type": "stream",
     "text": [
      "부정일 확률 :  0.334\n",
      "긍정일 확률 :  0.666\n"
     ]
    }
   ],
   "source": [
    "show_sentiment('개 같다')"
   ]
  },
  {
   "cell_type": "code",
   "execution_count": 43,
   "id": "535c3e8e",
   "metadata": {},
   "outputs": [
    {
     "name": "stdout",
     "output_type": "stream",
     "text": [
      "부정일 확률 :  0.334\n",
      "긍정일 확률 :  0.666\n"
     ]
    }
   ],
   "source": [
    "show_sentiment('장사가 잘되니 초심을 잃었네요')"
   ]
  },
  {
   "cell_type": "code",
   "execution_count": null,
   "id": "d3101e4b",
   "metadata": {},
   "outputs": [],
   "source": []
  }
 ],
 "metadata": {
  "kernelspec": {
   "display_name": "Python 3 (ipykernel)",
   "language": "python",
   "name": "python3"
  },
  "language_info": {
   "codemirror_mode": {
    "name": "ipython",
    "version": 3
   },
   "file_extension": ".py",
   "mimetype": "text/x-python",
   "name": "python",
   "nbconvert_exporter": "python",
   "pygments_lexer": "ipython3",
   "version": "3.9.12"
  }
 },
 "nbformat": 4,
 "nbformat_minor": 5
}
