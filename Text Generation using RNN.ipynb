{
 "cells": [
  {
   "cell_type": "markdown",
   "id": "9c2c3fc4",
   "metadata": {},
   "source": [
    "# 1) 데이터에 대한 이해와 전처리"
   ]
  },
  {
   "cell_type": "code",
   "execution_count": 3,
   "id": "70b2c2e4",
   "metadata": {},
   "outputs": [],
   "source": [
    "import numpy as np\n",
    "from tensorflow.keras.preprocessing.text import Tokenizer #토크나이저 => 단어집합을 생성시켜준다.\n",
    "from tensorflow.keras.preprocessing.sequence import pad_sequences # 시퀀스로 변환\n",
    "from tensorflow.keras.utils import to_categorical #원-핫 인코딩"
   ]
  },
  {
   "cell_type": "markdown",
   "id": "b4c66d95",
   "metadata": {},
   "source": [
    "# 코퍼스"
   ]
  },
  {
   "cell_type": "code",
   "execution_count": 4,
   "id": "3a9400d0",
   "metadata": {},
   "outputs": [],
   "source": [
    "text = \"\"\"경마장에 있는 말이 뛰고 있다\\n\n",
    "그의 말이 법이다\\n\n",
    "가는 말이 고와야 오는 말이 곱다\\n\"\"\""
   ]
  },
  {
   "cell_type": "code",
   "execution_count": 7,
   "id": "4b94af1b",
   "metadata": {},
   "outputs": [
    {
     "name": "stdout",
     "output_type": "stream",
     "text": [
      "{'말이': 1, '경마장에': 2, '있는': 3, '뛰고': 4, '있다': 5, '그의': 6, '법이다': 7, '가는': 8, '고와야': 9, '오는': 10, '곱다': 11}\n",
      "단어집합의 크기 12\n"
     ]
    }
   ],
   "source": [
    "#단어집합을 생성하고 크기를 확인\n",
    "# 1. 정수 인코딩\n",
    "tokenizer = Tokenizer()\n",
    "tokenizer.fit_on_texts([text]) #단어 집합을 생성\n",
    "print(tokenizer.word_index)\n",
    "vocab_size = len(tokenizer.word_index)+1 #패딩을 위한 0을 고려\n",
    "print('단어집합의 크기 %d' % vocab_size) "
   ]
  },
  {
   "cell_type": "markdown",
   "id": "6cdc0901",
   "metadata": {},
   "source": [
    "# 훈련데이터 생성"
   ]
  },
  {
   "cell_type": "code",
   "execution_count": 16,
   "id": "43d5d358",
   "metadata": {},
   "outputs": [
    {
     "name": "stdout",
     "output_type": "stream",
     "text": [
      "학습에 사용할 샘플의 개수: 11\n"
     ]
    }
   ],
   "source": [
    "sequences = list()\n",
    "for line in text.split('\\n'): # 줄바꿈 문자 기준으로 코퍼스 분리\n",
    "    encoded = tokenizer.texts_to_sequences([line])[0] #문장을 정수 토큰화\n",
    "    for i in range(1, len(encoded)): # 1~문장의 길이\n",
    "        sequence = encoded[:i+1]\n",
    "        sequences.append(sequence)\n",
    "\n",
    "print('학습에 사용할 샘플의 개수: %d' % len(sequences))"
   ]
  },
  {
   "cell_type": "code",
   "execution_count": 17,
   "id": "52ea91f8",
   "metadata": {},
   "outputs": [
    {
     "data": {
      "text/plain": [
       "[8, 1, 9, 10, 1, 11]"
      ]
     },
     "execution_count": 17,
     "metadata": {},
     "output_type": "execute_result"
    }
   ],
   "source": [
    "seque"
   ]
  },
  {
   "cell_type": "code",
   "execution_count": 18,
   "id": "31ac27f0",
   "metadata": {},
   "outputs": [
    {
     "data": {
      "text/plain": [
       "[[2, 3],\n",
       " [2, 3, 1],\n",
       " [2, 3, 1, 4],\n",
       " [2, 3, 1, 4, 5],\n",
       " [6, 1],\n",
       " [6, 1, 7],\n",
       " [8, 1],\n",
       " [8, 1, 9],\n",
       " [8, 1, 9, 10],\n",
       " [8, 1, 9, 10, 1],\n",
       " [8, 1, 9, 10, 1, 11]]"
      ]
     },
     "execution_count": 18,
     "metadata": {},
     "output_type": "execute_result"
    }
   ],
   "source": [
    "sequences\n",
    "#위 데이터는 레이블로 사용될 단어를 분리하지 않은 훈련데이터이다.\n",
    "#전체 훈련데이터에 대해서 맨 우측에 있는 단어만 대해서만 레이블로 븐리해야 합니다."
   ]
  },
  {
   "cell_type": "markdown",
   "id": "d86ed72a",
   "metadata": {},
   "source": [
    "# 훈련데이터 길이 맞추기"
   ]
  },
  {
   "cell_type": "code",
   "execution_count": 29,
   "id": "d539ff56",
   "metadata": {},
   "outputs": [
    {
     "name": "stdout",
     "output_type": "stream",
     "text": [
      "샘플의 최대 길이 : 6\n"
     ]
    }
   ],
   "source": [
    "max_len = max(len(l) for l in sequences) # 모든 샘플에서 길이가 가장 긴 샘플의 길이 출력\n",
    "print('샘플의 최대 길이 : {}'.format(max_len))"
   ]
  },
  {
   "cell_type": "code",
   "execution_count": 30,
   "id": "a5f5b5c8",
   "metadata": {},
   "outputs": [],
   "source": [
    "#전체 샘플의 길이를 6으로 맞춰준다.\n",
    "sequences = pad_sequences(sequences, maxlen=max_len, padding='pre')"
   ]
  },
  {
   "cell_type": "raw",
   "id": "fd59585c",
   "metadata": {},
   "source": [
    "pad_sequences()는 모든 샘플에 대해서 0을 사용하여 길이를 맞춰줍니다. maxlen의 값으로 6을 주면 모든 샘플의 길이를 6으로 맞춰주며, padding의 인자로 'pre'를 주면 길이가 6보다 짧은 샘플의 앞에 0으로 채웁니다. 전체 훈련 데이터를 출력해봅니다."
   ]
  },
  {
   "cell_type": "code",
   "execution_count": 31,
   "id": "f6a1b97a",
   "metadata": {},
   "outputs": [
    {
     "data": {
      "text/plain": [
       "array([[ 0,  0,  0,  0,  2,  3],\n",
       "       [ 0,  0,  0,  2,  3,  1],\n",
       "       [ 0,  0,  2,  3,  1,  4],\n",
       "       [ 0,  2,  3,  1,  4,  5],\n",
       "       [ 0,  0,  0,  0,  6,  1],\n",
       "       [ 0,  0,  0,  6,  1,  7],\n",
       "       [ 0,  0,  0,  0,  8,  1],\n",
       "       [ 0,  0,  0,  8,  1,  9],\n",
       "       [ 0,  0,  8,  1,  9, 10],\n",
       "       [ 0,  8,  1,  9, 10,  1],\n",
       "       [ 8,  1,  9, 10,  1, 11]])"
      ]
     },
     "execution_count": 31,
     "metadata": {},
     "output_type": "execute_result"
    }
   ],
   "source": [
    "sequences"
   ]
  },
  {
   "cell_type": "markdown",
   "id": "9f46968b",
   "metadata": {},
   "source": [
    "# 각 샘플의 마지막 단어를 레이블로 분리"
   ]
  },
  {
   "cell_type": "code",
   "execution_count": 33,
   "id": "66c7527b",
   "metadata": {},
   "outputs": [
    {
     "data": {
      "text/plain": [
       "array([[ 0,  0,  0,  0,  2,  3],\n",
       "       [ 0,  0,  0,  2,  3,  1],\n",
       "       [ 0,  0,  2,  3,  1,  4],\n",
       "       [ 0,  2,  3,  1,  4,  5],\n",
       "       [ 0,  0,  0,  0,  6,  1],\n",
       "       [ 0,  0,  0,  6,  1,  7],\n",
       "       [ 0,  0,  0,  0,  8,  1],\n",
       "       [ 0,  0,  0,  8,  1,  9],\n",
       "       [ 0,  0,  8,  1,  9, 10],\n",
       "       [ 0,  8,  1,  9, 10,  1],\n",
       "       [ 8,  1,  9, 10,  1, 11]])"
      ]
     },
     "execution_count": 33,
     "metadata": {},
     "output_type": "execute_result"
    }
   ],
   "source": [
    "#레이블븐리는 Numpy를 사용해서 가능\n",
    "import numpy as np\n",
    "np.array(sequences)"
   ]
  },
  {
   "cell_type": "code",
   "execution_count": null,
   "id": "e84b382f",
   "metadata": {},
   "outputs": [],
   "source": []
  }
 ],
 "metadata": {
  "kernelspec": {
   "display_name": "Python 3 (ipykernel)",
   "language": "python",
   "name": "python3"
  },
  "language_info": {
   "codemirror_mode": {
    "name": "ipython",
    "version": 3
   },
   "file_extension": ".py",
   "mimetype": "text/x-python",
   "name": "python",
   "nbconvert_exporter": "python",
   "pygments_lexer": "ipython3",
   "version": "3.9.12"
  }
 },
 "nbformat": 4,
 "nbformat_minor": 5
}
