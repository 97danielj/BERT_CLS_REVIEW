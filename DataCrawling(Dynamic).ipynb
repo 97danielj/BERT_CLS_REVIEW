{
 "cells": [
  {
   "cell_type": "code",
   "execution_count": 1,
   "id": "bb29fb53",
   "metadata": {},
   "outputs": [],
   "source": [
    "import time\n",
    "from selenium import webdriver\n",
    "from selenium.webdriver.common.keys import Keys\n",
    "from selenium.webdriver.common.by import By\n",
    "from selenium.webdriver.support.ui import WebDriverWait\n",
    "from selenium.webdriver.support import expected_conditions as EC\n",
    "from time import sleep\n",
    "from bs4 import BeautifulSoup\n",
    "import re\n",
    "import json\n",
    "WAIT = 3\n",
    "#options = webdriver.ChromeOptions()\n",
    "#options.add_argument('headless')"
   ]
  },
  {
   "cell_type": "raw",
   "id": "657c9b5d",
   "metadata": {},
   "source": [
    "1. time_wait(num, code, driver) : driver에서 code를 존재를 찾기까지 num times 대기한다.\n",
    "2. find_search_input(key_word,driver) : driver에서 input_box의 위치를 찾고 key_word를 입력한다.\n",
    "3. switch_frame(frame,driver) : driver의 iframe을 변경시킨다.\n",
    "4. page_down(num,driver) : driver의 num횟수 만큼 page_down을 시킨다.\n",
    "5. page_end(driver) : driver의 page_end키를 보낸다.\n",
    "6. find_review_btn(driver) : 페이지의 '리뷰' 버튼을 찾는다.\n",
    "7. crawling_menu_review(driver) : 메뉴리스트와 방문자 리뷰를 크롤링해온다.\n",
    "8. crawling(driver, i, store_elements,review_dic) : 전체 크롤링을 담당한다. 매장명, 위치, 평점, 리뷰를 크롤링\n",
    "9. review_crawling(key_word, page_num) : 메인 함수, key_word를 검색창에 입력하고, page_num 페이지에서 store_list를 순회한다."
   ]
  },
  {
   "cell_type": "code",
   "execution_count": 2,
   "id": "a91b5db5",
   "metadata": {},
   "outputs": [],
   "source": [
    "# css 찾을때 까지 10초대기\n",
    "def time_wait(num, code,driver):\n",
    "    try:\n",
    "        wait = WebDriverWait(driver, num).until(\n",
    "            EC.presence_of_element_located((By.CSS_SELECTOR, code)))\n",
    "    except:\n",
    "        print(code, '태그를 찾지 못하였습니다.')\n",
    "        driver.quit()\n",
    "    return wait"
   ]
  },
  {
   "cell_type": "code",
   "execution_count": 3,
   "id": "c95a1464",
   "metadata": {},
   "outputs": [],
   "source": [
    "def find_search_input(key_word,driver):\n",
    "    # 검색창 찾기\n",
    "    driver.switch_to.default_content()\n",
    "    time_wait(2, 'div.input_box > input.input_search',driver)\n",
    "    search = driver.find_element(By.CSS_SELECTOR,'div.input_box > input.input_search')\n",
    "    search.send_keys(key_word)  # 검색어 입력\n",
    "    driver.implicitly_wait(3)\n",
    "    search.send_keys(Keys.ENTER)  # 엔터버튼 누르기\n",
    "    sleep(5)\n",
    "    res = driver.page_source  # 페이지 소스 가져오기\n",
    "    soup = BeautifulSoup(res, 'html.parser')  # html 파싱하여  가져온다\n",
    "    sleep(1)"
   ]
  },
  {
   "cell_type": "code",
   "execution_count": 4,
   "id": "073ad907",
   "metadata": {},
   "outputs": [],
   "source": [
    "# frame 변경 메소드\n",
    "def switch_frame(frame,driver):\n",
    "    driver.switch_to.default_content()  # frame 초기화\n",
    "    driver.switch_to.frame(frame)  # frame 변경\n",
    "    driver.implicitly_wait(1)\n"
   ]
  },
  {
   "cell_type": "code",
   "execution_count": 5,
   "id": "c2e69fce",
   "metadata": {},
   "outputs": [],
   "source": [
    "# 페이지 다운\n",
    "def page_down(num,driver):\n",
    "    body = driver.find_element(By.CSS_SELECTOR,'body')\n",
    "    body.click()\n",
    "    for i in range(num):\n",
    "        body.send_keys(Keys.PAGE_DOWN)"
   ]
  },
  {
   "cell_type": "code",
   "execution_count": 6,
   "id": "0e1a54c0",
   "metadata": {},
   "outputs": [],
   "source": [
    "# 페이지 다운\n",
    "def page_down(num,driver):\n",
    "    body = driver.find_element(By.CSS_SELECTOR,'body')\n",
    "    body.click()\n",
    "    for i in range(num):\n",
    "        body.send_keys(Keys.PAGE_DOWN)"
   ]
  },
  {
   "cell_type": "code",
   "execution_count": 7,
   "id": "d7e1cdd5",
   "metadata": {},
   "outputs": [],
   "source": [
    "def find_review_btn(driver):\n",
    "    sleep(2)\n",
    "    try:\n",
    "        menu_list = driver.find_elements(By.CSS_SELECTOR,'a.tpj9w')\n",
    "        if len(menu_list) ==7:\n",
    "            return menu_list[-1]\n",
    "        else:\n",
    "            return menu_list[-2]\n",
    "    except:\n",
    "        print('리뷰가 존재하지 않습니다.')"
   ]
  },
  {
   "cell_type": "markdown",
   "id": "bce07aa1",
   "metadata": {},
   "source": [
    "# 메뉴&리뷰 크롤링 함수"
   ]
  },
  {
   "cell_type": "code",
   "execution_count": 8,
   "id": "de545021",
   "metadata": {},
   "outputs": [],
   "source": [
    "def crawling_menu_review(driver):\n",
    "    #-----리뷰 버튼 클릭-------\n",
    "    find_review_btn(driver).click()\n",
    "    SCROLL_PAUSE_SEC = 1\n",
    "    sleep(1)\n",
    "    page_down(1,driver)\n",
    "    driver.implicitly_wait(WAIT)\n",
    "    #----------------메뉴, 크롤링 블록----------------\n",
    "    menu_list = list()\n",
    "    review_list = list()\n",
    "    try:\n",
    "        # --------------메뉴 크롤링 블록--------------------------\n",
    "        try :\n",
    "            #메뉴 요소 찾기\n",
    "            menu_elements  = driver.find_elements(By.CSS_SELECTOR,'div.place_fixed_subtab > div > div:nth-child(1) > div > div > div > span > a > span:first-child')\n",
    "            sleep(SCROLL_PAUSE_SEC)\n",
    "            driver.implicitly_wait(WAIT)\n",
    "            try:\n",
    "                #왼쪽 버튼 찾기\n",
    "                left_btn = driver.find_element(By.CSS_SELECTOR,'a.PznE8.aNw43')\n",
    "                driver.implicitly_wait(WAIT)\n",
    "                left_btn.click()\n",
    "                driver.implicitly_wait(WAIT)\n",
    "            except:\n",
    "                pass\n",
    "\n",
    "            try:\n",
    "                #오른족 버튼 찾기\n",
    "                right_btn = driver.find_element(By.CSS_SELECTOR, 'div.place_fixed_subtab > div > div:nth-child(1) > div > div > a.ZCqf_.aNw43')\n",
    "                driver.implicitly_wait(WAIT)\n",
    "            except:\n",
    "                pass\n",
    "            #-----------여기까지-----------\n",
    "            i = 0\n",
    "            # menu_elentents가 존재하지 않는다면 except로 갈 것이다.\n",
    "            try: \n",
    "                while True:\n",
    "                    if menu_elements[i].text != '': #요소가 존재하고 메뉴 텍스트도 보일때\n",
    "                        menu_list.append(menu_elements[i].text)\n",
    "                        if i == len(menu_elements)-1: # 메뉴 리스트 길이면 나온나\n",
    "                            break\n",
    "                        i+=1\n",
    "                    else:\n",
    "                        right_btn.click()\n",
    "                        sleep(SCROLL_PAUSE_SEC)\n",
    "                        driver.implicitly_wait(WAIT)\n",
    "            except:\n",
    "                pass\n",
    "\n",
    "            #last_scroll = driver.execute_script(\"return document.body.scrollHeight\")\n",
    "            #view_more_count = 0\n",
    "\n",
    "        except:\n",
    "            pass\n",
    "\n",
    "        # --------------리뷰 크롤링 블록--------------------------\n",
    "        try:\n",
    "            while True:\n",
    "                driver.execute_script(\"window.scrollTo(0, document.body.scrollHeight);\")\n",
    "                sleep(1)\n",
    "                driver.implicitly_wait(SCROLL_PAUSE_SEC)\n",
    "\n",
    "                #if view_more_count ==19:\n",
    "                    #break\n",
    "                try :\n",
    "                    #더보기 버튼 클릭\n",
    "                    driver.implicitly_wait(WAIT)\n",
    "                    driver.find_element(By.CSS_SELECTOR,'a.fvwqf').click()\n",
    "                    #view_more_count += 1\n",
    "\n",
    "                except:\n",
    "                    #더보기 버튼이 없다면 while문을 빠져나온다.\n",
    "                    break\n",
    "                    # 끝까지 스크롤 다운\n",
    "\n",
    "                #new_scroll = driver.execute_script(\"return document.body.scrollHeight\")\n",
    "                #driver.implicitly_wait(WAIT)\n",
    "                #if last_scroll == new_scroll:\n",
    "                #    break\n",
    "                #else:\n",
    "                #    last_scroll= new_scroll\n",
    "\n",
    "            driver.execute_script(\"window.scrollTo(0, document.body.scrollHeight);\")\n",
    "\n",
    "            #가게 리스트 마다 방문자 리뷰 가져오기\n",
    "            review_elements = driver.find_elements(By.CSS_SELECTOR,\"span.zPfVt\")\n",
    "            for i in review_elements:\n",
    "                review_list.append(i.text)\n",
    "        except:\n",
    "            pass\n",
    "    \n",
    "    except:\n",
    "        pass\n",
    "    \n",
    "    return menu_list, review_list"
   ]
  },
  {
   "cell_type": "markdown",
   "id": "41f80faf",
   "metadata": {},
   "source": [
    "# 전체 크롤링 함수"
   ]
  },
  {
   "cell_type": "code",
   "execution_count": 52,
   "id": "d4d25d8e",
   "metadata": {},
   "outputs": [],
   "source": [
    "def crawling(driver, i, store_elements,review_dic):\n",
    "    driver.implicitly_wait(1)\n",
    "    store_elements[i].click() #li의 스토어를 클릭\n",
    "    driver.implicitly_wait(WAIT) # 2초 휴식\n",
    "    try:\n",
    "        #다른 iframe으로 변경\n",
    "        switch_frame('entryIframe',driver)\n",
    "        time_wait(2, '.Fc1rA',driver)\n",
    "\n",
    "        # -----매장명 가져오기-----\n",
    "        store_name = driver.find_element(By.CSS_SELECTOR,'.Fc1rA').text\n",
    "        driver.implicitly_wait(2)\n",
    "        review_dic[store_name] = dict()\n",
    "        \n",
    "        # -----평점 가져오기-----\n",
    "        try :\n",
    "            rank = driver.find_element(By.CSS_SELECTOR,'div.zD5Nm.f7aZ0 > div.dAsGb > span.PXMot.LXIwF > em')\n",
    "            driver.implicitly_wait(WAIT)\n",
    "            review_dic[store_name]['rank'] = rank.text\n",
    "        except:\n",
    "            pass\n",
    "\n",
    "        # -----위치 가져오기-----\n",
    "        try : \n",
    "            location = driver.find_element(By.CSS_SELECTOR, 'span.IH7VW').text\n",
    "            driver.implicitly_wait(WAIT)\n",
    "            review_dic[store_name]['location'] = location\n",
    "        except:\n",
    "            pass\n",
    "        \n",
    "        \n",
    "        #---------------문제--------------\n",
    "        memu_list, review_list = crawling_menu_review(driver)\n",
    "        \n",
    "        # 메뉴 크롤링\n",
    "        review_dic[store_name]['menu'] = menu_list\n",
    "        \n",
    "        # 방문자 리뷰 크롤링\n",
    "        review_dic[store_name]['review'] = review_list\n",
    "        driver.implicitly_wait(WAIT)\n",
    "        \n",
    "    except:\n",
    "        pass\n",
    "    \n",
    "    memu_list, review_list = crawling_menu_review(driver)\n",
    "        \n",
    "    # 메뉴 크롤링\n",
    "    review_dic[store_name]['menu'] = memu_list\n",
    "\n",
    "    # 방문자 리뷰 크롤링\n",
    "    review_dic[store_name]['review'] = review_list\n",
    "    driver.implicitly_wait(WAIT)\n",
    "    \n",
    "    return store_name"
   ]
  },
  {
   "cell_type": "markdown",
   "id": "d630c78b",
   "metadata": {},
   "source": [
    "# 메인 함수"
   ]
  },
  {
   "cell_type": "code",
   "execution_count": 53,
   "id": "2409c39f",
   "metadata": {},
   "outputs": [],
   "source": [
    "def main(key_word, page_num):\n",
    "    review_dic = dict()\n",
    "    page_num = page_num-1\n",
    "    refresh_count = 0\n",
    "    \n",
    "    url = 'https://map.naver.com/v5/search'\n",
    "    driver = webdriver.Chrome('./chromedriver')\n",
    "    driver.get(url)\n",
    "    driver.implicitly_wait(2)\n",
    "\n",
    "    # 검색어 입력\n",
    "    find_search_input(key_word,driver=driver)\n",
    "    driver.implicitly_wait(2)\n",
    "\n",
    "    #프레임 변경\n",
    "    switch_frame('searchIframe',driver)\n",
    "    driver.implicitly_wait(WAIT)\n",
    "\n",
    "    # 페이지 버튼 찾기\n",
    "    pages = driver.find_elements(By.CSS_SELECTOR,'a.mBN2s')\n",
    "    if page_num <= 5:\n",
    "        pages[page_num].click()\n",
    "        driver.implicitly_wait(WAIT)\n",
    "    else:\n",
    "        driver.find_elements(By.CSS_SELECTOR,'div.zRM9F > a:nth-child(6)').click()\n",
    "        driver.implicitly_wait(WAIT)\n",
    "        driver.find_element(By.CSS_SELECTOR, 'div.zRM9F > a:nth-child(6)').click()\n",
    "        driver.implicitly_wait(WAIT)\n",
    "\n",
    "    driver.implicitly_wait(WAIT)\n",
    "    page_down(40,driver)\n",
    "    sleep(1)\n",
    "    driver.implicitly_wait(1)\n",
    "    page_down(5,driver)\n",
    "    sleep(2)\n",
    "    driver.execute_script(\"window.scrollTo(0, 0);\")\n",
    "    sleep(2)\n",
    "    store_elements = driver.find_elements(By.CSS_SELECTOR,'div.ouxiq.icT4K > a:nth-child(1)')\n",
    "    print('total store_list : ', len(store_elements)) #매장리스트 접근\n",
    "    # 체크포인트\n",
    "    ck_pt_idx = 0\n",
    "    \n",
    "    while True:\n",
    "        while True:\n",
    "            try: #이상한 오류가 뜰경우 현재위치 까지 저장 하고, 크롤링 인덱스 반환\n",
    "                store_name = crawling(driver, ck_pt_idx, store_elements, review_dic)\n",
    "                print('현재 크롤링 중인 매장 인덱스와 매장명 : ', ck_pt_idx, store_name)\n",
    "                ck_pt_idx +=1\n",
    "                switch_frame('searchIframe',driver)\n",
    "\n",
    "                #한 refresh를 벗어나는 조건문\n",
    "                if len(review_dic[store_name]['review']) >= 500:\n",
    "                    break\n",
    "            except:\n",
    "                # json 파일로 저장\n",
    "                with open(f'./naver/naver_{key_word}_review_dic_page{page_num+1}.json', 'w', encoding='utf-8') as f:\n",
    "                    json.dump(review_dic, f, indent=4, ensure_ascii=False) \n",
    "                return ck_pt_idx\n",
    "                    \n",
    "        \n",
    "        # 페이지의 크롤링을 나오는 조건문\n",
    "        if ck_pt_idx == len(store_elements)-1:\n",
    "            break\n",
    "            \n",
    "        driver.refresh()\n",
    "        driver.implicitly_wait(1)\n",
    "        switch_frame('searchIframe',driver)\n",
    "        sleep(0.5)\n",
    "        page_down(40,driver)\n",
    "        sleep(1)\n",
    "        driver.implicitly_wait(1)\n",
    "        page_down(5,driver)\n",
    "        sleep(2)\n",
    "        store_elements = driver.find_elements(By.CSS_SELECTOR,'div.ouxiq.icT4K > a:nth-child(1)')\n",
    "        \n",
    "        \n",
    "        \n",
    "\n",
    "    # json 파일로 저장\n",
    "    with open(f'./Crawling2/naver_{key_word}_review_dic_page{page_num+1}.json', 'w', encoding='utf-8') as f:\n",
    "        json.dump(review_dic, f, indent=4, ensure_ascii=False)        \n",
    "    "
   ]
  },
  {
   "cell_type": "raw",
   "id": "a06adef2",
   "metadata": {},
   "source": [
    "동적 refresh() 함수\n",
    "\n",
    "리뷰가 500개 이상의 매장을 크롤링하면 다음 매장의 인덱스를 저장한 다음, refresh()를 주어 해당 인덱스부터 다시 크롤링\n",
    "==> response 중단 방지\n",
    "\n",
    "내부 반복문 => 각 매장 리스트를 돌아야한다."
   ]
  },
  {
   "cell_type": "code",
   "execution_count": 54,
   "id": "4c0691f3",
   "metadata": {},
   "outputs": [
    {
     "name": "stderr",
     "output_type": "stream",
     "text": [
      "C:\\Users\\JSWonner\\AppData\\Local\\Temp\\ipykernel_8592\\847684578.py:7: DeprecationWarning: executable_path has been deprecated, please pass in a Service object\n",
      "  driver = webdriver.Chrome('./chromedriver')\n"
     ]
    },
    {
     "name": "stdout",
     "output_type": "stream",
     "text": [
      "total store_list :  44\n",
      "현재 크롤링 중인 매장 인덱스와 매장명 :  0 떡바우횟집\n",
      "현재 크롤링 중인 매장 인덱스와 매장명 :  1 웰컴도매횟집\n",
      "현재 크롤링 중인 매장 인덱스와 매장명 :  2 일차로물회\n",
      "현재 크롤링 중인 매장 인덱스와 매장명 :  3 떡바우횟집\n",
      "현재 크롤링 중인 매장 인덱스와 매장명 :  4 동남횟집\n",
      "현재 크롤링 중인 매장 인덱스와 매장명 :  5 경북횟집\n",
      "현재 크롤링 중인 매장 인덱스와 매장명 :  6 김대통의대통물회&횟집\n",
      "현재 크롤링 중인 매장 인덱스와 매장명 :  7 삼천포횟집\n",
      "현재 크롤링 중인 매장 인덱스와 매장명 :  8 육일횟집\n",
      "현재 크롤링 중인 매장 인덱스와 매장명 :  9 뽀빠이물회\n",
      "현재 크롤링 중인 매장 인덱스와 매장명 :  10 대복횟집\n",
      "현재 크롤링 중인 매장 인덱스와 매장명 :  11 강동회수산\n",
      "현재 크롤링 중인 매장 인덱스와 매장명 :  12 독도참가자미\n",
      "현재 크롤링 중인 매장 인덱스와 매장명 :  13 삼태육경 회 타운\n",
      "현재 크롤링 중인 매장 인덱스와 매장명 :  14 만원의행복횟집\n",
      "현재 크롤링 중인 매장 인덱스와 매장명 :  15 송가정횟집\n",
      "현재 크롤링 중인 매장 인덱스와 매장명 :  16 뱃고동횟집\n",
      "현재 크롤링 중인 매장 인덱스와 매장명 :  17 금바다횟집\n",
      "현재 크롤링 중인 매장 인덱스와 매장명 :  18 진주횟집\n",
      "현재 크롤링 중인 매장 인덱스와 매장명 :  19 금광횟집\n",
      "현재 크롤링 중인 매장 인덱스와 매장명 :  20 신명횟집\n",
      "현재 크롤링 중인 매장 인덱스와 매장명 :  21 떡바우횟집\n",
      "현재 크롤링 중인 매장 인덱스와 매장명 :  22 야무야무\n",
      "현재 크롤링 중인 매장 인덱스와 매장명 :  23 방어진정자횟집\n",
      "현재 크롤링 중인 매장 인덱스와 매장명 :  24 해강횟집\n",
      "현재 크롤링 중인 매장 인덱스와 매장명 :  25 대게신도시횟집\n",
      "현재 크롤링 중인 매장 인덱스와 매장명 :  26 장원횟집\n",
      "현재 크롤링 중인 매장 인덱스와 매장명 :  27 진하자연산횟집\n",
      "현재 크롤링 중인 매장 인덱스와 매장명 :  28 남일횟집\n",
      "현재 크롤링 중인 매장 인덱스와 매장명 :  29 갯바위횟집\n",
      "현재 크롤링 중인 매장 인덱스와 매장명 :  30 해강횟집\n",
      "현재 크롤링 중인 매장 인덱스와 매장명 :  31 바닷가횟집\n",
      "현재 크롤링 중인 매장 인덱스와 매장명 :  32 미미정횟집고래고기\n",
      "현재 크롤링 중인 매장 인덱스와 매장명 :  33 청파\n",
      "현재 크롤링 중인 매장 인덱스와 매장명 :  34 일월횟집\n",
      "현재 크롤링 중인 매장 인덱스와 매장명 :  35 대어횟집\n",
      "현재 크롤링 중인 매장 인덱스와 매장명 :  36 후포미송\n",
      "현재 크롤링 중인 매장 인덱스와 매장명 :  37 섬뜰\n",
      "현재 크롤링 중인 매장 인덱스와 매장명 :  38 부산횟집\n",
      "현재 크롤링 중인 매장 인덱스와 매장명 :  39 수암사랑도횟집\n",
      "현재 크롤링 중인 매장 인덱스와 매장명 :  40 한양횟집\n",
      "현재 크롤링 중인 매장 인덱스와 매장명 :  41 동남물회\n"
     ]
    },
    {
     "data": {
      "text/plain": [
       "42"
      ]
     },
     "execution_count": 54,
     "metadata": {},
     "output_type": "execute_result"
    }
   ],
   "source": [
    "main('울산 횟집', 1)"
   ]
  },
  {
   "cell_type": "code",
   "execution_count": 55,
   "id": "d516a071",
   "metadata": {},
   "outputs": [
    {
     "data": {
      "text/plain": [
       "39"
      ]
     },
     "execution_count": 55,
     "metadata": {},
     "output_type": "execute_result"
    }
   ],
   "source": [
    "with open('./naver/naver_울산 횟집_review_dic_page1.json', encoding='utf-8') as f:\n",
    "    ex = json.load(f)\n",
    "len(ex)"
   ]
  },
  {
   "cell_type": "code",
   "execution_count": 56,
   "id": "03bfbe51",
   "metadata": {},
   "outputs": [
    {
     "data": {
      "text/plain": [
       "dict_keys(['떡바우횟집', '웰컴도매횟집', '일차로물회', '동남횟집', '경북횟집', '김대통의대통물회&횟집', '삼천포횟집', '육일횟집', '뽀빠이물회', '대복횟집', '강동회수산', '독도참가자미', '삼태육경 회 타운', '만원의행복횟집', '송가정횟집', '뱃고동횟집', '금바다횟집', '진주횟집', '금광횟집', '신명횟집', '야무야무', '방어진정자횟집', '해강횟집', '대게신도시횟집', '장원횟집', '진하자연산횟집', '남일횟집', '갯바위횟집', '바닷가횟집', '미미정횟집고래고기', '청파', '일월횟집', '대어횟집', '후포미송', '섬뜰', '부산횟집', '수암사랑도횟집', '한양횟집', '동남물회'])"
      ]
     },
     "execution_count": 56,
     "metadata": {},
     "output_type": "execute_result"
    }
   ],
   "source": [
    "ex.keys()"
   ]
  },
  {
   "cell_type": "code",
   "execution_count": 38,
   "id": "f5897382",
   "metadata": {},
   "outputs": [
    {
     "name": "stderr",
     "output_type": "stream",
     "text": [
      "C:\\Users\\JSWonner\\AppData\\Local\\Temp\\ipykernel_8592\\2411810518.py:7: DeprecationWarning: executable_path has been deprecated, please pass in a Service object\n",
      "  driver = webdriver.Chrome('./chromedriver')\n"
     ]
    },
    {
     "name": "stdout",
     "output_type": "stream",
     "text": [
      "total store_list :  44\n"
     ]
    }
   ],
   "source": [
    "review_dic = dict()\n",
    "key_word = '울산 횟집'\n",
    "page_num  = 0\n",
    "refresh_count = 0\n",
    "\n",
    "url = 'https://map.naver.com/v5/search'\n",
    "driver = webdriver.Chrome('./chromedriver')\n",
    "driver.get(url)\n",
    "driver.implicitly_wait(2)\n",
    "\n",
    "# 검색어 입력\n",
    "find_search_input(key_word,driver=driver)\n",
    "driver.implicitly_wait(2)\n",
    "\n",
    "#프레임 변경\n",
    "switch_frame('searchIframe',driver)\n",
    "driver.implicitly_wait(WAIT)\n",
    "\n",
    "# 페이지 버튼 찾기\n",
    "pages = driver.find_elements(By.CSS_SELECTOR,'a.mBN2s')\n",
    "if page_num <= 5:\n",
    "    pages[page_num].click()\n",
    "    driver.implicitly_wait(WAIT)\n",
    "else:\n",
    "    driver.find_elements(By.CSS_SELECTOR,'div.zRM9F > a:nth-child(6)').click()\n",
    "    driver.implicitly_wait(WAIT)\n",
    "    driver.find_element(By.CSS_SELECTOR, 'div.zRM9F > a:nth-child(6)').click()\n",
    "    driver.implicitly_wait(WAIT)\n",
    "\n",
    "driver.implicitly_wait(WAIT)\n",
    "page_down(40,driver)\n",
    "sleep(1)\n",
    "driver.implicitly_wait(1)\n",
    "page_down(5,driver)\n",
    "sleep(2)\n",
    "driver.execute_script(\"window.scrollTo(0, 0);\")\n",
    "driver.implicitly_wait(WAIT)\n",
    "store_elements = driver.find_elements(By.CSS_SELECTOR,'div.ouxiq.icT4K > a:nth-child(1)')\n",
    "print('total store_list : ', len(store_elements)) #매장리스트 접근\n",
    "# 체크포인트"
   ]
  },
  {
   "cell_type": "code",
   "execution_count": 39,
   "id": "9c214a78",
   "metadata": {},
   "outputs": [],
   "source": [
    "switch_frame('searchIframe',driver)"
   ]
  },
  {
   "cell_type": "code",
   "execution_count": 40,
   "id": "5b29ba43",
   "metadata": {},
   "outputs": [],
   "source": [
    "store_name = crawling(driver, 43, store_elements, review_dic)"
   ]
  },
  {
   "cell_type": "code",
   "execution_count": 42,
   "id": "97679682",
   "metadata": {},
   "outputs": [
    {
     "data": {
      "text/plain": [
       "'동화회시장'"
      ]
     },
     "execution_count": 42,
     "metadata": {},
     "output_type": "execute_result"
    }
   ],
   "source": [
    "store_name"
   ]
  },
  {
   "cell_type": "code",
   "execution_count": 44,
   "id": "7630cb57",
   "metadata": {},
   "outputs": [],
   "source": [
    "driver.refresh()"
   ]
  },
  {
   "cell_type": "code",
   "execution_count": 45,
   "id": "6cf8618f",
   "metadata": {},
   "outputs": [],
   "source": [
    "switch_frame('searchIframe',driver)"
   ]
  },
  {
   "cell_type": "code",
   "execution_count": 47,
   "id": "0cd93a7a",
   "metadata": {},
   "outputs": [],
   "source": [
    "page_down(40,driver)"
   ]
  },
  {
   "cell_type": "code",
   "execution_count": 26,
   "id": "b1c9d9b8",
   "metadata": {},
   "outputs": [],
   "source": [
    "store_elements = driver.find_elements(By.CSS_SELECTOR,'div.ouxiq.icT4K > a:nth-child(1)')"
   ]
  },
  {
   "cell_type": "code",
   "execution_count": 28,
   "id": "a90baf88",
   "metadata": {},
   "outputs": [],
   "source": [
    "store_name = crawling(driver, 40, store_elements, review_dic)"
   ]
  },
  {
   "cell_type": "code",
   "execution_count": 29,
   "id": "449890d6",
   "metadata": {},
   "outputs": [
    {
     "data": {
      "text/plain": [
       "'수암사랑도횟집'"
      ]
     },
     "execution_count": 29,
     "metadata": {},
     "output_type": "execute_result"
    }
   ],
   "source": [
    "store_name"
   ]
  },
  {
   "cell_type": "code",
   "execution_count": null,
   "id": "9b510c42",
   "metadata": {},
   "outputs": [],
   "source": [
    "crawling(driver, 4, store_elements, review_dic)"
   ]
  },
  {
   "cell_type": "code",
   "execution_count": 30,
   "id": "6e3695bb",
   "metadata": {},
   "outputs": [
    {
     "data": {
      "text/plain": [
       "{'떡바우횟집': {'rank': '4.41',\n",
       "  'location': '울산 울주군 서생면 신암해안길 13 2층',\n",
       "  'menu': ['물회', '매운탕', '밥집', '회덮밥', '농어', '광어'],\n",
       "  'review': ['음식이 간결하고 맛있네요 ^^',\n",
       "   '울산여행왔다가 근처 밥집찾아서 갔는데 넘 맛있게\\n잘먹었어요~ 물회👍🏻👍🏻',\n",
       "   '오랫만에 방문했는데 맛있게 잘 먹었습니다~',\n",
       "   '물회 최고',\n",
       "   '매운탕은 비리네요\\n회덮밥은 먹을만해요',\n",
       "   '친절하고 좋아요 ^^',\n",
       "   '굿',\n",
       "   '맛있어요',\n",
       "   '굿',\n",
       "   '맛있네요',\n",
       "   '맛있네요',\n",
       "   '신선합니다',\n",
       "   '좋아요~',\n",
       "   '좋음',\n",
       "   '회가 신선합니다.',\n",
       "   '가끔 가는곳',\n",
       "   '맛있어요',\n",
       "   '회 ㅡㅡ굿입니다 일하시는분들 모두친절하시구요',\n",
       "   '굿',\n",
       "   '가성비좋음',\n",
       "   '횟밥 가성비 최고 추천',\n",
       "   '알고 있는 맛',\n",
       "   '굿',\n",
       "   '농어랑 광어 포장해와서 맛있게 잘 먹었네요.\\n농어도 광어도 맛 좋드라구요!!',\n",
       "   '굿',\n",
       "   '맛있어요',\n",
       "   '맛있어요!',\n",
       "   '😀😀😀😀😀',\n",
       "   '좋아요',\n",
       "   '맛있어요\\n횟밥시키면 매운탕 도 같이 줘요!!!',\n",
       "   '',\n",
       "   'ㆍ',\n",
       "   '회 굳']},\n",
       " '동화회시장': {'rank': '4.44',\n",
       "  'location': '울산 남구 중앙로44번길 11',\n",
       "  'menu': [],\n",
       "  'review': ['오랜만에 방문 \\n맛있게 잘 먹었어요',\n",
       "   '주차장이없어서 아쉽지만 맛잇게 잘먹음',\n",
       "   '좋아요',\n",
       "   '동네 횟집\\n룸이 있어 모임하기 좋아요.',\n",
       "   '가족모임있었는데 음식 맛있고 아이 있으니 계란찜등 아이가 먹을 만한 음식도 빨리 챙겨주셔서 좋았어요',\n",
       "   'ㅇ',\n",
       "   '좋아요',\n",
       "   '첫방문인데 아주 만족스럽네요. 재방문의사 있습니다. 번창하십시요',\n",
       "   '최고체고',\n",
       "   '좋아요',\n",
       "   '맛나게 먹고 왔어요',\n",
       "   '맛납니다 \\n\\n회 맛잇어요',\n",
       "   '항상친절하고 너무만족합니다.',\n",
       "   '어버이날 맞아서 부모님 모시고 갔습니다. 반찬도 깔 끔하고 회부터 매운탕까지 다 맛있었으며, 위생적이 어서 좋았습니다. 부모님이 자주 가시는 곳이...',\n",
       "   '오랜만에 먹은 회~~\\n맛있었어요👍',\n",
       "   '굿',\n",
       "   '싱싱한 회가 넘 맛있고 가격도 비싸지 않고 좋아요',\n",
       "   '좋아오',\n",
       "   '맛나요',\n",
       "   '굿',\n",
       "   '좋아요',\n",
       "   '굿',\n",
       "   '좋아요',\n",
       "   '굿',\n",
       "   '좋아요.',\n",
       "   '굿',\n",
       "   '굿',\n",
       "   '좋아요']},\n",
       " '수암사랑도횟집': {'rank': '4.12',\n",
       "  'location': '울산 남구 중앙로44번길 11',\n",
       "  'menu': [],\n",
       "  'review': ['오랜만에 방문 \\n맛있게 잘 먹었어요',\n",
       "   '주차장이없어서 아쉽지만 맛잇게 잘먹음',\n",
       "   '좋아요',\n",
       "   '동네 횟집\\n룸이 있어 모임하기 좋아요.',\n",
       "   '가족모임있었는데 음식 맛있고 아이 있으니 계란찜등 아이가 먹을 만한 음식도 빨리 챙겨주셔서 좋았어요',\n",
       "   'ㅇ',\n",
       "   '좋아요',\n",
       "   '첫방문인데 아주 만족스럽네요. 재방문의사 있습니다. 번창하십시요',\n",
       "   '최고체고',\n",
       "   '좋아요',\n",
       "   '맛나게 먹고 왔어요',\n",
       "   '맛납니다 \\n\\n회 맛잇어요',\n",
       "   '항상친절하고 너무만족합니다.',\n",
       "   '어버이날 맞아서 부모님 모시고 갔습니다. 반찬도 깔 끔하고 회부터 매운탕까지 다 맛있었으며, 위생적이 어서 좋았습니다. 부모님이 자주 가시는 곳이...',\n",
       "   '오랜만에 먹은 회~~\\n맛있었어요👍',\n",
       "   '굿',\n",
       "   '싱싱한 회가 넘 맛있고 가격도 비싸지 않고 좋아요',\n",
       "   '좋아오',\n",
       "   '맛나요',\n",
       "   '굿',\n",
       "   '좋아요',\n",
       "   '굿',\n",
       "   '좋아요',\n",
       "   '굿',\n",
       "   '좋아요.',\n",
       "   '굿',\n",
       "   '굿',\n",
       "   '좋아요']}}"
      ]
     },
     "execution_count": 30,
     "metadata": {},
     "output_type": "execute_result"
    }
   ],
   "source": [
    "review_dic"
   ]
  },
  {
   "cell_type": "code",
   "execution_count": 32,
   "id": "58a34d2e",
   "metadata": {},
   "outputs": [],
   "source": [
    "del review_dic"
   ]
  },
  {
   "cell_type": "code",
   "execution_count": null,
   "id": "def4addd",
   "metadata": {},
   "outputs": [],
   "source": []
  }
 ],
 "metadata": {
  "kernelspec": {
   "display_name": "Python 3 (ipykernel)",
   "language": "python",
   "name": "python3"
  },
  "language_info": {
   "codemirror_mode": {
    "name": "ipython",
    "version": 3
   },
   "file_extension": ".py",
   "mimetype": "text/x-python",
   "name": "python",
   "nbconvert_exporter": "python",
   "pygments_lexer": "ipython3",
   "version": "3.9.12"
  }
 },
 "nbformat": 4,
 "nbformat_minor": 5
}
