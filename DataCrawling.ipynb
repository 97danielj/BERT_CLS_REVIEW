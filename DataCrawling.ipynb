{
 "cells": [
  {
   "cell_type": "code",
   "execution_count": 48,
   "id": "813dbd78",
   "metadata": {},
   "outputs": [],
   "source": [
    "import time\n",
    "from selenium import webdriver\n",
    "from selenium.webdriver.common.keys import Keys\n",
    "from selenium.webdriver.common.by import By\n",
    "from selenium.webdriver.support.ui import WebDriverWait\n",
    "from selenium.webdriver.support import expected_conditions as EC\n",
    "from time import sleep\n",
    "from bs4 import BeautifulSoup\n",
    "import re\n",
    "import json\n",
    "#options = webdriver.ChromeOptions()\n",
    "#options.add_argument('headless')"
   ]
  },
  {
   "cell_type": "code",
   "execution_count": 49,
   "id": "370ffce8",
   "metadata": {},
   "outputs": [
    {
     "name": "stderr",
     "output_type": "stream",
     "text": [
      "C:\\Users\\DanielJeong\\AppData\\Local\\Temp\\ipykernel_12840\\2096135440.py:2: DeprecationWarning: executable_path has been deprecated, please pass in a Service object\n",
      "  driver = webdriver.Chrome('./chromedriver')  # 드라이버 경로\n"
     ]
    }
   ],
   "source": [
    "url = 'https://map.naver.com/v5/search'\n",
    "driver = webdriver.Chrome('./chromedriver')  # 드라이버 경로\n",
    "#driver = webdriver.Chrome('./chromedriver',chrome_options=options) # 크롬창 숨기기\n",
    "driver.get(url)\n",
    "key_word_list = ['노량진수산시장 횟집', '송파구 횟집', '강서구 횟집', '강남구 횟집', '노원구 횟집', '은평구 횟집']"
   ]
  },
  {
   "cell_type": "code",
   "execution_count": 50,
   "id": "afa5ef51",
   "metadata": {},
   "outputs": [],
   "source": [
    "key_word = ['노량진수산시장 횟집']"
   ]
  },
  {
   "cell_type": "code",
   "execution_count": 51,
   "id": "2ac3e5ad",
   "metadata": {},
   "outputs": [
    {
     "data": {
      "text/plain": [
       "'C:\\\\Users\\\\DanielJeong\\\\PycharmProjects\\\\OceanData'"
      ]
     },
     "execution_count": 51,
     "metadata": {},
     "output_type": "execute_result"
    }
   ],
   "source": [
    "import os\n",
    "os.getcwd()"
   ]
  },
  {
   "cell_type": "code",
   "execution_count": 52,
   "id": "7360183c",
   "metadata": {},
   "outputs": [],
   "source": [
    "# css 찾을때 까지 10초대기\n",
    "def time_wait(num, code):\n",
    "    try:\n",
    "        wait = WebDriverWait(driver, num).until(\n",
    "            EC.presence_of_element_located((By.CSS_SELECTOR, code)))\n",
    "    except:\n",
    "        print(code, '태그를 찾지 못하였습니다.')\n",
    "        driver.quit()\n",
    "    return wait"
   ]
  },
  {
   "cell_type": "code",
   "execution_count": 53,
   "id": "fd966737",
   "metadata": {},
   "outputs": [
    {
     "data": {
      "text/plain": [
       "<selenium.webdriver.remote.webelement.WebElement (session=\"6a1e4b960de5314c12477e1437d935b0\", element=\"33664ca1-51e8-4d01-8067-dded7be84f4b\")>"
      ]
     },
     "execution_count": 53,
     "metadata": {},
     "output_type": "execute_result"
    }
   ],
   "source": [
    "# css를 찾을때 까지 10초 대기\n",
    "time_wait(10, 'div.input_box > input.input_search')"
   ]
  },
  {
   "cell_type": "code",
   "execution_count": 54,
   "id": "c45f37b9",
   "metadata": {},
   "outputs": [],
   "source": [
    "# 검색창 찾기\n",
    "search = driver.find_element(By.CSS_SELECTOR,'div.input_box > input.input_search')\n",
    "search.send_keys(key_word)  # 검색어 입력\n",
    "search.send_keys(Keys.ENTER)  # 엔터버튼 누르기"
   ]
  },
  {
   "cell_type": "code",
   "execution_count": 55,
   "id": "d3b6d633",
   "metadata": {},
   "outputs": [],
   "source": [
    "res = driver.page_source  # 페이지 소스 가져오기\n",
    "soup = BeautifulSoup(res, 'html.parser')  # html 파싱하여  가져온다"
   ]
  },
  {
   "cell_type": "code",
   "execution_count": 56,
   "id": "4eeb765b",
   "metadata": {},
   "outputs": [],
   "source": [
    "sleep(1)"
   ]
  },
  {
   "cell_type": "code",
   "execution_count": 57,
   "id": "38510e7d",
   "metadata": {},
   "outputs": [],
   "source": [
    "# frame 변경 메소드\n",
    "def switch_frame(frame):\n",
    "    driver.switch_to.default_content()  # frame 초기화\n",
    "    driver.switch_to.frame(frame)  # frame 변경\n",
    "    res\n",
    "    soup\n"
   ]
  },
  {
   "cell_type": "code",
   "execution_count": 58,
   "id": "7611d926",
   "metadata": {},
   "outputs": [],
   "source": [
    "# 페이지 다운\n",
    "def page_down(num):\n",
    "    body = driver.find_element(By.CSS_SELECTOR,'body')\n",
    "    body.click()\n",
    "    for i in range(num):\n",
    "        body.send_keys(Keys.PAGE_DOWN)"
   ]
  },
  {
   "cell_type": "code",
   "execution_count": 59,
   "id": "ee74d039",
   "metadata": {},
   "outputs": [],
   "source": [
    "# frame 변경\n",
    "switch_frame('searchIframe')\n",
    "page_down(40)\n",
    "sleep(5)"
   ]
  },
  {
   "cell_type": "code",
   "execution_count": 60,
   "id": "3f1ce22f",
   "metadata": {},
   "outputs": [],
   "source": [
    "# 매장 리스트\n",
    "store_list = driver.find_elements(By.CSS_SELECTOR,'._22p-O')\n",
    "# 페이지 리스트\n",
    "next_btn = driver.find_elements(By.CSS_SELECTOR,'._2ky45 > a')"
   ]
  },
  {
   "cell_type": "code",
   "execution_count": 61,
   "id": "03633fd8",
   "metadata": {},
   "outputs": [
    {
     "data": {
      "text/plain": [
       "50"
      ]
     },
     "execution_count": 61,
     "metadata": {},
     "output_type": "execute_result"
    }
   ],
   "source": [
    "len(store_list)"
   ]
  },
  {
   "cell_type": "code",
   "execution_count": 62,
   "id": "0f00777b",
   "metadata": {},
   "outputs": [
    {
     "data": {
      "text/plain": [
       "7"
      ]
     },
     "execution_count": 62,
     "metadata": {},
     "output_type": "execute_result"
    }
   ],
   "source": [
    "len(next_btn)"
   ]
  },
  {
   "cell_type": "code",
   "execution_count": 63,
   "id": "c0d8ded1",
   "metadata": {},
   "outputs": [],
   "source": [
    "# dictionary 생성\n",
    "store_dict = {'매장정보': []}"
   ]
  },
  {
   "cell_type": "code",
   "execution_count": 64,
   "id": "6f7a068f",
   "metadata": {},
   "outputs": [
    {
     "name": "stdout",
     "output_type": "stream",
     "text": [
      "[크롤링 시작...]\n"
     ]
    }
   ],
   "source": [
    "# 시작시간\n",
    "start = time.time()\n",
    "print('[크롤링 시작...]')"
   ]
  },
  {
   "cell_type": "code",
   "execution_count": 65,
   "id": "8cf78b41",
   "metadata": {},
   "outputs": [
    {
     "data": {
      "text/plain": [
       "1660894754.310878"
      ]
     },
     "execution_count": 65,
     "metadata": {},
     "output_type": "execute_result"
    }
   ],
   "source": [
    "time.time()"
   ]
  },
  {
   "cell_type": "code",
   "execution_count": 32,
   "id": "f670b344",
   "metadata": {},
   "outputs": [
    {
     "ename": "IndexError",
     "evalue": "list index out of range",
     "output_type": "error",
     "traceback": [
      "\u001b[1;31m---------------------------------------------------------------------------\u001b[0m",
      "\u001b[1;31mIndexError\u001b[0m                                Traceback (most recent call last)",
      "Input \u001b[1;32mIn [32]\u001b[0m, in \u001b[0;36m<cell line: 2>\u001b[1;34m()\u001b[0m\n\u001b[0;32m      4\u001b[0m \u001b[38;5;28;01mfor\u001b[39;00m data \u001b[38;5;129;01min\u001b[39;00m \u001b[38;5;28mrange\u001b[39m(\u001b[38;5;28mlen\u001b[39m(store_list)):  \u001b[38;5;66;03m# 매장 리스트 만큼\u001b[39;00m\n\u001b[0;32m      5\u001b[0m     page \u001b[38;5;241m=\u001b[39m driver\u001b[38;5;241m.\u001b[39mfind_elements(By\u001b[38;5;241m.\u001b[39mCSS_SELECTOR,\u001b[38;5;124m'\u001b[39m\u001b[38;5;124ma._3LMxZ\u001b[39m\u001b[38;5;124m'\u001b[39m) \u001b[38;5;66;03m#page? what page>? page란 storelist를 말하는 건가?\u001b[39;00m\n\u001b[1;32m----> 6\u001b[0m     \u001b[43mpage\u001b[49m\u001b[43m[\u001b[49m\u001b[43mdata\u001b[49m\u001b[43m]\u001b[49m\u001b[38;5;241m.\u001b[39mclick()\n\u001b[0;32m      7\u001b[0m     sleep(\u001b[38;5;241m2\u001b[39m)\n\u001b[0;32m      8\u001b[0m     \u001b[38;5;28;01mtry\u001b[39;00m:\n\u001b[0;32m      9\u001b[0m         \u001b[38;5;66;03m# 상세 페이지로 이동\u001b[39;00m\n",
      "\u001b[1;31mIndexError\u001b[0m: list index out of range"
     ]
    }
   ],
   "source": [
    "# 크롤링 (페이지 리스트 만큼)\n",
    "for btn in range(len(next_btn))[1:]:  # next_btn[0] = 이전 페이지 버튼 무시 -> [1]부터 시작\n",
    "    store_list #이미 btn[0]의 매장 리스트는 들어있다.\n",
    "    for data in range(len(store_list)):  # 매장 리스트 만큼\n",
    "        page = driver.find_elements(By.CSS_SELECTOR,'a._3LMxZ') #page? what page>? page란 storelist를 말하는 건가?\n",
    "        page[data].click()\n",
    "        sleep(2)\n",
    "        try:\n",
    "            # 상세 페이지로 이동\n",
    "            switch_frame('entryIframe') #프레임을 변경하여야 한다.\n",
    "            time_wait(5, '._3XamX')\n",
    "            # 스크롤을 맨밑으로 1초간격으로 내린다.\n",
    "            for down in range(3):\n",
    "                sleep(1)\n",
    "                driver.execute_script(\"window.scrollTo(0, document.body.scrollHeight);\")\n",
    "\n",
    "            # -----매장명 가져오기-----\n",
    "            store_name = driver.find_element(By.CSS_SELECTOR,'._3XamX').text\n",
    "\n",
    "            # -----평점-----\n",
    "            try:\n",
    "                store_rating_list = driver.find_element(By.CSS_SELECTOR,'._1A8_M').text\n",
    "                store_rating = re.sub('별점', '', store_rating_list).replace('\\n', '')  # 별점이라는 단어 제거\n",
    "            except:\n",
    "                pass\n",
    "            print(store_rating)\n",
    "\n",
    "            # -----주소(위치)-----\n",
    "            try:\n",
    "                store_addr_list = driver.find_element(By.CSS_SELECTOR,'._1aj6-')\n",
    "                for i in store_addr_list:\n",
    "                    store_addr = i.find_element_by_css_selector('._1h3B_').text\n",
    "            except:\n",
    "                pass\n",
    "            print(store_addr)\n",
    "            # -----전화번호 가져오기-----\n",
    "            try:\n",
    "                store_tel = driver.find_element(By.CSS_SELECTOR,'._3ZA0S').text\n",
    "            except:\n",
    "                pass\n",
    "\n",
    "            print(store_tel)\n",
    "            # -----영업시간-----\n",
    "            try:\n",
    "                store_time_list = driver.find_element(By.CSS_SELECTOR,'._2vK84')  # 아니 태그가 그세 바뀌네ㅡ,.ㅡ\n",
    "                for i in store_time_list:\n",
    "                    store_time = i.find_element(By.CSS_SELECTOR,'._3uEtO > time').text\n",
    "            except:\n",
    "                pass\n",
    "            print(store_time)\n",
    "\n",
    "            # -----메뉴-----\n",
    "            try:\n",
    "                menu_list = driver.find_element(By.CSS_SELECTOR,'._1XxR5')\n",
    "                menu_name = []  # 메뉴이름\n",
    "                menu_price = []  # 메뉴가격\n",
    "\n",
    "                for i in menu_list:\n",
    "                    name = i.find_element(By.CSS_SELECTOR,'._1q3GD').text\n",
    "                    menu_name.append(name)\n",
    "\n",
    "                    price = i.find_element(By.CSS_SELECTOR,'._3IAAc').text  # 텍스트를 넣을 변수 생성\n",
    "                    price = re.sub('원\\d{2},\\d{3}', '', price)  # 할인 전 가격 제거  # 재정의\n",
    "                    menu_price.append(price)  # 추가\n",
    "\n",
    "            except:\n",
    "                pass\n",
    "\n",
    "            # -----메뉴2 (다른 태그의 메뉴)-----\n",
    "            try:\n",
    "                menu_list_two = driver.find_element(By.CSS_SELECTOR,'._20R25')\n",
    "                menu_name_two = []\n",
    "                menu_price_two = []\n",
    "\n",
    "                for i in menu_list_two:\n",
    "                    name_two = i.find_element(By.CSS_SELECTOR,'._2E0Gk').text\n",
    "                    name_two = re.sub('\\n사진|\\n대표', '', name_two)\n",
    "\n",
    "                    price_two = i.find_element(By.CSS_SELECTOR,'._3GJcI').text\n",
    "\n",
    "                    menu_name_two.append(name_two)\n",
    "                    menu_price_two.append(price_two)\n",
    "\n",
    "            except:\n",
    "                pass\n",
    "\n",
    "            # 메뉴 리스트 합체\n",
    "            menus = menu_name + menu_name_two\n",
    "            prices = menu_price + menu_price_two\n",
    "\n",
    "            print(menus)\n",
    "            print(prices)\n",
    "            # -----키워드 리뷰 가져오기-----\n",
    "            try:\n",
    "                keyword_list = driver.find_element(By.CSS_SELECTOR,'._28hFN')  # 키워드가 담긴 리스트 클릭\n",
    "                keyword_list.click()\n",
    "\n",
    "            except:  # 키워드리뷰 없으면 다음 음식점으로\n",
    "                print('키워드리뷰 없음 >>> 다음으로',)\n",
    "                switch_frame('searchIframe')\n",
    "                continue\n",
    "\n",
    "            try:\n",
    "                keyword_review_list = driver.find_element(By.CSS_SELECTOR,'._3FaRE')  # 리뷰 리스트\n",
    "                kwd_title = []\n",
    "                kwd_count = []\n",
    "                sleep(2)\n",
    "\n",
    "                for i in keyword_review_list:\n",
    "                    keyword_title = i.find_element(By.CSS_SELECTOR,'._1lntw').text  # 키워드리뷰\n",
    "                    keyword_count = i.find_element(By.CSS_SELECTOR,'.Nqp-s').text   # 리뷰를 선택한 수\n",
    "\n",
    "                    # db에 넣을 때 편의를 위해 요청하였음\n",
    "                    title_re = re.sub('\"', '', keyword_title) \\\n",
    "                        .replace('양이 많아요', '1').replace('음식이 맛있어요', '2').replace('재료가 신선해요', '3') \\\n",
    "                        .replace('가성비가 좋아요', '4').replace('특별한 메뉴가 있어요', '5').replace('화장실이 깨끗해요', '6') \\\n",
    "                        .replace('주차하기 편해요', '7').replace('친절해요', '8').replace('특별한 날 가기 좋아요', '9').replace(\n",
    "                        '매장이 청결해요',\n",
    "                        '10') \\\n",
    "                        .replace('인테리어가 멋져요', '11').replace('단체모임 하기 좋아요', '12').replace('뷰가 좋아요', '13').replace(\n",
    "                        '매장이 넓어요',\n",
    "                        '14') \\\n",
    "                        .replace('혼밥하기 좋아요', '15')\n",
    "\n",
    "                    title_num = list(map(str, range(1, 16)))  # 1~15만 리스트에추가 (이외에 다른 키워드들은 추가하지않음)\n",
    "                    count_keyword = re.sub('이 키워드를 선택한 인원\\n', '', keyword_count)\n",
    "                    if title_re in title_num:\n",
    "                        kwd_title.append(title_re)\n",
    "                        kwd_count.append(count_keyword)\n",
    "                    else:\n",
    "                        pass\n",
    "            except:\n",
    "                pass\n",
    "            kwd_count = list(map(int, kwd_count))  # int 형변환\n",
    "\n",
    "            print(kwd_title)\n",
    "            print(kwd_count)\n",
    "\n",
    "            # -----썸네일 사진 주소-----\n",
    "            try:\n",
    "                thumb_list = driver.find_element(By.CSS_SELECTOR,'.cb7hz') \\\n",
    "                    .value_of_css_property('background-image')  # css 속성명을 찾는다\n",
    "                store_thumb = re.sub('url|\"|\\)|\\(', '', thumb_list)  # url , (\" \") 제거\n",
    "            except:\n",
    "                pass\n",
    "            print(store_thumb)\n",
    "\n",
    "            # ---- dict에 데이터 집어넣기----\n",
    "            dict_temp = {\n",
    "                'name': store_name,\n",
    "                'tel': store_tel,\n",
    "                'star': store_rating,\n",
    "                'addr': store_addr,\n",
    "                'time': store_time,\n",
    "                'menu': menus,\n",
    "                'price': prices,\n",
    "                'kwd': kwd_title,\n",
    "                'kwd_count': kwd_count,\n",
    "                'thumb': store_thumb\n",
    "            }\n",
    "\n",
    "            store_dict['매장정보'].append(dict_temp)\n",
    "\n",
    "            print(f'{store_name} ...완료')\n",
    "            switch_frame('searchIframe')\n",
    "            sleep(1)\n",
    "\n",
    "        except:\n",
    "            print('ERROR!' * 3)\n",
    "\n",
    "    # 다음 페이지 버튼\n",
    "    if page[-1]:  # 마지막 매장일 경우 다음버튼 클릭\n",
    "        next_btn[-1].click()\n",
    "        sleep(2)\n",
    "    else:\n",
    "        print('페이지 인식 못함')\n",
    "        break\n",
    "\n",
    "print('[데이터 수집 완료]\\n소요 시간 :', time.time() - start)\n",
    "driver.quit()  # 작업이 끝나면 창을닫는다.\n",
    "\n",
    "# json 파일로 저장\n",
    "with open('data/store_data.json', 'w', encoding='utf-8') as f:\n",
    "    json.dump(store_dict, f, indent=4, ensure_ascii=False)"
   ]
  },
  {
   "cell_type": "code",
   "execution_count": 77,
   "id": "801449c7",
   "metadata": {},
   "outputs": [],
   "source": [
    "page = driver.find_elements(By.CSS_SELECTOR,'span.place_bluelink._3Apve')"
   ]
  },
  {
   "cell_type": "code",
   "execution_count": 78,
   "id": "2115e2ff",
   "metadata": {},
   "outputs": [
    {
     "data": {
      "text/plain": [
       "[<selenium.webdriver.remote.webelement.WebElement (session=\"6a1e4b960de5314c12477e1437d935b0\", element=\"5c679dde-3aaf-46fd-8acd-b1940281eda6\")>,\n",
       " <selenium.webdriver.remote.webelement.WebElement (session=\"6a1e4b960de5314c12477e1437d935b0\", element=\"ed1ce6f3-2676-4f92-9470-df28aa8e8cca\")>,\n",
       " <selenium.webdriver.remote.webelement.WebElement (session=\"6a1e4b960de5314c12477e1437d935b0\", element=\"7bb5305d-304e-4dee-a404-35bc31f0ba26\")>,\n",
       " <selenium.webdriver.remote.webelement.WebElement (session=\"6a1e4b960de5314c12477e1437d935b0\", element=\"6fc8bc0f-9fc1-4907-8d8e-f1847736d686\")>,\n",
       " <selenium.webdriver.remote.webelement.WebElement (session=\"6a1e4b960de5314c12477e1437d935b0\", element=\"7b25631d-2b23-481d-ae7a-31e7aaff50b3\")>,\n",
       " <selenium.webdriver.remote.webelement.WebElement (session=\"6a1e4b960de5314c12477e1437d935b0\", element=\"2e689d0e-acda-4ee8-b9c6-d05c01d49e0b\")>,\n",
       " <selenium.webdriver.remote.webelement.WebElement (session=\"6a1e4b960de5314c12477e1437d935b0\", element=\"5daf82db-59fb-419e-a4d9-27665e5a8393\")>,\n",
       " <selenium.webdriver.remote.webelement.WebElement (session=\"6a1e4b960de5314c12477e1437d935b0\", element=\"53656455-07b6-42b9-bec7-50d7e23925e7\")>,\n",
       " <selenium.webdriver.remote.webelement.WebElement (session=\"6a1e4b960de5314c12477e1437d935b0\", element=\"5cd2e7fd-1f54-4449-8b6b-3cd71b7469a4\")>,\n",
       " <selenium.webdriver.remote.webelement.WebElement (session=\"6a1e4b960de5314c12477e1437d935b0\", element=\"61af39ae-144f-4ff4-824a-01d5500a0d11\")>,\n",
       " <selenium.webdriver.remote.webelement.WebElement (session=\"6a1e4b960de5314c12477e1437d935b0\", element=\"51f88685-ac3d-442d-9a70-b5d633dca684\")>,\n",
       " <selenium.webdriver.remote.webelement.WebElement (session=\"6a1e4b960de5314c12477e1437d935b0\", element=\"d3fce443-7de0-429a-a988-23cb23ece703\")>,\n",
       " <selenium.webdriver.remote.webelement.WebElement (session=\"6a1e4b960de5314c12477e1437d935b0\", element=\"5ae4ed5a-edee-4081-9e58-331eb19a2883\")>,\n",
       " <selenium.webdriver.remote.webelement.WebElement (session=\"6a1e4b960de5314c12477e1437d935b0\", element=\"f4bfdfed-e70f-47c3-816e-9e234b8909b3\")>,\n",
       " <selenium.webdriver.remote.webelement.WebElement (session=\"6a1e4b960de5314c12477e1437d935b0\", element=\"20e99223-c600-417d-8469-1a929a8b5e0f\")>,\n",
       " <selenium.webdriver.remote.webelement.WebElement (session=\"6a1e4b960de5314c12477e1437d935b0\", element=\"e51fcd7e-c423-486b-9db4-38422fc2cfd1\")>,\n",
       " <selenium.webdriver.remote.webelement.WebElement (session=\"6a1e4b960de5314c12477e1437d935b0\", element=\"8bcbdf13-5db5-455c-b2fa-8376f169fbc9\")>,\n",
       " <selenium.webdriver.remote.webelement.WebElement (session=\"6a1e4b960de5314c12477e1437d935b0\", element=\"18c7d5e1-dedb-42f5-9360-a139fec12ac3\")>,\n",
       " <selenium.webdriver.remote.webelement.WebElement (session=\"6a1e4b960de5314c12477e1437d935b0\", element=\"afc8feef-8815-4a13-8747-d371fce16428\")>,\n",
       " <selenium.webdriver.remote.webelement.WebElement (session=\"6a1e4b960de5314c12477e1437d935b0\", element=\"b8a360db-cb2f-4435-bad0-7a7cf2f2b7b8\")>,\n",
       " <selenium.webdriver.remote.webelement.WebElement (session=\"6a1e4b960de5314c12477e1437d935b0\", element=\"cf4aa2ff-f81a-4156-8eea-a56c67fcf499\")>,\n",
       " <selenium.webdriver.remote.webelement.WebElement (session=\"6a1e4b960de5314c12477e1437d935b0\", element=\"a0eddeb4-19f1-463e-83a7-945fdd75c6f7\")>,\n",
       " <selenium.webdriver.remote.webelement.WebElement (session=\"6a1e4b960de5314c12477e1437d935b0\", element=\"95124e5f-71cd-4cac-a4a2-b699de65d019\")>,\n",
       " <selenium.webdriver.remote.webelement.WebElement (session=\"6a1e4b960de5314c12477e1437d935b0\", element=\"723cfa99-9276-4b54-a59f-649c1b9d123f\")>,\n",
       " <selenium.webdriver.remote.webelement.WebElement (session=\"6a1e4b960de5314c12477e1437d935b0\", element=\"5cddfd5a-d591-4dc4-a297-4576bbce719b\")>,\n",
       " <selenium.webdriver.remote.webelement.WebElement (session=\"6a1e4b960de5314c12477e1437d935b0\", element=\"1aaaaaa5-e5fa-499c-a32a-6ce34d85d932\")>,\n",
       " <selenium.webdriver.remote.webelement.WebElement (session=\"6a1e4b960de5314c12477e1437d935b0\", element=\"a5a27e0b-84f1-4ae8-a0d1-a9071c84071c\")>,\n",
       " <selenium.webdriver.remote.webelement.WebElement (session=\"6a1e4b960de5314c12477e1437d935b0\", element=\"167fb8a1-6de7-4fcd-bff4-d0ea79c15a38\")>,\n",
       " <selenium.webdriver.remote.webelement.WebElement (session=\"6a1e4b960de5314c12477e1437d935b0\", element=\"7a4dbdba-436c-43d1-884a-53ed513dc5a9\")>,\n",
       " <selenium.webdriver.remote.webelement.WebElement (session=\"6a1e4b960de5314c12477e1437d935b0\", element=\"77e50c80-b2ec-448a-9230-f2ef5995267d\")>,\n",
       " <selenium.webdriver.remote.webelement.WebElement (session=\"6a1e4b960de5314c12477e1437d935b0\", element=\"2a3e5d96-da49-4dd9-aeb3-5ecdde1d8520\")>,\n",
       " <selenium.webdriver.remote.webelement.WebElement (session=\"6a1e4b960de5314c12477e1437d935b0\", element=\"be2a0523-7c03-4153-aa16-fd3dbf7f2bfa\")>,\n",
       " <selenium.webdriver.remote.webelement.WebElement (session=\"6a1e4b960de5314c12477e1437d935b0\", element=\"ead65358-2516-4571-beab-6dc7e7d74327\")>,\n",
       " <selenium.webdriver.remote.webelement.WebElement (session=\"6a1e4b960de5314c12477e1437d935b0\", element=\"2cb494f9-8fe7-45bf-a321-d15d9a967700\")>,\n",
       " <selenium.webdriver.remote.webelement.WebElement (session=\"6a1e4b960de5314c12477e1437d935b0\", element=\"36bfb6fe-e9d5-45ac-b1f5-4578f9a984f4\")>,\n",
       " <selenium.webdriver.remote.webelement.WebElement (session=\"6a1e4b960de5314c12477e1437d935b0\", element=\"7f51066d-141f-425d-bcad-9994fbd6c153\")>,\n",
       " <selenium.webdriver.remote.webelement.WebElement (session=\"6a1e4b960de5314c12477e1437d935b0\", element=\"20b2d561-80af-4dfb-820d-ab93d2cd96c2\")>,\n",
       " <selenium.webdriver.remote.webelement.WebElement (session=\"6a1e4b960de5314c12477e1437d935b0\", element=\"849e9de6-c9c0-4af8-a0d8-d8d521d5a176\")>,\n",
       " <selenium.webdriver.remote.webelement.WebElement (session=\"6a1e4b960de5314c12477e1437d935b0\", element=\"e71dc7f4-2205-47dd-a927-80af7c00da7c\")>,\n",
       " <selenium.webdriver.remote.webelement.WebElement (session=\"6a1e4b960de5314c12477e1437d935b0\", element=\"85b41b5e-eaf7-4a49-ac43-cdce2cf3f44e\")>,\n",
       " <selenium.webdriver.remote.webelement.WebElement (session=\"6a1e4b960de5314c12477e1437d935b0\", element=\"64063c5d-adb2-408f-894b-bff1e34248b3\")>,\n",
       " <selenium.webdriver.remote.webelement.WebElement (session=\"6a1e4b960de5314c12477e1437d935b0\", element=\"2c163a2b-f891-4954-859c-a06c0dafd8eb\")>,\n",
       " <selenium.webdriver.remote.webelement.WebElement (session=\"6a1e4b960de5314c12477e1437d935b0\", element=\"15e087ec-33ea-4b65-91a5-f18421c6773e\")>,\n",
       " <selenium.webdriver.remote.webelement.WebElement (session=\"6a1e4b960de5314c12477e1437d935b0\", element=\"d43b0789-cb9e-4009-bc2e-35a9b66c9da4\")>,\n",
       " <selenium.webdriver.remote.webelement.WebElement (session=\"6a1e4b960de5314c12477e1437d935b0\", element=\"cea71c7c-539c-4b7d-8c04-d6ce96585355\")>,\n",
       " <selenium.webdriver.remote.webelement.WebElement (session=\"6a1e4b960de5314c12477e1437d935b0\", element=\"57e02d9a-c2d8-4f76-a3bc-a834203aa631\")>,\n",
       " <selenium.webdriver.remote.webelement.WebElement (session=\"6a1e4b960de5314c12477e1437d935b0\", element=\"6e6fc37b-5ef5-4ee0-937c-05e2d82c4421\")>,\n",
       " <selenium.webdriver.remote.webelement.WebElement (session=\"6a1e4b960de5314c12477e1437d935b0\", element=\"036693b7-ff96-4be1-97b9-53502628d02a\")>,\n",
       " <selenium.webdriver.remote.webelement.WebElement (session=\"6a1e4b960de5314c12477e1437d935b0\", element=\"a5b9a113-c75f-4568-9946-6d86f473d94c\")>,\n",
       " <selenium.webdriver.remote.webelement.WebElement (session=\"6a1e4b960de5314c12477e1437d935b0\", element=\"2e1d4bb1-5fa8-4e8b-b358-6e96c3696936\")>]"
      ]
     },
     "execution_count": 78,
     "metadata": {},
     "output_type": "execute_result"
    }
   ],
   "source": [
    "page"
   ]
  },
  {
   "cell_type": "code",
   "execution_count": 72,
   "id": "898deaf7",
   "metadata": {},
   "outputs": [],
   "source": []
  },
  {
   "cell_type": "code",
   "execution_count": null,
   "id": "7e925218",
   "metadata": {},
   "outputs": [],
   "source": []
  }
 ],
 "metadata": {
  "kernelspec": {
   "display_name": "Python 3 (ipykernel)",
   "language": "python",
   "name": "python3"
  },
  "language_info": {
   "codemirror_mode": {
    "name": "ipython",
    "version": 3
   },
   "file_extension": ".py",
   "mimetype": "text/x-python",
   "name": "python",
   "nbconvert_exporter": "python",
   "pygments_lexer": "ipython3",
   "version": "3.9.12"
  }
 },
 "nbformat": 4,
 "nbformat_minor": 5
}
