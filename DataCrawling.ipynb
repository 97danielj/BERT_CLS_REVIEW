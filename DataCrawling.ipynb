{
 "cells": [
  {
   "cell_type": "markdown",
   "id": "99af54ab",
   "metadata": {},
   "source": [
    "# 환경설정"
   ]
  },
  {
   "cell_type": "code",
   "execution_count": 1,
   "id": "813dbd78",
   "metadata": {},
   "outputs": [],
   "source": [
    "import time\n",
    "from selenium import webdriver\n",
    "from selenium.webdriver.common.keys import Keys\n",
    "from selenium.webdriver.common.by import By\n",
    "from selenium.webdriver.support.ui import WebDriverWait\n",
    "from selenium.webdriver.support import expected_conditions as EC\n",
    "from time import sleep\n",
    "from bs4 import BeautifulSoup\n",
    "import re\n",
    "import json\n",
    "#options = webdriver.ChromeOptions()\n",
    "#options.add_argument('headless')"
   ]
  },
  {
   "cell_type": "markdown",
   "id": "281712c5",
   "metadata": {},
   "source": [
    "# 크롬창 열기"
   ]
  },
  {
   "cell_type": "code",
   "execution_count": 26,
   "id": "7360183c",
   "metadata": {},
   "outputs": [],
   "source": [
    "# css 찾을때 까지 10초대기\n",
    "def time_wait(num, code,driver):\n",
    "    try:\n",
    "        wait = WebDriverWait(driver, num).until(\n",
    "            EC.presence_of_element_located((By.CSS_SELECTOR, code)))\n",
    "    except:\n",
    "        print(code, '태그를 찾지 못하였습니다.')\n",
    "        driver.quit()\n",
    "    return wait"
   ]
  },
  {
   "cell_type": "code",
   "execution_count": 27,
   "id": "5a4257d7",
   "metadata": {},
   "outputs": [],
   "source": [
    "def find_search_input(key_word,driver):\n",
    "    # 검색창 찾기\n",
    "    driver.switch_to.default_content()\n",
    "    time_wait(2, 'div.input_box > input.input_search',driver)\n",
    "    search = driver.find_element(By.CSS_SELECTOR,'div.input_box > input.input_search')\n",
    "    search.send_keys(key_word)  # 검색어 입력\n",
    "    driver.implicitly_wait(3)\n",
    "    search.send_keys(Keys.ENTER)  # 엔터버튼 누르기\n",
    "    sleep(5)\n",
    "    res = driver.page_source  # 페이지 소스 가져오기\n",
    "    soup = BeautifulSoup(res, 'html.parser')  # html 파싱하여  가져온다\n",
    "    sleep(1)"
   ]
  },
  {
   "cell_type": "code",
   "execution_count": 28,
   "id": "38510e7d",
   "metadata": {},
   "outputs": [],
   "source": [
    "# frame 변경 메소드\n",
    "def switch_frame(frame,driver):\n",
    "    driver.switch_to.default_content()  # frame 초기화\n",
    "    driver.switch_to.frame(frame)  # frame 변경\n",
    "    driver.implicitly_wait(1)\n"
   ]
  },
  {
   "cell_type": "code",
   "execution_count": 29,
   "id": "7611d926",
   "metadata": {},
   "outputs": [],
   "source": [
    "# 페이지 다운\n",
    "def page_down(num,driver):\n",
    "    body = driver.find_element(By.CSS_SELECTOR,'body')\n",
    "    body.click()\n",
    "    for i in range(num):\n",
    "        body.send_keys(Keys.PAGE_DOWN)"
   ]
  },
  {
   "cell_type": "code",
   "execution_count": 35,
   "id": "4930c8fc",
   "metadata": {},
   "outputs": [],
   "source": [
    "# 페이지 다운\n",
    "def page_end(driver):\n",
    "    body = driver.find_element(By.CSS_SELECTOR,'body')\n",
    "    body.click()\n",
    "    body.send_keys(Keys.END)"
   ]
  },
  {
   "cell_type": "code",
   "execution_count": 36,
   "id": "74f1001e",
   "metadata": {},
   "outputs": [],
   "source": [
    "def find_review_btn(driver):\n",
    "    sleep(2)\n",
    "    time_wait(10,'a.tpj9w',driver)\n",
    "    menu_list = driver.find_elements(By.CSS_SELECTOR,'a.tpj9w')\n",
    "    if len(menu_list) ==7:\n",
    "        return menu_list[-1]\n",
    "    else:\n",
    "        return menu_list[-2]"
   ]
  },
  {
   "cell_type": "code",
   "execution_count": 37,
   "id": "650c8d8e",
   "metadata": {},
   "outputs": [],
   "source": [
    "def crawling_visitor_review(driver):\n",
    "    #-----리뷰 버튼 클릭-------\n",
    "    find_review_btn(driver).click()\n",
    "    SCROLL_PAUSE_SEC = 1\n",
    "    \n",
    "    last_scroll = driver.execute_script(\"return document.body.scrollHeight\")\n",
    "    \n",
    "    while True:\n",
    "        driver.execute_script(\"window.scrollTo(0, document.body.scrollHeight);\")\n",
    "        time.sleep(SCROLL_PAUSE_SEC)\n",
    "        \n",
    "        try :\n",
    "            #더보기 버튼 클릭\n",
    "            driver.find_element(By.CSS_SELECTOR,'a.fvwqf').click()\n",
    "            \n",
    "        except:\n",
    "            #더보기 버튼이 없다면 while문을 빠져나온다.\n",
    "            break\n",
    "            # 끝까지 스크롤 다운\n",
    "            \n",
    "        new_scroll = driver.execute_script(\"return document.body.scrollHeight\")\n",
    "        if last_scroll == new_scroll:\n",
    "            break\n",
    "        else:\n",
    "            last_scroll= new_scroll\n",
    "\n",
    "\n",
    "\n",
    "    #가게 리스트 마다 방문자 리뷰 가져오기\n",
    "    review_elements = driver.find_elements(By.CSS_SELECTOR,\"div.ZZ4OK > a > span\")\n",
    "    review_list = []\n",
    "    for i in review_elements:\n",
    "        review_list.append(i.text)\n",
    "    \n",
    "    return review_list\n"
   ]
  },
  {
   "cell_type": "markdown",
   "id": "3af8a130",
   "metadata": {},
   "source": [
    "# 블로그 리뷰 크롤링 함수\n",
    "## 불필요한 코퍼스가 많다."
   ]
  },
  {
   "cell_type": "code",
   "execution_count": 10,
   "id": "62362795",
   "metadata": {
    "collapsed": true
   },
   "outputs": [
    {
     "data": {
      "text/plain": [
       "'\\ndef crawling_blog_review():\\n    SCROLL_PAUSE_SEC = 3\\n    sleep(SCROLL_PAUSE_SEC)\\n    try :\\n        blog_review_button = driver.find_element(By.CSS_SELECTOR, \\'div._1tclc > div > a:nth-child(2)\\')\\n        blog_review_button.click()\\n    except:\\n        print(\\'블로그 리뷰가 없습니다.\\')\\n        return\\n    else:\\n        driver.implicitly_wait(SCROLL_PAUSE_SEC)\\n\\n        last_scroll = driver.execute_script(\"return document.body.scrollHeight\")\\n        while True:\\n            driver.execute_script(\"window.scrollTo(0, document.body.scrollHeight);\")\\n            time.sleep(1)\\n\\n            try :\\n                #더보기 버튼 클릭\\n                driver.find_element(By.CSS_SELECTOR,\\'a._3iTUo\\').click()\\n                driver.implicitly_wait(SCROLL_PAUSE_SEC)\\n            except:\\n                break\\n                # 끝까지 스크롤 다운\\n\\n            new_scroll = driver.execute_script(\"return document.body.scrollHeight\")\\n            driver.implicitly_wait(SCROLL_PAUSE_SEC)\\n            if last_scroll == new_scroll:\\n                break\\n            else:\\n                last_scroll = new_scroll\\n\\n        #가게 리스트 마다 방문자 리뷰 가져오기\\n        review_elements = driver.find_elements(By.CSS_SELECTOR,\\'div._3jvFk\\')\\n        review_list = []\\n        for i in review_elements:\\n            review_list.append(i.text)\\n        return review_list\\n'"
      ]
     },
     "execution_count": 10,
     "metadata": {},
     "output_type": "execute_result"
    }
   ],
   "source": [
    "'''\n",
    "def crawling_blog_review():\n",
    "    SCROLL_PAUSE_SEC = 3\n",
    "    sleep(SCROLL_PAUSE_SEC)\n",
    "    try :\n",
    "        blog_review_button = driver.find_element(By.CSS_SELECTOR, 'div._1tclc > div > a:nth-child(2)')\n",
    "        blog_review_button.click()\n",
    "    except:\n",
    "        print('블로그 리뷰가 없습니다.')\n",
    "        return\n",
    "    else:\n",
    "        driver.implicitly_wait(SCROLL_PAUSE_SEC)\n",
    "\n",
    "        last_scroll = driver.execute_script(\"return document.body.scrollHeight\")\n",
    "        while True:\n",
    "            driver.execute_script(\"window.scrollTo(0, document.body.scrollHeight);\")\n",
    "            time.sleep(1)\n",
    "\n",
    "            try :\n",
    "                #더보기 버튼 클릭\n",
    "                driver.find_element(By.CSS_SELECTOR,'a._3iTUo').click()\n",
    "                driver.implicitly_wait(SCROLL_PAUSE_SEC)\n",
    "            except:\n",
    "                break\n",
    "                # 끝까지 스크롤 다운\n",
    "\n",
    "            new_scroll = driver.execute_script(\"return document.body.scrollHeight\")\n",
    "            driver.implicitly_wait(SCROLL_PAUSE_SEC)\n",
    "            if last_scroll == new_scroll:\n",
    "                break\n",
    "            else:\n",
    "                last_scroll = new_scroll\n",
    "\n",
    "        #가게 리스트 마다 방문자 리뷰 가져오기\n",
    "        review_elements = driver.find_elements(By.CSS_SELECTOR,'div._3jvFk')\n",
    "        review_list = []\n",
    "        for i in review_elements:\n",
    "            review_list.append(i.text)\n",
    "        return review_list\n",
    "'''"
   ]
  },
  {
   "cell_type": "markdown",
   "id": "86de5a29",
   "metadata": {},
   "source": [
    "# 검색 지역 횟집의 리뷰를 크롤링."
   ]
  },
  {
   "cell_type": "code",
   "execution_count": 143,
   "id": "4db940d9",
   "metadata": {
    "scrolled": true
   },
   "outputs": [],
   "source": [
    "'''\n",
    "def review_crawling(key_word,page_num):\n",
    "    WAIT=3\n",
    "    #검색창을 찾아서 서치\n",
    "    find_search_input(key_word)\n",
    "    # searchIframe 변경\n",
    "    driver.implicitly_wait(2)\n",
    "    switch_frame('searchIframe')\n",
    "    driver.implicitly_wait(WAIT)\n",
    "    driver.execute_script(\"window.scrollTo(0, 0);\")\n",
    "    driver.implicitly_wait(WAIT)\n",
    "    # 페이지 버튼의 수\n",
    "    pages = driver.find_elements(By.CSS_SELECTOR,'a.mBN2s')\n",
    "    page_num = page_num-1\n",
    "    if page_num <= 5:\n",
    "        pages[page_num].click()\n",
    "        driver.implicitly_wait(WAIT)\n",
    "    else:\n",
    "        driver.find_elements(By.CSS_SELECTOR,'div.zRM9F > a:nth-child(6)').click()\n",
    "        driver.implicitly_wait(WAIT)\n",
    "        driver.find_element(By.CSS_SELECTOR, 'div.zRM9F > a:nth-child(6)').click()\n",
    "        driver.implicitly_wait(WAIT)\n",
    "        \n",
    "    driver.implicitly_wait(2)\n",
    "    page_down(45)\n",
    "    driver.implicitly_wait(WAIT)\n",
    "    page_down(5)\n",
    "    driver.implicitly_wait(2)\n",
    "    store_elements = driver.find_elements(By.CSS_SELECTOR,'div.ouxiq.icT4K > a:nth-child(1)')\n",
    "    print('first len of store_elements : ', len(store_elements))\n",
    "    driver.implicitly_wait(2)\n",
    "    #한 페이지의 50개의 매장들 하나씩 조회\n",
    "    for idx in range(len(store_elements)):\n",
    "        driver.implicitly_wait(1)\n",
    "        store_elements[idx].click() #li의 스토어를 클릭\n",
    "        driver.implicitly_wait(WAIT) # 2초 휴식\n",
    "        try:\n",
    "            #다른 iframe으로 변경\n",
    "            switch_frame('entryIframe')\n",
    "            time_wait(2, '.Fc1rA')\n",
    "\n",
    "            # -----매장명 가져오기-----\n",
    "            store_name = driver.find_element(By.CSS_SELECTOR,'.Fc1rA').text\n",
    "            driver.implicitly_wait(2)\n",
    "            review_dic[store_name] = {}\n",
    "\n",
    "            # -----위치 가져오기-----\n",
    "            try : \n",
    "                location = driver.find_element(By.CSS_SELECTOR, 'span.IH7VW').text\n",
    "                driver.implicitly_wait(WAIT)\n",
    "                review_dic[store_name]['location'] = location\n",
    "            except:\n",
    "                pass\n",
    "\n",
    "            # -----리뷰 크롤링---------\n",
    "            # 방문자 리뷰 크롤링\n",
    "            review_dic[store_name]['review'] = crawling_visitor_review()\n",
    "            driver.implicitly_wait(WAIT)\n",
    "            #driver.execute_script(\"window.scrollTo(0, 0);\")\n",
    "            #driver.implicitly_wait(WAIT)\n",
    "            # 블로거 리뷰 크롤링\n",
    "            #review_dic[store_name]['review'] = review_dic[store_name]['review']+crawling_blog_review()\n",
    "            #driver.implicitly_wait(WAIT)\n",
    "\n",
    "        except:\n",
    "            pass\n",
    "        switch_frame('searchIframe')\n",
    "        refresh_point = (len(store_elements)-1)//3\n",
    "\n",
    "        if idx == refresh_point:\n",
    "            sleep(3)\n",
    "            driver.refresh()\n",
    "            driver.implicitly_wait(3)\n",
    "            switch_frame('searchIframe')\n",
    "            driver.implicitly_wait(3)\n",
    "            driver.refresh()\n",
    "            driver.implicitly_wait(2)\n",
    "            switch_frame('searchIframe')\n",
    "            driver.implicitly_wait(2)\n",
    "            body = driver.find_element(By.CSS_SELECTOR,'body.place_on_pcmap')\n",
    "            body.click()\n",
    "            for i in range(40): \n",
    "                body.send_keys(Keys.PAGE_DOWN)\n",
    "            driver.implicitly_wait(3)\n",
    "            #driver.implicitly_wait(1)\n",
    "            for i in range(5): \n",
    "                body.send_keys(Keys.PAGE_DOWN)\n",
    "            store_elements = driver.find_elements(By.CSS_SELECTOR,'div.ouxiq.icT4K > a:nth-child(1)')\n",
    "            driver.implicitly_wait(3)\n",
    "            print('len of store_elements : ', len(store_elements))\n",
    "            driver.implicitly_wait(3)\n",
    "\n",
    "        elif idx == (refresh_point*2):\n",
    "            sleep(3)\n",
    "            driver.refresh()\n",
    "            driver.implicitly_wait(3)\n",
    "            switch_frame('searchIframe')\n",
    "            driver.implicitly_wait(3)\n",
    "            driver.refresh()\n",
    "            driver.implicitly_wait(2)\n",
    "            switch_frame('searchIframe')\n",
    "            driver.implicitly_wait(2)\n",
    "            body = driver.find_element(By.CSS_SELECTOR,'body.place_on_pcmap')\n",
    "            body.click()\n",
    "            for i in range(40): \n",
    "                body.send_keys(Keys.PAGE_DOWN)\n",
    "            driver.implicitly_wait(3)\n",
    "            #driver.implicitly_wait(1)\n",
    "            for i in range(5): \n",
    "                body.send_keys(Keys.PAGE_DOWN)\n",
    "            store_elements = driver.find_elements(By.CSS_SELECTOR,'div.ouxiq.icT4K > a:nth-child(1)')\n",
    "            driver.implicitly_wait(3)\n",
    "            print('len of store_elements : ', len(store_elements))\n",
    "            driver.implicitly_wait(3)\n",
    "            \n",
    "        # json 파일로 저장\n",
    "    with open(f'naver_review_dic_page{page_nums}.json', 'w', encoding='utf-8') as f:\n",
    "        json.dump(review_dic, f, indent=4, ensure_ascii=False)\n",
    "        \n",
    "'''            "
   ]
  },
  {
   "cell_type": "code",
   "execution_count": 140,
   "id": "9d4c5ca7",
   "metadata": {},
   "outputs": [
    {
     "name": "stderr",
     "output_type": "stream",
     "text": [
      "C:\\Users\\JSWonner\\AppData\\Local\\Temp\\ipykernel_14752\\145050225.py:5: DeprecationWarning: executable_path has been deprecated, please pass in a Service object\n",
      "  driver = webdriver.Chrome('./chromedriver')\n"
     ]
    }
   ],
   "source": [
    "# --크롬창을 숨기고 실행-- driver에 options를 추가해주면된다\n",
    "#options = webdriver.ChromeOptions()\n",
    "#options.add_argument('headless')\n",
    "url = 'https://map.naver.com/v5/search'\n",
    "driver = webdriver.Chrome('./chromedriver')\n",
    "#driver = webdriver.Chrome('./chromedriver',chrome_options=options) # 크롬창 숨기기\n",
    "driver.get(url)"
   ]
  },
  {
   "cell_type": "code",
   "execution_count": 47,
   "id": "51f6c749",
   "metadata": {},
   "outputs": [],
   "source": [
    "review_dic=dict()\n",
    "store_elements = list()\n",
    "def review_crawling2(key_word, page_num):\n",
    "    global review_dic\n",
    "    global store_elements\n",
    "    WAIT = 3\n",
    "    page_num = page_num-1\n",
    "    for idx in range(3):\n",
    "        url = 'https://map.naver.com/v5/search'\n",
    "        driver = webdriver.Chrome('./chromedriver')\n",
    "        driver.get(url)\n",
    "        driver.implicitly_wait(2)\n",
    "        \n",
    "        find_search_input(key_word,driver=driver)\n",
    "        driver.implicitly_wait(2)\n",
    "        switch_frame('searchIframe',driver)\n",
    "        driver.implicitly_wait(WAIT)\n",
    "        driver.execute_script(\"window.scrollTo(0, 0);\")\n",
    "        driver.implicitly_wait(WAIT)\n",
    "         # 페이지 버튼의 수\n",
    "        pages = driver.find_elements(By.CSS_SELECTOR,'a.mBN2s')\n",
    "        if page_num <= 5:\n",
    "            pages[page_num].click()\n",
    "            driver.implicitly_wait(WAIT)\n",
    "        else:\n",
    "            driver.find_elements(By.CSS_SELECTOR,'div.zRM9F > a:nth-child(6)').click()\n",
    "            driver.implicitly_wait(WAIT)\n",
    "            driver.find_element(By.CSS_SELECTOR, 'div.zRM9F > a:nth-child(6)').click()\n",
    "            driver.implicitly_wait(WAIT)\n",
    "            \n",
    "        driver.implicitly_wait(2)\n",
    "        page_down(40,driver)\n",
    "        driver.implicitly_wait(WAIT)\n",
    "        page_down(5,driver)\n",
    "        driver.implicitly_wait(2)\n",
    "        store_elements = driver.find_elements(By.CSS_SELECTOR,'div.ouxiq.icT4K > a:nth-child(1)')\n",
    "        print('total store_list : ', len(store_elements))\n",
    "        \n",
    "        \n",
    "        \n",
    "        ch_pt1 = len(store_elements) // 3\n",
    "        ch_pt2 = ch_pt1*2\n",
    "        if idx == 0:\n",
    "            print('first crawling store_list', ch_pt1)\n",
    "            for i in range(ch_pt1):\n",
    "                driver.implicitly_wait(1)\n",
    "                store_elements[i].click() #li의 스토어를 클릭\n",
    "                driver.implicitly_wait(WAIT) # 2초 휴식\n",
    "                try:\n",
    "                    #다른 iframe으로 변경\n",
    "                    switch_frame('entryIframe',driver)\n",
    "                    time_wait(2, '.Fc1rA',driver)\n",
    "\n",
    "                    # -----매장명 가져오기-----\n",
    "                    store_name = driver.find_element(By.CSS_SELECTOR,'.Fc1rA').text\n",
    "                    driver.implicitly_wait(2)\n",
    "                    review_dic[store_name] = {}\n",
    "\n",
    "                    # -----위치 가져오기-----\n",
    "                    try : \n",
    "                        location = driver.find_element(By.CSS_SELECTOR, 'span.IH7VW').text\n",
    "                        driver.implicitly_wait(WAIT)\n",
    "                        review_dic[store_name]['location'] = location\n",
    "                    except:\n",
    "                        pass\n",
    "\n",
    "                    # -----리뷰 크롤링---------\n",
    "                    # 방문자 리뷰 크롤링\n",
    "                    review_dic[store_name]['review'] = crawling_visitor_review(driver)\n",
    "                    driver.implicitly_wait(WAIT)\n",
    "                except:\n",
    "                    pass\n",
    "                switch_frame('searchIframe',driver)\n",
    "                \n",
    "                    \n",
    "                    \n",
    "                    \n",
    "        elif idx == 1:\n",
    "            print('second crawling store_list', ch_pt2-ch_pt1)\n",
    "            for i in range(ch_pt1,ch_pt2):\n",
    "                driver.implicitly_wait(1)\n",
    "                store_elements[i].click() #li의 스토어를 클릭\n",
    "                driver.implicitly_wait(WAIT) # 2초 휴식\n",
    "                try:\n",
    "                    #다른 iframe으로 변경\n",
    "                    switch_frame('entryIframe',driver)\n",
    "                    time_wait(2, '.Fc1rA',driver)\n",
    "\n",
    "                    # -----매장명 가져오기-----\n",
    "                    store_name = driver.find_element(By.CSS_SELECTOR,'.Fc1rA').text\n",
    "                    driver.implicitly_wait(2)\n",
    "                    review_dic[store_name] = {}\n",
    "\n",
    "                    # -----위치 가져오기-----\n",
    "                    try : \n",
    "                        location = driver.find_element(By.CSS_SELECTOR, 'span.IH7VW').text\n",
    "                        driver.implicitly_wait(WAIT)\n",
    "                        review_dic[store_name]['location'] = location\n",
    "                    except:\n",
    "                        pass\n",
    "\n",
    "                    # -----리뷰 크롤링---------\n",
    "                    # 방문자 리뷰 크롤링\n",
    "                    review_dic[store_name]['review'] = crawling_visitor_review(driver)\n",
    "                    driver.implicitly_wait(WAIT)\n",
    "                except:\n",
    "                    pass\n",
    "                switch_frame('searchIframe',driver)\n",
    "            \n",
    "        else :\n",
    "            print('third crawling store_list', len(store_elements)-ch_pt2)\n",
    "            for i in range(ch_pt2,len(store_elements)):\n",
    "                driver.implicitly_wait(1)\n",
    "                store_elements[i].click() #li의 스토어를 클릭\n",
    "                driver.implicitly_wait(WAIT) # 2초 휴식\n",
    "                try:\n",
    "                   #다른 iframe으로 변경\n",
    "                    switch_frame('entryIframe',driver)\n",
    "                    time_wait(2, '.Fc1rA',driver)\n",
    "\n",
    "                    # -----매장명 가져오기-----\n",
    "                    store_name = driver.find_element(By.CSS_SELECTOR,'.Fc1rA').text\n",
    "                    driver.implicitly_wait(2)\n",
    "                    review_dic[store_name] = dict()\n",
    "\n",
    "                    # -----위치 가져오기-----\n",
    "                    try : \n",
    "                        location = driver.find_element(By.CSS_SELECTOR, 'span.IH7VW').text\n",
    "                        driver.implicitly_wait(WAIT)\n",
    "                        review_dic[store_name]['location'] = location\n",
    "                    except:\n",
    "                        pass\n",
    "\n",
    "                    # -----리뷰 크롤링---------\n",
    "                    # 방문자 리뷰 크롤링\n",
    "                    review_dic[store_name]['review'] = crawling_visitor_review(driver)\n",
    "                    driver.implicitly_wait(WAIT)\n",
    "                except:\n",
    "                    pass\n",
    "                switch_frame('searchIframe',driver)\n",
    "                \n",
    "                    \n",
    "    # json 파일로 저장\n",
    "    with open(f'naver_{key_word}_review_dic_page{page_num}.json', 'w', encoding='utf-8') as f:\n",
    "        json.dump(review_dic, f, indent=4, ensure_ascii=False)\n",
    "        \n",
    "            \n",
    "        \n",
    "        \n",
    "    \n",
    "    \n",
    "    "
   ]
  },
  {
   "cell_type": "code",
   "execution_count": 48,
   "id": "9a4d3065",
   "metadata": {},
   "outputs": [
    {
     "name": "stderr",
     "output_type": "stream",
     "text": [
      "C:\\Users\\JSWonner\\AppData\\Local\\Temp\\ipykernel_4904\\3982112359.py:10: DeprecationWarning: executable_path has been deprecated, please pass in a Service object\n",
      "  driver = webdriver.Chrome('./chromedriver')\n"
     ]
    },
    {
     "name": "stdout",
     "output_type": "stream",
     "text": [
      "total store_list :  54\n",
      "first crawling store_list 18\n",
      "total store_list :  54\n",
      "second crawling store_list 18\n",
      "total store_list :  54\n",
      "third crawling store_list 18\n"
     ]
    }
   ],
   "source": [
    "review_crawling2('서울 횟집',1)"
   ]
  },
  {
   "cell_type": "code",
   "execution_count": null,
   "id": "51fcc553",
   "metadata": {},
   "outputs": [],
   "source": []
  },
  {
   "cell_type": "code",
   "execution_count": 141,
   "id": "5a982963",
   "metadata": {},
   "outputs": [],
   "source": [
    "key_word_list = ['서울 횟집', '인천 횟집', '부산 횟집', '대구 횟집', ' 대전 횟집', '울산 횟집', '광주 횟집']"
   ]
  },
  {
   "cell_type": "code",
   "execution_count": 49,
   "id": "2f0ca9dc",
   "metadata": {},
   "outputs": [],
   "source": [
    "#review_crawling(key_word_list[0],1)"
   ]
  },
  {
   "cell_type": "code",
   "execution_count": 51,
   "id": "3f5a80b1",
   "metadata": {},
   "outputs": [
    {
     "data": {
      "text/plain": [
       "51"
      ]
     },
     "execution_count": 51,
     "metadata": {},
     "output_type": "execute_result"
    }
   ],
   "source": [
    "len(review_dic)"
   ]
  },
  {
   "cell_type": "code",
   "execution_count": 53,
   "id": "50a48d63",
   "metadata": {},
   "outputs": [
    {
     "data": {
      "text/plain": [
       "dict_keys(['목포회센타', '옛날마차신관', '해누리', '횟집울릉도', '바다회사랑', '은성횟집', '진동횟집', '최우영수산', '어사랑횟집', '건대사시미', '상훈이네 바다이야기', '자매수산', '횟집산이네', '기유', '어다리횟집구로점', '으뜸횟집', '옛날마차', '회뜨는사나이 1호점', '회통령 홍대점', '동해수산', '오 막회집 서울대점', '두꺼비숙성횟집 마곡점', '목포명가 세곡점', '강남보물섬', '오징어데이', '형제상회', '이수회관', '피쉬스토리', '다성 대게킹크랩', '고기야미안해', '수다떠는오징어', '바다회세꼬시', '바다풍경', '남대문막내횟집 광교점', '매일스시횟집', '바다회사랑2호점', '유명한횟집', '남해안', '제주식당', '진동둔횟집', '오징어선수촌 방이점', '광어포차', '부부횟집', '응수수산', '오늘은내가쏜다', '회뜰때까지', '가산어시장', '선선어가 구로점', '전라상회', '대찬횟집', '탐라도회'])"
      ]
     },
     "execution_count": 53,
     "metadata": {},
     "output_type": "execute_result"
    }
   ],
   "source": [
    "review_dic.keys()"
   ]
  },
  {
   "cell_type": "code",
   "execution_count": 46,
   "id": "a70469e0",
   "metadata": {},
   "outputs": [
    {
     "data": {
      "text/plain": [
       "{}"
      ]
     },
     "execution_count": 46,
     "metadata": {},
     "output_type": "execute_result"
    }
   ],
   "source": [
    "review_dic"
   ]
  },
  {
   "cell_type": "code",
   "execution_count": 54,
   "id": "01fe701e",
   "metadata": {},
   "outputs": [
    {
     "ename": "SyntaxError",
     "evalue": "invalid syntax (3598554095.py, line 1)",
     "output_type": "error",
     "traceback": [
      "\u001b[1;36m  Input \u001b[1;32mIn [54]\u001b[1;36m\u001b[0m\n\u001b[1;33m    range(10:20)\u001b[0m\n\u001b[1;37m            ^\u001b[0m\n\u001b[1;31mSyntaxError\u001b[0m\u001b[1;31m:\u001b[0m invalid syntax\n"
     ]
    }
   ],
   "source": [
    "range(10:20)"
   ]
  },
  {
   "cell_type": "raw",
   "id": "2ccc89df",
   "metadata": {},
   "source": [
    "\n",
    "문제점\n",
    "1. 블로그 리뷰는 앞에 서사 부분이 너무 쓸모가 없다.\n",
    "2. 방문자 리뷰 크롤링시 한 페이지당 51개의 매장들이 있는데 중간에 통신(네트워크)가 끊겨서 페이지의 가게 리스트를 3단위씩 끊어서 저장 시킨다.\n",
    "=> '새로고침'키를 입력해주고 refresh_point, refresh_point*2 로 슬라이싱한다.\n",
    "=> 크롤링중 '새로고침'\n",
    "문제점 : 첫번째 서치 때는 \n",
    "나눠서 창을 띄운다."
   ]
  },
  {
   "cell_type": "code",
   "execution_count": null,
   "id": "6e432dc9",
   "metadata": {},
   "outputs": [],
   "source": [
    "# --크롬창을 숨기고 실행-- driver에 options를 추가해주면된다\n",
    "#options = webdriver.ChromeOptions()\n",
    "#options.add_argument('headless')\n",
    "url = 'https://map.naver.com/v5/search'\n",
    "driver = webdriver.Chrome('./chromedriver')\n",
    "#driver = webdriver.Chrome('./chromedriver',chrome_options=options) # 크롬창 숨기기\n",
    "driver.get(url)"
   ]
  },
  {
   "cell_type": "code",
   "execution_count": 23,
   "id": "5dbde414",
   "metadata": {},
   "outputs": [],
   "source": [
    "url = 'https://map.naver.com/v5/search'\n",
    "driver.get(url)"
   ]
  },
  {
   "cell_type": "code",
   "execution_count": 24,
   "id": "5043d3ba",
   "metadata": {},
   "outputs": [
    {
     "ename": "WebDriverException",
     "evalue": "Message: chrome not reachable\n  (Session info: chrome=104.0.5112.102)\nStacktrace:\nBacktrace:\n\tOrdinal0 [0x00B978B3+2193587]\n\tOrdinal0 [0x00B30681+1771137]\n\tOrdinal0 [0x00A44070+802928]\n\tOrdinal0 [0x00A39AB2+760498]\n\tOrdinal0 [0x00A2CEAF+708271]\n\tOrdinal0 [0x00A31142+725314]\n\tOrdinal0 [0x00A355C9+742857]\n\tOrdinal0 [0x00A45500+808192]\n\tOrdinal0 [0x00A9D2C2+1168066]\n\tOrdinal0 [0x00A8D5C6+1103302]\n\tOrdinal0 [0x00A677E0+948192]\n\tOrdinal0 [0x00A686E6+952038]\n\tGetHandleVerifier [0x00E40CB2+2738370]\n\tGetHandleVerifier [0x00E321B8+2678216]\n\tGetHandleVerifier [0x00C217AA+512954]\n\tGetHandleVerifier [0x00C20856+509030]\n\tOrdinal0 [0x00B3743B+1799227]\n\tOrdinal0 [0x00B3BB68+1817448]\n\tOrdinal0 [0x00B3BC55+1817685]\n\tOrdinal0 [0x00B45230+1856048]\n\tBaseThreadInitThunk [0x7740FA29+25]\n\tRtlGetAppContainerNamedObjectPath [0x77597A9E+286]\n\tRtlGetAppContainerNamedObjectPath [0x77597A6E+238]\n",
     "output_type": "error",
     "traceback": [
      "\u001b[1;31m---------------------------------------------------------------------------\u001b[0m",
      "\u001b[1;31mWebDriverException\u001b[0m                        Traceback (most recent call last)",
      "Input \u001b[1;32mIn [24]\u001b[0m, in \u001b[0;36m<cell line: 1>\u001b[1;34m()\u001b[0m\n\u001b[1;32m----> 1\u001b[0m \u001b[43mfind_search_input\u001b[49m\u001b[43m(\u001b[49m\u001b[38;5;124;43m'\u001b[39;49m\u001b[38;5;124;43m서울 횟집\u001b[39;49m\u001b[38;5;124;43m'\u001b[39;49m\u001b[43m)\u001b[49m\n\u001b[0;32m      2\u001b[0m \u001b[38;5;66;03m# searchIframe 변경\u001b[39;00m\n\u001b[0;32m      3\u001b[0m switch_frame(\u001b[38;5;124m'\u001b[39m\u001b[38;5;124msearchIframe\u001b[39m\u001b[38;5;124m'\u001b[39m)\n",
      "Input \u001b[1;32mIn [12]\u001b[0m, in \u001b[0;36mfind_search_input\u001b[1;34m(key_word)\u001b[0m\n\u001b[0;32m      8\u001b[0m search\u001b[38;5;241m.\u001b[39msend_keys(Keys\u001b[38;5;241m.\u001b[39mENTER)  \u001b[38;5;66;03m# 엔터버튼 누르기\u001b[39;00m\n\u001b[0;32m      9\u001b[0m sleep(\u001b[38;5;241m5\u001b[39m)\n\u001b[1;32m---> 10\u001b[0m res \u001b[38;5;241m=\u001b[39m \u001b[43mdriver\u001b[49m\u001b[38;5;241;43m.\u001b[39;49m\u001b[43mpage_source\u001b[49m  \u001b[38;5;66;03m# 페이지 소스 가져오기\u001b[39;00m\n\u001b[0;32m     11\u001b[0m soup \u001b[38;5;241m=\u001b[39m BeautifulSoup(res, \u001b[38;5;124m'\u001b[39m\u001b[38;5;124mhtml.parser\u001b[39m\u001b[38;5;124m'\u001b[39m)  \u001b[38;5;66;03m# html 파싱하여  가져온다\u001b[39;00m\n\u001b[0;32m     12\u001b[0m sleep(\u001b[38;5;241m1\u001b[39m)\n",
      "File \u001b[1;32m~\\AppData\\Roaming\\Python\\Python39\\site-packages\\selenium\\webdriver\\remote\\webdriver.py:539\u001b[0m, in \u001b[0;36mWebDriver.page_source\u001b[1;34m(self)\u001b[0m\n\u001b[0;32m    529\u001b[0m \u001b[38;5;129m@property\u001b[39m\n\u001b[0;32m    530\u001b[0m \u001b[38;5;28;01mdef\u001b[39;00m \u001b[38;5;21mpage_source\u001b[39m(\u001b[38;5;28mself\u001b[39m) \u001b[38;5;241m-\u001b[39m\u001b[38;5;241m>\u001b[39m \u001b[38;5;28mstr\u001b[39m:\n\u001b[0;32m    531\u001b[0m     \u001b[38;5;124;03m\"\"\"\u001b[39;00m\n\u001b[0;32m    532\u001b[0m \u001b[38;5;124;03m    Gets the source of the current page.\u001b[39;00m\n\u001b[0;32m    533\u001b[0m \n\u001b[1;32m   (...)\u001b[0m\n\u001b[0;32m    537\u001b[0m \u001b[38;5;124;03m            driver.page_source\u001b[39;00m\n\u001b[0;32m    538\u001b[0m \u001b[38;5;124;03m    \"\"\"\u001b[39;00m\n\u001b[1;32m--> 539\u001b[0m     \u001b[38;5;28;01mreturn\u001b[39;00m \u001b[38;5;28;43mself\u001b[39;49m\u001b[38;5;241;43m.\u001b[39;49m\u001b[43mexecute\u001b[49m\u001b[43m(\u001b[49m\u001b[43mCommand\u001b[49m\u001b[38;5;241;43m.\u001b[39;49m\u001b[43mGET_PAGE_SOURCE\u001b[49m\u001b[43m)\u001b[49m[\u001b[38;5;124m'\u001b[39m\u001b[38;5;124mvalue\u001b[39m\u001b[38;5;124m'\u001b[39m]\n",
      "File \u001b[1;32m~\\AppData\\Roaming\\Python\\Python39\\site-packages\\selenium\\webdriver\\remote\\webdriver.py:428\u001b[0m, in \u001b[0;36mWebDriver.execute\u001b[1;34m(self, driver_command, params)\u001b[0m\n\u001b[0;32m    426\u001b[0m response \u001b[38;5;241m=\u001b[39m \u001b[38;5;28mself\u001b[39m\u001b[38;5;241m.\u001b[39mcommand_executor\u001b[38;5;241m.\u001b[39mexecute(driver_command, params)\n\u001b[0;32m    427\u001b[0m \u001b[38;5;28;01mif\u001b[39;00m response:\n\u001b[1;32m--> 428\u001b[0m     \u001b[38;5;28;43mself\u001b[39;49m\u001b[38;5;241;43m.\u001b[39;49m\u001b[43merror_handler\u001b[49m\u001b[38;5;241;43m.\u001b[39;49m\u001b[43mcheck_response\u001b[49m\u001b[43m(\u001b[49m\u001b[43mresponse\u001b[49m\u001b[43m)\u001b[49m\n\u001b[0;32m    429\u001b[0m     response[\u001b[38;5;124m'\u001b[39m\u001b[38;5;124mvalue\u001b[39m\u001b[38;5;124m'\u001b[39m] \u001b[38;5;241m=\u001b[39m \u001b[38;5;28mself\u001b[39m\u001b[38;5;241m.\u001b[39m_unwrap_value(\n\u001b[0;32m    430\u001b[0m         response\u001b[38;5;241m.\u001b[39mget(\u001b[38;5;124m'\u001b[39m\u001b[38;5;124mvalue\u001b[39m\u001b[38;5;124m'\u001b[39m, \u001b[38;5;28;01mNone\u001b[39;00m))\n\u001b[0;32m    431\u001b[0m     \u001b[38;5;28;01mreturn\u001b[39;00m response\n",
      "File \u001b[1;32m~\\AppData\\Roaming\\Python\\Python39\\site-packages\\selenium\\webdriver\\remote\\errorhandler.py:243\u001b[0m, in \u001b[0;36mErrorHandler.check_response\u001b[1;34m(self, response)\u001b[0m\n\u001b[0;32m    241\u001b[0m         alert_text \u001b[38;5;241m=\u001b[39m value[\u001b[38;5;124m'\u001b[39m\u001b[38;5;124malert\u001b[39m\u001b[38;5;124m'\u001b[39m]\u001b[38;5;241m.\u001b[39mget(\u001b[38;5;124m'\u001b[39m\u001b[38;5;124mtext\u001b[39m\u001b[38;5;124m'\u001b[39m)\n\u001b[0;32m    242\u001b[0m     \u001b[38;5;28;01mraise\u001b[39;00m exception_class(message, screen, stacktrace, alert_text)  \u001b[38;5;66;03m# type: ignore[call-arg]  # mypy is not smart enough here\u001b[39;00m\n\u001b[1;32m--> 243\u001b[0m \u001b[38;5;28;01mraise\u001b[39;00m exception_class(message, screen, stacktrace)\n",
      "\u001b[1;31mWebDriverException\u001b[0m: Message: chrome not reachable\n  (Session info: chrome=104.0.5112.102)\nStacktrace:\nBacktrace:\n\tOrdinal0 [0x00B978B3+2193587]\n\tOrdinal0 [0x00B30681+1771137]\n\tOrdinal0 [0x00A44070+802928]\n\tOrdinal0 [0x00A39AB2+760498]\n\tOrdinal0 [0x00A2CEAF+708271]\n\tOrdinal0 [0x00A31142+725314]\n\tOrdinal0 [0x00A355C9+742857]\n\tOrdinal0 [0x00A45500+808192]\n\tOrdinal0 [0x00A9D2C2+1168066]\n\tOrdinal0 [0x00A8D5C6+1103302]\n\tOrdinal0 [0x00A677E0+948192]\n\tOrdinal0 [0x00A686E6+952038]\n\tGetHandleVerifier [0x00E40CB2+2738370]\n\tGetHandleVerifier [0x00E321B8+2678216]\n\tGetHandleVerifier [0x00C217AA+512954]\n\tGetHandleVerifier [0x00C20856+509030]\n\tOrdinal0 [0x00B3743B+1799227]\n\tOrdinal0 [0x00B3BB68+1817448]\n\tOrdinal0 [0x00B3BC55+1817685]\n\tOrdinal0 [0x00B45230+1856048]\n\tBaseThreadInitThunk [0x7740FA29+25]\n\tRtlGetAppContainerNamedObjectPath [0x77597A9E+286]\n\tRtlGetAppContainerNamedObjectPath [0x77597A6E+238]\n"
     ]
    }
   ],
   "source": [
    "find_search_input('서울 횟집')\n",
    "# searchIframe 변경\n",
    "switch_frame('searchIframe')\n",
    "driver.implicitly_wait(3)\n",
    "page_down(40)\n",
    "driver.implicitly_wait(3)\n",
    "page_down(5)\n"
   ]
  },
  {
   "cell_type": "code",
   "execution_count": null,
   "id": "b99cbfe7",
   "metadata": {},
   "outputs": [],
   "source": [
    "store_elements = driver.find_elements(By.CSS_SELECTOR,'div._3ZU00._1rBq3 > a:nth-child(1)')"
   ]
  },
  {
   "cell_type": "code",
   "execution_count": null,
   "id": "56a0486b",
   "metadata": {},
   "outputs": [],
   "source": [
    "len(store_elements)"
   ]
  },
  {
   "cell_type": "code",
   "execution_count": null,
   "id": "e6ea7496",
   "metadata": {},
   "outputs": [],
   "source": [
    "store_elements[26].click()"
   ]
  },
  {
   "cell_type": "code",
   "execution_count": null,
   "id": "368c112b",
   "metadata": {},
   "outputs": [],
   "source": [
    "switch_frame('entryIframe')"
   ]
  },
  {
   "cell_type": "code",
   "execution_count": null,
   "id": "6a71c2e7",
   "metadata": {},
   "outputs": [],
   "source": [
    "switch_frame('searchIframe')"
   ]
  },
  {
   "cell_type": "code",
   "execution_count": null,
   "id": "7d98adf3",
   "metadata": {},
   "outputs": [],
   "source": [
    "driver.refresh()"
   ]
  },
  {
   "cell_type": "code",
   "execution_count": null,
   "id": "0538372c",
   "metadata": {},
   "outputs": [],
   "source": [
    "switch_frame('searchIframe')"
   ]
  },
  {
   "cell_type": "code",
   "execution_count": null,
   "id": "073011ac",
   "metadata": {},
   "outputs": [],
   "source": [
    "page_down(40)\n",
    "driver.implicitly_wait(3)\n",
    "page_down(5)"
   ]
  },
  {
   "cell_type": "code",
   "execution_count": null,
   "id": "ffeb46c2",
   "metadata": {},
   "outputs": [],
   "source": [
    "store_elements = driver.find_elements(By.CSS_SELECTOR,'div._3ZU00._1rBq3 > a:nth-child(1)')"
   ]
  },
  {
   "cell_type": "code",
   "execution_count": null,
   "id": "43546779",
   "metadata": {},
   "outputs": [],
   "source": [
    "len(store_elements)"
   ]
  },
  {
   "cell_type": "code",
   "execution_count": null,
   "id": "86f38b73",
   "metadata": {},
   "outputs": [],
   "source": [
    "store_elements[27].click()"
   ]
  },
  {
   "cell_type": "code",
   "execution_count": null,
   "id": "e059197a",
   "metadata": {},
   "outputs": [],
   "source": [
    "driver.execute_script(\"window.scrollTo(0, document.body.scrollHeight);\")"
   ]
  },
  {
   "cell_type": "code",
   "execution_count": null,
   "id": "53fc4469",
   "metadata": {},
   "outputs": [],
   "source": [
    "switch_frame('searchIframe')"
   ]
  },
  {
   "cell_type": "code",
   "execution_count": null,
   "id": "b6590a9d",
   "metadata": {},
   "outputs": [],
   "source": [
    "driver.execute_script(\"window.scrollTo(0, document.body.scrollHeight);\")"
   ]
  },
  {
   "cell_type": "code",
   "execution_count": 44,
   "id": "cdcc797d",
   "metadata": {},
   "outputs": [],
   "source": [
    "page_down(20)"
   ]
  },
  {
   "cell_type": "code",
   "execution_count": null,
   "id": "4584048e",
   "metadata": {},
   "outputs": [],
   "source": [
    "dri"
   ]
  },
  {
   "cell_type": "code",
   "execution_count": null,
   "id": "30e10f62",
   "metadata": {},
   "outputs": [],
   "source": []
  }
 ],
 "metadata": {
  "kernelspec": {
   "display_name": "Python 3 (ipykernel)",
   "language": "python",
   "name": "python3"
  },
  "language_info": {
   "codemirror_mode": {
    "name": "ipython",
    "version": 3
   },
   "file_extension": ".py",
   "mimetype": "text/x-python",
   "name": "python",
   "nbconvert_exporter": "python",
   "pygments_lexer": "ipython3",
   "version": "3.9.12"
  }
 },
 "nbformat": 4,
 "nbformat_minor": 5
}
