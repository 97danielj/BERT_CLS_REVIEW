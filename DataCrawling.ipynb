{
 "cells": [
  {
   "cell_type": "markdown",
   "id": "99af54ab",
   "metadata": {},
   "source": [
    "# 환경설정"
   ]
  },
  {
   "cell_type": "code",
   "execution_count": 1,
   "id": "813dbd78",
   "metadata": {},
   "outputs": [],
   "source": [
    "import time\n",
    "from selenium import webdriver\n",
    "from selenium.webdriver.common.keys import Keys\n",
    "from selenium.webdriver.common.by import By\n",
    "from selenium.webdriver.support.ui import WebDriverWait\n",
    "from selenium.webdriver.support import expected_conditions as EC\n",
    "from time import sleep\n",
    "from bs4 import BeautifulSoup\n",
    "import re\n",
    "import json\n",
    "#options = webdriver.ChromeOptions()\n",
    "#options.add_argument('headless')"
   ]
  },
  {
   "cell_type": "markdown",
   "id": "281712c5",
   "metadata": {},
   "source": [
    "# 크롬창 열기"
   ]
  },
  {
   "cell_type": "code",
   "execution_count": 2,
   "id": "370ffce8",
   "metadata": {},
   "outputs": [
    {
     "name": "stderr",
     "output_type": "stream",
     "text": [
      "C:\\Users\\JSWonner\\AppData\\Local\\Temp\\ipykernel_1724\\2096135440.py:2: DeprecationWarning: executable_path has been deprecated, please pass in a Service object\n",
      "  driver = webdriver.Chrome('./chromedriver')  # 드라이버 경로\n"
     ]
    }
   ],
   "source": [
    "url = 'https://map.naver.com/v5/search'\n",
    "driver = webdriver.Chrome('./chromedriver')  # 드라이버 경로\n",
    "#driver = webdriver.Chrome('./chromedriver',chrome_options=options) # 크롬창 숨기기\n",
    "driver.get(url)\n",
    "key_word_list = ['노량진수산시장 횟집', '송파구 횟집', '강서구 횟집', '강남구 횟집', '노원구 횟집', '은평구 횟집']"
   ]
  },
  {
   "cell_type": "code",
   "execution_count": 3,
   "id": "afa5ef51",
   "metadata": {},
   "outputs": [],
   "source": [
    "key_word = ['노량진수산시장 횟집']"
   ]
  },
  {
   "cell_type": "code",
   "execution_count": 4,
   "id": "7360183c",
   "metadata": {},
   "outputs": [],
   "source": [
    "# css 찾을때 까지 10초대기\n",
    "def time_wait(num, code):\n",
    "    try:\n",
    "        wait = WebDriverWait(driver, num).until(\n",
    "            EC.presence_of_element_located((By.CSS_SELECTOR, code)))\n",
    "    except:\n",
    "        print(code, '태그를 찾지 못하였습니다.')\n",
    "        driver.quit()\n",
    "    return wait"
   ]
  },
  {
   "cell_type": "code",
   "execution_count": 5,
   "id": "5a4257d7",
   "metadata": {},
   "outputs": [],
   "source": [
    "def find_search_input(key_word):\n",
    "    # 검색창 찾기\n",
    "    time_wait(2, 'div.input_box > input.input_search')\n",
    "    search = driver.find_element(By.CSS_SELECTOR,'div.input_box > input.input_search')\n",
    "    search.send_keys(key_word)  # 검색어 입력\n",
    "    search.send_keys(Keys.ENTER)  # 엔터버튼 누르기\n",
    "    \n",
    "    res = driver.page_source  # 페이지 소스 가져오기\n",
    "    soup = BeautifulSoup(res, 'html.parser')  # html 파싱하여  가져온다\n",
    "    sleep(1)"
   ]
  },
  {
   "cell_type": "code",
   "execution_count": 6,
   "id": "38510e7d",
   "metadata": {},
   "outputs": [],
   "source": [
    "# frame 변경 메소드\n",
    "def switch_frame(frame):\n",
    "    driver.switch_to.default_content()  # frame 초기화\n",
    "    driver.switch_to.frame(frame)  # frame 변경\n",
    "    driver.implicitly_wait(1)\n"
   ]
  },
  {
   "cell_type": "code",
   "execution_count": 7,
   "id": "7611d926",
   "metadata": {},
   "outputs": [],
   "source": [
    "# 페이지 다운\n",
    "def page_down(num):\n",
    "    body = driver.find_element(By.CSS_SELECTOR,'body')\n",
    "    body.click()\n",
    "    for i in range(num):\n",
    "        body.send_keys(Keys.PAGE_DOWN)"
   ]
  },
  {
   "cell_type": "code",
   "execution_count": 8,
   "id": "3f1ce22f",
   "metadata": {},
   "outputs": [],
   "source": [
    "def find_store_list():\n",
    "    # 매장 리스트\n",
    "    store_list = driver.find_elements(By.CSS_SELECTOR,'._22p-O')\n",
    "    # 페이지 리스트\n",
    "    next_btn = driver.find_elements(By.CSS_SELECTOR,'._2ky45 > a')\n",
    "    return store_list, next_btn"
   ]
  },
  {
   "cell_type": "code",
   "execution_count": 10,
   "id": "74f1001e",
   "metadata": {},
   "outputs": [],
   "source": [
    "def find_review_btn():\n",
    "    sleep(2)\n",
    "    time_wait(10,'a._2RG_o._tab-menu')\n",
    "    menu_list = driver.find_elements(By.CSS_SELECTOR,'a._2RG_o._tab-menu')\n",
    "    if len(menu_list) ==7:\n",
    "        return menu_list[-1]\n",
    "    else:\n",
    "        return menu_list[-2]"
   ]
  },
  {
   "cell_type": "code",
   "execution_count": null,
   "id": "650c8d8e",
   "metadata": {},
   "outputs": [],
   "source": [
    "def crawling_visitor_review():\n",
    "    #-----리뷰 버튼 클릭-------\n",
    "    find_review_btn().click()\n",
    "    SCROLL_PAUSE_SEC = 1\n",
    "    \n",
    "    last_scroll = driver.execute_script(\"return document.body.scrollHeight\")\n",
    "    \n",
    "    \n",
    "    while True:\n",
    "        driver.execute_script(\"window.scrollTo(0, document.body.scrollHeight);\")\n",
    "        time.sleep(SCROLL_PAUSE_SEC)\n",
    "        \n",
    "        try :\n",
    "            #더보기 버튼 클릭\n",
    "            driver.find_element(By.CSS_SELECTOR,'._3iTUo').click()\n",
    "            \n",
    "        except:\n",
    "            #더보기 버튼이 없다면 while문을 빠져나온다.\n",
    "            break\n",
    "            # 끝까지 스크롤 다운\n",
    "            \n",
    "        new_scroll = driver.execute_script(\"return document.body.scrollHeight\")\n",
    "        if last_scroll == new_scroll:\n",
    "            break\n",
    "        else:\n",
    "            last_scroll= new_scroll\n",
    "\n",
    "\n",
    "\n",
    "    #가게 리스트 마다 방문자 리뷰 가져오기\n",
    "    review_elements = driver.find_elements(By.CSS_SELECTOR,\"div.faZHB > a > span\")\n",
    "    review_list = []\n",
    "    for i in review_elements:\n",
    "        review_list.append(i.text)\n",
    "    \n",
    "    return review_list\n"
   ]
  },
  {
   "cell_type": "code",
   "execution_count": 93,
   "id": "62362795",
   "metadata": {},
   "outputs": [],
   "source": [
    "def crawling_blog_review():\n",
    "    driver.execute_script(\"window.scrollTo(0, 0);\")\n",
    "    sleep(2)\n",
    "    try :\n",
    "        blog_review_button = driver.find_element(By.CSS_SELECTOR, 'div._1tclc > div > a:nth-child(2)')\n",
    "        blog_review_button.click()\n",
    "    except:\n",
    "        print('블로그 리뷰가 없습니다.')\n",
    "        return\n",
    "    \n",
    "    SCROLL_PAUSE_SEC = 1\n",
    "    sleep(SCROLL_PAUSE_SEC)\n",
    "    \n",
    "    last_scroll = driver.execute_script(\"return document.body.scrollHeight\")\n",
    "    while True:\n",
    "        driver.execute_script(\"window.scrollTo(0, document.body.scrollHeight);\")\n",
    "        time.sleep(SCROLL_PAUSE_SEC)\n",
    "        \n",
    "        try :\n",
    "            #더보기 버튼 클릭\n",
    "            driver.find_element(By.CSS_SELECTOR,'._3iTUo').click()\n",
    "        except:\n",
    "            break\n",
    "            # 끝까지 스크롤 다운\n",
    "            \n",
    "        new_scroll = driver.execute_script(\"return document.body.scrollHeight\")\n",
    "        if last_scroll == new_scroll:\n",
    "            break\n",
    "        else:\n",
    "            last_scroll = new_scroll\n",
    "    \n",
    "    \n",
    "    #가게 리스트 마다 방문자 리뷰 가져오기\n",
    "    review_elements = driver.find_elements(By.CSS_SELECTOR,'div._3jvFk')\n",
    "    review_list = []\n",
    "    for i in review_elements:\n",
    "        review_list.append(i.text)\n",
    "    return review_list\n"
   ]
  },
  {
   "cell_type": "markdown",
   "id": "86de5a29",
   "metadata": {},
   "source": [
    "# 검색 지역 횟집의 리뷰를 크롤링."
   ]
  },
  {
   "cell_type": "code",
   "execution_count": 94,
   "id": "4db940d9",
   "metadata": {
    "scrolled": true
   },
   "outputs": [],
   "source": [
    "review_dic = {}\n",
    "def review_crawling(key_word):\n",
    "    #검색창을 찾아서 서치\n",
    "    find_search_input(key_word)\n",
    "    # searchIframe 변경\n",
    "    switch_frame('searchIframe')\n",
    "    driver.implicitly_wait(2)\n",
    "    # 페이지 버튼의 수\n",
    "    pages = driver.find_elements(By.CSS_SELECTOR,'a._2tk2s') # 이건 필요\n",
    "    for btn in range(1,4): #페이지 버튼\n",
    "         #페이지 버튼 클릭\n",
    "        #각 매장 요소들의 하이퍼링크 리스트\n",
    "        page_down(40)\n",
    "        driver.implicitly_wait(2)\n",
    "        store_elements = driver.find_elements(By.CSS_SELECTOR,'div._3ZU00._1rBq3 > a:nth-child(1)')\n",
    "        \n",
    "        #한 페이지의 50개의 매장들 하나씩 조회\n",
    "        for data in range(len(store_elements)): \n",
    "            store_elements[data].click() #li의 페이지를 클릭\n",
    "            driver.implicitly_wait(2) # 2초 휴식\n",
    "            try:\n",
    "                #다른 iframe으로 변경\n",
    "                switch_frame('entryIframe')\n",
    "                time_wait(2, '._3XamX')\n",
    "        \n",
    "                # -----매장명 가져오기-----\n",
    "                store_name = driver.find_element(By.CSS_SELECTOR,'._3XamX').text\n",
    "                driver.implicitly_wait(2)\n",
    "                # -----리뷰 크롤링---------\n",
    "                review_dic[store_name] = crawling_visitor_review()\n",
    "                sleep(5)\n",
    "                review_dic[store_name] = review_dic[store_name]+crawling_blog_review()\n",
    "                sleep(5)\n",
    "                \n",
    "            except:\n",
    "                pass\n",
    "            switch_frame('searchIframe')\n",
    "            \n",
    "        pages[btn].click()\n",
    "            \n",
    "        # json 파일로 저장\n",
    "    with open('review_dic.json', 'w', encoding='utf-8') as f:\n",
    "        json.dump(review_dic, f, indent=4, ensure_ascii=False)\n",
    "        \n",
    "            "
   ]
  },
  {
   "cell_type": "code",
   "execution_count": 95,
   "id": "2f0ca9dc",
   "metadata": {},
   "outputs": [
    {
     "name": "stderr",
     "output_type": "stream",
     "text": [
      "C:\\Users\\JSWonner\\AppData\\Local\\Temp\\ipykernel_13360\\3270057109.py:2: DeprecationWarning: executable_path has been deprecated, please pass in a Service object\n",
      "  driver = webdriver.Chrome('./chromedriver')  # 드라이버 경로\n"
     ]
    }
   ],
   "source": [
    "url = 'https://map.naver.com/v5/search'\n",
    "driver = webdriver.Chrome('./chromedriver')  # 드라이버 경로\n",
    "#driver = webdriver.Chrome('./chromedriver',chrome_options=options) # 크롬창 숨기기\n",
    "driver.get(url)\n",
    "key_word = '노량진수상시장 횟집'"
   ]
  },
  {
   "cell_type": "code",
   "execution_count": null,
   "id": "61bd6a69",
   "metadata": {},
   "outputs": [],
   "source": [
    "review_crawling(key_word)"
   ]
  },
  {
   "cell_type": "code",
   "execution_count": 74,
   "id": "922d3977",
   "metadata": {},
   "outputs": [
    {
     "name": "stderr",
     "output_type": "stream",
     "text": [
      "C:\\Users\\JSWonner\\AppData\\Local\\Temp\\ipykernel_13360\\505887123.py:2: DeprecationWarning: executable_path has been deprecated, please pass in a Service object\n",
      "  driver = webdriver.Chrome('./chromedriver')  # 드라이버 경로\n"
     ]
    }
   ],
   "source": [
    "url = 'https://map.naver.com/v5/search'\n",
    "driver = webdriver.Chrome('./chromedriver')  # 드라이버 경로"
   ]
  },
  {
   "cell_type": "code",
   "execution_count": 75,
   "id": "5ca2cff3",
   "metadata": {},
   "outputs": [],
   "source": [
    "driver.get(url)\n",
    "key_word = '노량진수상시장 횟집'\n",
    "find_search_input(key_word)"
   ]
  },
  {
   "cell_type": "code",
   "execution_count": 76,
   "id": "265b545e",
   "metadata": {},
   "outputs": [],
   "source": [
    "switch_frame('searchIframe')"
   ]
  },
  {
   "cell_type": "code",
   "execution_count": 77,
   "id": "4b168428",
   "metadata": {},
   "outputs": [],
   "source": [
    "driver.execute_script(\"window.scrollTo(0,document.body.scrollHeight);\")"
   ]
  },
  {
   "cell_type": "code",
   "execution_count": 78,
   "id": "db8e31bc",
   "metadata": {},
   "outputs": [],
   "source": [
    "page_down(3)"
   ]
  },
  {
   "cell_type": "code",
   "execution_count": 79,
   "id": "f350ae43",
   "metadata": {},
   "outputs": [],
   "source": [
    "switch_frame('entryIframe')"
   ]
  },
  {
   "cell_type": "code",
   "execution_count": 80,
   "id": "958596d7",
   "metadata": {},
   "outputs": [],
   "source": [
    "driver.execute_script(\"window.scrollTo(0,document.body.scrollHeight);\")"
   ]
  },
  {
   "cell_type": "code",
   "execution_count": 81,
   "id": "314bdade",
   "metadata": {},
   "outputs": [],
   "source": [
    "driver.execute_script(\"window.scrollTo(0,document.body.scrollHeight);\")"
   ]
  },
  {
   "cell_type": "code",
   "execution_count": 82,
   "id": "94fad2a5",
   "metadata": {},
   "outputs": [],
   "source": [
    "switch_frame('searchIframe')"
   ]
  },
  {
   "cell_type": "code",
   "execution_count": 83,
   "id": "e0066d36",
   "metadata": {},
   "outputs": [],
   "source": [
    "driver.execute_script(\"window.scrollTo(0,document.body.scrollHeight);\")"
   ]
  },
  {
   "cell_type": "code",
   "execution_count": 84,
   "id": "329d8821",
   "metadata": {},
   "outputs": [],
   "source": [
    "page_down(20)"
   ]
  },
  {
   "cell_type": "code",
   "execution_count": 85,
   "id": "c8057199",
   "metadata": {},
   "outputs": [],
   "source": [
    "switch_frame('entryIframe')"
   ]
  },
  {
   "cell_type": "code",
   "execution_count": 36,
   "id": "124258ab",
   "metadata": {},
   "outputs": [],
   "source": [
    "driver.execute_script(\"window.scrollTo(0,0);\")"
   ]
  },
  {
   "cell_type": "code",
   "execution_count": 86,
   "id": "ac619a31",
   "metadata": {},
   "outputs": [],
   "source": [
    "driver.execute_script(\"window.scrollTo(0,document.body.scrollHeight);\")"
   ]
  },
  {
   "cell_type": "code",
   "execution_count": 88,
   "id": "f2ec4f32",
   "metadata": {},
   "outputs": [],
   "source": [
    "driver.execute_script(\"window.scrollTo(0,document.body.scrollHeight);\")"
   ]
  },
  {
   "cell_type": "code",
   "execution_count": null,
   "id": "2516dc9a",
   "metadata": {},
   "outputs": [],
   "source": []
  }
 ],
 "metadata": {
  "kernelspec": {
   "display_name": "Python 3 (ipykernel)",
   "language": "python",
   "name": "python3"
  },
  "language_info": {
   "codemirror_mode": {
    "name": "ipython",
    "version": 3
   },
   "file_extension": ".py",
   "mimetype": "text/x-python",
   "name": "python",
   "nbconvert_exporter": "python",
   "pygments_lexer": "ipython3",
   "version": "3.9.12"
  }
 },
 "nbformat": 4,
 "nbformat_minor": 5
}
