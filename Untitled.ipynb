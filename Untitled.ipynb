{
 "cells": [
  {
   "cell_type": "code",
   "execution_count": 60,
   "id": "b033c12b",
   "metadata": {},
   "outputs": [],
   "source": [
    "import time\n",
    "from selenium import webdriver\n",
    "from selenium.webdriver.common.keys import Keys\n",
    "from selenium.webdriver.common.by import By\n",
    "from selenium.webdriver.support.ui import WebDriverWait\n",
    "from selenium.webdriver.support import expected_conditions as EC\n",
    "from time import sleep\n",
    "from bs4 import BeautifulSoup\n",
    "import re\n",
    "import json\n",
    "#options = webdriver.ChromeOptions()\n",
    "#options.add_argument('headless')"
   ]
  },
  {
   "cell_type": "code",
   "execution_count": 61,
   "id": "4897d24e",
   "metadata": {},
   "outputs": [
    {
     "name": "stderr",
     "output_type": "stream",
     "text": [
      "C:\\Users\\DanielJeong\\AppData\\Local\\Temp\\ipykernel_5544\\2096135440.py:2: DeprecationWarning: executable_path has been deprecated, please pass in a Service object\n",
      "  driver = webdriver.Chrome('./chromedriver')  # 드라이버 경로\n"
     ]
    }
   ],
   "source": [
    "url = 'https://map.naver.com/v5/search'\n",
    "driver = webdriver.Chrome('./chromedriver')  # 드라이버 경로\n",
    "#driver = webdriver.Chrome('./chromedriver',chrome_options=options) # 크롬창 숨기기\n",
    "driver.get(url)\n",
    "key_word_list = ['노량진수산시장 횟집', '송파구 횟집', '강서구 횟집', '강남구 횟집', '노원구 횟집', '은평구 횟집']"
   ]
  },
  {
   "cell_type": "code",
   "execution_count": 62,
   "id": "4255d316",
   "metadata": {},
   "outputs": [],
   "source": [
    "key_word = ['노량진수산시장 횟집']"
   ]
  },
  {
   "cell_type": "code",
   "execution_count": 63,
   "id": "10b75592",
   "metadata": {},
   "outputs": [],
   "source": [
    "# css 찾을때 까지 10초대기\n",
    "def time_wait(num, code):\n",
    "    try:\n",
    "        wait = WebDriverWait(driver, num).until(\n",
    "            EC.presence_of_element_located((By.CSS_SELECTOR, code)))\n",
    "    except:\n",
    "        print(code, '태그를 찾지 못하였습니다.')\n",
    "        driver.quit()\n",
    "    return wait"
   ]
  },
  {
   "cell_type": "markdown",
   "id": "2c2c2a2b",
   "metadata": {},
   "source": [
    "# 시작"
   ]
  },
  {
   "cell_type": "code",
   "execution_count": 64,
   "id": "f88effbb",
   "metadata": {},
   "outputs": [
    {
     "data": {
      "text/plain": [
       "<selenium.webdriver.remote.webelement.WebElement (session=\"50083ff4f657b357c665457a177e751b\", element=\"8ddac481-9364-4891-9459-ca14d7673e4b\")>"
      ]
     },
     "execution_count": 64,
     "metadata": {},
     "output_type": "execute_result"
    }
   ],
   "source": [
    "# css를 찾을때 까지 10초 대기\n",
    "time_wait(10, 'div.input_box > input.input_search')"
   ]
  },
  {
   "cell_type": "code",
   "execution_count": 65,
   "id": "4b94e8b9",
   "metadata": {},
   "outputs": [],
   "source": [
    "# 검색창 찾기\n",
    "search = driver.find_element(By.CSS_SELECTOR,'div.input_box > input.input_search')\n",
    "search.send_keys(key_word)  # 검색어 입력\n",
    "search.send_keys(Keys.ENTER)  # 엔터버튼 누르기\n",
    "\n",
    "res = driver.page_source  # 페이지 소스 가져오기\n",
    "soup = BeautifulSoup(res, 'html.parser')  # html 파싱하여  가져온다\n",
    "\n",
    "sleep(1)"
   ]
  },
  {
   "cell_type": "code",
   "execution_count": 66,
   "id": "c5ad4471",
   "metadata": {},
   "outputs": [],
   "source": [
    "# frame 변경 메소드\n",
    "def switch_frame(frame):\n",
    "    driver.switch_to.default_content()  # frame 초기화\n",
    "    driver.switch_to.frame(frame)  # frame 변경\n",
    "    res\n",
    "    soup"
   ]
  },
  {
   "cell_type": "code",
   "execution_count": 67,
   "id": "06e2fda3",
   "metadata": {},
   "outputs": [],
   "source": [
    "# 페이지 다운\n",
    "def page_down(num):\n",
    "    body = driver.find_element(By.CSS_SELECTOR,'body')\n",
    "    body.click()\n",
    "    for i in range(num):\n",
    "        body.send_keys(Keys.PAGE_DOWN)"
   ]
  },
  {
   "cell_type": "code",
   "execution_count": 68,
   "id": "7ecf4873",
   "metadata": {},
   "outputs": [],
   "source": [
    "# frame 변경\n",
    "switch_frame('searchIframe')\n",
    "page_down(40)\n",
    "sleep(5)"
   ]
  },
  {
   "cell_type": "code",
   "execution_count": 69,
   "id": "9b91e094",
   "metadata": {},
   "outputs": [],
   "source": [
    "# 매장 리스트\n",
    "store_list = driver.find_elements(By.CSS_SELECTOR,'div._3ZU00._1rBq3')\n",
    "# 페이지 리스트\n",
    "next_btn = driver.find_elements(By.CSS_SELECTOR,'._2ky45 > a')"
   ]
  },
  {
   "cell_type": "code",
   "execution_count": 70,
   "id": "badcfeda",
   "metadata": {},
   "outputs": [
    {
     "data": {
      "text/plain": [
       "(50, 7)"
      ]
     },
     "execution_count": 70,
     "metadata": {},
     "output_type": "execute_result"
    }
   ],
   "source": [
    "len(store_list), len(next_btn)"
   ]
  },
  {
   "cell_type": "code",
   "execution_count": 71,
   "id": "8c77aa79",
   "metadata": {},
   "outputs": [],
   "source": [
    "store_elements = driver.find_elements(By.CSS_SELECTOR,'div._3ZU00._1rBq3 > a:nth-child(1)')"
   ]
  },
  {
   "cell_type": "code",
   "execution_count": 73,
   "id": "531f3f7a",
   "metadata": {},
   "outputs": [],
   "source": [
    "store_elements[0].click()"
   ]
  },
  {
   "cell_type": "code",
   "execution_count": 72,
   "id": "65ed592c",
   "metadata": {},
   "outputs": [
    {
     "data": {
      "text/plain": [
       "[<selenium.webdriver.remote.webelement.WebElement (session=\"50083ff4f657b357c665457a177e751b\", element=\"42ab3175-42d7-4994-aa44-d6933c5c2e49\")>,\n",
       " <selenium.webdriver.remote.webelement.WebElement (session=\"50083ff4f657b357c665457a177e751b\", element=\"1a4371ac-aa26-4c94-b440-4586ad1e93cb\")>,\n",
       " <selenium.webdriver.remote.webelement.WebElement (session=\"50083ff4f657b357c665457a177e751b\", element=\"56ea9249-e6f6-4dce-b5aa-ace314819192\")>,\n",
       " <selenium.webdriver.remote.webelement.WebElement (session=\"50083ff4f657b357c665457a177e751b\", element=\"f9af981e-287f-4047-844b-025fb78ce52d\")>,\n",
       " <selenium.webdriver.remote.webelement.WebElement (session=\"50083ff4f657b357c665457a177e751b\", element=\"7e3722ef-e592-4b7f-a30c-64eb3206d171\")>,\n",
       " <selenium.webdriver.remote.webelement.WebElement (session=\"50083ff4f657b357c665457a177e751b\", element=\"8aef51f4-9a32-47b3-bb53-389e93787d48\")>,\n",
       " <selenium.webdriver.remote.webelement.WebElement (session=\"50083ff4f657b357c665457a177e751b\", element=\"d7f6aca3-59ab-4001-8e70-7cc8810a4592\")>,\n",
       " <selenium.webdriver.remote.webelement.WebElement (session=\"50083ff4f657b357c665457a177e751b\", element=\"5831d835-1bfd-4e4e-92ef-6364c1829dd4\")>,\n",
       " <selenium.webdriver.remote.webelement.WebElement (session=\"50083ff4f657b357c665457a177e751b\", element=\"2e83fd10-29b1-4a20-b8ef-0bd1d54e887f\")>,\n",
       " <selenium.webdriver.remote.webelement.WebElement (session=\"50083ff4f657b357c665457a177e751b\", element=\"fd31ac12-bac4-4598-a1f9-958541e7b2ee\")>,\n",
       " <selenium.webdriver.remote.webelement.WebElement (session=\"50083ff4f657b357c665457a177e751b\", element=\"0b18ed38-8daa-47dd-abcc-01bafaec7c91\")>,\n",
       " <selenium.webdriver.remote.webelement.WebElement (session=\"50083ff4f657b357c665457a177e751b\", element=\"7b371c6e-9778-486c-b2eb-11c3ddc8c234\")>,\n",
       " <selenium.webdriver.remote.webelement.WebElement (session=\"50083ff4f657b357c665457a177e751b\", element=\"6d65e485-a39e-480c-9dad-151e50b0e1e8\")>,\n",
       " <selenium.webdriver.remote.webelement.WebElement (session=\"50083ff4f657b357c665457a177e751b\", element=\"1a587915-4193-4528-ae07-d3ed23dbbf2b\")>,\n",
       " <selenium.webdriver.remote.webelement.WebElement (session=\"50083ff4f657b357c665457a177e751b\", element=\"b19302fe-b78f-4935-8f6e-924337b70df6\")>,\n",
       " <selenium.webdriver.remote.webelement.WebElement (session=\"50083ff4f657b357c665457a177e751b\", element=\"8bdeee97-5ba1-418c-94af-b7effdb09962\")>,\n",
       " <selenium.webdriver.remote.webelement.WebElement (session=\"50083ff4f657b357c665457a177e751b\", element=\"4323d544-919b-4916-9482-60dd841f593d\")>,\n",
       " <selenium.webdriver.remote.webelement.WebElement (session=\"50083ff4f657b357c665457a177e751b\", element=\"f0d59bcf-ba4a-43ff-bd45-6f24559778d7\")>,\n",
       " <selenium.webdriver.remote.webelement.WebElement (session=\"50083ff4f657b357c665457a177e751b\", element=\"8adbf93c-c26b-418a-8272-5f682b5d6e19\")>,\n",
       " <selenium.webdriver.remote.webelement.WebElement (session=\"50083ff4f657b357c665457a177e751b\", element=\"e16bad0d-021a-444e-a5fd-944399170fd3\")>,\n",
       " <selenium.webdriver.remote.webelement.WebElement (session=\"50083ff4f657b357c665457a177e751b\", element=\"f69994f0-07b7-4d5d-a1e2-ab2ab107750d\")>,\n",
       " <selenium.webdriver.remote.webelement.WebElement (session=\"50083ff4f657b357c665457a177e751b\", element=\"f13b50ef-d9eb-41d1-9ef6-ae06bb4bc544\")>,\n",
       " <selenium.webdriver.remote.webelement.WebElement (session=\"50083ff4f657b357c665457a177e751b\", element=\"14abd644-56e4-4c41-a4bc-9c977c53fb6e\")>,\n",
       " <selenium.webdriver.remote.webelement.WebElement (session=\"50083ff4f657b357c665457a177e751b\", element=\"ce48e2b9-124d-4c1d-a7c4-ffe7b0afc891\")>,\n",
       " <selenium.webdriver.remote.webelement.WebElement (session=\"50083ff4f657b357c665457a177e751b\", element=\"1ed300d6-5d74-42e4-be2f-eb86d38074f5\")>,\n",
       " <selenium.webdriver.remote.webelement.WebElement (session=\"50083ff4f657b357c665457a177e751b\", element=\"01bb21fb-a6dd-4326-85f1-f54c1eb8967b\")>,\n",
       " <selenium.webdriver.remote.webelement.WebElement (session=\"50083ff4f657b357c665457a177e751b\", element=\"c0c8530c-1eca-4921-aaf1-f0e8ba893cfe\")>,\n",
       " <selenium.webdriver.remote.webelement.WebElement (session=\"50083ff4f657b357c665457a177e751b\", element=\"8f62e8de-04c7-4d74-8e80-2c489c841bc9\")>,\n",
       " <selenium.webdriver.remote.webelement.WebElement (session=\"50083ff4f657b357c665457a177e751b\", element=\"3fe4cd2f-c793-45a7-81e4-c9295ff42a92\")>,\n",
       " <selenium.webdriver.remote.webelement.WebElement (session=\"50083ff4f657b357c665457a177e751b\", element=\"6d64abad-e897-4ce9-9dfc-2ae816a3f26f\")>,\n",
       " <selenium.webdriver.remote.webelement.WebElement (session=\"50083ff4f657b357c665457a177e751b\", element=\"96efd99a-4db8-492a-a356-7bee0dddbeed\")>,\n",
       " <selenium.webdriver.remote.webelement.WebElement (session=\"50083ff4f657b357c665457a177e751b\", element=\"b695a802-6b93-4413-8447-32c1ff4881db\")>,\n",
       " <selenium.webdriver.remote.webelement.WebElement (session=\"50083ff4f657b357c665457a177e751b\", element=\"a1301fb0-4aff-45c1-9027-042e5ff06ccc\")>,\n",
       " <selenium.webdriver.remote.webelement.WebElement (session=\"50083ff4f657b357c665457a177e751b\", element=\"f6f7fdc2-5883-4092-bf83-a5d9ab518c50\")>,\n",
       " <selenium.webdriver.remote.webelement.WebElement (session=\"50083ff4f657b357c665457a177e751b\", element=\"99a103e9-940b-4c16-a883-10f19b392360\")>,\n",
       " <selenium.webdriver.remote.webelement.WebElement (session=\"50083ff4f657b357c665457a177e751b\", element=\"a6a55f5e-f057-4081-bf26-ec014242a126\")>,\n",
       " <selenium.webdriver.remote.webelement.WebElement (session=\"50083ff4f657b357c665457a177e751b\", element=\"883aee1d-44f2-443d-b652-df6fe5a3fb32\")>,\n",
       " <selenium.webdriver.remote.webelement.WebElement (session=\"50083ff4f657b357c665457a177e751b\", element=\"94e8ec52-a8e6-4170-8651-ec3f3a680685\")>,\n",
       " <selenium.webdriver.remote.webelement.WebElement (session=\"50083ff4f657b357c665457a177e751b\", element=\"a713e4a3-d4f7-4e96-8a43-b062e8310b39\")>,\n",
       " <selenium.webdriver.remote.webelement.WebElement (session=\"50083ff4f657b357c665457a177e751b\", element=\"0a888647-7cbd-47b3-86f4-91f5479c4f9e\")>,\n",
       " <selenium.webdriver.remote.webelement.WebElement (session=\"50083ff4f657b357c665457a177e751b\", element=\"4bf4acda-c28d-4f2b-a407-45debfd5c2f6\")>,\n",
       " <selenium.webdriver.remote.webelement.WebElement (session=\"50083ff4f657b357c665457a177e751b\", element=\"80abfe32-b93b-4c40-a1ab-de75e685c56b\")>,\n",
       " <selenium.webdriver.remote.webelement.WebElement (session=\"50083ff4f657b357c665457a177e751b\", element=\"16c87aad-332d-47a1-a9d4-ac1f19e752fd\")>,\n",
       " <selenium.webdriver.remote.webelement.WebElement (session=\"50083ff4f657b357c665457a177e751b\", element=\"8cbd5f1d-5dc7-4c0e-a06c-9084d968d27d\")>,\n",
       " <selenium.webdriver.remote.webelement.WebElement (session=\"50083ff4f657b357c665457a177e751b\", element=\"9adb4258-167c-43fb-a862-afc2dfb35033\")>,\n",
       " <selenium.webdriver.remote.webelement.WebElement (session=\"50083ff4f657b357c665457a177e751b\", element=\"21d0a9ed-5814-4873-a90e-e522627cdd2f\")>,\n",
       " <selenium.webdriver.remote.webelement.WebElement (session=\"50083ff4f657b357c665457a177e751b\", element=\"1b41850d-873b-454a-99bd-ca622072a495\")>,\n",
       " <selenium.webdriver.remote.webelement.WebElement (session=\"50083ff4f657b357c665457a177e751b\", element=\"d733be1b-64c4-410f-872a-37f2b2a9e00e\")>,\n",
       " <selenium.webdriver.remote.webelement.WebElement (session=\"50083ff4f657b357c665457a177e751b\", element=\"c66c2659-02d2-4928-9059-a5272d580ff4\")>,\n",
       " <selenium.webdriver.remote.webelement.WebElement (session=\"50083ff4f657b357c665457a177e751b\", element=\"db387a76-9bc7-4d4c-aca5-14644afc87ff\")>]"
      ]
     },
     "execution_count": 72,
     "metadata": {},
     "output_type": "execute_result"
    }
   ],
   "source": [
    "store_elements"
   ]
  },
  {
   "cell_type": "code",
   "execution_count": 35,
   "id": "de08227c",
   "metadata": {},
   "outputs": [],
   "source": [
    "def rank(data):\n",
    "    out = []\n",
    "    driver.get(\"https://map.naver.com/v5/search/\"+data) # 검색창에 가게이름 입력\n",
    "    time.sleep(3)\n",
    "    driver.implicitly_wait(3)\n",
    "    driver.switch_to.frame('searchIframe') #  검색하고나서 가게정보창이 바로 안뜨는 경우 고려해서 무조건 맨위에 가게 링크 클릭하게 설정\n",
    "    driver.implicitly_wait(3)\n",
    "    temp = driver.find_element('//*[@id=\"app-root\"]/div/div/div/div[7]/div/div[1]/div/ul') # 메뉴표에 있는 텍스트 모두 들고옴(개발자 도구에서 그때그때 xpath 복사해서 들고오는게 좋다)\n",
    "    driver.implicitly_wait(20)\n",
    "    button = temp.find_elements('a')\n",
    "    driver.implicitly_wait(20)\n",
    "    if '이미지수' in button[0].text or button[0].text == '': # 가게 정보에 사진이 있는 경우\n",
    "        button[1].send_keys(Keys.ENTER) \n",
    "    else: # 사진이 없는 경우\n",
    "        button[0].send_keys(Keys.ENTER)\n",
    "    driver.implicitly_wait(3)\n",
    "    time.sleep(3)\n",
    "    driver.switch_to.default_content()\n",
    "    driver.switch_to.frame('entryIframe')\n",
    "    driver.implicitly_wait(2)\n",
    "    review = driver.find_element_by_css_selector('#app-root > div > div > div > div.place_section.GCwOh > div._3uUKd._2z4r0 > div._20Ivz') \n",
    "    # xpath는 가게마다 다르게 설정되어 있었기 때문에 css selector를 이용해서 review text가 있는 tag에 접근\n",
    "    review_text = review.find_elements_by_tag_name('span') #span태그 안에서 별 규칙성을 찾지 못해서 span태그안에 별점, 리뷰 텍스트 정보가 들어가 있기 때문에 span에 있는거 모두 들고오기로 했음.\n",
    "    for i in review_text:\n",
    "        out.append(i.text) # parsing하기 쉽게 배열에 넣어놓음\n",
    "    rank_report = 0.0\n",
    "    review_report = 0\n",
    "    if len(out) == 0:\n",
    "        pass\n",
    "    else:\n",
    "        if '별점' in out[0]: # 별점이 존재하는 경우\n",
    "            rank_report = float(out[0].split('\\n')[1].split('/')[0]) # 별점을 실수형으로 바꿔서 담아둔다\n",
    "            if len(out) >3 and '리뷰' in out[3]: # 리뷰가 방문자리뷰, 사용자리뷰 2개가 있는데 방문자, 블로그리뷰가 둘다 있는 경우\n",
    "                out[2] = out[2].split(' ')[1].replace(',','') # [방문자리뷰,200] 이런 형태로 있는 데이터를 200만 가져오도록 parsing\n",
    "                out[3] = out[3].split(' ')[1].replace(',','') # [블로그리뷰,50] 형태의 데이터를 50만 가져오도록 parsing\n",
    "                review_report = int(out[2]) + int(out[3]) # 두 리뷰를 더해준다.\n",
    "            else:\n",
    "                out[2] = out[2].split(' ')[1].replace(',','') # 방문자리뷰만 있는 경우\n",
    "                review_report = int(out[2])\n",
    "        else: # 별점이 존재하지 않는 경우\n",
    "            if len(out) < 2: # 방문자리뷰만 있는 경우 또는 블로그리뷰만 있는 경우\n",
    "                out[0] = out[0].split(' ')[1].replace(',','')\n",
    "                review_report = int(out[0])\n",
    "            else: # 방문자리뷰, 블로그리뷰 둘다 있는 경우\n",
    "                out[0] = out[0].split(' ')[1].replace(',','')\n",
    "                out[1] = out[1].split(' ')[1].replace(',','')\n",
    "                review_report = int(out[0]) + int(out[1]) # 리뷰 더해준다\n",
    "    output = (rank_report,review_report) # 별점이랑 리뷰개수 담아서 return 해준다\n",
    "    return output"
   ]
  },
  {
   "cell_type": "code",
   "execution_count": 36,
   "id": "12f5a50a",
   "metadata": {},
   "outputs": [
    {
     "name": "stderr",
     "output_type": "stream",
     "text": [
      "C:\\Users\\DanielJeong\\AppData\\Local\\Temp\\ipykernel_5544\\1649128155.py:2: DeprecationWarning: executable_path has been deprecated, please pass in a Service object\n",
      "  driver = webdriver.Chrome('./chromedriver')  # 드라이버 경로\n"
     ]
    },
    {
     "ename": "AttributeError",
     "evalue": "'WebDriver' object has no attribute 'find_element_by_xpath'",
     "output_type": "error",
     "traceback": [
      "\u001b[1;31m---------------------------------------------------------------------------\u001b[0m",
      "\u001b[1;31mAttributeError\u001b[0m                            Traceback (most recent call last)",
      "Input \u001b[1;32mIn [36]\u001b[0m, in \u001b[0;36m<cell line: 5>\u001b[1;34m()\u001b[0m\n\u001b[0;32m      3\u001b[0m \u001b[38;5;66;03m#driver = webdriver.Chrome('./chromedriver',chrome_options=options) # 크롬창 숨기기\u001b[39;00m\n\u001b[0;32m      4\u001b[0m driver\u001b[38;5;241m.\u001b[39mget(url)\n\u001b[1;32m----> 5\u001b[0m \u001b[43mrank\u001b[49m\u001b[43m(\u001b[49m\u001b[38;5;124;43m'\u001b[39;49m\u001b[38;5;124;43m싱싱회돌이\u001b[39;49m\u001b[38;5;124;43m'\u001b[39;49m\u001b[43m)\u001b[49m\n",
      "Input \u001b[1;32mIn [35]\u001b[0m, in \u001b[0;36mrank\u001b[1;34m(data)\u001b[0m\n\u001b[0;32m      6\u001b[0m driver\u001b[38;5;241m.\u001b[39mswitch_to\u001b[38;5;241m.\u001b[39mframe(\u001b[38;5;124m'\u001b[39m\u001b[38;5;124msearchIframe\u001b[39m\u001b[38;5;124m'\u001b[39m) \u001b[38;5;66;03m#  검색하고나서 가게정보창이 바로 안뜨는 경우 고려해서 무조건 맨위에 가게 링크 클릭하게 설정\u001b[39;00m\n\u001b[0;32m      7\u001b[0m driver\u001b[38;5;241m.\u001b[39mimplicitly_wait(\u001b[38;5;241m3\u001b[39m)\n\u001b[1;32m----> 8\u001b[0m temp \u001b[38;5;241m=\u001b[39m \u001b[43mdriver\u001b[49m\u001b[38;5;241;43m.\u001b[39;49m\u001b[43mfind_element_by_xpath\u001b[49m(\u001b[38;5;124m'\u001b[39m\u001b[38;5;124m//*[@id=\u001b[39m\u001b[38;5;124m\"\u001b[39m\u001b[38;5;124mapp-root\u001b[39m\u001b[38;5;124m\"\u001b[39m\u001b[38;5;124m]/div/div/div/div[7]/div/div[1]/div/ul\u001b[39m\u001b[38;5;124m'\u001b[39m) \u001b[38;5;66;03m# 메뉴표에 있는 텍스트 모두 들고옴(개발자 도구에서 그때그때 xpath 복사해서 들고오는게 좋다)\u001b[39;00m\n\u001b[0;32m      9\u001b[0m driver\u001b[38;5;241m.\u001b[39mimplicitly_wait(\u001b[38;5;241m20\u001b[39m)\n\u001b[0;32m     10\u001b[0m button \u001b[38;5;241m=\u001b[39m temp\u001b[38;5;241m.\u001b[39mfind_elements_by_tag_name(\u001b[38;5;124m'\u001b[39m\u001b[38;5;124ma\u001b[39m\u001b[38;5;124m'\u001b[39m)\n",
      "\u001b[1;31mAttributeError\u001b[0m: 'WebDriver' object has no attribute 'find_element_by_xpath'"
     ]
    }
   ],
   "source": [
    "url = 'https://map.naver.com/v5/search'\n",
    "driver = webdriver.Chrome('./chromedriver')  # 드라이버 경로\n",
    "#driver = webdriver.Chrome('./chromedriver',chrome_options=options) # 크롬창 숨기기\n",
    "driver.get(url)\n",
    "rank('싱싱회돌이')"
   ]
  },
  {
   "cell_type": "code",
   "execution_count": null,
   "id": "7abca584",
   "metadata": {},
   "outputs": [],
   "source": [
    "def find_search_input(key_word):\n",
    "    # 검색창 찾기\n",
    "    time_wait(2, 'div.input_box > input.input_search')\n",
    "    search = driver.find_element(By.CSS_SELECTOR,'div.input_box > input.input_search')\n",
    "    search.send_keys(key_word)  # 검색어 입력\n",
    "    search.send_keys(Keys.ENTER)  # 엔터버튼 누르기\n",
    "    \n",
    "    res = driver.page_source  # 페이지 소스 가져오기\n",
    "    soup = BeautifulSoup(res, 'html.parser')  # html 파싱하여  가져온다\n",
    "    sleep(1)"
   ]
  }
 ],
 "metadata": {
  "kernelspec": {
   "display_name": "Python 3 (ipykernel)",
   "language": "python",
   "name": "python3"
  },
  "language_info": {
   "codemirror_mode": {
    "name": "ipython",
    "version": 3
   },
   "file_extension": ".py",
   "mimetype": "text/x-python",
   "name": "python",
   "nbconvert_exporter": "python",
   "pygments_lexer": "ipython3",
   "version": "3.9.12"
  }
 },
 "nbformat": 4,
 "nbformat_minor": 5
}
