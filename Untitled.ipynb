{
 "cells": [
  {
   "cell_type": "markdown",
   "id": "d40a1d65",
   "metadata": {},
   "source": [
    "# 1. 문자 단위 RNN 언어 모델(Char RNNLM)"
   ]
  },
  {
   "cell_type": "markdown",
   "id": "b7ad57c0",
   "metadata": {},
   "source": [
    "## 1) 데이터에 대한 이해와 전처리"
   ]
  },
  {
   "cell_type": "code",
   "execution_count": 1,
   "id": "6f9de504",
   "metadata": {},
   "outputs": [],
   "source": [
    "import numpy as np\n",
    "import urllib.request\n",
    "from tensorflow.keras.utils import to_categorical\n",
    "\n",
    "# 데이터 로드\n",
    "urllib.request.urlretrieve(\"http://www.gutenberg.org/files/11/11-0.txt\", filename=\"11-0.txt\")\n",
    "\n",
    "f = open('11-0.txt', 'rb')\n",
    "sentences = []\n",
    "for sentence in f: # 데이터로부터 한 줄씩 읽는다.\n",
    "    sentence = sentence.strip() # strip()을 통해 \\r, \\n을 제거한다.\n",
    "    sentence = sentence.lower() # 소문자화.\n",
    "    sentence = sentence.decode('ascii', 'ignore') # \\xe2\\x80\\x99 등과 같은 바이트 열 제거\n",
    "    if len(sentence) > 0:\n",
    "        sentences.append(sentence)\n",
    "f.close()"
   ]
  },
  {
   "cell_type": "code",
   "execution_count": 2,
   "id": "5b1c9d22",
   "metadata": {},
   "outputs": [
    {
     "data": {
      "text/plain": [
       "['the project gutenberg ebook of alices adventures in wonderland, by lewis carroll',\n",
       " 'this ebook is for the use of anyone anywhere in the united states and',\n",
       " 'most other parts of the world at no cost and with almost no restrictions',\n",
       " 'whatsoever. you may copy it, give it away or re-use it under the terms',\n",
       " 'of the project gutenberg license included with this ebook or online at']"
      ]
     },
     "execution_count": 2,
     "metadata": {},
     "output_type": "execute_result"
    }
   ],
   "source": [
    "sentences[:5]"
   ]
  },
  {
   "cell_type": "code",
   "execution_count": 3,
   "id": "2220a855",
   "metadata": {},
   "outputs": [
    {
     "name": "stdout",
     "output_type": "stream",
     "text": [
      "문자열의 길이 또는 총 문자의 개수: 159484\n"
     ]
    }
   ],
   "source": [
    "#하나의 문자열로 재생산\n",
    "total_data = ' '.join(sentences)\n",
    "print('문자열의 길이 또는 총 문자의 개수: %d' % len(total_data))"
   ]
  },
  {
   "cell_type": "code",
   "execution_count": 4,
   "id": "ca0e80f9",
   "metadata": {},
   "outputs": [
    {
     "name": "stdout",
     "output_type": "stream",
     "text": [
      "the project gutenberg ebook of alices adventures in wonderland, by lewis carroll this ebook is for the use of anyone anywhere in the united states and most other parts of the world at no cost and with\n"
     ]
    }
   ],
   "source": [
    "print(total_data[:200])"
   ]
  },
  {
   "cell_type": "markdown",
   "id": "5e7d6d58",
   "metadata": {},
   "source": [
    "## 2. 문자 집합 생성\n",
    "기존에는 단어집합 -> 중복제거가 필요"
   ]
  },
  {
   "cell_type": "code",
   "execution_count": 5,
   "id": "68edea3e",
   "metadata": {},
   "outputs": [],
   "source": [
    "#set으로 중복 문자 제거\n",
    "# set-> list로\n",
    "# sorted로 사전 순서대로 재배치\n",
    "char_vocab = sorted(list(set(total_data)))\n"
   ]
  },
  {
   "cell_type": "code",
   "execution_count": 6,
   "id": "0110282e",
   "metadata": {},
   "outputs": [
    {
     "name": "stdout",
     "output_type": "stream",
     "text": [
      "문자 집합의 크기 : 56\n"
     ]
    }
   ],
   "source": [
    "vocab_size = len(char_vocab)\n",
    "print('문자 집합의 크기 : {}'.format(vocab_size))"
   ]
  },
  {
   "cell_type": "raw",
   "id": "3d271329",
   "metadata": {},
   "source": [
    "영어가 훈련 데이터 일 때 문자 집합의 크기는 단어 집합을 사용했을 경우보다 현저히 작습니다.\n",
    "-> 사용되는 알파벳이 26개 이기 때문\n",
    "-> 대소 문자 구분이더라도 최대 52개 알파벳이다.\n",
    "어떤 방대한 영의 텍스트라도 집합의 크기를 적게 가져갈 수 있다는 것은 구현과 테스트를 굉장히 쉽게 할 수 있다는 이점을 가지므로, RNN의 동작 메커니즘 이해를 위한 토이프로젝트 용도로 유용하빈다."
   ]
  },
  {
   "cell_type": "code",
   "execution_count": 7,
   "id": "36c5e1f2",
   "metadata": {},
   "outputs": [],
   "source": [
    "# 문자에 고유한 정수 부여\n",
    "char_to_index = dict((char,index) for index, char in enumerate(char_vocab))"
   ]
  },
  {
   "cell_type": "code",
   "execution_count": 8,
   "id": "fbcf505c",
   "metadata": {},
   "outputs": [
    {
     "name": "stdout",
     "output_type": "stream",
     "text": [
      "문자 집합 :  {' ': 0, '!': 1, '\"': 2, '#': 3, '$': 4, '%': 5, \"'\": 6, '(': 7, ')': 8, '*': 9, ',': 10, '-': 11, '.': 12, '/': 13, '0': 14, '1': 15, '2': 16, '3': 17, '4': 18, '5': 19, '6': 20, '7': 21, '8': 22, '9': 23, ':': 24, ';': 25, '?': 26, '[': 27, ']': 28, '_': 29, 'a': 30, 'b': 31, 'c': 32, 'd': 33, 'e': 34, 'f': 35, 'g': 36, 'h': 37, 'i': 38, 'j': 39, 'k': 40, 'l': 41, 'm': 42, 'n': 43, 'o': 44, 'p': 45, 'q': 46, 'r': 47, 's': 48, 't': 49, 'u': 50, 'v': 51, 'w': 52, 'x': 53, 'y': 54, 'z': 55}\n"
     ]
    }
   ],
   "source": [
    "print('문자 집합 : ', char_to_index)"
   ]
  },
  {
   "cell_type": "markdown",
   "id": "c7d59612",
   "metadata": {},
   "source": [
    "반대로 정수-> index 딕셔너리 생성"
   ]
  },
  {
   "cell_type": "code",
   "execution_count": 9,
   "id": "52fd36e7",
   "metadata": {},
   "outputs": [],
   "source": [
    "index_to_char ={}\n",
    "for char, index in char_to_index.items():\n",
    "    index_to_char[index] = char"
   ]
  },
  {
   "cell_type": "markdown",
   "id": "4b02039b",
   "metadata": {},
   "source": [
    "## 2. 훈련 데이터를 구성"
   ]
  },
  {
   "cell_type": "markdown",
   "id": "d809134a",
   "metadata": {},
   "source": [
    "훈련 데이터 구성을 위한 간소화 된 예츨 들어봅시다.\n",
    "훈련 데이터에 apple이라는 시퀀스가 있고, 입력의 길이가 4로 정했습니다.\n",
    "데이터 구성은 어떻게 될까?\n",
    "**입력의 길이가 4**이므로 입력 시퀀스와 예측해야 하는 **출력 시퀀스 모두 길이는 4가 됩니다.**\n",
    "다시 말해 RNN은 총 **네번의 시점(timestep)** 을 가질 수 있다는 의미입니다. apple은 다섯 글자이지만 입력의 길이는 4이므로 'appl'까지만 입력으로 사용할 수 있습니다.\n",
    "그리고 언어 모델은 다음 시점의 입력을 예측해야하는 모델이므로 'pple'를 예측하도록 데이터가 구성됩니다."
   ]
  },
  {
   "cell_type": "code",
   "execution_count": 10,
   "id": "34a3526e",
   "metadata": {},
   "outputs": [],
   "source": [
    "# appl (입력 시퀀스) -> pple (예측해야하는 시퀀스)\n",
    "train_X = 'appl'\n",
    "train_y = 'pple'"
   ]
  },
  {
   "cell_type": "markdown",
   "id": "1ebaf1ed",
   "metadata": {},
   "source": [
    "### 2-1 다수의 샘플 생성\n",
    "1. 문장 샘플의 길이를 정하고, 해당 길이만큼 문자열 전체를 등분하는 것입니다.\n",
    "2. 문장 길이를 60으로 정했다. 결국 15만 9천을 60으로 나눈 수가 샘플의 수가 됩니ㅏㄷ."
   ]
  },
  {
   "cell_type": "code",
   "execution_count": 11,
   "id": "b415647b",
   "metadata": {},
   "outputs": [],
   "source": [
    "# appl (입력 시퀀스) -> pple (예측해야하는 시퀀스)\n",
    "train_X = 'appl'\n",
    "train_y = 'pple'"
   ]
  },
  {
   "cell_type": "code",
   "execution_count": 12,
   "id": "6cd70c73",
   "metadata": {},
   "outputs": [],
   "source": [
    "seq_length = 60\n",
    "# 문자열 길이를 seq_length로 나누면 전처리 후 생겨날 샘풀 수"
   ]
  },
  {
   "cell_type": "code",
   "execution_count": 13,
   "id": "631d9386",
   "metadata": {},
   "outputs": [],
   "source": [
    "n_samples = len(total_data) // seq_length"
   ]
  },
  {
   "cell_type": "code",
   "execution_count": 14,
   "id": "85314e4c",
   "metadata": {},
   "outputs": [
    {
     "data": {
      "text/plain": [
       "2658"
      ]
     },
     "execution_count": 14,
     "metadata": {},
     "output_type": "execute_result"
    }
   ],
   "source": [
    "n_samples"
   ]
  },
  {
   "cell_type": "markdown",
   "id": "76a7d546",
   "metadata": {},
   "source": [
    "## 3. 전처리"
   ]
  },
  {
   "cell_type": "code",
   "execution_count": 15,
   "id": "573c501e",
   "metadata": {},
   "outputs": [],
   "source": [
    "train_X = []\n",
    "train_y = []\n",
    "\n",
    "for i in range(n_samples):\n",
    "    # 0:60 -> 60:120 -> 120:180로 loop를 돌면서 문장 샘플을 1개씩 pick.\n",
    "    X_sample = total_data[i * seq_length: (i + 1) * seq_length]\n",
    "\n",
    "    # 정수 인코딩\n",
    "    X_encoded = [char_to_index[c] for c in X_sample]\n",
    "    train_X.append(X_encoded)\n",
    "\n",
    "    # 오른쪽으로 1칸 쉬프트\n",
    "    y_sample = total_data[i * seq_length + 1: (i + 1) * seq_length + 1]\n",
    "    y_encoded = [char_to_index[c] for c in y_sample]\n",
    "    train_y.append(y_encoded)"
   ]
  },
  {
   "cell_type": "code",
   "execution_count": 16,
   "id": "0b21d137",
   "metadata": {},
   "outputs": [
    {
     "name": "stdout",
     "output_type": "stream",
     "text": [
      "X 데이터의 첫번째 샘플 : [49, 37, 34, 0, 45, 47, 44, 39, 34, 32, 49, 0, 36, 50, 49, 34, 43, 31, 34, 47, 36, 0, 34, 31, 44, 44, 40, 0, 44, 35, 0, 30, 41, 38, 32, 34, 48, 0, 30, 33, 51, 34, 43, 49, 50, 47, 34, 48, 0, 38, 43, 0, 52, 44, 43, 33, 34, 47, 41, 30]\n",
      "y 데이터의 첫번째 샘플 : [37, 34, 0, 45, 47, 44, 39, 34, 32, 49, 0, 36, 50, 49, 34, 43, 31, 34, 47, 36, 0, 34, 31, 44, 44, 40, 0, 44, 35, 0, 30, 41, 38, 32, 34, 48, 0, 30, 33, 51, 34, 43, 49, 50, 47, 34, 48, 0, 38, 43, 0, 52, 44, 43, 33, 34, 47, 41, 30, 43]\n",
      "--------------------------------------------------\n",
      "X 데이터의 첫번째 샘플 디코딩 : ['t', 'h', 'e', ' ', 'p', 'r', 'o', 'j', 'e', 'c', 't', ' ', 'g', 'u', 't', 'e', 'n', 'b', 'e', 'r', 'g', ' ', 'e', 'b', 'o', 'o', 'k', ' ', 'o', 'f', ' ', 'a', 'l', 'i', 'c', 'e', 's', ' ', 'a', 'd', 'v', 'e', 'n', 't', 'u', 'r', 'e', 's', ' ', 'i', 'n', ' ', 'w', 'o', 'n', 'd', 'e', 'r', 'l', 'a']\n",
      "y 데이터의 첫번째 샘플 디코딩 : ['h', 'e', ' ', 'p', 'r', 'o', 'j', 'e', 'c', 't', ' ', 'g', 'u', 't', 'e', 'n', 'b', 'e', 'r', 'g', ' ', 'e', 'b', 'o', 'o', 'k', ' ', 'o', 'f', ' ', 'a', 'l', 'i', 'c', 'e', 's', ' ', 'a', 'd', 'v', 'e', 'n', 't', 'u', 'r', 'e', 's', ' ', 'i', 'n', ' ', 'w', 'o', 'n', 'd', 'e', 'r', 'l', 'a', 'n']\n"
     ]
    }
   ],
   "source": [
    "print('X 데이터의 첫번째 샘플 :',train_X[0])\n",
    "print('y 데이터의 첫번째 샘플 :',train_y[0])\n",
    "print('-'*50)\n",
    "print('X 데이터의 첫번째 샘플 디코딩 :',[index_to_char[i] for i in train_X[0]])\n",
    "print('y 데이터의 첫번째 샘플 디코딩 :',[index_to_char[i] for i in train_y[0]])"
   ]
  },
  {
   "cell_type": "raw",
   "id": "46e3d041",
   "metadata": {},
   "source": [
    "train_y[0]은 train_X[0]에서 오른쪽으로 한 칸 쉬프트 된 문장임을 알 수 있습니다. train_X와 train_y의 두번째 샘플. 즉, 인덱스가 1번인 샘플을 출력하여 데이터의 구성을 확인해봅시다."
   ]
  },
  {
   "cell_type": "code",
   "execution_count": 17,
   "id": "325250be",
   "metadata": {},
   "outputs": [
    {
     "name": "stdout",
     "output_type": "stream",
     "text": [
      "X 데이터의 첫번째 샘플 : [43, 33, 10, 0, 31, 54, 0, 41, 34, 52, 38, 48, 0, 32, 30, 47, 47, 44, 41, 41, 0, 49, 37, 38, 48, 0, 34, 31, 44, 44, 40, 0, 38, 48, 0, 35, 44, 47, 0, 49, 37, 34, 0, 50, 48, 34, 0, 44, 35, 0, 30, 43, 54, 44, 43, 34, 0, 30, 43, 54]\n",
      "y 데이터의 첫번째 샘플 : [33, 10, 0, 31, 54, 0, 41, 34, 52, 38, 48, 0, 32, 30, 47, 47, 44, 41, 41, 0, 49, 37, 38, 48, 0, 34, 31, 44, 44, 40, 0, 38, 48, 0, 35, 44, 47, 0, 49, 37, 34, 0, 50, 48, 34, 0, 44, 35, 0, 30, 43, 54, 44, 43, 34, 0, 30, 43, 54, 52]\n"
     ]
    }
   ],
   "source": [
    "print('X 데이터의 첫번째 샘플 :',train_X[1])\n",
    "print('y 데이터의 첫번째 샘플 :',train_y[1])"
   ]
  },
  {
   "cell_type": "raw",
   "id": "a212bc57",
   "metadata": {},
   "source": [
    "제 train_X와 train_y에 대해서 원-핫 인코딩을 수행합니다. 문자 단위 RNN에서는 입력 시퀀스에 대해서 워드 임베딩을 하지 않습니다. 다시 말해 임베딩층(embedding layer)을 사용하지 않을 것이므로, 입력 시퀀스인 train_X에 대해서도 원-핫 인코딩을 합니다."
   ]
  },
  {
   "cell_type": "code",
   "execution_count": 18,
   "id": "c4240374",
   "metadata": {},
   "outputs": [
    {
     "name": "stdout",
     "output_type": "stream",
     "text": [
      "train_X의 크기(shape) : (2658, 60, 56)\n",
      "train_y의 크기(shape) : (2658, 60, 56)\n"
     ]
    }
   ],
   "source": [
    "train_X = to_categorical(train_X)\n",
    "train_y = to_categorical(train_y)\n",
    "\n",
    "print('train_X의 크기(shape) : {}'.format(train_X.shape)) # 원-핫 인코딩\n",
    "print('train_y의 크기(shape) : {}'.format(train_y.shape)) # 원-핫 인코딩"
   ]
  },
  {
   "cell_type": "raw",
   "id": "6eaa102c",
   "metadata": {},
   "source": [
    "3차원 배열인 이유는?\n",
    "기존 2차원 배열을 원핫 인코딩 했으니\n",
    "기존 1차원 벡터는 하나의 문장(샘플)로 구성 -> 이 벡터 안에 있는 문자 마다 원-핫인코딩을 진행"
   ]
  },
  {
   "cell_type": "markdown",
   "id": "2494fc1f",
   "metadata": {},
   "source": [
    "![img](https://wikidocs.net/images/page/22886/rnn_image6between7.PNG)\n",
    "이는 샘플의 수(No. of samples)가 2,658개, 입력 시퀀스의 길이(input_length)가 60, 각 벡터의 차원(input_dim)이 55임을 의미합니다. 원-핫 벡터의 차원은 문자 집합의 크기인 56이어야 하므로 원-핫 인코딩이 수행되었음을 알 수 있습니다.\n"
   ]
  },
  {
   "cell_type": "markdown",
   "id": "b7cd6a19",
   "metadata": {},
   "source": [
    "## 2) 모델 설계 하기"
   ]
  },
  {
   "cell_type": "raw",
   "id": "6efacf80",
   "metadata": {},
   "source": [
    "하이퍼파라미터인 은닉 상태의 크기는 256입니다. 모델은 다 대 다 구조의 LSTM을 사용하며, LSTM 은닉층은 두 개를 사용합니다. 전결합층(Fully Connected Layer)을 출력층으로 문자 집합 크기만큼의 뉴런을 배치하여 모델을 설계합니다. 해당 모델은 모든 시점에서 모든 가능한 문자 중 하나의 문자를 예측하는 다중 클래스 분류 문제를 수행하는 모델입니다. 출력층에 소프트맥스 회귀를 사용해야 하므로 활성화 함수로는 소프트맥스 함수를 사용하고, 손실 함수로 크로스 엔트로피 함수를 사용하여 80 에포크를 수행합니다."
   ]
  },
  {
   "cell_type": "code",
   "execution_count": null,
   "id": "dafd7545",
   "metadata": {},
   "outputs": [
    {
     "name": "stdout",
     "output_type": "stream",
     "text": [
      "Epoch 1/80\n",
      "84/84 - 47s - loss: 3.0674 - accuracy: 0.1810 - 47s/epoch - 555ms/step\n",
      "Epoch 2/80\n",
      "84/84 - 36s - loss: 2.7050 - accuracy: 0.2542 - 36s/epoch - 429ms/step\n",
      "Epoch 3/80\n",
      "84/84 - 35s - loss: 2.3733 - accuracy: 0.3330 - 35s/epoch - 413ms/step\n",
      "Epoch 4/80\n",
      "84/84 - 36s - loss: 2.2280 - accuracy: 0.3670 - 36s/epoch - 430ms/step\n",
      "Epoch 5/80\n",
      "84/84 - 36s - loss: 2.1177 - accuracy: 0.3919 - 36s/epoch - 434ms/step\n",
      "Epoch 6/80\n",
      "84/84 - 37s - loss: 2.0305 - accuracy: 0.4138 - 37s/epoch - 436ms/step\n",
      "Epoch 7/80\n",
      "84/84 - 37s - loss: 1.9579 - accuracy: 0.4337 - 37s/epoch - 436ms/step\n",
      "Epoch 8/80\n",
      "84/84 - 37s - loss: 1.8977 - accuracy: 0.4499 - 37s/epoch - 438ms/step\n",
      "Epoch 9/80\n",
      "84/84 - 37s - loss: 1.8449 - accuracy: 0.4671 - 37s/epoch - 437ms/step\n",
      "Epoch 10/80\n",
      "84/84 - 37s - loss: 1.7943 - accuracy: 0.4798 - 37s/epoch - 440ms/step\n",
      "Epoch 11/80\n",
      "84/84 - 37s - loss: 1.7512 - accuracy: 0.4898 - 37s/epoch - 445ms/step\n",
      "Epoch 12/80\n",
      "84/84 - 37s - loss: 1.7083 - accuracy: 0.5024 - 37s/epoch - 441ms/step\n",
      "Epoch 13/80\n",
      "84/84 - 42s - loss: 1.6689 - accuracy: 0.5117 - 42s/epoch - 499ms/step\n",
      "Epoch 14/80\n",
      "84/84 - 41s - loss: 1.6320 - accuracy: 0.5220 - 41s/epoch - 482ms/step\n",
      "Epoch 15/80\n",
      "84/84 - 38s - loss: 1.5942 - accuracy: 0.5323 - 38s/epoch - 457ms/step\n",
      "Epoch 16/80\n",
      "84/84 - 37s - loss: 1.5632 - accuracy: 0.5403 - 37s/epoch - 444ms/step\n",
      "Epoch 17/80\n",
      "84/84 - 37s - loss: 1.5298 - accuracy: 0.5492 - 37s/epoch - 441ms/step\n",
      "Epoch 18/80\n",
      "84/84 - 37s - loss: 1.4993 - accuracy: 0.5579 - 37s/epoch - 446ms/step\n",
      "Epoch 19/80\n",
      "84/84 - 37s - loss: 1.4666 - accuracy: 0.5661 - 37s/epoch - 435ms/step\n",
      "Epoch 20/80\n",
      "84/84 - 35s - loss: 1.4362 - accuracy: 0.5752 - 35s/epoch - 419ms/step\n",
      "Epoch 21/80\n",
      "84/84 - 35s - loss: 1.4049 - accuracy: 0.5829 - 35s/epoch - 418ms/step\n",
      "Epoch 22/80\n",
      "84/84 - 35s - loss: 1.3748 - accuracy: 0.5916 - 35s/epoch - 417ms/step\n",
      "Epoch 23/80\n",
      "84/84 - 35s - loss: 1.3490 - accuracy: 0.5980 - 35s/epoch - 419ms/step\n",
      "Epoch 24/80\n",
      "84/84 - 35s - loss: 1.3187 - accuracy: 0.6068 - 35s/epoch - 416ms/step\n",
      "Epoch 25/80\n",
      "84/84 - 35s - loss: 1.2854 - accuracy: 0.6164 - 35s/epoch - 415ms/step\n",
      "Epoch 26/80\n",
      "84/84 - 35s - loss: 1.2587 - accuracy: 0.6239 - 35s/epoch - 416ms/step\n",
      "Epoch 27/80\n",
      "84/84 - 35s - loss: 1.2302 - accuracy: 0.6319 - 35s/epoch - 417ms/step\n",
      "Epoch 28/80\n",
      "84/84 - 35s - loss: 1.2053 - accuracy: 0.6393 - 35s/epoch - 415ms/step\n",
      "Epoch 29/80\n",
      "84/84 - 35s - loss: 1.1763 - accuracy: 0.6480 - 35s/epoch - 415ms/step\n",
      "Epoch 30/80\n",
      "84/84 - 35s - loss: 1.1494 - accuracy: 0.6553 - 35s/epoch - 422ms/step\n",
      "Epoch 31/80\n",
      "84/84 - 35s - loss: 1.1158 - accuracy: 0.6662 - 35s/epoch - 422ms/step\n",
      "Epoch 32/80\n",
      "84/84 - 35s - loss: 1.0895 - accuracy: 0.6739 - 35s/epoch - 417ms/step\n",
      "Epoch 33/80\n",
      "84/84 - 35s - loss: 1.0554 - accuracy: 0.6845 - 35s/epoch - 422ms/step\n",
      "Epoch 34/80\n",
      "84/84 - 35s - loss: 1.0315 - accuracy: 0.6910 - 35s/epoch - 418ms/step\n",
      "Epoch 35/80\n",
      "84/84 - 35s - loss: 1.0026 - accuracy: 0.6994 - 35s/epoch - 421ms/step\n",
      "Epoch 36/80\n",
      "84/84 - 35s - loss: 0.9704 - accuracy: 0.7091 - 35s/epoch - 420ms/step\n",
      "Epoch 37/80\n"
     ]
    }
   ],
   "source": [
    "from tensorflow.keras.models import Sequential\n",
    "from tensorflow.keras.layers import Dense, LSTM, TimeDistributed\n",
    "\n",
    "hidden_units = 256\n",
    "\n",
    "model = Sequential()\n",
    "model.add(LSTM(hidden_units, input_shape=(None, train_X.shape[2]), return_sequences=True))\n",
    "model.add(LSTM(hidden_units, return_sequences=True))\n",
    "model.add(TimeDistributed(Dense(vocab_size, activation='softmax')))\n",
    "\n",
    "model.compile(loss='categorical_crossentropy', optimizer='adam', metrics=['accuracy'])\n",
    "model.fit(train_X, train_y, epochs=80, verbose=2)"
   ]
  },
  {
   "cell_type": "code",
   "execution_count": null,
   "id": "9926a4aa",
   "metadata": {},
   "outputs": [],
   "source": []
  }
 ],
 "metadata": {
  "kernelspec": {
   "display_name": "Python 3 (ipykernel)",
   "language": "python",
   "name": "python3"
  },
  "language_info": {
   "codemirror_mode": {
    "name": "ipython",
    "version": 3
   },
   "file_extension": ".py",
   "mimetype": "text/x-python",
   "name": "python",
   "nbconvert_exporter": "python",
   "pygments_lexer": "ipython3",
   "version": "3.9.12"
  }
 },
 "nbformat": 4,
 "nbformat_minor": 5
}
