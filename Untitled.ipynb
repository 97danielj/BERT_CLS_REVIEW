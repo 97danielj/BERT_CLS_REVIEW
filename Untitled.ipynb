{
 "cells": [
  {
   "cell_type": "code",
   "execution_count": 1,
   "id": "4b39a0c1",
   "metadata": {},
   "outputs": [],
   "source": [
    "import pandas as pd\n",
    "import numpy as np\n",
    "%matplotlib inline\n",
    "import matplotlib.pyplot as plt"
   ]
  },
  {
   "cell_type": "code",
   "execution_count": 2,
   "id": "e02ec9ad",
   "metadata": {},
   "outputs": [],
   "source": [
    "import pickle\n",
    "with open('df_tmp.pickle', 'rb') as f:\n",
    "    dataset = pickle.load(f)"
   ]
  },
  {
   "cell_type": "code",
   "execution_count": 3,
   "id": "d5cb2fe7",
   "metadata": {},
   "outputs": [
    {
     "data": {
      "text/html": [
       "<div>\n",
       "<style scoped>\n",
       "    .dataframe tbody tr th:only-of-type {\n",
       "        vertical-align: middle;\n",
       "    }\n",
       "\n",
       "    .dataframe tbody tr th {\n",
       "        vertical-align: top;\n",
       "    }\n",
       "\n",
       "    .dataframe thead th {\n",
       "        text-align: right;\n",
       "    }\n",
       "</style>\n",
       "<table border=\"1\" class=\"dataframe\">\n",
       "  <thead>\n",
       "    <tr style=\"text-align: right;\">\n",
       "      <th></th>\n",
       "      <th>Store_name</th>\n",
       "      <th>Review</th>\n",
       "      <th>Rank</th>\n",
       "    </tr>\n",
       "  </thead>\n",
       "  <tbody>\n",
       "    <tr>\n",
       "      <th>0</th>\n",
       "      <td>두껍다회선생</td>\n",
       "      <td>평소 두꺼운 회를 별로 안 좋아해서 고민하다가 후기 좋길래 가봤는데 후회 없었음 두...</td>\n",
       "      <td>5</td>\n",
       "    </tr>\n",
       "    <tr>\n",
       "      <th>1</th>\n",
       "      <td>두껍다회선생</td>\n",
       "      <td>숙성회맛있어요 다만 반반이라는데 연어가 더 많네요오 연어가 단가가 싸서 이해는하지만...</td>\n",
       "      <td>4</td>\n",
       "    </tr>\n",
       "    <tr>\n",
       "      <th>2</th>\n",
       "      <td>두껍다회선생</td>\n",
       "      <td>남자 사장님친절하세요여자분은별로</td>\n",
       "      <td>4.5</td>\n",
       "    </tr>\n",
       "    <tr>\n",
       "      <th>3</th>\n",
       "      <td>두껍다회선생</td>\n",
       "      <td>근처에 들렸다가 밥 먹을때가 안보여서 들어갔어요 가격도 괜찮고 회도 맛있고 깔끔하니...</td>\n",
       "      <td>4</td>\n",
       "    </tr>\n",
       "    <tr>\n",
       "      <th>4</th>\n",
       "      <td>두껍다회선생</td>\n",
       "      <td>맛잇어요 존득하고활어회보다 저는 이게 더 맛잇는것같아용</td>\n",
       "      <td>5</td>\n",
       "    </tr>\n",
       "    <tr>\n",
       "      <th>...</th>\n",
       "      <td>...</td>\n",
       "      <td>...</td>\n",
       "      <td>...</td>\n",
       "    </tr>\n",
       "    <tr>\n",
       "      <th>59764</th>\n",
       "      <td>더참치</td>\n",
       "      <td>사장님 부부께서는 참 친절하신데 원짜리를 두명에서 먹을땐 호계치고 그냥저냥 만족하며...</td>\n",
       "      <td>3</td>\n",
       "    </tr>\n",
       "    <tr>\n",
       "      <th>59765</th>\n",
       "      <td>더참치</td>\n",
       "      <td>엄마 생신이라 평소 가던곳 아닌 더참치 처음 갔어요 만원나왔고 인 열점먹었나테이블당...</td>\n",
       "      <td>0.5</td>\n",
       "    </tr>\n",
       "    <tr>\n",
       "      <th>59766</th>\n",
       "      <td>더참치</td>\n",
       "      <td>참치 맛이 조금 비리대요</td>\n",
       "      <td>4</td>\n",
       "    </tr>\n",
       "    <tr>\n",
       "      <th>59767</th>\n",
       "      <td>일품</td>\n",
       "      <td>물회맛있어요매운탕도 같이줘서 굿굿</td>\n",
       "      <td>4.5</td>\n",
       "    </tr>\n",
       "    <tr>\n",
       "      <th>59768</th>\n",
       "      <td>일품</td>\n",
       "      <td>우럭탕 맛있어여</td>\n",
       "      <td>5</td>\n",
       "    </tr>\n",
       "  </tbody>\n",
       "</table>\n",
       "<p>59769 rows × 3 columns</p>\n",
       "</div>"
      ],
      "text/plain": [
       "      Store_name                                             Review Rank\n",
       "0         두껍다회선생  평소 두꺼운 회를 별로 안 좋아해서 고민하다가 후기 좋길래 가봤는데 후회 없었음 두...    5\n",
       "1         두껍다회선생  숙성회맛있어요 다만 반반이라는데 연어가 더 많네요오 연어가 단가가 싸서 이해는하지만...    4\n",
       "2         두껍다회선생                                  남자 사장님친절하세요여자분은별로  4.5\n",
       "3         두껍다회선생  근처에 들렸다가 밥 먹을때가 안보여서 들어갔어요 가격도 괜찮고 회도 맛있고 깔끔하니...    4\n",
       "4         두껍다회선생                     맛잇어요 존득하고활어회보다 저는 이게 더 맛잇는것같아용    5\n",
       "...          ...                                                ...  ...\n",
       "59764        더참치  사장님 부부께서는 참 친절하신데 원짜리를 두명에서 먹을땐 호계치고 그냥저냥 만족하며...    3\n",
       "59765        더참치  엄마 생신이라 평소 가던곳 아닌 더참치 처음 갔어요 만원나왔고 인 열점먹었나테이블당...  0.5\n",
       "59766        더참치                                      참치 맛이 조금 비리대요    4\n",
       "59767         일품                                 물회맛있어요매운탕도 같이줘서 굿굿  4.5\n",
       "59768         일품                                           우럭탕 맛있어여    5\n",
       "\n",
       "[59769 rows x 3 columns]"
      ]
     },
     "execution_count": 3,
     "metadata": {},
     "output_type": "execute_result"
    }
   ],
   "source": [
    "dataset"
   ]
  },
  {
   "cell_type": "code",
   "execution_count": 14,
   "id": "5c5bb5ec",
   "metadata": {},
   "outputs": [
    {
     "data": {
      "text/plain": [
       "Store_name     object\n",
       "Review         object\n",
       "Rank          float64\n",
       "dtype: object"
      ]
     },
     "execution_count": 14,
     "metadata": {},
     "output_type": "execute_result"
    }
   ],
   "source": [
    "dataset = dataset.astype({'Rank':'float'})\n",
    "dataset.dtypes"
   ]
  },
  {
   "cell_type": "code",
   "execution_count": 17,
   "id": "09f996ac",
   "metadata": {},
   "outputs": [],
   "source": [
    "dataset.Rank = dataset.Rank.apply(lambda x : int(math.floor(x)))"
   ]
  },
  {
   "cell_type": "code",
   "execution_count": 18,
   "id": "62589082",
   "metadata": {},
   "outputs": [
    {
     "data": {
      "text/plain": [
       "Store_name    object\n",
       "Review        object\n",
       "Rank           int64\n",
       "dtype: object"
      ]
     },
     "execution_count": 18,
     "metadata": {},
     "output_type": "execute_result"
    }
   ],
   "source": [
    "dataset.dtypes"
   ]
  },
  {
   "cell_type": "code",
   "execution_count": 19,
   "id": "0ec7f658",
   "metadata": {},
   "outputs": [
    {
     "data": {
      "text/plain": [
       "<AxesSubplot:>"
      ]
     },
     "execution_count": 19,
     "metadata": {},
     "output_type": "execute_result"
    },
    {
     "data": {
      "image/png": "[encoded data removed]",
      "text/plain": [
       "<Figure size 432x288 with 1 Axes>"
      ]
     },
     "metadata": {
      "needs_background": "light"
     },
     "output_type": "display_data"
    }
   ],
   "source": [
    "dataset.Rank.value_counts().plot(kind='bar')"
   ]
  },
  {
   "cell_type": "code",
   "execution_count": null,
   "id": "510ad22b",
   "metadata": {},
   "outputs": [],
   "source": []
  }
 ],
 "metadata": {
  "kernelspec": {
   "display_name": "Python 3 (ipykernel)",
   "language": "python",
   "name": "python3"
  },
  "language_info": {
   "codemirror_mode": {
    "name": "ipython",
    "version": 3
   },
   "file_extension": ".py",
   "mimetype": "text/x-python",
   "name": "python",
   "nbconvert_exporter": "python",
   "pygments_lexer": "ipython3",
   "version": "3.9.12"
  }
 },
 "nbformat": 4,
 "nbformat_minor": 5
}
