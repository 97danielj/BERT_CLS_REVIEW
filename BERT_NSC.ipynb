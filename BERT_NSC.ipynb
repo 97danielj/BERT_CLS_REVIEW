{
 "cells": [
  {
   "cell_type": "markdown",
   "id": "92c59b3c",
   "metadata": {},
   "source": [
    "# 1. 데이터 로드, 데이터 분석"
   ]
  },
  {
   "cell_type": "code",
   "execution_count": 1,
   "id": "59377efa",
   "metadata": {},
   "outputs": [],
   "source": [
    "import pandas as pd\n",
    "import numpy as np\n",
    "%matplotlib inline\n",
    "import matplotlib.pyplot as plt"
   ]
  },
  {
   "cell_type": "code",
   "execution_count": 2,
   "id": "e3494bef",
   "metadata": {},
   "outputs": [],
   "source": [
    "import pickle\n",
    "with open('df.pickle', 'rb') as f:\n",
    "    dataset = pickle.load(f)"
   ]
  },
  {
   "cell_type": "code",
   "execution_count": 3,
   "id": "f300990d",
   "metadata": {},
   "outputs": [
    {
     "data": {
      "text/plain": [
       "57395"
      ]
     },
     "execution_count": 3,
     "metadata": {},
     "output_type": "execute_result"
    }
   ],
   "source": [
    "len(dataset)"
   ]
  },
  {
   "cell_type": "code",
   "execution_count": 4,
   "id": "2f3e11aa",
   "metadata": {},
   "outputs": [],
   "source": [
    "# 훈련데이터와 테스트데이터 분리\n",
    "data = dataset['Review']\n",
    "target = dataset['Label']\n",
    "from sklearn.model_selection import train_test_split\n",
    "x_train, x_test, y_train, y_test = train_test_split(data,target,test_size=0.2,shuffle=True,stratify=target,random_state=24)"
   ]
  },
  {
   "cell_type": "code",
   "execution_count": 5,
   "id": "420ee1f7",
   "metadata": {},
   "outputs": [
    {
     "name": "stdout",
     "output_type": "stream",
     "text": [
      "총 X 훈련 샘플의 수 :  45916\n",
      "총 y 훈련 샘플의 수 :  45916\n",
      "총 X 테스트 샘플의 수 :  11479\n",
      "총 y 테스트 샘플의 수 :  11479\n"
     ]
    }
   ],
   "source": [
    "print('총 X 훈련 샘플의 수 : ', len(x_train))\n",
    "print('총 y 훈련 샘플의 수 : ', len(y_train))\n",
    "print('총 X 테스트 샘플의 수 : ', len(x_test))\n",
    "print('총 y 테스트 샘플의 수 : ', len(y_test))"
   ]
  },
  {
   "cell_type": "code",
   "execution_count": 6,
   "id": "70541749",
   "metadata": {},
   "outputs": [
    {
     "data": {
      "text/plain": [
       "11"
      ]
     },
     "execution_count": 6,
     "metadata": {},
     "output_type": "execute_result"
    }
   ],
   "source": [
    "sum(dataset['Label'] == 1) // sum(dataset['Label']== 0)"
   ]
  },
  {
   "cell_type": "code",
   "execution_count": 7,
   "id": "9c908487",
   "metadata": {},
   "outputs": [
    {
     "data": {
      "text/plain": [
       "<AxesSubplot:>"
      ]
     },
     "execution_count": 7,
     "metadata": {},
     "output_type": "execute_result"
    },
    {
     "data": {
      "image/png": "[encoded data removed]",
      "text/plain": [
       "<Figure size 432x288 with 1 Axes>"
      ]
     },
     "metadata": {
      "needs_background": "light"
     },
     "output_type": "display_data"
    }
   ],
   "source": [
    "dataset.Label.value_counts().plot(kind='bar')"
   ]
  },
  {
   "cell_type": "markdown",
   "id": "1787067e",
   "metadata": {},
   "source": [
    "# 2. BERT - FineTuning(Sentence analasis)\n",
    "## 2-1. 정수 인코딩"
   ]
  },
  {
   "cell_type": "code",
   "execution_count": 8,
   "id": "12c1208f",
   "metadata": {},
   "outputs": [],
   "source": [
    "from transformers import BertTokenizerFast\n",
    "\n",
    "tokenizer = BertTokenizerFast.from_pretrained(\"klue/bert-base\")"
   ]
  },
  {
   "cell_type": "code",
   "execution_count": 9,
   "id": "9e079052",
   "metadata": {},
   "outputs": [],
   "source": [
    "X_train_list = x_train.tolist()\n",
    "X_test_list = x_test.tolist()\n",
    "y_train = y_train.tolist()\n",
    "y_test = y_test.tolist()"
   ]
  },
  {
   "cell_type": "code",
   "execution_count": 10,
   "id": "15d47117",
   "metadata": {},
   "outputs": [],
   "source": [
    "X_train = tokenizer(X_train_list, truncation=True, padding=True)\n",
    "X_test = tokenizer(X_test_list, truncation=True, padding=True)"
   ]
  },
  {
   "cell_type": "code",
   "execution_count": 11,
   "id": "9d5eb4f3",
   "metadata": {},
   "outputs": [
    {
     "name": "stdout",
     "output_type": "stream",
     "text": [
      "[0, 0, 0, 0, 0, 0, 0, 0, 0, 0, 0, 0, 0, 0, 0, 0, 0, 0, 0, 0, 0, 0, 0, 0, 0, 0, 0, 0, 0, 0, 0, 0, 0, 0, 0, 0, 0, 0, 0, 0, 0, 0, 0, 0, 0, 0, 0, 0, 0, 0, 0, 0, 0, 0, 0, 0, 0, 0, 0, 0, 0]\n"
     ]
    }
   ],
   "source": [
    "print(X_train[0].type_ids)"
   ]
  },
  {
   "cell_type": "code",
   "execution_count": 12,
   "id": "0333928e",
   "metadata": {},
   "outputs": [
    {
     "name": "stdout",
     "output_type": "stream",
     "text": [
      "[1, 1, 1, 1, 1, 1, 1, 1, 1, 1, 1, 1, 1, 1, 1, 1, 1, 1, 1, 1, 1, 1, 1, 1, 0, 0, 0, 0, 0, 0, 0, 0, 0, 0, 0, 0, 0, 0, 0, 0, 0, 0, 0, 0, 0, 0, 0, 0, 0, 0, 0, 0, 0, 0, 0, 0, 0, 0, 0, 0, 0]\n"
     ]
    }
   ],
   "source": [
    "print(X_train[0].attention_mask)"
   ]
  },
  {
   "cell_type": "markdown",
   "id": "e3df3c6b",
   "metadata": {},
   "source": [
    "## 2-2. 데이터셋 생성 및 모델 학습"
   ]
  },
  {
   "cell_type": "code",
   "execution_count": 13,
   "id": "db3fef82",
   "metadata": {},
   "outputs": [],
   "source": [
    "import tensorflow as tf\n",
    "\n",
    "train_dataset = tf.data.Dataset.from_tensor_slices((\n",
    "    dict(X_train),\n",
    "    y_train\n",
    "))\n",
    "\n",
    "val_dataset = tf.data.Dataset.from_tensor_slices((\n",
    "    dict(X_test),\n",
    "    y_test\n",
    "))"
   ]
  },
  {
   "cell_type": "code",
   "execution_count": 2,
   "id": "ec729f63",
   "metadata": {},
   "outputs": [],
   "source": [
    "from transformers import TFBertForSequenceClassification\n",
    "from tensorflow.keras.callbacks import EarlyStopping"
   ]
  },
  {
   "cell_type": "code",
   "execution_count": 5,
   "id": "87843d81",
   "metadata": {},
   "outputs": [],
   "source": [
    "optimizer = tf.keras.optimizers.Adam(learning_rate=5e-5)"
   ]
  },
  {
   "cell_type": "code",
   "execution_count": 6,
   "id": "a5a80217",
   "metadata": {},
   "outputs": [
    {
     "name": "stderr",
     "output_type": "stream",
     "text": [
      "Some weights of the PyTorch model were not used when initializing the TF 2.0 model TFBertForSequenceClassification: ['bert.embeddings.position_ids']\n",
      "- This IS expected if you are initializing TFBertForSequenceClassification from a PyTorch model trained on another task or with another architecture (e.g. initializing a TFBertForSequenceClassification model from a BertForPreTraining model).\n",
      "- This IS NOT expected if you are initializing TFBertForSequenceClassification from a PyTorch model that you expect to be exactly identical (e.g. initializing a TFBertForSequenceClassification model from a BertForSequenceClassification model).\n",
      "Some weights or buffers of the TF 2.0 model TFBertForSequenceClassification were not initialized from the PyTorch model and are newly initialized: ['classifier.weight', 'classifier.bias']\n",
      "You should probably TRAIN this model on a down-stream task to be able to use it for predictions and inference.\n"
     ]
    }
   ],
   "source": [
    "import tensorflow as tf\n",
    "model = TFBertForSequenceClassification.from_pretrained(\"klue/bert-base\", num_labels=2, from_pt=True)\n",
    "model.compile(optimizer=optimizer, loss=model.compute_loss, metrics=['accuracy'])"
   ]
  },
  {
   "cell_type": "code",
   "execution_count": 26,
   "id": "12d5a59b",
   "metadata": {},
   "outputs": [
    {
     "data": {
      "text/plain": [
       "<bound method TFPreTrainedModel.compute_loss of <transformers.models.bert.modeling_tf_bert.TFBertForSequenceClassification object at 0x000001F1716F8A30>>"
      ]
     },
     "execution_count": 26,
     "metadata": {},
     "output_type": "execute_result"
    }
   ],
   "source": [
    "model.compute_loss"
   ]
  },
  {
   "cell_type": "code",
   "execution_count": 30,
   "id": "7495f085",
   "metadata": {
    "scrolled": true
   },
   "outputs": [
    {
     "name": "stdout",
     "output_type": "stream",
     "text": [
      "Epoch 1/5\n",
      "2870/2870 [==============================] - 1010s 352ms/step - loss: 0.0625 - accuracy: 0.9783 - val_loss: 0.0895 - val_accuracy: 0.9692\n",
      "Epoch 2/5\n",
      "2870/2870 [==============================] - 1003s 349ms/step - loss: 0.0481 - accuracy: 0.9838 - val_loss: 0.1245 - val_accuracy: 0.9662\n",
      "Epoch 3/5\n",
      "2870/2870 [==============================] - 1016s 354ms/step - loss: 0.0409 - accuracy: 0.9863 - val_loss: 0.1271 - val_accuracy: 0.9679\n"
     ]
    },
    {
     "data": {
      "text/plain": [
       "<keras.callbacks.History at 0x1f1bd4aa190>"
      ]
     },
     "execution_count": 30,
     "metadata": {},
     "output_type": "execute_result"
    }
   ],
   "source": [
    "callback_earlystop = EarlyStopping(\n",
    "    monitor=\"val_accuracy\", \n",
    "    min_delta=0.001,\n",
    "    patience=2)\n",
    "\n",
    "model.fit(\n",
    "    train_dataset.shuffle(5000).batch(16), epochs=5, batch_size=32,\n",
    "    validation_data = val_dataset.shuffle(5000).batch(32),\n",
    "    callbacks = [callback_earlystop]\n",
    ")"
   ]
  },
  {
   "cell_type": "code",
   "execution_count": 31,
   "id": "8908dc62",
   "metadata": {
    "scrolled": true
   },
   "outputs": [
    {
     "name": "stdout",
     "output_type": "stream",
     "text": [
      "23/23 [==============================] - 55s 2s/step - loss: 0.1271 - accuracy: 0.9679\n"
     ]
    },
    {
     "data": {
      "text/plain": [
       "[0.127106711268425, 0.9678543210029602]"
      ]
     },
     "execution_count": 31,
     "metadata": {},
     "output_type": "execute_result"
    }
   ],
   "source": [
    "model.evaluate(val_dataset.batch(512))"
   ]
  },
  {
   "cell_type": "markdown",
   "id": "a31919cd",
   "metadata": {},
   "source": [
    "# 3. 모델 저장"
   ]
  },
  {
   "cell_type": "code",
   "execution_count": 32,
   "id": "c120d68c",
   "metadata": {},
   "outputs": [
    {
     "data": {
      "text/plain": [
       "('BERT_model/bert-base\\\\tokenizer_config.json',\n",
       " 'BERT_model/bert-base\\\\special_tokens_map.json',\n",
       " 'BERT_model/bert-base\\\\vocab.txt',\n",
       " 'BERT_model/bert-base\\\\added_tokens.json',\n",
       " 'BERT_model/bert-base\\\\tokenizer.json')"
      ]
     },
     "execution_count": 32,
     "metadata": {},
     "output_type": "execute_result"
    }
   ],
   "source": [
    "model.save_pretrained('BERT_model/bert-base')\n",
    "tokenizer.save_pretrained('BERT_model/bert-base')"
   ]
  },
  {
   "cell_type": "markdown",
   "id": "2db2cc25",
   "metadata": {},
   "source": [
    "# 4. 모델 로드 및 테스트"
   ]
  },
  {
   "cell_type": "code",
   "execution_count": 9,
   "id": "024ecb33",
   "metadata": {},
   "outputs": [
    {
     "name": "stderr",
     "output_type": "stream",
     "text": [
      "Some layers from the model checkpoint at BERT_model/bert-base were not used when initializing TFBertForSequenceClassification: ['dropout_75']\n",
      "- This IS expected if you are initializing TFBertForSequenceClassification from the checkpoint of a model trained on another task or with another architecture (e.g. initializing a BertForSequenceClassification model from a BertForPreTraining model).\n",
      "- This IS NOT expected if you are initializing TFBertForSequenceClassification from the checkpoint of a model that you expect to be exactly identical (initializing a BertForSequenceClassification model from a BertForSequenceClassification model).\n",
      "All the layers of TFBertForSequenceClassification were initialized from the model checkpoint at BERT_model/bert-base.\n",
      "If your task is similar to the task the model of the checkpoint was trained on, you can already use TFBertForSequenceClassification for predictions without further training.\n",
      "C:\\Users\\DanielJeong\\AppData\\Roaming\\Python\\Python39\\site-packages\\transformers\\pipelines\\text_classification.py:89: UserWarning: `return_all_scores` is now deprecated, use `top_k=1` if you want similar functionnality\n",
      "  warnings.warn(\n"
     ]
    }
   ],
   "source": [
    "from transformers import TextClassificationPipeline\n",
    "\n",
    "# 로드하기\n",
    "loaded_tokenizer = BertTokenizerFast.from_pretrained('BERT_model/bert-base')\n",
    "loaded_model = TFBertForSequenceClassification.from_pretrained('BERT_model/bert-base')\n",
    "\n",
    "text_classifier = TextClassificationPipeline(\n",
    "    tokenizer=loaded_tokenizer, \n",
    "    model=loaded_model, \n",
    "    framework='tf',\n",
    "    return_all_scores=True\n",
    ")"
   ]
  },
  {
   "cell_type": "markdown",
   "id": "3ca553a7",
   "metadata": {},
   "source": [
    "## 2-3. 모델 테스트"
   ]
  },
  {
   "cell_type": "code",
   "execution_count": 11,
   "id": "e8151a4b",
   "metadata": {},
   "outputs": [],
   "source": [
    "def show_sentiment(text):\n",
    "    result = text_classifier(text)[0]\n",
    "    print('부정일 확률 : ', round(result[0]['score'],3))\n",
    "    print('긍정일 확률 : ', round(result[1]['score'],3))"
   ]
  },
  {
   "cell_type": "code",
   "execution_count": 12,
   "id": "74a87ef8",
   "metadata": {},
   "outputs": [
    {
     "name": "stdout",
     "output_type": "stream",
     "text": [
      "부정일 확률 :  0.986\n",
      "긍정일 확률 :  0.014\n"
     ]
    }
   ],
   "source": [
    " show_sentiment('위생상태 불량')"
   ]
  },
  {
   "cell_type": "code",
   "execution_count": 13,
   "id": "6ef30d79",
   "metadata": {},
   "outputs": [
    {
     "name": "stdout",
     "output_type": "stream",
     "text": [
      "부정일 확률 :  0.0\n",
      "긍정일 확률 :  1.0\n"
     ]
    }
   ],
   "source": [
    "show_sentiment('친절하네요')"
   ]
  },
  {
   "cell_type": "code",
   "execution_count": 15,
   "id": "84c54d3a",
   "metadata": {},
   "outputs": [
    {
     "name": "stdout",
     "output_type": "stream",
     "text": [
      "부정일 확률 :  0.646\n",
      "긍정일 확률 :  0.354\n"
     ]
    }
   ],
   "source": [
    "show_sentiment('양이 적어')"
   ]
  },
  {
   "cell_type": "code",
   "execution_count": 16,
   "id": "0f2c222e",
   "metadata": {},
   "outputs": [
    {
     "name": "stdout",
     "output_type": "stream",
     "text": [
      "부정일 확률 :  0.014\n",
      "긍정일 확률 :  0.986\n"
     ]
    }
   ],
   "source": [
    "show_sentiment('장소가 협소하네요')"
   ]
  },
  {
   "cell_type": "code",
   "execution_count": 17,
   "id": "bfd9db53",
   "metadata": {},
   "outputs": [
    {
     "name": "stdout",
     "output_type": "stream",
     "text": [
      "부정일 확률 :  0.986\n",
      "긍정일 확률 :  0.014\n"
     ]
    }
   ],
   "source": [
    "show_sentiment('비린맛이 심하네요')"
   ]
  },
  {
   "cell_type": "code",
   "execution_count": 18,
   "id": "080715d1",
   "metadata": {},
   "outputs": [
    {
     "name": "stdout",
     "output_type": "stream",
     "text": [
      "부정일 확률 :  0.27\n",
      "긍정일 확률 :  0.73\n"
     ]
    }
   ],
   "source": [
    "show_sentiment('맛은 좋지만 가성비가 떨어지네요')"
   ]
  },
  {
   "cell_type": "code",
   "execution_count": 19,
   "id": "2e97ffca",
   "metadata": {},
   "outputs": [
    {
     "name": "stdout",
     "output_type": "stream",
     "text": [
      "부정일 확률 :  0.0\n",
      "긍정일 확률 :  1.0\n"
     ]
    }
   ],
   "source": [
    "show_sentiment('알바가 친절하고 맛도 좋아요')"
   ]
  },
  {
   "cell_type": "code",
   "execution_count": 20,
   "id": "e6da2480",
   "metadata": {},
   "outputs": [
    {
     "name": "stdout",
     "output_type": "stream",
     "text": [
      "부정일 확률 :  0.0\n",
      "긍정일 확률 :  1.0\n"
     ]
    }
   ],
   "source": [
    "show_sentiment('가성비 좋고, 맛도 무진장 좋아요')"
   ]
  },
  {
   "cell_type": "code",
   "execution_count": 45,
   "id": "ea815f71",
   "metadata": {},
   "outputs": [
    {
     "name": "stdout",
     "output_type": "stream",
     "text": [
      "부정일 확률 :  0.0\n",
      "긍정일 확률 :  1.0\n"
     ]
    }
   ],
   "source": [
    "show_sentiment('개 좋다')"
   ]
  },
  {
   "cell_type": "code",
   "execution_count": 46,
   "id": "55fa60a4",
   "metadata": {},
   "outputs": [
    {
     "name": "stdout",
     "output_type": "stream",
     "text": [
      "부정일 확률 :  0.985\n",
      "긍정일 확률 :  0.015\n"
     ]
    }
   ],
   "source": [
    "show_sentiment('개 같다')"
   ]
  },
  {
   "cell_type": "code",
   "execution_count": 26,
   "id": "535c3e8e",
   "metadata": {},
   "outputs": [
    {
     "name": "stdout",
     "output_type": "stream",
     "text": [
      "부정일 확률 :  0.986\n",
      "긍정일 확률 :  0.014\n"
     ]
    }
   ],
   "source": [
    "show_sentiment('장사가 잘되니 초심을 잃었네요')"
   ]
  },
  {
   "cell_type": "code",
   "execution_count": 48,
   "id": "d3101e4b",
   "metadata": {},
   "outputs": [
    {
     "name": "stdout",
     "output_type": "stream",
     "text": [
      "부정일 확률 :  0.104\n",
      "긍정일 확률 :  0.896\n"
     ]
    }
   ],
   "source": [
    "show_sentiment('주차 자리가 협소하네요')"
   ]
  },
  {
   "cell_type": "code",
   "execution_count": 49,
   "id": "c94b0a0c",
   "metadata": {},
   "outputs": [
    {
     "name": "stdout",
     "output_type": "stream",
     "text": [
      "부정일 확률 :  0.584\n",
      "긍정일 확률 :  0.416\n"
     ]
    }
   ],
   "source": [
    "show_sentiment('자리가 따닥따닥 붙여져 있네요')"
   ]
  },
  {
   "cell_type": "code",
   "execution_count": 51,
   "id": "bde2897a",
   "metadata": {},
   "outputs": [
    {
     "name": "stdout",
     "output_type": "stream",
     "text": [
      "부정일 확률 :  0.982\n",
      "긍정일 확률 :  0.018\n"
     ]
    }
   ],
   "source": [
    "show_sentiment('기다려도 음식이 안나오네')"
   ]
  },
  {
   "cell_type": "code",
   "execution_count": 52,
   "id": "7622165d",
   "metadata": {},
   "outputs": [
    {
     "name": "stdout",
     "output_type": "stream",
     "text": [
      "부정일 확률 :  0.0\n",
      "긍정일 확률 :  1.0\n"
     ]
    }
   ],
   "source": [
    "show_sentiment('친절하네요')"
   ]
  },
  {
   "cell_type": "code",
   "execution_count": 53,
   "id": "28a4e960",
   "metadata": {},
   "outputs": [
    {
     "name": "stdout",
     "output_type": "stream",
     "text": [
      "부정일 확률 :  0.0\n",
      "긍정일 확률 :  1.0\n"
     ]
    }
   ],
   "source": [
    "show_sentiment('주차 하기 힘듬')"
   ]
  },
  {
   "cell_type": "code",
   "execution_count": 54,
   "id": "8b100f05",
   "metadata": {},
   "outputs": [
    {
     "name": "stdout",
     "output_type": "stream",
     "text": [
      "부정일 확률 :  0.191\n",
      "긍정일 확률 :  0.809\n"
     ]
    }
   ],
   "source": [
    "show_sentiment('주차')"
   ]
  },
  {
   "cell_type": "code",
   "execution_count": 55,
   "id": "84b9c20d",
   "metadata": {},
   "outputs": [
    {
     "name": "stdout",
     "output_type": "stream",
     "text": [
      "부정일 확률 :  0.009\n",
      "긍정일 확률 :  0.991\n"
     ]
    }
   ],
   "source": [
    "show_sentiment('주차장이 좁다')"
   ]
  },
  {
   "cell_type": "code",
   "execution_count": null,
   "id": "e75b8a77",
   "metadata": {},
   "outputs": [],
   "source": [
    "show_sentiment('주차장이 좁다')"
   ]
  }
 ],
 "metadata": {
  "kernelspec": {
   "display_name": "Python 3 (ipykernel)",
   "language": "python",
   "name": "python3"
  },
  "language_info": {
   "codemirror_mode": {
    "name": "ipython",
    "version": 3
   },
   "file_extension": ".py",
   "mimetype": "text/x-python",
   "name": "python",
   "nbconvert_exporter": "python",
   "pygments_lexer": "ipython3",
   "version": "3.9.13"
  }
 },
 "nbformat": 4,
 "nbformat_minor": 5
}
