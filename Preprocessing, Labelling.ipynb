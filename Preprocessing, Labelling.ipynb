{
 "cells": [
  {
   "cell_type": "markdown",
   "id": "0fff1010",
   "metadata": {},
   "source": [
    "# 크롤링 데이터(리뷰) 전처리, 레이블링"
   ]
  },
  {
   "cell_type": "code",
   "execution_count": 60,
   "id": "ab79fdf8",
   "metadata": {},
   "outputs": [],
   "source": [
    "import re\n",
    "import pandas as pd\n",
    "from tqdm import tqdm\n",
    "from konlpy.tag import Okt\n",
    "#from pykospacing import Spacing\n",
    "from collections import Counter"
   ]
  },
  {
   "cell_type": "code",
   "execution_count": 61,
   "id": "782af19c",
   "metadata": {},
   "outputs": [],
   "source": [
    "import numpy as np\n",
    "import pandas as pd\n",
    "from tqdm import tqdm\n",
    "import pickle"
   ]
  },
  {
   "cell_type": "code",
   "execution_count": 62,
   "id": "303a6e95",
   "metadata": {},
   "outputs": [],
   "source": [
    "import json\n",
    "\n",
    "with open('./naver_횟집_by_metropolitan2.json','r',encoding='utf-8') as f:\n",
    "    data = json.load(f)"
   ]
  },
  {
   "cell_type": "code",
   "execution_count": 63,
   "id": "4c26895d",
   "metadata": {
    "scrolled": true
   },
   "outputs": [
    {
     "data": {
      "text/plain": [
       "1775"
      ]
     },
     "execution_count": 63,
     "metadata": {},
     "output_type": "execute_result"
    }
   ],
   "source": [
    "#매장의 개수\n",
    "len(data)"
   ]
  },
  {
   "cell_type": "markdown",
   "id": "330590c3",
   "metadata": {},
   "source": [
    "## 전처리\n",
    "\n",
    "1. 각 매장 마다의 리뷰 리스트를 나누고\n",
    "2. null값 확인\n",
    "3. 한글빼고 삭제 -> pass\n",
    "4. 중복제거\n",
    "5. 길이 10이하 텍스트 제거\n",
    "5. 레이블링"
   ]
  },
  {
   "cell_type": "code",
   "execution_count": 64,
   "id": "a1a64eef",
   "metadata": {},
   "outputs": [
    {
     "data": {
      "text/html": [
       "<div>\n",
       "<style scoped>\n",
       "    .dataframe tbody tr th:only-of-type {\n",
       "        vertical-align: middle;\n",
       "    }\n",
       "\n",
       "    .dataframe tbody tr th {\n",
       "        vertical-align: top;\n",
       "    }\n",
       "\n",
       "    .dataframe thead th {\n",
       "        text-align: right;\n",
       "    }\n",
       "</style>\n",
       "<table border=\"1\" class=\"dataframe\">\n",
       "  <thead>\n",
       "    <tr style=\"text-align: right;\">\n",
       "      <th></th>\n",
       "      <th>index</th>\n",
       "      <th>location</th>\n",
       "      <th>review</th>\n",
       "      <th>review_rank</th>\n",
       "      <th>rank</th>\n",
       "    </tr>\n",
       "  </thead>\n",
       "  <tbody>\n",
       "    <tr>\n",
       "      <th>0</th>\n",
       "      <td>청초수물회 송파점</td>\n",
       "      <td>서울 송파구 백제고분로21길 38 1층 102호</td>\n",
       "      <td>[]</td>\n",
       "      <td>[]</td>\n",
       "      <td>NaN</td>\n",
       "    </tr>\n",
       "    <tr>\n",
       "      <th>1</th>\n",
       "      <td>두껍다회선생</td>\n",
       "      <td>서울 성북구 성북로 24 1층</td>\n",
       "      <td>[평소 두꺼운 회를 별로 안 좋아해서 고민하다가 후기 좋길래 가봤는데 후회 없었음....</td>\n",
       "      <td>[5, 4, 4.5, 4, 5, 5, 5, 3, 5, 5, 5, 5, 5, 4.5,...</td>\n",
       "      <td>4.41</td>\n",
       "    </tr>\n",
       "    <tr>\n",
       "      <th>2</th>\n",
       "      <td>목포회센타</td>\n",
       "      <td>서울 관악구 남부순환로 1766</td>\n",
       "      <td>[오늘은 광어가 좀 비리네요. 사장님께 말했더니 죄송\\n하다고 담엔 바로 얘기하라고...</td>\n",
       "      <td>[5, 4, 4.5, 4.5, 1, 5, 5, 0.5, 0.5, 4, 4, 4.5,...</td>\n",
       "      <td>NaN</td>\n",
       "    </tr>\n",
       "    <tr>\n",
       "      <th>3</th>\n",
       "      <td>바다회사랑</td>\n",
       "      <td>대전 중구 계룡로874번길 89</td>\n",
       "      <td>[저렴한가격에 양 많아요, 좋아요, 굿]</td>\n",
       "      <td>[3.5, 4, 5]</td>\n",
       "      <td>3.61</td>\n",
       "    </tr>\n",
       "    <tr>\n",
       "      <th>4</th>\n",
       "      <td>은성횟집</td>\n",
       "      <td>서울 종로구 창경궁로 88</td>\n",
       "      <td>[광장시장 근본 대구탕,,,\\n조금 시끄럽긴 해도 맛은 굳,,,, 약간 짠편이라 안...</td>\n",
       "      <td>[5, 5, 1, 4, 4.5, 3.5, 3, 1, 5, 5, 4, 3, 4, 3,...</td>\n",
       "      <td>4.27</td>\n",
       "    </tr>\n",
       "    <tr>\n",
       "      <th>...</th>\n",
       "      <td>...</td>\n",
       "      <td>...</td>\n",
       "      <td>...</td>\n",
       "      <td>...</td>\n",
       "      <td>...</td>\n",
       "    </tr>\n",
       "    <tr>\n",
       "      <th>1770</th>\n",
       "      <td>청연 덕신점</td>\n",
       "      <td>울산 울주군 온산읍 온덕2길 13 1층 청연 덕신점</td>\n",
       "      <td>[]</td>\n",
       "      <td>[]</td>\n",
       "      <td>4.74</td>\n",
       "    </tr>\n",
       "    <tr>\n",
       "      <th>1771</th>\n",
       "      <td>회명품</td>\n",
       "      <td>울산 동구 남진길 63</td>\n",
       "      <td>[]</td>\n",
       "      <td>[]</td>\n",
       "      <td>NaN</td>\n",
       "    </tr>\n",
       "    <tr>\n",
       "      <th>1772</th>\n",
       "      <td>다해횟집</td>\n",
       "      <td>울산 북구 정자1길 23-1 다해횟집</td>\n",
       "      <td>[사장님 친절하시고 음식도맛있고 좋아요~\\n서비스도 엄청 좋아요~, 깨끗하고 친절해...</td>\n",
       "      <td>[5, 3.5, 3, 4]</td>\n",
       "      <td>4.44</td>\n",
       "    </tr>\n",
       "    <tr>\n",
       "      <th>1773</th>\n",
       "      <td>더참치</td>\n",
       "      <td>울산 북구 동대중앙로 27 1층 더 참치</td>\n",
       "      <td>[사장님 부부께서는 참 친절하신데 35,000원짜리를 두명에서 먹을땐 호계치고 그냥...</td>\n",
       "      <td>[3, 0.5, 4]</td>\n",
       "      <td>3.43</td>\n",
       "    </tr>\n",
       "    <tr>\n",
       "      <th>1774</th>\n",
       "      <td>일품</td>\n",
       "      <td>울산 동구 남진길 65</td>\n",
       "      <td>[물회맛있어요~\\n매운탕도 같이줘서 굿굿, 맛있고 좋아요, 우럭탕 맛있어여~~^^,...</td>\n",
       "      <td>[4.5, 4.5, 5, 5]</td>\n",
       "      <td>4.27</td>\n",
       "    </tr>\n",
       "  </tbody>\n",
       "</table>\n",
       "<p>1775 rows × 5 columns</p>\n",
       "</div>"
      ],
      "text/plain": [
       "          index                      location  \\\n",
       "0     청초수물회 송파점    서울 송파구 백제고분로21길 38 1층 102호   \n",
       "1        두껍다회선생              서울 성북구 성북로 24 1층   \n",
       "2         목포회센타             서울 관악구 남부순환로 1766   \n",
       "3         바다회사랑             대전 중구 계룡로874번길 89   \n",
       "4          은성횟집                서울 종로구 창경궁로 88   \n",
       "...         ...                           ...   \n",
       "1770     청연 덕신점  울산 울주군 온산읍 온덕2길 13 1층 청연 덕신점   \n",
       "1771        회명품                  울산 동구 남진길 63   \n",
       "1772       다해횟집          울산 북구 정자1길 23-1 다해횟집   \n",
       "1773        더참치        울산 북구 동대중앙로 27 1층 더 참치   \n",
       "1774         일품                  울산 동구 남진길 65   \n",
       "\n",
       "                                                 review  \\\n",
       "0                                                    []   \n",
       "1     [평소 두꺼운 회를 별로 안 좋아해서 고민하다가 후기 좋길래 가봤는데 후회 없었음....   \n",
       "2     [오늘은 광어가 좀 비리네요. 사장님께 말했더니 죄송\\n하다고 담엔 바로 얘기하라고...   \n",
       "3                                [저렴한가격에 양 많아요, 좋아요, 굿]   \n",
       "4     [광장시장 근본 대구탕,,,\\n조금 시끄럽긴 해도 맛은 굳,,,, 약간 짠편이라 안...   \n",
       "...                                                 ...   \n",
       "1770                                                 []   \n",
       "1771                                                 []   \n",
       "1772  [사장님 친절하시고 음식도맛있고 좋아요~\\n서비스도 엄청 좋아요~, 깨끗하고 친절해...   \n",
       "1773  [사장님 부부께서는 참 친절하신데 35,000원짜리를 두명에서 먹을땐 호계치고 그냥...   \n",
       "1774  [물회맛있어요~\\n매운탕도 같이줘서 굿굿, 맛있고 좋아요, 우럭탕 맛있어여~~^^,...   \n",
       "\n",
       "                                            review_rank  rank  \n",
       "0                                                    []   NaN  \n",
       "1     [5, 4, 4.5, 4, 5, 5, 5, 3, 5, 5, 5, 5, 5, 4.5,...  4.41  \n",
       "2     [5, 4, 4.5, 4.5, 1, 5, 5, 0.5, 0.5, 4, 4, 4.5,...   NaN  \n",
       "3                                           [3.5, 4, 5]  3.61  \n",
       "4     [5, 5, 1, 4, 4.5, 3.5, 3, 1, 5, 5, 4, 3, 4, 3,...  4.27  \n",
       "...                                                 ...   ...  \n",
       "1770                                                 []  4.74  \n",
       "1771                                                 []   NaN  \n",
       "1772                                     [5, 3.5, 3, 4]  4.44  \n",
       "1773                                        [3, 0.5, 4]  3.43  \n",
       "1774                                   [4.5, 4.5, 5, 5]  4.27  \n",
       "\n",
       "[1775 rows x 5 columns]"
      ]
     },
     "execution_count": 64,
     "metadata": {},
     "output_type": "execute_result"
    }
   ],
   "source": [
    "df = pd.DataFrame.from_dict(data, orient='index')\n",
    "df.reset_index(drop=False, inplace=True)\n",
    "df"
   ]
  },
  {
   "cell_type": "code",
   "execution_count": 65,
   "id": "51649e72",
   "metadata": {},
   "outputs": [
    {
     "data": {
      "text/html": [
       "<div>\n",
       "<style scoped>\n",
       "    .dataframe tbody tr th:only-of-type {\n",
       "        vertical-align: middle;\n",
       "    }\n",
       "\n",
       "    .dataframe tbody tr th {\n",
       "        vertical-align: top;\n",
       "    }\n",
       "\n",
       "    .dataframe thead th {\n",
       "        text-align: right;\n",
       "    }\n",
       "</style>\n",
       "<table border=\"1\" class=\"dataframe\">\n",
       "  <thead>\n",
       "    <tr style=\"text-align: right;\">\n",
       "      <th></th>\n",
       "      <th>store_name</th>\n",
       "      <th>location</th>\n",
       "      <th>review</th>\n",
       "      <th>review_rank</th>\n",
       "      <th>rank</th>\n",
       "    </tr>\n",
       "  </thead>\n",
       "  <tbody>\n",
       "    <tr>\n",
       "      <th>0</th>\n",
       "      <td>청초수물회 송파점</td>\n",
       "      <td>서울 송파구 백제고분로21길 38 1층 102호</td>\n",
       "      <td>[]</td>\n",
       "      <td>[]</td>\n",
       "      <td>NaN</td>\n",
       "    </tr>\n",
       "    <tr>\n",
       "      <th>1</th>\n",
       "      <td>두껍다회선생</td>\n",
       "      <td>서울 성북구 성북로 24 1층</td>\n",
       "      <td>[평소 두꺼운 회를 별로 안 좋아해서 고민하다가 후기 좋길래 가봤는데 후회 없었음....</td>\n",
       "      <td>[5, 4, 4.5, 4, 5, 5, 5, 3, 5, 5, 5, 5, 5, 4.5,...</td>\n",
       "      <td>4.41</td>\n",
       "    </tr>\n",
       "    <tr>\n",
       "      <th>2</th>\n",
       "      <td>목포회센타</td>\n",
       "      <td>서울 관악구 남부순환로 1766</td>\n",
       "      <td>[오늘은 광어가 좀 비리네요. 사장님께 말했더니 죄송\\n하다고 담엔 바로 얘기하라고...</td>\n",
       "      <td>[5, 4, 4.5, 4.5, 1, 5, 5, 0.5, 0.5, 4, 4, 4.5,...</td>\n",
       "      <td>NaN</td>\n",
       "    </tr>\n",
       "    <tr>\n",
       "      <th>3</th>\n",
       "      <td>바다회사랑</td>\n",
       "      <td>대전 중구 계룡로874번길 89</td>\n",
       "      <td>[저렴한가격에 양 많아요, 좋아요, 굿]</td>\n",
       "      <td>[3.5, 4, 5]</td>\n",
       "      <td>3.61</td>\n",
       "    </tr>\n",
       "    <tr>\n",
       "      <th>4</th>\n",
       "      <td>은성횟집</td>\n",
       "      <td>서울 종로구 창경궁로 88</td>\n",
       "      <td>[광장시장 근본 대구탕,,,\\n조금 시끄럽긴 해도 맛은 굳,,,, 약간 짠편이라 안...</td>\n",
       "      <td>[5, 5, 1, 4, 4.5, 3.5, 3, 1, 5, 5, 4, 3, 4, 3,...</td>\n",
       "      <td>4.27</td>\n",
       "    </tr>\n",
       "    <tr>\n",
       "      <th>...</th>\n",
       "      <td>...</td>\n",
       "      <td>...</td>\n",
       "      <td>...</td>\n",
       "      <td>...</td>\n",
       "      <td>...</td>\n",
       "    </tr>\n",
       "    <tr>\n",
       "      <th>1770</th>\n",
       "      <td>청연 덕신점</td>\n",
       "      <td>울산 울주군 온산읍 온덕2길 13 1층 청연 덕신점</td>\n",
       "      <td>[]</td>\n",
       "      <td>[]</td>\n",
       "      <td>4.74</td>\n",
       "    </tr>\n",
       "    <tr>\n",
       "      <th>1771</th>\n",
       "      <td>회명품</td>\n",
       "      <td>울산 동구 남진길 63</td>\n",
       "      <td>[]</td>\n",
       "      <td>[]</td>\n",
       "      <td>NaN</td>\n",
       "    </tr>\n",
       "    <tr>\n",
       "      <th>1772</th>\n",
       "      <td>다해횟집</td>\n",
       "      <td>울산 북구 정자1길 23-1 다해횟집</td>\n",
       "      <td>[사장님 친절하시고 음식도맛있고 좋아요~\\n서비스도 엄청 좋아요~, 깨끗하고 친절해...</td>\n",
       "      <td>[5, 3.5, 3, 4]</td>\n",
       "      <td>4.44</td>\n",
       "    </tr>\n",
       "    <tr>\n",
       "      <th>1773</th>\n",
       "      <td>더참치</td>\n",
       "      <td>울산 북구 동대중앙로 27 1층 더 참치</td>\n",
       "      <td>[사장님 부부께서는 참 친절하신데 35,000원짜리를 두명에서 먹을땐 호계치고 그냥...</td>\n",
       "      <td>[3, 0.5, 4]</td>\n",
       "      <td>3.43</td>\n",
       "    </tr>\n",
       "    <tr>\n",
       "      <th>1774</th>\n",
       "      <td>일품</td>\n",
       "      <td>울산 동구 남진길 65</td>\n",
       "      <td>[물회맛있어요~\\n매운탕도 같이줘서 굿굿, 맛있고 좋아요, 우럭탕 맛있어여~~^^,...</td>\n",
       "      <td>[4.5, 4.5, 5, 5]</td>\n",
       "      <td>4.27</td>\n",
       "    </tr>\n",
       "  </tbody>\n",
       "</table>\n",
       "<p>1775 rows × 5 columns</p>\n",
       "</div>"
      ],
      "text/plain": [
       "     store_name                      location  \\\n",
       "0     청초수물회 송파점    서울 송파구 백제고분로21길 38 1층 102호   \n",
       "1        두껍다회선생              서울 성북구 성북로 24 1층   \n",
       "2         목포회센타             서울 관악구 남부순환로 1766   \n",
       "3         바다회사랑             대전 중구 계룡로874번길 89   \n",
       "4          은성횟집                서울 종로구 창경궁로 88   \n",
       "...         ...                           ...   \n",
       "1770     청연 덕신점  울산 울주군 온산읍 온덕2길 13 1층 청연 덕신점   \n",
       "1771        회명품                  울산 동구 남진길 63   \n",
       "1772       다해횟집          울산 북구 정자1길 23-1 다해횟집   \n",
       "1773        더참치        울산 북구 동대중앙로 27 1층 더 참치   \n",
       "1774         일품                  울산 동구 남진길 65   \n",
       "\n",
       "                                                 review  \\\n",
       "0                                                    []   \n",
       "1     [평소 두꺼운 회를 별로 안 좋아해서 고민하다가 후기 좋길래 가봤는데 후회 없었음....   \n",
       "2     [오늘은 광어가 좀 비리네요. 사장님께 말했더니 죄송\\n하다고 담엔 바로 얘기하라고...   \n",
       "3                                [저렴한가격에 양 많아요, 좋아요, 굿]   \n",
       "4     [광장시장 근본 대구탕,,,\\n조금 시끄럽긴 해도 맛은 굳,,,, 약간 짠편이라 안...   \n",
       "...                                                 ...   \n",
       "1770                                                 []   \n",
       "1771                                                 []   \n",
       "1772  [사장님 친절하시고 음식도맛있고 좋아요~\\n서비스도 엄청 좋아요~, 깨끗하고 친절해...   \n",
       "1773  [사장님 부부께서는 참 친절하신데 35,000원짜리를 두명에서 먹을땐 호계치고 그냥...   \n",
       "1774  [물회맛있어요~\\n매운탕도 같이줘서 굿굿, 맛있고 좋아요, 우럭탕 맛있어여~~^^,...   \n",
       "\n",
       "                                            review_rank  rank  \n",
       "0                                                    []   NaN  \n",
       "1     [5, 4, 4.5, 4, 5, 5, 5, 3, 5, 5, 5, 5, 5, 4.5,...  4.41  \n",
       "2     [5, 4, 4.5, 4.5, 1, 5, 5, 0.5, 0.5, 4, 4, 4.5,...   NaN  \n",
       "3                                           [3.5, 4, 5]  3.61  \n",
       "4     [5, 5, 1, 4, 4.5, 3.5, 3, 1, 5, 5, 4, 3, 4, 3,...  4.27  \n",
       "...                                                 ...   ...  \n",
       "1770                                                 []  4.74  \n",
       "1771                                                 []   NaN  \n",
       "1772                                     [5, 3.5, 3, 4]  4.44  \n",
       "1773                                        [3, 0.5, 4]  3.43  \n",
       "1774                                   [4.5, 4.5, 5, 5]  4.27  \n",
       "\n",
       "[1775 rows x 5 columns]"
      ]
     },
     "execution_count": 65,
     "metadata": {},
     "output_type": "execute_result"
    }
   ],
   "source": [
    "df.rename(columns={'index': 'store_name'}, inplace=True)\n",
    "df"
   ]
  },
  {
   "cell_type": "code",
   "execution_count": 66,
   "id": "2ba42217",
   "metadata": {},
   "outputs": [
    {
     "data": {
      "text/html": [
       "<div>\n",
       "<style scoped>\n",
       "    .dataframe tbody tr th:only-of-type {\n",
       "        vertical-align: middle;\n",
       "    }\n",
       "\n",
       "    .dataframe tbody tr th {\n",
       "        vertical-align: top;\n",
       "    }\n",
       "\n",
       "    .dataframe thead th {\n",
       "        text-align: right;\n",
       "    }\n",
       "</style>\n",
       "<table border=\"1\" class=\"dataframe\">\n",
       "  <thead>\n",
       "    <tr style=\"text-align: right;\">\n",
       "      <th></th>\n",
       "      <th>store_name</th>\n",
       "      <th>review</th>\n",
       "      <th>review_rank</th>\n",
       "    </tr>\n",
       "  </thead>\n",
       "  <tbody>\n",
       "    <tr>\n",
       "      <th>0</th>\n",
       "      <td>청초수물회 송파점</td>\n",
       "      <td>[]</td>\n",
       "      <td>[]</td>\n",
       "    </tr>\n",
       "    <tr>\n",
       "      <th>1</th>\n",
       "      <td>두껍다회선생</td>\n",
       "      <td>[평소 두꺼운 회를 별로 안 좋아해서 고민하다가 후기 좋길래 가봤는데 후회 없었음....</td>\n",
       "      <td>[5, 4, 4.5, 4, 5, 5, 5, 3, 5, 5, 5, 5, 5, 4.5,...</td>\n",
       "    </tr>\n",
       "    <tr>\n",
       "      <th>2</th>\n",
       "      <td>목포회센타</td>\n",
       "      <td>[오늘은 광어가 좀 비리네요. 사장님께 말했더니 죄송\\n하다고 담엔 바로 얘기하라고...</td>\n",
       "      <td>[5, 4, 4.5, 4.5, 1, 5, 5, 0.5, 0.5, 4, 4, 4.5,...</td>\n",
       "    </tr>\n",
       "    <tr>\n",
       "      <th>3</th>\n",
       "      <td>바다회사랑</td>\n",
       "      <td>[저렴한가격에 양 많아요, 좋아요, 굿]</td>\n",
       "      <td>[3.5, 4, 5]</td>\n",
       "    </tr>\n",
       "    <tr>\n",
       "      <th>4</th>\n",
       "      <td>은성횟집</td>\n",
       "      <td>[광장시장 근본 대구탕,,,\\n조금 시끄럽긴 해도 맛은 굳,,,, 약간 짠편이라 안...</td>\n",
       "      <td>[5, 5, 1, 4, 4.5, 3.5, 3, 1, 5, 5, 4, 3, 4, 3,...</td>\n",
       "    </tr>\n",
       "    <tr>\n",
       "      <th>...</th>\n",
       "      <td>...</td>\n",
       "      <td>...</td>\n",
       "      <td>...</td>\n",
       "    </tr>\n",
       "    <tr>\n",
       "      <th>1770</th>\n",
       "      <td>청연 덕신점</td>\n",
       "      <td>[]</td>\n",
       "      <td>[]</td>\n",
       "    </tr>\n",
       "    <tr>\n",
       "      <th>1771</th>\n",
       "      <td>회명품</td>\n",
       "      <td>[]</td>\n",
       "      <td>[]</td>\n",
       "    </tr>\n",
       "    <tr>\n",
       "      <th>1772</th>\n",
       "      <td>다해횟집</td>\n",
       "      <td>[사장님 친절하시고 음식도맛있고 좋아요~\\n서비스도 엄청 좋아요~, 깨끗하고 친절해...</td>\n",
       "      <td>[5, 3.5, 3, 4]</td>\n",
       "    </tr>\n",
       "    <tr>\n",
       "      <th>1773</th>\n",
       "      <td>더참치</td>\n",
       "      <td>[사장님 부부께서는 참 친절하신데 35,000원짜리를 두명에서 먹을땐 호계치고 그냥...</td>\n",
       "      <td>[3, 0.5, 4]</td>\n",
       "    </tr>\n",
       "    <tr>\n",
       "      <th>1774</th>\n",
       "      <td>일품</td>\n",
       "      <td>[물회맛있어요~\\n매운탕도 같이줘서 굿굿, 맛있고 좋아요, 우럭탕 맛있어여~~^^,...</td>\n",
       "      <td>[4.5, 4.5, 5, 5]</td>\n",
       "    </tr>\n",
       "  </tbody>\n",
       "</table>\n",
       "<p>1775 rows × 3 columns</p>\n",
       "</div>"
      ],
      "text/plain": [
       "     store_name                                             review  \\\n",
       "0     청초수물회 송파점                                                 []   \n",
       "1        두껍다회선생  [평소 두꺼운 회를 별로 안 좋아해서 고민하다가 후기 좋길래 가봤는데 후회 없었음....   \n",
       "2         목포회센타  [오늘은 광어가 좀 비리네요. 사장님께 말했더니 죄송\\n하다고 담엔 바로 얘기하라고...   \n",
       "3         바다회사랑                             [저렴한가격에 양 많아요, 좋아요, 굿]   \n",
       "4          은성횟집  [광장시장 근본 대구탕,,,\\n조금 시끄럽긴 해도 맛은 굳,,,, 약간 짠편이라 안...   \n",
       "...         ...                                                ...   \n",
       "1770     청연 덕신점                                                 []   \n",
       "1771        회명품                                                 []   \n",
       "1772       다해횟집  [사장님 친절하시고 음식도맛있고 좋아요~\\n서비스도 엄청 좋아요~, 깨끗하고 친절해...   \n",
       "1773        더참치  [사장님 부부께서는 참 친절하신데 35,000원짜리를 두명에서 먹을땐 호계치고 그냥...   \n",
       "1774         일품  [물회맛있어요~\\n매운탕도 같이줘서 굿굿, 맛있고 좋아요, 우럭탕 맛있어여~~^^,...   \n",
       "\n",
       "                                            review_rank  \n",
       "0                                                    []  \n",
       "1     [5, 4, 4.5, 4, 5, 5, 5, 3, 5, 5, 5, 5, 5, 4.5,...  \n",
       "2     [5, 4, 4.5, 4.5, 1, 5, 5, 0.5, 0.5, 4, 4, 4.5,...  \n",
       "3                                           [3.5, 4, 5]  \n",
       "4     [5, 5, 1, 4, 4.5, 3.5, 3, 1, 5, 5, 4, 3, 4, 3,...  \n",
       "...                                                 ...  \n",
       "1770                                                 []  \n",
       "1771                                                 []  \n",
       "1772                                     [5, 3.5, 3, 4]  \n",
       "1773                                        [3, 0.5, 4]  \n",
       "1774                                   [4.5, 4.5, 5, 5]  \n",
       "\n",
       "[1775 rows x 3 columns]"
      ]
     },
     "execution_count": 66,
     "metadata": {},
     "output_type": "execute_result"
    }
   ],
   "source": [
    "df = df.drop(['location', 'rank'],axis=1)\n",
    "df"
   ]
  },
  {
   "cell_type": "code",
   "execution_count": 67,
   "id": "e3fa5e32",
   "metadata": {},
   "outputs": [
    {
     "name": "stdout",
     "output_type": "stream",
     "text": [
      "121\n"
     ]
    }
   ],
   "source": [
    "print(sum(df['review_rank'].apply(len) == 0))\n",
    "zero_review_index = df[df['review'].apply(len) == 0].index\n",
    "df = df.drop(zero_review_index)"
   ]
  },
  {
   "cell_type": "code",
   "execution_count": 70,
   "id": "0b06313e",
   "metadata": {},
   "outputs": [],
   "source": [
    "df = df.reset_index(drop=True)"
   ]
  },
  {
   "cell_type": "code",
   "execution_count": 71,
   "id": "4094c33e",
   "metadata": {},
   "outputs": [
    {
     "data": {
      "text/html": [
       "<div>\n",
       "<style scoped>\n",
       "    .dataframe tbody tr th:only-of-type {\n",
       "        vertical-align: middle;\n",
       "    }\n",
       "\n",
       "    .dataframe tbody tr th {\n",
       "        vertical-align: top;\n",
       "    }\n",
       "\n",
       "    .dataframe thead th {\n",
       "        text-align: right;\n",
       "    }\n",
       "</style>\n",
       "<table border=\"1\" class=\"dataframe\">\n",
       "  <thead>\n",
       "    <tr style=\"text-align: right;\">\n",
       "      <th></th>\n",
       "      <th>store_name</th>\n",
       "      <th>review</th>\n",
       "      <th>review_rank</th>\n",
       "    </tr>\n",
       "  </thead>\n",
       "  <tbody>\n",
       "    <tr>\n",
       "      <th>0</th>\n",
       "      <td>두껍다회선생</td>\n",
       "      <td>[평소 두꺼운 회를 별로 안 좋아해서 고민하다가 후기 좋길래 가봤는데 후회 없었음....</td>\n",
       "      <td>[5, 4, 4.5, 4, 5, 5, 5, 3, 5, 5, 5, 5, 5, 4.5,...</td>\n",
       "    </tr>\n",
       "    <tr>\n",
       "      <th>1</th>\n",
       "      <td>목포회센타</td>\n",
       "      <td>[오늘은 광어가 좀 비리네요. 사장님께 말했더니 죄송\\n하다고 담엔 바로 얘기하라고...</td>\n",
       "      <td>[5, 4, 4.5, 4.5, 1, 5, 5, 0.5, 0.5, 4, 4, 4.5,...</td>\n",
       "    </tr>\n",
       "    <tr>\n",
       "      <th>2</th>\n",
       "      <td>바다회사랑</td>\n",
       "      <td>[저렴한가격에 양 많아요, 좋아요, 굿]</td>\n",
       "      <td>[3.5, 4, 5]</td>\n",
       "    </tr>\n",
       "    <tr>\n",
       "      <th>3</th>\n",
       "      <td>은성횟집</td>\n",
       "      <td>[광장시장 근본 대구탕,,,\\n조금 시끄럽긴 해도 맛은 굳,,,, 약간 짠편이라 안...</td>\n",
       "      <td>[5, 5, 1, 4, 4.5, 3.5, 3, 1, 5, 5, 4, 3, 4, 3,...</td>\n",
       "    </tr>\n",
       "    <tr>\n",
       "      <th>4</th>\n",
       "      <td>횟집울릉도</td>\n",
       "      <td>[#맛있음 #그러나 #계산법이 #괴상함 모듬물회 5인분 포장주문하려하니 포장용기가 ...</td>\n",
       "      <td>[1, 2, 2, 4, 5, 5, 4, 5, 4.5, 0.5, 5, 3.5, 1, ...</td>\n",
       "    </tr>\n",
       "    <tr>\n",
       "      <th>...</th>\n",
       "      <td>...</td>\n",
       "      <td>...</td>\n",
       "      <td>...</td>\n",
       "    </tr>\n",
       "    <tr>\n",
       "      <th>1649</th>\n",
       "      <td>횟집하늘바다</td>\n",
       "      <td>[매번 갈때마다 단골마다 서비스도 거하게 주시고 잘\\n먹었습니다 서울에서 오신 손님...</td>\n",
       "      <td>[5, 5]</td>\n",
       "    </tr>\n",
       "    <tr>\n",
       "      <th>1650</th>\n",
       "      <td>어람횟집</td>\n",
       "      <td>[맛있어요~^^, ㅎㅎ, 좋아요]</td>\n",
       "      <td>[4, 4, 5]</td>\n",
       "    </tr>\n",
       "    <tr>\n",
       "      <th>1651</th>\n",
       "      <td>다해횟집</td>\n",
       "      <td>[사장님 친절하시고 음식도맛있고 좋아요~\\n서비스도 엄청 좋아요~, 깨끗하고 친절해...</td>\n",
       "      <td>[5, 3.5, 3, 4]</td>\n",
       "    </tr>\n",
       "    <tr>\n",
       "      <th>1652</th>\n",
       "      <td>더참치</td>\n",
       "      <td>[사장님 부부께서는 참 친절하신데 35,000원짜리를 두명에서 먹을땐 호계치고 그냥...</td>\n",
       "      <td>[3, 0.5, 4]</td>\n",
       "    </tr>\n",
       "    <tr>\n",
       "      <th>1653</th>\n",
       "      <td>일품</td>\n",
       "      <td>[물회맛있어요~\\n매운탕도 같이줘서 굿굿, 맛있고 좋아요, 우럭탕 맛있어여~~^^,...</td>\n",
       "      <td>[4.5, 4.5, 5, 5]</td>\n",
       "    </tr>\n",
       "  </tbody>\n",
       "</table>\n",
       "<p>1654 rows × 3 columns</p>\n",
       "</div>"
      ],
      "text/plain": [
       "     store_name                                             review  \\\n",
       "0        두껍다회선생  [평소 두꺼운 회를 별로 안 좋아해서 고민하다가 후기 좋길래 가봤는데 후회 없었음....   \n",
       "1         목포회센타  [오늘은 광어가 좀 비리네요. 사장님께 말했더니 죄송\\n하다고 담엔 바로 얘기하라고...   \n",
       "2         바다회사랑                             [저렴한가격에 양 많아요, 좋아요, 굿]   \n",
       "3          은성횟집  [광장시장 근본 대구탕,,,\\n조금 시끄럽긴 해도 맛은 굳,,,, 약간 짠편이라 안...   \n",
       "4         횟집울릉도  [#맛있음 #그러나 #계산법이 #괴상함 모듬물회 5인분 포장주문하려하니 포장용기가 ...   \n",
       "...         ...                                                ...   \n",
       "1649     횟집하늘바다  [매번 갈때마다 단골마다 서비스도 거하게 주시고 잘\\n먹었습니다 서울에서 오신 손님...   \n",
       "1650       어람횟집                                 [맛있어요~^^, ㅎㅎ, 좋아요]   \n",
       "1651       다해횟집  [사장님 친절하시고 음식도맛있고 좋아요~\\n서비스도 엄청 좋아요~, 깨끗하고 친절해...   \n",
       "1652        더참치  [사장님 부부께서는 참 친절하신데 35,000원짜리를 두명에서 먹을땐 호계치고 그냥...   \n",
       "1653         일품  [물회맛있어요~\\n매운탕도 같이줘서 굿굿, 맛있고 좋아요, 우럭탕 맛있어여~~^^,...   \n",
       "\n",
       "                                            review_rank  \n",
       "0     [5, 4, 4.5, 4, 5, 5, 5, 3, 5, 5, 5, 5, 5, 4.5,...  \n",
       "1     [5, 4, 4.5, 4.5, 1, 5, 5, 0.5, 0.5, 4, 4, 4.5,...  \n",
       "2                                           [3.5, 4, 5]  \n",
       "3     [5, 5, 1, 4, 4.5, 3.5, 3, 1, 5, 5, 4, 3, 4, 3,...  \n",
       "4     [1, 2, 2, 4, 5, 5, 4, 5, 4.5, 0.5, 5, 3.5, 1, ...  \n",
       "...                                                 ...  \n",
       "1649                                             [5, 5]  \n",
       "1650                                          [4, 4, 5]  \n",
       "1651                                     [5, 3.5, 3, 4]  \n",
       "1652                                        [3, 0.5, 4]  \n",
       "1653                                   [4.5, 4.5, 5, 5]  \n",
       "\n",
       "[1654 rows x 3 columns]"
      ]
     },
     "execution_count": 71,
     "metadata": {},
     "output_type": "execute_result"
    }
   ],
   "source": [
    "df"
   ]
  },
  {
   "cell_type": "code",
   "execution_count": 72,
   "id": "3ba11440",
   "metadata": {},
   "outputs": [
    {
     "data": {
      "text/plain": [
       "0"
      ]
     },
     "execution_count": 72,
     "metadata": {},
     "output_type": "execute_result"
    }
   ],
   "source": [
    "df.isnull().sum()\n",
    "sum(df['review_rank'].apply(len) == 0)"
   ]
  },
  {
   "cell_type": "code",
   "execution_count": 73,
   "id": "13b5a896",
   "metadata": {},
   "outputs": [
    {
     "name": "stdout",
     "output_type": "stream",
     "text": [
      "['평소 두꺼운 회를 별로 안 좋아해서 고민하다가 후기 좋길래 가봤는데 후회 없었음. 두꺼운 회의 매력에 빠졌달까 ㅎㅎ 우선 생와사비 주는 거 넘나 좋...', '숙성회맛있ㅅ어요 💕 다만 반반이라는데.. 연어가 \\n더 많네요오 ㅠㅠ 연어가 단가가 싸서 이해는하지만\\n ㅠ 매운탕 가성비있어서 조아요오 :)', '남자 사장님친절하세요\\n여자분은별로...', '근처에 들렸다가 밥 먹을때가 안보여서 들어갔어요 가격도 괜찮고 회도 맛있고 깔끔하니 좋네요', '맛잇어요 존득하고\\n활어회보다 저는 이게 더 맛잇는것같아용']\n",
      "['5', '4', '4.5', '4', '5']\n"
     ]
    }
   ],
   "source": [
    "#1. 각 매장 마다의 리뷰 리스트를 하나의 리뷰 코퍼스로 만든다\n",
    "review_list = list()\n",
    "review_rank_list = list()\n",
    "for store_idx in df.index:\n",
    "    review_list.extend(df['review'][store_idx])\n",
    "    review_rank_list.extend(df['review_rank'][store_idx])\n",
    "print(review_list[:5])\n",
    "print(review_rank_list[:5])\n",
    "    "
   ]
  },
  {
   "cell_type": "code",
   "execution_count": 74,
   "id": "79151c49",
   "metadata": {},
   "outputs": [
    {
     "name": "stdout",
     "output_type": "stream",
     "text": [
      "87549\n"
     ]
    },
    {
     "data": {
      "text/plain": [
       "87549"
      ]
     },
     "execution_count": 74,
     "metadata": {},
     "output_type": "execute_result"
    }
   ],
   "source": [
    "print(len(review_list))\n",
    "len(review_rank_list)"
   ]
  },
  {
   "cell_type": "code",
   "execution_count": 75,
   "id": "75c01a56",
   "metadata": {},
   "outputs": [
    {
     "data": {
      "text/plain": [
       "87549"
      ]
     },
     "execution_count": 75,
     "metadata": {},
     "output_type": "execute_result"
    }
   ],
   "source": [
    "each_review_index = list()\n",
    "for df_idx in range(len(df)):\n",
    "    for i in range(len(df.loc[df_idx,'review'])): #각 매장의 리뷰 리스트 개수만큼\n",
    "        each_review_index.append(df.loc[df_idx,'store_name'])\n",
    "len(each_review_index)"
   ]
  },
  {
   "cell_type": "code",
   "execution_count": 76,
   "id": "34c7f9d7",
   "metadata": {},
   "outputs": [
    {
     "data": {
      "text/html": [
       "<div>\n",
       "<style scoped>\n",
       "    .dataframe tbody tr th:only-of-type {\n",
       "        vertical-align: middle;\n",
       "    }\n",
       "\n",
       "    .dataframe tbody tr th {\n",
       "        vertical-align: top;\n",
       "    }\n",
       "\n",
       "    .dataframe thead th {\n",
       "        text-align: right;\n",
       "    }\n",
       "</style>\n",
       "<table border=\"1\" class=\"dataframe\">\n",
       "  <thead>\n",
       "    <tr style=\"text-align: right;\">\n",
       "      <th></th>\n",
       "      <th>Store_name</th>\n",
       "      <th>Review</th>\n",
       "      <th>Rank</th>\n",
       "    </tr>\n",
       "  </thead>\n",
       "  <tbody>\n",
       "    <tr>\n",
       "      <th>0</th>\n",
       "      <td>두껍다회선생</td>\n",
       "      <td>평소 두꺼운 회를 별로 안 좋아해서 고민하다가 후기 좋길래 가봤는데 후회 없었음. ...</td>\n",
       "      <td>5</td>\n",
       "    </tr>\n",
       "    <tr>\n",
       "      <th>1</th>\n",
       "      <td>두껍다회선생</td>\n",
       "      <td>숙성회맛있ㅅ어요 💕 다만 반반이라는데.. 연어가 \\n더 많네요오 ㅠㅠ 연어가 단가가...</td>\n",
       "      <td>4</td>\n",
       "    </tr>\n",
       "    <tr>\n",
       "      <th>2</th>\n",
       "      <td>두껍다회선생</td>\n",
       "      <td>남자 사장님친절하세요\\n여자분은별로...</td>\n",
       "      <td>4.5</td>\n",
       "    </tr>\n",
       "    <tr>\n",
       "      <th>3</th>\n",
       "      <td>두껍다회선생</td>\n",
       "      <td>근처에 들렸다가 밥 먹을때가 안보여서 들어갔어요 가격도 괜찮고 회도 맛있고 깔끔하니...</td>\n",
       "      <td>4</td>\n",
       "    </tr>\n",
       "    <tr>\n",
       "      <th>4</th>\n",
       "      <td>두껍다회선생</td>\n",
       "      <td>맛잇어요 존득하고\\n활어회보다 저는 이게 더 맛잇는것같아용</td>\n",
       "      <td>5</td>\n",
       "    </tr>\n",
       "    <tr>\n",
       "      <th>...</th>\n",
       "      <td>...</td>\n",
       "      <td>...</td>\n",
       "      <td>...</td>\n",
       "    </tr>\n",
       "    <tr>\n",
       "      <th>87544</th>\n",
       "      <td>더참치</td>\n",
       "      <td>참치 맛이 조~~~금 비리대요</td>\n",
       "      <td>4</td>\n",
       "    </tr>\n",
       "    <tr>\n",
       "      <th>87545</th>\n",
       "      <td>일품</td>\n",
       "      <td>물회맛있어요~\\n매운탕도 같이줘서 굿굿</td>\n",
       "      <td>4.5</td>\n",
       "    </tr>\n",
       "    <tr>\n",
       "      <th>87546</th>\n",
       "      <td>일품</td>\n",
       "      <td>맛있고 좋아요</td>\n",
       "      <td>4.5</td>\n",
       "    </tr>\n",
       "    <tr>\n",
       "      <th>87547</th>\n",
       "      <td>일품</td>\n",
       "      <td>우럭탕 맛있어여~~^^</td>\n",
       "      <td>5</td>\n",
       "    </tr>\n",
       "    <tr>\n",
       "      <th>87548</th>\n",
       "      <td>일품</td>\n",
       "      <td>좋아요</td>\n",
       "      <td>5</td>\n",
       "    </tr>\n",
       "  </tbody>\n",
       "</table>\n",
       "<p>87549 rows × 3 columns</p>\n",
       "</div>"
      ],
      "text/plain": [
       "      Store_name                                             Review Rank\n",
       "0         두껍다회선생  평소 두꺼운 회를 별로 안 좋아해서 고민하다가 후기 좋길래 가봤는데 후회 없었음. ...    5\n",
       "1         두껍다회선생  숙성회맛있ㅅ어요 💕 다만 반반이라는데.. 연어가 \\n더 많네요오 ㅠㅠ 연어가 단가가...    4\n",
       "2         두껍다회선생                             남자 사장님친절하세요\\n여자분은별로...  4.5\n",
       "3         두껍다회선생  근처에 들렸다가 밥 먹을때가 안보여서 들어갔어요 가격도 괜찮고 회도 맛있고 깔끔하니...    4\n",
       "4         두껍다회선생                   맛잇어요 존득하고\\n활어회보다 저는 이게 더 맛잇는것같아용    5\n",
       "...          ...                                                ...  ...\n",
       "87544        더참치                                   참치 맛이 조~~~금 비리대요    4\n",
       "87545         일품                              물회맛있어요~\\n매운탕도 같이줘서 굿굿  4.5\n",
       "87546         일품                                            맛있고 좋아요  4.5\n",
       "87547         일품                                       우럭탕 맛있어여~~^^    5\n",
       "87548         일품                                                좋아요    5\n",
       "\n",
       "[87549 rows x 3 columns]"
      ]
     },
     "execution_count": 76,
     "metadata": {},
     "output_type": "execute_result"
    }
   ],
   "source": [
    "#데이터 프레임 생성\n",
    "df = pd.DataFrame({'Store_name' : each_review_index, 'Review': review_list, 'Rank': review_rank_list})\n",
    "df"
   ]
  },
  {
   "cell_type": "code",
   "execution_count": 77,
   "id": "ebad4f1f",
   "metadata": {},
   "outputs": [
    {
     "data": {
      "text/plain": [
       "Store_name       0\n",
       "Review        1820\n",
       "Rank             0\n",
       "dtype: int64"
      ]
     },
     "execution_count": 77,
     "metadata": {},
     "output_type": "execute_result"
    }
   ],
   "source": [
    "# null값 확인\n",
    "df.isnull().sum()"
   ]
  },
  {
   "cell_type": "code",
   "execution_count": 83,
   "id": "a3791297",
   "metadata": {},
   "outputs": [],
   "source": [
    "# 평점은 있지만 리뷰가 없는 데이터 삭제\n",
    "df[df['Review'].isnull()]\n",
    "df = df.dropna()\n",
    "df = df.reset_index()"
   ]
  },
  {
   "cell_type": "code",
   "execution_count": 84,
   "id": "4f04adb1",
   "metadata": {},
   "outputs": [
    {
     "data": {
      "text/html": [
       "<div>\n",
       "<style scoped>\n",
       "    .dataframe tbody tr th:only-of-type {\n",
       "        vertical-align: middle;\n",
       "    }\n",
       "\n",
       "    .dataframe tbody tr th {\n",
       "        vertical-align: top;\n",
       "    }\n",
       "\n",
       "    .dataframe thead th {\n",
       "        text-align: right;\n",
       "    }\n",
       "</style>\n",
       "<table border=\"1\" class=\"dataframe\">\n",
       "  <thead>\n",
       "    <tr style=\"text-align: right;\">\n",
       "      <th></th>\n",
       "      <th>index</th>\n",
       "      <th>Store_name</th>\n",
       "      <th>Review</th>\n",
       "      <th>Rank</th>\n",
       "    </tr>\n",
       "  </thead>\n",
       "  <tbody>\n",
       "    <tr>\n",
       "      <th>0</th>\n",
       "      <td>0</td>\n",
       "      <td>두껍다회선생</td>\n",
       "      <td>평소 두꺼운 회를 별로 안 좋아해서 고민하다가 후기 좋길래 가봤는데 후회 없었음. ...</td>\n",
       "      <td>5</td>\n",
       "    </tr>\n",
       "    <tr>\n",
       "      <th>1</th>\n",
       "      <td>1</td>\n",
       "      <td>두껍다회선생</td>\n",
       "      <td>숙성회맛있ㅅ어요 💕 다만 반반이라는데.. 연어가 \\n더 많네요오 ㅠㅠ 연어가 단가가...</td>\n",
       "      <td>4</td>\n",
       "    </tr>\n",
       "    <tr>\n",
       "      <th>2</th>\n",
       "      <td>2</td>\n",
       "      <td>두껍다회선생</td>\n",
       "      <td>남자 사장님친절하세요\\n여자분은별로...</td>\n",
       "      <td>4.5</td>\n",
       "    </tr>\n",
       "    <tr>\n",
       "      <th>3</th>\n",
       "      <td>3</td>\n",
       "      <td>두껍다회선생</td>\n",
       "      <td>근처에 들렸다가 밥 먹을때가 안보여서 들어갔어요 가격도 괜찮고 회도 맛있고 깔끔하니...</td>\n",
       "      <td>4</td>\n",
       "    </tr>\n",
       "    <tr>\n",
       "      <th>4</th>\n",
       "      <td>4</td>\n",
       "      <td>두껍다회선생</td>\n",
       "      <td>맛잇어요 존득하고\\n활어회보다 저는 이게 더 맛잇는것같아용</td>\n",
       "      <td>5</td>\n",
       "    </tr>\n",
       "    <tr>\n",
       "      <th>...</th>\n",
       "      <td>...</td>\n",
       "      <td>...</td>\n",
       "      <td>...</td>\n",
       "      <td>...</td>\n",
       "    </tr>\n",
       "    <tr>\n",
       "      <th>85724</th>\n",
       "      <td>87544</td>\n",
       "      <td>더참치</td>\n",
       "      <td>참치 맛이 조~~~금 비리대요</td>\n",
       "      <td>4</td>\n",
       "    </tr>\n",
       "    <tr>\n",
       "      <th>85725</th>\n",
       "      <td>87545</td>\n",
       "      <td>일품</td>\n",
       "      <td>물회맛있어요~\\n매운탕도 같이줘서 굿굿</td>\n",
       "      <td>4.5</td>\n",
       "    </tr>\n",
       "    <tr>\n",
       "      <th>85726</th>\n",
       "      <td>87546</td>\n",
       "      <td>일품</td>\n",
       "      <td>맛있고 좋아요</td>\n",
       "      <td>4.5</td>\n",
       "    </tr>\n",
       "    <tr>\n",
       "      <th>85727</th>\n",
       "      <td>87547</td>\n",
       "      <td>일품</td>\n",
       "      <td>우럭탕 맛있어여~~^^</td>\n",
       "      <td>5</td>\n",
       "    </tr>\n",
       "    <tr>\n",
       "      <th>85728</th>\n",
       "      <td>87548</td>\n",
       "      <td>일품</td>\n",
       "      <td>좋아요</td>\n",
       "      <td>5</td>\n",
       "    </tr>\n",
       "  </tbody>\n",
       "</table>\n",
       "<p>85729 rows × 4 columns</p>\n",
       "</div>"
      ],
      "text/plain": [
       "       index Store_name                                             Review  \\\n",
       "0          0     두껍다회선생  평소 두꺼운 회를 별로 안 좋아해서 고민하다가 후기 좋길래 가봤는데 후회 없었음. ...   \n",
       "1          1     두껍다회선생  숙성회맛있ㅅ어요 💕 다만 반반이라는데.. 연어가 \\n더 많네요오 ㅠㅠ 연어가 단가가...   \n",
       "2          2     두껍다회선생                             남자 사장님친절하세요\\n여자분은별로...   \n",
       "3          3     두껍다회선생  근처에 들렸다가 밥 먹을때가 안보여서 들어갔어요 가격도 괜찮고 회도 맛있고 깔끔하니...   \n",
       "4          4     두껍다회선생                   맛잇어요 존득하고\\n활어회보다 저는 이게 더 맛잇는것같아용   \n",
       "...      ...        ...                                                ...   \n",
       "85724  87544        더참치                                   참치 맛이 조~~~금 비리대요   \n",
       "85725  87545         일품                              물회맛있어요~\\n매운탕도 같이줘서 굿굿   \n",
       "85726  87546         일품                                            맛있고 좋아요   \n",
       "85727  87547         일품                                       우럭탕 맛있어여~~^^   \n",
       "85728  87548         일품                                                좋아요   \n",
       "\n",
       "      Rank  \n",
       "0        5  \n",
       "1        4  \n",
       "2      4.5  \n",
       "3        4  \n",
       "4        5  \n",
       "...    ...  \n",
       "85724    4  \n",
       "85725  4.5  \n",
       "85726  4.5  \n",
       "85727    5  \n",
       "85728    5  \n",
       "\n",
       "[85729 rows x 4 columns]"
      ]
     },
     "execution_count": 84,
     "metadata": {},
     "output_type": "execute_result"
    }
   ],
   "source": [
    "df"
   ]
  },
  {
   "cell_type": "code",
   "execution_count": 85,
   "id": "66e70beb",
   "metadata": {},
   "outputs": [],
   "source": [
    "# 한글이 아닌 문자 제거 -> pass\n",
    "#여러 공백을 하나의 공백으로 줄인다.\n",
    "import re\n",
    "def apply_regular_expreesion(text):\n",
    "    # 특수문자, 숫자, 구두점 제거\n",
    "    comp = re.compile('[^ a-zA-Z가-힣]')\n",
    "    result = comp.sub('', text)\n",
    "    #여러 공백 하나의 공백으로 변경 \n",
    "    result = re.sub(' +',' ', text)\n",
    "    return result\n",
    "\n",
    "df['Review'] = df['Review'].apply(lambda x : apply_regular_expreesion(x))"
   ]
  },
  {
   "cell_type": "code",
   "execution_count": 86,
   "id": "2e9a2738",
   "metadata": {},
   "outputs": [
    {
     "data": {
      "text/html": [
       "<div>\n",
       "<style scoped>\n",
       "    .dataframe tbody tr th:only-of-type {\n",
       "        vertical-align: middle;\n",
       "    }\n",
       "\n",
       "    .dataframe tbody tr th {\n",
       "        vertical-align: top;\n",
       "    }\n",
       "\n",
       "    .dataframe thead th {\n",
       "        text-align: right;\n",
       "    }\n",
       "</style>\n",
       "<table border=\"1\" class=\"dataframe\">\n",
       "  <thead>\n",
       "    <tr style=\"text-align: right;\">\n",
       "      <th></th>\n",
       "      <th>index</th>\n",
       "      <th>Store_name</th>\n",
       "      <th>Review</th>\n",
       "      <th>Rank</th>\n",
       "    </tr>\n",
       "  </thead>\n",
       "  <tbody>\n",
       "    <tr>\n",
       "      <th>117</th>\n",
       "      <td>118</td>\n",
       "      <td>목포회센타</td>\n",
       "      <td></td>\n",
       "      <td>4</td>\n",
       "    </tr>\n",
       "    <tr>\n",
       "      <th>1953</th>\n",
       "      <td>2011</td>\n",
       "      <td>형제상회</td>\n",
       "      <td></td>\n",
       "      <td>4.5</td>\n",
       "    </tr>\n",
       "    <tr>\n",
       "      <th>1963</th>\n",
       "      <td>2021</td>\n",
       "      <td>형제상회</td>\n",
       "      <td></td>\n",
       "      <td>4</td>\n",
       "    </tr>\n",
       "    <tr>\n",
       "      <th>1966</th>\n",
       "      <td>2024</td>\n",
       "      <td>형제상회</td>\n",
       "      <td></td>\n",
       "      <td>5</td>\n",
       "    </tr>\n",
       "    <tr>\n",
       "      <th>2727</th>\n",
       "      <td>2796</td>\n",
       "      <td>고기야미안해</td>\n",
       "      <td></td>\n",
       "      <td>5</td>\n",
       "    </tr>\n",
       "    <tr>\n",
       "      <th>...</th>\n",
       "      <td>...</td>\n",
       "      <td>...</td>\n",
       "      <td>...</td>\n",
       "      <td>...</td>\n",
       "    </tr>\n",
       "    <tr>\n",
       "      <th>82586</th>\n",
       "      <td>84252</td>\n",
       "      <td>섬뜰</td>\n",
       "      <td></td>\n",
       "      <td>5</td>\n",
       "    </tr>\n",
       "    <tr>\n",
       "      <th>83105</th>\n",
       "      <td>84790</td>\n",
       "      <td>소쿠리횟집</td>\n",
       "      <td></td>\n",
       "      <td>4</td>\n",
       "    </tr>\n",
       "    <tr>\n",
       "      <th>83422</th>\n",
       "      <td>85111</td>\n",
       "      <td>두리두리 병영점</td>\n",
       "      <td></td>\n",
       "      <td>5</td>\n",
       "    </tr>\n",
       "    <tr>\n",
       "      <th>84899</th>\n",
       "      <td>86666</td>\n",
       "      <td>직송회직판장</td>\n",
       "      <td></td>\n",
       "      <td>5</td>\n",
       "    </tr>\n",
       "    <tr>\n",
       "      <th>85496</th>\n",
       "      <td>87276</td>\n",
       "      <td>청년횟집</td>\n",
       "      <td></td>\n",
       "      <td>5</td>\n",
       "    </tr>\n",
       "  </tbody>\n",
       "</table>\n",
       "<p>83 rows × 4 columns</p>\n",
       "</div>"
      ],
      "text/plain": [
       "       index Store_name Review Rank\n",
       "117      118      목포회센타           4\n",
       "1953    2011       형제상회         4.5\n",
       "1963    2021       형제상회           4\n",
       "1966    2024       형제상회           5\n",
       "2727    2796     고기야미안해           5\n",
       "...      ...        ...    ...  ...\n",
       "82586  84252         섬뜰           5\n",
       "83105  84790      소쿠리횟집           4\n",
       "83422  85111   두리두리 병영점           5\n",
       "84899  86666     직송회직판장           5\n",
       "85496  87276       청년횟집           5\n",
       "\n",
       "[83 rows x 4 columns]"
      ]
     },
     "execution_count": 86,
     "metadata": {},
     "output_type": "execute_result"
    }
   ],
   "source": [
    "tmp = df[df['Review']=='']\n",
    "tmp"
   ]
  },
  {
   "cell_type": "code",
   "execution_count": 89,
   "id": "751a15b7",
   "metadata": {},
   "outputs": [
    {
     "data": {
      "text/plain": [
       "0"
      ]
     },
     "execution_count": 89,
     "metadata": {},
     "output_type": "execute_result"
    }
   ],
   "source": [
    "sum(df['Review']==' ')\n"
   ]
  },
  {
   "cell_type": "code",
   "execution_count": 90,
   "id": "7ea1218a",
   "metadata": {},
   "outputs": [
    {
     "name": "stdout",
     "output_type": "stream",
     "text": [
      "index          0\n",
      "Store_name     0\n",
      "Review        83\n",
      "Rank           0\n",
      "dtype: int64\n"
     ]
    },
    {
     "data": {
      "text/plain": [
       "85646"
      ]
     },
     "execution_count": 90,
     "metadata": {},
     "output_type": "execute_result"
    }
   ],
   "source": [
    "#빈 문자열 -> NaN 치환\n",
    "df['Review'].replace('', np.nan, inplace=True)\n",
    "# null값 확인\n",
    "print(df.isnull().sum())\n",
    "df.dropna(inplace=True)\n",
    "len(df)"
   ]
  },
  {
   "cell_type": "code",
   "execution_count": 91,
   "id": "13000fdb",
   "metadata": {},
   "outputs": [
    {
     "data": {
      "text/plain": [
       "23257"
      ]
     },
     "execution_count": 91,
     "metadata": {},
     "output_type": "execute_result"
    }
   ],
   "source": [
    "df.duplicated(['Review']).sum()"
   ]
  },
  {
   "cell_type": "code",
   "execution_count": 92,
   "id": "6ae33a7a",
   "metadata": {
    "scrolled": true
   },
   "outputs": [
    {
     "name": "stdout",
     "output_type": "stream",
     "text": [
      "0\n",
      "62389\n"
     ]
    }
   ],
   "source": [
    "#중복 제거\n",
    "df = df.drop_duplicates(['Review'])\n",
    "print(df.duplicated(['Review']).sum())\n",
    "print(len(df))"
   ]
  },
  {
   "cell_type": "code",
   "execution_count": 94,
   "id": "2808c5b2",
   "metadata": {},
   "outputs": [
    {
     "name": "stdout",
     "output_type": "stream",
     "text": [
      "index         0\n",
      "Store_name    0\n",
      "Review        0\n",
      "Rank          0\n",
      "dtype: int64\n"
     ]
    }
   ],
   "source": [
    "print(df.isnull().sum())"
   ]
  },
  {
   "cell_type": "code",
   "execution_count": 95,
   "id": "92ef6675",
   "metadata": {},
   "outputs": [
    {
     "data": {
      "text/plain": [
       "62389"
      ]
     },
     "execution_count": 95,
     "metadata": {},
     "output_type": "execute_result"
    }
   ],
   "source": [
    "len(df)"
   ]
  },
  {
   "cell_type": "code",
   "execution_count": 97,
   "id": "45b1930b",
   "metadata": {},
   "outputs": [],
   "source": [
    "df = df.reset_index(drop=True)"
   ]
  },
  {
   "cell_type": "code",
   "execution_count": 98,
   "id": "2387b318",
   "metadata": {
    "scrolled": true
   },
   "outputs": [
    {
     "data": {
      "text/html": [
       "<div>\n",
       "<style scoped>\n",
       "    .dataframe tbody tr th:only-of-type {\n",
       "        vertical-align: middle;\n",
       "    }\n",
       "\n",
       "    .dataframe tbody tr th {\n",
       "        vertical-align: top;\n",
       "    }\n",
       "\n",
       "    .dataframe thead th {\n",
       "        text-align: right;\n",
       "    }\n",
       "</style>\n",
       "<table border=\"1\" class=\"dataframe\">\n",
       "  <thead>\n",
       "    <tr style=\"text-align: right;\">\n",
       "      <th></th>\n",
       "      <th>index</th>\n",
       "      <th>Store_name</th>\n",
       "      <th>Review</th>\n",
       "      <th>Rank</th>\n",
       "    </tr>\n",
       "  </thead>\n",
       "  <tbody>\n",
       "    <tr>\n",
       "      <th>0</th>\n",
       "      <td>0</td>\n",
       "      <td>두껍다회선생</td>\n",
       "      <td>평소 두꺼운 회를 별로 안 좋아해서 고민하다가 후기 좋길래 가봤는데 후회 없었음. ...</td>\n",
       "      <td>5</td>\n",
       "    </tr>\n",
       "    <tr>\n",
       "      <th>1</th>\n",
       "      <td>1</td>\n",
       "      <td>두껍다회선생</td>\n",
       "      <td>숙성회맛있ㅅ어요 💕 다만 반반이라는데.. 연어가 \\n더 많네요오 ㅠㅠ 연어가 단가가...</td>\n",
       "      <td>4</td>\n",
       "    </tr>\n",
       "    <tr>\n",
       "      <th>2</th>\n",
       "      <td>2</td>\n",
       "      <td>두껍다회선생</td>\n",
       "      <td>남자 사장님친절하세요\\n여자분은별로...</td>\n",
       "      <td>4.5</td>\n",
       "    </tr>\n",
       "    <tr>\n",
       "      <th>3</th>\n",
       "      <td>3</td>\n",
       "      <td>두껍다회선생</td>\n",
       "      <td>근처에 들렸다가 밥 먹을때가 안보여서 들어갔어요 가격도 괜찮고 회도 맛있고 깔끔하니...</td>\n",
       "      <td>4</td>\n",
       "    </tr>\n",
       "    <tr>\n",
       "      <th>4</th>\n",
       "      <td>4</td>\n",
       "      <td>두껍다회선생</td>\n",
       "      <td>맛잇어요 존득하고\\n활어회보다 저는 이게 더 맛잇는것같아용</td>\n",
       "      <td>5</td>\n",
       "    </tr>\n",
       "    <tr>\n",
       "      <th>...</th>\n",
       "      <td>...</td>\n",
       "      <td>...</td>\n",
       "      <td>...</td>\n",
       "      <td>...</td>\n",
       "    </tr>\n",
       "    <tr>\n",
       "      <th>62384</th>\n",
       "      <td>87542</td>\n",
       "      <td>더참치</td>\n",
       "      <td>사장님 부부께서는 참 친절하신데 35,000원짜리를 두명에서 먹을땐 호계치고 그냥저...</td>\n",
       "      <td>3</td>\n",
       "    </tr>\n",
       "    <tr>\n",
       "      <th>62385</th>\n",
       "      <td>87543</td>\n",
       "      <td>더참치</td>\n",
       "      <td>엄마 생신이라 평소 가던곳 아닌 더참치 처음 갔어요 . 41만원나왔고. 1인 열점먹...</td>\n",
       "      <td>0.5</td>\n",
       "    </tr>\n",
       "    <tr>\n",
       "      <th>62386</th>\n",
       "      <td>87544</td>\n",
       "      <td>더참치</td>\n",
       "      <td>참치 맛이 조~~~금 비리대요</td>\n",
       "      <td>4</td>\n",
       "    </tr>\n",
       "    <tr>\n",
       "      <th>62387</th>\n",
       "      <td>87545</td>\n",
       "      <td>일품</td>\n",
       "      <td>물회맛있어요~\\n매운탕도 같이줘서 굿굿</td>\n",
       "      <td>4.5</td>\n",
       "    </tr>\n",
       "    <tr>\n",
       "      <th>62388</th>\n",
       "      <td>87547</td>\n",
       "      <td>일품</td>\n",
       "      <td>우럭탕 맛있어여~~^^</td>\n",
       "      <td>5</td>\n",
       "    </tr>\n",
       "  </tbody>\n",
       "</table>\n",
       "<p>62389 rows × 4 columns</p>\n",
       "</div>"
      ],
      "text/plain": [
       "       index Store_name                                             Review  \\\n",
       "0          0     두껍다회선생  평소 두꺼운 회를 별로 안 좋아해서 고민하다가 후기 좋길래 가봤는데 후회 없었음. ...   \n",
       "1          1     두껍다회선생  숙성회맛있ㅅ어요 💕 다만 반반이라는데.. 연어가 \\n더 많네요오 ㅠㅠ 연어가 단가가...   \n",
       "2          2     두껍다회선생                             남자 사장님친절하세요\\n여자분은별로...   \n",
       "3          3     두껍다회선생  근처에 들렸다가 밥 먹을때가 안보여서 들어갔어요 가격도 괜찮고 회도 맛있고 깔끔하니...   \n",
       "4          4     두껍다회선생                   맛잇어요 존득하고\\n활어회보다 저는 이게 더 맛잇는것같아용   \n",
       "...      ...        ...                                                ...   \n",
       "62384  87542        더참치  사장님 부부께서는 참 친절하신데 35,000원짜리를 두명에서 먹을땐 호계치고 그냥저...   \n",
       "62385  87543        더참치  엄마 생신이라 평소 가던곳 아닌 더참치 처음 갔어요 . 41만원나왔고. 1인 열점먹...   \n",
       "62386  87544        더참치                                   참치 맛이 조~~~금 비리대요   \n",
       "62387  87545         일품                              물회맛있어요~\\n매운탕도 같이줘서 굿굿   \n",
       "62388  87547         일품                                       우럭탕 맛있어여~~^^   \n",
       "\n",
       "      Rank  \n",
       "0        5  \n",
       "1        4  \n",
       "2      4.5  \n",
       "3        4  \n",
       "4        5  \n",
       "...    ...  \n",
       "62384    3  \n",
       "62385  0.5  \n",
       "62386    4  \n",
       "62387  4.5  \n",
       "62388    5  \n",
       "\n",
       "[62389 rows x 4 columns]"
      ]
     },
     "execution_count": 98,
     "metadata": {},
     "output_type": "execute_result"
    }
   ],
   "source": [
    "df"
   ]
  },
  {
   "cell_type": "code",
   "execution_count": 99,
   "id": "f31c7a74",
   "metadata": {},
   "outputs": [],
   "source": [
    "import pickle\n",
    "with open('df.pickle' , 'wb') as f:\n",
    "    pickle.dump(df,f)"
   ]
  },
  {
   "cell_type": "code",
   "execution_count": 100,
   "id": "e3da01c6",
   "metadata": {},
   "outputs": [
    {
     "data": {
      "text/html": [
       "<div>\n",
       "<style scoped>\n",
       "    .dataframe tbody tr th:only-of-type {\n",
       "        vertical-align: middle;\n",
       "    }\n",
       "\n",
       "    .dataframe tbody tr th {\n",
       "        vertical-align: top;\n",
       "    }\n",
       "\n",
       "    .dataframe thead th {\n",
       "        text-align: right;\n",
       "    }\n",
       "</style>\n",
       "<table border=\"1\" class=\"dataframe\">\n",
       "  <thead>\n",
       "    <tr style=\"text-align: right;\">\n",
       "      <th></th>\n",
       "      <th>index</th>\n",
       "      <th>Store_name</th>\n",
       "      <th>Review</th>\n",
       "      <th>Rank</th>\n",
       "    </tr>\n",
       "  </thead>\n",
       "  <tbody>\n",
       "    <tr>\n",
       "      <th>0</th>\n",
       "      <td>0</td>\n",
       "      <td>두껍다회선생</td>\n",
       "      <td>평소 두꺼운 회를 별로 안 좋아해서 고민하다가 후기 좋길래 가봤는데 후회 없었음. ...</td>\n",
       "      <td>5</td>\n",
       "    </tr>\n",
       "    <tr>\n",
       "      <th>1</th>\n",
       "      <td>1</td>\n",
       "      <td>두껍다회선생</td>\n",
       "      <td>숙성회맛있ㅅ어요 💕 다만 반반이라는데.. 연어가 \\n더 많네요오 ㅠㅠ 연어가 단가가...</td>\n",
       "      <td>4</td>\n",
       "    </tr>\n",
       "    <tr>\n",
       "      <th>2</th>\n",
       "      <td>2</td>\n",
       "      <td>두껍다회선생</td>\n",
       "      <td>남자 사장님친절하세요\\n여자분은별로...</td>\n",
       "      <td>4.5</td>\n",
       "    </tr>\n",
       "    <tr>\n",
       "      <th>3</th>\n",
       "      <td>3</td>\n",
       "      <td>두껍다회선생</td>\n",
       "      <td>근처에 들렸다가 밥 먹을때가 안보여서 들어갔어요 가격도 괜찮고 회도 맛있고 깔끔하니...</td>\n",
       "      <td>4</td>\n",
       "    </tr>\n",
       "    <tr>\n",
       "      <th>4</th>\n",
       "      <td>4</td>\n",
       "      <td>두껍다회선생</td>\n",
       "      <td>맛잇어요 존득하고\\n활어회보다 저는 이게 더 맛잇는것같아용</td>\n",
       "      <td>5</td>\n",
       "    </tr>\n",
       "    <tr>\n",
       "      <th>...</th>\n",
       "      <td>...</td>\n",
       "      <td>...</td>\n",
       "      <td>...</td>\n",
       "      <td>...</td>\n",
       "    </tr>\n",
       "    <tr>\n",
       "      <th>62384</th>\n",
       "      <td>87542</td>\n",
       "      <td>더참치</td>\n",
       "      <td>사장님 부부께서는 참 친절하신데 35,000원짜리를 두명에서 먹을땐 호계치고 그냥저...</td>\n",
       "      <td>3</td>\n",
       "    </tr>\n",
       "    <tr>\n",
       "      <th>62385</th>\n",
       "      <td>87543</td>\n",
       "      <td>더참치</td>\n",
       "      <td>엄마 생신이라 평소 가던곳 아닌 더참치 처음 갔어요 . 41만원나왔고. 1인 열점먹...</td>\n",
       "      <td>0.5</td>\n",
       "    </tr>\n",
       "    <tr>\n",
       "      <th>62386</th>\n",
       "      <td>87544</td>\n",
       "      <td>더참치</td>\n",
       "      <td>참치 맛이 조~~~금 비리대요</td>\n",
       "      <td>4</td>\n",
       "    </tr>\n",
       "    <tr>\n",
       "      <th>62387</th>\n",
       "      <td>87545</td>\n",
       "      <td>일품</td>\n",
       "      <td>물회맛있어요~\\n매운탕도 같이줘서 굿굿</td>\n",
       "      <td>4.5</td>\n",
       "    </tr>\n",
       "    <tr>\n",
       "      <th>62388</th>\n",
       "      <td>87547</td>\n",
       "      <td>일품</td>\n",
       "      <td>우럭탕 맛있어여~~^^</td>\n",
       "      <td>5</td>\n",
       "    </tr>\n",
       "  </tbody>\n",
       "</table>\n",
       "<p>62389 rows × 4 columns</p>\n",
       "</div>"
      ],
      "text/plain": [
       "       index Store_name                                             Review  \\\n",
       "0          0     두껍다회선생  평소 두꺼운 회를 별로 안 좋아해서 고민하다가 후기 좋길래 가봤는데 후회 없었음. ...   \n",
       "1          1     두껍다회선생  숙성회맛있ㅅ어요 💕 다만 반반이라는데.. 연어가 \\n더 많네요오 ㅠㅠ 연어가 단가가...   \n",
       "2          2     두껍다회선생                             남자 사장님친절하세요\\n여자분은별로...   \n",
       "3          3     두껍다회선생  근처에 들렸다가 밥 먹을때가 안보여서 들어갔어요 가격도 괜찮고 회도 맛있고 깔끔하니...   \n",
       "4          4     두껍다회선생                   맛잇어요 존득하고\\n활어회보다 저는 이게 더 맛잇는것같아용   \n",
       "...      ...        ...                                                ...   \n",
       "62384  87542        더참치  사장님 부부께서는 참 친절하신데 35,000원짜리를 두명에서 먹을땐 호계치고 그냥저...   \n",
       "62385  87543        더참치  엄마 생신이라 평소 가던곳 아닌 더참치 처음 갔어요 . 41만원나왔고. 1인 열점먹...   \n",
       "62386  87544        더참치                                   참치 맛이 조~~~금 비리대요   \n",
       "62387  87545         일품                              물회맛있어요~\\n매운탕도 같이줘서 굿굿   \n",
       "62388  87547         일품                                       우럭탕 맛있어여~~^^   \n",
       "\n",
       "      Rank  \n",
       "0        5  \n",
       "1        4  \n",
       "2      4.5  \n",
       "3        4  \n",
       "4        5  \n",
       "...    ...  \n",
       "62384    3  \n",
       "62385  0.5  \n",
       "62386    4  \n",
       "62387  4.5  \n",
       "62388    5  \n",
       "\n",
       "[62389 rows x 4 columns]"
      ]
     },
     "execution_count": 100,
     "metadata": {},
     "output_type": "execute_result"
    }
   ],
   "source": [
    "df"
   ]
  },
  {
   "cell_type": "code",
   "execution_count": 102,
   "id": "ef814c84",
   "metadata": {},
   "outputs": [],
   "source": [
    "df = df.astype({'Rank':'float'})"
   ]
  },
  {
   "cell_type": "code",
   "execution_count": 103,
   "id": "56413264",
   "metadata": {},
   "outputs": [
    {
     "data": {
      "text/plain": [
       "index           int64\n",
       "Store_name     object\n",
       "Review         object\n",
       "Rank          float64\n",
       "dtype: object"
      ]
     },
     "execution_count": 103,
     "metadata": {},
     "output_type": "execute_result"
    }
   ],
   "source": [
    "df.dtypes"
   ]
  },
  {
   "cell_type": "code",
   "execution_count": 109,
   "id": "5109bb30",
   "metadata": {},
   "outputs": [
    {
     "data": {
      "text/html": [
       "<div>\n",
       "<style scoped>\n",
       "    .dataframe tbody tr th:only-of-type {\n",
       "        vertical-align: middle;\n",
       "    }\n",
       "\n",
       "    .dataframe tbody tr th {\n",
       "        vertical-align: top;\n",
       "    }\n",
       "\n",
       "    .dataframe thead th {\n",
       "        text-align: right;\n",
       "    }\n",
       "</style>\n",
       "<table border=\"1\" class=\"dataframe\">\n",
       "  <thead>\n",
       "    <tr style=\"text-align: right;\">\n",
       "      <th></th>\n",
       "      <th>index</th>\n",
       "      <th>Store_name</th>\n",
       "      <th>Review</th>\n",
       "      <th>Rank</th>\n",
       "      <th>Label</th>\n",
       "    </tr>\n",
       "  </thead>\n",
       "  <tbody>\n",
       "    <tr>\n",
       "      <th>0</th>\n",
       "      <td>0</td>\n",
       "      <td>두껍다회선생</td>\n",
       "      <td>평소 두꺼운 회를 별로 안 좋아해서 고민하다가 후기 좋길래 가봤는데 후회 없었음. ...</td>\n",
       "      <td>5.0</td>\n",
       "      <td>1</td>\n",
       "    </tr>\n",
       "    <tr>\n",
       "      <th>1</th>\n",
       "      <td>1</td>\n",
       "      <td>두껍다회선생</td>\n",
       "      <td>숙성회맛있ㅅ어요 💕 다만 반반이라는데.. 연어가 \\n더 많네요오 ㅠㅠ 연어가 단가가...</td>\n",
       "      <td>4.0</td>\n",
       "      <td>1</td>\n",
       "    </tr>\n",
       "    <tr>\n",
       "      <th>2</th>\n",
       "      <td>2</td>\n",
       "      <td>두껍다회선생</td>\n",
       "      <td>남자 사장님친절하세요\\n여자분은별로...</td>\n",
       "      <td>4.5</td>\n",
       "      <td>1</td>\n",
       "    </tr>\n",
       "    <tr>\n",
       "      <th>3</th>\n",
       "      <td>3</td>\n",
       "      <td>두껍다회선생</td>\n",
       "      <td>근처에 들렸다가 밥 먹을때가 안보여서 들어갔어요 가격도 괜찮고 회도 맛있고 깔끔하니...</td>\n",
       "      <td>4.0</td>\n",
       "      <td>1</td>\n",
       "    </tr>\n",
       "    <tr>\n",
       "      <th>4</th>\n",
       "      <td>4</td>\n",
       "      <td>두껍다회선생</td>\n",
       "      <td>맛잇어요 존득하고\\n활어회보다 저는 이게 더 맛잇는것같아용</td>\n",
       "      <td>5.0</td>\n",
       "      <td>1</td>\n",
       "    </tr>\n",
       "  </tbody>\n",
       "</table>\n",
       "</div>"
      ],
      "text/plain": [
       "   index Store_name                                             Review  Rank  \\\n",
       "0      0     두껍다회선생  평소 두꺼운 회를 별로 안 좋아해서 고민하다가 후기 좋길래 가봤는데 후회 없었음. ...   5.0   \n",
       "1      1     두껍다회선생  숙성회맛있ㅅ어요 💕 다만 반반이라는데.. 연어가 \\n더 많네요오 ㅠㅠ 연어가 단가가...   4.0   \n",
       "2      2     두껍다회선생                             남자 사장님친절하세요\\n여자분은별로...   4.5   \n",
       "3      3     두껍다회선생  근처에 들렸다가 밥 먹을때가 안보여서 들어갔어요 가격도 괜찮고 회도 맛있고 깔끔하니...   4.0   \n",
       "4      4     두껍다회선생                   맛잇어요 존득하고\\n활어회보다 저는 이게 더 맛잇는것같아용   5.0   \n",
       "\n",
       "   Label  \n",
       "0      1  \n",
       "1      1  \n",
       "2      1  \n",
       "3      1  \n",
       "4      1  "
      ]
     },
     "execution_count": 109,
     "metadata": {},
     "output_type": "execute_result"
    }
   ],
   "source": [
    "#조건별 데이터 연산\n",
    "#3~5점 긍정\n",
    "#0~1점 부정\n",
    "# 레이블링\n",
    "df['Label'] = np.select([df.Rank > 3], [1], default= 0)\n",
    "df[:5]"
   ]
  },
  {
   "cell_type": "code",
   "execution_count": 110,
   "id": "466842fa",
   "metadata": {},
   "outputs": [],
   "source": [
    "import pickle\n",
    "with open('df.pickle' , 'wb') as f:\n",
    "    pickle.dump(df,f)"
   ]
  },
  {
   "cell_type": "markdown",
   "id": "fb39c364",
   "metadata": {},
   "source": [
    "# 2. 레이블링\n",
    "1. MeCab으로 형태소 분석\n",
    "2. 리뷰의 모든 단어 사전 생성\n",
    "3. 단어 사전에서 긍정지정사(VCP), 부정지정사(VCN), 부사(MAG), 형용사(VA), 동사(VV), 감탄사(IC), 어근(XR), 명사(NNG), 그리고 이 형태소가 포함되어 있는 태그들을 감성어 사전에 포함 => 판단의 근거가 된다.\n",
    "4. 긍정어 사전에 있던 형태소들에는 1을\n",
    "5. 부정어 사전에 있던 형태소들에는 -1을 태깅"
   ]
  },
  {
   "cell_type": "code",
   "execution_count": 86,
   "id": "67230f75",
   "metadata": {},
   "outputs": [],
   "source": [
    "# 형태소 분석기 로드\n",
    "from konlpy.tag import Mecab\n",
    "mecab = Mecab('C:\\mecab\\mecab-ko-dic')"
   ]
  },
  {
   "cell_type": "code",
   "execution_count": 87,
   "id": "6eabebaa",
   "metadata": {},
   "outputs": [
    {
     "data": {
      "text/plain": [
       "[('안녕', 'NNG'),\n",
       " ('하', 'XSV'),\n",
       " ('세요', 'EP+EF'),\n",
       " ('.', 'SF'),\n",
       " ('저', 'NP'),\n",
       " ('는', 'JX'),\n",
       " ('정성원', 'NNP'),\n",
       " ('입니다', 'VCP+EF'),\n",
       " ('.', 'SF')]"
      ]
     },
     "execution_count": 87,
     "metadata": {},
     "output_type": "execute_result"
    }
   ],
   "source": [
    "mecab.pos('안녕하세요. 저는 정성원입니다.')"
   ]
  },
  {
   "cell_type": "code",
   "execution_count": 88,
   "id": "074bf14b",
   "metadata": {},
   "outputs": [
    {
     "data": {
      "text/html": [
       "<div>\n",
       "<style scoped>\n",
       "    .dataframe tbody tr th:only-of-type {\n",
       "        vertical-align: middle;\n",
       "    }\n",
       "\n",
       "    .dataframe tbody tr th {\n",
       "        vertical-align: top;\n",
       "    }\n",
       "\n",
       "    .dataframe thead th {\n",
       "        text-align: right;\n",
       "    }\n",
       "</style>\n",
       "<table border=\"1\" class=\"dataframe\">\n",
       "  <thead>\n",
       "    <tr style=\"text-align: right;\">\n",
       "      <th></th>\n",
       "      <th>Store_name</th>\n",
       "    </tr>\n",
       "  </thead>\n",
       "  <tbody>\n",
       "    <tr>\n",
       "      <th>0</th>\n",
       "      <td>강세호참치</td>\n",
       "    </tr>\n",
       "    <tr>\n",
       "      <th>1</th>\n",
       "      <td>강세호참치</td>\n",
       "    </tr>\n",
       "    <tr>\n",
       "      <th>2</th>\n",
       "      <td>강세호참치</td>\n",
       "    </tr>\n",
       "    <tr>\n",
       "      <th>3</th>\n",
       "      <td>강세호참치</td>\n",
       "    </tr>\n",
       "    <tr>\n",
       "      <th>4</th>\n",
       "      <td>강세호참치</td>\n",
       "    </tr>\n",
       "    <tr>\n",
       "      <th>...</th>\n",
       "      <td>...</td>\n",
       "    </tr>\n",
       "    <tr>\n",
       "      <th>86641</th>\n",
       "      <td>팔딱팔딱</td>\n",
       "    </tr>\n",
       "    <tr>\n",
       "      <th>86642</th>\n",
       "      <td>팔딱팔딱</td>\n",
       "    </tr>\n",
       "    <tr>\n",
       "      <th>86643</th>\n",
       "      <td>팔딱팔딱</td>\n",
       "    </tr>\n",
       "    <tr>\n",
       "      <th>86644</th>\n",
       "      <td>팔딱팔딱</td>\n",
       "    </tr>\n",
       "    <tr>\n",
       "      <th>86645</th>\n",
       "      <td>바다보고</td>\n",
       "    </tr>\n",
       "  </tbody>\n",
       "</table>\n",
       "<p>86646 rows × 1 columns</p>\n",
       "</div>"
      ],
      "text/plain": [
       "      Store_name\n",
       "0          강세호참치\n",
       "1          강세호참치\n",
       "2          강세호참치\n",
       "3          강세호참치\n",
       "4          강세호참치\n",
       "...          ...\n",
       "86641       팔딱팔딱\n",
       "86642       팔딱팔딱\n",
       "86643       팔딱팔딱\n",
       "86644       팔딱팔딱\n",
       "86645       바다보고\n",
       "\n",
       "[86646 rows x 1 columns]"
      ]
     },
     "execution_count": 88,
     "metadata": {},
     "output_type": "execute_result"
    }
   ],
   "source": [
    "store_name_col = pd.DataFrame(df['Store_name'])\n",
    "store_name_col"
   ]
  },
  {
   "cell_type": "code",
   "execution_count": 89,
   "id": "beebfb2c",
   "metadata": {},
   "outputs": [
    {
     "name": "stderr",
     "output_type": "stream",
     "text": [
      "100%|█████████████████████████████████████████████████████████████████| 86646/86646 [00:08<00:00, 10607.95it/s]\n"
     ]
    }
   ],
   "source": [
    "# 전체 단어 사전 생성\n",
    "pos_tag_corpus_list = []\n",
    "for index, row in tqdm(df.iterrows(), total = len(df)):\n",
    "     pos_tag_corpus_list.append(mecab.pos(row['Review']))"
   ]
  },
  {
   "cell_type": "code",
   "execution_count": 90,
   "id": "5cd1a5ea",
   "metadata": {},
   "outputs": [
    {
     "data": {
      "text/plain": [
       "[('지금', 'NNG'),\n",
       " ('까지', 'JX'),\n",
       " ('다녀', 'VV+EC'),\n",
       " ('봤', 'VX+EP'),\n",
       " ('던', 'ETM'),\n",
       " ('참치', 'NNG'),\n",
       " ('집', 'NNG'),\n",
       " ('중', 'NNB'),\n",
       " ('부위', 'NNG'),\n",
       " ('가', 'JKS'),\n",
       " ('가장', 'MAG'),\n",
       " ('좋', 'VA'),\n",
       " ('았', 'EP'),\n",
       " ('던', 'ETM'),\n",
       " ('거', 'NNB'),\n",
       " ('같', 'VA'),\n",
       " ('아요', 'EF'),\n",
       " ('!', 'SF'),\n",
       " ('어묵', 'NNG'),\n",
       " ('탕', 'NNG'),\n",
       " ('샐러드', 'NNG'),\n",
       " ('생선', 'NNG'),\n",
       " ('조림', 'NNG'),\n",
       " ('순두부찌개', 'NNG'),\n",
       " ('튀김', 'NNG'),\n",
       " ('등', 'NNB'),\n",
       " ('곁들일', 'VV+ETM'),\n",
       " ('수', 'NNB'),\n",
       " ('있', 'VV'),\n",
       " ('는', 'ETM'),\n",
       " ('스', 'IC'),\n",
       " ('끼', 'MAG'),\n",
       " ('다시', 'MAG'),\n",
       " ('도', 'JX'),\n",
       " ('같이', 'MAG'),\n",
       " ('나와서', 'VV+EC'),\n",
       " ('좋', 'VA'),\n",
       " ('아', 'EF'),\n",
       " ('.', 'SF'),\n",
       " ('..', 'SY')]"
      ]
     },
     "execution_count": 90,
     "metadata": {},
     "output_type": "execute_result"
    }
   ],
   "source": [
    "pos_tag_corpus_list[0]"
   ]
  },
  {
   "cell_type": "code",
   "execution_count": 91,
   "id": "e22b2226",
   "metadata": {},
   "outputs": [
    {
     "name": "stderr",
     "output_type": "stream",
     "text": [
      "100%|█████████████████████████████████████████████████████████████████| 86646/86646 [00:07<00:00, 11097.10it/s]\n"
     ]
    }
   ],
   "source": [
    "#3. 단어 사전에서 긍정지정사(VCP), 부정지정사(VCN), 부사(MAG), 형용사(VA), 동사(VV), 감탄사(IC), 어근(XR), 그리고 이 형태소가 포함되어 있는 태그들을 감성어 사전에 포함\n",
    "import re\n",
    "filter_poses = ['VCP', 'VCN','MAG','VA','VV','IC','XR']\n",
    "\n",
    "filtered_morphs_corpus_list = []\n",
    "review_Lex = []\n",
    "\n",
    "for tokenized_review in tqdm(pos_tag_corpus_list, total=len(pos_tag_corpus_list)):# 한줄의 리뷰\n",
    "    tmp = []\n",
    "    for morphs_pos_tuple in tokenized_review: # 한 형태소_품사 tuple\n",
    "        for test_pos in filter_poses: #한 형태소\n",
    "            m = re.search(test_pos, morphs_pos_tuple[1]) # 필터 품사와 현재 형태소 품사 비교\n",
    "            if m != None: #그 형태소의 품사가 품사 필터를 포함하고 있으면 break\n",
    "                break\n",
    "        if m == None: #아직도 None이라면 이 형태소는 단어사전에 포함시키지 않는다.\n",
    "            continue\n",
    "        tmp.append(morphs_pos_tuple[0])\n",
    "        review_Lex.append(morphs_pos_tuple[0])\n",
    "    filtered_morphs_corpus_list.append(tmp)\n",
    "    "
   ]
  },
  {
   "cell_type": "code",
   "execution_count": 93,
   "id": "90f4c4f6",
   "metadata": {},
   "outputs": [
    {
     "data": {
      "text/plain": [
       "(86646, 86646)"
      ]
     },
     "execution_count": 93,
     "metadata": {},
     "output_type": "execute_result"
    }
   ],
   "source": [
    "len(df), len(filtered_morphs_corpus_list)"
   ]
  },
  {
   "cell_type": "code",
   "execution_count": 94,
   "id": "f2f401af",
   "metadata": {},
   "outputs": [
    {
     "data": {
      "text/plain": [
       "['다녀', '가장', '좋', '같', '곁들일', '있', '스', '끼', '다시', '같이', '나와서', '좋']"
      ]
     },
     "execution_count": 94,
     "metadata": {},
     "output_type": "execute_result"
    }
   ],
   "source": [
    "filtered_morphs_corpus_list[0]"
   ]
  },
  {
   "cell_type": "code",
   "execution_count": 95,
   "id": "80c86308",
   "metadata": {},
   "outputs": [
    {
     "data": {
      "text/html": [
       "<div>\n",
       "<style scoped>\n",
       "    .dataframe tbody tr th:only-of-type {\n",
       "        vertical-align: middle;\n",
       "    }\n",
       "\n",
       "    .dataframe tbody tr th {\n",
       "        vertical-align: top;\n",
       "    }\n",
       "\n",
       "    .dataframe thead th {\n",
       "        text-align: right;\n",
       "    }\n",
       "</style>\n",
       "<table border=\"1\" class=\"dataframe\">\n",
       "  <thead>\n",
       "    <tr style=\"text-align: right;\">\n",
       "      <th></th>\n",
       "      <th>Store_name</th>\n",
       "      <th>Review</th>\n",
       "    </tr>\n",
       "  </thead>\n",
       "  <tbody>\n",
       "    <tr>\n",
       "      <th>0</th>\n",
       "      <td>강세호참치</td>\n",
       "      <td>지금까지 다녀봤던 참치집 중 부위가 가장 좋았던거 같아요! 어묵탕 샐러드 생선조림 ...</td>\n",
       "    </tr>\n",
       "    <tr>\n",
       "      <th>1</th>\n",
       "      <td>강세호참치</td>\n",
       "      <td>처음 들어갈땐 사장님이 계신거같더니 먹는 중에는 퇴근하셨나? 벨을 눌러도 안오네요ㅋ...</td>\n",
       "    </tr>\n",
       "    <tr>\n",
       "      <th>2</th>\n",
       "      <td>강세호참치</td>\n",
       "      <td>가족들 다 참치회를 좋아해서 생일겸 맛있는 참치회 먹으려고 집근처로 찾아보던중에 알...</td>\n",
       "    </tr>\n",
       "    <tr>\n",
       "      <th>3</th>\n",
       "      <td>강세호참치</td>\n",
       "      <td>일등참치 맛집참치 가성비참치 최고참치 증독참치 구청뒤쪽에서 신설동으로 계속 딸라다닐...</td>\n",
       "    </tr>\n",
       "    <tr>\n",
       "      <th>4</th>\n",
       "      <td>강세호참치</td>\n",
       "      <td>음식이 깔끔하고 맛있네요</td>\n",
       "    </tr>\n",
       "    <tr>\n",
       "      <th>...</th>\n",
       "      <td>...</td>\n",
       "      <td>...</td>\n",
       "    </tr>\n",
       "    <tr>\n",
       "      <th>86641</th>\n",
       "      <td>팔딱팔딱</td>\n",
       "      <td>동네에서 회가 맛있다고 소문 듣고 방문했는데 정말 \\n회가 신선하고 맛있어요😋 가성...</td>\n",
       "    </tr>\n",
       "    <tr>\n",
       "      <th>86642</th>\n",
       "      <td>팔딱팔딱</td>\n",
       "      <td>맛있어서 이번엔 모임있어서 포장해갔어요\\n윤기 좔좔✨️✨️✨️\\n회 좋아하시는분들은...</td>\n",
       "    </tr>\n",
       "    <tr>\n",
       "      <th>86643</th>\n",
       "      <td>팔딱팔딱</td>\n",
       "      <td>우러이 쫄깃쫄깃합니다</td>\n",
       "    </tr>\n",
       "    <tr>\n",
       "      <th>86644</th>\n",
       "      <td>팔딱팔딱</td>\n",
       "      <td>신선하고 그외 반찬 나오는것도 맛있고\\n매운탕도 굿~</td>\n",
       "    </tr>\n",
       "    <tr>\n",
       "      <th>86645</th>\n",
       "      <td>바다보고</td>\n",
       "      <td>아구탕 시원하고 맛있었어요</td>\n",
       "    </tr>\n",
       "  </tbody>\n",
       "</table>\n",
       "<p>86646 rows × 2 columns</p>\n",
       "</div>"
      ],
      "text/plain": [
       "      Store_name                                             Review\n",
       "0          강세호참치  지금까지 다녀봤던 참치집 중 부위가 가장 좋았던거 같아요! 어묵탕 샐러드 생선조림 ...\n",
       "1          강세호참치  처음 들어갈땐 사장님이 계신거같더니 먹는 중에는 퇴근하셨나? 벨을 눌러도 안오네요ㅋ...\n",
       "2          강세호참치  가족들 다 참치회를 좋아해서 생일겸 맛있는 참치회 먹으려고 집근처로 찾아보던중에 알...\n",
       "3          강세호참치  일등참치 맛집참치 가성비참치 최고참치 증독참치 구청뒤쪽에서 신설동으로 계속 딸라다닐...\n",
       "4          강세호참치                                      음식이 깔끔하고 맛있네요\n",
       "...          ...                                                ...\n",
       "86641       팔딱팔딱  동네에서 회가 맛있다고 소문 듣고 방문했는데 정말 \\n회가 신선하고 맛있어요😋 가성...\n",
       "86642       팔딱팔딱  맛있어서 이번엔 모임있어서 포장해갔어요\\n윤기 좔좔✨️✨️✨️\\n회 좋아하시는분들은...\n",
       "86643       팔딱팔딱                                        우러이 쫄깃쫄깃합니다\n",
       "86644       팔딱팔딱                      신선하고 그외 반찬 나오는것도 맛있고\\n매운탕도 굿~\n",
       "86645       바다보고                                     아구탕 시원하고 맛있었어요\n",
       "\n",
       "[86646 rows x 2 columns]"
      ]
     },
     "execution_count": 95,
     "metadata": {},
     "output_type": "execute_result"
    }
   ],
   "source": [
    "df"
   ]
  },
  {
   "cell_type": "code",
   "execution_count": 96,
   "id": "152448f6",
   "metadata": {},
   "outputs": [
    {
     "data": {
      "text/plain": [
       "['다녀', '가장', '좋', '같', '곁들일', '있', '스', '끼', '다시', '같이']"
      ]
     },
     "execution_count": 96,
     "metadata": {},
     "output_type": "execute_result"
    }
   ],
   "source": [
    "review_Lex[:10]"
   ]
  },
  {
   "cell_type": "code",
   "execution_count": 98,
   "id": "9812e9ef",
   "metadata": {},
   "outputs": [],
   "source": [
    "#각 리뷰별 필터링된 토큰들\n",
    "for idx in range(len(df)):\n",
    "    df.at[idx,'Tokenized_review'] = np.array(filtered_pos_tag_corpus_list[idx]).astype(object)"
   ]
  },
  {
   "cell_type": "code",
   "execution_count": 99,
   "id": "78237b04",
   "metadata": {},
   "outputs": [
    {
     "data": {
      "text/html": [
       "<div>\n",
       "<style scoped>\n",
       "    .dataframe tbody tr th:only-of-type {\n",
       "        vertical-align: middle;\n",
       "    }\n",
       "\n",
       "    .dataframe tbody tr th {\n",
       "        vertical-align: top;\n",
       "    }\n",
       "\n",
       "    .dataframe thead th {\n",
       "        text-align: right;\n",
       "    }\n",
       "</style>\n",
       "<table border=\"1\" class=\"dataframe\">\n",
       "  <thead>\n",
       "    <tr style=\"text-align: right;\">\n",
       "      <th></th>\n",
       "      <th>Store_name</th>\n",
       "      <th>Review</th>\n",
       "      <th>Tokenized_review</th>\n",
       "    </tr>\n",
       "  </thead>\n",
       "  <tbody>\n",
       "    <tr>\n",
       "      <th>0</th>\n",
       "      <td>강세호참치</td>\n",
       "      <td>지금까지 다녀봤던 참치집 중 부위가 가장 좋았던거 같아요! 어묵탕 샐러드 생선조림 ...</td>\n",
       "      <td>[다녀, 가장, 좋, 같, 곁들일, 있, 스, 끼, 다시, 같이, 나와서, 좋]</td>\n",
       "    </tr>\n",
       "    <tr>\n",
       "      <th>1</th>\n",
       "      <td>강세호참치</td>\n",
       "      <td>처음 들어갈땐 사장님이 계신거같더니 먹는 중에는 퇴근하셨나? 벨을 눌러도 안오네요ㅋ...</td>\n",
       "      <td>[처음, 들어갈, 계신, 같, 먹, 눌러, 안, 오, ㅋㅋ, 보, 이, 노래]</td>\n",
       "    </tr>\n",
       "    <tr>\n",
       "      <th>2</th>\n",
       "      <td>강세호참치</td>\n",
       "      <td>가족들 다 참치회를 좋아해서 생일겸 맛있는 참치회 먹으려고 집근처로 찾아보던중에 알...</td>\n",
       "      <td>[다, 좋아해서, 맛있, 회, 먹, 찾아보, 알, 된, 이, 이]</td>\n",
       "    </tr>\n",
       "    <tr>\n",
       "      <th>3</th>\n",
       "      <td>강세호참치</td>\n",
       "      <td>일등참치 맛집참치 가성비참치 최고참치 증독참치 구청뒤쪽에서 신설동으로 계속 딸라다닐...</td>\n",
       "      <td>[계속, 다닐, 에요, 첨, 뵙, 우린, 많이, 준]</td>\n",
       "    </tr>\n",
       "    <tr>\n",
       "      <th>4</th>\n",
       "      <td>강세호참치</td>\n",
       "      <td>음식이 깔끔하고 맛있네요</td>\n",
       "      <td>[깔끔, 맛있]</td>\n",
       "    </tr>\n",
       "  </tbody>\n",
       "</table>\n",
       "</div>"
      ],
      "text/plain": [
       "  Store_name                                             Review  \\\n",
       "0      강세호참치  지금까지 다녀봤던 참치집 중 부위가 가장 좋았던거 같아요! 어묵탕 샐러드 생선조림 ...   \n",
       "1      강세호참치  처음 들어갈땐 사장님이 계신거같더니 먹는 중에는 퇴근하셨나? 벨을 눌러도 안오네요ㅋ...   \n",
       "2      강세호참치  가족들 다 참치회를 좋아해서 생일겸 맛있는 참치회 먹으려고 집근처로 찾아보던중에 알...   \n",
       "3      강세호참치  일등참치 맛집참치 가성비참치 최고참치 증독참치 구청뒤쪽에서 신설동으로 계속 딸라다닐...   \n",
       "4      강세호참치                                      음식이 깔끔하고 맛있네요   \n",
       "\n",
       "                               Tokenized_review  \n",
       "0  [다녀, 가장, 좋, 같, 곁들일, 있, 스, 끼, 다시, 같이, 나와서, 좋]  \n",
       "1   [처음, 들어갈, 계신, 같, 먹, 눌러, 안, 오, ㅋㅋ, 보, 이, 노래]  \n",
       "2          [다, 좋아해서, 맛있, 회, 먹, 찾아보, 알, 된, 이, 이]  \n",
       "3                 [계속, 다닐, 에요, 첨, 뵙, 우린, 많이, 준]  \n",
       "4                                      [깔끔, 맛있]  "
      ]
     },
     "execution_count": 99,
     "metadata": {},
     "output_type": "execute_result"
    }
   ],
   "source": [
    "df.head()"
   ]
  },
  {
   "cell_type": "code",
   "execution_count": 100,
   "id": "127f8169",
   "metadata": {},
   "outputs": [
    {
     "data": {
      "text/plain": [
       "['다녀', '가장', '좋', '같', '곁들일', '있', '스', '끼', '다시', '같이']"
      ]
     },
     "execution_count": 100,
     "metadata": {},
     "output_type": "execute_result"
    }
   ],
   "source": [
    "#전체 사전\n",
    "review_Lex[:10]"
   ]
  },
  {
   "cell_type": "code",
   "execution_count": 101,
   "id": "5b8d4691",
   "metadata": {},
   "outputs": [
    {
     "data": {
      "text/plain": [
       "7044"
      ]
     },
     "execution_count": 101,
     "metadata": {},
     "output_type": "execute_result"
    }
   ],
   "source": [
    "#전체 사전 중복 제거\n",
    "review_Lex = list(set(review_Lex))\n",
    "len(review_Lex)"
   ]
  },
  {
   "cell_type": "code",
   "execution_count": 93,
   "id": "f8e48c57",
   "metadata": {},
   "outputs": [],
   "source": [
    "with open('review_Lex.pickle', 'wb') as f:\n",
    "    pickle.dump(review_Lex, f)\n",
    "with open('df.pickle', 'wb') as f:\n",
    "    pickle.dump(df, f)\n",
    "with open('filtered_pos_tag_corpus_list','wb') as f:\n",
    "    pickle.dump(filtered_pos_tag_corpus_list,f)"
   ]
  },
  {
   "cell_type": "code",
   "execution_count": 15,
   "id": "47834ff8",
   "metadata": {},
   "outputs": [],
   "source": [
    "with open('review_Lex.pickle', 'rb') as f:\n",
    "    review_Lex = pickle.load(f)\n",
    "with open('df.pickle', 'rb') as f:\n",
    "    df = pickle.load(f)\n",
    "with open('filtered_pos_tag_corpus_list','rb') as f:\n",
    "    filtered_pos_tag_corpus_list = pickle.load(f)"
   ]
  },
  {
   "cell_type": "code",
   "execution_count": 102,
   "id": "50d783c2",
   "metadata": {},
   "outputs": [
    {
     "data": {
      "text/plain": [
       "['아닌가', '이런가', '준다며', '대체', '탕탕']"
      ]
     },
     "execution_count": 102,
     "metadata": {},
     "output_type": "execute_result"
    }
   ],
   "source": [
    "review_Lex[:5]"
   ]
  },
  {
   "cell_type": "markdown",
   "id": "e3aae95b",
   "metadata": {},
   "source": [
    "# 감성사전 생성\n",
    "## 기존 KNU단어 사전 이용\n",
    "## KNU 긍정/ 부정 사전에 없으면 직접 추가"
   ]
  },
  {
   "cell_type": "raw",
   "id": "a2f3b9aa",
   "metadata": {},
   "source": [
    "1. 감성어 사전\n",
    "2. 리스트에 튜플원소 (형태소, 긍/부정 태그)\n",
    "3. 딕셔너리 형태로 점수 배분 -> 선택"
   ]
  },
  {
   "cell_type": "code",
   "execution_count": 104,
   "id": "e75105c4",
   "metadata": {},
   "outputs": [
    {
     "name": "stdout",
     "output_type": "stream",
     "text": [
      "0번째 형태소\n",
      "아닌가\n",
      "레이블 입력하세요: -1\n",
      "1번째 형태소\n",
      "이런가\n",
      "레이블 입력하세요: 1\n",
      "2번째 형태소\n",
      "준다며\n",
      "레이블 입력하세요: 1\n",
      "3번째 형태소\n",
      "대체\n",
      "레이블 입력하세요: 1\n",
      "4번째 형태소\n",
      "탕탕\n",
      "레이블 입력하세요: 1\n",
      "5번째 형태소\n",
      "묻혀져\n",
      "레이블 입력하세요: 1\n",
      "6번째 형태소\n",
      "댁\n",
      "레이블 입력하세요: 1\n",
      "7번째 형태소\n",
      "떠오\n",
      "레이블 입력하세요: 1\n",
      "8번째 형태소\n",
      "왁\n",
      "레이블 입력하세요: 1\n",
      "9번째 형태소\n",
      "무지막지\n",
      "레이블 입력하세요: 1\n",
      "10번째 형태소\n",
      "씌운\n",
      "레이블 입력하세요: 1\n",
      "11번째 형태소\n",
      "부러워\n",
      "레이블 입력하세요: 1\n",
      "12번째 형태소\n",
      "챙겨서\n",
      "레이블 입력하세요: 1\n",
      "13번째 형태소\n",
      "기러\n"
     ]
    },
    {
     "ename": "KeyboardInterrupt",
     "evalue": "Interrupted by user",
     "output_type": "error",
     "traceback": [
      "\u001b[1;31m---------------------------------------------------------------------------\u001b[0m",
      "\u001b[1;31mKeyboardInterrupt\u001b[0m                         Traceback (most recent call last)",
      "Input \u001b[1;32mIn [104]\u001b[0m, in \u001b[0;36m<cell line: 3>\u001b[1;34m()\u001b[0m\n\u001b[0;32m      5\u001b[0m target_morphs \u001b[38;5;241m=\u001b[39m review_Lex[i]\n\u001b[0;32m      6\u001b[0m \u001b[38;5;28mprint\u001b[39m(target_morphs)\n\u001b[1;32m----> 7\u001b[0m label \u001b[38;5;241m=\u001b[39m \u001b[38;5;28;43minput\u001b[39;49m\u001b[43m(\u001b[49m\u001b[38;5;124;43m\"\u001b[39;49m\u001b[38;5;124;43m레이블 입력하세요: \u001b[39;49m\u001b[38;5;124;43m\"\u001b[39;49m\u001b[43m)\u001b[49m\n\u001b[0;32m      8\u001b[0m label \u001b[38;5;241m=\u001b[39m \u001b[38;5;28mint\u001b[39m(label)\n\u001b[0;32m      9\u001b[0m SentiWord[target_morphs] \u001b[38;5;241m=\u001b[39m label\n",
      "File \u001b[1;32mC:\\ProgramData\\Anaconda3\\lib\\site-packages\\ipykernel\\kernelbase.py:1075\u001b[0m, in \u001b[0;36mKernel.raw_input\u001b[1;34m(self, prompt)\u001b[0m\n\u001b[0;32m   1071\u001b[0m \u001b[38;5;28;01mif\u001b[39;00m \u001b[38;5;129;01mnot\u001b[39;00m \u001b[38;5;28mself\u001b[39m\u001b[38;5;241m.\u001b[39m_allow_stdin:\n\u001b[0;32m   1072\u001b[0m     \u001b[38;5;28;01mraise\u001b[39;00m StdinNotImplementedError(\n\u001b[0;32m   1073\u001b[0m         \u001b[38;5;124m\"\u001b[39m\u001b[38;5;124mraw_input was called, but this frontend does not support input requests.\u001b[39m\u001b[38;5;124m\"\u001b[39m\n\u001b[0;32m   1074\u001b[0m     )\n\u001b[1;32m-> 1075\u001b[0m \u001b[38;5;28;01mreturn\u001b[39;00m \u001b[38;5;28;43mself\u001b[39;49m\u001b[38;5;241;43m.\u001b[39;49m\u001b[43m_input_request\u001b[49m\u001b[43m(\u001b[49m\n\u001b[0;32m   1076\u001b[0m \u001b[43m    \u001b[49m\u001b[38;5;28;43mstr\u001b[39;49m\u001b[43m(\u001b[49m\u001b[43mprompt\u001b[49m\u001b[43m)\u001b[49m\u001b[43m,\u001b[49m\n\u001b[0;32m   1077\u001b[0m \u001b[43m    \u001b[49m\u001b[38;5;28;43mself\u001b[39;49m\u001b[38;5;241;43m.\u001b[39;49m\u001b[43m_parent_ident\u001b[49m\u001b[43m[\u001b[49m\u001b[38;5;124;43m\"\u001b[39;49m\u001b[38;5;124;43mshell\u001b[39;49m\u001b[38;5;124;43m\"\u001b[39;49m\u001b[43m]\u001b[49m\u001b[43m,\u001b[49m\n\u001b[0;32m   1078\u001b[0m \u001b[43m    \u001b[49m\u001b[38;5;28;43mself\u001b[39;49m\u001b[38;5;241;43m.\u001b[39;49m\u001b[43mget_parent\u001b[49m\u001b[43m(\u001b[49m\u001b[38;5;124;43m\"\u001b[39;49m\u001b[38;5;124;43mshell\u001b[39;49m\u001b[38;5;124;43m\"\u001b[39;49m\u001b[43m)\u001b[49m\u001b[43m,\u001b[49m\n\u001b[0;32m   1079\u001b[0m \u001b[43m    \u001b[49m\u001b[43mpassword\u001b[49m\u001b[38;5;241;43m=\u001b[39;49m\u001b[38;5;28;43;01mFalse\u001b[39;49;00m\u001b[43m,\u001b[49m\n\u001b[0;32m   1080\u001b[0m \u001b[43m\u001b[49m\u001b[43m)\u001b[49m\n",
      "File \u001b[1;32mC:\\ProgramData\\Anaconda3\\lib\\site-packages\\ipykernel\\kernelbase.py:1120\u001b[0m, in \u001b[0;36mKernel._input_request\u001b[1;34m(self, prompt, ident, parent, password)\u001b[0m\n\u001b[0;32m   1117\u001b[0m             \u001b[38;5;28;01mbreak\u001b[39;00m\n\u001b[0;32m   1118\u001b[0m \u001b[38;5;28;01mexcept\u001b[39;00m \u001b[38;5;167;01mKeyboardInterrupt\u001b[39;00m:\n\u001b[0;32m   1119\u001b[0m     \u001b[38;5;66;03m# re-raise KeyboardInterrupt, to truncate traceback\u001b[39;00m\n\u001b[1;32m-> 1120\u001b[0m     \u001b[38;5;28;01mraise\u001b[39;00m \u001b[38;5;167;01mKeyboardInterrupt\u001b[39;00m(\u001b[38;5;124m\"\u001b[39m\u001b[38;5;124mInterrupted by user\u001b[39m\u001b[38;5;124m\"\u001b[39m) \u001b[38;5;28;01mfrom\u001b[39;00m \u001b[38;5;28mNone\u001b[39m\n\u001b[0;32m   1121\u001b[0m \u001b[38;5;28;01mexcept\u001b[39;00m \u001b[38;5;167;01mException\u001b[39;00m:\n\u001b[0;32m   1122\u001b[0m     \u001b[38;5;28mself\u001b[39m\u001b[38;5;241m.\u001b[39mlog\u001b[38;5;241m.\u001b[39mwarning(\u001b[38;5;124m\"\u001b[39m\u001b[38;5;124mInvalid Message:\u001b[39m\u001b[38;5;124m\"\u001b[39m, exc_info\u001b[38;5;241m=\u001b[39m\u001b[38;5;28;01mTrue\u001b[39;00m)\n",
      "\u001b[1;31mKeyboardInterrupt\u001b[0m: Interrupted by user"
     ]
    }
   ],
   "source": [
    "#각 단어에 긍정 / 부정 점수 부여\n",
    "SentiWord = dict()\n",
    "for i in range(100):\n",
    "    print(f'{i}번째 형태소')\n",
    "    target_morphs = review_Lex[i]\n",
    "    print(target_morphs)\n",
    "    label = input(\"레이블 입력하세요: \")\n",
    "    label = int(label)\n",
    "    SentiWord[target_morphs] = label\n",
    "    "
   ]
  },
  {
   "cell_type": "code",
   "execution_count": 10,
   "id": "e6b5f475",
   "metadata": {
    "scrolled": false
   },
   "outputs": [
    {
     "name": "stdout",
     "output_type": "stream",
     "text": [
      "2993번째 인덱스\n",
      "나오는 기타 요리들도 너무 맛있고 무엇보다 대게가 좋습니다 찌시는 방법도 직접 솥에 쪄주셔서 정성이 들어가 더 맛있는 것 같아요 너무 친절하셔서 \n",
      "레이블 입력하세요: 1\n",
      "2994번째 인덱스\n",
      "너무 맛있게 잘 먹었습니다 사장님도 친절하시고 무엇보다 킹크랩이 엄청 살도 꽉차고 진짜 진짜 맛있습니다 무조건 재방문각입니다\n",
      "레이블 입력하세요: 1\n",
      "2995번째 인덱스\n",
      "동교동 창천동 모두 먹었던 곳에서 제일 만족한 곳이에요 서비스는 물론이고 기본 채소 퀄리티부터가 정말 진짜 추천 많이합니다 기분좋아지는 것\n",
      "레이블 입력하세요: 1\n",
      "2996번째 인덱스\n",
      "제가 사진찍는 기술이 후져서 실제 나온 것보다 못찍어서 아쉽네요 잘먹었습니다\n",
      "레이블 입력하세요: 1\n",
      "2997번째 인덱스\n",
      "대게맛의 진수 서비스도 많고 정말 맛있습니다\n",
      "레이블 입력하세요: 1\n",
      "2998번째 인덱스\n",
      "먹기 좋게 손쉽게 손질되어 나오고 속살도 꽉 차서 진짜 맛있게 잘 먹었습니다신선해서 그런지 비린내도 전혀 안났어요\n",
      "레이블 입력하세요: 1\n",
      "2999번째 인덱스\n",
      "참 맛있게 먹고 갑니다\n",
      "레이블 입력하세요: 1\n"
     ]
    }
   ],
   "source": [
    "#현재 인덱스 2500까지 했다.\n",
    "for i in range(df['Label'].count(), 2500):\n",
    "    print(f'{i}번째 인덱스')\n",
    "    print(df.loc[i,'Review'])\n",
    "    label = input(\"레이블 입력하세요: \")\n",
    "    label = int(label)\n",
    "    df.loc[i,'Label'] = label"
   ]
  },
  {
   "cell_type": "code",
   "execution_count": 10,
   "id": "43214c14",
   "metadata": {},
   "outputs": [],
   "source": [
    "# df_tmp 저장\n",
    "import pickle\n",
    "with open('df_tmp.pickle', 'rb') as f:\n",
    "    df = pickle.load(f)"
   ]
  },
  {
   "cell_type": "code",
   "execution_count": 11,
   "id": "c204b7fb",
   "metadata": {},
   "outputs": [
    {
     "data": {
      "text/html": [
       "<div>\n",
       "<style scoped>\n",
       "    .dataframe tbody tr th:only-of-type {\n",
       "        vertical-align: middle;\n",
       "    }\n",
       "\n",
       "    .dataframe tbody tr th {\n",
       "        vertical-align: top;\n",
       "    }\n",
       "\n",
       "    .dataframe thead th {\n",
       "        text-align: right;\n",
       "    }\n",
       "</style>\n",
       "<table border=\"1\" class=\"dataframe\">\n",
       "  <thead>\n",
       "    <tr style=\"text-align: right;\">\n",
       "      <th></th>\n",
       "      <th>Review</th>\n",
       "      <th>Label</th>\n",
       "    </tr>\n",
       "  </thead>\n",
       "  <tbody>\n",
       "    <tr>\n",
       "      <th>0</th>\n",
       "      <td>지금까지 다녀봤던 참치집 중 부위가 가장 좋았던거 같아요 어묵탕 샐러드 생선조림 순...</td>\n",
       "      <td>1.0</td>\n",
       "    </tr>\n",
       "    <tr>\n",
       "      <th>1</th>\n",
       "      <td>처음 들어갈땐 사장님이 계신거같더니 먹는 중에는 퇴근하셨나 벨을 눌러도 안오네요 보...</td>\n",
       "      <td>0.0</td>\n",
       "    </tr>\n",
       "    <tr>\n",
       "      <th>2</th>\n",
       "      <td>가족들 다 참치회를 좋아해서 생일겸 맛있는 참치회 먹으려고 집근처로 찾아보던중에 알...</td>\n",
       "      <td>1.0</td>\n",
       "    </tr>\n",
       "    <tr>\n",
       "      <th>3</th>\n",
       "      <td>일등참치 맛집참치 가성비참치 최고참치 증독참치 구청뒤쪽에서 신설동으로 계속 딸라다닐...</td>\n",
       "      <td>1.0</td>\n",
       "    </tr>\n",
       "    <tr>\n",
       "      <th>4</th>\n",
       "      <td>음식이 깔끔하고 맛있네요</td>\n",
       "      <td>1.0</td>\n",
       "    </tr>\n",
       "    <tr>\n",
       "      <th>...</th>\n",
       "      <td>...</td>\n",
       "      <td>...</td>\n",
       "    </tr>\n",
       "    <tr>\n",
       "      <th>83564</th>\n",
       "      <td>방어 넘 양도 많고 짱이네요포장도 갠찬아요</td>\n",
       "      <td>NaN</td>\n",
       "    </tr>\n",
       "    <tr>\n",
       "      <th>83565</th>\n",
       "      <td>횟감이 신선하고 쫀득한</td>\n",
       "      <td>NaN</td>\n",
       "    </tr>\n",
       "    <tr>\n",
       "      <th>83566</th>\n",
       "      <td>사장님 친절하시고 음식도맛있고 좋아요서비스도 엄청 좋아요</td>\n",
       "      <td>NaN</td>\n",
       "    </tr>\n",
       "    <tr>\n",
       "      <th>83567</th>\n",
       "      <td>깨끗하고 친절해요 맘에듭니다</td>\n",
       "      <td>NaN</td>\n",
       "    </tr>\n",
       "    <tr>\n",
       "      <th>83568</th>\n",
       "      <td>주인님 넘넘친절하고 확실하게하시내요 그리고 회는기계로설지안고 손은로직접설어맛이확실히...</td>\n",
       "      <td>NaN</td>\n",
       "    </tr>\n",
       "  </tbody>\n",
       "</table>\n",
       "<p>83569 rows × 2 columns</p>\n",
       "</div>"
      ],
      "text/plain": [
       "                                                  Review  Label\n",
       "0      지금까지 다녀봤던 참치집 중 부위가 가장 좋았던거 같아요 어묵탕 샐러드 생선조림 순...    1.0\n",
       "1      처음 들어갈땐 사장님이 계신거같더니 먹는 중에는 퇴근하셨나 벨을 눌러도 안오네요 보...    0.0\n",
       "2      가족들 다 참치회를 좋아해서 생일겸 맛있는 참치회 먹으려고 집근처로 찾아보던중에 알...    1.0\n",
       "3      일등참치 맛집참치 가성비참치 최고참치 증독참치 구청뒤쪽에서 신설동으로 계속 딸라다닐...    1.0\n",
       "4                                          음식이 깔끔하고 맛있네요    1.0\n",
       "...                                                  ...    ...\n",
       "83564                            방어 넘 양도 많고 짱이네요포장도 갠찬아요    NaN\n",
       "83565                                       횟감이 신선하고 쫀득한    NaN\n",
       "83566                    사장님 친절하시고 음식도맛있고 좋아요서비스도 엄청 좋아요    NaN\n",
       "83567                                    깨끗하고 친절해요 맘에듭니다    NaN\n",
       "83568  주인님 넘넘친절하고 확실하게하시내요 그리고 회는기계로설지안고 손은로직접설어맛이확실히...    NaN\n",
       "\n",
       "[83569 rows x 2 columns]"
      ]
     },
     "execution_count": 11,
     "metadata": {},
     "output_type": "execute_result"
    }
   ],
   "source": [
    "df"
   ]
  },
  {
   "cell_type": "code",
   "execution_count": 16,
   "id": "a79f1225",
   "metadata": {},
   "outputs": [
    {
     "data": {
      "text/plain": [
       "2500"
      ]
     },
     "execution_count": 16,
     "metadata": {},
     "output_type": "execute_result"
    }
   ],
   "source": [
    "import pandas as pd\n",
    "import numpy as np\n",
    "df.value_counts(['Label']).sum()"
   ]
  },
  {
   "cell_type": "code",
   "execution_count": 32,
   "id": "64fbe324",
   "metadata": {},
   "outputs": [],
   "source": [
    "# 5000개의 데이터 랜덤 추출\n",
    "tmp = df.sample(n=5000, replace = False, random_state=24)"
   ]
  },
  {
   "cell_type": "code",
   "execution_count": 33,
   "id": "404a9ca2",
   "metadata": {},
   "outputs": [
    {
     "data": {
      "text/plain": [
       "Review    5000\n",
       "Label      150\n",
       "dtype: int64"
      ]
     },
     "execution_count": 33,
     "metadata": {},
     "output_type": "execute_result"
    }
   ],
   "source": [
    "tmp.count()"
   ]
  },
  {
   "cell_type": "code",
   "execution_count": 38,
   "id": "1e5236c5",
   "metadata": {},
   "outputs": [],
   "source": [
    "# 기존의 순차적 레이블링 진행했던 2500개의 레코드 df\n",
    "# 새롭게 비복원 추출로 랜덤하게 뽑은 5000개 tmp를 합친다.\n",
    "df = pd.concat([df.iloc[:2500,:], tmp], ignore_index=True)"
   ]
  },
  {
   "cell_type": "code",
   "execution_count": 39,
   "id": "9f650763",
   "metadata": {},
   "outputs": [
    {
     "data": {
      "text/plain": [
       "Review    7500\n",
       "Label     2650\n",
       "dtype: int64"
      ]
     },
     "execution_count": 39,
     "metadata": {},
     "output_type": "execute_result"
    }
   ],
   "source": [
    "df.count()"
   ]
  },
  {
   "cell_type": "code",
   "execution_count": 41,
   "id": "01427cec",
   "metadata": {
    "scrolled": true
   },
   "outputs": [
    {
     "data": {
      "text/plain": [
       "Review    7350\n",
       "Label     2500\n",
       "dtype: int64"
      ]
     },
     "execution_count": 41,
     "metadata": {},
     "output_type": "execute_result"
    }
   ],
   "source": [
    "# 중복제거\n",
    "df.drop_duplicates(['Review'],ignore_index=True, inplace=True)\n",
    "df.count()"
   ]
  },
  {
   "cell_type": "code",
   "execution_count": 79,
   "id": "8e494c96",
   "metadata": {
    "scrolled": true
   },
   "outputs": [
    {
     "name": "stdout",
     "output_type": "stream",
     "text": [
      "2940번째 인덱스\n",
      "반찬들 하나하나 다 잘나왔어요 청어구이보다는 꽁 치가 더 좋을것 같긴 한데 방어 먹으러 왔는데 메뉴에 없는 방어참가자미 반반으로 해주셔\n",
      "레이블 입력하세요: 1\n",
      "2941번째 인덱스\n",
      "방어우럭 포장했는데 광어우럭이 있네요 바쁠때 아니었는데 포장하기전에 확인해주시면 좋겠어요\n",
      "레이블 입력하세요: 1\n",
      "2942번째 인덱스\n",
      "회가 너무 신선하고 맛있었어요\n",
      "레이블 입력하세요: 1\n",
      "2943번째 인덱스\n",
      "혼밥 해서 죄송하지만 청결하고 친절하고음식도 신선하고 너무 좋아요 또갈게요\n",
      "레이블 입력하세요: 1\n",
      "2944번째 인덱스\n",
      "위생 상태도 너무 좋고 맛있게 잘 먹었어요 그날 하 루 배가 터질 지경이었어요 상다리가 부러지게 나와서 회 상태도 너무 신선하고 좋더라\n",
      "레이블 입력하세요: 1\n",
      "2945번째 인덱스\n",
      "항상친절하고 좋아요 노량진 갈때마다 무조건 청해진\n",
      "레이블 입력하세요: 1\n",
      "2946번째 인덱스\n",
      "모듬회하고 물회 너무 맛있게 먹었어요초밥도 팔던데 다음에 재방문해서 먹어보려구요\n",
      "레이블 입력하세요: 1\n",
      "2947번째 인덱스\n",
      "너무 맛있게 먹고 갓네요 서비스나 회 신선도나친절함이나 최고에요\n",
      "레이블 입력하세요: 1\n",
      "2948번째 인덱스\n",
      "룸으로 배정 받아서 더 좋은시간 보냈네요\n",
      "레이블 입력하세요: 1\n",
      "2949번째 인덱스\n",
      "맛있어요 점심특선 라멘은 좀 그랬어요\n",
      "레이블 입력하세요: 1\n",
      "2950번째 인덱스\n",
      "차 차로 오는 사람들이 많다보니 많이 시끄럽고 정신이 없어요 \n",
      "레이블 입력하세요: 0\n",
      "2951번째 인덱스\n",
      "자주가는 참치집입니다 맛 친절 양 질 다 좋아용\n",
      "레이블 입력하세요: 1\n",
      "2952번째 인덱스\n",
      "최고였네요 싱싱하고 가성비 좋았습니다 기분 좋게 먹고 나왔어요 친구들에게도 추천하고 싶은 집입니다\n",
      "레이블 입력하세요: 1\n",
      "2953번째 인덱스\n",
      "광어포차 좋아요친절하고 맛있어요\n",
      "레이블 입력하세요: 1\n",
      "2954번째 인덱스\n",
      "회랑 새우튀김도 매운탕도 맛있었어요\n",
      "레이블 입력하세요: 1\n",
      "2955번째 인덱스\n",
      "맛있고 가격도 좋아요\n",
      "레이블 입력하세요: 1\n",
      "2956번째 인덱스\n",
      "여러가지 종류의 회와 해산물이 들어있어서 여러맛 을 느낄수 있었어요 싱싱하고 새콤매콤 맛있고 기본 안주반찬도 맛있어서 술안주로 최고였어\n",
      "레이블 입력하세요: 1\n",
      "2957번째 인덱스\n",
      "특히 전복죽이 맛있어요\n",
      "레이블 입력하세요: 1\n",
      "2958번째 인덱스\n",
      "밴댕회무침에 반했어요\n",
      "레이블 입력하세요: 1\n",
      "2959번째 인덱스\n",
      "회도 싱싱하고 물회도 넘 맛있어요 재방문 의사 퍼\n",
      "레이블 입력하세요: 1\n",
      "2960번째 인덱스\n",
      "해물탕 맛있어요해물이 무지 푸짐해요감동했어요\n",
      "레이블 입력하세요: 1\n",
      "2961번째 인덱스\n",
      "리뷰 보고 왔는데 너무 좋아서 리뷰를 쓰게 되네요 일단 해운대 쪽 조개구이집 자주 다녔는데 주변에서 제일 친절하고 신선한 것 같아요 그리고 양도 \n",
      "레이블 입력하세요: 1\n",
      "2962번째 인덱스\n",
      "고등어 구이가 최고 예요 알탕은 소소\n",
      "레이블 입력하세요: 1\n",
      "2963번째 인덱스\n",
      "내부가 넓고 깔끔해요 양 많고 맛도 좋아요 칼국수 진짜 맛나요 물회에 소면나와요\n",
      "레이블 입력하세요: 1\n",
      "2964번째 인덱스\n",
      "싸고맛있고 써비스좋음\n",
      "레이블 입력하세요: 1\n",
      "2965번째 인덱스\n",
      "사장님이 너무 친절하시고 밥도 정말 맛있어요 부모님모시고 가기도 좋을것 같아요\n",
      "레이블 입력하세요: 1\n",
      "2966번째 인덱스\n",
      "맛있게 잘 먹었습니다 겨울에 먹는 회가 역시 맛있습니다 사장님이 친절하고 서비스 듬뿍주셔서 기분좋게 먹고 왔네요 \n",
      "레이블 입력하세요: 1\n",
      "2967번째 인덱스\n",
      "다시 호남식당에서 포장해요 소라 고동 오징어 푸짐합니다\n",
      "레이블 입력하세요: 1\n",
      "2968번째 인덱스\n",
      "킹크랩대게 세트 완전 좋아요추천만족합니다\n",
      "레이블 입력하세요: 1\n",
      "2969번째 인덱스\n",
      "좋아하던 곳이라 자주 방문했었는데 이번엔 많이 실 망스럽습니다 원 인분을 주문했는데 회 양 은 너무 적고 해산물 사이즈도 작고 소스류는 \n",
      "레이블 입력하세요: 0\n",
      "2970번째 인덱스\n",
      "한과장님이 특별히 친절하세요\n",
      "레이블 입력하세요: 1\n",
      "2971번째 인덱스\n",
      "올해 처음 홍게맛본날살이 꽉 차서 먹을만했어요\n",
      "레이블 입력하세요: 1\n",
      "2972번째 인덱스\n",
      "오징어회와 오징어무침 궁합좋게 잘먹었습니다\n",
      "레이블 입력하세요: 1\n",
      "2973번째 인덱스\n",
      "개별로 나와있는데로 주지도 않고 위아래 뭐 따로 있는것같은데 서로 의사소통도 안되는거 같구요 뭐 는 없다 없다 새우튀김기다리는데 다먹\n",
      "레이블 입력하세요: 0\n",
      "2974번째 인덱스\n",
      "회도 두툼하고 맛있는데 미역국이 짱 맛있어요\n",
      "레이블 입력하세요: 1\n",
      "2975번째 인덱스\n",
      "처음 아무 생각없이 왔다가 친구랑 말도 안하고 먹기만 했어요 짱맛있어요 직원분도 엄청 친절하세용\n",
      "레이블 입력하세요: 1\n",
      "2976번째 인덱스\n",
      "가격대비 음식양이 많고 맛나요\n",
      "레이블 입력하세요: 1\n",
      "2977번째 인덱스\n",
      "이렇게 만족스러운 장어구이는 처음이에요 많이 좋아하는 메뉴가 아닌데도 배가 터질때까지 먹었어요 존맛\n",
      "레이블 입력하세요: 1\n",
      "2978번째 인덱스\n",
      "음식이 신선한 느낌이라모임하기 좋아요\n",
      "레이블 입력하세요: 1\n",
      "2979번째 인덱스\n",
      "친절하시구 조개구이도 양도 많고 마싯었어요 월미도 오셔서 조개구이나 횟집 고민하시지 마식고 여기 가셔도 좋을 거 같아요\n",
      "레이블 입력하세요: 1\n",
      "2980번째 인덱스\n",
      "싱싱한 제철 생선들이 많아요\n",
      "레이블 입력하세요: 1\n",
      "2981번째 인덱스\n",
      "수산물 시장에서 회 사서 올라가면 셋팅해줘요 수산물 시장가면 항상 여기가요\n",
      "레이블 입력하세요: 1\n",
      "2982번째 인덱스\n",
      "와 진짜 바닷가 근처에서 비싼 가격주고 먹을 때마다 그 가격대비 너무 적고 퀄리티도 낮았는데 이런 맛 집 처음이예요 일단 스키가 엄청 많고 리필도 \n",
      "레이블 입력하세요: 0\n",
      "2983번째 인덱스\n",
      "랍스터칼국수해물파전 맛있게 먹었네요\n",
      "레이블 입력하세요: 1\n",
      "2984번째 인덱스\n",
      "대박 완전 맛있었어요 푸짐하게 나온 스끼다시부 터 신선하고 쫄깃쫄깃한 회 사장님과 직원분들은 친절하게 대해주시공 정말 배불리 잘 먹었습\n",
      "레이블 입력하세요: 1\n",
      "2985번째 인덱스\n",
      "가성비 좋은 횟집이었습니다 \n",
      "레이블 입력하세요: 1\n",
      "2986번째 인덱스\n",
      "원 코스 인 먹고 왔어요 다양한 해삼물과 회를 함께 즐길 수 있는 곳입니다 너무 친절하시고 잘 먹고 왔습니다 \n",
      "레이블 입력하세요: 1\n",
      "2987번째 인덱스\n",
      "추운날씨에 따뜻히가한난로가참잘어울리네요\n",
      "레이블 입력하세요: 1\n",
      "2988번째 인덱스\n",
      "깔끔하고 친절하고 맛도 괜찮았어요\n",
      "레이블 입력하세요: 1\n",
      "2989번째 인덱스\n",
      "스끼다시가 진짜 푸짐하고 무한으로 리필해 주시네요 그리고 메인메뉴 회가 도톰하니 맛있어요 기본으로 제공해주는 김초밥 맛나요 그리고 와사\n",
      "레이블 입력하세요: 1\n",
      "2990번째 인덱스\n",
      "해물탕이 얼큰하고 맛있네요\n",
      "레이블 입력하세요: 1\n",
      "2991번째 인덱스\n",
      "차장분 말고는 스시만드시는분 마스크도 안쓰고 핸드폰만지고 좀 찝찝했어요 우동은 방금끓여나왔는데 오래 끓인것 처럼 면이 불어서 나왔네요 \n",
      "레이블 입력하세요: 0\n",
      "2992번째 인덱스\n",
      "사장님도 너무착하시고 조개 양이 많아서 푸짐하게먹어요\n",
      "레이블 입력하세요: 1\n",
      "2993번째 인덱스\n",
      "가성비 최고의 맛있는 횟집이네요 생선회도 도톰하니 좋고 다양한 해산물에 시원한 지리탕까지 거기에 친철한 직원분들 애들 신나게 노는 놀이방도 \n",
      "레이블 입력하세요: 1\n",
      "2994번째 인덱스\n",
      "치자면사리 신박해요면사리추가 못참지 못참지증말증말 맛있어요\n",
      "레이블 입력하세요: 1\n",
      "2995번째 인덱스\n",
      "사시미 종류도 많고 양도 좋아용\n",
      "레이블 입력하세요: 1\n",
      "2996번째 인덱스\n",
      "절대 가지마세요 점도 못줌 성남동 관평동 용문동 에서 자주 애용하면서 체인점이라도 막연한 믿음으 로 간 건데 이게 멍게 만원 어치고 포장 상태 \n",
      "레이블 입력하세요: 0\n",
      "2997번째 인덱스\n",
      "양도 엄청 많고 맛잇어용\n",
      "레이블 입력하세요: 1\n",
      "2998번째 인덱스\n",
      "너무 맛있어요 사장님도 친절하셔서 기분 좋게 먹다갑니다\n",
      "레이블 입력하세요: 1\n",
      "2999번째 인덱스\n",
      "을왕리 횟집 찾으시는분들 고고고 진짜 맛있습니다 가격도 좋고\n",
      "레이블 입력하세요: 1\n"
     ]
    }
   ],
   "source": [
    "for i in range(df['Label'].count(), 3000):\n",
    "    print(f'{i}번째 인덱스')\n",
    "    print(df.loc[i,'Review'])\n",
    "    label = input(\"레이블 입력하세요: \")\n",
    "    label = int(label)\n",
    "    df.loc[i,'Label'] = label"
   ]
  },
  {
   "cell_type": "code",
   "execution_count": 84,
   "id": "42bcbaf5",
   "metadata": {},
   "outputs": [
    {
     "data": {
      "text/plain": [
       "3000"
      ]
     },
     "execution_count": 84,
     "metadata": {},
     "output_type": "execute_result"
    }
   ],
   "source": [
    "df.value_counts(['Label']).sum()"
   ]
  },
  {
   "cell_type": "code",
   "execution_count": 87,
   "id": "31fbce3f",
   "metadata": {},
   "outputs": [
    {
     "data": {
      "text/html": [
       "<div>\n",
       "<style scoped>\n",
       "    .dataframe tbody tr th:only-of-type {\n",
       "        vertical-align: middle;\n",
       "    }\n",
       "\n",
       "    .dataframe tbody tr th {\n",
       "        vertical-align: top;\n",
       "    }\n",
       "\n",
       "    .dataframe thead th {\n",
       "        text-align: right;\n",
       "    }\n",
       "</style>\n",
       "<table border=\"1\" class=\"dataframe\">\n",
       "  <thead>\n",
       "    <tr style=\"text-align: right;\">\n",
       "      <th></th>\n",
       "      <th>Review</th>\n",
       "      <th>Label</th>\n",
       "    </tr>\n",
       "  </thead>\n",
       "  <tbody>\n",
       "    <tr>\n",
       "      <th>0</th>\n",
       "      <td>지금까지 다녀봤던 참치집 중 부위가 가장 좋았던거 같아요 어묵탕 샐러드 생선조림 순...</td>\n",
       "      <td>1.0</td>\n",
       "    </tr>\n",
       "    <tr>\n",
       "      <th>1</th>\n",
       "      <td>처음 들어갈땐 사장님이 계신거같더니 먹는 중에는 퇴근하셨나 벨을 눌러도 안오네요 보...</td>\n",
       "      <td>0.0</td>\n",
       "    </tr>\n",
       "    <tr>\n",
       "      <th>2</th>\n",
       "      <td>가족들 다 참치회를 좋아해서 생일겸 맛있는 참치회 먹으려고 집근처로 찾아보던중에 알...</td>\n",
       "      <td>1.0</td>\n",
       "    </tr>\n",
       "    <tr>\n",
       "      <th>3</th>\n",
       "      <td>일등참치 맛집참치 가성비참치 최고참치 증독참치 구청뒤쪽에서 신설동으로 계속 딸라다닐...</td>\n",
       "      <td>1.0</td>\n",
       "    </tr>\n",
       "    <tr>\n",
       "      <th>4</th>\n",
       "      <td>음식이 깔끔하고 맛있네요</td>\n",
       "      <td>1.0</td>\n",
       "    </tr>\n",
       "    <tr>\n",
       "      <th>...</th>\n",
       "      <td>...</td>\n",
       "      <td>...</td>\n",
       "    </tr>\n",
       "    <tr>\n",
       "      <th>2995</th>\n",
       "      <td>사시미 종류도 많고 양도 좋아용</td>\n",
       "      <td>1.0</td>\n",
       "    </tr>\n",
       "    <tr>\n",
       "      <th>2996</th>\n",
       "      <td>절대 가지마세요 점도 못줌 성남동 관평동 용문동 에서 자주 애용하면서 체인점이라도 ...</td>\n",
       "      <td>0.0</td>\n",
       "    </tr>\n",
       "    <tr>\n",
       "      <th>2997</th>\n",
       "      <td>양도 엄청 많고 맛잇어용</td>\n",
       "      <td>1.0</td>\n",
       "    </tr>\n",
       "    <tr>\n",
       "      <th>2998</th>\n",
       "      <td>너무 맛있어요 사장님도 친절하셔서 기분 좋게 먹다갑니다</td>\n",
       "      <td>1.0</td>\n",
       "    </tr>\n",
       "    <tr>\n",
       "      <th>2999</th>\n",
       "      <td>을왕리 횟집 찾으시는분들 고고고 진짜 맛있습니다 가격도 좋고</td>\n",
       "      <td>1.0</td>\n",
       "    </tr>\n",
       "  </tbody>\n",
       "</table>\n",
       "<p>3000 rows × 2 columns</p>\n",
       "</div>"
      ],
      "text/plain": [
       "                                                 Review  Label\n",
       "0     지금까지 다녀봤던 참치집 중 부위가 가장 좋았던거 같아요 어묵탕 샐러드 생선조림 순...    1.0\n",
       "1     처음 들어갈땐 사장님이 계신거같더니 먹는 중에는 퇴근하셨나 벨을 눌러도 안오네요 보...    0.0\n",
       "2     가족들 다 참치회를 좋아해서 생일겸 맛있는 참치회 먹으려고 집근처로 찾아보던중에 알...    1.0\n",
       "3     일등참치 맛집참치 가성비참치 최고참치 증독참치 구청뒤쪽에서 신설동으로 계속 딸라다닐...    1.0\n",
       "4                                         음식이 깔끔하고 맛있네요    1.0\n",
       "...                                                 ...    ...\n",
       "2995                                  사시미 종류도 많고 양도 좋아용    1.0\n",
       "2996  절대 가지마세요 점도 못줌 성남동 관평동 용문동 에서 자주 애용하면서 체인점이라도 ...    0.0\n",
       "2997                                      양도 엄청 많고 맛잇어용    1.0\n",
       "2998                     너무 맛있어요 사장님도 친절하셔서 기분 좋게 먹다갑니다    1.0\n",
       "2999                  을왕리 횟집 찾으시는분들 고고고 진짜 맛있습니다 가격도 좋고    1.0\n",
       "\n",
       "[3000 rows x 2 columns]"
      ]
     },
     "execution_count": 87,
     "metadata": {},
     "output_type": "execute_result"
    }
   ],
   "source": [
    "result = df.iloc[:3000,:]\n",
    "result"
   ]
  },
  {
   "cell_type": "code",
   "execution_count": 93,
   "id": "0aa2143d",
   "metadata": {},
   "outputs": [],
   "source": [
    "result = result.astype({'Label':'int'})"
   ]
  },
  {
   "cell_type": "code",
   "execution_count": 94,
   "id": "e00be2ca",
   "metadata": {},
   "outputs": [
    {
     "data": {
      "text/html": [
       "<div>\n",
       "<style scoped>\n",
       "    .dataframe tbody tr th:only-of-type {\n",
       "        vertical-align: middle;\n",
       "    }\n",
       "\n",
       "    .dataframe tbody tr th {\n",
       "        vertical-align: top;\n",
       "    }\n",
       "\n",
       "    .dataframe thead th {\n",
       "        text-align: right;\n",
       "    }\n",
       "</style>\n",
       "<table border=\"1\" class=\"dataframe\">\n",
       "  <thead>\n",
       "    <tr style=\"text-align: right;\">\n",
       "      <th></th>\n",
       "      <th>Review</th>\n",
       "      <th>Label</th>\n",
       "    </tr>\n",
       "  </thead>\n",
       "  <tbody>\n",
       "    <tr>\n",
       "      <th>0</th>\n",
       "      <td>지금까지 다녀봤던 참치집 중 부위가 가장 좋았던거 같아요 어묵탕 샐러드 생선조림 순...</td>\n",
       "      <td>1</td>\n",
       "    </tr>\n",
       "    <tr>\n",
       "      <th>1</th>\n",
       "      <td>처음 들어갈땐 사장님이 계신거같더니 먹는 중에는 퇴근하셨나 벨을 눌러도 안오네요 보...</td>\n",
       "      <td>0</td>\n",
       "    </tr>\n",
       "    <tr>\n",
       "      <th>2</th>\n",
       "      <td>가족들 다 참치회를 좋아해서 생일겸 맛있는 참치회 먹으려고 집근처로 찾아보던중에 알...</td>\n",
       "      <td>1</td>\n",
       "    </tr>\n",
       "    <tr>\n",
       "      <th>3</th>\n",
       "      <td>일등참치 맛집참치 가성비참치 최고참치 증독참치 구청뒤쪽에서 신설동으로 계속 딸라다닐...</td>\n",
       "      <td>1</td>\n",
       "    </tr>\n",
       "    <tr>\n",
       "      <th>4</th>\n",
       "      <td>음식이 깔끔하고 맛있네요</td>\n",
       "      <td>1</td>\n",
       "    </tr>\n",
       "    <tr>\n",
       "      <th>...</th>\n",
       "      <td>...</td>\n",
       "      <td>...</td>\n",
       "    </tr>\n",
       "    <tr>\n",
       "      <th>2995</th>\n",
       "      <td>사시미 종류도 많고 양도 좋아용</td>\n",
       "      <td>1</td>\n",
       "    </tr>\n",
       "    <tr>\n",
       "      <th>2996</th>\n",
       "      <td>절대 가지마세요 점도 못줌 성남동 관평동 용문동 에서 자주 애용하면서 체인점이라도 ...</td>\n",
       "      <td>0</td>\n",
       "    </tr>\n",
       "    <tr>\n",
       "      <th>2997</th>\n",
       "      <td>양도 엄청 많고 맛잇어용</td>\n",
       "      <td>1</td>\n",
       "    </tr>\n",
       "    <tr>\n",
       "      <th>2998</th>\n",
       "      <td>너무 맛있어요 사장님도 친절하셔서 기분 좋게 먹다갑니다</td>\n",
       "      <td>1</td>\n",
       "    </tr>\n",
       "    <tr>\n",
       "      <th>2999</th>\n",
       "      <td>을왕리 횟집 찾으시는분들 고고고 진짜 맛있습니다 가격도 좋고</td>\n",
       "      <td>1</td>\n",
       "    </tr>\n",
       "  </tbody>\n",
       "</table>\n",
       "<p>3000 rows × 2 columns</p>\n",
       "</div>"
      ],
      "text/plain": [
       "                                                 Review  Label\n",
       "0     지금까지 다녀봤던 참치집 중 부위가 가장 좋았던거 같아요 어묵탕 샐러드 생선조림 순...      1\n",
       "1     처음 들어갈땐 사장님이 계신거같더니 먹는 중에는 퇴근하셨나 벨을 눌러도 안오네요 보...      0\n",
       "2     가족들 다 참치회를 좋아해서 생일겸 맛있는 참치회 먹으려고 집근처로 찾아보던중에 알...      1\n",
       "3     일등참치 맛집참치 가성비참치 최고참치 증독참치 구청뒤쪽에서 신설동으로 계속 딸라다닐...      1\n",
       "4                                         음식이 깔끔하고 맛있네요      1\n",
       "...                                                 ...    ...\n",
       "2995                                  사시미 종류도 많고 양도 좋아용      1\n",
       "2996  절대 가지마세요 점도 못줌 성남동 관평동 용문동 에서 자주 애용하면서 체인점이라도 ...      0\n",
       "2997                                      양도 엄청 많고 맛잇어용      1\n",
       "2998                     너무 맛있어요 사장님도 친절하셔서 기분 좋게 먹다갑니다      1\n",
       "2999                  을왕리 횟집 찾으시는분들 고고고 진짜 맛있습니다 가격도 좋고      1\n",
       "\n",
       "[3000 rows x 2 columns]"
      ]
     },
     "execution_count": 94,
     "metadata": {},
     "output_type": "execute_result"
    }
   ],
   "source": [
    "result"
   ]
  },
  {
   "cell_type": "code",
   "execution_count": 98,
   "id": "4e2a7e3f",
   "metadata": {},
   "outputs": [
    {
     "data": {
      "text/plain": [
       "array([1, 0, 1, ..., 1, 1, 1])"
      ]
     },
     "execution_count": 98,
     "metadata": {},
     "output_type": "execute_result"
    }
   ],
   "source": [
    "result['Label'].values"
   ]
  },
  {
   "cell_type": "code",
   "execution_count": 101,
   "id": "1bc856d1",
   "metadata": {},
   "outputs": [],
   "source": [
    "# 관계없는 리뷰 삭제\n",
    "drop_index = result[result['Label'] > 1].index\n",
    "result.drop(drop_index,inplace=True)"
   ]
  },
  {
   "cell_type": "code",
   "execution_count": 102,
   "id": "7477e6a7",
   "metadata": {},
   "outputs": [],
   "source": [
    "result.reset_index(drop=True,inplace=True)"
   ]
  },
  {
   "cell_type": "code",
   "execution_count": 103,
   "id": "1af6a2e3",
   "metadata": {},
   "outputs": [
    {
     "data": {
      "text/plain": [
       "Label\n",
       "1        2405\n",
       "0         527\n",
       "dtype: int64"
      ]
     },
     "execution_count": 103,
     "metadata": {},
     "output_type": "execute_result"
    }
   ],
   "source": [
    "result.value_counts(['Label'])"
   ]
  },
  {
   "cell_type": "code",
   "execution_count": 105,
   "id": "bf66bb65",
   "metadata": {},
   "outputs": [],
   "source": [
    "#객체 저장\n",
    "import pickle\n",
    "with open('result.pickle', 'wb') as f:\n",
    "    pickle.dump(result,f)"
   ]
  },
  {
   "cell_type": "code",
   "execution_count": null,
   "id": "8d6a2520",
   "metadata": {},
   "outputs": [],
   "source": []
  }
 ],
 "metadata": {
  "kernelspec": {
   "display_name": "Python 3 (ipykernel)",
   "language": "python",
   "name": "python3"
  },
  "language_info": {
   "codemirror_mode": {
    "name": "ipython",
    "version": 3
   },
   "file_extension": ".py",
   "mimetype": "text/x-python",
   "name": "python",
   "nbconvert_exporter": "python",
   "pygments_lexer": "ipython3",
   "version": "3.9.12"
  }
 },
 "nbformat": 4,
 "nbformat_minor": 5
}
