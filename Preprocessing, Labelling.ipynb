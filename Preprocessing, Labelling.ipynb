{
 "cells": [
  {
   "cell_type": "markdown",
   "id": "330590c3",
   "metadata": {},
   "source": [
    "## 1. 전처리\n",
    "\n",
    "1. 각 매장 마다의 리뷰 리스트를 나누고\n",
    "2. null값 확인\n",
    "3. 한글빼고 삭제\n",
    "4. 중복제거\n",
    "5. 길이 10이하 텍스트 제거\n",
    "5. 레이블링"
   ]
  },
  {
   "cell_type": "code",
   "execution_count": 1,
   "id": "ab79fdf8",
   "metadata": {},
   "outputs": [],
   "source": [
    "import re\n",
    "import pandas as pd\n",
    "from tqdm import tqdm\n",
    "from konlpy.tag import Okt\n",
    "#from pykospacing import Spacing\n",
    "from collections import Counter"
   ]
  },
  {
   "cell_type": "code",
   "execution_count": 2,
   "id": "782af19c",
   "metadata": {},
   "outputs": [],
   "source": [
    "import numpy as np\n",
    "import pandas as pd"
   ]
  },
  {
   "cell_type": "code",
   "execution_count": 3,
   "id": "303a6e95",
   "metadata": {},
   "outputs": [],
   "source": [
    "import json\n",
    "\n",
    "with open('./naver_횟집_by_metropolitan.json','r',encoding='utf-8') as f:\n",
    "    data = json.load(f)"
   ]
  },
  {
   "cell_type": "code",
   "execution_count": 4,
   "id": "4c26895d",
   "metadata": {},
   "outputs": [
    {
     "data": {
      "text/plain": [
       "1688"
      ]
     },
     "execution_count": 4,
     "metadata": {},
     "output_type": "execute_result"
    }
   ],
   "source": [
    "#매장의 개수\n",
    "len(data)"
   ]
  },
  {
   "cell_type": "code",
   "execution_count": 5,
   "id": "13b5a896",
   "metadata": {},
   "outputs": [],
   "source": [
    "#1. 각 매장 마다의 리뷰 리스트를 나누고\n",
    "total_review = list()\n",
    "import pandas as pd\n",
    "for store_info in data.values():\n",
    "    total_review.extend(store_info['review'])"
   ]
  },
  {
   "cell_type": "code",
   "execution_count": 6,
   "id": "c89187e4",
   "metadata": {},
   "outputs": [
    {
     "data": {
      "text/plain": [
       "155212"
      ]
     },
     "execution_count": 6,
     "metadata": {},
     "output_type": "execute_result"
    }
   ],
   "source": [
    "# 전체 리뷰 개수\n",
    "len(total_review)"
   ]
  },
  {
   "cell_type": "code",
   "execution_count": 7,
   "id": "34c7f9d7",
   "metadata": {},
   "outputs": [],
   "source": [
    "#데이터 프레임 생성\n",
    "df = pd.DataFrame(total_review, columns=['Review'])"
   ]
  },
  {
   "cell_type": "code",
   "execution_count": 8,
   "id": "53c72cb6",
   "metadata": {},
   "outputs": [
    {
     "data": {
      "text/html": [
       "<div>\n",
       "<style scoped>\n",
       "    .dataframe tbody tr th:only-of-type {\n",
       "        vertical-align: middle;\n",
       "    }\n",
       "\n",
       "    .dataframe tbody tr th {\n",
       "        vertical-align: top;\n",
       "    }\n",
       "\n",
       "    .dataframe thead th {\n",
       "        text-align: right;\n",
       "    }\n",
       "</style>\n",
       "<table border=\"1\" class=\"dataframe\">\n",
       "  <thead>\n",
       "    <tr style=\"text-align: right;\">\n",
       "      <th></th>\n",
       "      <th>Review</th>\n",
       "    </tr>\n",
       "  </thead>\n",
       "  <tbody>\n",
       "    <tr>\n",
       "      <th>0</th>\n",
       "      <td>지금까지 다녀봤던 참치집 중 부위가 가장 좋았던거 같아요! 어묵탕 샐러드 생선조림 ...</td>\n",
       "    </tr>\n",
       "    <tr>\n",
       "      <th>1</th>\n",
       "      <td>처음 들어갈땐 사장님이 계신거같더니 먹는 중에는 퇴근하셨나? 벨을 눌러도 안오네요ㅋ...</td>\n",
       "    </tr>\n",
       "    <tr>\n",
       "      <th>2</th>\n",
       "      <td>가족들 다 참치회를 좋아해서 생일겸 맛있는 참치회 먹으려고 집근처로 찾아보던중에 알...</td>\n",
       "    </tr>\n",
       "    <tr>\n",
       "      <th>3</th>\n",
       "      <td>일등참치 맛집참치 가성비참치 최고참치 증독참치 구청뒤쪽에서 신설동으로 계속 딸라다닐...</td>\n",
       "    </tr>\n",
       "    <tr>\n",
       "      <th>4</th>\n",
       "      <td>음식이 깔끔하고 맛있네요</td>\n",
       "    </tr>\n",
       "    <tr>\n",
       "      <th>...</th>\n",
       "      <td>...</td>\n",
       "    </tr>\n",
       "    <tr>\n",
       "      <th>155207</th>\n",
       "      <td>깨끗하고 친절해요 맘에듭니다</td>\n",
       "    </tr>\n",
       "    <tr>\n",
       "      <th>155208</th>\n",
       "      <td>친절해요</td>\n",
       "    </tr>\n",
       "    <tr>\n",
       "      <th>155209</th>\n",
       "      <td>깨끗하고 친절해요 맘에듭니다</td>\n",
       "    </tr>\n",
       "    <tr>\n",
       "      <th>155210</th>\n",
       "      <td>친절해요</td>\n",
       "    </tr>\n",
       "    <tr>\n",
       "      <th>155211</th>\n",
       "      <td>주인님 넘넘친절하고 확실하게하시내요 그리고 회는기계로설지안고 손은로직접설어맛이확실히...</td>\n",
       "    </tr>\n",
       "  </tbody>\n",
       "</table>\n",
       "<p>155212 rows × 1 columns</p>\n",
       "</div>"
      ],
      "text/plain": [
       "                                                   Review\n",
       "0       지금까지 다녀봤던 참치집 중 부위가 가장 좋았던거 같아요! 어묵탕 샐러드 생선조림 ...\n",
       "1       처음 들어갈땐 사장님이 계신거같더니 먹는 중에는 퇴근하셨나? 벨을 눌러도 안오네요ㅋ...\n",
       "2       가족들 다 참치회를 좋아해서 생일겸 맛있는 참치회 먹으려고 집근처로 찾아보던중에 알...\n",
       "3       일등참치 맛집참치 가성비참치 최고참치 증독참치 구청뒤쪽에서 신설동으로 계속 딸라다닐...\n",
       "4                                           음식이 깔끔하고 맛있네요\n",
       "...                                                   ...\n",
       "155207                                    깨끗하고 친절해요 맘에듭니다\n",
       "155208                                               친절해요\n",
       "155209                                    깨끗하고 친절해요 맘에듭니다\n",
       "155210                                               친절해요\n",
       "155211  주인님 넘넘친절하고 확실하게하시내요 그리고 회는기계로설지안고 손은로직접설어맛이확실히...\n",
       "\n",
       "[155212 rows x 1 columns]"
      ]
     },
     "execution_count": 8,
     "metadata": {},
     "output_type": "execute_result"
    }
   ],
   "source": [
    "df"
   ]
  },
  {
   "cell_type": "code",
   "execution_count": 9,
   "id": "ebad4f1f",
   "metadata": {},
   "outputs": [
    {
     "data": {
      "text/plain": [
       "Review    0\n",
       "dtype: int64"
      ]
     },
     "execution_count": 9,
     "metadata": {},
     "output_type": "execute_result"
    }
   ],
   "source": [
    "# null값 확인\n",
    "df.isnull().sum()"
   ]
  },
  {
   "cell_type": "code",
   "execution_count": 10,
   "id": "66e70beb",
   "metadata": {},
   "outputs": [],
   "source": [
    "#여러 공백을 하나의 공백으로 줄인다.\n",
    "import re\n",
    "def apply_regular_expreesion(text):\n",
    "    hangul = re.compile('[^ 가-힣]')\n",
    "    #한글이 아닌 문자 제거\n",
    "    result = hangul.sub('', text) \n",
    "    #1개 이상의 공백 -> 1개의 공백\n",
    "    result = re.sub(' +',' ', result)\n",
    "    return result\n",
    "\n",
    "df['Review'] = df['Review'].apply(lambda x : apply_regular_expreesion(x))"
   ]
  },
  {
   "cell_type": "code",
   "execution_count": 11,
   "id": "2e9a2738",
   "metadata": {},
   "outputs": [
    {
     "data": {
      "text/html": [
       "<div>\n",
       "<style scoped>\n",
       "    .dataframe tbody tr th:only-of-type {\n",
       "        vertical-align: middle;\n",
       "    }\n",
       "\n",
       "    .dataframe tbody tr th {\n",
       "        vertical-align: top;\n",
       "    }\n",
       "\n",
       "    .dataframe thead th {\n",
       "        text-align: right;\n",
       "    }\n",
       "</style>\n",
       "<table border=\"1\" class=\"dataframe\">\n",
       "  <thead>\n",
       "    <tr style=\"text-align: right;\">\n",
       "      <th></th>\n",
       "      <th>Review</th>\n",
       "    </tr>\n",
       "  </thead>\n",
       "  <tbody>\n",
       "    <tr>\n",
       "      <th>29</th>\n",
       "      <td></td>\n",
       "    </tr>\n",
       "    <tr>\n",
       "      <th>102</th>\n",
       "      <td></td>\n",
       "    </tr>\n",
       "    <tr>\n",
       "      <th>114</th>\n",
       "      <td></td>\n",
       "    </tr>\n",
       "    <tr>\n",
       "      <th>128</th>\n",
       "      <td></td>\n",
       "    </tr>\n",
       "    <tr>\n",
       "      <th>130</th>\n",
       "      <td></td>\n",
       "    </tr>\n",
       "    <tr>\n",
       "      <th>...</th>\n",
       "      <td>...</td>\n",
       "    </tr>\n",
       "    <tr>\n",
       "      <th>155163</th>\n",
       "      <td></td>\n",
       "    </tr>\n",
       "    <tr>\n",
       "      <th>155176</th>\n",
       "      <td></td>\n",
       "    </tr>\n",
       "    <tr>\n",
       "      <th>155180</th>\n",
       "      <td></td>\n",
       "    </tr>\n",
       "    <tr>\n",
       "      <th>155181</th>\n",
       "      <td></td>\n",
       "    </tr>\n",
       "    <tr>\n",
       "      <th>155193</th>\n",
       "      <td></td>\n",
       "    </tr>\n",
       "  </tbody>\n",
       "</table>\n",
       "<p>5223 rows × 1 columns</p>\n",
       "</div>"
      ],
      "text/plain": [
       "       Review\n",
       "29           \n",
       "102          \n",
       "114          \n",
       "128          \n",
       "130          \n",
       "...       ...\n",
       "155163       \n",
       "155176       \n",
       "155180       \n",
       "155181       \n",
       "155193       \n",
       "\n",
       "[5223 rows x 1 columns]"
      ]
     },
     "execution_count": 11,
     "metadata": {},
     "output_type": "execute_result"
    }
   ],
   "source": [
    "tmp = df[df['Review']=='']\n",
    "tmp"
   ]
  },
  {
   "cell_type": "code",
   "execution_count": 12,
   "id": "7ea1218a",
   "metadata": {},
   "outputs": [
    {
     "name": "stdout",
     "output_type": "stream",
     "text": [
      "Review    5223\n",
      "dtype: int64\n"
     ]
    },
    {
     "data": {
      "text/plain": [
       "149989"
      ]
     },
     "execution_count": 12,
     "metadata": {},
     "output_type": "execute_result"
    }
   ],
   "source": [
    "#빈 문자열 -> NaN 치환\n",
    "df['Review'].replace('', np.nan, inplace=True)\n",
    "# null값 확인\n",
    "print(df.isnull().sum())\n",
    "df.dropna(inplace=True)\n",
    "len(df)"
   ]
  },
  {
   "cell_type": "code",
   "execution_count": 13,
   "id": "191da586",
   "metadata": {},
   "outputs": [
    {
     "data": {
      "text/plain": [
       "54293"
      ]
     },
     "execution_count": 13,
     "metadata": {},
     "output_type": "execute_result"
    }
   ],
   "source": [
    "df.duplicated(['Review']).sum()"
   ]
  },
  {
   "cell_type": "code",
   "execution_count": 14,
   "id": "6ae33a7a",
   "metadata": {
    "scrolled": true
   },
   "outputs": [
    {
     "name": "stdout",
     "output_type": "stream",
     "text": [
      "0\n"
     ]
    }
   ],
   "source": [
    "#중복 제거\n",
    "df = df.drop_duplicates(['Review'])\n",
    "print(df.duplicated(['Review']).sum())"
   ]
  },
  {
   "cell_type": "code",
   "execution_count": 15,
   "id": "2808c5b2",
   "metadata": {},
   "outputs": [
    {
     "name": "stdout",
     "output_type": "stream",
     "text": [
      "Review    0\n",
      "dtype: int64\n"
     ]
    }
   ],
   "source": [
    "print(df.isnull().sum())"
   ]
  },
  {
   "cell_type": "code",
   "execution_count": 16,
   "id": "92ef6675",
   "metadata": {},
   "outputs": [
    {
     "data": {
      "text/plain": [
       "95696"
      ]
     },
     "execution_count": 16,
     "metadata": {},
     "output_type": "execute_result"
    }
   ],
   "source": [
    "len(df)"
   ]
  },
  {
   "cell_type": "code",
   "execution_count": 17,
   "id": "f3e35986",
   "metadata": {},
   "outputs": [],
   "source": [
    "# 10개 이하 시퀀스 제거\n",
    "df = df[df['Review'].map(lambda x : len(str(x)) > 10) ]"
   ]
  },
  {
   "cell_type": "code",
   "execution_count": 18,
   "id": "45b1930b",
   "metadata": {},
   "outputs": [],
   "source": [
    "df = df.reset_index(drop=True)"
   ]
  },
  {
   "cell_type": "code",
   "execution_count": 19,
   "id": "2387b318",
   "metadata": {},
   "outputs": [
    {
     "data": {
      "text/html": [
       "<div>\n",
       "<style scoped>\n",
       "    .dataframe tbody tr th:only-of-type {\n",
       "        vertical-align: middle;\n",
       "    }\n",
       "\n",
       "    .dataframe tbody tr th {\n",
       "        vertical-align: top;\n",
       "    }\n",
       "\n",
       "    .dataframe thead th {\n",
       "        text-align: right;\n",
       "    }\n",
       "</style>\n",
       "<table border=\"1\" class=\"dataframe\">\n",
       "  <thead>\n",
       "    <tr style=\"text-align: right;\">\n",
       "      <th></th>\n",
       "      <th>Review</th>\n",
       "    </tr>\n",
       "  </thead>\n",
       "  <tbody>\n",
       "    <tr>\n",
       "      <th>0</th>\n",
       "      <td>지금까지 다녀봤던 참치집 중 부위가 가장 좋았던거 같아요 어묵탕 샐러드 생선조림 순...</td>\n",
       "    </tr>\n",
       "    <tr>\n",
       "      <th>1</th>\n",
       "      <td>처음 들어갈땐 사장님이 계신거같더니 먹는 중에는 퇴근하셨나 벨을 눌러도 안오네요 보...</td>\n",
       "    </tr>\n",
       "    <tr>\n",
       "      <th>2</th>\n",
       "      <td>가족들 다 참치회를 좋아해서 생일겸 맛있는 참치회 먹으려고 집근처로 찾아보던중에 알...</td>\n",
       "    </tr>\n",
       "    <tr>\n",
       "      <th>3</th>\n",
       "      <td>일등참치 맛집참치 가성비참치 최고참치 증독참치 구청뒤쪽에서 신설동으로 계속 딸라다닐...</td>\n",
       "    </tr>\n",
       "    <tr>\n",
       "      <th>4</th>\n",
       "      <td>음식이 깔끔하고 맛있네요</td>\n",
       "    </tr>\n",
       "    <tr>\n",
       "      <th>...</th>\n",
       "      <td>...</td>\n",
       "    </tr>\n",
       "    <tr>\n",
       "      <th>83564</th>\n",
       "      <td>방어 넘 양도 많고 짱이네요포장도 갠찬아요</td>\n",
       "    </tr>\n",
       "    <tr>\n",
       "      <th>83565</th>\n",
       "      <td>횟감이 신선하고 쫀득한</td>\n",
       "    </tr>\n",
       "    <tr>\n",
       "      <th>83566</th>\n",
       "      <td>사장님 친절하시고 음식도맛있고 좋아요서비스도 엄청 좋아요</td>\n",
       "    </tr>\n",
       "    <tr>\n",
       "      <th>83567</th>\n",
       "      <td>깨끗하고 친절해요 맘에듭니다</td>\n",
       "    </tr>\n",
       "    <tr>\n",
       "      <th>83568</th>\n",
       "      <td>주인님 넘넘친절하고 확실하게하시내요 그리고 회는기계로설지안고 손은로직접설어맛이확실히...</td>\n",
       "    </tr>\n",
       "  </tbody>\n",
       "</table>\n",
       "<p>83569 rows × 1 columns</p>\n",
       "</div>"
      ],
      "text/plain": [
       "                                                  Review\n",
       "0      지금까지 다녀봤던 참치집 중 부위가 가장 좋았던거 같아요 어묵탕 샐러드 생선조림 순...\n",
       "1      처음 들어갈땐 사장님이 계신거같더니 먹는 중에는 퇴근하셨나 벨을 눌러도 안오네요 보...\n",
       "2      가족들 다 참치회를 좋아해서 생일겸 맛있는 참치회 먹으려고 집근처로 찾아보던중에 알...\n",
       "3      일등참치 맛집참치 가성비참치 최고참치 증독참치 구청뒤쪽에서 신설동으로 계속 딸라다닐...\n",
       "4                                          음식이 깔끔하고 맛있네요\n",
       "...                                                  ...\n",
       "83564                            방어 넘 양도 많고 짱이네요포장도 갠찬아요\n",
       "83565                                       횟감이 신선하고 쫀득한\n",
       "83566                    사장님 친절하시고 음식도맛있고 좋아요서비스도 엄청 좋아요\n",
       "83567                                    깨끗하고 친절해요 맘에듭니다\n",
       "83568  주인님 넘넘친절하고 확실하게하시내요 그리고 회는기계로설지안고 손은로직접설어맛이확실히...\n",
       "\n",
       "[83569 rows x 1 columns]"
      ]
     },
     "execution_count": 19,
     "metadata": {},
     "output_type": "execute_result"
    }
   ],
   "source": [
    "df"
   ]
  },
  {
   "cell_type": "markdown",
   "id": "fb39c364",
   "metadata": {},
   "source": [
    "# 2. 레이블링\n",
    "긍정 - 1\n",
    "부정 - 0 / 긍정 + 부정이면 부정으로 취급\n",
    "관계없는 시퀀스 - 2 이상의 수"
   ]
  },
  {
   "cell_type": "code",
   "execution_count": 10,
   "id": "e6b5f475",
   "metadata": {
    "scrolled": false
   },
   "outputs": [
    {
     "name": "stdout",
     "output_type": "stream",
     "text": [
      "2993번째 인덱스\n",
      "나오는 기타 요리들도 너무 맛있고 무엇보다 대게가 좋습니다 찌시는 방법도 직접 솥에 쪄주셔서 정성이 들어가 더 맛있는 것 같아요 너무 친절하셔서 \n",
      "레이블 입력하세요: 1\n",
      "2994번째 인덱스\n",
      "너무 맛있게 잘 먹었습니다 사장님도 친절하시고 무엇보다 킹크랩이 엄청 살도 꽉차고 진짜 진짜 맛있습니다 무조건 재방문각입니다\n",
      "레이블 입력하세요: 1\n",
      "2995번째 인덱스\n",
      "동교동 창천동 모두 먹었던 곳에서 제일 만족한 곳이에요 서비스는 물론이고 기본 채소 퀄리티부터가 정말 진짜 추천 많이합니다 기분좋아지는 것\n",
      "레이블 입력하세요: 1\n",
      "2996번째 인덱스\n",
      "제가 사진찍는 기술이 후져서 실제 나온 것보다 못찍어서 아쉽네요 잘먹었습니다\n",
      "레이블 입력하세요: 1\n",
      "2997번째 인덱스\n",
      "대게맛의 진수 서비스도 많고 정말 맛있습니다\n",
      "레이블 입력하세요: 1\n",
      "2998번째 인덱스\n",
      "먹기 좋게 손쉽게 손질되어 나오고 속살도 꽉 차서 진짜 맛있게 잘 먹었습니다신선해서 그런지 비린내도 전혀 안났어요\n",
      "레이블 입력하세요: 1\n",
      "2999번째 인덱스\n",
      "참 맛있게 먹고 갑니다\n",
      "레이블 입력하세요: 1\n"
     ]
    }
   ],
   "source": [
    "#현재 인덱스 2500까지 했다.\n",
    "for i in range(df['Label'].count(), 2500):\n",
    "    print(f'{i}번째 인덱스')\n",
    "    print(df.loc[i,'Review'])\n",
    "    label = input(\"레이블 입력하세요: \")\n",
    "    label = int(label)\n",
    "    df.loc[i,'Label'] = label"
   ]
  },
  {
   "cell_type": "code",
   "execution_count": 10,
   "id": "43214c14",
   "metadata": {},
   "outputs": [],
   "source": [
    "# df_tmp 저장\n",
    "import pickle\n",
    "with open('df_tmp.pickle', 'rb') as f:\n",
    "    df = pickle.load(f)"
   ]
  },
  {
   "cell_type": "code",
   "execution_count": 11,
   "id": "c204b7fb",
   "metadata": {},
   "outputs": [
    {
     "data": {
      "text/html": [
       "<div>\n",
       "<style scoped>\n",
       "    .dataframe tbody tr th:only-of-type {\n",
       "        vertical-align: middle;\n",
       "    }\n",
       "\n",
       "    .dataframe tbody tr th {\n",
       "        vertical-align: top;\n",
       "    }\n",
       "\n",
       "    .dataframe thead th {\n",
       "        text-align: right;\n",
       "    }\n",
       "</style>\n",
       "<table border=\"1\" class=\"dataframe\">\n",
       "  <thead>\n",
       "    <tr style=\"text-align: right;\">\n",
       "      <th></th>\n",
       "      <th>Review</th>\n",
       "      <th>Label</th>\n",
       "    </tr>\n",
       "  </thead>\n",
       "  <tbody>\n",
       "    <tr>\n",
       "      <th>0</th>\n",
       "      <td>지금까지 다녀봤던 참치집 중 부위가 가장 좋았던거 같아요 어묵탕 샐러드 생선조림 순...</td>\n",
       "      <td>1.0</td>\n",
       "    </tr>\n",
       "    <tr>\n",
       "      <th>1</th>\n",
       "      <td>처음 들어갈땐 사장님이 계신거같더니 먹는 중에는 퇴근하셨나 벨을 눌러도 안오네요 보...</td>\n",
       "      <td>0.0</td>\n",
       "    </tr>\n",
       "    <tr>\n",
       "      <th>2</th>\n",
       "      <td>가족들 다 참치회를 좋아해서 생일겸 맛있는 참치회 먹으려고 집근처로 찾아보던중에 알...</td>\n",
       "      <td>1.0</td>\n",
       "    </tr>\n",
       "    <tr>\n",
       "      <th>3</th>\n",
       "      <td>일등참치 맛집참치 가성비참치 최고참치 증독참치 구청뒤쪽에서 신설동으로 계속 딸라다닐...</td>\n",
       "      <td>1.0</td>\n",
       "    </tr>\n",
       "    <tr>\n",
       "      <th>4</th>\n",
       "      <td>음식이 깔끔하고 맛있네요</td>\n",
       "      <td>1.0</td>\n",
       "    </tr>\n",
       "    <tr>\n",
       "      <th>...</th>\n",
       "      <td>...</td>\n",
       "      <td>...</td>\n",
       "    </tr>\n",
       "    <tr>\n",
       "      <th>83564</th>\n",
       "      <td>방어 넘 양도 많고 짱이네요포장도 갠찬아요</td>\n",
       "      <td>NaN</td>\n",
       "    </tr>\n",
       "    <tr>\n",
       "      <th>83565</th>\n",
       "      <td>횟감이 신선하고 쫀득한</td>\n",
       "      <td>NaN</td>\n",
       "    </tr>\n",
       "    <tr>\n",
       "      <th>83566</th>\n",
       "      <td>사장님 친절하시고 음식도맛있고 좋아요서비스도 엄청 좋아요</td>\n",
       "      <td>NaN</td>\n",
       "    </tr>\n",
       "    <tr>\n",
       "      <th>83567</th>\n",
       "      <td>깨끗하고 친절해요 맘에듭니다</td>\n",
       "      <td>NaN</td>\n",
       "    </tr>\n",
       "    <tr>\n",
       "      <th>83568</th>\n",
       "      <td>주인님 넘넘친절하고 확실하게하시내요 그리고 회는기계로설지안고 손은로직접설어맛이확실히...</td>\n",
       "      <td>NaN</td>\n",
       "    </tr>\n",
       "  </tbody>\n",
       "</table>\n",
       "<p>83569 rows × 2 columns</p>\n",
       "</div>"
      ],
      "text/plain": [
       "                                                  Review  Label\n",
       "0      지금까지 다녀봤던 참치집 중 부위가 가장 좋았던거 같아요 어묵탕 샐러드 생선조림 순...    1.0\n",
       "1      처음 들어갈땐 사장님이 계신거같더니 먹는 중에는 퇴근하셨나 벨을 눌러도 안오네요 보...    0.0\n",
       "2      가족들 다 참치회를 좋아해서 생일겸 맛있는 참치회 먹으려고 집근처로 찾아보던중에 알...    1.0\n",
       "3      일등참치 맛집참치 가성비참치 최고참치 증독참치 구청뒤쪽에서 신설동으로 계속 딸라다닐...    1.0\n",
       "4                                          음식이 깔끔하고 맛있네요    1.0\n",
       "...                                                  ...    ...\n",
       "83564                            방어 넘 양도 많고 짱이네요포장도 갠찬아요    NaN\n",
       "83565                                       횟감이 신선하고 쫀득한    NaN\n",
       "83566                    사장님 친절하시고 음식도맛있고 좋아요서비스도 엄청 좋아요    NaN\n",
       "83567                                    깨끗하고 친절해요 맘에듭니다    NaN\n",
       "83568  주인님 넘넘친절하고 확실하게하시내요 그리고 회는기계로설지안고 손은로직접설어맛이확실히...    NaN\n",
       "\n",
       "[83569 rows x 2 columns]"
      ]
     },
     "execution_count": 11,
     "metadata": {},
     "output_type": "execute_result"
    }
   ],
   "source": [
    "df"
   ]
  },
  {
   "cell_type": "code",
   "execution_count": 16,
   "id": "a79f1225",
   "metadata": {},
   "outputs": [
    {
     "data": {
      "text/plain": [
       "2500"
      ]
     },
     "execution_count": 16,
     "metadata": {},
     "output_type": "execute_result"
    }
   ],
   "source": [
    "import pandas as pd\n",
    "import numpy as np\n",
    "df.value_counts(['Label']).sum()"
   ]
  },
  {
   "cell_type": "code",
   "execution_count": 32,
   "id": "64fbe324",
   "metadata": {},
   "outputs": [],
   "source": [
    "# 5000개의 데이터 랜덤 추출\n",
    "tmp = df.sample(n=5000, replace = False, random_state=24)"
   ]
  },
  {
   "cell_type": "code",
   "execution_count": 33,
   "id": "404a9ca2",
   "metadata": {},
   "outputs": [
    {
     "data": {
      "text/plain": [
       "Review    5000\n",
       "Label      150\n",
       "dtype: int64"
      ]
     },
     "execution_count": 33,
     "metadata": {},
     "output_type": "execute_result"
    }
   ],
   "source": [
    "tmp.count()"
   ]
  },
  {
   "cell_type": "code",
   "execution_count": 38,
   "id": "1e5236c5",
   "metadata": {},
   "outputs": [],
   "source": [
    "# 기존의 순차적 레이블링 진행했던 2500개의 레코드 df\n",
    "# 새롭게 비복원 추출로 랜덤하게 뽑은 5000개 tmp를 합친다.\n",
    "df = pd.concat([df.iloc[:2500,:], tmp], ignore_index=True)"
   ]
  },
  {
   "cell_type": "code",
   "execution_count": 39,
   "id": "9f650763",
   "metadata": {},
   "outputs": [
    {
     "data": {
      "text/plain": [
       "Review    7500\n",
       "Label     2650\n",
       "dtype: int64"
      ]
     },
     "execution_count": 39,
     "metadata": {},
     "output_type": "execute_result"
    }
   ],
   "source": [
    "df.count()"
   ]
  },
  {
   "cell_type": "code",
   "execution_count": 41,
   "id": "01427cec",
   "metadata": {
    "scrolled": true
   },
   "outputs": [
    {
     "data": {
      "text/plain": [
       "Review    7350\n",
       "Label     2500\n",
       "dtype: int64"
      ]
     },
     "execution_count": 41,
     "metadata": {},
     "output_type": "execute_result"
    }
   ],
   "source": [
    "# 중복제거\n",
    "df.drop_duplicates(['Review'],ignore_index=True, inplace=True)\n",
    "df.count()"
   ]
  },
  {
   "cell_type": "code",
   "execution_count": 79,
   "id": "8e494c96",
   "metadata": {
    "scrolled": true
   },
   "outputs": [
    {
     "name": "stdout",
     "output_type": "stream",
     "text": [
      "2940번째 인덱스\n",
      "반찬들 하나하나 다 잘나왔어요 청어구이보다는 꽁 치가 더 좋을것 같긴 한데 방어 먹으러 왔는데 메뉴에 없는 방어참가자미 반반으로 해주셔\n",
      "레이블 입력하세요: 1\n",
      "2941번째 인덱스\n",
      "방어우럭 포장했는데 광어우럭이 있네요 바쁠때 아니었는데 포장하기전에 확인해주시면 좋겠어요\n",
      "레이블 입력하세요: 1\n",
      "2942번째 인덱스\n",
      "회가 너무 신선하고 맛있었어요\n",
      "레이블 입력하세요: 1\n",
      "2943번째 인덱스\n",
      "혼밥 해서 죄송하지만 청결하고 친절하고음식도 신선하고 너무 좋아요 또갈게요\n",
      "레이블 입력하세요: 1\n",
      "2944번째 인덱스\n",
      "위생 상태도 너무 좋고 맛있게 잘 먹었어요 그날 하 루 배가 터질 지경이었어요 상다리가 부러지게 나와서 회 상태도 너무 신선하고 좋더라\n",
      "레이블 입력하세요: 1\n",
      "2945번째 인덱스\n",
      "항상친절하고 좋아요 노량진 갈때마다 무조건 청해진\n",
      "레이블 입력하세요: 1\n",
      "2946번째 인덱스\n",
      "모듬회하고 물회 너무 맛있게 먹었어요초밥도 팔던데 다음에 재방문해서 먹어보려구요\n",
      "레이블 입력하세요: 1\n",
      "2947번째 인덱스\n",
      "너무 맛있게 먹고 갓네요 서비스나 회 신선도나친절함이나 최고에요\n",
      "레이블 입력하세요: 1\n",
      "2948번째 인덱스\n",
      "룸으로 배정 받아서 더 좋은시간 보냈네요\n",
      "레이블 입력하세요: 1\n",
      "2949번째 인덱스\n",
      "맛있어요 점심특선 라멘은 좀 그랬어요\n",
      "레이블 입력하세요: 1\n",
      "2950번째 인덱스\n",
      "차 차로 오는 사람들이 많다보니 많이 시끄럽고 정신이 없어요 \n",
      "레이블 입력하세요: 0\n",
      "2951번째 인덱스\n",
      "자주가는 참치집입니다 맛 친절 양 질 다 좋아용\n",
      "레이블 입력하세요: 1\n",
      "2952번째 인덱스\n",
      "최고였네요 싱싱하고 가성비 좋았습니다 기분 좋게 먹고 나왔어요 친구들에게도 추천하고 싶은 집입니다\n",
      "레이블 입력하세요: 1\n",
      "2953번째 인덱스\n",
      "광어포차 좋아요친절하고 맛있어요\n",
      "레이블 입력하세요: 1\n",
      "2954번째 인덱스\n",
      "회랑 새우튀김도 매운탕도 맛있었어요\n",
      "레이블 입력하세요: 1\n",
      "2955번째 인덱스\n",
      "맛있고 가격도 좋아요\n",
      "레이블 입력하세요: 1\n",
      "2956번째 인덱스\n",
      "여러가지 종류의 회와 해산물이 들어있어서 여러맛 을 느낄수 있었어요 싱싱하고 새콤매콤 맛있고 기본 안주반찬도 맛있어서 술안주로 최고였어\n",
      "레이블 입력하세요: 1\n",
      "2957번째 인덱스\n",
      "특히 전복죽이 맛있어요\n",
      "레이블 입력하세요: 1\n",
      "2958번째 인덱스\n",
      "밴댕회무침에 반했어요\n",
      "레이블 입력하세요: 1\n",
      "2959번째 인덱스\n",
      "회도 싱싱하고 물회도 넘 맛있어요 재방문 의사 퍼\n",
      "레이블 입력하세요: 1\n",
      "2960번째 인덱스\n",
      "해물탕 맛있어요해물이 무지 푸짐해요감동했어요\n",
      "레이블 입력하세요: 1\n",
      "2961번째 인덱스\n",
      "리뷰 보고 왔는데 너무 좋아서 리뷰를 쓰게 되네요 일단 해운대 쪽 조개구이집 자주 다녔는데 주변에서 제일 친절하고 신선한 것 같아요 그리고 양도 \n",
      "레이블 입력하세요: 1\n",
      "2962번째 인덱스\n",
      "고등어 구이가 최고 예요 알탕은 소소\n",
      "레이블 입력하세요: 1\n",
      "2963번째 인덱스\n",
      "내부가 넓고 깔끔해요 양 많고 맛도 좋아요 칼국수 진짜 맛나요 물회에 소면나와요\n",
      "레이블 입력하세요: 1\n",
      "2964번째 인덱스\n",
      "싸고맛있고 써비스좋음\n",
      "레이블 입력하세요: 1\n",
      "2965번째 인덱스\n",
      "사장님이 너무 친절하시고 밥도 정말 맛있어요 부모님모시고 가기도 좋을것 같아요\n",
      "레이블 입력하세요: 1\n",
      "2966번째 인덱스\n",
      "맛있게 잘 먹었습니다 겨울에 먹는 회가 역시 맛있습니다 사장님이 친절하고 서비스 듬뿍주셔서 기분좋게 먹고 왔네요 \n",
      "레이블 입력하세요: 1\n",
      "2967번째 인덱스\n",
      "다시 호남식당에서 포장해요 소라 고동 오징어 푸짐합니다\n",
      "레이블 입력하세요: 1\n",
      "2968번째 인덱스\n",
      "킹크랩대게 세트 완전 좋아요추천만족합니다\n",
      "레이블 입력하세요: 1\n",
      "2969번째 인덱스\n",
      "좋아하던 곳이라 자주 방문했었는데 이번엔 많이 실 망스럽습니다 원 인분을 주문했는데 회 양 은 너무 적고 해산물 사이즈도 작고 소스류는 \n",
      "레이블 입력하세요: 0\n",
      "2970번째 인덱스\n",
      "한과장님이 특별히 친절하세요\n",
      "레이블 입력하세요: 1\n",
      "2971번째 인덱스\n",
      "올해 처음 홍게맛본날살이 꽉 차서 먹을만했어요\n",
      "레이블 입력하세요: 1\n",
      "2972번째 인덱스\n",
      "오징어회와 오징어무침 궁합좋게 잘먹었습니다\n",
      "레이블 입력하세요: 1\n",
      "2973번째 인덱스\n",
      "개별로 나와있는데로 주지도 않고 위아래 뭐 따로 있는것같은데 서로 의사소통도 안되는거 같구요 뭐 는 없다 없다 새우튀김기다리는데 다먹\n",
      "레이블 입력하세요: 0\n",
      "2974번째 인덱스\n",
      "회도 두툼하고 맛있는데 미역국이 짱 맛있어요\n",
      "레이블 입력하세요: 1\n",
      "2975번째 인덱스\n",
      "처음 아무 생각없이 왔다가 친구랑 말도 안하고 먹기만 했어요 짱맛있어요 직원분도 엄청 친절하세용\n",
      "레이블 입력하세요: 1\n",
      "2976번째 인덱스\n",
      "가격대비 음식양이 많고 맛나요\n",
      "레이블 입력하세요: 1\n",
      "2977번째 인덱스\n",
      "이렇게 만족스러운 장어구이는 처음이에요 많이 좋아하는 메뉴가 아닌데도 배가 터질때까지 먹었어요 존맛\n",
      "레이블 입력하세요: 1\n",
      "2978번째 인덱스\n",
      "음식이 신선한 느낌이라모임하기 좋아요\n",
      "레이블 입력하세요: 1\n",
      "2979번째 인덱스\n",
      "친절하시구 조개구이도 양도 많고 마싯었어요 월미도 오셔서 조개구이나 횟집 고민하시지 마식고 여기 가셔도 좋을 거 같아요\n",
      "레이블 입력하세요: 1\n",
      "2980번째 인덱스\n",
      "싱싱한 제철 생선들이 많아요\n",
      "레이블 입력하세요: 1\n",
      "2981번째 인덱스\n",
      "수산물 시장에서 회 사서 올라가면 셋팅해줘요 수산물 시장가면 항상 여기가요\n",
      "레이블 입력하세요: 1\n",
      "2982번째 인덱스\n",
      "와 진짜 바닷가 근처에서 비싼 가격주고 먹을 때마다 그 가격대비 너무 적고 퀄리티도 낮았는데 이런 맛 집 처음이예요 일단 스키가 엄청 많고 리필도 \n",
      "레이블 입력하세요: 0\n",
      "2983번째 인덱스\n",
      "랍스터칼국수해물파전 맛있게 먹었네요\n",
      "레이블 입력하세요: 1\n",
      "2984번째 인덱스\n",
      "대박 완전 맛있었어요 푸짐하게 나온 스끼다시부 터 신선하고 쫄깃쫄깃한 회 사장님과 직원분들은 친절하게 대해주시공 정말 배불리 잘 먹었습\n",
      "레이블 입력하세요: 1\n",
      "2985번째 인덱스\n",
      "가성비 좋은 횟집이었습니다 \n",
      "레이블 입력하세요: 1\n",
      "2986번째 인덱스\n",
      "원 코스 인 먹고 왔어요 다양한 해삼물과 회를 함께 즐길 수 있는 곳입니다 너무 친절하시고 잘 먹고 왔습니다 \n",
      "레이블 입력하세요: 1\n",
      "2987번째 인덱스\n",
      "추운날씨에 따뜻히가한난로가참잘어울리네요\n",
      "레이블 입력하세요: 1\n",
      "2988번째 인덱스\n",
      "깔끔하고 친절하고 맛도 괜찮았어요\n",
      "레이블 입력하세요: 1\n",
      "2989번째 인덱스\n",
      "스끼다시가 진짜 푸짐하고 무한으로 리필해 주시네요 그리고 메인메뉴 회가 도톰하니 맛있어요 기본으로 제공해주는 김초밥 맛나요 그리고 와사\n",
      "레이블 입력하세요: 1\n",
      "2990번째 인덱스\n",
      "해물탕이 얼큰하고 맛있네요\n",
      "레이블 입력하세요: 1\n",
      "2991번째 인덱스\n",
      "차장분 말고는 스시만드시는분 마스크도 안쓰고 핸드폰만지고 좀 찝찝했어요 우동은 방금끓여나왔는데 오래 끓인것 처럼 면이 불어서 나왔네요 \n",
      "레이블 입력하세요: 0\n",
      "2992번째 인덱스\n",
      "사장님도 너무착하시고 조개 양이 많아서 푸짐하게먹어요\n",
      "레이블 입력하세요: 1\n",
      "2993번째 인덱스\n",
      "가성비 최고의 맛있는 횟집이네요 생선회도 도톰하니 좋고 다양한 해산물에 시원한 지리탕까지 거기에 친철한 직원분들 애들 신나게 노는 놀이방도 \n",
      "레이블 입력하세요: 1\n",
      "2994번째 인덱스\n",
      "치자면사리 신박해요면사리추가 못참지 못참지증말증말 맛있어요\n",
      "레이블 입력하세요: 1\n",
      "2995번째 인덱스\n",
      "사시미 종류도 많고 양도 좋아용\n",
      "레이블 입력하세요: 1\n",
      "2996번째 인덱스\n",
      "절대 가지마세요 점도 못줌 성남동 관평동 용문동 에서 자주 애용하면서 체인점이라도 막연한 믿음으 로 간 건데 이게 멍게 만원 어치고 포장 상태 \n",
      "레이블 입력하세요: 0\n",
      "2997번째 인덱스\n",
      "양도 엄청 많고 맛잇어용\n",
      "레이블 입력하세요: 1\n",
      "2998번째 인덱스\n",
      "너무 맛있어요 사장님도 친절하셔서 기분 좋게 먹다갑니다\n",
      "레이블 입력하세요: 1\n",
      "2999번째 인덱스\n",
      "을왕리 횟집 찾으시는분들 고고고 진짜 맛있습니다 가격도 좋고\n",
      "레이블 입력하세요: 1\n"
     ]
    }
   ],
   "source": [
    "for i in range(df['Label'].count(), 3000):\n",
    "    print(f'{i}번째 인덱스')\n",
    "    print(df.loc[i,'Review'])\n",
    "    label = input(\"레이블 입력하세요: \")\n",
    "    label = int(label)\n",
    "    df.loc[i,'Label'] = label"
   ]
  },
  {
   "cell_type": "code",
   "execution_count": 84,
   "id": "42bcbaf5",
   "metadata": {},
   "outputs": [
    {
     "data": {
      "text/plain": [
       "3000"
      ]
     },
     "execution_count": 84,
     "metadata": {},
     "output_type": "execute_result"
    }
   ],
   "source": [
    "df.value_counts(['Label']).sum()"
   ]
  },
  {
   "cell_type": "code",
   "execution_count": 87,
   "id": "31fbce3f",
   "metadata": {},
   "outputs": [
    {
     "data": {
      "text/html": [
       "<div>\n",
       "<style scoped>\n",
       "    .dataframe tbody tr th:only-of-type {\n",
       "        vertical-align: middle;\n",
       "    }\n",
       "\n",
       "    .dataframe tbody tr th {\n",
       "        vertical-align: top;\n",
       "    }\n",
       "\n",
       "    .dataframe thead th {\n",
       "        text-align: right;\n",
       "    }\n",
       "</style>\n",
       "<table border=\"1\" class=\"dataframe\">\n",
       "  <thead>\n",
       "    <tr style=\"text-align: right;\">\n",
       "      <th></th>\n",
       "      <th>Review</th>\n",
       "      <th>Label</th>\n",
       "    </tr>\n",
       "  </thead>\n",
       "  <tbody>\n",
       "    <tr>\n",
       "      <th>0</th>\n",
       "      <td>지금까지 다녀봤던 참치집 중 부위가 가장 좋았던거 같아요 어묵탕 샐러드 생선조림 순...</td>\n",
       "      <td>1.0</td>\n",
       "    </tr>\n",
       "    <tr>\n",
       "      <th>1</th>\n",
       "      <td>처음 들어갈땐 사장님이 계신거같더니 먹는 중에는 퇴근하셨나 벨을 눌러도 안오네요 보...</td>\n",
       "      <td>0.0</td>\n",
       "    </tr>\n",
       "    <tr>\n",
       "      <th>2</th>\n",
       "      <td>가족들 다 참치회를 좋아해서 생일겸 맛있는 참치회 먹으려고 집근처로 찾아보던중에 알...</td>\n",
       "      <td>1.0</td>\n",
       "    </tr>\n",
       "    <tr>\n",
       "      <th>3</th>\n",
       "      <td>일등참치 맛집참치 가성비참치 최고참치 증독참치 구청뒤쪽에서 신설동으로 계속 딸라다닐...</td>\n",
       "      <td>1.0</td>\n",
       "    </tr>\n",
       "    <tr>\n",
       "      <th>4</th>\n",
       "      <td>음식이 깔끔하고 맛있네요</td>\n",
       "      <td>1.0</td>\n",
       "    </tr>\n",
       "    <tr>\n",
       "      <th>...</th>\n",
       "      <td>...</td>\n",
       "      <td>...</td>\n",
       "    </tr>\n",
       "    <tr>\n",
       "      <th>2995</th>\n",
       "      <td>사시미 종류도 많고 양도 좋아용</td>\n",
       "      <td>1.0</td>\n",
       "    </tr>\n",
       "    <tr>\n",
       "      <th>2996</th>\n",
       "      <td>절대 가지마세요 점도 못줌 성남동 관평동 용문동 에서 자주 애용하면서 체인점이라도 ...</td>\n",
       "      <td>0.0</td>\n",
       "    </tr>\n",
       "    <tr>\n",
       "      <th>2997</th>\n",
       "      <td>양도 엄청 많고 맛잇어용</td>\n",
       "      <td>1.0</td>\n",
       "    </tr>\n",
       "    <tr>\n",
       "      <th>2998</th>\n",
       "      <td>너무 맛있어요 사장님도 친절하셔서 기분 좋게 먹다갑니다</td>\n",
       "      <td>1.0</td>\n",
       "    </tr>\n",
       "    <tr>\n",
       "      <th>2999</th>\n",
       "      <td>을왕리 횟집 찾으시는분들 고고고 진짜 맛있습니다 가격도 좋고</td>\n",
       "      <td>1.0</td>\n",
       "    </tr>\n",
       "  </tbody>\n",
       "</table>\n",
       "<p>3000 rows × 2 columns</p>\n",
       "</div>"
      ],
      "text/plain": [
       "                                                 Review  Label\n",
       "0     지금까지 다녀봤던 참치집 중 부위가 가장 좋았던거 같아요 어묵탕 샐러드 생선조림 순...    1.0\n",
       "1     처음 들어갈땐 사장님이 계신거같더니 먹는 중에는 퇴근하셨나 벨을 눌러도 안오네요 보...    0.0\n",
       "2     가족들 다 참치회를 좋아해서 생일겸 맛있는 참치회 먹으려고 집근처로 찾아보던중에 알...    1.0\n",
       "3     일등참치 맛집참치 가성비참치 최고참치 증독참치 구청뒤쪽에서 신설동으로 계속 딸라다닐...    1.0\n",
       "4                                         음식이 깔끔하고 맛있네요    1.0\n",
       "...                                                 ...    ...\n",
       "2995                                  사시미 종류도 많고 양도 좋아용    1.0\n",
       "2996  절대 가지마세요 점도 못줌 성남동 관평동 용문동 에서 자주 애용하면서 체인점이라도 ...    0.0\n",
       "2997                                      양도 엄청 많고 맛잇어용    1.0\n",
       "2998                     너무 맛있어요 사장님도 친절하셔서 기분 좋게 먹다갑니다    1.0\n",
       "2999                  을왕리 횟집 찾으시는분들 고고고 진짜 맛있습니다 가격도 좋고    1.0\n",
       "\n",
       "[3000 rows x 2 columns]"
      ]
     },
     "execution_count": 87,
     "metadata": {},
     "output_type": "execute_result"
    }
   ],
   "source": [
    "result = df.iloc[:3000,:]\n",
    "result"
   ]
  },
  {
   "cell_type": "code",
   "execution_count": 93,
   "id": "0aa2143d",
   "metadata": {},
   "outputs": [],
   "source": [
    "result = result.astype({'Label':'int'})"
   ]
  },
  {
   "cell_type": "code",
   "execution_count": 94,
   "id": "e00be2ca",
   "metadata": {},
   "outputs": [
    {
     "data": {
      "text/html": [
       "<div>\n",
       "<style scoped>\n",
       "    .dataframe tbody tr th:only-of-type {\n",
       "        vertical-align: middle;\n",
       "    }\n",
       "\n",
       "    .dataframe tbody tr th {\n",
       "        vertical-align: top;\n",
       "    }\n",
       "\n",
       "    .dataframe thead th {\n",
       "        text-align: right;\n",
       "    }\n",
       "</style>\n",
       "<table border=\"1\" class=\"dataframe\">\n",
       "  <thead>\n",
       "    <tr style=\"text-align: right;\">\n",
       "      <th></th>\n",
       "      <th>Review</th>\n",
       "      <th>Label</th>\n",
       "    </tr>\n",
       "  </thead>\n",
       "  <tbody>\n",
       "    <tr>\n",
       "      <th>0</th>\n",
       "      <td>지금까지 다녀봤던 참치집 중 부위가 가장 좋았던거 같아요 어묵탕 샐러드 생선조림 순...</td>\n",
       "      <td>1</td>\n",
       "    </tr>\n",
       "    <tr>\n",
       "      <th>1</th>\n",
       "      <td>처음 들어갈땐 사장님이 계신거같더니 먹는 중에는 퇴근하셨나 벨을 눌러도 안오네요 보...</td>\n",
       "      <td>0</td>\n",
       "    </tr>\n",
       "    <tr>\n",
       "      <th>2</th>\n",
       "      <td>가족들 다 참치회를 좋아해서 생일겸 맛있는 참치회 먹으려고 집근처로 찾아보던중에 알...</td>\n",
       "      <td>1</td>\n",
       "    </tr>\n",
       "    <tr>\n",
       "      <th>3</th>\n",
       "      <td>일등참치 맛집참치 가성비참치 최고참치 증독참치 구청뒤쪽에서 신설동으로 계속 딸라다닐...</td>\n",
       "      <td>1</td>\n",
       "    </tr>\n",
       "    <tr>\n",
       "      <th>4</th>\n",
       "      <td>음식이 깔끔하고 맛있네요</td>\n",
       "      <td>1</td>\n",
       "    </tr>\n",
       "    <tr>\n",
       "      <th>...</th>\n",
       "      <td>...</td>\n",
       "      <td>...</td>\n",
       "    </tr>\n",
       "    <tr>\n",
       "      <th>2995</th>\n",
       "      <td>사시미 종류도 많고 양도 좋아용</td>\n",
       "      <td>1</td>\n",
       "    </tr>\n",
       "    <tr>\n",
       "      <th>2996</th>\n",
       "      <td>절대 가지마세요 점도 못줌 성남동 관평동 용문동 에서 자주 애용하면서 체인점이라도 ...</td>\n",
       "      <td>0</td>\n",
       "    </tr>\n",
       "    <tr>\n",
       "      <th>2997</th>\n",
       "      <td>양도 엄청 많고 맛잇어용</td>\n",
       "      <td>1</td>\n",
       "    </tr>\n",
       "    <tr>\n",
       "      <th>2998</th>\n",
       "      <td>너무 맛있어요 사장님도 친절하셔서 기분 좋게 먹다갑니다</td>\n",
       "      <td>1</td>\n",
       "    </tr>\n",
       "    <tr>\n",
       "      <th>2999</th>\n",
       "      <td>을왕리 횟집 찾으시는분들 고고고 진짜 맛있습니다 가격도 좋고</td>\n",
       "      <td>1</td>\n",
       "    </tr>\n",
       "  </tbody>\n",
       "</table>\n",
       "<p>3000 rows × 2 columns</p>\n",
       "</div>"
      ],
      "text/plain": [
       "                                                 Review  Label\n",
       "0     지금까지 다녀봤던 참치집 중 부위가 가장 좋았던거 같아요 어묵탕 샐러드 생선조림 순...      1\n",
       "1     처음 들어갈땐 사장님이 계신거같더니 먹는 중에는 퇴근하셨나 벨을 눌러도 안오네요 보...      0\n",
       "2     가족들 다 참치회를 좋아해서 생일겸 맛있는 참치회 먹으려고 집근처로 찾아보던중에 알...      1\n",
       "3     일등참치 맛집참치 가성비참치 최고참치 증독참치 구청뒤쪽에서 신설동으로 계속 딸라다닐...      1\n",
       "4                                         음식이 깔끔하고 맛있네요      1\n",
       "...                                                 ...    ...\n",
       "2995                                  사시미 종류도 많고 양도 좋아용      1\n",
       "2996  절대 가지마세요 점도 못줌 성남동 관평동 용문동 에서 자주 애용하면서 체인점이라도 ...      0\n",
       "2997                                      양도 엄청 많고 맛잇어용      1\n",
       "2998                     너무 맛있어요 사장님도 친절하셔서 기분 좋게 먹다갑니다      1\n",
       "2999                  을왕리 횟집 찾으시는분들 고고고 진짜 맛있습니다 가격도 좋고      1\n",
       "\n",
       "[3000 rows x 2 columns]"
      ]
     },
     "execution_count": 94,
     "metadata": {},
     "output_type": "execute_result"
    }
   ],
   "source": [
    "result"
   ]
  },
  {
   "cell_type": "code",
   "execution_count": 98,
   "id": "4e2a7e3f",
   "metadata": {},
   "outputs": [
    {
     "data": {
      "text/plain": [
       "array([1, 0, 1, ..., 1, 1, 1])"
      ]
     },
     "execution_count": 98,
     "metadata": {},
     "output_type": "execute_result"
    }
   ],
   "source": [
    "result['Label'].values"
   ]
  },
  {
   "cell_type": "code",
   "execution_count": 101,
   "id": "1bc856d1",
   "metadata": {},
   "outputs": [],
   "source": [
    "# 관계없는 리뷰 삭제\n",
    "drop_index = result[result['Label'] > 1].index\n",
    "result.drop(drop_index,inplace=True)"
   ]
  },
  {
   "cell_type": "code",
   "execution_count": 102,
   "id": "7477e6a7",
   "metadata": {},
   "outputs": [],
   "source": [
    "result.reset_index(drop=True,inplace=True)"
   ]
  },
  {
   "cell_type": "code",
   "execution_count": 103,
   "id": "1af6a2e3",
   "metadata": {},
   "outputs": [
    {
     "data": {
      "text/plain": [
       "Label\n",
       "1        2405\n",
       "0         527\n",
       "dtype: int64"
      ]
     },
     "execution_count": 103,
     "metadata": {},
     "output_type": "execute_result"
    }
   ],
   "source": [
    "result.value_counts(['Label'])"
   ]
  },
  {
   "cell_type": "code",
   "execution_count": 105,
   "id": "bf66bb65",
   "metadata": {},
   "outputs": [],
   "source": [
    "#객체 저장\n",
    "import pickle\n",
    "with open('result.pickle', 'wb') as f:\n",
    "    pickle.dump(result,f)"
   ]
  },
  {
   "cell_type": "code",
   "execution_count": null,
   "id": "8d6a2520",
   "metadata": {},
   "outputs": [],
   "source": []
  }
 ],
 "metadata": {
  "kernelspec": {
   "display_name": "Python 3 (ipykernel)",
   "language": "python",
   "name": "python3"
  },
  "language_info": {
   "codemirror_mode": {
    "name": "ipython",
    "version": 3
   },
   "file_extension": ".py",
   "mimetype": "text/x-python",
   "name": "python",
   "nbconvert_exporter": "python",
   "pygments_lexer": "ipython3",
   "version": "3.9.12"
  }
 },
 "nbformat": 4,
 "nbformat_minor": 5
}
