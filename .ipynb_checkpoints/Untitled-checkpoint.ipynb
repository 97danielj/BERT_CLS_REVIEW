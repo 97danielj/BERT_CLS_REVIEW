{
 "cells": [
  {
   "cell_type": "markdown",
   "id": "ebb6a81a",
   "metadata": {},
   "source": [
    "# 1. 문자 단위 RNN 언어 모델(Char RNNLM)"
   ]
  },
  {
   "cell_type": "markdown",
   "id": "65a46d39",
   "metadata": {},
   "source": [
    "## 1) 데이터에 대한 이해와 전처리"
   ]
  },
  {
   "cell_type": "code",
   "execution_count": 4,
   "id": "3939697f",
   "metadata": {},
   "outputs": [],
   "source": [
    "import numpy as np\n",
    "import urllib.request\n",
    "from tensorflow.keras.utils import to_categorical\n",
    "\n",
    "# 데이터 로드\n",
    "#urllib.request.urlretrieve(\"http://www.gutenberg.org/files/11/11-0.txt\", filename=\"11-0.txt\")\n",
    "\n",
    "f = open('11-0.txt', 'rb')\n",
    "sentences = []\n",
    "for sentence in f: # 데이터로부터 한 줄씩 읽는다.\n",
    "    sentence = sentence.strip() # strip()을 통해 \\r, \\n을 제거한다.\n",
    "    sentence = sentence.lower() # 소문자화.\n",
    "    sentence = sentence.decode('ascii', 'ignore') # \\xe2\\x80\\x99 등과 같은 바이트 열 제거\n",
    "    if len(sentence) > 0:\n",
    "        sentences.append(sentence)\n",
    "f.close()"
   ]
  },
  {
   "cell_type": "code",
   "execution_count": 5,
   "id": "52edcdf8",
   "metadata": {},
   "outputs": [
    {
     "data": {
      "text/plain": [
       "['the project gutenberg ebook of alices adventures in wonderland, by lewis carroll',\n",
       " 'this ebook is for the use of anyone anywhere in the united states and',\n",
       " 'most other parts of the world at no cost and with almost no restrictions',\n",
       " 'whatsoever. you may copy it, give it away or re-use it under the terms',\n",
       " 'of the project gutenberg license included with this ebook or online at']"
      ]
     },
     "execution_count": 5,
     "metadata": {},
     "output_type": "execute_result"
    }
   ],
   "source": [
    "sentences[:5]"
   ]
  },
  {
   "cell_type": "code",
   "execution_count": 6,
   "id": "f122ca6e",
   "metadata": {},
   "outputs": [
    {
     "name": "stdout",
     "output_type": "stream",
     "text": [
      "문자열의 길이 또는 총 문자의 개수: 159484\n"
     ]
    }
   ],
   "source": [
    "#하나의 문자열로 재생산\n",
    "total_data = ' '.join(sentences)\n",
    "print('문자열의 길이 또는 총 문자의 개수: %d' % len(total_data))"
   ]
  },
  {
   "cell_type": "code",
   "execution_count": 7,
   "id": "94036dda",
   "metadata": {},
   "outputs": [
    {
     "name": "stdout",
     "output_type": "stream",
     "text": [
      "the project gutenberg ebook of alices adventures in wonderland, by lewis carroll this ebook is for the use of anyone anywhere in the united states and most other parts of the world at no cost and with\n"
     ]
    }
   ],
   "source": [
    "print(total_data[:200])"
   ]
  },
  {
   "cell_type": "markdown",
   "id": "018fc9ed",
   "metadata": {},
   "source": [
    "## 2. 문자 집합 생성\n",
    "기존에는 단어집합 -> 중복제거가 필요"
   ]
  },
  {
   "cell_type": "code",
   "execution_count": 8,
   "id": "f0cc7712",
   "metadata": {},
   "outputs": [],
   "source": [
    "#set으로 중복 문자 제거\n",
    "# set-> list로\n",
    "# sorted로 사전 순서대로 재배치\n",
    "char_vocab = sorted(list(set(total_data)))\n"
   ]
  },
  {
   "cell_type": "code",
   "execution_count": 9,
   "id": "d131bdb0",
   "metadata": {},
   "outputs": [
    {
     "name": "stdout",
     "output_type": "stream",
     "text": [
      "문자 집합의 크기 : 56\n"
     ]
    }
   ],
   "source": [
    "vocab_size = len(char_vocab)\n",
    "print('문자 집합의 크기 : {}'.format(vocab_size))"
   ]
  },
  {
   "cell_type": "raw",
   "id": "0739b271",
   "metadata": {},
   "source": [
    "영어가 훈련 데이터 일 때 문자 집합의 크기는 단어 집합을 사용했을 경우보다 현저히 작습니다.\n",
    "-> 사용되는 알파벳이 26개 이기 때문\n",
    "-> 대소 문자 구분이더라도 최대 52개 알파벳이다.\n",
    "어떤 방대한 영의 텍스트라도 집합의 크기를 적게 가져갈 수 있다는 것은 구현과 테스트를 굉장히 쉽게 할 수 있다는 이점을 가지므로, RNN의 동작 메커니즘 이해를 위한 토이프로젝트 용도로 유용하빈다."
   ]
  },
  {
   "cell_type": "code",
   "execution_count": 10,
   "id": "e3200cf6",
   "metadata": {},
   "outputs": [],
   "source": [
    "# 문자에 고유한 정수 부여\n",
    "char_to_index = dict((char,index) for index, char in enumerate(char_vocab))"
   ]
  },
  {
   "cell_type": "code",
   "execution_count": 11,
   "id": "19a35d42",
   "metadata": {},
   "outputs": [
    {
     "name": "stdout",
     "output_type": "stream",
     "text": [
      "문자 집합 :  {' ': 0, '!': 1, '\"': 2, '#': 3, '$': 4, '%': 5, \"'\": 6, '(': 7, ')': 8, '*': 9, ',': 10, '-': 11, '.': 12, '/': 13, '0': 14, '1': 15, '2': 16, '3': 17, '4': 18, '5': 19, '6': 20, '7': 21, '8': 22, '9': 23, ':': 24, ';': 25, '?': 26, '[': 27, ']': 28, '_': 29, 'a': 30, 'b': 31, 'c': 32, 'd': 33, 'e': 34, 'f': 35, 'g': 36, 'h': 37, 'i': 38, 'j': 39, 'k': 40, 'l': 41, 'm': 42, 'n': 43, 'o': 44, 'p': 45, 'q': 46, 'r': 47, 's': 48, 't': 49, 'u': 50, 'v': 51, 'w': 52, 'x': 53, 'y': 54, 'z': 55}\n"
     ]
    }
   ],
   "source": [
    "print('문자 집합 : ', char_to_index)"
   ]
  },
  {
   "cell_type": "markdown",
   "id": "461ea1f0",
   "metadata": {},
   "source": [
    "반대로 정수-> index 딕셔너리 생성"
   ]
  },
  {
   "cell_type": "code",
   "execution_count": 12,
   "id": "79ac5b41",
   "metadata": {},
   "outputs": [],
   "source": [
    "index_to_char ={}\n",
    "for char, index in char_to_index.items():\n",
    "    index_to_char[index] = char"
   ]
  },
  {
   "cell_type": "markdown",
   "id": "df2b34ea",
   "metadata": {},
   "source": [
    "## 2. 훈련 데이터를 구성"
   ]
  },
  {
   "cell_type": "markdown",
   "id": "edb50b89",
   "metadata": {},
   "source": [
    "훈련 데이터 구성을 위한 간소화 된 예츨 들어봅시다.\n",
    "훈련 데이터에 apple이라는 시퀀스가 있고, 입력의 길이가 4로 정했습니다.\n",
    "데이터 구성은 어떻게 될까?\n",
    "**입력의 길이가 4**이므로 입력 시퀀스와 예측해야 하는 **출력 시퀀스 모두 길이는 4가 됩니다.**\n",
    "다시 말해 RNN은 총 **네번의 시점(timestep)** 을 가질 수 있다는 의미입니다. apple은 다섯 글자이지만 입력의 길이는 4이므로 'appl'까지만 입력으로 사용할 수 있습니다.\n",
    "그리고 언어 모델은 다음 시점의 입력을 예측해야하는 모델이므로 'pple'를 예측하도록 데이터가 구성됩니다."
   ]
  },
  {
   "cell_type": "code",
   "execution_count": 13,
   "id": "c29faf5f",
   "metadata": {},
   "outputs": [],
   "source": [
    "# appl (입력 시퀀스) -> pple (예측해야하는 시퀀스)\n",
    "train_X = 'appl'\n",
    "train_y = 'pple'"
   ]
  },
  {
   "cell_type": "markdown",
   "id": "3a023b6c",
   "metadata": {},
   "source": [
    "### 2-1 다수의 샘플 생성\n",
    "1. 문장 샘플의 길이를 정하고, 해당 길이만큼 문자열 전체를 등분하는 것입니다.\n",
    "2. 문장 길이를 60으로 정했다. 결국 15만 9천을 60으로 나눈 수가 샘플의 수가 됩니ㅏㄷ."
   ]
  },
  {
   "cell_type": "code",
   "execution_count": 14,
   "id": "7669e8f5",
   "metadata": {},
   "outputs": [],
   "source": [
    "# appl (입력 시퀀스) -> pple (예측해야하는 시퀀스)\n",
    "train_X = 'appl'\n",
    "train_y = 'pple'"
   ]
  },
  {
   "cell_type": "code",
   "execution_count": 15,
   "id": "62b48113",
   "metadata": {},
   "outputs": [],
   "source": [
    "seq_length = 60\n",
    "# 문자열 길이를 seq_length로 나누면 전처리 후 생겨날 샘풀 수"
   ]
  },
  {
   "cell_type": "code",
   "execution_count": 16,
   "id": "2e923efc",
   "metadata": {},
   "outputs": [],
   "source": [
    "n_samples = len(total_data) // seq_length"
   ]
  },
  {
   "cell_type": "code",
   "execution_count": 17,
   "id": "7372becf",
   "metadata": {},
   "outputs": [
    {
     "data": {
      "text/plain": [
       "2658"
      ]
     },
     "execution_count": 17,
     "metadata": {},
     "output_type": "execute_result"
    }
   ],
   "source": [
    "n_samples"
   ]
  },
  {
   "cell_type": "markdown",
   "id": "88ef3efd",
   "metadata": {},
   "source": [
    "## 3. 전처리"
   ]
  },
  {
   "cell_type": "code",
   "execution_count": 18,
   "id": "c355d77f",
   "metadata": {},
   "outputs": [],
   "source": [
    "train_X = []\n",
    "train_y = []\n",
    "\n",
    "for i in range(n_samples):\n",
    "    # 0:60 -> 60:120 -> 120:180로 loop를 돌면서 문장 샘플을 1개씩 pick.\n",
    "    X_sample = total_data[i * seq_length: (i + 1) * seq_length]\n",
    "\n",
    "    # 정수 인코딩\n",
    "    X_encoded = [char_to_index[c] for c in X_sample]\n",
    "    train_X.append(X_encoded)\n",
    "\n",
    "    # 오른쪽으로 1칸 쉬프트\n",
    "    y_sample = total_data[i * seq_length + 1: (i + 1) * seq_length + 1]\n",
    "    y_encoded = [char_to_index[c] for c in y_sample]\n",
    "    train_y.append(y_encoded)"
   ]
  },
  {
   "cell_type": "code",
   "execution_count": 19,
   "id": "c68e60ca",
   "metadata": {},
   "outputs": [
    {
     "name": "stdout",
     "output_type": "stream",
     "text": [
      "X 데이터의 첫번째 샘플 : [49, 37, 34, 0, 45, 47, 44, 39, 34, 32, 49, 0, 36, 50, 49, 34, 43, 31, 34, 47, 36, 0, 34, 31, 44, 44, 40, 0, 44, 35, 0, 30, 41, 38, 32, 34, 48, 0, 30, 33, 51, 34, 43, 49, 50, 47, 34, 48, 0, 38, 43, 0, 52, 44, 43, 33, 34, 47, 41, 30]\n",
      "y 데이터의 첫번째 샘플 : [37, 34, 0, 45, 47, 44, 39, 34, 32, 49, 0, 36, 50, 49, 34, 43, 31, 34, 47, 36, 0, 34, 31, 44, 44, 40, 0, 44, 35, 0, 30, 41, 38, 32, 34, 48, 0, 30, 33, 51, 34, 43, 49, 50, 47, 34, 48, 0, 38, 43, 0, 52, 44, 43, 33, 34, 47, 41, 30, 43]\n",
      "--------------------------------------------------\n",
      "X 데이터의 첫번째 샘플 디코딩 : ['t', 'h', 'e', ' ', 'p', 'r', 'o', 'j', 'e', 'c', 't', ' ', 'g', 'u', 't', 'e', 'n', 'b', 'e', 'r', 'g', ' ', 'e', 'b', 'o', 'o', 'k', ' ', 'o', 'f', ' ', 'a', 'l', 'i', 'c', 'e', 's', ' ', 'a', 'd', 'v', 'e', 'n', 't', 'u', 'r', 'e', 's', ' ', 'i', 'n', ' ', 'w', 'o', 'n', 'd', 'e', 'r', 'l', 'a']\n",
      "y 데이터의 첫번째 샘플 디코딩 : ['h', 'e', ' ', 'p', 'r', 'o', 'j', 'e', 'c', 't', ' ', 'g', 'u', 't', 'e', 'n', 'b', 'e', 'r', 'g', ' ', 'e', 'b', 'o', 'o', 'k', ' ', 'o', 'f', ' ', 'a', 'l', 'i', 'c', 'e', 's', ' ', 'a', 'd', 'v', 'e', 'n', 't', 'u', 'r', 'e', 's', ' ', 'i', 'n', ' ', 'w', 'o', 'n', 'd', 'e', 'r', 'l', 'a', 'n']\n"
     ]
    }
   ],
   "source": [
    "print('X 데이터의 첫번째 샘플 :',train_X[0])\n",
    "print('y 데이터의 첫번째 샘플 :',train_y[0])\n",
    "print('-'*50)\n",
    "print('X 데이터의 첫번째 샘플 디코딩 :',[index_to_char[i] for i in train_X[0]])\n",
    "print('y 데이터의 첫번째 샘플 디코딩 :',[index_to_char[i] for i in train_y[0]])"
   ]
  },
  {
   "cell_type": "raw",
   "id": "e703037e",
   "metadata": {},
   "source": [
    "train_y[0]은 train_X[0]에서 오른쪽으로 한 칸 쉬프트 된 문장임을 알 수 있습니다. train_X와 train_y의 두번째 샘플. 즉, 인덱스가 1번인 샘플을 출력하여 데이터의 구성을 확인해봅시다."
   ]
  },
  {
   "cell_type": "code",
   "execution_count": 20,
   "id": "eaed1337",
   "metadata": {},
   "outputs": [
    {
     "name": "stdout",
     "output_type": "stream",
     "text": [
      "X 데이터의 첫번째 샘플 : [43, 33, 10, 0, 31, 54, 0, 41, 34, 52, 38, 48, 0, 32, 30, 47, 47, 44, 41, 41, 0, 49, 37, 38, 48, 0, 34, 31, 44, 44, 40, 0, 38, 48, 0, 35, 44, 47, 0, 49, 37, 34, 0, 50, 48, 34, 0, 44, 35, 0, 30, 43, 54, 44, 43, 34, 0, 30, 43, 54]\n",
      "y 데이터의 첫번째 샘플 : [33, 10, 0, 31, 54, 0, 41, 34, 52, 38, 48, 0, 32, 30, 47, 47, 44, 41, 41, 0, 49, 37, 38, 48, 0, 34, 31, 44, 44, 40, 0, 38, 48, 0, 35, 44, 47, 0, 49, 37, 34, 0, 50, 48, 34, 0, 44, 35, 0, 30, 43, 54, 44, 43, 34, 0, 30, 43, 54, 52]\n"
     ]
    }
   ],
   "source": [
    "print('X 데이터의 첫번째 샘플 :',train_X[1])\n",
    "print('y 데이터의 첫번째 샘플 :',train_y[1])"
   ]
  },
  {
   "cell_type": "raw",
   "id": "96b198aa",
   "metadata": {},
   "source": [
    "제 train_X와 train_y에 대해서 원-핫 인코딩을 수행합니다. 문자 단위 RNN에서는 입력 시퀀스에 대해서 워드 임베딩을 하지 않습니다. 다시 말해 임베딩층(embedding layer)을 사용하지 않을 것이므로, 입력 시퀀스인 train_X에 대해서도 원-핫 인코딩을 합니다."
   ]
  },
  {
   "cell_type": "code",
   "execution_count": 21,
   "id": "06dda394",
   "metadata": {},
   "outputs": [
    {
     "name": "stdout",
     "output_type": "stream",
     "text": [
      "train_X의 크기(shape) : (2658, 60, 56)\n",
      "train_y의 크기(shape) : (2658, 60, 56)\n"
     ]
    }
   ],
   "source": [
    "train_X = to_categorical(train_X)\n",
    "train_y = to_categorical(train_y)\n",
    "\n",
    "print('train_X의 크기(shape) : {}'.format(train_X.shape)) # 원-핫 인코딩\n",
    "print('train_y의 크기(shape) : {}'.format(train_y.shape)) # 원-핫 인코딩"
   ]
  },
  {
   "cell_type": "raw",
   "id": "7f5d3e66",
   "metadata": {},
   "source": [
    "3차원 배열인 이유는?\n",
    "기존 2차원 배열을 원핫 인코딩 했으니\n",
    "기존 1차원 벡터는 하나의 문장(샘플)로 구성 -> 이 벡터 안에 있는 문자 마다 원-핫인코딩을 진행"
   ]
  },
  {
   "cell_type": "markdown",
   "id": "fd9ad059",
   "metadata": {},
   "source": [
    "![img](https://wikidocs.net/images/page/22886/rnn_image6between7.PNG)\n",
    "이는 샘플의 수(No. of samples)가 2,658개, 입력 시퀀스의 길이(input_length)가 60, 각 벡터의 차원(input_dim)이 55임을 의미합니다. 원-핫 벡터의 차원은 문자 집합의 크기인 56이어야 하므로 원-핫 인코딩이 수행되었음을 알 수 있습니다.\n"
   ]
  },
  {
   "cell_type": "markdown",
   "id": "2a6a48fd",
   "metadata": {},
   "source": [
    "## 2) 모델 설계 하기"
   ]
  },
  {
   "cell_type": "raw",
   "id": "54607864",
   "metadata": {},
   "source": [
    "하이퍼파라미터인 은닉 상태의 크기는 256입니다. 모델은 다 대 다 구조의 LSTM을 사용하며, LSTM 은닉층은 두 개를 사용합니다. 전결합층(Fully Connected Layer)을 출력층으로 문자 집합 크기만큼의 뉴런을 배치하여 모델을 설계합니다. 해당 모델은 모든 시점에서 모든 가능한 문자 중 하나의 문자를 예측하는 다중 클래스 분류 문제를 수행하는 모델입니다. 출력층에 소프트맥스 회귀를 사용해야 하므로 활성화 함수로는 소프트맥스 함수를 사용하고, 손실 함수로 크로스 엔트로피 함수를 사용하여 80 에포크를 수행합니다.\n",
    "(1,,56"
   ]
  },
  {
   "cell_type": "code",
   "execution_count": 22,
   "id": "ac5202ec",
   "metadata": {},
   "outputs": [
    {
     "name": "stdout",
     "output_type": "stream",
     "text": [
      "Epoch 1/80\n",
      "84/84 - 23s - loss: 3.0637 - accuracy: 0.1833 - 23s/epoch - 271ms/step\n",
      "Epoch 2/80\n",
      "84/84 - 20s - loss: 2.7193 - accuracy: 0.2496 - 20s/epoch - 243ms/step\n",
      "Epoch 3/80\n",
      "84/84 - 21s - loss: 2.4035 - accuracy: 0.3250 - 21s/epoch - 247ms/step\n",
      "Epoch 4/80\n",
      "84/84 - 21s - loss: 2.2812 - accuracy: 0.3535 - 21s/epoch - 253ms/step\n",
      "Epoch 5/80\n",
      "84/84 - 20s - loss: 2.1935 - accuracy: 0.3760 - 20s/epoch - 242ms/step\n",
      "Epoch 6/80\n",
      "84/84 - 21s - loss: 2.1219 - accuracy: 0.3943 - 21s/epoch - 245ms/step\n",
      "Epoch 7/80\n",
      "84/84 - 20s - loss: 2.0553 - accuracy: 0.4108 - 20s/epoch - 243ms/step\n",
      "Epoch 8/80\n",
      "84/84 - 21s - loss: 2.0042 - accuracy: 0.4229 - 21s/epoch - 253ms/step\n",
      "Epoch 9/80\n",
      "84/84 - 22s - loss: 1.9586 - accuracy: 0.4350 - 22s/epoch - 267ms/step\n",
      "Epoch 10/80\n",
      "84/84 - 21s - loss: 1.9134 - accuracy: 0.4480 - 21s/epoch - 253ms/step\n",
      "Epoch 11/80\n",
      "84/84 - 20s - loss: 1.8747 - accuracy: 0.4568 - 20s/epoch - 243ms/step\n",
      "Epoch 12/80\n",
      "84/84 - 19s - loss: 1.8356 - accuracy: 0.4679 - 19s/epoch - 231ms/step\n",
      "Epoch 13/80\n",
      "84/84 - 20s - loss: 1.8000 - accuracy: 0.4785 - 20s/epoch - 237ms/step\n",
      "Epoch 14/80\n",
      "84/84 - 21s - loss: 1.7668 - accuracy: 0.4879 - 21s/epoch - 251ms/step\n",
      "Epoch 15/80\n",
      "84/84 - 20s - loss: 1.7350 - accuracy: 0.4954 - 20s/epoch - 242ms/step\n",
      "Epoch 16/80\n",
      "84/84 - 20s - loss: 1.7056 - accuracy: 0.5030 - 20s/epoch - 237ms/step\n",
      "Epoch 17/80\n",
      "84/84 - 20s - loss: 1.6756 - accuracy: 0.5099 - 20s/epoch - 235ms/step\n",
      "Epoch 18/80\n",
      "84/84 - 22s - loss: 1.6455 - accuracy: 0.5181 - 22s/epoch - 264ms/step\n",
      "Epoch 19/80\n",
      "84/84 - 21s - loss: 1.6176 - accuracy: 0.5248 - 21s/epoch - 249ms/step\n",
      "Epoch 20/80\n",
      "84/84 - 21s - loss: 1.5881 - accuracy: 0.5329 - 21s/epoch - 249ms/step\n",
      "Epoch 21/80\n",
      "84/84 - 21s - loss: 1.5651 - accuracy: 0.5390 - 21s/epoch - 250ms/step\n",
      "Epoch 22/80\n",
      "84/84 - 21s - loss: 1.5395 - accuracy: 0.5458 - 21s/epoch - 247ms/step\n",
      "Epoch 23/80\n",
      "84/84 - 19s - loss: 1.5122 - accuracy: 0.5533 - 19s/epoch - 228ms/step\n",
      "Epoch 24/80\n",
      "84/84 - 20s - loss: 1.4844 - accuracy: 0.5614 - 20s/epoch - 241ms/step\n",
      "Epoch 25/80\n",
      "84/84 - 20s - loss: 1.4587 - accuracy: 0.5684 - 20s/epoch - 236ms/step\n",
      "Epoch 26/80\n",
      "84/84 - 20s - loss: 1.4336 - accuracy: 0.5751 - 20s/epoch - 237ms/step\n",
      "Epoch 27/80\n",
      "84/84 - 20s - loss: 1.4072 - accuracy: 0.5825 - 20s/epoch - 240ms/step\n",
      "Epoch 28/80\n",
      "84/84 - 20s - loss: 1.3853 - accuracy: 0.5892 - 20s/epoch - 236ms/step\n",
      "Epoch 29/80\n",
      "84/84 - 20s - loss: 1.3630 - accuracy: 0.5948 - 20s/epoch - 240ms/step\n",
      "Epoch 30/80\n",
      "84/84 - 21s - loss: 1.3373 - accuracy: 0.6022 - 21s/epoch - 254ms/step\n",
      "Epoch 31/80\n",
      "84/84 - 20s - loss: 1.3183 - accuracy: 0.6069 - 20s/epoch - 239ms/step\n",
      "Epoch 32/80\n",
      "84/84 - 22s - loss: 1.2909 - accuracy: 0.6152 - 22s/epoch - 259ms/step\n",
      "Epoch 33/80\n",
      "84/84 - 21s - loss: 1.2746 - accuracy: 0.6186 - 21s/epoch - 246ms/step\n",
      "Epoch 34/80\n",
      "84/84 - 20s - loss: 1.2461 - accuracy: 0.6282 - 20s/epoch - 243ms/step\n",
      "Epoch 35/80\n",
      "84/84 - 20s - loss: 1.2247 - accuracy: 0.6337 - 20s/epoch - 242ms/step\n",
      "Epoch 36/80\n",
      "84/84 - 21s - loss: 1.2032 - accuracy: 0.6389 - 21s/epoch - 252ms/step\n",
      "Epoch 37/80\n",
      "84/84 - 20s - loss: 1.1783 - accuracy: 0.6464 - 20s/epoch - 234ms/step\n",
      "Epoch 38/80\n",
      "84/84 - 21s - loss: 1.1580 - accuracy: 0.6535 - 21s/epoch - 248ms/step\n",
      "Epoch 39/80\n",
      "84/84 - 21s - loss: 1.1410 - accuracy: 0.6569 - 21s/epoch - 250ms/step\n",
      "Epoch 40/80\n",
      "84/84 - 23s - loss: 1.1125 - accuracy: 0.6650 - 23s/epoch - 269ms/step\n",
      "Epoch 41/80\n",
      "84/84 - 22s - loss: 1.0875 - accuracy: 0.6732 - 22s/epoch - 256ms/step\n",
      "Epoch 42/80\n",
      "84/84 - 22s - loss: 1.0618 - accuracy: 0.6811 - 22s/epoch - 262ms/step\n",
      "Epoch 43/80\n",
      "84/84 - 21s - loss: 1.0398 - accuracy: 0.6884 - 21s/epoch - 245ms/step\n",
      "Epoch 44/80\n",
      "84/84 - 21s - loss: 1.0129 - accuracy: 0.6962 - 21s/epoch - 247ms/step\n",
      "Epoch 45/80\n",
      "84/84 - 20s - loss: 1.0031 - accuracy: 0.6983 - 20s/epoch - 237ms/step\n",
      "Epoch 46/80\n",
      "84/84 - 20s - loss: 0.9716 - accuracy: 0.7090 - 20s/epoch - 236ms/step\n",
      "Epoch 47/80\n",
      "84/84 - 20s - loss: 0.9492 - accuracy: 0.7150 - 20s/epoch - 240ms/step\n",
      "Epoch 48/80\n",
      "84/84 - 20s - loss: 0.9231 - accuracy: 0.7243 - 20s/epoch - 238ms/step\n",
      "Epoch 49/80\n",
      "84/84 - 21s - loss: 0.9005 - accuracy: 0.7316 - 21s/epoch - 245ms/step\n",
      "Epoch 50/80\n",
      "84/84 - 20s - loss: 0.8756 - accuracy: 0.7392 - 20s/epoch - 241ms/step\n",
      "Epoch 51/80\n",
      "84/84 - 20s - loss: 0.8593 - accuracy: 0.7435 - 20s/epoch - 236ms/step\n",
      "Epoch 52/80\n",
      "84/84 - 20s - loss: 0.8341 - accuracy: 0.7524 - 20s/epoch - 237ms/step\n",
      "Epoch 53/80\n",
      "84/84 - 20s - loss: 0.8116 - accuracy: 0.7585 - 20s/epoch - 236ms/step\n",
      "Epoch 54/80\n",
      "84/84 - 19s - loss: 0.7896 - accuracy: 0.7667 - 19s/epoch - 227ms/step\n",
      "Epoch 55/80\n",
      "84/84 - 19s - loss: 0.7662 - accuracy: 0.7739 - 19s/epoch - 230ms/step\n",
      "Epoch 56/80\n",
      "84/84 - 19s - loss: 0.7456 - accuracy: 0.7797 - 19s/epoch - 229ms/step\n",
      "Epoch 57/80\n",
      "84/84 - 19s - loss: 0.7256 - accuracy: 0.7851 - 19s/epoch - 228ms/step\n",
      "Epoch 58/80\n",
      "84/84 - 21s - loss: 0.7004 - accuracy: 0.7946 - 21s/epoch - 246ms/step\n",
      "Epoch 59/80\n",
      "84/84 - 20s - loss: 0.6787 - accuracy: 0.8017 - 20s/epoch - 236ms/step\n",
      "Epoch 60/80\n",
      "84/84 - 20s - loss: 0.6656 - accuracy: 0.8056 - 20s/epoch - 234ms/step\n",
      "Epoch 61/80\n",
      "84/84 - 20s - loss: 0.6459 - accuracy: 0.8119 - 20s/epoch - 234ms/step\n",
      "Epoch 62/80\n",
      "84/84 - 20s - loss: 0.6148 - accuracy: 0.8235 - 20s/epoch - 242ms/step\n",
      "Epoch 63/80\n",
      "84/84 - 19s - loss: 0.6071 - accuracy: 0.8242 - 19s/epoch - 226ms/step\n",
      "Epoch 64/80\n",
      "84/84 - 20s - loss: 0.5866 - accuracy: 0.8309 - 20s/epoch - 239ms/step\n",
      "Epoch 65/80\n",
      "84/84 - 20s - loss: 0.5686 - accuracy: 0.8369 - 20s/epoch - 240ms/step\n",
      "Epoch 66/80\n",
      "84/84 - 20s - loss: 0.5484 - accuracy: 0.8436 - 20s/epoch - 235ms/step\n",
      "Epoch 67/80\n",
      "84/84 - 19s - loss: 0.5303 - accuracy: 0.8498 - 19s/epoch - 222ms/step\n",
      "Epoch 68/80\n",
      "84/84 - 19s - loss: 0.5050 - accuracy: 0.8591 - 19s/epoch - 226ms/step\n",
      "Epoch 69/80\n",
      "84/84 - 19s - loss: 0.5013 - accuracy: 0.8583 - 19s/epoch - 224ms/step\n",
      "Epoch 70/80\n",
      "84/84 - 19s - loss: 0.4952 - accuracy: 0.8592 - 19s/epoch - 225ms/step\n",
      "Epoch 71/80\n",
      "84/84 - 19s - loss: 0.4627 - accuracy: 0.8711 - 19s/epoch - 225ms/step\n",
      "Epoch 72/80\n",
      "84/84 - 19s - loss: 0.4515 - accuracy: 0.8749 - 19s/epoch - 231ms/step\n",
      "Epoch 73/80\n",
      "84/84 - 20s - loss: 0.4325 - accuracy: 0.8811 - 20s/epoch - 232ms/step\n",
      "Epoch 74/80\n",
      "84/84 - 20s - loss: 0.4218 - accuracy: 0.8847 - 20s/epoch - 233ms/step\n",
      "Epoch 75/80\n",
      "84/84 - 19s - loss: 0.4091 - accuracy: 0.8883 - 19s/epoch - 228ms/step\n",
      "Epoch 76/80\n",
      "84/84 - 20s - loss: 0.3984 - accuracy: 0.8913 - 20s/epoch - 233ms/step\n",
      "Epoch 77/80\n",
      "84/84 - 20s - loss: 0.3750 - accuracy: 0.9003 - 20s/epoch - 235ms/step\n",
      "Epoch 78/80\n",
      "84/84 - 20s - loss: 0.3666 - accuracy: 0.9027 - 20s/epoch - 235ms/step\n",
      "Epoch 79/80\n",
      "84/84 - 20s - loss: 0.3535 - accuracy: 0.9063 - 20s/epoch - 240ms/step\n",
      "Epoch 80/80\n",
      "84/84 - 19s - loss: 0.3459 - accuracy: 0.9088 - 19s/epoch - 232ms/step\n"
     ]
    },
    {
     "data": {
      "text/plain": [
       "<keras.callbacks.History at 0x218a962d370>"
      ]
     },
     "execution_count": 22,
     "metadata": {},
     "output_type": "execute_result"
    }
   ],
   "source": [
    "from tensorflow.keras.models import Sequential\n",
    "from tensorflow.keras.layers import Dense, LSTM, TimeDistributed\n",
    "\n",
    "hidden_units = 256\n",
    "\n",
    "model = Sequential()\n",
    "model.add(LSTM(hidden_units, input_shape=(None, train_X.shape[2]), return_sequences=True))\n",
    "model.add(LSTM(hidden_units, return_sequences=True))\n",
    "model.add(TimeDistributed(Dense(vocab_size, activation='softmax')))\n",
    "\n",
    "model.compile(loss='categorical_crossentropy', optimizer='adam', metrics=['accuracy'])\n",
    "model.fit(train_X, train_y, epochs=80, verbose=2)"
   ]
  },
  {
   "cell_type": "raw",
   "id": "815fe90a",
   "metadata": {},
   "source": [
    "특정 문자를 주면 다음 문자를 계속해서 생성해내는 sentence_generation 함수를 구현합니다. 인자로 학습한 모델. 그리고 모델로 다음 문자를 몇 번 생성할 것인지 횟수를 전달해주면, 해당 함수는 임의로 시작 문자를 정한 뒤에 정해진 횟수만큼의 다음 문자를 지속적으로 예측하여 문장을 생성해냅니다."
   ]
  },
  {
   "cell_type": "code",
   "execution_count": null,
   "id": "71d845d7",
   "metadata": {},
   "outputs": [],
   "source": [
    "# 0부터 시작해서 각 입력의 길이는 1개씩 늘어나고 출력도 하나씩 늘어난다. -> 교사강요 훈련 방식"
   ]
  },
  {
   "cell_type": "code",
   "execution_count": 67,
   "id": "c2ed974f",
   "metadata": {},
   "outputs": [],
   "source": [
    "# 문장의 길이가 100일때 \n",
    "def sentence_generation(model, length):\n",
    "    \n",
    "    # 문자에 대한 랜덤한 정수 생성\n",
    "    # 특정 문자를 랜덤하게 생성\n",
    "    ix = [np.random.randint(vocab_size)]\n",
    "    \n",
    "    #랜덤한 정수로부터 맵핑되는 문자 생성\n",
    "    y_char = [index_to_char[ix[-1]]]\n",
    "    print(ix[-1],'번 문자',y_char[-1],'로 예측을 시작!')\n",
    "    \n",
    "    # (1, length, vocab_size(56)) 크기의 x 생성. 즉, LSTM의 입력시퀀스 생성. length는 timesteps를 의미한다.\n",
    "    X = np.zeros((1, length, vocab_size))\n",
    "    \n",
    "    for i in range(length): # 각 timesteps 마다 \n",
    "        # X[0][i][예측한 문자의 인덱스] = 1, 즉, 예측 문자를 다음 입력 시퀀스에 추가\n",
    "        # 각 문자의 벡터의 해당 인덱스를 1로 변환한다.\n",
    "        # 첫번째 예측 문자, 원-핫 인코딩 벡터 변환\n",
    "        X[0][i][ix[-1]] = 1\n",
    "        print(index_to_char[ix[-1]]) # 시작문자\n",
    "        # 시점 t일 때는 입력 문자 1\n",
    "        # 시점 t+1 일 때는 입력 문자 2\n",
    "        # 시점 t+3 일 대는 입력 문자 3\n",
    "        ix = np.argmax(model.predict(X[:, :i+1, :])[0], 1)  # 첫번째 문자만 넣었을 때 예측 문자\n",
    "        y_char.append(index_to_char[ix[-1]])\n",
    "        \n",
    "    return ('').join(y_char)\n"
   ]
  },
  {
   "cell_type": "code",
   "execution_count": 68,
   "id": "a5e0d803",
   "metadata": {
    "scrolled": false
   },
   "outputs": [
    {
     "name": "stdout",
     "output_type": "stream",
     "text": [
      "44 번 문자 o 로 예측을 시작!\n",
      "o\n",
      "1/1 [==============================] - 0s 12ms/step\n",
      "u\n",
      "1/1 [==============================] - 0s 12ms/step\n",
      "t\n",
      "1/1 [==============================] - 0s 12ms/step\n",
      " \n",
      "1/1 [==============================] - 0s 11ms/step\n",
      "i\n",
      "1/1 [==============================] - 0s 12ms/step\n",
      "t\n",
      "1/1 [==============================] - 0s 12ms/step\n",
      ",\n",
      "1/1 [==============================] - 0s 12ms/step\n",
      " \n",
      "1/1 [==============================] - 0s 12ms/step\n",
      "a\n",
      "1/1 [==============================] - 0s 12ms/step\n",
      "d\n",
      "1/1 [==============================] - 0s 12ms/step\n",
      "d\n",
      "1/1 [==============================] - 0s 12ms/step\n",
      "e\n",
      "1/1 [==============================] - 0s 12ms/step\n",
      "d\n",
      "1/1 [==============================] - 0s 12ms/step\n",
      " \n",
      "1/1 [==============================] - 0s 12ms/step\n",
      "t\n",
      "1/1 [==============================] - 0s 13ms/step\n",
      "h\n",
      "1/1 [==============================] - 0s 12ms/step\n",
      "e\n",
      "1/1 [==============================] - 0s 13ms/step\n",
      " \n",
      "1/1 [==============================] - 0s 13ms/step\n",
      "h\n",
      "1/1 [==============================] - 0s 13ms/step\n",
      "a\n",
      "1/1 [==============================] - 0s 13ms/step\n",
      "t\n",
      "1/1 [==============================] - 0s 13ms/step\n",
      "t\n",
      "1/1 [==============================] - 0s 14ms/step\n",
      "e\n",
      "1/1 [==============================] - 0s 13ms/step\n",
      "r\n",
      "1/1 [==============================] - 0s 12ms/step\n",
      ",\n",
      "1/1 [==============================] - 0s 13ms/step\n",
      " \n",
      "1/1 [==============================] - 0s 13ms/step\n",
      "i\n",
      "1/1 [==============================] - 0s 13ms/step\n",
      "t\n",
      "1/1 [==============================] - 0s 15ms/step\n",
      " \n",
      "1/1 [==============================] - 0s 14ms/step\n",
      "b\n",
      "1/1 [==============================] - 0s 14ms/step\n",
      "y\n",
      "1/1 [==============================] - 0s 14ms/step\n",
      " \n",
      "1/1 [==============================] - 0s 14ms/step\n",
      "w\n",
      "1/1 [==============================] - 0s 14ms/step\n",
      "i\n",
      "1/1 [==============================] - 0s 14ms/step\n",
      "t\n",
      "1/1 [==============================] - 0s 14ms/step\n",
      "h\n",
      "1/1 [==============================] - 0s 15ms/step\n",
      " \n",
      "1/1 [==============================] - 0s 15ms/step\n",
      "a\n",
      "1/1 [==============================] - 0s 15ms/step\n",
      "l\n",
      "1/1 [==============================] - 0s 15ms/step\n",
      "l\n",
      "1/1 [==============================] - 0s 15ms/step\n",
      " \n",
      "1/1 [==============================] - 0s 15ms/step\n",
      "t\n",
      "1/1 [==============================] - 0s 14ms/step\n",
      "h\n",
      "1/1 [==============================] - 0s 15ms/step\n",
      "e\n",
      "1/1 [==============================] - 0s 16ms/step\n",
      " \n",
      "1/1 [==============================] - 0s 15ms/step\n",
      "t\n",
      "1/1 [==============================] - 0s 15ms/step\n",
      "e\n",
      "1/1 [==============================] - 0s 16ms/step\n",
      "m\n",
      "1/1 [==============================] - 0s 16ms/step\n",
      " \n",
      "1/1 [==============================] - 0s 16ms/step\n",
      "b\n",
      "1/1 [==============================] - 0s 16ms/step\n",
      "e\n",
      "1/1 [==============================] - 0s 16ms/step\n",
      "t\n",
      "1/1 [==============================] - 0s 16ms/step\n",
      " \n",
      "1/1 [==============================] - 0s 16ms/step\n",
      "m\n",
      "1/1 [==============================] - 0s 16ms/step\n",
      "e\n",
      "1/1 [==============================] - 0s 16ms/step\n",
      "a\n",
      "1/1 [==============================] - 0s 16ms/step\n",
      "n\n",
      "1/1 [==============================] - 0s 17ms/step\n",
      "i\n",
      "1/1 [==============================] - 0s 16ms/step\n",
      "n\n",
      "1/1 [==============================] - 0s 17ms/step\n",
      "g\n",
      "1/1 [==============================] - 0s 17ms/step\n",
      " \n",
      "1/1 [==============================] - 0s 17ms/step\n",
      "o\n",
      "1/1 [==============================] - 0s 18ms/step\n",
      "n\n",
      "1/1 [==============================] - 0s 17ms/step\n",
      " \n",
      "1/1 [==============================] - 0s 18ms/step\n",
      "t\n",
      "1/1 [==============================] - 0s 18ms/step\n",
      "h\n",
      "1/1 [==============================] - 0s 17ms/step\n",
      "e\n",
      "1/1 [==============================] - 0s 20ms/step\n",
      " \n",
      "1/1 [==============================] - 0s 18ms/step\n",
      "t\n",
      "1/1 [==============================] - 0s 20ms/step\n",
      "r\n",
      "1/1 [==============================] - 0s 19ms/step\n",
      "o\n",
      "1/1 [==============================] - 0s 18ms/step\n",
      "u\n",
      "1/1 [==============================] - 0s 19ms/step\n",
      "n\n",
      "1/1 [==============================] - 0s 18ms/step\n",
      "d\n",
      "1/1 [==============================] - 0s 18ms/step\n",
      "e\n",
      "1/1 [==============================] - 0s 19ms/step\n",
      "d\n",
      "1/1 [==============================] - 0s 18ms/step\n",
      " \n",
      "1/1 [==============================] - 0s 19ms/step\n",
      "h\n",
      "1/1 [==============================] - 0s 20ms/step\n",
      "i\n",
      "1/1 [==============================] - 0s 19ms/step\n",
      "s\n",
      "1/1 [==============================] - 0s 19ms/step\n",
      " \n",
      "1/1 [==============================] - 0s 19ms/step\n",
      "i\n",
      "1/1 [==============================] - 0s 19ms/step\n",
      "s\n",
      "1/1 [==============================] - 0s 19ms/step\n",
      ".\n",
      "1/1 [==============================] - 0s 20ms/step\n",
      " \n",
      "1/1 [==============================] - 0s 22ms/step\n",
      "w\n",
      "1/1 [==============================] - 0s 20ms/step\n",
      "h\n",
      "1/1 [==============================] - 0s 20ms/step\n",
      "y\n",
      "1/1 [==============================] - 0s 21ms/step\n",
      ",\n",
      "1/1 [==============================] - 0s 20ms/step\n",
      " \n",
      "1/1 [==============================] - 0s 22ms/step\n",
      "t\n",
      "1/1 [==============================] - 0s 21ms/step\n",
      "h\n",
      "1/1 [==============================] - 0s 21ms/step\n",
      "a\n",
      "1/1 [==============================] - 0s 22ms/step\n",
      "t\n",
      "1/1 [==============================] - 0s 21ms/step\n",
      " \n",
      "1/1 [==============================] - 0s 20ms/step\n",
      "a\n",
      "1/1 [==============================] - 0s 22ms/step\n",
      "l\n",
      "1/1 [==============================] - 0s 20ms/step\n",
      "i\n",
      "1/1 [==============================] - 0s 21ms/step\n",
      "c\n",
      "1/1 [==============================] - 0s 22ms/step\n",
      "e\n",
      "1/1 [==============================] - 0s 21ms/step\n"
     ]
    }
   ],
   "source": [
    "result = sentence_generation(model, 100)"
   ]
  },
  {
   "cell_type": "code",
   "execution_count": 69,
   "id": "eb2aca71",
   "metadata": {
    "scrolled": true
   },
   "outputs": [
    {
     "name": "stdout",
     "output_type": "stream",
     "text": [
      "out it, added the hatter, it by with all the tem bet meaning on the trounded his is. why, that alice \n"
     ]
    }
   ],
   "source": [
    "print(result)"
   ]
  },
  {
   "cell_type": "code",
   "execution_count": 45,
   "id": "fddc584f",
   "metadata": {},
   "outputs": [
    {
     "name": "stdout",
     "output_type": "stream",
     "text": [
      "1/1 [==============================] - 0s 13ms/step\n"
     ]
    },
    {
     "data": {
      "text/plain": [
       "(1, 3, 56)"
      ]
     },
     "execution_count": 45,
     "metadata": {},
     "output_type": "execute_result"
    }
   ],
   "source": [
    "model.predict(X[:, :3, :]).shape"
   ]
  },
  {
   "cell_type": "markdown",
   "id": "23872ead",
   "metadata": {},
   "source": [
    "# 2. 문자 단위 RNN(Char RNN)으로 텍스트 생성하기\n",
    "## 2-1. 다대일 구조의 RNN을 문자 단위로 학습, 텍스트 생성"
   ]
  },
  {
   "cell_type": "code",
   "execution_count": 70,
   "id": "e89e26bb",
   "metadata": {},
   "outputs": [],
   "source": [
    "import numpy as np\n",
    "from tensorflow.keras.utils import to_categorical"
   ]
  },
  {
   "cell_type": "code",
   "execution_count": 72,
   "id": "d4e961af",
   "metadata": {},
   "outputs": [],
   "source": [
    "# 엉터리가사\n",
    "raw_text = '''\n",
    "I get on with life as a programmer,\n",
    "I like to contemplate beer.\n",
    "But when I start to daydream,\n",
    "My mind turns straight to wine.\n",
    "\n",
    "Do I love wine more than beer?\n",
    "\n",
    "I like to use words about beer.\n",
    "But when I stop my talking,\n",
    "My mind turns straight to wine.\n",
    "\n",
    "I hate bugs and errors.\n",
    "But I just think back to wine,\n",
    "And I'm happy once again.\n",
    "\n",
    "I like to hang out with programming and deep learning.\n",
    "But when left alone,\n",
    "My mind turns straight to wine.\n",
    "'''"
   ]
  },
  {
   "cell_type": "raw",
   "id": "0b664905",
   "metadata": {},
   "source": [
    "위의 텍스트에 존재하는 단락 구분을 없애고 하나의 문자열로 재저장하겠습니다."
   ]
  },
  {
   "cell_type": "code",
   "execution_count": 74,
   "id": "9ff40a8a",
   "metadata": {},
   "outputs": [],
   "source": [
    "tokens = raw_text.split()"
   ]
  },
  {
   "cell_type": "code",
   "execution_count": 76,
   "id": "3fcc59ca",
   "metadata": {},
   "outputs": [
    {
     "name": "stdout",
     "output_type": "stream",
     "text": [
      "I get on with life as a programmer, I like to contemplate beer. But when I start to daydream, My mind turns straight to wine. Do I love wine more than beer? I like to use words about beer. But when I stop my talking, My mind turns straight to wine. I hate bugs and errors. But I just think back to wine, And I'm happy once again. I like to hang out with programming and deep learning. But when left alone, My mind turns straight to wine.\n"
     ]
    }
   ],
   "source": [
    "raw_text = ' '.join(tokens)\n",
    "print(raw_text)"
   ]
  },
  {
   "cell_type": "raw",
   "id": "5946f0bf",
   "metadata": {},
   "source": [
    "단락 구분이 없어지고 하나의 문자열로 재저장되었습니다. 이로부터 문자 집합을 만들어보겠습니다. 기존에는 중복을 제거한 단어들의 모음인 단어 집합(vocabulary)을 만들었으나, 이번에 만들 집합은 단어 집합이 아니라 문자 집합입니다."
   ]
  },
  {
   "cell_type": "code",
   "execution_count": 77,
   "id": "b1a696b5",
   "metadata": {},
   "outputs": [
    {
     "name": "stdout",
     "output_type": "stream",
     "text": [
      "문자 집합 : [' ', \"'\", ',', '.', '?', 'A', 'B', 'D', 'I', 'M', 'a', 'b', 'c', 'd', 'e', 'f', 'g', 'h', 'i', 'j', 'k', 'l', 'm', 'n', 'o', 'p', 'r', 's', 't', 'u', 'v', 'w', 'y']\n",
      "문자 집합의 크기 : 33\n"
     ]
    }
   ],
   "source": [
    "char_vocab = sorted(list(set(raw_text)))\n",
    "vocab_size = len(char_vocab)\n",
    "print('문자 집합 :',char_vocab)\n",
    "print ('문자 집합의 크기 : {}'.format(vocab_size))"
   ]
  },
  {
   "cell_type": "code",
   "execution_count": 78,
   "id": "ec50172c",
   "metadata": {},
   "outputs": [],
   "source": [
    "## 2-2. 문자 집합을 정수 인코딩"
   ]
  },
  {
   "cell_type": "code",
   "execution_count": 79,
   "id": "37531b0b",
   "metadata": {},
   "outputs": [
    {
     "name": "stdout",
     "output_type": "stream",
     "text": [
      "{' ': 0, \"'\": 1, ',': 2, '.': 3, '?': 4, 'A': 5, 'B': 6, 'D': 7, 'I': 8, 'M': 9, 'a': 10, 'b': 11, 'c': 12, 'd': 13, 'e': 14, 'f': 15, 'g': 16, 'h': 17, 'i': 18, 'j': 19, 'k': 20, 'l': 21, 'm': 22, 'n': 23, 'o': 24, 'p': 25, 'r': 26, 's': 27, 't': 28, 'u': 29, 'v': 30, 'w': 31, 'y': 32}\n"
     ]
    }
   ],
   "source": [
    "char_to_index = dict((char, index) for index, char in enumerate(char_vocab)) # 문자에 고유한 정수 인덱스 부여\n",
    "print(char_to_index)"
   ]
  },
  {
   "cell_type": "raw",
   "id": "626b6ceb",
   "metadata": {},
   "source": [
    "이번 실습의 문자 집합의 경우 훈련 데이터에 등장한 알파벳의 대, 소문자를 구분하고 구두점과 공백을 포함하였습니다. 이제 훈련에 사용할 문장 샘플들을 만들어보겠습니다. 여기서는 RNN을 이용한 생성한 텍스트 챕터와 유사하게 데이터를 구성합니다. 다만, 단위가 문자 단위라는 점이 다릅니다. 예를 들어 훈련 데이터에 student라는 단어가 있고, 입력 시퀀스의 길이를 5라고 한다면 입력 시퀀스와 예측해야하는 문자는 다음과 같이 구성됩니다. 5개의 입력 문자 시퀀스로부터 다음 문자 시퀀스를 예측하는 것입니다. 즉, RNN의 시점(timesteps)은 5번입니다."
   ]
  },
  {
   "cell_type": "code",
   "execution_count": 80,
   "id": "f6049784",
   "metadata": {},
   "outputs": [
    {
     "ename": "SyntaxError",
     "evalue": "invalid syntax (3318689688.py, line 1)",
     "output_type": "error",
     "traceback": [
      "\u001b[1;36m  Input \u001b[1;32mIn [80]\u001b[1;36m\u001b[0m\n\u001b[1;33m    stude -> n\u001b[0m\n\u001b[1;37m          ^\u001b[0m\n\u001b[1;31mSyntaxError\u001b[0m\u001b[1;31m:\u001b[0m invalid syntax\n"
     ]
    }
   ],
   "source": [
    "stude -> n\n",
    "tuden -> t"
   ]
  },
  {
   "cell_type": "code",
   "execution_count": null,
   "id": "e52db921",
   "metadata": {},
   "outputs": [],
   "source": []
  }
 ],
 "metadata": {
  "kernelspec": {
   "display_name": "Python 3 (ipykernel)",
   "language": "python",
   "name": "python3"
  },
  "language_info": {
   "codemirror_mode": {
    "name": "ipython",
    "version": 3
   },
   "file_extension": ".py",
   "mimetype": "text/x-python",
   "name": "python",
   "nbconvert_exporter": "python",
   "pygments_lexer": "ipython3",
   "version": "3.9.12"
  }
 },
 "nbformat": 4,
 "nbformat_minor": 5
}
