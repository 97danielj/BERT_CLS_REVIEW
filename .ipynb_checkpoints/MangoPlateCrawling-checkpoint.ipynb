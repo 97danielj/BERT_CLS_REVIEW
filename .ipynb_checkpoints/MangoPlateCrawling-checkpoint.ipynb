{
 "cells": [
  {
   "cell_type": "markdown",
   "id": "77f834a2",
   "metadata": {},
   "source": [
    "# 환경 설정"
   ]
  },
  {
   "cell_type": "code",
   "execution_count": 30,
   "id": "fcbadb3b",
   "metadata": {},
   "outputs": [],
   "source": [
    "import sys # 시스템\n",
    "import os  # 시스템\n",
    "\n",
    "# 데이터 다루기\n",
    "import pandas as pd\n",
    "import numpy as np\n",
    "\n",
    "# selenium 크롤링\n",
    "from selenium import webdriver  \n",
    "from selenium.webdriver import ActionChains as AC\n",
    "from selenium.webdriver.support.ui import WebDriverWait\n",
    "from selenium.webdriver.support import expected_conditions as EC\n",
    "from selenium.webdriver.common.by import By"
   ]
  },
  {
   "cell_type": "code",
   "execution_count": 31,
   "id": "4e94ad6c",
   "metadata": {},
   "outputs": [],
   "source": [
    "# beautifulsoup 크롤링\n",
    "import requests\n",
    "from bs4 import BeautifulSoup\n",
    "\n",
    "# lxml 크롤링\n",
    "import lxml.html\n",
    "\n",
    "# 시간 조절\n",
    "import time\n",
    "\n",
    "# 시간 측정\n",
    "from tqdm import notebook\n",
    "\n",
    "# 정규표현식\n",
    "import re\n",
    "\n",
    "# 경고 무시\n",
    "import warnings\n",
    "warnings.filterwarnings('ignore')"
   ]
  },
  {
   "cell_type": "code",
   "execution_count": 32,
   "id": "0c92af61",
   "metadata": {},
   "outputs": [],
   "source": [
    "# 지역 키워드를 입력하기\n",
    "keyword = '횟집'\n",
    "\n",
    "# page 정하기\n",
    "page = 1"
   ]
  },
  {
   "cell_type": "code",
   "execution_count": 33,
   "id": "2abaa54a",
   "metadata": {},
   "outputs": [],
   "source": [
    "# 크롬창 띄우기\n",
    "driver = webdriver.Chrome('./chromedriver')\n",
    "driver.maximize_window() # 창 최대화\n",
    "\n",
    "# 키워드가 입력된 망고플레이트 사이트에 들어가기\n",
    "driver.get(\" https://www.mangoplate.com/search/{0}?keyword={0}&page={1}\".format(keyword, page)) \n",
    "time.sleep(2)"
   ]
  },
  {
   "cell_type": "code",
   "execution_count": 34,
   "id": "34c8ee84",
   "metadata": {},
   "outputs": [],
   "source": [
    "\n",
    "# 광고창 없애기\n",
    "\n",
    "# 광고창 iframe 접근하기\n",
    "driver.switch_to.frame(\"google_ads_iframe_/395211568/init/desktop_all_0\")\n",
    "\n",
    "# '다시 보지 않기' 버튼 클릭하기\n",
    "element = '#ad > div > button.ad_btn.ad_block_btn'\n",
    "driver.find_element(By.CSS_SELECTOR,element).click()\n"
   ]
  },
  {
   "cell_type": "code",
   "execution_count": 35,
   "id": "9aca4630",
   "metadata": {},
   "outputs": [],
   "source": [
    "driver.switch_to.default_content()"
   ]
  },
  {
   "cell_type": "code",
   "execution_count": 43,
   "id": "bb24fdf7",
   "metadata": {},
   "outputs": [
    {
     "name": "stdout",
     "output_type": "stream",
     "text": [
      "['CDwindow-1E5AD26BD3AF25A7CE7C79FBAEB1C491']\n"
     ]
    }
   ],
   "source": [
    " print(driver.window_handles)"
   ]
  },
  {
   "cell_type": "code",
   "execution_count": 36,
   "id": "32878233",
   "metadata": {},
   "outputs": [],
   "source": [
    "# 첫 번째 음식점 클릭\n",
    "driver.find_element(By.CSS_SELECTOR,'div.info > a').click()"
   ]
  },
  {
   "cell_type": "code",
   "execution_count": 37,
   "id": "fdcfc705",
   "metadata": {},
   "outputs": [
    {
     "name": "stdout",
     "output_type": "stream",
     "text": [
      "미영이네식당 <class 'str'>\n"
     ]
    }
   ],
   "source": [
    "# 가게 이름 크롤링\n",
    "element = 'body > main > article > div.column-wrapper > div.column-contents > div > section.restaurant-detail > header > div.restaurant_title_wrap > span > h1'\n",
    "title_raw = driver.find_element(By.CSS_SELECTOR,element)\n",
    "title = title_raw.text\n",
    "print(title, type(title))"
   ]
  },
  {
   "cell_type": "code",
   "execution_count": 38,
   "id": "c621bac7",
   "metadata": {},
   "outputs": [
    {
     "name": "stdout",
     "output_type": "stream",
     "text": [
      "4.7 <class 'str'>\n"
     ]
    }
   ],
   "source": [
    "# 가게 전체 평점 점수 크롤링\n",
    "element = 'body > main > article > div.column-wrapper > div.column-contents > div > section.restaurant-detail > header > div.restaurant_title_wrap > span > strong > span'\n",
    "total_raw = driver.find_element(By.CSS_SELECTOR,element)\n",
    "total = total_raw.text\n",
    "print(total, type(total))"
   ]
  },
  {
   "cell_type": "code",
   "execution_count": 39,
   "id": "44e4c4b7",
   "metadata": {},
   "outputs": [
    {
     "name": "stdout",
     "output_type": "stream",
     "text": [
      "235,714 <class 'str'>\n"
     ]
    }
   ],
   "source": [
    "# 조회수 크롤링\n",
    "try:\n",
    "    element = 'body > main > article > div.column-wrapper > div.column-contents > div > section.restaurant-detail > header > div.status.branch_none > span.cnt.hit'\n",
    "    view_raw = driver.find_element(By.CSS_SELECTOR,element)\n",
    "    view = view_raw.text\n",
    "except:\n",
    "    element = 'body > main > article > div.column-wrapper > div.column-contents > div > section.restaurant-detail > header > div.status > span.cnt.hit'\n",
    "    view_raw = driver.find_element(By.CSS_SELECTOR,element)\n",
    "    view = view_raw.text\n",
    "    \n",
    "print(view, type(view))"
   ]
  },
  {
   "cell_type": "code",
   "execution_count": 54,
   "id": "ef456165",
   "metadata": {},
   "outputs": [
    {
     "name": "stdout",
     "output_type": "stream",
     "text": [
      "103 <class 'str'>\n"
     ]
    }
   ],
   "source": [
    "# 리뷰 개수 크롤링\n",
    "try:\n",
    "    element = 'body > main > article > div.column-wrapper > div.column-contents > div > section.restaurant-detail > header > div.status.branch_none > span.cnt.review'\n",
    "    review_raw = driver.find_element(By.CSS_SELECTOR,element)\n",
    "    num_review = review_raw.text\n",
    "\n",
    "except:\n",
    "    element = 'body > main > article > div.column-wrapper > div.column-contents > div > section.restaurant-detail > header > div.status > span.cnt.review'\n",
    "    review_raw = driver.find_element(By.CSS_SELECTOR,element)\n",
    "    num_review = review_raw.text\n",
    "\n",
    "print(num_review, type(num_review))"
   ]
  },
  {
   "cell_type": "code",
   "execution_count": 40,
   "id": "34288432",
   "metadata": {},
   "outputs": [
    {
     "name": "stdout",
     "output_type": "stream",
     "text": [
      "5,030 <class 'str'>\n"
     ]
    }
   ],
   "source": [
    "# 별표 개수 크롤링\n",
    "try:\n",
    "    element = 'body > main > article > div.column-wrapper > div.column-contents > div > section.restaurant-detail > header > div.status.branch_none > span.cnt.favorite'\n",
    "    star_raw =  driver.find_element(By.CSS_SELECTOR, element)\n",
    "    num_star = star_raw.text\n",
    "\n",
    "except:\n",
    "    element = 'body > main > article > div.column-wrapper > div.column-contents > div > section.restaurant-detail > header > div.status > span.cnt.favorite'\n",
    "    star_raw =  driver.find_element(By.CSS_SELECTOR, element)\n",
    "    num_star = star_raw.text\n",
    "\n",
    "print(num_star, type(num_star))"
   ]
  },
  {
   "cell_type": "code",
   "execution_count": 50,
   "id": "2e614abb",
   "metadata": {},
   "outputs": [
    {
     "name": "stdout",
     "output_type": "stream",
     "text": [
      "['해산물 요리', ['고등어회 (대) + 탕', '고등어회 (소) + 탕', '고등어구이']]\n"
     ]
    }
   ],
   "source": [
    "# 음식 종류 및 메뉴 크롤링\n",
    "element1 = 'body > main > article > div.column-wrapper > div.column-contents > div > section.restaurant-detail > table > tbody > tr:nth-child(3) > td > span'\n",
    "type_raw = driver.find_element(By.CSS_SELECTOR,element1)\n",
    "type_raw = type_raw.text\n",
    "food_type = type_raw\n",
    "\n",
    "'''\n",
    "menu_list = list()\n",
    "\n",
    "element2 = 'span.Restaurant_Menu'\n",
    "menu_raw = driver.find_elements(By.CSS_SELECTOR,element2)\n",
    "for i in menu_raw:\n",
    "    menu_list.append(i.text)\n",
    "food_type = [type_raw, menu_list]\n",
    "'''\n",
    "\n",
    "print(food_type)"
   ]
  },
  {
   "cell_type": "code",
   "execution_count": 47,
   "id": "fc182e6f",
   "metadata": {},
   "outputs": [
    {
     "name": "stdout",
     "output_type": "stream",
     "text": [
      "고등어회 (대) + 탕\n",
      "고등어회 (소) + 탕\n",
      "고등어구이\n"
     ]
    }
   ],
   "source": [
    "list1 = driver.find_elements(By.CSS_SELECTOR, 'span.Restaurant_Menu')\n",
    "for i in list1:\n",
    "    print(i.text)"
   ]
  },
  {
   "cell_type": "code",
   "execution_count": 57,
   "id": "31f4776a",
   "metadata": {},
   "outputs": [
    {
     "data": {
      "text/html": [
       "<div>\n",
       "<style scoped>\n",
       "    .dataframe tbody tr th:only-of-type {\n",
       "        vertical-align: middle;\n",
       "    }\n",
       "\n",
       "    .dataframe tbody tr th {\n",
       "        vertical-align: top;\n",
       "    }\n",
       "\n",
       "    .dataframe thead th {\n",
       "        text-align: right;\n",
       "    }\n",
       "</style>\n",
       "<table border=\"1\" class=\"dataframe\">\n",
       "  <thead>\n",
       "    <tr style=\"text-align: right;\">\n",
       "      <th></th>\n",
       "      <th>Title</th>\n",
       "      <th>Point</th>\n",
       "      <th>View</th>\n",
       "      <th>Review</th>\n",
       "      <th>Star</th>\n",
       "      <th>Type</th>\n",
       "    </tr>\n",
       "  </thead>\n",
       "  <tbody>\n",
       "    <tr>\n",
       "      <th>0</th>\n",
       "      <td>미영이네식당</td>\n",
       "      <td>4.7</td>\n",
       "      <td>235,415</td>\n",
       "      <td>103</td>\n",
       "      <td>5,026</td>\n",
       "      <td>[해산물 요리, 고등어회 (대) + 탕\\n77,000원\\n고등어회 (소) + 탕\\n...</td>\n",
       "    </tr>\n",
       "  </tbody>\n",
       "</table>\n",
       "</div>"
      ],
      "text/plain": [
       "    Title Point     View Review   Star  \\\n",
       "0  미영이네식당   4.7  235,415    103  5,026   \n",
       "\n",
       "                                                Type  \n",
       "0  [해산물 요리, 고등어회 (대) + 탕\\n77,000원\\n고등어회 (소) + 탕\\n...  "
      ]
     },
     "execution_count": 57,
     "metadata": {},
     "output_type": "execute_result"
    }
   ],
   "source": [
    "# 데이터 프레임 만들기\n",
    "a = {'Title' : title,\n",
    "     'Point' : total,\n",
    "     'View' : view,\n",
    "     'Review' : num_review,\n",
    "     'Star' : num_star,\n",
    "     'Type' : food_type}\n",
    "\n",
    "df = pd.DataFrame.from_dict(a, orient='index')\n",
    "df = df.transpose()\n",
    "df.head()"
   ]
  },
  {
   "cell_type": "markdown",
   "id": "94a96093",
   "metadata": {},
   "source": [
    "# for문으로 크롤링 : 1페이지만"
   ]
  },
  {
   "cell_type": "code",
   "execution_count": 58,
   "id": "2fa29e35",
   "metadata": {},
   "outputs": [],
   "source": [
    "# 필요한 라이브러리를 임포트하기\n",
    "\n",
    "import sys # 시스템\n",
    "import os  # 시스템\n",
    "\n",
    "# 데이터 다루기\n",
    "import pandas as pd\n",
    "import numpy as np\n",
    "\n",
    "# selenium 크롤링\n",
    "from selenium import webdriver  \n",
    "from selenium.webdriver import ActionChains as AC\n",
    "from selenium.webdriver.support.ui import WebDriverWait\n",
    "from selenium.webdriver.support import expected_conditions as EC\n",
    "from selenium.webdriver.common.by import By\n",
    "\n",
    "# 크롬 드라이버\n",
    "import chromedriver_autoinstaller\n",
    "\n",
    "# beautifulsoup 크롤링\n",
    "import requests\n",
    "from bs4 import BeautifulSoup\n",
    "\n",
    "# lxml 크롤링\n",
    "import lxml.html\n",
    "\n",
    "# 시간 조절\n",
    "import time\n",
    "\n",
    "# 시간 측정\n",
    "from tqdm import notebook\n",
    "\n",
    "# 정규표현식\n",
    "import re\n",
    "\n",
    "# 경고 무시\n",
    "import warnings\n",
    "warnings.filterwarnings('ignore')"
   ]
  },
  {
   "cell_type": "code",
   "execution_count": 84,
   "id": "b7f82920",
   "metadata": {},
   "outputs": [],
   "source": [
    "# 지역 키워드를 입력하기\n",
    "keyword = '횟집'\n",
    "\n",
    "# page 정하기\n",
    "page = 1"
   ]
  },
  {
   "cell_type": "code",
   "execution_count": 85,
   "id": "be2aa0db",
   "metadata": {},
   "outputs": [],
   "source": [
    "# 크롬창 띄우기\n",
    "driver = webdriver.Chrome('./chromedriver')\n",
    "\n",
    "# 키워드가 입력된 망고플레이트 사이트에 들어가기\n",
    "driver.get(\" https://www.mangoplate.com/search/{0}?keyword={0}&page={1}\".format(keyword, page)) \n",
    "time.sleep(2)"
   ]
  },
  {
   "cell_type": "code",
   "execution_count": 86,
   "id": "050ac36e",
   "metadata": {},
   "outputs": [],
   "source": [
    "# 광고창 iframe 접근하기\n",
    "driver.switch_to.frame(\"google_ads_iframe_/395211568/init/desktop_all_0\")\n",
    "\n",
    "# '다시 보지 않기' 버튼 클릭하기\n",
    "element = '#ad > div > button.ad_btn.ad_block_btn'\n",
    "driver.find_element(By.CSS_SELECTOR, element).click()"
   ]
  },
  {
   "cell_type": "code",
   "execution_count": 87,
   "id": "cff06b2b",
   "metadata": {},
   "outputs": [],
   "source": [
    "driver.switch_to.default_content()"
   ]
  },
  {
   "cell_type": "code",
   "execution_count": 88,
   "id": "3fe83515",
   "metadata": {},
   "outputs": [],
   "source": [
    "# 음식점 1개에서 정보 크롤링 함수\n",
    "def FoodCrawling(row, col):\n",
    "    # 전체 담을 그릇\n",
    "    total_dict = {}\n",
    "    k = 0\n",
    "    \n",
    "    for i in range(row):\n",
    "        driver.execute_script(\"window.scrollTo(0, 200)\")\n",
    "        for j in range(col):\n",
    "            # 동영상 1개 담을 그릇\n",
    "            sub_dict = {}\n",
    "            \n",
    "            # 음식점 클릭\n",
    "            element = f'body > main > article > div.column-wrapper > div > div > section > div.search-list-restaurants-inner-wrap > ul > li:nth-child({i+1}) > div:nth-child({j+1}) > figure > a > div > img'\n",
    "            driver.find_element(By.CSS_SELECTOR,element).click()\n",
    "            time.sleep(0.5)\n",
    "\n",
    "            # 가게 이름 크롤링\n",
    "            element = 'body > main > article > div.column-wrapper > div.column-contents > div > section.restaurant-detail > header > div.restaurant_title_wrap > span > h1'\n",
    "            title_raw = driver.find_element(By.CSS_SELECTOR, element)\n",
    "            title = title_raw.text\n",
    "\n",
    "            # 가게 전체 평점 점수 크롤링\n",
    "            element = 'body > main > article > div.column-wrapper > div.column-contents > div > section.restaurant-detail > header > div.restaurant_title_wrap > span > strong > span'\n",
    "            total_raw = driver.find_element(By.CSS_SELECTOR,element)\n",
    "            total = total_raw.text\n",
    "            \n",
    "            # 조회수 크롤링\n",
    "            try:\n",
    "                element = 'body > main > article > div.column-wrapper > div.column-contents > div > section.restaurant-detail > header > div.status.branch_none > span.cnt.hit'\n",
    "                view_raw = driver.find_element(By.CSS_SELECTOR,element)\n",
    "                view = view_raw.text\n",
    "            except:\n",
    "                element = 'body > main > article > div.column-wrapper > div.column-contents > div > section.restaurant-detail > header > div.status > span.cnt.hit'\n",
    "                view_raw = driver.find_element(By.CSS_SELECTOR,element)\n",
    "                view = view_raw.text\n",
    "\n",
    "            # 리뷰 개수 크롤링\n",
    "            try:\n",
    "                element = 'body > main > article > div.column-wrapper > div.column-contents > div > section.restaurant-detail > header > div.status.branch_none > span.cnt.review'\n",
    "                review_raw = driver.find_element(By.CSS_SELECTOR,element)\n",
    "                num_review = review_raw.text\n",
    "\n",
    "            except:\n",
    "                element = 'body > main > article > div.column-wrapper > div.column-contents > div > section.restaurant-detail > header > div.status > span.cnt.review'\n",
    "                review_raw = driver.find_element(By.CSS_SELECTOR,element)\n",
    "                num_review = review_raw.text\n",
    "\n",
    "            # 별표 개수 크롤링\n",
    "            try:\n",
    "                element = 'body > main > article > div.column-wrapper > div.column-contents > div > section.restaurant-detail > header > div.status.branch_none > span.cnt.favorite'\n",
    "                star_raw = driver.find_element(By.CSS_SELECTOR,element)\n",
    "                num_star = star_raw.text\n",
    "\n",
    "            except:\n",
    "                element = 'body > main > article > div.column-wrapper > div.column-contents > div > section.restaurant-detail > header > div.status > span.cnt.favorite'\n",
    "                star_raw = driver.find_element(By.CSS_SELECTOR,element)\n",
    "                num_star = star_raw.text\n",
    "\n",
    "            # 음식 종류 및 메뉴 크롤링\n",
    "            element1 = 'body > main > article > div.column-wrapper > div.column-contents > div > section.restaurant-detail > table > tbody > tr:nth-child(3) > td > span'\n",
    "            type_raw = driver.find_element(By.CSS_SELECTOR,element1)\n",
    "            type_raw = type_raw.text\n",
    "            food_type = type_raw\n",
    "            try:\n",
    "                element2 = 'span.Restaurant_Menu'\n",
    "                menu_elements = driver.find_elements(By.CSS_SELECTOR,element2)\n",
    "                food_menu = [menu_element.text for menu_element in menu_elements]\n",
    "                food_type = [type_raw, food_menu]\n",
    "            except:\n",
    "                pass\n",
    "            \n",
    "            # sub_dict에 담기\n",
    "            sub_dict['title'] = title\n",
    "            sub_dict['Point'] = total\n",
    "            sub_dict['View'] = view\n",
    "            sub_dict['Review'] = num_review\n",
    "            sub_dict['Star'] = num_star\n",
    "            sub_dict['Type'] = food_type\n",
    "            \n",
    "             # total_dict에 담기\n",
    "            total_dict[k] = sub_dict\n",
    "            k += 1\n",
    "            time.sleep(1)\n",
    "            \n",
    "            # 뒤로 가기\n",
    "            driver.back()\n",
    "            time.sleep(0.5)\n",
    "            \n",
    "    df = pd.DataFrame.from_dict(total_dict, orient='index')\n",
    "    driver.close()\n",
    "    return df"
   ]
  },
  {
   "cell_type": "code",
   "execution_count": 89,
   "id": "47cd820b",
   "metadata": {},
   "outputs": [
    {
     "data": {
      "text/plain": [
       "\"\\nmenu_list = list()\\n\\nelement2 = 'span.Restaurant_Menu'\\nmenu_raw = driver.find_elements(By.CSS_SELECTOR,element2)\\nfor i in menu_raw:\\n    menu_list.append(i.text)\\nfood_type = [type_raw, menu_list]\\n\""
      ]
     },
     "execution_count": 89,
     "metadata": {},
     "output_type": "execute_result"
    }
   ],
   "source": [
    "'''\n",
    "menu_list = list()\n",
    "\n",
    "element2 = 'span.Restaurant_Menu'\n",
    "menu_raw = driver.find_elements(By.CSS_SELECTOR,element2)\n",
    "for i in menu_raw:\n",
    "    menu_list.append(i.text)\n",
    "food_type = [type_raw, menu_list]\n",
    "'''"
   ]
  },
  {
   "cell_type": "code",
   "execution_count": 90,
   "id": "075f35ff",
   "metadata": {},
   "outputs": [
    {
     "data": {
      "text/html": [
       "<div>\n",
       "<style scoped>\n",
       "    .dataframe tbody tr th:only-of-type {\n",
       "        vertical-align: middle;\n",
       "    }\n",
       "\n",
       "    .dataframe tbody tr th {\n",
       "        vertical-align: top;\n",
       "    }\n",
       "\n",
       "    .dataframe thead th {\n",
       "        text-align: right;\n",
       "    }\n",
       "</style>\n",
       "<table border=\"1\" class=\"dataframe\">\n",
       "  <thead>\n",
       "    <tr style=\"text-align: right;\">\n",
       "      <th></th>\n",
       "      <th>title</th>\n",
       "      <th>Point</th>\n",
       "      <th>View</th>\n",
       "      <th>Review</th>\n",
       "      <th>Star</th>\n",
       "      <th>Type</th>\n",
       "    </tr>\n",
       "  </thead>\n",
       "  <tbody>\n",
       "    <tr>\n",
       "      <th>0</th>\n",
       "      <td>미영이네식당</td>\n",
       "      <td>4.7</td>\n",
       "      <td>235,724</td>\n",
       "      <td>103</td>\n",
       "      <td>5,030</td>\n",
       "      <td>[해산물 요리, [고등어회 (대) + 탕, 고등어회 (소) + 탕, 고등어구이]]</td>\n",
       "    </tr>\n",
       "    <tr>\n",
       "      <th>1</th>\n",
       "      <td>남양수산</td>\n",
       "      <td>4.6</td>\n",
       "      <td>396,081</td>\n",
       "      <td>112</td>\n",
       "      <td>6,524</td>\n",
       "      <td>[해산물 요리, [참돔 (소), 참돔 (중), 참돔 (대), 전어, 활고등어]]</td>\n",
       "    </tr>\n",
       "    <tr>\n",
       "      <th>2</th>\n",
       "      <td>곰막</td>\n",
       "      <td>4.4</td>\n",
       "      <td>191,514</td>\n",
       "      <td>91</td>\n",
       "      <td>4,792</td>\n",
       "      <td>[해산물 요리, [회국수, 성게국수, 고등어구이, 전복회, 회덮밥]]</td>\n",
       "    </tr>\n",
       "    <tr>\n",
       "      <th>3</th>\n",
       "      <td>바다회사랑</td>\n",
       "      <td>4.4</td>\n",
       "      <td>87,587</td>\n",
       "      <td>78</td>\n",
       "      <td>2,236</td>\n",
       "      <td>[해산물 요리, [꽃멍게, 전어회(2인), 광어+연어 (소), 모듬회 (1인분), ...</td>\n",
       "    </tr>\n",
       "    <tr>\n",
       "      <th>4</th>\n",
       "      <td>어시장전주식당</td>\n",
       "      <td>4.4</td>\n",
       "      <td>36,024</td>\n",
       "      <td>18</td>\n",
       "      <td>1,038</td>\n",
       "      <td>[해산물 요리, [모듬회 (1인)]]</td>\n",
       "    </tr>\n",
       "    <tr>\n",
       "      <th>5</th>\n",
       "      <td>마라도 회식당</td>\n",
       "      <td>4.4</td>\n",
       "      <td>50,032</td>\n",
       "      <td>28</td>\n",
       "      <td>583</td>\n",
       "      <td>[해산물 요리, [최강달인물회, 모듬회 (중), 자연산모듬회 (중), 참가자미물회,...</td>\n",
       "    </tr>\n",
       "    <tr>\n",
       "      <th>6</th>\n",
       "      <td>표선어촌식당</td>\n",
       "      <td>4.4</td>\n",
       "      <td>52,545</td>\n",
       "      <td>20</td>\n",
       "      <td>971</td>\n",
       "      <td>[해산물 요리, [갈치조림 (소), 우럭조림 (소), 옥돔구이, 쥐치매운탕, 해물뚝...</td>\n",
       "    </tr>\n",
       "    <tr>\n",
       "      <th>7</th>\n",
       "      <td>전라상회</td>\n",
       "      <td>4.4</td>\n",
       "      <td>50,090</td>\n",
       "      <td>26</td>\n",
       "      <td>1,031</td>\n",
       "      <td>[해산물 요리, [전라 오마카세 (3인), 전라모듬회 특수부위 스페셜 (중), 감성...</td>\n",
       "    </tr>\n",
       "    <tr>\n",
       "      <th>8</th>\n",
       "      <td>바다회사랑</td>\n",
       "      <td>4.3</td>\n",
       "      <td>266,568</td>\n",
       "      <td>166</td>\n",
       "      <td>5,219</td>\n",
       "      <td>[해산물 요리, [광어 (소), 광어 (중), 광어 (대), 우럭 (중), 우럭 (...</td>\n",
       "    </tr>\n",
       "    <tr>\n",
       "      <th>9</th>\n",
       "      <td>형제상회</td>\n",
       "      <td>4.3</td>\n",
       "      <td>427,638</td>\n",
       "      <td>117</td>\n",
       "      <td>6,388</td>\n",
       "      <td>[해산물 요리, [모듬회 (1인), 모듬회 (2인), 모듬회 (3인), 모듬회 (4...</td>\n",
       "    </tr>\n",
       "  </tbody>\n",
       "</table>\n",
       "</div>"
      ],
      "text/plain": [
       "     title Point     View Review   Star  \\\n",
       "0   미영이네식당   4.7  235,724    103  5,030   \n",
       "1     남양수산   4.6  396,081    112  6,524   \n",
       "2       곰막   4.4  191,514     91  4,792   \n",
       "3    바다회사랑   4.4   87,587     78  2,236   \n",
       "4  어시장전주식당   4.4   36,024     18  1,038   \n",
       "5  마라도 회식당   4.4   50,032     28    583   \n",
       "6   표선어촌식당   4.4   52,545     20    971   \n",
       "7     전라상회   4.4   50,090     26  1,031   \n",
       "8    바다회사랑   4.3  266,568    166  5,219   \n",
       "9     형제상회   4.3  427,638    117  6,388   \n",
       "\n",
       "                                                Type  \n",
       "0      [해산물 요리, [고등어회 (대) + 탕, 고등어회 (소) + 탕, 고등어구이]]  \n",
       "1       [해산물 요리, [참돔 (소), 참돔 (중), 참돔 (대), 전어, 활고등어]]  \n",
       "2             [해산물 요리, [회국수, 성게국수, 고등어구이, 전복회, 회덮밥]]  \n",
       "3  [해산물 요리, [꽃멍게, 전어회(2인), 광어+연어 (소), 모듬회 (1인분), ...  \n",
       "4                               [해산물 요리, [모듬회 (1인)]]  \n",
       "5  [해산물 요리, [최강달인물회, 모듬회 (중), 자연산모듬회 (중), 참가자미물회,...  \n",
       "6  [해산물 요리, [갈치조림 (소), 우럭조림 (소), 옥돔구이, 쥐치매운탕, 해물뚝...  \n",
       "7  [해산물 요리, [전라 오마카세 (3인), 전라모듬회 특수부위 스페셜 (중), 감성...  \n",
       "8  [해산물 요리, [광어 (소), 광어 (중), 광어 (대), 우럭 (중), 우럭 (...  \n",
       "9  [해산물 요리, [모듬회 (1인), 모듬회 (2인), 모듬회 (3인), 모듬회 (4...  "
      ]
     },
     "execution_count": 90,
     "metadata": {},
     "output_type": "execute_result"
    }
   ],
   "source": [
    "df = FoodCrawling(row = 5, col = 2)\n",
    "df"
   ]
  },
  {
   "cell_type": "code",
   "execution_count": 77,
   "id": "c18c20f4",
   "metadata": {},
   "outputs": [
    {
     "data": {
      "text/plain": [
       "0    [해산물 요리, 고등어회 (대) + 탕\\n77,000원\\n고등어회 (소) + 탕\\n...\n",
       "1                                               해산물 요리\n",
       "2    [해산물 요리, 회국수\\n11,000원\\n성게국수\\n12,000원\\n고등어구이\\n1...\n",
       "3                                               해산물 요리\n",
       "4                          [해산물 요리, 모듬회 (1인)\\n25,000원]\n",
       "5                                               해산물 요리\n",
       "6                                               해산물 요리\n",
       "7    [해산물 요리, 전라 오마카세 (3인)\\n105,000원\\n전라모듬회 특수부위 스페...\n",
       "8                                               해산물 요리\n",
       "9                                               해산물 요리\n",
       "Name: Type, dtype: object"
      ]
     },
     "execution_count": 77,
     "metadata": {},
     "output_type": "execute_result"
    }
   ],
   "source": [
    "df.Type"
   ]
  },
  {
   "cell_type": "code",
   "execution_count": null,
   "id": "70591a70",
   "metadata": {},
   "outputs": [],
   "source": [
    "# 필요한 라이브러리를 임포트하기\n",
    "\n",
    "import sys # 시스템\n",
    "import os  # 시스템\n",
    "\n",
    "# 데이터 다루기\n",
    "import pandas as pd\n",
    "import numpy as np\n",
    "\n",
    "# selenium 크롤링\n",
    "from selenium import webdriver  \n",
    "from selenium.webdriver import ActionChains as AC\n",
    "from selenium.webdriver.support.ui import WebDriverWait\n",
    "from selenium.webdriver.support import expected_conditions as EC\n",
    "from selenium.webdriver.common.by import By\n",
    "\n",
    "# 크롬 드라이버\n",
    "#import chromedriver_autoinstaller\n",
    "\n",
    "# beautifulsoup 크롤링\n",
    "import requests\n",
    "from bs4 import BeautifulSoup\n",
    "\n",
    "# lxml 크롤링\n",
    "import lxml.html\n",
    "\n",
    "# 시간 조절\n",
    "import time\n",
    "\n",
    "# 시간 측정\n",
    "from tqdm import notebook\n",
    "\n",
    "# 정규표현식\n",
    "import re\n",
    "\n",
    "# 경고 무시\n",
    "import warnings\n",
    "warnings.filterwarnings('ignore')"
   ]
  },
  {
   "cell_type": "code",
   "execution_count": 95,
   "id": "ba7bc1bb",
   "metadata": {},
   "outputs": [
    {
     "ename": "IndentationError",
     "evalue": "expected an indented block (2429569189.py, line 1)",
     "output_type": "error",
     "traceback": [
      "\u001b[1;36m  Input \u001b[1;32mIn [95]\u001b[1;36m\u001b[0m\n\u001b[1;33m    def page_up(nums, driver):\u001b[0m\n\u001b[1;37m                              ^\u001b[0m\n\u001b[1;31mIndentationError\u001b[0m\u001b[1;31m:\u001b[0m expected an indented block\n"
     ]
    }
   ],
   "source": [
    "def page_up(nums, driver):"
   ]
  },
  {
   "cell_type": "code",
   "execution_count": 91,
   "id": "9335fd99",
   "metadata": {},
   "outputs": [],
   "source": [
    "def review_crawling(driver):\n",
    "    driver.execute_script(\"window.scrollTo(0, 800)\")\n",
    "    element = 'div.RestaurantReviewList__MoreReviewButton'\n",
    "    driver.find_element(By.CSS_SELECTOR, element).click()\n",
    "    time.sleep(0.5)\n",
    "    \n",
    "    "
   ]
  },
  {
   "cell_type": "code",
   "execution_count": 92,
   "id": "5cb76ba9",
   "metadata": {},
   "outputs": [],
   "source": [
    "# 음식점 1개에서 정보 크롤링 함수\n",
    "def FoodCrawling(row, col):\n",
    "    # 전체 담을 그릇\n",
    "    total_dict = {}\n",
    "    k = 0\n",
    "    \n",
    "    for i in range(row):\n",
    "        driver.execute_script(\"window.scrollTo(0, 200)\")\n",
    "        for j in range(col):\n",
    "            # 동영상 1개 담을 그릇\n",
    "            sub_dict = {}\n",
    "            \n",
    "            # 음식점 클릭\n",
    "            element = f'body > main > article > div.column-wrapper > div > div > section > div.search-list-restaurants-inner-wrap > ul > li:nth-child({i+1}) > div:nth-child({j+1}) > figure > a > div > img'\n",
    "            driver.find_element(By.CSS_SELECTOR,element).click()\n",
    "            time.sleep(0.5)\n",
    "\n",
    "            # 가게 이름 크롤링\n",
    "            element = 'body > main > article > div.column-wrapper > div.column-contents > div > section.restaurant-detail > header > div.restaurant_title_wrap > span > h1'\n",
    "            title_raw = driver.find_element(By.CSS_SELECTOR, element)\n",
    "            title = title_raw.text\n",
    "\n",
    "            # 가게 전체 평점 점수 크롤링\n",
    "            element = 'body > main > article > div.column-wrapper > div.column-contents > div > section.restaurant-detail > header > div.restaurant_title_wrap > span > strong > span'\n",
    "            total_raw = driver.find_element(By.CSS_SELECTOR,element)\n",
    "            total = total_raw.text\n",
    "            \n",
    "            # 조회수 크롤링\n",
    "            try:\n",
    "                element = 'body > main > article > div.column-wrapper > div.column-contents > div > section.restaurant-detail > header > div.status.branch_none > span.cnt.hit'\n",
    "                view_raw = driver.find_element(By.CSS_SELECTOR,element)\n",
    "                view = view_raw.text\n",
    "            except:\n",
    "                element = 'body > main > article > div.column-wrapper > div.column-contents > div > section.restaurant-detail > header > div.status > span.cnt.hit'\n",
    "                view_raw = driver.find_element(By.CSS_SELECTOR,element)\n",
    "                view = view_raw.text\n",
    "\n",
    "            # 리뷰 개수 크롤링\n",
    "            try:\n",
    "                element = 'body > main > article > div.column-wrapper > div.column-contents > div > section.restaurant-detail > header > div.status.branch_none > span.cnt.review'\n",
    "                review_raw = driver.find_element(By.CSS_SELECTOR,element)\n",
    "                num_review = review_raw.text\n",
    "\n",
    "            except:\n",
    "                element = 'body > main > article > div.column-wrapper > div.column-contents > div > section.restaurant-detail > header > div.status > span.cnt.review'\n",
    "                review_raw = driver.find_element(By.CSS_SELECTOR,element)\n",
    "                num_review = review_raw.text\n",
    "\n",
    "            # 별표 개수 크롤링\n",
    "            try:\n",
    "                element = 'body > main > article > div.column-wrapper > div.column-contents > div > section.restaurant-detail > header > div.status.branch_none > span.cnt.favorite'\n",
    "                star_raw = driver.find_element(By.CSS_SELECTOR,element)\n",
    "                num_star = star_raw.text\n",
    "\n",
    "            except:\n",
    "                element = 'body > main > article > div.column-wrapper > div.column-contents > div > section.restaurant-detail > header > div.status > span.cnt.favorite'\n",
    "                star_raw = driver.find_element(By.CSS_SELECTOR,element)\n",
    "                num_star = star_raw.text\n",
    "\n",
    "            # 음식 종류 \n",
    "            try:\n",
    "                element1 = 'body > main > article > div.column-wrapper > div.column-contents > div > section.restaurant-detail > table > tbody > tr:nth-child(3) > td > span'\n",
    "                type_raw = driver.find_element(By.CSS_SELECTOR,element1)\n",
    "                type_raw = type_raw.text\n",
    "                food_type = type_raw\n",
    "            except:\n",
    "                element1 = 'body > main > article > div.column-wrapper > div.column-contents > div > section.restaurant-detail > table > tbody > tr:nth-child(2) > td > span'\n",
    "                type_raw = driver.find_element(By.CSS_SELECTOR,element1)\n",
    "                type_raw = type_raw.text\n",
    "                food_type = type_raw\n",
    "                \n",
    "            # 메뉴 크롤링 \n",
    "            try:\n",
    "                element2 = 'span.Restaurant_Menu'\n",
    "                menu_elements = driver.find_elements(By.CSS_SELECTOR,element2)\n",
    "                food_menu = [menu_element.text for menu_element in menu_elements]\n",
    "            except:\n",
    "                pass\n",
    "            \n",
    "            # 리뷰 크롤링\n",
    "            try :\n",
    "                review_list = review_crawling(driver)\n",
    "            except:\n",
    "                pass\n",
    "            # sub_dict에 담기\n",
    "            sub_dict['title'] = title\n",
    "            sub_dict['Point'] = total\n",
    "            sub_dict['View'] = view\n",
    "            sub_dict['Review'] = num_review\n",
    "            sub_dict['Star'] = num_star\n",
    "            sub_dict['Type'] = food_type\n",
    "            sub_dict['Menu'] = food_menu\n",
    "            sub_dic\n",
    "            \n",
    "             # total_dict에 담기\n",
    "            total_dict[k] = sub_dict\n",
    "            k += 1\n",
    "            time.sleep(1)\n",
    "            \n",
    "            # 뒤로 가기\n",
    "            driver.back()\n",
    "            time.sleep(0.5)\n",
    "            \n",
    "    df = pd.DataFrame.from_dict(total_dict, orient='index')\n",
    "    driver.close()\n",
    "    return df"
   ]
  },
  {
   "cell_type": "code",
   "execution_count": null,
   "id": "a4cb67fe",
   "metadata": {},
   "outputs": [],
   "source": []
  }
 ],
 "metadata": {
  "kernelspec": {
   "display_name": "Python 3 (ipykernel)",
   "language": "python",
   "name": "python3"
  },
  "language_info": {
   "codemirror_mode": {
    "name": "ipython",
    "version": 3
   },
   "file_extension": ".py",
   "mimetype": "text/x-python",
   "name": "python",
   "nbconvert_exporter": "python",
   "pygments_lexer": "ipython3",
   "version": "3.9.12"
  }
 },
 "nbformat": 4,
 "nbformat_minor": 5
}
