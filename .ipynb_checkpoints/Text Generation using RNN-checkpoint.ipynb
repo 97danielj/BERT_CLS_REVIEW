{
 "cells": [
  {
   "cell_type": "markdown",
   "id": "9c2c3fc4",
   "metadata": {},
   "source": [
    "# 1) 데이터에 대한 이해와 전처리"
   ]
  },
  {
   "cell_type": "code",
   "execution_count": 1,
   "id": "70b2c2e4",
   "metadata": {},
   "outputs": [],
   "source": [
    "import numpy as np\n",
    "from tensorflow.keras.preprocessing.text import Tokenizer #토크나이저 => 단어집합을 생성시켜준다.\n",
    "from tensorflow.keras.preprocessing.sequence import pad_sequences # 벡터를 패딩시켜준다.\n",
    "from tensorflow.keras.utils import to_categorical #원-핫 인코딩|"
   ]
  },
  {
   "cell_type": "markdown",
   "id": "b4c66d95",
   "metadata": {},
   "source": [
    "# 코퍼스"
   ]
  },
  {
   "cell_type": "code",
   "execution_count": 2,
   "id": "3a9400d0",
   "metadata": {},
   "outputs": [],
   "source": [
    "text = \"\"\"경마장에 있는 말이 뛰고 있다\\n\n",
    "그의 말이 법이다\\n\n",
    "가는 말이 고와야 오는 말이 곱다\\n\"\"\""
   ]
  },
  {
   "cell_type": "code",
   "execution_count": 3,
   "id": "4b94af1b",
   "metadata": {},
   "outputs": [
    {
     "name": "stdout",
     "output_type": "stream",
     "text": [
      "{'말이': 1, '경마장에': 2, '있는': 3, '뛰고': 4, '있다': 5, '그의': 6, '법이다': 7, '가는': 8, '고와야': 9, '오는': 10, '곱다': 11}\n",
      "단어집합의 크기 12\n"
     ]
    }
   ],
   "source": [
    "#단어집합을 생성하고 크기를 확인\n",
    "# 1. 정수 인코딩\n",
    "tokenizer = Tokenizer()\n",
    "tokenizer.fit_on_texts([text]) #단어 집합을 생성\n",
    "print(tokenizer.word_index)\n",
    "vocab_size = len(tokenizer.word_index)+1 #패딩을 위한 0을 고려\n",
    "print('단어집합의 크기 %d' % vocab_size) "
   ]
  },
  {
   "cell_type": "markdown",
   "id": "6cdc0901",
   "metadata": {},
   "source": [
    "# 훈련데이터 생성"
   ]
  },
  {
   "cell_type": "code",
   "execution_count": 4,
   "id": "43d5d358",
   "metadata": {},
   "outputs": [
    {
     "name": "stdout",
     "output_type": "stream",
     "text": [
      "학습에 사용할 샘플의 개수: 11\n"
     ]
    }
   ],
   "source": [
    "sequences = list()\n",
    "for line in text.split('\\n'): # 줄바꿈 문자 기준으로 코퍼스 분리\n",
    "    encoded = tokenizer.texts_to_sequences([line])[0] #문장을 정수 토큰화\n",
    "    for i in range(1, len(encoded)): # 1~문장의 길이\n",
    "        sequence = encoded[:i+1]\n",
    "        sequences.append(sequence)\n",
    "\n",
    "print('학습에 사용할 샘플의 개수: %d' % len(sequences))"
   ]
  },
  {
   "cell_type": "code",
   "execution_count": 5,
   "id": "31ac27f0",
   "metadata": {},
   "outputs": [
    {
     "data": {
      "text/plain": [
       "[[2, 3],\n",
       " [2, 3, 1],\n",
       " [2, 3, 1, 4],\n",
       " [2, 3, 1, 4, 5],\n",
       " [6, 1],\n",
       " [6, 1, 7],\n",
       " [8, 1],\n",
       " [8, 1, 9],\n",
       " [8, 1, 9, 10],\n",
       " [8, 1, 9, 10, 1],\n",
       " [8, 1, 9, 10, 1, 11]]"
      ]
     },
     "execution_count": 5,
     "metadata": {},
     "output_type": "execute_result"
    }
   ],
   "source": [
    "sequences\n",
    "#위 데이터는 레이블로 사용될 단어를 분리하지 않은 훈련데이터이다.\n",
    "#전체 훈련데이터에 대해서 맨 우측에 있는 단어만 대해서만 레이블로 븐리해야 합니다."
   ]
  },
  {
   "cell_type": "markdown",
   "id": "d86ed72a",
   "metadata": {},
   "source": [
    "# 훈련데이터 길이 맞추기"
   ]
  },
  {
   "cell_type": "code",
   "execution_count": 6,
   "id": "d539ff56",
   "metadata": {},
   "outputs": [
    {
     "name": "stdout",
     "output_type": "stream",
     "text": [
      "샘플의 최대 길이 : 6\n"
     ]
    }
   ],
   "source": [
    "max_len = max(len(l) for l in sequences) # 모든 샘플에서 길이가 가장 긴 샘플의 길이 출력\n",
    "print('샘플의 최대 길이 : {}'.format(max_len))"
   ]
  },
  {
   "cell_type": "code",
   "execution_count": 7,
   "id": "a5f5b5c8",
   "metadata": {},
   "outputs": [],
   "source": [
    "#전체 샘플의 길이를 6으로 맞춰준다.\n",
    "sequences = pad_sequences(sequences, maxlen=max_len, padding='pre')"
   ]
  },
  {
   "cell_type": "raw",
   "id": "fd59585c",
   "metadata": {},
   "source": [
    "pad_sequences()는 모든 샘플에 대해서 0을 사용하여 길이를 맞춰줍니다. maxlen의 값으로 6을 주면 모든 샘플의 길이를 6으로 맞춰주며, padding의 인자로 'pre'를 주면 길이가 6보다 짧은 샘플의 앞에 0으로 채웁니다. 전체 훈련 데이터를 출력해봅니다."
   ]
  },
  {
   "cell_type": "code",
   "execution_count": 8,
   "id": "f6a1b97a",
   "metadata": {},
   "outputs": [
    {
     "data": {
      "text/plain": [
       "array([[ 0,  0,  0,  0,  2,  3],\n",
       "       [ 0,  0,  0,  2,  3,  1],\n",
       "       [ 0,  0,  2,  3,  1,  4],\n",
       "       [ 0,  2,  3,  1,  4,  5],\n",
       "       [ 0,  0,  0,  0,  6,  1],\n",
       "       [ 0,  0,  0,  6,  1,  7],\n",
       "       [ 0,  0,  0,  0,  8,  1],\n",
       "       [ 0,  0,  0,  8,  1,  9],\n",
       "       [ 0,  0,  8,  1,  9, 10],\n",
       "       [ 0,  8,  1,  9, 10,  1],\n",
       "       [ 8,  1,  9, 10,  1, 11]])"
      ]
     },
     "execution_count": 8,
     "metadata": {},
     "output_type": "execute_result"
    }
   ],
   "source": [
    "sequences"
   ]
  },
  {
   "cell_type": "markdown",
   "id": "9f46968b",
   "metadata": {},
   "source": [
    "# 각 샘플의 마지막 단어를 레이블로 분리"
   ]
  },
  {
   "cell_type": "code",
   "execution_count": 9,
   "id": "66c7527b",
   "metadata": {},
   "outputs": [
    {
     "data": {
      "text/plain": [
       "array([[ 0,  0,  0,  0,  2,  3],\n",
       "       [ 0,  0,  0,  2,  3,  1],\n",
       "       [ 0,  0,  2,  3,  1,  4],\n",
       "       [ 0,  2,  3,  1,  4,  5],\n",
       "       [ 0,  0,  0,  0,  6,  1],\n",
       "       [ 0,  0,  0,  6,  1,  7],\n",
       "       [ 0,  0,  0,  0,  8,  1],\n",
       "       [ 0,  0,  0,  8,  1,  9],\n",
       "       [ 0,  0,  8,  1,  9, 10],\n",
       "       [ 0,  8,  1,  9, 10,  1],\n",
       "       [ 8,  1,  9, 10,  1, 11]])"
      ]
     },
     "execution_count": 9,
     "metadata": {},
     "output_type": "execute_result"
    }
   ],
   "source": [
    "#레이블븐리는 Numpy를 사용해서 가능\n",
    "import numpy as np\n",
    "np.array(sequences)"
   ]
  },
  {
   "cell_type": "code",
   "execution_count": 10,
   "id": "e84b382f",
   "metadata": {},
   "outputs": [],
   "source": [
    "# X : 리스트의 마지막 값을 제외하고 저장 -> 입력데이터\n",
    "# y : 리스트의 마지막 값만을 저장 -> 레이블 \n",
    "sequences = np.array(sequences)\n",
    "X = sequences[:,:-1] # 2차원 배열\n",
    "y = sequences[:,-1] # 1차원 벡터(레이블)"
   ]
  },
  {
   "cell_type": "code",
   "execution_count": 11,
   "id": "370892e8",
   "metadata": {},
   "outputs": [
    {
     "data": {
      "text/plain": [
       "array([[ 0,  0,  0,  0,  2],\n",
       "       [ 0,  0,  0,  2,  3],\n",
       "       [ 0,  0,  2,  3,  1],\n",
       "       [ 0,  2,  3,  1,  4],\n",
       "       [ 0,  0,  0,  0,  6],\n",
       "       [ 0,  0,  0,  6,  1],\n",
       "       [ 0,  0,  0,  0,  8],\n",
       "       [ 0,  0,  0,  8,  1],\n",
       "       [ 0,  0,  8,  1,  9],\n",
       "       [ 0,  8,  1,  9, 10],\n",
       "       [ 8,  1,  9, 10,  1]])"
      ]
     },
     "execution_count": 11,
     "metadata": {},
     "output_type": "execute_result"
    }
   ],
   "source": [
    "X"
   ]
  },
  {
   "cell_type": "code",
   "execution_count": 12,
   "id": "31f704ea",
   "metadata": {},
   "outputs": [
    {
     "data": {
      "text/plain": [
       "array([ 3,  1,  4,  5,  1,  7,  1,  9, 10,  1, 11])"
      ]
     },
     "execution_count": 12,
     "metadata": {},
     "output_type": "execute_result"
    }
   ],
   "source": [
    "y"
   ]
  },
  {
   "cell_type": "markdown",
   "id": "c0ef3e37",
   "metadata": {},
   "source": [
    "# 원-핫 인코딩"
   ]
  },
  {
   "cell_type": "code",
   "execution_count": 13,
   "id": "e9639f51",
   "metadata": {},
   "outputs": [],
   "source": [
    "# 레이블이 분리되었습니다. RNN 모델에 훈련 데이터를 훈련 시키기 전에 레이블에 대해서 원-핫 인코딩을 수행합니다.\n",
    "y = to_categorical(y, num_classes=vocab_size)"
   ]
  },
  {
   "cell_type": "code",
   "execution_count": 14,
   "id": "87eea290",
   "metadata": {},
   "outputs": [
    {
     "data": {
      "text/plain": [
       "array([[0., 0., 0., 1., 0., 0., 0., 0., 0., 0., 0., 0.],\n",
       "       [0., 1., 0., 0., 0., 0., 0., 0., 0., 0., 0., 0.],\n",
       "       [0., 0., 0., 0., 1., 0., 0., 0., 0., 0., 0., 0.],\n",
       "       [0., 0., 0., 0., 0., 1., 0., 0., 0., 0., 0., 0.],\n",
       "       [0., 1., 0., 0., 0., 0., 0., 0., 0., 0., 0., 0.],\n",
       "       [0., 0., 0., 0., 0., 0., 0., 1., 0., 0., 0., 0.],\n",
       "       [0., 1., 0., 0., 0., 0., 0., 0., 0., 0., 0., 0.],\n",
       "       [0., 0., 0., 0., 0., 0., 0., 0., 0., 1., 0., 0.],\n",
       "       [0., 0., 0., 0., 0., 0., 0., 0., 0., 0., 1., 0.],\n",
       "       [0., 1., 0., 0., 0., 0., 0., 0., 0., 0., 0., 0.],\n",
       "       [0., 0., 0., 0., 0., 0., 0., 0., 0., 0., 0., 1.]], dtype=float32)"
      ]
     },
     "execution_count": 14,
     "metadata": {},
     "output_type": "execute_result"
    }
   ],
   "source": [
    "y"
   ]
  },
  {
   "cell_type": "raw",
   "id": "e9df6c17",
   "metadata": {},
   "source": [
    "갑분 정리\n",
    "RNNLM은 입력 길이에 상관없이 시점 개념을 적용하여 다음 단어를 예측 가능하다.\n",
    "RNNLM은 기본적을 예측과정에서 이전 출력을 현재시점의 입력으로 합니다.\n",
    "교사 강요 방식 : 테스트 과정에서 t 시점의 출력이 t+1 시점의 입력으로 사용되는 RNN 모델을 훈련시킬 때 사용하는 훈련 기법입니다. 단 훈련시에는 이전 시점의 출력이 아닌 이전 시점의 레이블(알고 있는 정답)을 입력을 사용한다.\n",
    "cf) 데이터 처리 와 모델링\n",
    "1. 데이터\n",
    "    1. 훈련 코퍼스 정수 인코딩 -> Tokenizer\n",
    "    2. 인코딩 벡터를 동일 길이로 패딩 -> pad_sequences\n",
    "    3. 인코딩 벡터를 입력 데이터 X와 출력 레이블y 로 분리\n",
    "    4. 출력 레이블 y를 원-핫인코딩\n",
    "2. 모델링\n",
    "    input layer : 입력 벡터(V)(=단어 집합의 크기)\n",
    "    Embedding layer : 임베딩 층 (V, M), 임베딩 벡터 : M\n",
    "    Hidden layer : 은닉 상태 ht \n",
    "    Output layer : 출력층(소프트 맥스) / 입력 벡터의크기(V) / cross-entropy 지수로 나온다.\n",
    "    "
   ]
  },
  {
   "cell_type": "markdown",
   "id": "8f086534",
   "metadata": {},
   "source": [
    "# 모델설계하기"
   ]
  },
  {
   "cell_type": "code",
   "execution_count": 15,
   "id": "733dea83",
   "metadata": {},
   "outputs": [],
   "source": [
    "from tensorflow.keras.models import Sequential\n",
    "from tensorflow.keras.layers import Embedding, Dense, SimpleRNN"
   ]
  },
  {
   "cell_type": "code",
   "execution_count": 16,
   "id": "6339f37c",
   "metadata": {},
   "outputs": [
    {
     "name": "stdout",
     "output_type": "stream",
     "text": [
      "Epoch 1/200\n",
      "1/1 - 1s - loss: 2.4713 - accuracy: 0.0909 - 947ms/epoch - 947ms/step\n",
      "Epoch 2/200\n",
      "1/1 - 0s - loss: 2.4575 - accuracy: 0.3636 - 2ms/epoch - 2ms/step\n",
      "Epoch 3/200\n",
      "1/1 - 0s - loss: 2.4439 - accuracy: 0.3636 - 2ms/epoch - 2ms/step\n",
      "Epoch 4/200\n",
      "1/1 - 0s - loss: 2.4304 - accuracy: 0.3636 - 2ms/epoch - 2ms/step\n",
      "Epoch 5/200\n",
      "1/1 - 0s - loss: 2.4169 - accuracy: 0.6364 - 2ms/epoch - 2ms/step\n",
      "Epoch 6/200\n",
      "1/1 - 0s - loss: 2.4032 - accuracy: 0.6364 - 2ms/epoch - 2ms/step\n",
      "Epoch 7/200\n",
      "1/1 - 0s - loss: 2.3892 - accuracy: 0.6364 - 2ms/epoch - 2ms/step\n",
      "Epoch 8/200\n",
      "1/1 - 0s - loss: 2.3748 - accuracy: 0.5455 - 2ms/epoch - 2ms/step\n",
      "Epoch 9/200\n",
      "1/1 - 0s - loss: 2.3600 - accuracy: 0.5455 - 2ms/epoch - 2ms/step\n",
      "Epoch 10/200\n",
      "1/1 - 0s - loss: 2.3447 - accuracy: 0.6364 - 998us/epoch - 998us/step\n",
      "Epoch 11/200\n",
      "1/1 - 0s - loss: 2.3288 - accuracy: 0.5455 - 2ms/epoch - 2ms/step\n",
      "Epoch 12/200\n",
      "1/1 - 0s - loss: 2.3123 - accuracy: 0.5455 - 2ms/epoch - 2ms/step\n",
      "Epoch 13/200\n",
      "1/1 - 0s - loss: 2.2951 - accuracy: 0.4545 - 998us/epoch - 998us/step\n",
      "Epoch 14/200\n",
      "1/1 - 0s - loss: 2.2771 - accuracy: 0.4545 - 2ms/epoch - 2ms/step\n",
      "Epoch 15/200\n",
      "1/1 - 0s - loss: 2.2584 - accuracy: 0.4545 - 997us/epoch - 997us/step\n",
      "Epoch 16/200\n",
      "1/1 - 0s - loss: 2.2389 - accuracy: 0.4545 - 2ms/epoch - 2ms/step\n",
      "Epoch 17/200\n",
      "1/1 - 0s - loss: 2.2186 - accuracy: 0.4545 - 2ms/epoch - 2ms/step\n",
      "Epoch 18/200\n",
      "1/1 - 0s - loss: 2.1975 - accuracy: 0.4545 - 998us/epoch - 998us/step\n",
      "Epoch 19/200\n",
      "1/1 - 0s - loss: 2.1756 - accuracy: 0.4545 - 997us/epoch - 997us/step\n",
      "Epoch 20/200\n",
      "1/1 - 0s - loss: 2.1529 - accuracy: 0.4545 - 2ms/epoch - 2ms/step\n",
      "Epoch 21/200\n",
      "1/1 - 0s - loss: 2.1295 - accuracy: 0.4545 - 997us/epoch - 997us/step\n",
      "Epoch 22/200\n",
      "1/1 - 0s - loss: 2.1055 - accuracy: 0.4545 - 2ms/epoch - 2ms/step\n",
      "Epoch 23/200\n",
      "1/1 - 0s - loss: 2.0810 - accuracy: 0.4545 - 2ms/epoch - 2ms/step\n",
      "Epoch 24/200\n",
      "1/1 - 0s - loss: 2.0560 - accuracy: 0.4545 - 2ms/epoch - 2ms/step\n",
      "Epoch 25/200\n",
      "1/1 - 0s - loss: 2.0308 - accuracy: 0.4545 - 2ms/epoch - 2ms/step\n",
      "Epoch 26/200\n",
      "1/1 - 0s - loss: 2.0054 - accuracy: 0.4545 - 997us/epoch - 997us/step\n",
      "Epoch 27/200\n",
      "1/1 - 0s - loss: 1.9802 - accuracy: 0.4545 - 2ms/epoch - 2ms/step\n",
      "Epoch 28/200\n",
      "1/1 - 0s - loss: 1.9552 - accuracy: 0.4545 - 998us/epoch - 998us/step\n",
      "Epoch 29/200\n",
      "1/1 - 0s - loss: 1.9307 - accuracy: 0.4545 - 2ms/epoch - 2ms/step\n",
      "Epoch 30/200\n",
      "1/1 - 0s - loss: 1.9067 - accuracy: 0.4545 - 2ms/epoch - 2ms/step\n",
      "Epoch 31/200\n",
      "1/1 - 0s - loss: 1.8835 - accuracy: 0.4545 - 2ms/epoch - 2ms/step\n",
      "Epoch 32/200\n",
      "1/1 - 0s - loss: 1.8611 - accuracy: 0.4545 - 2ms/epoch - 2ms/step\n",
      "Epoch 33/200\n",
      "1/1 - 0s - loss: 1.8395 - accuracy: 0.4545 - 997us/epoch - 997us/step\n",
      "Epoch 34/200\n",
      "1/1 - 0s - loss: 1.8186 - accuracy: 0.4545 - 2ms/epoch - 2ms/step\n",
      "Epoch 35/200\n",
      "1/1 - 0s - loss: 1.7981 - accuracy: 0.4545 - 997us/epoch - 997us/step\n",
      "Epoch 36/200\n",
      "1/1 - 0s - loss: 1.7779 - accuracy: 0.4545 - 999us/epoch - 999us/step\n",
      "Epoch 37/200\n",
      "1/1 - 0s - loss: 1.7578 - accuracy: 0.4545 - 2ms/epoch - 2ms/step\n",
      "Epoch 38/200\n",
      "1/1 - 0s - loss: 1.7374 - accuracy: 0.4545 - 997us/epoch - 997us/step\n",
      "Epoch 39/200\n",
      "1/1 - 0s - loss: 1.7167 - accuracy: 0.4545 - 2ms/epoch - 2ms/step\n",
      "Epoch 40/200\n",
      "1/1 - 0s - loss: 1.6954 - accuracy: 0.4545 - 997us/epoch - 997us/step\n",
      "Epoch 41/200\n",
      "1/1 - 0s - loss: 1.6735 - accuracy: 0.4545 - 2ms/epoch - 2ms/step\n",
      "Epoch 42/200\n",
      "1/1 - 0s - loss: 1.6510 - accuracy: 0.4545 - 2ms/epoch - 2ms/step\n",
      "Epoch 43/200\n",
      "1/1 - 0s - loss: 1.6278 - accuracy: 0.4545 - 2ms/epoch - 2ms/step\n",
      "Epoch 44/200\n",
      "1/1 - 0s - loss: 1.6042 - accuracy: 0.4545 - 997us/epoch - 997us/step\n",
      "Epoch 45/200\n",
      "1/1 - 0s - loss: 1.5803 - accuracy: 0.4545 - 2ms/epoch - 2ms/step\n",
      "Epoch 46/200\n",
      "1/1 - 0s - loss: 1.5560 - accuracy: 0.4545 - 997us/epoch - 997us/step\n",
      "Epoch 47/200\n",
      "1/1 - 0s - loss: 1.5315 - accuracy: 0.4545 - 998us/epoch - 998us/step\n",
      "Epoch 48/200\n",
      "1/1 - 0s - loss: 1.5069 - accuracy: 0.5455 - 2ms/epoch - 2ms/step\n",
      "Epoch 49/200\n",
      "1/1 - 0s - loss: 1.4822 - accuracy: 0.5455 - 2ms/epoch - 2ms/step\n",
      "Epoch 50/200\n",
      "1/1 - 0s - loss: 1.4575 - accuracy: 0.5455 - 2ms/epoch - 2ms/step\n",
      "Epoch 51/200\n",
      "1/1 - 0s - loss: 1.4327 - accuracy: 0.5455 - 998us/epoch - 998us/step\n",
      "Epoch 52/200\n",
      "1/1 - 0s - loss: 1.4079 - accuracy: 0.5455 - 997us/epoch - 997us/step\n",
      "Epoch 53/200\n",
      "1/1 - 0s - loss: 1.3831 - accuracy: 0.5455 - 2ms/epoch - 2ms/step\n",
      "Epoch 54/200\n",
      "1/1 - 0s - loss: 1.3582 - accuracy: 0.5455 - 2ms/epoch - 2ms/step\n",
      "Epoch 55/200\n",
      "1/1 - 0s - loss: 1.3332 - accuracy: 0.5455 - 2ms/epoch - 2ms/step\n",
      "Epoch 56/200\n",
      "1/1 - 0s - loss: 1.3083 - accuracy: 0.5455 - 2ms/epoch - 2ms/step\n",
      "Epoch 57/200\n",
      "1/1 - 0s - loss: 1.2833 - accuracy: 0.5455 - 997us/epoch - 997us/step\n",
      "Epoch 58/200\n",
      "1/1 - 0s - loss: 1.2584 - accuracy: 0.5455 - 997us/epoch - 997us/step\n",
      "Epoch 59/200\n",
      "1/1 - 0s - loss: 1.2336 - accuracy: 0.5455 - 2ms/epoch - 2ms/step\n",
      "Epoch 60/200\n",
      "1/1 - 0s - loss: 1.2089 - accuracy: 0.5455 - 2ms/epoch - 2ms/step\n",
      "Epoch 61/200\n",
      "1/1 - 0s - loss: 1.1845 - accuracy: 0.5455 - 998us/epoch - 998us/step\n",
      "Epoch 62/200\n",
      "1/1 - 0s - loss: 1.1604 - accuracy: 0.5455 - 2ms/epoch - 2ms/step\n",
      "Epoch 63/200\n",
      "1/1 - 0s - loss: 1.1367 - accuracy: 0.6364 - 998us/epoch - 998us/step\n",
      "Epoch 64/200\n",
      "1/1 - 0s - loss: 1.1134 - accuracy: 0.6364 - 2ms/epoch - 2ms/step\n",
      "Epoch 65/200\n",
      "1/1 - 0s - loss: 1.0906 - accuracy: 0.6364 - 997us/epoch - 997us/step\n",
      "Epoch 66/200\n",
      "1/1 - 0s - loss: 1.0683 - accuracy: 0.6364 - 998us/epoch - 998us/step\n",
      "Epoch 67/200\n",
      "1/1 - 0s - loss: 1.0465 - accuracy: 0.6364 - 2ms/epoch - 2ms/step\n",
      "Epoch 68/200\n",
      "1/1 - 0s - loss: 1.0252 - accuracy: 0.6364 - 998us/epoch - 998us/step\n",
      "Epoch 69/200\n",
      "1/1 - 0s - loss: 1.0044 - accuracy: 0.7273 - 998us/epoch - 998us/step\n",
      "Epoch 70/200\n",
      "1/1 - 0s - loss: 0.9841 - accuracy: 0.7273 - 997us/epoch - 997us/step\n",
      "Epoch 71/200\n",
      "1/1 - 0s - loss: 0.9643 - accuracy: 0.7273 - 2ms/epoch - 2ms/step\n",
      "Epoch 72/200\n",
      "1/1 - 0s - loss: 0.9450 - accuracy: 0.7273 - 2ms/epoch - 2ms/step\n",
      "Epoch 73/200\n",
      "1/1 - 0s - loss: 0.9262 - accuracy: 0.7273 - 997us/epoch - 997us/step\n",
      "Epoch 74/200\n",
      "1/1 - 0s - loss: 0.9078 - accuracy: 0.7273 - 998us/epoch - 998us/step\n",
      "Epoch 75/200\n",
      "1/1 - 0s - loss: 0.8898 - accuracy: 0.7273 - 2ms/epoch - 2ms/step\n",
      "Epoch 76/200\n",
      "1/1 - 0s - loss: 0.8722 - accuracy: 0.7273 - 997us/epoch - 997us/step\n",
      "Epoch 77/200\n",
      "1/1 - 0s - loss: 0.8551 - accuracy: 0.7273 - 2ms/epoch - 2ms/step\n",
      "Epoch 78/200\n",
      "1/1 - 0s - loss: 0.8383 - accuracy: 0.7273 - 2ms/epoch - 2ms/step\n",
      "Epoch 79/200\n",
      "1/1 - 0s - loss: 0.8220 - accuracy: 0.7273 - 997us/epoch - 997us/step\n",
      "Epoch 80/200\n",
      "1/1 - 0s - loss: 0.8059 - accuracy: 0.8182 - 998us/epoch - 998us/step\n",
      "Epoch 81/200\n",
      "1/1 - 0s - loss: 0.7903 - accuracy: 0.8182 - 998us/epoch - 998us/step\n",
      "Epoch 82/200\n",
      "1/1 - 0s - loss: 0.7750 - accuracy: 0.8182 - 2ms/epoch - 2ms/step\n",
      "Epoch 83/200\n",
      "1/1 - 0s - loss: 0.7600 - accuracy: 0.8182 - 2ms/epoch - 2ms/step\n",
      "Epoch 84/200\n",
      "1/1 - 0s - loss: 0.7453 - accuracy: 0.8182 - 997us/epoch - 997us/step\n",
      "Epoch 85/200\n",
      "1/1 - 0s - loss: 0.7310 - accuracy: 0.8182 - 997us/epoch - 997us/step\n",
      "Epoch 86/200\n",
      "1/1 - 0s - loss: 0.7169 - accuracy: 0.8182 - 2ms/epoch - 2ms/step\n",
      "Epoch 87/200\n",
      "1/1 - 0s - loss: 0.7031 - accuracy: 0.8182 - 2ms/epoch - 2ms/step\n",
      "Epoch 88/200\n",
      "1/1 - 0s - loss: 0.6897 - accuracy: 0.8182 - 998us/epoch - 998us/step\n",
      "Epoch 89/200\n",
      "1/1 - 0s - loss: 0.6764 - accuracy: 0.8182 - 2ms/epoch - 2ms/step\n",
      "Epoch 90/200\n",
      "1/1 - 0s - loss: 0.6635 - accuracy: 0.8182 - 2ms/epoch - 2ms/step\n",
      "Epoch 91/200\n",
      "1/1 - 0s - loss: 0.6508 - accuracy: 0.8182 - 2ms/epoch - 2ms/step\n",
      "Epoch 92/200\n",
      "1/1 - 0s - loss: 0.6384 - accuracy: 0.8182 - 998us/epoch - 998us/step\n",
      "Epoch 93/200\n",
      "1/1 - 0s - loss: 0.6263 - accuracy: 0.8182 - 2ms/epoch - 2ms/step\n",
      "Epoch 94/200\n",
      "1/1 - 0s - loss: 0.6144 - accuracy: 0.8182 - 2ms/epoch - 2ms/step\n",
      "Epoch 95/200\n",
      "1/1 - 0s - loss: 0.6027 - accuracy: 0.8182 - 997us/epoch - 997us/step\n",
      "Epoch 96/200\n",
      "1/1 - 0s - loss: 0.5913 - accuracy: 0.8182 - 2ms/epoch - 2ms/step\n",
      "Epoch 97/200\n",
      "1/1 - 0s - loss: 0.5801 - accuracy: 0.8182 - 997us/epoch - 997us/step\n",
      "Epoch 98/200\n",
      "1/1 - 0s - loss: 0.5691 - accuracy: 0.8182 - 2ms/epoch - 2ms/step\n",
      "Epoch 99/200\n",
      "1/1 - 0s - loss: 0.5584 - accuracy: 0.8182 - 2ms/epoch - 2ms/step\n",
      "Epoch 100/200\n",
      "1/1 - 0s - loss: 0.5478 - accuracy: 0.8182 - 998us/epoch - 998us/step\n",
      "Epoch 101/200\n",
      "1/1 - 0s - loss: 0.5375 - accuracy: 0.8182 - 997us/epoch - 997us/step\n",
      "Epoch 102/200\n",
      "1/1 - 0s - loss: 0.5274 - accuracy: 0.8182 - 2ms/epoch - 2ms/step\n"
     ]
    },
    {
     "name": "stdout",
     "output_type": "stream",
     "text": [
      "Epoch 103/200\n",
      "1/1 - 0s - loss: 0.5175 - accuracy: 0.8182 - 2ms/epoch - 2ms/step\n",
      "Epoch 104/200\n",
      "1/1 - 0s - loss: 0.5078 - accuracy: 0.9091 - 2ms/epoch - 2ms/step\n",
      "Epoch 105/200\n",
      "1/1 - 0s - loss: 0.4982 - accuracy: 0.9091 - 2ms/epoch - 2ms/step\n",
      "Epoch 106/200\n",
      "1/1 - 0s - loss: 0.4889 - accuracy: 0.9091 - 2ms/epoch - 2ms/step\n",
      "Epoch 107/200\n",
      "1/1 - 0s - loss: 0.4797 - accuracy: 0.9091 - 2ms/epoch - 2ms/step\n",
      "Epoch 108/200\n",
      "1/1 - 0s - loss: 0.4707 - accuracy: 1.0000 - 3ms/epoch - 3ms/step\n",
      "Epoch 109/200\n",
      "1/1 - 0s - loss: 0.4619 - accuracy: 1.0000 - 2ms/epoch - 2ms/step\n",
      "Epoch 110/200\n",
      "1/1 - 0s - loss: 0.4533 - accuracy: 1.0000 - 3ms/epoch - 3ms/step\n",
      "Epoch 111/200\n",
      "1/1 - 0s - loss: 0.4448 - accuracy: 1.0000 - 997us/epoch - 997us/step\n",
      "Epoch 112/200\n",
      "1/1 - 0s - loss: 0.4365 - accuracy: 1.0000 - 2ms/epoch - 2ms/step\n",
      "Epoch 113/200\n",
      "1/1 - 0s - loss: 0.4283 - accuracy: 1.0000 - 2ms/epoch - 2ms/step\n",
      "Epoch 114/200\n",
      "1/1 - 0s - loss: 0.4203 - accuracy: 1.0000 - 2ms/epoch - 2ms/step\n",
      "Epoch 115/200\n",
      "1/1 - 0s - loss: 0.4124 - accuracy: 1.0000 - 2ms/epoch - 2ms/step\n",
      "Epoch 116/200\n",
      "1/1 - 0s - loss: 0.4046 - accuracy: 1.0000 - 2ms/epoch - 2ms/step\n",
      "Epoch 117/200\n",
      "1/1 - 0s - loss: 0.3970 - accuracy: 1.0000 - 998us/epoch - 998us/step\n",
      "Epoch 118/200\n",
      "1/1 - 0s - loss: 0.3896 - accuracy: 1.0000 - 2ms/epoch - 2ms/step\n",
      "Epoch 119/200\n",
      "1/1 - 0s - loss: 0.3822 - accuracy: 1.0000 - 998us/epoch - 998us/step\n",
      "Epoch 120/200\n",
      "1/1 - 0s - loss: 0.3750 - accuracy: 1.0000 - 2ms/epoch - 2ms/step\n",
      "Epoch 121/200\n",
      "1/1 - 0s - loss: 0.3679 - accuracy: 1.0000 - 2ms/epoch - 2ms/step\n",
      "Epoch 122/200\n",
      "1/1 - 0s - loss: 0.3610 - accuracy: 1.0000 - 998us/epoch - 998us/step\n",
      "Epoch 123/200\n",
      "1/1 - 0s - loss: 0.3541 - accuracy: 1.0000 - 2ms/epoch - 2ms/step\n",
      "Epoch 124/200\n",
      "1/1 - 0s - loss: 0.3473 - accuracy: 1.0000 - 3ms/epoch - 3ms/step\n",
      "Epoch 125/200\n",
      "1/1 - 0s - loss: 0.3407 - accuracy: 1.0000 - 2ms/epoch - 2ms/step\n",
      "Epoch 126/200\n",
      "1/1 - 0s - loss: 0.3342 - accuracy: 1.0000 - 2ms/epoch - 2ms/step\n",
      "Epoch 127/200\n",
      "1/1 - 0s - loss: 0.3277 - accuracy: 1.0000 - 2ms/epoch - 2ms/step\n",
      "Epoch 128/200\n",
      "1/1 - 0s - loss: 0.3214 - accuracy: 1.0000 - 2ms/epoch - 2ms/step\n",
      "Epoch 129/200\n",
      "1/1 - 0s - loss: 0.3152 - accuracy: 1.0000 - 2ms/epoch - 2ms/step\n",
      "Epoch 130/200\n",
      "1/1 - 0s - loss: 0.3091 - accuracy: 1.0000 - 2ms/epoch - 2ms/step\n",
      "Epoch 131/200\n",
      "1/1 - 0s - loss: 0.3030 - accuracy: 1.0000 - 2ms/epoch - 2ms/step\n",
      "Epoch 132/200\n",
      "1/1 - 0s - loss: 0.2971 - accuracy: 1.0000 - 2ms/epoch - 2ms/step\n",
      "Epoch 133/200\n",
      "1/1 - 0s - loss: 0.2912 - accuracy: 1.0000 - 2ms/epoch - 2ms/step\n",
      "Epoch 134/200\n",
      "1/1 - 0s - loss: 0.2855 - accuracy: 1.0000 - 2ms/epoch - 2ms/step\n",
      "Epoch 135/200\n",
      "1/1 - 0s - loss: 0.2798 - accuracy: 1.0000 - 3ms/epoch - 3ms/step\n",
      "Epoch 136/200\n",
      "1/1 - 0s - loss: 0.2742 - accuracy: 1.0000 - 3ms/epoch - 3ms/step\n",
      "Epoch 137/200\n",
      "1/1 - 0s - loss: 0.2687 - accuracy: 1.0000 - 2ms/epoch - 2ms/step\n",
      "Epoch 138/200\n",
      "1/1 - 0s - loss: 0.2633 - accuracy: 1.0000 - 998us/epoch - 998us/step\n",
      "Epoch 139/200\n",
      "1/1 - 0s - loss: 0.2580 - accuracy: 1.0000 - 2ms/epoch - 2ms/step\n",
      "Epoch 140/200\n",
      "1/1 - 0s - loss: 0.2527 - accuracy: 1.0000 - 2ms/epoch - 2ms/step\n",
      "Epoch 141/200\n",
      "1/1 - 0s - loss: 0.2475 - accuracy: 1.0000 - 3ms/epoch - 3ms/step\n",
      "Epoch 142/200\n",
      "1/1 - 0s - loss: 0.2425 - accuracy: 1.0000 - 2ms/epoch - 2ms/step\n",
      "Epoch 143/200\n",
      "1/1 - 0s - loss: 0.2375 - accuracy: 1.0000 - 2ms/epoch - 2ms/step\n",
      "Epoch 144/200\n",
      "1/1 - 0s - loss: 0.2326 - accuracy: 1.0000 - 3ms/epoch - 3ms/step\n",
      "Epoch 145/200\n",
      "1/1 - 0s - loss: 0.2277 - accuracy: 1.0000 - 4ms/epoch - 4ms/step\n",
      "Epoch 146/200\n",
      "1/1 - 0s - loss: 0.2230 - accuracy: 1.0000 - 2ms/epoch - 2ms/step\n",
      "Epoch 147/200\n",
      "1/1 - 0s - loss: 0.2183 - accuracy: 1.0000 - 2ms/epoch - 2ms/step\n",
      "Epoch 148/200\n",
      "1/1 - 0s - loss: 0.2137 - accuracy: 1.0000 - 997us/epoch - 997us/step\n",
      "Epoch 149/200\n",
      "1/1 - 0s - loss: 0.2092 - accuracy: 1.0000 - 2ms/epoch - 2ms/step\n",
      "Epoch 150/200\n",
      "1/1 - 0s - loss: 0.2048 - accuracy: 1.0000 - 3ms/epoch - 3ms/step\n",
      "Epoch 151/200\n",
      "1/1 - 0s - loss: 0.2004 - accuracy: 1.0000 - 997us/epoch - 997us/step\n",
      "Epoch 152/200\n",
      "1/1 - 0s - loss: 0.1962 - accuracy: 1.0000 - 2ms/epoch - 2ms/step\n",
      "Epoch 153/200\n",
      "1/1 - 0s - loss: 0.1920 - accuracy: 1.0000 - 998us/epoch - 998us/step\n",
      "Epoch 154/200\n",
      "1/1 - 0s - loss: 0.1879 - accuracy: 1.0000 - 997us/epoch - 997us/step\n",
      "Epoch 155/200\n",
      "1/1 - 0s - loss: 0.1838 - accuracy: 1.0000 - 2ms/epoch - 2ms/step\n",
      "Epoch 156/200\n",
      "1/1 - 0s - loss: 0.1799 - accuracy: 1.0000 - 2ms/epoch - 2ms/step\n",
      "Epoch 157/200\n",
      "1/1 - 0s - loss: 0.1760 - accuracy: 1.0000 - 2ms/epoch - 2ms/step\n",
      "Epoch 158/200\n",
      "1/1 - 0s - loss: 0.1722 - accuracy: 1.0000 - 2ms/epoch - 2ms/step\n",
      "Epoch 159/200\n",
      "1/1 - 0s - loss: 0.1685 - accuracy: 1.0000 - 3ms/epoch - 3ms/step\n",
      "Epoch 160/200\n",
      "1/1 - 0s - loss: 0.1648 - accuracy: 1.0000 - 2ms/epoch - 2ms/step\n",
      "Epoch 161/200\n",
      "1/1 - 0s - loss: 0.1613 - accuracy: 1.0000 - 2ms/epoch - 2ms/step\n",
      "Epoch 162/200\n",
      "1/1 - 0s - loss: 0.1578 - accuracy: 1.0000 - 2ms/epoch - 2ms/step\n",
      "Epoch 163/200\n",
      "1/1 - 0s - loss: 0.1544 - accuracy: 1.0000 - 2ms/epoch - 2ms/step\n",
      "Epoch 164/200\n",
      "1/1 - 0s - loss: 0.1511 - accuracy: 1.0000 - 2ms/epoch - 2ms/step\n",
      "Epoch 165/200\n",
      "1/1 - 0s - loss: 0.1478 - accuracy: 1.0000 - 997us/epoch - 997us/step\n",
      "Epoch 166/200\n",
      "1/1 - 0s - loss: 0.1446 - accuracy: 1.0000 - 2ms/epoch - 2ms/step\n",
      "Epoch 167/200\n",
      "1/1 - 0s - loss: 0.1415 - accuracy: 1.0000 - 3ms/epoch - 3ms/step\n",
      "Epoch 168/200\n",
      "1/1 - 0s - loss: 0.1385 - accuracy: 1.0000 - 2ms/epoch - 2ms/step\n",
      "Epoch 169/200\n",
      "1/1 - 0s - loss: 0.1356 - accuracy: 1.0000 - 2ms/epoch - 2ms/step\n",
      "Epoch 170/200\n",
      "1/1 - 0s - loss: 0.1327 - accuracy: 1.0000 - 998us/epoch - 998us/step\n",
      "Epoch 171/200\n",
      "1/1 - 0s - loss: 0.1299 - accuracy: 1.0000 - 997us/epoch - 997us/step\n",
      "Epoch 172/200\n",
      "1/1 - 0s - loss: 0.1271 - accuracy: 1.0000 - 2ms/epoch - 2ms/step\n",
      "Epoch 173/200\n",
      "1/1 - 0s - loss: 0.1244 - accuracy: 1.0000 - 2ms/epoch - 2ms/step\n",
      "Epoch 174/200\n",
      "1/1 - 0s - loss: 0.1218 - accuracy: 1.0000 - 2ms/epoch - 2ms/step\n",
      "Epoch 175/200\n",
      "1/1 - 0s - loss: 0.1193 - accuracy: 1.0000 - 2ms/epoch - 2ms/step\n",
      "Epoch 176/200\n",
      "1/1 - 0s - loss: 0.1168 - accuracy: 1.0000 - 2ms/epoch - 2ms/step\n",
      "Epoch 177/200\n",
      "1/1 - 0s - loss: 0.1144 - accuracy: 1.0000 - 997us/epoch - 997us/step\n",
      "Epoch 178/200\n",
      "1/1 - 0s - loss: 0.1121 - accuracy: 1.0000 - 2ms/epoch - 2ms/step\n",
      "Epoch 179/200\n",
      "1/1 - 0s - loss: 0.1098 - accuracy: 1.0000 - 2ms/epoch - 2ms/step\n",
      "Epoch 180/200\n",
      "1/1 - 0s - loss: 0.1076 - accuracy: 1.0000 - 2ms/epoch - 2ms/step\n",
      "Epoch 181/200\n",
      "1/1 - 0s - loss: 0.1054 - accuracy: 1.0000 - 998us/epoch - 998us/step\n",
      "Epoch 182/200\n",
      "1/1 - 0s - loss: 0.1033 - accuracy: 1.0000 - 2ms/epoch - 2ms/step\n",
      "Epoch 183/200\n",
      "1/1 - 0s - loss: 0.1013 - accuracy: 1.0000 - 997us/epoch - 997us/step\n",
      "Epoch 184/200\n",
      "1/1 - 0s - loss: 0.0993 - accuracy: 1.0000 - 2ms/epoch - 2ms/step\n",
      "Epoch 185/200\n",
      "1/1 - 0s - loss: 0.0974 - accuracy: 1.0000 - 2ms/epoch - 2ms/step\n",
      "Epoch 186/200\n",
      "1/1 - 0s - loss: 0.0955 - accuracy: 1.0000 - 2ms/epoch - 2ms/step\n",
      "Epoch 187/200\n",
      "1/1 - 0s - loss: 0.0936 - accuracy: 1.0000 - 998us/epoch - 998us/step\n",
      "Epoch 188/200\n",
      "1/1 - 0s - loss: 0.0919 - accuracy: 1.0000 - 997us/epoch - 997us/step\n",
      "Epoch 189/200\n",
      "1/1 - 0s - loss: 0.0901 - accuracy: 1.0000 - 997us/epoch - 997us/step\n",
      "Epoch 190/200\n",
      "1/1 - 0s - loss: 0.0885 - accuracy: 1.0000 - 2ms/epoch - 2ms/step\n",
      "Epoch 191/200\n",
      "1/1 - 0s - loss: 0.0868 - accuracy: 1.0000 - 997us/epoch - 997us/step\n",
      "Epoch 192/200\n",
      "1/1 - 0s - loss: 0.0852 - accuracy: 1.0000 - 2ms/epoch - 2ms/step\n",
      "Epoch 193/200\n",
      "1/1 - 0s - loss: 0.0837 - accuracy: 1.0000 - 2ms/epoch - 2ms/step\n",
      "Epoch 194/200\n",
      "1/1 - 0s - loss: 0.0822 - accuracy: 1.0000 - 997us/epoch - 997us/step\n",
      "Epoch 195/200\n",
      "1/1 - 0s - loss: 0.0807 - accuracy: 1.0000 - 2ms/epoch - 2ms/step\n",
      "Epoch 196/200\n",
      "1/1 - 0s - loss: 0.0793 - accuracy: 1.0000 - 997us/epoch - 997us/step\n",
      "Epoch 197/200\n",
      "1/1 - 0s - loss: 0.0779 - accuracy: 1.0000 - 998us/epoch - 998us/step\n",
      "Epoch 198/200\n",
      "1/1 - 0s - loss: 0.0765 - accuracy: 1.0000 - 2ms/epoch - 2ms/step\n",
      "Epoch 199/200\n",
      "1/1 - 0s - loss: 0.0752 - accuracy: 1.0000 - 2ms/epoch - 2ms/step\n",
      "Epoch 200/200\n",
      "1/1 - 0s - loss: 0.0739 - accuracy: 1.0000 - 997us/epoch - 997us/step\n"
     ]
    },
    {
     "data": {
      "text/plain": [
       "<keras.callbacks.History at 0x228b9498e80>"
      ]
     },
     "execution_count": 16,
     "metadata": {},
     "output_type": "execute_result"
    }
   ],
   "source": [
    "#RNN모델에 데이터를 훈련시킵니다.\n",
    "#다대일 구조의 RNN을 사용하빈다.\n",
    "embedding_dim = 10 # 임베딩 벡터의 차원\n",
    "hidden_units = 32 #은닉상태의 크기\n",
    "\n",
    "model = Sequential()\n",
    "model.add(Embedding(vocab_size, embedding_dim)) #임베딩층 구성\n",
    "model.add(SimpleRNN(hidden_units)) #은닉상태 크기\n",
    "model.add(Dense(vocab_size, activation='softmax')) #출력층 (FC/ 출력 벡터로 단어크기만큼)\n",
    "model.compile(loss='categorical_crossentropy', optimizer='adam', metrics=['accuracy']) \n",
    "model.fit(X, y, epochs=200, verbose=2)\n",
    "\n",
    "#마지막 시점에서 모든 가능한 단어 중 하나의 단어를 예측하는 다중 클래스 분류 문제를 수행하는 모델"
   ]
  },
  {
   "attachments": {
    "image.png": {
     "image/png": "[encoded data removed]"
    }
   },
   "cell_type": "markdown",
   "id": "867c78c6",
   "metadata": {},
   "source": [
    "![image.png](attachment:image.png)\n"
   ]
  },
  {
   "cell_type": "markdown",
   "id": "a7308c64",
   "metadata": {},
   "source": [
    "# 문장을 생성하는 함수"
   ]
  },
  {
   "cell_type": "code",
   "execution_count": 45,
   "id": "63020e86",
   "metadata": {},
   "outputs": [],
   "source": [
    "def sentence_generation(model, tokenizer, current_word, n): # 모델, 토크나이저, 현재 단어, 반복할 횟수\n",
    "    init_word = current_word #시작 단어\n",
    "    sentence = ''\n",
    "    # n번 반복 4번 반복 현재단어(t) +예측단어(t+1)+예측단어(t+2)+예측단어(t+3)+예측단어(t+4)\n",
    "    for _ in range(n):\n",
    "        # 현재 단어에 대한 정수 인코딩과 패딩\n",
    "        encoded = tokenizer.texts_to_sequences([current_word])[0] #현재 단어 정수 인코딩\n",
    "        encoded = pad_sequences([encoded], maxlen=5, padding='pre') #최대길이 5로 padding / 왜 5인가. 훈련 샘플 최대 길이 6에서 맨마지막 레이블 을 빼버렸으니 5이다.\n",
    "        # 입력한 X(현재 단어)에 대해서 Y를 예측하고 Y(예측한 단어)를 result에 저장.\n",
    "        result = model.predict(encoded, verbose=0) # 엔트로파 벡터(에측 벡터)\n",
    "        result= np.argmax(result, axis=1) #예측 벡터의 가장큰 값의 인덱스를 저장\n",
    "        \n",
    "    \n",
    "        for word, index in tokenizer.word_index.items(): #단어사전에서\n",
    "            # 만약 예측한 단어와 인덱스와 동일한 단어가 있다면 break\n",
    "            if index == result: #예측한 단어와 동일한 단어가 있다면\n",
    "                break\n",
    "\n",
    "        # 현재 단어 + ' ' + 예측 단어를 현재 단어로 변경\n",
    "        current_word = current_word + ' '  + word\n",
    "\n",
    "        # 예측 단어를 문장에 저장\n",
    "        sentence = sentence + ' ' + word\n",
    "\n",
    "    sentence = init_word + sentence\n",
    "    return sentence"
   ]
  },
  {
   "cell_type": "code",
   "execution_count": 46,
   "id": "da3cff7c",
   "metadata": {},
   "outputs": [
    {
     "name": "stdout",
     "output_type": "stream",
     "text": [
      "경마장에 있는 말이 뛰고 있다\n"
     ]
    }
   ],
   "source": [
    "print(sentence_generation(model, tokenizer, '경마장에', 4))"
   ]
  },
  {
   "cell_type": "code",
   "execution_count": 48,
   "id": "80edca7a",
   "metadata": {},
   "outputs": [
    {
     "name": "stdout",
     "output_type": "stream",
     "text": [
      "경마장에 있는 말이\n"
     ]
    }
   ],
   "source": [
    "print(sentence_generation(model, tokenizer, '경마장에', 2)) # 두번 예측"
   ]
  },
  {
   "cell_type": "code",
   "execution_count": 38,
   "id": "2d7c8fac",
   "metadata": {},
   "outputs": [
    {
     "data": {
      "text/plain": [
       "{'말이': 1,\n",
       " '경마장에': 2,\n",
       " '있는': 3,\n",
       " '뛰고': 4,\n",
       " '있다': 5,\n",
       " '그의': 6,\n",
       " '법이다': 7,\n",
       " '가는': 8,\n",
       " '고와야': 9,\n",
       " '오는': 10,\n",
       " '곱다': 11}"
      ]
     },
     "execution_count": 38,
     "metadata": {},
     "output_type": "execute_result"
    }
   ],
   "source": [
    "tokenizer.word_index"
   ]
  },
  {
   "cell_type": "raw",
   "id": "1c22be2e",
   "metadata": {},
   "source": [
    "샘플이 어떠한가\n",
    "초기단어 + 여려개의 단어\n",
    "에서\n",
    "X = [:-1] 과 y = [-1]로 분리시켰다.\n",
    "y는 초기단어 제외 원-핫벡터이다."
   ]
  },
  {
   "cell_type": "code",
   "execution_count": null,
   "id": "8b5c0988",
   "metadata": {},
   "outputs": [],
   "source": []
  }
 ],
 "metadata": {
  "kernelspec": {
   "display_name": "Python 3 (ipykernel)",
   "language": "python",
   "name": "python3"
  },
  "language_info": {
   "codemirror_mode": {
    "name": "ipython",
    "version": 3
   },
   "file_extension": ".py",
   "mimetype": "text/x-python",
   "name": "python",
   "nbconvert_exporter": "python",
   "pygments_lexer": "ipython3",
   "version": "3.9.12"
  }
 },
 "nbformat": 4,
 "nbformat_minor": 5
}
