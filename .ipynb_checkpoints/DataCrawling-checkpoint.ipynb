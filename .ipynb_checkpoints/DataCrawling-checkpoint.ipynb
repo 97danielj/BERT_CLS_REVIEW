{
 "cells": [
  {
   "cell_type": "markdown",
   "id": "99af54ab",
   "metadata": {},
   "source": [
    "# 환경설정"
   ]
  },
  {
   "cell_type": "code",
   "execution_count": 1,
   "id": "813dbd78",
   "metadata": {},
   "outputs": [],
   "source": [
    "import time\n",
    "from selenium import webdriver\n",
    "from selenium.webdriver.common.keys import Keys\n",
    "from selenium.webdriver.common.by import By\n",
    "from selenium.webdriver.support.ui import WebDriverWait\n",
    "from selenium.webdriver.support import expected_conditions as EC\n",
    "from time import sleep\n",
    "from bs4 import BeautifulSoup\n",
    "import re\n",
    "import json\n",
    "#options = webdriver.ChromeOptions()\n",
    "#options.add_argument('headless')"
   ]
  },
  {
   "cell_type": "markdown",
   "id": "281712c5",
   "metadata": {},
   "source": [
    "# 크롬창 열기"
   ]
  },
  {
   "cell_type": "code",
   "execution_count": 2,
   "id": "370ffce8",
   "metadata": {},
   "outputs": [
    {
     "name": "stderr",
     "output_type": "stream",
     "text": [
      "C:\\Users\\JSWonner\\AppData\\Local\\Temp\\ipykernel_1724\\2096135440.py:2: DeprecationWarning: executable_path has been deprecated, please pass in a Service object\n",
      "  driver = webdriver.Chrome('./chromedriver')  # 드라이버 경로\n"
     ]
    }
   ],
   "source": [
    "url = 'https://map.naver.com/v5/search'\n",
    "driver = webdriver.Chrome('./chromedriver')  # 드라이버 경로\n",
    "#driver = webdriver.Chrome('./chromedriver',chrome_options=options) # 크롬창 숨기기\n",
    "driver.get(url)\n",
    "key_word_list = ['노량진수산시장 횟집', '송파구 횟집', '강서구 횟집', '강남구 횟집', '노원구 횟집', '은평구 횟집']"
   ]
  },
  {
   "cell_type": "code",
   "execution_count": 3,
   "id": "afa5ef51",
   "metadata": {},
   "outputs": [],
   "source": [
    "key_word = ['노량진수산시장 횟집']"
   ]
  },
  {
   "cell_type": "code",
   "execution_count": 4,
   "id": "7360183c",
   "metadata": {},
   "outputs": [],
   "source": [
    "# css 찾을때 까지 10초대기\n",
    "def time_wait(num, code):\n",
    "    try:\n",
    "        wait = WebDriverWait(driver, num).until(\n",
    "            EC.presence_of_element_located((By.CSS_SELECTOR, code)))\n",
    "    except:\n",
    "        print(code, '태그를 찾지 못하였습니다.')\n",
    "        driver.quit()\n",
    "    return wait"
   ]
  },
  {
   "cell_type": "code",
   "execution_count": 5,
   "id": "5a4257d7",
   "metadata": {},
   "outputs": [],
   "source": [
    "def find_search_input(key_word):\n",
    "    # 검색창 찾기\n",
    "    time_wait(2, 'div.input_box > input.input_search')\n",
    "    search = driver.find_element(By.CSS_SELECTOR,'div.input_box > input.input_search')\n",
    "    search.send_keys(key_word)  # 검색어 입력\n",
    "    search.send_keys(Keys.ENTER)  # 엔터버튼 누르기\n",
    "    \n",
    "    res = driver.page_source  # 페이지 소스 가져오기\n",
    "    soup = BeautifulSoup(res, 'html.parser')  # html 파싱하여  가져온다\n",
    "    sleep(1)"
   ]
  },
  {
   "cell_type": "code",
   "execution_count": 6,
   "id": "38510e7d",
   "metadata": {},
   "outputs": [],
   "source": [
    "# frame 변경 메소드\n",
    "def switch_frame(frame):\n",
    "    driver.switch_to.default_content()  # frame 초기화\n",
    "    driver.switch_to.frame(frame)  # frame 변경\n",
    "    driver.implicitly_wait(1)\n"
   ]
  },
  {
   "cell_type": "code",
   "execution_count": 7,
   "id": "7611d926",
   "metadata": {},
   "outputs": [],
   "source": [
    "# 페이지 다운\n",
    "def page_down(num):\n",
    "    body = driver.find_element(By.CSS_SELECTOR,'body')\n",
    "    body.click()\n",
    "    for i in range(num):\n",
    "        body.send_keys(Keys.PAGE_DOWN)"
   ]
  },
  {
   "cell_type": "code",
   "execution_count": 8,
   "id": "3f1ce22f",
   "metadata": {},
   "outputs": [],
   "source": [
    "def find_store_list():\n",
    "    # 매장 리스트\n",
    "    store_list = driver.find_elements(By.CSS_SELECTOR,'._22p-O')\n",
    "    # 페이지 리스트\n",
    "    next_btn = driver.find_elements(By.CSS_SELECTOR,'._2ky45 > a')\n",
    "    return store_list, next_btn"
   ]
  },
  {
   "cell_type": "code",
   "execution_count": 10,
   "id": "74f1001e",
   "metadata": {},
   "outputs": [],
   "source": [
    "def find_review_btn():\n",
    "    sleep(2)\n",
    "    time_wait(10,'a._2RG_o._tab-menu')\n",
    "    menu_list = driver.find_elements(By.CSS_SELECTOR,'a._2RG_o._tab-menu')\n",
    "    if len(menu_list) ==7:\n",
    "        return menu_list[-1]\n",
    "    else:\n",
    "        return menu_list[-2]"
   ]
  },
  {
   "cell_type": "code",
   "execution_count": 61,
   "id": "650c8d8e",
   "metadata": {},
   "outputs": [],
   "source": [
    "def crawling_visitor_review():\n",
    "    #-----리뷰 버튼 클릭-------\n",
    "    find_review_btn().click()\n",
    "    SCROLL_PAUSE_SEC = 1\n",
    "    time.sleep(2)\n",
    "    \n",
    "    last_scroll = driver.execute_script(\"return document.body.scrollHeight\")\n",
    "    \n",
    "    \n",
    "    while True:\n",
    "        driver.execute_script(\"window.scrollTo(0, document.body.scrollHeight);\")\n",
    "        time.sleep(1)\n",
    "        \n",
    "        try :\n",
    "            #더보기 버튼 클릭\n",
    "            driver.find_element(By.CSS_SELECTOR,'._3iTUo').click()\n",
    "            \n",
    "        except:\n",
    "            #더보기 버튼이 없다면 while문을 빠져나온다.\n",
    "            break\n",
    "            # 끝까지 스크롤 다운\n",
    "            \n",
    "        new_scroll = driver.execute_script(\"return document.body.scrollHeight\")\n",
    "        if last_scroll == new_scroll:\n",
    "            break\n",
    "        else:\n",
    "            last_scroll= new_scroll\n",
    "\n",
    "\n",
    "\n",
    "    #가게 리스트 마다 방문자 리뷰 가져오기\n",
    "    review_elements = driver.find_elements(By.CSS_SELECTOR,\"div.faZHB > a > span\")\n",
    "    review_list = []\n",
    "    for i in review_elements:\n",
    "        review_list.append(i.text)\n",
    "    \n",
    "    return review_list\n"
   ]
  },
  {
   "cell_type": "code",
   "execution_count": 66,
   "id": "62362795",
   "metadata": {},
   "outputs": [],
   "source": [
    "def crawling_blog_review():\n",
    "    driver.execute_script(\"window.scrollTo(0, 0);\")\n",
    "    time.sleep(2)\n",
    "    try :\n",
    "        blog_review_button = driver.find_element(By.CSS_SELECTOR, 'div._1tclc > div > a:nth-child(2)')\n",
    "        blog_review_button.click()\n",
    "    except:\n",
    "        print('블로그 리뷰가 없습니다.')\n",
    "        return\n",
    "    time.sleep(2)\n",
    "    SCROLL_PAUSE_SEC = 1\n",
    "    last_scroll = driver.execute_script(\"return document.body.scrollHeight\")\n",
    "    \n",
    "    while True:\n",
    "        driver.execute_script(\"window.scrollTo(0, document.body.scrollHeight);\")\n",
    "        time.sleep(2)\n",
    "        \n",
    "        try :\n",
    "            #더보기 버튼 클릭\n",
    "            driver.find_element(By.CSS_SELECTOR,'._3iTUo').click()\n",
    "            \n",
    "        except:\n",
    "            #더보기 버튼이 없다면 while문을 빠져나온다.\n",
    "            break\n",
    "            # 끝까지 스크롤 다운\n",
    "            \n",
    "        new_scroll = driver.execute_script(\"return document.body.scrollHeight\")\n",
    "        if last_scroll == new_scroll:\n",
    "            break\n",
    "        else:\n",
    "            last_scroll=new_scroll\n",
    "    \n",
    "    \n",
    "    #가게 리스트 마다 방문자 리뷰 가져오기\n",
    "    review_elements = driver.find_elements(By.CSS_SELECTOR,'div._3dj5v > div._3jvFk')\n",
    "    review_list = []\n",
    "    for i in review_elements:\n",
    "        review_list.append(i.text)\n",
    "    \n",
    "    return review_list\n"
   ]
  },
  {
   "cell_type": "markdown",
   "id": "86de5a29",
   "metadata": {},
   "source": [
    "# 검색 지역 횟집의 리뷰를 크롤링."
   ]
  },
  {
   "cell_type": "code",
   "execution_count": 67,
   "id": "4db940d9",
   "metadata": {
    "scrolled": true
   },
   "outputs": [],
   "source": [
    "review_dic = {}\n",
    "def review_crawling(key_word):\n",
    "    #검색창을 찾아서 서치\n",
    "    find_search_input(key_word)\n",
    "    # searchIframe 변경\n",
    "    switch_frame('searchIframe')\n",
    "    driver.implicitly_wait(2)\n",
    "    # 페이지 버튼의 수\n",
    "    pages = driver.find_elements(By.CSS_SELECTOR,'a._2tk2s') # 이건 필요\n",
    "    for btn in range(1,4): #페이지 버튼\n",
    "         #페이지 버튼 클릭\n",
    "        #각 매장 요소들의 하이퍼링크 리스트\n",
    "        page_down(40)\n",
    "        driver.implicitly_wait(2)\n",
    "        store_elements = driver.find_elements(By.CSS_SELECTOR,'div._3ZU00._1rBq3 > a:nth-child(1)')\n",
    "        \n",
    "        #한 페이지의 50개의 매장들 하나씩 조회\n",
    "        for data in range(len(store_elements)): \n",
    "            store_elements[data].click() #li의 페이지를 클릭\n",
    "            driver.implicitly_wait(2) # 2초 휴식\n",
    "            try:\n",
    "                #다른 iframe으로 변경\n",
    "                switch_frame('entryIframe')\n",
    "                time_wait(2, '._3XamX')\n",
    "        \n",
    "                # -----매장명 가져오기-----\n",
    "                store_name = driver.find_element(By.CSS_SELECTOR,'._3XamX').text\n",
    "                driver.implicitly_wait(2)\n",
    "                # -----리뷰 크롤링---------\n",
    "                review_dic[store_name] = crawling_visitor_review()\n",
    "                sleep(5)\n",
    "                review_dic[store_name] = review_dic[store_name]+crawling_blog_review()\n",
    "                sleep(5)\n",
    "                \n",
    "            except:\n",
    "                pass\n",
    "            switch_frame('searchIframe')\n",
    "            \n",
    "        pages[btn].click()\n",
    "            \n",
    "        # json 파일로 저장\n",
    "    with open('review_dic.json', 'w', encoding='utf-8') as f:\n",
    "        json.dump(review_dic, f, indent=4, ensure_ascii=False)\n",
    "        \n",
    "            "
   ]
  },
  {
   "cell_type": "code",
   "execution_count": 68,
   "id": "2f0ca9dc",
   "metadata": {},
   "outputs": [
    {
     "name": "stderr",
     "output_type": "stream",
     "text": [
      "C:\\Users\\JSWonner\\AppData\\Local\\Temp\\ipykernel_13360\\3270057109.py:2: DeprecationWarning: executable_path has been deprecated, please pass in a Service object\n",
      "  driver = webdriver.Chrome('./chromedriver')  # 드라이버 경로\n"
     ]
    }
   ],
   "source": [
    "url = 'https://map.naver.com/v5/search'\n",
    "driver = webdriver.Chrome('./chromedriver')  # 드라이버 경로\n",
    "#driver = webdriver.Chrome('./chromedriver',chrome_options=options) # 크롬창 숨기기\n",
    "driver.get(url)\n",
    "key_word = '노량진수상시장 횟집'"
   ]
  },
  {
   "cell_type": "code",
   "execution_count": 69,
   "id": "61bd6a69",
   "metadata": {},
   "outputs": [
    {
     "ename": "WebDriverException",
     "evalue": "Message: chrome not reachable\n  (Session info: chrome=104.0.5112.102)\nStacktrace:\nBacktrace:\n\tOrdinal0 [0x010778B3+2193587]\n\tOrdinal0 [0x01010681+1771137]\n\tOrdinal0 [0x00F24070+802928]\n\tOrdinal0 [0x00F19AB2+760498]\n\tOrdinal0 [0x00F0CEAF+708271]\n\tOrdinal0 [0x00F11142+725314]\n\tOrdinal0 [0x00F155C9+742857]\n\tOrdinal0 [0x00F25500+808192]\n\tOrdinal0 [0x00F7D2C2+1168066]\n\tOrdinal0 [0x00F6D5C6+1103302]\n\tOrdinal0 [0x00F477E0+948192]\n\tOrdinal0 [0x00F486E6+952038]\n\tGetHandleVerifier [0x01320CB2+2738370]\n\tGetHandleVerifier [0x013121B8+2678216]\n\tGetHandleVerifier [0x011017AA+512954]\n\tGetHandleVerifier [0x01100856+509030]\n\tOrdinal0 [0x0101743B+1799227]\n\tOrdinal0 [0x0101BB68+1817448]\n\tOrdinal0 [0x0101BC55+1817685]\n\tOrdinal0 [0x01025230+1856048]\n\tBaseThreadInitThunk [0x7611FA29+25]\n\tRtlGetAppContainerNamedObjectPath [0x779F7A9E+286]\n\tRtlGetAppContainerNamedObjectPath [0x779F7A6E+238]\n",
     "output_type": "error",
     "traceback": [
      "\u001b[1;31m---------------------------------------------------------------------------\u001b[0m",
      "\u001b[1;31mWebDriverException\u001b[0m                        Traceback (most recent call last)",
      "Input \u001b[1;32mIn [69]\u001b[0m, in \u001b[0;36m<cell line: 1>\u001b[1;34m()\u001b[0m\n\u001b[1;32m----> 1\u001b[0m \u001b[43mreview_crawling\u001b[49m\u001b[43m(\u001b[49m\u001b[43mkey_word\u001b[49m\u001b[43m)\u001b[49m\n",
      "Input \u001b[1;32mIn [67]\u001b[0m, in \u001b[0;36mreview_crawling\u001b[1;34m(key_word)\u001b[0m\n\u001b[0;32m     35\u001b[0m     \u001b[38;5;28;01mexcept\u001b[39;00m:\n\u001b[0;32m     36\u001b[0m         \u001b[38;5;28;01mpass\u001b[39;00m\n\u001b[1;32m---> 37\u001b[0m     \u001b[43mswitch_frame\u001b[49m\u001b[43m(\u001b[49m\u001b[38;5;124;43m'\u001b[39;49m\u001b[38;5;124;43msearchIframe\u001b[39;49m\u001b[38;5;124;43m'\u001b[39;49m\u001b[43m)\u001b[49m\n\u001b[0;32m     39\u001b[0m pages[btn]\u001b[38;5;241m.\u001b[39mclick()\n\u001b[0;32m     41\u001b[0m \u001b[38;5;66;03m# json 파일로 저장\u001b[39;00m\n",
      "Input \u001b[1;32mIn [6]\u001b[0m, in \u001b[0;36mswitch_frame\u001b[1;34m(frame)\u001b[0m\n\u001b[0;32m      2\u001b[0m \u001b[38;5;28;01mdef\u001b[39;00m \u001b[38;5;21mswitch_frame\u001b[39m(frame):\n\u001b[1;32m----> 3\u001b[0m     \u001b[43mdriver\u001b[49m\u001b[38;5;241;43m.\u001b[39;49m\u001b[43mswitch_to\u001b[49m\u001b[38;5;241;43m.\u001b[39;49m\u001b[43mdefault_content\u001b[49m\u001b[43m(\u001b[49m\u001b[43m)\u001b[49m  \u001b[38;5;66;03m# frame 초기화\u001b[39;00m\n\u001b[0;32m      4\u001b[0m     driver\u001b[38;5;241m.\u001b[39mswitch_to\u001b[38;5;241m.\u001b[39mframe(frame)  \u001b[38;5;66;03m# frame 변경\u001b[39;00m\n\u001b[0;32m      5\u001b[0m     driver\u001b[38;5;241m.\u001b[39mimplicitly_wait(\u001b[38;5;241m1\u001b[39m)\n",
      "File \u001b[1;32m~\\AppData\\Roaming\\Python\\Python39\\site-packages\\selenium\\webdriver\\remote\\switch_to.py:68\u001b[0m, in \u001b[0;36mSwitchTo.default_content\u001b[1;34m(self)\u001b[0m\n\u001b[0;32m     59\u001b[0m \u001b[38;5;28;01mdef\u001b[39;00m \u001b[38;5;21mdefault_content\u001b[39m(\u001b[38;5;28mself\u001b[39m) \u001b[38;5;241m-\u001b[39m\u001b[38;5;241m>\u001b[39m \u001b[38;5;28;01mNone\u001b[39;00m:\n\u001b[0;32m     60\u001b[0m     \u001b[38;5;124;03m\"\"\"\u001b[39;00m\n\u001b[0;32m     61\u001b[0m \u001b[38;5;124;03m    Switch focus to the default frame.\u001b[39;00m\n\u001b[0;32m     62\u001b[0m \n\u001b[1;32m   (...)\u001b[0m\n\u001b[0;32m     66\u001b[0m \u001b[38;5;124;03m            driver.switch_to.default_content()\u001b[39;00m\n\u001b[0;32m     67\u001b[0m \u001b[38;5;124;03m    \"\"\"\u001b[39;00m\n\u001b[1;32m---> 68\u001b[0m     \u001b[38;5;28;43mself\u001b[39;49m\u001b[38;5;241;43m.\u001b[39;49m\u001b[43m_driver\u001b[49m\u001b[38;5;241;43m.\u001b[39;49m\u001b[43mexecute\u001b[49m\u001b[43m(\u001b[49m\u001b[43mCommand\u001b[49m\u001b[38;5;241;43m.\u001b[39;49m\u001b[43mSWITCH_TO_FRAME\u001b[49m\u001b[43m,\u001b[49m\u001b[43m \u001b[49m\u001b[43m{\u001b[49m\u001b[38;5;124;43m'\u001b[39;49m\u001b[38;5;124;43mid\u001b[39;49m\u001b[38;5;124;43m'\u001b[39;49m\u001b[43m:\u001b[49m\u001b[43m \u001b[49m\u001b[38;5;28;43;01mNone\u001b[39;49;00m\u001b[43m}\u001b[49m\u001b[43m)\u001b[49m\n",
      "File \u001b[1;32m~\\AppData\\Roaming\\Python\\Python39\\site-packages\\selenium\\webdriver\\remote\\webdriver.py:428\u001b[0m, in \u001b[0;36mWebDriver.execute\u001b[1;34m(self, driver_command, params)\u001b[0m\n\u001b[0;32m    426\u001b[0m response \u001b[38;5;241m=\u001b[39m \u001b[38;5;28mself\u001b[39m\u001b[38;5;241m.\u001b[39mcommand_executor\u001b[38;5;241m.\u001b[39mexecute(driver_command, params)\n\u001b[0;32m    427\u001b[0m \u001b[38;5;28;01mif\u001b[39;00m response:\n\u001b[1;32m--> 428\u001b[0m     \u001b[38;5;28;43mself\u001b[39;49m\u001b[38;5;241;43m.\u001b[39;49m\u001b[43merror_handler\u001b[49m\u001b[38;5;241;43m.\u001b[39;49m\u001b[43mcheck_response\u001b[49m\u001b[43m(\u001b[49m\u001b[43mresponse\u001b[49m\u001b[43m)\u001b[49m\n\u001b[0;32m    429\u001b[0m     response[\u001b[38;5;124m'\u001b[39m\u001b[38;5;124mvalue\u001b[39m\u001b[38;5;124m'\u001b[39m] \u001b[38;5;241m=\u001b[39m \u001b[38;5;28mself\u001b[39m\u001b[38;5;241m.\u001b[39m_unwrap_value(\n\u001b[0;32m    430\u001b[0m         response\u001b[38;5;241m.\u001b[39mget(\u001b[38;5;124m'\u001b[39m\u001b[38;5;124mvalue\u001b[39m\u001b[38;5;124m'\u001b[39m, \u001b[38;5;28;01mNone\u001b[39;00m))\n\u001b[0;32m    431\u001b[0m     \u001b[38;5;28;01mreturn\u001b[39;00m response\n",
      "File \u001b[1;32m~\\AppData\\Roaming\\Python\\Python39\\site-packages\\selenium\\webdriver\\remote\\errorhandler.py:243\u001b[0m, in \u001b[0;36mErrorHandler.check_response\u001b[1;34m(self, response)\u001b[0m\n\u001b[0;32m    241\u001b[0m         alert_text \u001b[38;5;241m=\u001b[39m value[\u001b[38;5;124m'\u001b[39m\u001b[38;5;124malert\u001b[39m\u001b[38;5;124m'\u001b[39m]\u001b[38;5;241m.\u001b[39mget(\u001b[38;5;124m'\u001b[39m\u001b[38;5;124mtext\u001b[39m\u001b[38;5;124m'\u001b[39m)\n\u001b[0;32m    242\u001b[0m     \u001b[38;5;28;01mraise\u001b[39;00m exception_class(message, screen, stacktrace, alert_text)  \u001b[38;5;66;03m# type: ignore[call-arg]  # mypy is not smart enough here\u001b[39;00m\n\u001b[1;32m--> 243\u001b[0m \u001b[38;5;28;01mraise\u001b[39;00m exception_class(message, screen, stacktrace)\n",
      "\u001b[1;31mWebDriverException\u001b[0m: Message: chrome not reachable\n  (Session info: chrome=104.0.5112.102)\nStacktrace:\nBacktrace:\n\tOrdinal0 [0x010778B3+2193587]\n\tOrdinal0 [0x01010681+1771137]\n\tOrdinal0 [0x00F24070+802928]\n\tOrdinal0 [0x00F19AB2+760498]\n\tOrdinal0 [0x00F0CEAF+708271]\n\tOrdinal0 [0x00F11142+725314]\n\tOrdinal0 [0x00F155C9+742857]\n\tOrdinal0 [0x00F25500+808192]\n\tOrdinal0 [0x00F7D2C2+1168066]\n\tOrdinal0 [0x00F6D5C6+1103302]\n\tOrdinal0 [0x00F477E0+948192]\n\tOrdinal0 [0x00F486E6+952038]\n\tGetHandleVerifier [0x01320CB2+2738370]\n\tGetHandleVerifier [0x013121B8+2678216]\n\tGetHandleVerifier [0x011017AA+512954]\n\tGetHandleVerifier [0x01100856+509030]\n\tOrdinal0 [0x0101743B+1799227]\n\tOrdinal0 [0x0101BB68+1817448]\n\tOrdinal0 [0x0101BC55+1817685]\n\tOrdinal0 [0x01025230+1856048]\n\tBaseThreadInitThunk [0x7611FA29+25]\n\tRtlGetAppContainerNamedObjectPath [0x779F7A9E+286]\n\tRtlGetAppContainerNamedObjectPath [0x779F7A6E+238]\n"
     ]
    }
   ],
   "source": [
    "review_crawling(key_word)"
   ]
  },
  {
   "cell_type": "code",
   "execution_count": 48,
   "id": "764ad4f4",
   "metadata": {},
   "outputs": [
    {
     "data": {
      "text/plain": [
       "{'노량진수산시장 청양수산 횟집': ['노량진 수산시장의 신선한 모듬회를 인터넷으로 간 편하게 주문할 수 있으니 바쁜시간이나 근처에 호캉 스 할때 아주 만족스럽게 이용할 수 있었어요. ...',\n",
       "  '내용 더보기',\n",
       "  '역시 믿고가는 형제수산! 미리손질을 다 해주셔서 먹기 매우편하고 두께도 기본적으로 두꺼워서 좋네요! 매운탕은 두말하면 잔소리!',\n",
       "  '진짜 최애집💛💛💛💛💛\\n사진은 2인 6만원짜리입니당!\\n기본 횟감이 두꺼우니 기본으로 먹는거 추천이요!',\n",
       "  '2인 사만원 세트입니다 처음 가봤는데 굉장히 만족 해요 두껍게 썰어달라고 요청했고 연어는 조금만 달 라고 해서 조금만 주셨어요❤️ 재방문의사 10...',\n",
       "  '내용 더보기',\n",
       "  '정말 맛있었습니다. 동네에서는 절대 나올 수 없는 구성입니다. 회에 사용된 생선들이 굉장히 큰 놈 들 로만 구성하신게 눈에보였구요, 6만원을 내고 ...',\n",
       "  '내용 더보기',\n",
       "  '부모님과 서울여행 중 노량진 회센터에서 형제상회 먹게되었는데 ! 완전 강추 합니다 !! 양도 많고 부모님 도 다 만족하셨어요 5인가족이 아주 배불리 먹...',\n",
       "  '내용 더보기',\n",
       "  '노량진에서 제일 맛있어요',\n",
       "  '회는 여기가 최고 👍 \\n왕복 2시간 걸려도 꼭 형제상회로 갑니다.\\n4인 11만+1인 4만',\n",
       "  '한달에 1-2번은 꼭 들립니다.어제는 지인커플을 소개 해 주려고 같이 가서 먹었습니다.근데 제 기분탓이었 는지.?? 우선 진주식당에서 기다리는데 20분...',\n",
       "  '내용 더보기',\n",
       "  '와사비를 안넣어주셨어요. 외사비없이 회는 어떻게 맛있게 먹어요? 실망입니다',\n",
       "  '근래 몇번 노량진 수산시장 형제상회 다녀온 이야기.. 종종 가지만 식상해서 다 올리진 않는 형제상회~ 가봤더니 좀 바뀐게 있어서 올려봅니다. 일단 매장 분위기가 달라졌어요, 샐러드, 초밥, 물회를 판다고 간판을...',\n",
       "  '형제상회 비가 무지막지하게 내리던 어느 목요일 저녁! 오랜만에 친구들과 한잔을 하기로 하고 노량진수산시장을 갑니다. 3일전 요즘 민어시세에 대해서 황사장님과 이런 저런 이야기를 나눈 후 이날 오전 경매때 활민어...',\n",
       "  '형제상회 & 강변식당 오랜만에 제대로 된 민어 코스 요리로 오먹산 모임 복 달임을 진행 했습니다. 남도 음식점에서 민어를 먹을까 고민을 했다가 오먹산 모임 한창 때 생각이 나서 노량진수산시장의 단골집에 부탁을...',\n",
       "  '모듬회. 2인분. 8만원짜리. 손님이 오셔서 좀 비싸게 주문함. 얇게 썰어달라고했다. 여기는 얇게 썰어줘도 충분히 두껍다. 산더미 물회. 5만원. 사진으로 잘 안보이는데 이것도 회 양이 많다. 맛있게 잘 먹었다. 아무래도...',\n",
       "  '오랜만에 집에서 반주 나부랭이가 아닌 제대로 된 음주 좀 즐겨보자 싶어 #노량진수산시장 #형제상회 ㄱㄱㄱㄱㄱ 미리 홈페이지로 예약하고 가서 대기 1도 없이 바로 픽업 홈페이지 모르시는 분들을 위해서 링크...',\n",
       "  '동네에서 회를 포장해다 먹을 때도 있지만, 마음 먹고 회 먹자 한 날은 꼭 노량진 형제상회에 미리 주문해서 포장해다 먹습니다. 서울에 사시는 분들은 당일배송도 해주는 것 같은데 경기도민이라 그런 서비스는 받을 수...',\n",
       "  '노량진수산시장 지난번에 명절에 가고 이번이 두번째 방문인거같다 이번에는 노량진에서 가장 유명하고 회전율이 좋은 노량진수산시장 형제수산 모듬회 맛집에 다녀왔다 미리 예약하고 가면 바로 받아볼수 있는데 그점이...',\n",
       "  '영업시간 매일 10시 ~ 21시 여의도 켄싱턴호텔에서 호캉스를 하고 집 가는 길에 근처에 있는 노량진수산시장에서 회를 떠가기로 했다. 소문은 많이 들었지만 실제로는 처음 방문! 회사 동료가 예전부터 맛있다고...',\n",
       "  '국립현대미술관 나와서 다들 추천 많이 해준 익선동을 가보았다 익선동이 골목골목 맛집, 카페가 많아 데이트하기 좋았다 길거리도 예뻐서 걷기 좋다 에일당 서울 종로구 수표로28길 33-9 한옥을 개조해서 만든 수제...',\n",
       "  '겨울 방어라고 하지만 방어가 겨울의 끝까지 계속 나오는 건 아닙니다. 사이즈 좋고 살이 통통하게 쪄서 기름기가 오른 방어는 1월말이면 거의 끝물이라고 봐야죠.. 그래서 방어를 즐기려면 얼마 안남은(?) 이 1월동안...'],\n",
       " '형제상회': ['지인들과 모임을 위해서 평소 방문하던 단골매장에 방문했습니다. 매번 방문할때마다 제가 원하는 종류 로 주문할 수 있어서 좋습니다. 이번엔 말이 필...',\n",
       "  '내용 더보기',\n",
       "  '어버이날이라 택배로 주문했어요! 매번 서울에서 본 가까지 가져왔었는데 이렇게도 받아볼 수 있자니 편 리하네요. 부모님이 웬만한 횟집에서 만족 못 ...',\n",
       "  '내용 더보기',\n",
       "  '노량진수산시장! 원래 다니던집 쫌 질려서 첨으로 전 라상회 방문했어요! 사장님 넘 친절하시고 잘 챙겨주 셔서 감사합니다. 잘먹었어요** 참치 먹고 싶...',\n",
       "  '내용 더보기',\n",
       "  '지인이 겨울에 대방어를 못 드셨다고해서 급하게 들\\n른 전라상회. 잿방어와 참치로 한접시 요청드렸고 서\\n비스로 올려주신 전갱이까지 최고였습니다. ...',\n",
       "  '내용 더보기',\n",
       "  '와우 어버이날 생각 못하고 갔다가 못살뻔했어요 오전에 주문하고 오후에 수령했는데 역시 너무 맛있어요 ㅠ 못샀으면 큰일날뻔요 ㅠ 짱맛!',\n",
       "  '내 친구는 왜 이곳을 좋아하는가...',\n",
       "  '싱싱한 회를 맛볼수 있어서 좋아요~^^',\n",
       "  '진짜진짜진짜 너무 엄청 맛있게 먹었어요 서비스로 주신 라면사리와 수제비도 진짜 감사합니다',\n",
       "  '노량진에서 항상 애용하는 횟집입니다']}"
      ]
     },
     "execution_count": 48,
     "metadata": {},
     "output_type": "execute_result"
    }
   ],
   "source": [
    "review_dic"
   ]
  },
  {
   "cell_type": "code",
   "execution_count": 49,
   "id": "922d3977",
   "metadata": {},
   "outputs": [
    {
     "name": "stderr",
     "output_type": "stream",
     "text": [
      "C:\\Users\\JSWonner\\AppData\\Local\\Temp\\ipykernel_13360\\505887123.py:2: DeprecationWarning: executable_path has been deprecated, please pass in a Service object\n",
      "  driver = webdriver.Chrome('./chromedriver')  # 드라이버 경로\n"
     ]
    }
   ],
   "source": [
    "url = 'https://map.naver.com/v5/search'\n",
    "driver = webdriver.Chrome('./chromedriver')  # 드라이버 경로"
   ]
  },
  {
   "cell_type": "code",
   "execution_count": 50,
   "id": "5ca2cff3",
   "metadata": {},
   "outputs": [],
   "source": [
    "driver.get(url)\n",
    "key_word = '노량진수상시장 횟집'\n",
    "find_search_input(key_word)"
   ]
  },
  {
   "cell_type": "code",
   "execution_count": 51,
   "id": "265b545e",
   "metadata": {},
   "outputs": [],
   "source": [
    "switch_frame('searchIframe')"
   ]
  },
  {
   "cell_type": "code",
   "execution_count": 57,
   "id": "4b168428",
   "metadata": {},
   "outputs": [],
   "source": [
    "driver.execute_script(\"window.scrollTo(0,document.body.scrollHeight);\")"
   ]
  },
  {
   "cell_type": "code",
   "execution_count": 53,
   "id": "db8e31bc",
   "metadata": {},
   "outputs": [],
   "source": [
    "page_down(3)"
   ]
  },
  {
   "cell_type": "code",
   "execution_count": 54,
   "id": "ea9cc424",
   "metadata": {},
   "outputs": [],
   "source": [
    "switch_frame('entryIframe')"
   ]
  },
  {
   "cell_type": "code",
   "execution_count": 58,
   "id": "39b13263",
   "metadata": {},
   "outputs": [],
   "source": [
    "driver.execute_script(\"window.scrollTo(0,document.body.scrollHeight);\")"
   ]
  },
  {
   "cell_type": "code",
   "execution_count": 59,
   "id": "ec5f5048",
   "metadata": {},
   "outputs": [],
   "source": [
    "driver.execute_script(\"window.scrollTo(0,document.body.scrollHeight);\")"
   ]
  },
  {
   "cell_type": "code",
   "execution_count": 31,
   "id": "f471affa",
   "metadata": {},
   "outputs": [],
   "source": [
    "switch_frame('searchIframe')"
   ]
  },
  {
   "cell_type": "code",
   "execution_count": 60,
   "id": "4be9e61d",
   "metadata": {},
   "outputs": [],
   "source": [
    "driver.execute_script(\"window.scrollTo(0,document.body.scrollHeight);\")"
   ]
  },
  {
   "cell_type": "code",
   "execution_count": 33,
   "id": "c1e33b06",
   "metadata": {},
   "outputs": [],
   "source": [
    "page_down(20)"
   ]
  },
  {
   "cell_type": "code",
   "execution_count": 34,
   "id": "01c18a98",
   "metadata": {},
   "outputs": [],
   "source": [
    "switch_frame('entryIframe')"
   ]
  },
  {
   "cell_type": "code",
   "execution_count": 36,
   "id": "0ae57594",
   "metadata": {},
   "outputs": [],
   "source": [
    "driver.execute_script(\"window.scrollTo(0,0);\")"
   ]
  },
  {
   "cell_type": "code",
   "execution_count": null,
   "id": "84e40f43",
   "metadata": {},
   "outputs": [],
   "source": []
  }
 ],
 "metadata": {
  "kernelspec": {
   "display_name": "Python 3 (ipykernel)",
   "language": "python",
   "name": "python3"
  },
  "language_info": {
   "codemirror_mode": {
    "name": "ipython",
    "version": 3
   },
   "file_extension": ".py",
   "mimetype": "text/x-python",
   "name": "python",
   "nbconvert_exporter": "python",
   "pygments_lexer": "ipython3",
   "version": "3.9.12"
  }
 },
 "nbformat": 4,
 "nbformat_minor": 5
}
