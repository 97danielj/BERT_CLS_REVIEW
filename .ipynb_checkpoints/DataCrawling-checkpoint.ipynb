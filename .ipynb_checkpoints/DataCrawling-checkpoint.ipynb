{
 "cells": [
  {
   "cell_type": "markdown",
   "id": "99af54ab",
   "metadata": {},
   "source": [
    "# 환경설정"
   ]
  },
  {
   "cell_type": "code",
   "execution_count": 1,
   "id": "813dbd78",
   "metadata": {},
   "outputs": [],
   "source": [
    "import time\n",
    "from selenium import webdriver\n",
    "from selenium.webdriver.common.keys import Keys\n",
    "from selenium.webdriver.common.by import By\n",
    "from selenium.webdriver.support.ui import WebDriverWait\n",
    "from selenium.webdriver.support import expected_conditions as EC\n",
    "from time import sleep\n",
    "from bs4 import BeautifulSoup\n",
    "import re\n",
    "import json\n",
    "WAIT = 3\n",
    "#options = webdriver.ChromeOptions()\n",
    "#options.add_argument('headless')"
   ]
  },
  {
   "cell_type": "markdown",
   "id": "281712c5",
   "metadata": {},
   "source": [
    "# 함수 정의"
   ]
  },
  {
   "cell_type": "raw",
   "id": "947bfb2c",
   "metadata": {},
   "source": [
    "1. time_wait(num, code, driver) : driver에서 code를 존재를 찾기까지 num times 대기한다.\n",
    "2. find_search_input(key_word,driver) : driver에서 input_box의 위치를 찾고 key_word를 입력한다.\n",
    "3. switch_frame(frame,driver) : driver의 iframe을 변경시킨다.\n",
    "4. page_down(num,driver) : driver의 num횟수 만큼 page_down을 시킨다.\n",
    "5. page_end(driver) : driver의 page_end키를 보낸다.\n",
    "6. find_review_btn(driver) : 페이지의 '리뷰' 버튼을 찾는다.\n",
    "7. crawling_menu_review(driver) : 메뉴리스트와 방문자 리뷰를 크롤링해온다.\n",
    "8. crawling(driver, i, store_elements,review_dic) : 전체 크롤링을 담당한다. 매장명, 위치, 평점, 리뷰를 크롤링\n",
    "9. review_crawling2(key_word, page_num) : 메인 함수, key_word를 검색창에 입력하고, page_num 페이지에서 store_list를 순회한다.\n",
    " "
   ]
  },
  {
   "cell_type": "code",
   "execution_count": 2,
   "id": "7360183c",
   "metadata": {},
   "outputs": [],
   "source": [
    "# css 찾을때 까지 10초대기\n",
    "def time_wait(num, code,driver):\n",
    "    try:\n",
    "        wait = WebDriverWait(driver, num).until(\n",
    "            EC.presence_of_element_located((By.CSS_SELECTOR, code)))\n",
    "    except:\n",
    "        print(code, '태그를 찾지 못하였습니다.')\n",
    "        driver.quit()\n",
    "    return wait"
   ]
  },
  {
   "cell_type": "code",
   "execution_count": 3,
   "id": "5a4257d7",
   "metadata": {},
   "outputs": [],
   "source": [
    "def find_search_input(key_word,driver):\n",
    "    # 검색창 찾기\n",
    "    driver.switch_to.default_content()\n",
    "    time_wait(2, 'div.input_box > input.input_search',driver)\n",
    "    search = driver.find_element(By.CSS_SELECTOR,'div.input_box > input.input_search')\n",
    "    search.send_keys(key_word)  # 검색어 입력\n",
    "    driver.implicitly_wait(3)\n",
    "    search.send_keys(Keys.ENTER)  # 엔터버튼 누르기\n",
    "    sleep(5)\n",
    "    res = driver.page_source  # 페이지 소스 가져오기\n",
    "    soup = BeautifulSoup(res, 'html.parser')  # html 파싱하여  가져온다\n",
    "    sleep(1)"
   ]
  },
  {
   "cell_type": "code",
   "execution_count": 4,
   "id": "38510e7d",
   "metadata": {},
   "outputs": [],
   "source": [
    "# frame 변경 메소드\n",
    "def switch_frame(frame,driver):\n",
    "    driver.switch_to.default_content()  # frame 초기화\n",
    "    driver.switch_to.frame(frame)  # frame 변경\n",
    "    driver.implicitly_wait(1)\n"
   ]
  },
  {
   "cell_type": "code",
   "execution_count": 5,
   "id": "7611d926",
   "metadata": {},
   "outputs": [],
   "source": [
    "# 페이지 다운\n",
    "def page_down(num,driver):\n",
    "    body = driver.find_element(By.CSS_SELECTOR,'body')\n",
    "    body.click()\n",
    "    for i in range(num):\n",
    "        body.send_keys(Keys.PAGE_DOWN)"
   ]
  },
  {
   "cell_type": "code",
   "execution_count": 6,
   "id": "4930c8fc",
   "metadata": {},
   "outputs": [],
   "source": [
    "# 페이지 다운\n",
    "def page_end(driver):\n",
    "    body = driver.find_element(By.CSS_SELECTOR,'body')\n",
    "    body.click()\n",
    "    body.send_keys(Keys.END)"
   ]
  },
  {
   "cell_type": "code",
   "execution_count": 62,
   "id": "74f1001e",
   "metadata": {},
   "outputs": [],
   "source": [
    "def find_review_btn(driver):\n",
    "    sleep(2)\n",
    "    try:\n",
    "        menu_list = driver.find_elements(By.CSS_SELECTOR,'a.tpj9w')\n",
    "        if len(menu_list) ==7:\n",
    "            return menu_list[-1]\n",
    "        else:\n",
    "            return menu_list[-2]\n",
    "    except:\n",
    "        print('리뷰가 존재하지 않습니다.')"
   ]
  },
  {
   "cell_type": "code",
   "execution_count": 257,
   "id": "650c8d8e",
   "metadata": {},
   "outputs": [],
   "source": [
    "def crawling_menu_review(driver):\n",
    "    #-----리뷰 버튼 클릭-------\n",
    "    find_review_btn(driver).click()\n",
    "    SCROLL_PAUSE_SEC = 1\n",
    "    sleep(1)\n",
    "    page_down(1,driver)\n",
    "    driver.implicitly_wait(WAIT)\n",
    "    #메뉴 요소 찾기\n",
    "    menu_elements  = driver.find_elements(By.CSS_SELECTOR,'div.place_fixed_subtab > div > div:nth-child(1) > div > div > div > span > a > span:first-child')\n",
    "    sleep(SCROLL_PAUSE_SEC)\n",
    "    driver.implicitly_wait(WAIT)\n",
    "    try:\n",
    "        #왼쪽 버튼 찾기\n",
    "        left_btn = driver.find_element(By.CSS_SELECTOR,'a.PznE8.aNw43')\n",
    "        driver.implicitly_wait(WAIT)\n",
    "        left_btn.click()\n",
    "        driver.implicitly_wait(WAIT)\n",
    "    except:\n",
    "        pass\n",
    "\n",
    "    try:\n",
    "        #오른족 버튼 찾기\n",
    "        right_btn = driver.find_element(By.CSS_SELECTOR, 'div.place_fixed_subtab > div > div:nth-child(1) > div > div > a.ZCqf_.aNw43')\n",
    "        driver.implicitly_wait(WAIT)\n",
    "    except:\n",
    "        pass\n",
    "    menu_list = list()\n",
    "    #-----------여기까지-----------\n",
    "    i = 0\n",
    "    \n",
    "    # menu_elentents가 존재하지 않는다면 except로 갈 것이다.\n",
    "    try: \n",
    "        while True:\n",
    "            if menu_elements[i].text != '': #요소가 존재하고 메뉴 텍스트도 보일때\n",
    "                menu_list.append(menu_elements[i].text)\n",
    "                if i == len(menu_elements)-1: # 메뉴 리스트 길이면 나온나\n",
    "                    break\n",
    "                i+=1\n",
    "            else:\n",
    "                right_btn.click()\n",
    "                sleep(SCROLL_PAUSE_SEC)\n",
    "                driver.implicitly_wait(WAIT)\n",
    "    except:\n",
    "        pass\n",
    "            \n",
    "    #last_scroll = driver.execute_script(\"return document.body.scrollHeight\")\n",
    "    #view_more_count = 0\n",
    "    \n",
    "    while True:\n",
    "        driver.execute_script(\"window.scrollTo(0, document.body.scrollHeight);\")\n",
    "        sleep(2)\n",
    "        \n",
    "        #if view_more_count ==19:\n",
    "            #break\n",
    "        try :\n",
    "            #더보기 버튼 클릭\n",
    "            driver.implicitly_wait(WAIT)\n",
    "            driver.find_element(By.CSS_SELECTOR,'a.fvwqf').click()\n",
    "            #view_more_count += 1\n",
    "            \n",
    "        except:\n",
    "            #더보기 버튼이 없다면 while문을 빠져나온다.\n",
    "            break\n",
    "            # 끝까지 스크롤 다운\n",
    "            \n",
    "        #new_scroll = driver.execute_script(\"return document.body.scrollHeight\")\n",
    "        #driver.implicitly_wait(WAIT)\n",
    "        #if last_scroll == new_scroll:\n",
    "        #    break\n",
    "        #else:\n",
    "        #    last_scroll= new_scroll\n",
    "\n",
    "    driver.execute_script(\"window.scrollTo(0, document.body.scrollHeight);\")\n",
    "\n",
    "    #가게 리스트 마다 방문자 리뷰 가져오기\n",
    "    review_elements = driver.find_elements(By.CSS_SELECTOR,\"span.zPfVt\")\n",
    "    review_list = []\n",
    "    for i in review_elements:\n",
    "        review_list.append(i.text)\n",
    "    \n",
    "    return menu_list, review_list"
   ]
  },
  {
   "cell_type": "markdown",
   "id": "86de5a29",
   "metadata": {},
   "source": [
    "# 검색 지역 횟집의 리뷰를 크롤링.\n",
    "## 한번에 하는 코드 / refresh()를 해도 응답이 없음"
   ]
  },
  {
   "cell_type": "raw",
   "id": "ada45a47",
   "metadata": {},
   "source": [
    "문제점\n",
    "1. 블로그 리뷰는 앞에 서사 부분이 너무 쓸모가 없다. => 제외\n",
    "2. 방문자 리뷰 크롤링시 한 페이지당 48~54개의 매장들이 있는데 중간에 통신(네트워크)가 끊겨서 페이지의 가게 리스트를 3단위씩 끊어서 저장 시킨다.\n",
    "=> '새로고침'키를 입력해주고 refresh_point, refresh_point*2 로 슬라이싱한다.\n",
    "=> 크롤링중 '새로고침'\n",
    "문제점 : 시점이 많이 지난 시점에서는 새로고침 키를 웹드라이버 주더라도 리뷰 페이지가 응답이 없다.\n",
    "\n",
    "해결책 : 한페이지를 3번 띄운다."
   ]
  },
  {
   "cell_type": "code",
   "execution_count": 261,
   "id": "3eeac056",
   "metadata": {},
   "outputs": [],
   "source": [
    "def crawling(driver, i, store_elements,review_dic):\n",
    "    driver.implicitly_wait(1)\n",
    "    store_elements[i].click() #li의 스토어를 클릭\n",
    "    driver.implicitly_wait(WAIT) # 2초 휴식\n",
    "    try:\n",
    "        #다른 iframe으로 변경\n",
    "        switch_frame('entryIframe',driver)\n",
    "        time_wait(2, '.Fc1rA',driver)\n",
    "\n",
    "        # -----매장명 가져오기-----\n",
    "        store_name = driver.find_element(By.CSS_SELECTOR,'.Fc1rA').text\n",
    "        driver.implicitly_wait(2)\n",
    "        review_dic[store_name] = {}\n",
    "        \n",
    "        # -----평점 가져오기-----\n",
    "        try :\n",
    "            rank = driver.find_element(By.CSS_SELECTOR,'div.zD5Nm.f7aZ0 > div.dAsGb > span.PXMot.LXIwF > em')\n",
    "            driver.implicitly_wait(WAIT)\n",
    "            review_dic[store_name]['rank'] = rank.text\n",
    "        except:\n",
    "            pass\n",
    "\n",
    "        # -----위치 가져오기-----\n",
    "        try : \n",
    "            location = driver.find_element(By.CSS_SELECTOR, 'span.IH7VW').text\n",
    "            driver.implicitly_wait(WAIT)\n",
    "            review_dic[store_name]['location'] = location\n",
    "        except:\n",
    "            pass\n",
    "        \n",
    "        '''\n",
    "        #---------------문제--------------\n",
    "        memu_list, review_list = crawling_menu_review(driver)\n",
    "        \n",
    "        # 메뉴 크롤링\n",
    "        review_dic[store_name]['menu'] = menu_list\n",
    "        \n",
    "        # 방문자 리뷰 크롤링\n",
    "        review_dic[store_name]['review'] = review_list\n",
    "        driver.implicitly_wait(WAIT)\n",
    "        '''\n",
    "    except:\n",
    "        pass\n",
    "    \n",
    "    memu_list, review_list = crawling_menu_review(driver)\n",
    "    print(len(memu_list))\n",
    "    print(len(review_list))\n",
    "        \n",
    "    # 메뉴 크롤링\n",
    "    review_dic[store_name]['menu'] = memu_list\n",
    "\n",
    "    # 방문자 리뷰 크롤링\n",
    "    review_dic[store_name]['review'] = review_list\n",
    "    driver.implicitly_wait(WAIT)\n",
    "    "
   ]
  },
  {
   "cell_type": "markdown",
   "id": "d65964eb",
   "metadata": {},
   "source": [
    "## 3번에 걸쳐 1페이지를 크롤링"
   ]
  },
  {
   "cell_type": "code",
   "execution_count": 205,
   "id": "51f6c749",
   "metadata": {},
   "outputs": [],
   "source": [
    "def review_crawling(key_word, page_num):\n",
    "    review_dic = dict()\n",
    "    page_num = page_num-1\n",
    "    for idx in range(3):\n",
    "        url = 'https://map.naver.com/v5/search'\n",
    "        driver = webdriver.Chrome('./chromedriver')\n",
    "        driver.get(url)\n",
    "        driver.implicitly_wait(2)\n",
    "        \n",
    "        # 검색어 입력\n",
    "        find_search_input(key_word,driver=driver)\n",
    "        driver.implicitly_wait(2)\n",
    "        \n",
    "        #프레임 변경\n",
    "        switch_frame('searchIframe',driver)\n",
    "        driver.implicitly_wait(WAIT)\n",
    "        \n",
    "        # 페이지 버튼 찾기\n",
    "        pages = driver.find_elements(By.CSS_SELECTOR,'a.mBN2s')\n",
    "        if page_num <= 5:\n",
    "            pages[page_num].click()\n",
    "            driver.implicitly_wait(WAIT)\n",
    "        else:\n",
    "            driver.find_elements(By.CSS_SELECTOR,'div.zRM9F > a:nth-child(6)').click()\n",
    "            driver.implicitly_wait(WAIT)\n",
    "            driver.find_element(By.CSS_SELECTOR, 'div.zRM9F > a:nth-child(6)').click()\n",
    "            driver.implicitly_wait(WAIT)\n",
    "            \n",
    "        driver.implicitly_wait(WAIT)\n",
    "        page_down(40,driver)\n",
    "        sleep(1)\n",
    "        driver.implicitly_wait(1)\n",
    "        page_down(5,driver)\n",
    "        sleep(2)\n",
    "        driver.execute_script(\"window.scrollTo(0, 0);\")\n",
    "        driver.implicitly_wait(WAIT)\n",
    "        store_elements = driver.find_elements(By.CSS_SELECTOR,'div.ouxiq.icT4K > a:nth-child(1)')\n",
    "        print('total store_list : ', len(store_elements))\n",
    "        \n",
    "        \n",
    "        #체크포인트\n",
    "        ch_pt1 = len(store_elements) // 3\n",
    "        ch_pt2 = ch_pt1*2\n",
    "        if idx == 0:\n",
    "            for i in range(ch_pt1):\n",
    "                crawling(driver, i,store_elements,review_dic)\n",
    "                switch_frame('searchIframe',driver)\n",
    "                if i == ch_pt1-1:\n",
    "                    print('first crawling store_list', ch_pt1)\n",
    "                            \n",
    "        elif idx == 1:\n",
    "            for i in range(ch_pt1,ch_pt2):\n",
    "                crawling(driver, i,store_elements,review_dic)\n",
    "                switch_frame('searchIframe',driver)\n",
    "                if i == ch_pt2-1:\n",
    "                    print('second crawling store_list', ch_pt2-ch_pt1)\n",
    "            \n",
    "        else :\n",
    "            for i in range(ch_pt2,len(store_elements)):\n",
    "                crawling(driver, i,store_elements,review_dic)\n",
    "                switch_frame('searchIframe',driver)\n",
    "                if i == len(store_elements)-1:\n",
    "                    print('third crawling store_list', len(store_elements)-ch_pt2)\n",
    "                \n",
    "\n",
    "    # json 파일로 저장\n",
    "    with open(f'naver_{key_word}_review_dic_page{page_num+1}.json', 'w', encoding='utf-8') as f:\n",
    "        json.dump(review_dic, f, indent=4, ensure_ascii=False)\n",
    "    \n",
    "            \n",
    "        \n",
    "        \n",
    "    \n",
    "    \n",
    "    "
   ]
  },
  {
   "cell_type": "code",
   "execution_count": 19,
   "id": "5a982963",
   "metadata": {},
   "outputs": [],
   "source": [
    "key_word_list = ['서울 횟집', '부산 횟집', '대구 횟집', '대전 횟집', '울산 횟집', '광주 횟집']"
   ]
  },
  {
   "cell_type": "code",
   "execution_count": 242,
   "id": "5d819378",
   "metadata": {},
   "outputs": [
    {
     "name": "stderr",
     "output_type": "stream",
     "text": [
      "C:\\Users\\DanielJeong\\AppData\\Local\\Temp\\ipykernel_8816\\1328651259.py:2: DeprecationWarning: executable_path has been deprecated, please pass in a Service object\n",
      "  driver = webdriver.Chrome('./chromedriver')\n"
     ]
    }
   ],
   "source": [
    "url = 'https://map.naver.com/v5/search'\n",
    "driver = webdriver.Chrome('./chromedriver')\n",
    "driver.get(url)\n",
    "driver.implicitly_wait(2)"
   ]
  },
  {
   "cell_type": "code",
   "execution_count": 243,
   "id": "2fc46c93",
   "metadata": {},
   "outputs": [],
   "source": [
    "  # 검색어 입력\n",
    "find_search_input('인천 횟집',driver=driver)\n",
    "driver.implicitly_wait(2)"
   ]
  },
  {
   "cell_type": "code",
   "execution_count": 244,
   "id": "bc106395",
   "metadata": {},
   "outputs": [],
   "source": [
    "switch_frame('searchIframe',driver)\n",
    "driver.implicitly_wait(WAIT)"
   ]
  },
  {
   "cell_type": "code",
   "execution_count": 166,
   "id": "b39bb10c",
   "metadata": {},
   "outputs": [],
   "source": [
    "page_num = 0\n",
    "pages = driver.find_elements(By.CSS_SELECTOR,'a.mBN2s')\n",
    "if page_num <= 5:\n",
    "    pages[page_num].click()\n",
    "    driver.implicitly_wait(WAIT)\n",
    "else:\n",
    "    driver.find_elements(By.CSS_SELECTOR,'div.zRM9F > a:nth-child(6)').click()\n",
    "    driver.implicitly_wait(WAIT)\n",
    "    driver.find_element(By.CSS_SELECTOR, 'div.zRM9F > a:nth-child(6)').click()\n",
    "    driver.implicitly_wait(WAIT)"
   ]
  },
  {
   "cell_type": "code",
   "execution_count": 245,
   "id": "d8dce407",
   "metadata": {},
   "outputs": [
    {
     "name": "stdout",
     "output_type": "stream",
     "text": [
      "total store_list :  10\n"
     ]
    }
   ],
   "source": [
    "driver.implicitly_wait(WAIT)\n",
    "#page_down(40,driver)\n",
    "sleep(1)\n",
    "driver.implicitly_wait(1)\n",
    "#page_down(5,driver)\n",
    "sleep(2)\n",
    "driver.execute_script(\"window.scrollTo(0, 0);\")\n",
    "driver.implicitly_wait(WAIT)\n",
    "store_elements = driver.find_elements(By.CSS_SELECTOR,'div.ouxiq.icT4K > a:nth-child(1)')\n",
    "print('total store_list : ', len(store_elements))"
   ]
  },
  {
   "cell_type": "code",
   "execution_count": 262,
   "id": "f2589d6d",
   "metadata": {},
   "outputs": [],
   "source": [
    "switch_frame('searchIframe',driver)"
   ]
  },
  {
   "cell_type": "code",
   "execution_count": 267,
   "id": "f1774149",
   "metadata": {},
   "outputs": [
    {
     "name": "stderr",
     "output_type": "stream",
     "text": [
      "C:\\Users\\DanielJeong\\AppData\\Local\\Temp\\ipykernel_8816\\2989392167.py:6: DeprecationWarning: executable_path has been deprecated, please pass in a Service object\n",
      "  driver = webdriver.Chrome('./chromedriver')\n"
     ]
    },
    {
     "name": "stdout",
     "output_type": "stream",
     "text": [
      "total store_list :  43\n"
     ]
    },
    {
     "ename": "WebDriverException",
     "evalue": "Message: chrome not reachable\n  (Session info: chrome=104.0.5112.102)\nStacktrace:\nBacktrace:\n\tOrdinal0 [0x006C78B3+2193587]\n\tOrdinal0 [0x00660681+1771137]\n\tOrdinal0 [0x00574070+802928]\n\tOrdinal0 [0x00569AB2+760498]\n\tOrdinal0 [0x0055CEAF+708271]\n\tOrdinal0 [0x00561142+725314]\n\tOrdinal0 [0x005655C9+742857]\n\tOrdinal0 [0x00575500+808192]\n\tOrdinal0 [0x005CD2C2+1168066]\n\tOrdinal0 [0x005BD5C6+1103302]\n\tOrdinal0 [0x005977E0+948192]\n\tOrdinal0 [0x005986E6+952038]\n\tGetHandleVerifier [0x00970CB2+2738370]\n\tGetHandleVerifier [0x009621B8+2678216]\n\tGetHandleVerifier [0x007517AA+512954]\n\tGetHandleVerifier [0x00750856+509030]\n\tOrdinal0 [0x0066743B+1799227]\n\tOrdinal0 [0x0066BB68+1817448]\n\tOrdinal0 [0x0066BC55+1817685]\n\tOrdinal0 [0x00675230+1856048]\n\tBaseThreadInitThunk [0x75A6FA29+25]\n\tRtlGetAppContainerNamedObjectPath [0x774075F4+228]\n\tRtlGetAppContainerNamedObjectPath [0x774075C4+180]\n",
     "output_type": "error",
     "traceback": [
      "\u001b[1;31m---------------------------------------------------------------------------\u001b[0m",
      "\u001b[1;31mWebDriverException\u001b[0m                        Traceback (most recent call last)",
      "Input \u001b[1;32mIn [267]\u001b[0m, in \u001b[0;36m<cell line: 1>\u001b[1;34m()\u001b[0m\n\u001b[1;32m----> 1\u001b[0m \u001b[43mreview_crawling\u001b[49m\u001b[43m(\u001b[49m\u001b[38;5;124;43m'\u001b[39;49m\u001b[38;5;124;43m울산 횟집\u001b[39;49m\u001b[38;5;124;43m'\u001b[39;49m\u001b[43m,\u001b[49m\u001b[38;5;241;43m1\u001b[39;49m\u001b[43m)\u001b[49m\n",
      "Input \u001b[1;32mIn [205]\u001b[0m, in \u001b[0;36mreview_crawling\u001b[1;34m(key_word, page_num)\u001b[0m\n\u001b[0;32m     44\u001b[0m \u001b[38;5;28;01mif\u001b[39;00m idx \u001b[38;5;241m==\u001b[39m \u001b[38;5;241m0\u001b[39m:\n\u001b[0;32m     45\u001b[0m     \u001b[38;5;28;01mfor\u001b[39;00m i \u001b[38;5;129;01min\u001b[39;00m \u001b[38;5;28mrange\u001b[39m(ch_pt1):\n\u001b[1;32m---> 46\u001b[0m         \u001b[43mcrawling\u001b[49m\u001b[43m(\u001b[49m\u001b[43mdriver\u001b[49m\u001b[43m,\u001b[49m\u001b[43m \u001b[49m\u001b[43mi\u001b[49m\u001b[43m,\u001b[49m\u001b[43mstore_elements\u001b[49m\u001b[43m,\u001b[49m\u001b[43mreview_dic\u001b[49m\u001b[43m)\u001b[49m\n\u001b[0;32m     47\u001b[0m         switch_frame(\u001b[38;5;124m'\u001b[39m\u001b[38;5;124msearchIframe\u001b[39m\u001b[38;5;124m'\u001b[39m,driver)\n\u001b[0;32m     48\u001b[0m         \u001b[38;5;28;01mif\u001b[39;00m i \u001b[38;5;241m==\u001b[39m ch_pt1\u001b[38;5;241m-\u001b[39m\u001b[38;5;241m1\u001b[39m:\n",
      "Input \u001b[1;32mIn [261]\u001b[0m, in \u001b[0;36mcrawling\u001b[1;34m(driver, i, store_elements, review_dic)\u001b[0m\n\u001b[0;32m     42\u001b[0m \u001b[38;5;28;01mexcept\u001b[39;00m:\n\u001b[0;32m     43\u001b[0m     \u001b[38;5;28;01mpass\u001b[39;00m\n\u001b[1;32m---> 45\u001b[0m memu_list, review_list \u001b[38;5;241m=\u001b[39m \u001b[43mcrawling_menu_review\u001b[49m\u001b[43m(\u001b[49m\u001b[43mdriver\u001b[49m\u001b[43m)\u001b[49m\n\u001b[0;32m     46\u001b[0m \u001b[38;5;28mprint\u001b[39m(\u001b[38;5;28mlen\u001b[39m(memu_list))\n\u001b[0;32m     47\u001b[0m \u001b[38;5;28mprint\u001b[39m(\u001b[38;5;28mlen\u001b[39m(review_list))\n",
      "Input \u001b[1;32mIn [257]\u001b[0m, in \u001b[0;36mcrawling_menu_review\u001b[1;34m(driver)\u001b[0m\n\u001b[0;32m     63\u001b[0m         \u001b[38;5;28;01mbreak\u001b[39;00m\n\u001b[0;32m     64\u001b[0m         \u001b[38;5;66;03m# 끝까지 스크롤 다운\u001b[39;00m\n\u001b[0;32m     65\u001b[0m         \n\u001b[0;32m     66\u001b[0m     \u001b[38;5;66;03m#new_scroll = driver.execute_script(\"return document.body.scrollHeight\")\u001b[39;00m\n\u001b[1;32m   (...)\u001b[0m\n\u001b[0;32m     70\u001b[0m     \u001b[38;5;66;03m#else:\u001b[39;00m\n\u001b[0;32m     71\u001b[0m     \u001b[38;5;66;03m#    last_scroll= new_scroll\u001b[39;00m\n\u001b[1;32m---> 73\u001b[0m \u001b[43mdriver\u001b[49m\u001b[38;5;241;43m.\u001b[39;49m\u001b[43mexecute_script\u001b[49m\u001b[43m(\u001b[49m\u001b[38;5;124;43m\"\u001b[39;49m\u001b[38;5;124;43mwindow.scrollTo(0, document.body.scrollHeight);\u001b[39;49m\u001b[38;5;124;43m\"\u001b[39;49m\u001b[43m)\u001b[49m\n\u001b[0;32m     75\u001b[0m \u001b[38;5;66;03m#가게 리스트 마다 방문자 리뷰 가져오기\u001b[39;00m\n\u001b[0;32m     76\u001b[0m review_elements \u001b[38;5;241m=\u001b[39m driver\u001b[38;5;241m.\u001b[39mfind_elements(By\u001b[38;5;241m.\u001b[39mCSS_SELECTOR,\u001b[38;5;124m\"\u001b[39m\u001b[38;5;124mspan.zPfVt\u001b[39m\u001b[38;5;124m\"\u001b[39m)\n",
      "File \u001b[1;32m~\\AppData\\Roaming\\Python\\Python39\\site-packages\\selenium\\webdriver\\remote\\webdriver.py:491\u001b[0m, in \u001b[0;36mWebDriver.execute_script\u001b[1;34m(self, script, *args)\u001b[0m\n\u001b[0;32m    488\u001b[0m converted_args \u001b[38;5;241m=\u001b[39m \u001b[38;5;28mlist\u001b[39m(args)\n\u001b[0;32m    489\u001b[0m command \u001b[38;5;241m=\u001b[39m Command\u001b[38;5;241m.\u001b[39mW3C_EXECUTE_SCRIPT\n\u001b[1;32m--> 491\u001b[0m \u001b[38;5;28;01mreturn\u001b[39;00m \u001b[38;5;28;43mself\u001b[39;49m\u001b[38;5;241;43m.\u001b[39;49m\u001b[43mexecute\u001b[49m\u001b[43m(\u001b[49m\u001b[43mcommand\u001b[49m\u001b[43m,\u001b[49m\u001b[43m \u001b[49m\u001b[43m{\u001b[49m\n\u001b[0;32m    492\u001b[0m \u001b[43m    \u001b[49m\u001b[38;5;124;43m'\u001b[39;49m\u001b[38;5;124;43mscript\u001b[39;49m\u001b[38;5;124;43m'\u001b[39;49m\u001b[43m:\u001b[49m\u001b[43m \u001b[49m\u001b[43mscript\u001b[49m\u001b[43m,\u001b[49m\n\u001b[0;32m    493\u001b[0m \u001b[43m    \u001b[49m\u001b[38;5;124;43m'\u001b[39;49m\u001b[38;5;124;43margs\u001b[39;49m\u001b[38;5;124;43m'\u001b[39;49m\u001b[43m:\u001b[49m\u001b[43m \u001b[49m\u001b[43mconverted_args\u001b[49m\u001b[43m}\u001b[49m\u001b[43m)\u001b[49m[\u001b[38;5;124m'\u001b[39m\u001b[38;5;124mvalue\u001b[39m\u001b[38;5;124m'\u001b[39m]\n",
      "File \u001b[1;32m~\\AppData\\Roaming\\Python\\Python39\\site-packages\\selenium\\webdriver\\remote\\webdriver.py:428\u001b[0m, in \u001b[0;36mWebDriver.execute\u001b[1;34m(self, driver_command, params)\u001b[0m\n\u001b[0;32m    426\u001b[0m response \u001b[38;5;241m=\u001b[39m \u001b[38;5;28mself\u001b[39m\u001b[38;5;241m.\u001b[39mcommand_executor\u001b[38;5;241m.\u001b[39mexecute(driver_command, params)\n\u001b[0;32m    427\u001b[0m \u001b[38;5;28;01mif\u001b[39;00m response:\n\u001b[1;32m--> 428\u001b[0m     \u001b[38;5;28;43mself\u001b[39;49m\u001b[38;5;241;43m.\u001b[39;49m\u001b[43merror_handler\u001b[49m\u001b[38;5;241;43m.\u001b[39;49m\u001b[43mcheck_response\u001b[49m\u001b[43m(\u001b[49m\u001b[43mresponse\u001b[49m\u001b[43m)\u001b[49m\n\u001b[0;32m    429\u001b[0m     response[\u001b[38;5;124m'\u001b[39m\u001b[38;5;124mvalue\u001b[39m\u001b[38;5;124m'\u001b[39m] \u001b[38;5;241m=\u001b[39m \u001b[38;5;28mself\u001b[39m\u001b[38;5;241m.\u001b[39m_unwrap_value(\n\u001b[0;32m    430\u001b[0m         response\u001b[38;5;241m.\u001b[39mget(\u001b[38;5;124m'\u001b[39m\u001b[38;5;124mvalue\u001b[39m\u001b[38;5;124m'\u001b[39m, \u001b[38;5;28;01mNone\u001b[39;00m))\n\u001b[0;32m    431\u001b[0m     \u001b[38;5;28;01mreturn\u001b[39;00m response\n",
      "File \u001b[1;32m~\\AppData\\Roaming\\Python\\Python39\\site-packages\\selenium\\webdriver\\remote\\errorhandler.py:243\u001b[0m, in \u001b[0;36mErrorHandler.check_response\u001b[1;34m(self, response)\u001b[0m\n\u001b[0;32m    241\u001b[0m         alert_text \u001b[38;5;241m=\u001b[39m value[\u001b[38;5;124m'\u001b[39m\u001b[38;5;124malert\u001b[39m\u001b[38;5;124m'\u001b[39m]\u001b[38;5;241m.\u001b[39mget(\u001b[38;5;124m'\u001b[39m\u001b[38;5;124mtext\u001b[39m\u001b[38;5;124m'\u001b[39m)\n\u001b[0;32m    242\u001b[0m     \u001b[38;5;28;01mraise\u001b[39;00m exception_class(message, screen, stacktrace, alert_text)  \u001b[38;5;66;03m# type: ignore[call-arg]  # mypy is not smart enough here\u001b[39;00m\n\u001b[1;32m--> 243\u001b[0m \u001b[38;5;28;01mraise\u001b[39;00m exception_class(message, screen, stacktrace)\n",
      "\u001b[1;31mWebDriverException\u001b[0m: Message: chrome not reachable\n  (Session info: chrome=104.0.5112.102)\nStacktrace:\nBacktrace:\n\tOrdinal0 [0x006C78B3+2193587]\n\tOrdinal0 [0x00660681+1771137]\n\tOrdinal0 [0x00574070+802928]\n\tOrdinal0 [0x00569AB2+760498]\n\tOrdinal0 [0x0055CEAF+708271]\n\tOrdinal0 [0x00561142+725314]\n\tOrdinal0 [0x005655C9+742857]\n\tOrdinal0 [0x00575500+808192]\n\tOrdinal0 [0x005CD2C2+1168066]\n\tOrdinal0 [0x005BD5C6+1103302]\n\tOrdinal0 [0x005977E0+948192]\n\tOrdinal0 [0x005986E6+952038]\n\tGetHandleVerifier [0x00970CB2+2738370]\n\tGetHandleVerifier [0x009621B8+2678216]\n\tGetHandleVerifier [0x007517AA+512954]\n\tGetHandleVerifier [0x00750856+509030]\n\tOrdinal0 [0x0066743B+1799227]\n\tOrdinal0 [0x0066BB68+1817448]\n\tOrdinal0 [0x0066BC55+1817685]\n\tOrdinal0 [0x00675230+1856048]\n\tBaseThreadInitThunk [0x75A6FA29+25]\n\tRtlGetAppContainerNamedObjectPath [0x774075F4+228]\n\tRtlGetAppContainerNamedObjectPath [0x774075C4+180]\n"
     ]
    }
   ],
   "source": [
    "review_crawling('울산 횟집',1)"
   ]
  },
  {
   "cell_type": "code",
   "execution_count": 264,
   "id": "fb0963ac",
   "metadata": {},
   "outputs": [
    {
     "name": "stdout",
     "output_type": "stream",
     "text": [
      "12\n",
      "31\n"
     ]
    }
   ],
   "source": [
    "current_review_dic = dict()\n",
    "crawling(driver, 9, store_elements,review_dic=current_review_dic)"
   ]
  },
  {
   "cell_type": "code",
   "execution_count": 265,
   "id": "ef4bf063",
   "metadata": {},
   "outputs": [
    {
     "data": {
      "text/plain": [
       "{'자연도횟집': {'rank': '4.26',\n",
       "  'location': '인천 중구 영종해안남로 32',\n",
       "  'menu': ['콘치즈',\n",
       "   '치즈',\n",
       "   '회무침',\n",
       "   '우럭',\n",
       "   '칼국수',\n",
       "   '개불',\n",
       "   '가리비',\n",
       "   '꼬막',\n",
       "   '라면',\n",
       "   '산낙지',\n",
       "   '매운탕',\n",
       "   '자연산회'],\n",
       "  'review': ['다시는 가고 싶지 않음. 손님을 대하는 태도의 기본 이 되어 있지 않음. 직원한테 콘치즈 하나더 달랬더 니 알았다고 해서 그런 줄 알았는데 주방에서 ...',\n",
       "   '애기랑 우럭지리 먹으러 자주 갑니다 회무침이 맛있어요',\n",
       "   '굿',\n",
       "   '굿',\n",
       "   '굿',\n",
       "   '굿',\n",
       "   '굿',\n",
       "   '무심코 들린곳인데 너무 푸짐하고 맛있어요! 사장님\\n인심도 너무 좋으시네요~~^^ 칼국수도 맛있었지만 \\n무채김치가 어찌나 맛있던지! 영종도 오면 또 ...',\n",
       "   '좋아요',\n",
       "   '회 좋아요',\n",
       "   '굿',\n",
       "   '포장해서 1kg에 4만원 샀어요 맛도 굿굿',\n",
       "   '김치가 맛있고 서비스도 좋았어요~\\n감사^^',\n",
       "   '갯벌 뷰에 맛난 회 만족할 만한 스끼다시',\n",
       "   '맛있어요!',\n",
       "   '무의도 가는길에 횟집 검색해서 갔어요. 오후4시경 이었는데, 손님은 저희밖에 없어서 전망좋은 2층 자 리에서 편하게 먹었습니다. 굴, 가리비, 산낙지...',\n",
       "   '사장님친절하시고 회맛있어요',\n",
       "   '아이 때문에 꽁치도 구워주시고 사장님이 친절하세요!!!',\n",
       "   '맛있어요',\n",
       "   '좋아요',\n",
       "   '스끼다시 좋은데 넘 비싸요',\n",
       "   '좋아요',\n",
       "   '좋아요',\n",
       "   '굳',\n",
       "   '굿~',\n",
       "   '그럭저럭',\n",
       "   '짱맛있었어요 자연산회모듬최고',\n",
       "   '서비스 굿~~^^',\n",
       "   '서비스 대박입니다 ㅎㅎㅎ',\n",
       "   '굿',\n",
       "   '바다보면서먹기좋아요']}}"
      ]
     },
     "execution_count": 265,
     "metadata": {},
     "output_type": "execute_result"
    }
   ],
   "source": [
    "current_review_dic"
   ]
  },
  {
   "cell_type": "raw",
   "id": "dc241892",
   "metadata": {},
   "source": [
    "crawling()시 받지를 못한다.\n",
    "crawling_menu_review(): 함수는 잘된다."
   ]
  },
  {
   "cell_type": "code",
   "execution_count": 148,
   "id": "7196c6d5",
   "metadata": {},
   "outputs": [
    {
     "data": {
      "text/plain": [
       "{}"
      ]
     },
     "execution_count": 148,
     "metadata": {},
     "output_type": "execute_result"
    }
   ],
   "source": [
    "current_review_dic"
   ]
  },
  {
   "cell_type": "code",
   "execution_count": 149,
   "id": "0da9405b",
   "metadata": {},
   "outputs": [
    {
     "data": {
      "text/plain": [
       "{'목포회센타': {'location': '서울 관악구 남부순환로 1766'}}"
      ]
     },
     "execution_count": 149,
     "metadata": {},
     "output_type": "execute_result"
    }
   ],
   "source": [
    "review_dic"
   ]
  },
  {
   "cell_type": "code",
   "execution_count": 177,
   "id": "074a3aff",
   "metadata": {},
   "outputs": [],
   "source": [
    "store_elements[6].click()"
   ]
  },
  {
   "cell_type": "code",
   "execution_count": 178,
   "id": "4101bc3f",
   "metadata": {},
   "outputs": [],
   "source": [
    "switch_frame('entryIframe', driver)"
   ]
  },
  {
   "cell_type": "code",
   "execution_count": 179,
   "id": "c2de2158",
   "metadata": {
    "collapsed": true
   },
   "outputs": [
    {
     "name": "stdout",
     "output_type": "stream",
     "text": [
      "세꼬시\n",
      "매운탕\n",
      "물회\n",
      "전복\n",
      "도다리\n",
      "도다리세꼬시\n",
      "광어\n",
      "대구탕\n",
      "생대구탕\n",
      "미역국\n",
      "생우럭탕\n",
      "모듬회\n",
      "숭어\n",
      "숙성회\n",
      "참치\n",
      "183\n",
      "친구들이랑 갔는데 회식하기 좋은 곳 같아요. 다른 텅텅 빈 자리도 많은데 굳이 옆 테이블에 아저씨들이 앉더라고요.. 그래서 진짜 시끄러웠어요. 그게...\n",
      "생우럭탕 해장에 최고에요~\n",
      "모임하기 좋은 장소!!\n",
      "양도 푸짐 나오는음식도 많고 술이술술~~\n",
      "너무너무 잘먹었습니다 회식으로도 좋아여!!!\n",
      "회가 무척 맛있었습니다. 서비스는 그냥 그래요\n",
      "화가 신선해요.\n",
      "회 좋아하시는분이 가면 천국ㅎㅎㅎ근디 전보다 양이 좀 적어진느낌...\n",
      "해산물이 신선하고 친절해요\n",
      "좋아요\n",
      "사장님 친절하게 서빙해주셨어요. 잘 먹었어요!\n",
      "다음에 또 방문할게요^^\n",
      "도다리세꼬시 숭어 광어 등 너무맛있고 친절했어요\n",
      "메뉴:생대구탕\n",
      "대구가 적어서 아쉽네요.\n",
      "맛있게 잘 먹었어요\n",
      "싱싱한 회와 소주 먹기 좋은 분위기\n",
      "모임하기 좋아요\n",
      "soso합니다\n",
      "맛있어요\n",
      "좋아요\n",
      "이용했어요 !\n",
      "좋아요.\n",
      "굿\n",
      "좋은 친구들과 즐거운 시간 보내고 맛나게 잘먹고 왔는데 생각보다 양은 적은듯 싶네요\n",
      "오래만에 갔었는데…\n",
      "예전 만큼 양이 많지 않았음 ㅠㅠ\n",
      "좋아요\n",
      "굿\n",
      "깔끔하고 맛있어요!!\n",
      "맛나요\n",
      "적극 추천합니다\n",
      "무난했습니다\n",
      "굿\n",
      "음식이 정갈하고 맛있습니다. 그런데 좀 시끄러워요 ㅎ\n",
      "여기는 믿고 가는 숙성회 맛집입니다. 코로나로 한동\n",
      "안 못 갔었는데 어제 오랜만에 친구들과의 모임에서 \n",
      "옛생각도 나고 그 맛을 잃지 않고 유지하고 있...\n",
      "일행이 늦었는데 따로 음식 잘 챙겨주셨어요. 음식도 맛있고, 잘 먹고 왔습니다.\n",
      "거리두기가 잘 되어 있어 좋습니다\n",
      "세꼬시 전문점이라면 활어 횟집 일텐데 사진에 보이 는 회는 특세꼬시모둠에 섞여 나온 것인데 한점을 먹 었는데 상태가 영 아니어서 먹지 않고 남겼습...\n",
      "도다리세꼬시에 매운탕까지 완벽한 한끼엿어요ㅠㅠㅜ감사히 잘먹었습니다. 재방문의사 있습니당\n",
      "오랜만에 가도 좋아요 ㅋㅋ 간만에 간건데 여전히 굿~~ㅋㄷ\n",
      "굿\n",
      "엄청 친절하십니다 자주 가겠습니다 맛도 좋아요\n",
      "북창동직장인들점심인기메뉴 생대구탕,지리 특히여\n",
      "름시즌물회추천 속초유명물회집보다맛있었어요\n",
      "굿\n",
      "매운탕 칼칼하니 좋았어요\n",
      "쏘쏘\n",
      "굿\n",
      "차라리 북창동포차나 어사출또 아니면 참치공방 가\n",
      "세요 제 돈내고 먹은건 아니지만 구성 구리고 싸구\n",
      "려 부위 잔뜩 나오고 가성비 최악이에요 절대 ...\n",
      "진짜 맛있었어요♥︎\n",
      "회가 싱싱하네요\n",
      "맛도 서비스도 좋았습니다\n",
      "물회 맛있게 먹고 갑니다~~^^\n",
      "가성비가 너무 아쉬운곳입니다. 칸막으로 나뉘어져있는건 좋았어요.\n",
      "맛있어요\n",
      "다른건 먹느라 정신이 없어서 사진을 못남겼어요ㅠ ㅠ 너무너무 맛있었고 신선했어요! 외국인 친구랑 같이 갔던거라 장소 더 신경써서 검색했던건...\n",
      "세꼬시 맛집입니다~!\n",
      "맛있는 특물회^^^\n",
      "2층에서 점심회정식 25,000원 2인분 먹었습니다. 써빙 하시는 분의 노고에 별 두개 드립니다. 음식은 취향 탓일수도 있지만...기대 이하입니다.\n",
      "밑반찬도 별로고. 회의 조합도 제 입맛은 아닙니다. 그중에 매운탕이 더욱 최악임.\n",
      "물회 강추~~~~~~~\n",
      "요청사항도 너무 잘 들어주셨고 무엇보다...회가 진짜......정말 맛있었습니다.\n",
      "좋아요\n",
      "다시는 안갈것임.. 같이 가신분들께 말들었습니다..\n",
      "맛난 물회 잘먹었습니다 ~~\n",
      "회 자체는 괜찮은데 전체적인 구성이 가격대비 좀 부\n",
      "족해 보입니다. 위치한 지역이 그래서 그럴수도 있\n",
      "구요, 서비스나 장소는 좋은데 아쉬운 부분이 ...\n",
      "국\n",
      "좋아요\n",
      "소소\n",
      "굿\n",
      "굿\n",
      "맛있습니다\n",
      "굿~~\n",
      "가성비 굿~\n",
      "친절합니다~\n",
      "굿\n",
      "특회덮밥을 주문하니 세꼬시가 추가로 나오네.. 맛은\n",
      "뛰어나지는 않은듯 일식집인데 기본찬은 좀 부족한\n",
      "듯... 요즘 가게에 새니타이저가 비치되어 있지...\n",
      "회 맛있어요~^.^\n",
      "맛있어요\n",
      "미역국이 없어서 아쉽네요\n",
      "\n",
      "회도 유독 다른날과 다르게 이날은 많이 비렸습니다\n",
      "회덮밥 무난해요\n",
      "맛있어요\n",
      "굿~\n",
      "굿\n",
      "10시까지 라고 하는데 9시에 술 달라고 했더니 마지막병이라면서.....오잉? 😅 좀 당황스러웠네요........\n",
      "친절하고 음식도 훌륭했습니다.\n",
      "굿\n",
      "특잡어회세코지 1인 40,000원 짜리 저녁 먹었습니다 회는 그렇게 나쁘지 않았지만, 처음에 물회 조금 나 오는 거 빼고는 스끼다시가 거의 없고 가격 대...\n",
      "좋아요\n",
      "굿\n",
      "그냥 그래요.\n",
      "서빙해주던 직원분만 만족스럽고 음식은 가격대비 별로였어요\n",
      "친절하다\n",
      ",\n",
      "친절합니다~\n",
      "정말 잘 먹고 왔어요 ㅋㅋ 회도 맛있고 직원분들도 친절하고 ㅋㅋ 굿\n",
      "좋아요\n",
      "좋아요\n",
      "좋아요\n",
      "좋아요\n",
      "좋아요\n",
      "다 좋은데....가격만 조금만 싸면 두말할나위 없는데 ㅠㅠ\n",
      "굿\n",
      "굿\n",
      "소올직히 ㅠㅠ 가격대비 좀 아쉽네요 \n",
      "신선합니다 !\n",
      "회 퀄리티 위생상태 너무 좋았어요~~!! 식감도 쫄깃\n",
      "하니 맛있었구요 ~~!! 특히나 직원분들 친절함에 무\n",
      "한감동받았어요ㅠㅠ 다음 가족 외식도 진동횟...\n",
      "친절하셨고 특잡어회세꼬시 먹었는데 음식도 맛있었어요! 회도 싱싱~\n",
      "맛있었습니다! 종업원분들이 너무 친절하셔서 좋았어요\n",
      "세꼬시 맛집입니다\n",
      "내부가 깔끔하여 추천합니다\n",
      "좋아여\n",
      "좋아요\n",
      "귀하고 비싼 재료를 푸짐하게먹어서 너무좋았어요. 서울도심에서 이런퀄리티를 ㅜㅜ 무엇보다 찬들도깔끔해서 좋았습니다^^!\n",
      "너무 맛있게 먹고왔어요!! 사장님도 친절하시구요~~ 재방문의사 100%\n",
      "강도다리 세꼬시 가격대비 좀 비쌌어요. (1인분 4만\n",
      "원) 길게썰어서 주지는 못한다고 했습니다. 집근처 \n",
      "횟집 중간사이즈 4만원짜리에 3명 먹을 수 있...\n",
      "4인이서 갔는데 20만원쓴거 치고 진짜 별로다 가지마라\n",
      "굿\n",
      "전반적으로 만족해요. 직원분들도 친절한 편이고요. 특잡어회세꼬시(1인 4만) 먹었는데, 처음 봤을 때는 생각보다 양이 적은 것 같았는데 딱 기분 좋을 ...\n",
      "레전드 !! 술이 술술 들어가버렸다능 ㅠㅠ 존맛탱구리\n",
      "굿\n",
      "맛있어요.\n",
      "굿\n",
      "최고에요!\n",
      "좋아요\n",
      "최고에요!\n",
      "서비스도 좋고 맛있게 먹었어요~~^^\n",
      "나쁘지않음 괜찮습니다\n",
      "스끼가 있는집은 아니였고요\n",
      "양은 배가 고픈 상태가 아니여서 적당했고요\n",
      "서비스는 친절하셨어요\n",
      "룸에 테이블이 있어서 좋네요. 주류 추가주문도 빠르게 해주고 맛도 좋았습니다.\n",
      "예약일자 20일인대 취소하려구 들어갔더니 방문완료가 됬네요\n",
      "예약확정과 동시에 방문완료 처리가됨\n",
      "이럴거면 왜 예약을 받는건지 네이버 예약 받지말던가\n",
      "좋았습니다\n",
      "괜찮았어요\n",
      "분위기좋아요\n",
      "좋아요\n",
      "쯔끼다시가 별로 없어서 좀 아쉬웠지만 회는 괜찮았어요.\n",
      "좋았습니다\n",
      "굿\n",
      "회가 뭔가가 싱싱하다는 느낌이 전혀 안났어요... 미 리 썰어놓은 느낌... 전복은 엄청 비림 룸에서 먹었는 데 옆칸에 단체회식하는지 시끄러워서 코로 ...\n",
      "흠..예약이 된건지 안된건지 ㅜㅜㅜ \n",
      "방문완료로뜨네요\n",
      "가격대비 조금 아쉬웠지만 맛있었어요\n",
      "좋은식사였습니다. 잘먹었습니다.\n",
      "특물회 양도 많고, 광어 외에 전복 멍게 오징어 등 다\n",
      "양하게 들어있어 맛있습니다. 다만, 작년엔가는 물회\n",
      " 보통도 있었는데 올해는 특물회만 있네요.\n",
      "서비스 좋고요 맛도 좋았습니다\n",
      "늘 친절하신 사장님 감사합니다.\n",
      "편한 예약 시스템 좋네요\n",
      "맛있고 쾌적했어요\n",
      "두툼하고 신선하고 다양해서 좋았어요\n",
      "다양하고 신선한 회를 즐길수 있어서 좋았습니다. 담엔 저녁에 방문하고 싶습니다.\n",
      "강남 진동횟집만 다니다 같은 가게인줄 알고 갔습니 다 너무 비리고 느끼해서 도저히 못 먹겠어서 50분만 에 나왔네요 저 안 예민한데 여긴 너무 맛 없어...\n",
      "오랜만에 갔는데 역시 오랜 명성에 어울리는 맛집이네요\n",
      "회는 싱싱하고 좋았습니다 매운탕은 심심하고 약간 부족한 맛 이었어요^^ 조금더 개선하면 좋은 음식점이 될듯 해요\n",
      "스페셜로 주문하면, 전복빼고 전부 계속 리필이 된다 고 하였으나, 일부분의 회만 리필을 해주었으며, 리 필도 1회만 가능함. 전반적인 스끼다시의 구성...\n",
      "명성에 비해 그닥이었어요 \n",
      "인당 4만원짜리였음에도 불구하고 양도 매우 적고 회가 말라있는 느낌\n",
      "깔끔한 태이블 맛이야 늘 최고고.. 다만 주문을 잘못\n",
      "받은게..좀 속상하지만 어쨋든 잘먹엇습니다..\n",
      "맛있게 잘 먹었습니다.\n",
      "굿좋아요ㅡ\n",
      "회가 좀 신선하지 않은 것 같아요...^^;;\n",
      "맛있고 깨끗한 세꼬시 먹을 수 있는곳\n",
      "영업만 더 오래 하셨음해요 ㅠㅠ\n",
      "세꼬시 등 전체적으로 맛은 괜찮으나, 매운탕은 맛이 덜했습니다. 그래도 전체적으로 조용히 이야기할수있어서 만족했습니다.\n",
      "비싼감이 있긴 하지만 접근성과 시설은 좋아요\n",
      "나머지는 평균적임\n",
      "친절하고, 신선했어요\n",
      "와인콜키지프리되서 더 좋구요\n",
      "사람 많은 이유를 알겠더라구요. 추천해요\n",
      "괜찮아요 맛있게 먹었습니다\n",
      "가볍게 한잔 하기 좋습니다.\n",
      "전복꼬들꼬들 맛났습니다\n",
      "산우럭탕 먹었어요 \n",
      "예존ㅂㅎ단 못한듯하지만 맛있게 먹었습니다\n",
      "우럭매운탕 굿!\n",
      "회 맛있고 좋아요! \n",
      "방도 따로 잡아줘서 잘 먹었는데 소리가 아주조금 세는건 조금 아쉽네요 ㅎ\n",
      "회 신선하고 좋아요~\n",
      "\n",
      "좀 더 저렴했으면 더 좋을듯 합니다.\n",
      "회는 싱싱하고 좋았으나 서비스가 좀 무뚝뚝해요\n",
      "신사동 보단 좀 ㅠㅠ\n",
      "신사동 진동에 비해 나무 떨어짐ㅠ\n",
      "세꼬시 정식을 추천합니다.\n",
      "횟감 신선해서 좋았어요~~\n",
      "왠만함 리뷰같은 것 안쓰는데..이집 최악의 횟집으로 기억에남을 듯. 가격대비 훌륭? 명성대비 최악의 퀄리티의 회를 드시게됩니다..가격대비로도 ...\n",
      "회 그 자체로는 괜찮은편이었으나 주변 안주가 가격대비 많이 부실한 것 같아요. 주변 안주를 좋아하시는 분이라면 별로 추천해 드리고 싶지 않네요\n",
      "잡어회가 먹기 좋게 썰어져 나온다. 중간중간에 특별 히 호출하지 않아도 찾아와서 부족한 부분을 채워주 는 서비스가 좋았다. 회를 어떻게 먹어야 맛있...\n",
      "미역국이 맛있습니다.\n",
      "괜춘해요;)\n",
      "맛있어요!!!\n",
      "3명이 가서 1인당 4만원짜리 특잡어세꼬시 먹었습니\n",
      "다. 2층 홀인데도 칸막이가 쳐져 있어서 오붓하게 먹\n",
      "었습니다. 회 양도 많고 가격대비 괜찮은 곳입니다.\n",
      "너무 친절하고 넘넘 맛있어요. 더운날 물회한그릇하니 더위가 싹~~!\n",
      "많이 파세요~~\n",
      "옆자리에 다른 손님들이 너무 시끄러워서 대화를 나누기가 힘들었네요. 분위기가 조용했으면 더 좋을텐데 아쉬웠어요.\n",
      "항상 서비스 좋습니다!\n",
      "모임장소로 예약했는데 회도 쫄깃하게맛있고 친절하고 서비스도주시고 만족스러웠습니다\n",
      "사장님과 일하시는 분들 친절하심. 다만 음식은 살\n",
      "짝만 더 푸짐했으면 좋겠습니다. 주차비가 비싸고 손\n",
      "님이 지불해야하니 (공터같은 주차장에 만원 ...\n",
      "좋아요\n",
      "사장님 친절하시고, 푸짐합니다. 서비스도 챙겨주셔서 방문한 일행 모두 만족해하면서 식사하였습니다.\n"
     ]
    }
   ],
   "source": [
    "memu_list, review_list = crawling_menu_review(driver)"
   ]
  },
  {
   "cell_type": "code",
   "execution_count": 180,
   "id": "1fbd3b34",
   "metadata": {
    "collapsed": true
   },
   "outputs": [
    {
     "data": {
      "text/plain": [
       "['세꼬시',\n",
       " '매운탕',\n",
       " '물회',\n",
       " '전복',\n",
       " '도다리',\n",
       " '도다리세꼬시',\n",
       " '광어',\n",
       " '대구탕',\n",
       " '생대구탕',\n",
       " '미역국',\n",
       " '생우럭탕',\n",
       " '모듬회',\n",
       " '숭어',\n",
       " '숙성회',\n",
       " '참치']"
      ]
     },
     "execution_count": 180,
     "metadata": {},
     "output_type": "execute_result"
    }
   ],
   "source": [
    "memu_list"
   ]
  },
  {
   "cell_type": "code",
   "execution_count": 181,
   "id": "77523dcb",
   "metadata": {
    "collapsed": true
   },
   "outputs": [
    {
     "data": {
      "text/plain": [
       "['친구들이랑 갔는데 회식하기 좋은 곳 같아요. 다른 텅텅 빈 자리도 많은데 굳이 옆 테이블에 아저씨들이 앉더라고요.. 그래서 진짜 시끄러웠어요. 그게...',\n",
       " '생우럭탕 해장에 최고에요~',\n",
       " '모임하기 좋은 장소!!',\n",
       " '양도 푸짐 나오는음식도 많고 술이술술~~',\n",
       " '너무너무 잘먹었습니다 회식으로도 좋아여!!!',\n",
       " '회가 무척 맛있었습니다. 서비스는 그냥 그래요',\n",
       " '화가 신선해요.',\n",
       " '회 좋아하시는분이 가면 천국ㅎㅎㅎ근디 전보다 양이 좀 적어진느낌...',\n",
       " '해산물이 신선하고 친절해요',\n",
       " '좋아요',\n",
       " '사장님 친절하게 서빙해주셨어요. 잘 먹었어요!',\n",
       " '다음에 또 방문할게요^^',\n",
       " '도다리세꼬시 숭어 광어 등 너무맛있고 친절했어요',\n",
       " '메뉴:생대구탕\\n대구가 적어서 아쉽네요.',\n",
       " '맛있게 잘 먹었어요',\n",
       " '싱싱한 회와 소주 먹기 좋은 분위기\\n모임하기 좋아요',\n",
       " 'soso합니다',\n",
       " '맛있어요',\n",
       " '좋아요',\n",
       " '이용했어요 !',\n",
       " '좋아요.',\n",
       " '굿',\n",
       " '좋은 친구들과 즐거운 시간 보내고 맛나게 잘먹고 왔는데 생각보다 양은 적은듯 싶네요',\n",
       " '오래만에 갔었는데…\\n예전 만큼 양이 많지 않았음 ㅠㅠ',\n",
       " '좋아요',\n",
       " '굿',\n",
       " '깔끔하고 맛있어요!!',\n",
       " '맛나요',\n",
       " '적극 추천합니다',\n",
       " '무난했습니다',\n",
       " '굿',\n",
       " '음식이 정갈하고 맛있습니다. 그런데 좀 시끄러워요 ㅎ',\n",
       " '여기는 믿고 가는 숙성회 맛집입니다. 코로나로 한동\\n안 못 갔었는데 어제 오랜만에 친구들과의 모임에서 \\n옛생각도 나고 그 맛을 잃지 않고 유지하고 있...',\n",
       " '일행이 늦었는데 따로 음식 잘 챙겨주셨어요. 음식도 맛있고, 잘 먹고 왔습니다.',\n",
       " '거리두기가 잘 되어 있어 좋습니다',\n",
       " '세꼬시 전문점이라면 활어 횟집 일텐데 사진에 보이 는 회는 특세꼬시모둠에 섞여 나온 것인데 한점을 먹 었는데 상태가 영 아니어서 먹지 않고 남겼습...',\n",
       " '도다리세꼬시에 매운탕까지 완벽한 한끼엿어요ㅠㅠㅜ감사히 잘먹었습니다. 재방문의사 있습니당',\n",
       " '오랜만에 가도 좋아요 ㅋㅋ 간만에 간건데 여전히 굿~~ㅋㄷ',\n",
       " '굿',\n",
       " '엄청 친절하십니다 자주 가겠습니다 맛도 좋아요',\n",
       " '북창동직장인들점심인기메뉴 생대구탕,지리 특히여\\n름시즌물회추천 속초유명물회집보다맛있었어요',\n",
       " '굿',\n",
       " '매운탕 칼칼하니 좋았어요',\n",
       " '쏘쏘',\n",
       " '굿',\n",
       " '차라리 북창동포차나 어사출또 아니면 참치공방 가\\n세요 제 돈내고 먹은건 아니지만 구성 구리고 싸구\\n려 부위 잔뜩 나오고 가성비 최악이에요 절대 ...',\n",
       " '진짜 맛있었어요♥︎',\n",
       " '회가 싱싱하네요',\n",
       " '맛도 서비스도 좋았습니다',\n",
       " '물회 맛있게 먹고 갑니다~~^^',\n",
       " '가성비가 너무 아쉬운곳입니다. 칸막으로 나뉘어져있는건 좋았어요.',\n",
       " '맛있어요',\n",
       " '다른건 먹느라 정신이 없어서 사진을 못남겼어요ㅠ ㅠ 너무너무 맛있었고 신선했어요! 외국인 친구랑 같이 갔던거라 장소 더 신경써서 검색했던건...',\n",
       " '세꼬시 맛집입니다~!',\n",
       " '맛있는 특물회^^^',\n",
       " '2층에서 점심회정식 25,000원 2인분 먹었습니다. 써빙 하시는 분의 노고에 별 두개 드립니다. 음식은 취향 탓일수도 있지만...기대 이하입니다.',\n",
       " '밑반찬도 별로고. 회의 조합도 제 입맛은 아닙니다. 그중에 매운탕이 더욱 최악임.',\n",
       " '물회 강추~~~~~~~',\n",
       " '요청사항도 너무 잘 들어주셨고 무엇보다...회가 진짜......정말 맛있었습니다.',\n",
       " '좋아요',\n",
       " '다시는 안갈것임.. 같이 가신분들께 말들었습니다..',\n",
       " '맛난 물회 잘먹었습니다 ~~',\n",
       " '회 자체는 괜찮은데 전체적인 구성이 가격대비 좀 부\\n족해 보입니다. 위치한 지역이 그래서 그럴수도 있\\n구요, 서비스나 장소는 좋은데 아쉬운 부분이 ...',\n",
       " '국',\n",
       " '좋아요',\n",
       " '소소',\n",
       " '굿',\n",
       " '굿',\n",
       " '맛있습니다',\n",
       " '굿~~',\n",
       " '가성비 굿~',\n",
       " '친절합니다~',\n",
       " '굿',\n",
       " '특회덮밥을 주문하니 세꼬시가 추가로 나오네.. 맛은\\n뛰어나지는 않은듯 일식집인데 기본찬은 좀 부족한\\n듯... 요즘 가게에 새니타이저가 비치되어 있지...',\n",
       " '회 맛있어요~^.^',\n",
       " '맛있어요',\n",
       " '미역국이 없어서 아쉽네요\\n\\n회도 유독 다른날과 다르게 이날은 많이 비렸습니다',\n",
       " '회덮밥 무난해요',\n",
       " '맛있어요',\n",
       " '굿~',\n",
       " '굿',\n",
       " '10시까지 라고 하는데 9시에 술 달라고 했더니 마지막병이라면서.....오잉? 😅 좀 당황스러웠네요........',\n",
       " '친절하고 음식도 훌륭했습니다.',\n",
       " '굿',\n",
       " '특잡어회세코지 1인 40,000원 짜리 저녁 먹었습니다 회는 그렇게 나쁘지 않았지만, 처음에 물회 조금 나 오는 거 빼고는 스끼다시가 거의 없고 가격 대...',\n",
       " '좋아요',\n",
       " '굿',\n",
       " '그냥 그래요.',\n",
       " '서빙해주던 직원분만 만족스럽고 음식은 가격대비 별로였어요',\n",
       " '친절하다',\n",
       " ',',\n",
       " '친절합니다~',\n",
       " '정말 잘 먹고 왔어요 ㅋㅋ 회도 맛있고 직원분들도 친절하고 ㅋㅋ 굿',\n",
       " '좋아요',\n",
       " '좋아요',\n",
       " '좋아요',\n",
       " '좋아요',\n",
       " '좋아요',\n",
       " '다 좋은데....가격만 조금만 싸면 두말할나위 없는데 ㅠㅠ',\n",
       " '굿',\n",
       " '굿',\n",
       " '소올직히 ㅠㅠ 가격대비 좀 아쉽네요 \\n신선합니다 !',\n",
       " '회 퀄리티 위생상태 너무 좋았어요~~!! 식감도 쫄깃\\n하니 맛있었구요 ~~!! 특히나 직원분들 친절함에 무\\n한감동받았어요ㅠㅠ 다음 가족 외식도 진동횟...',\n",
       " '친절하셨고 특잡어회세꼬시 먹었는데 음식도 맛있었어요! 회도 싱싱~',\n",
       " '맛있었습니다! 종업원분들이 너무 친절하셔서 좋았어요',\n",
       " '세꼬시 맛집입니다\\n내부가 깔끔하여 추천합니다',\n",
       " '좋아여',\n",
       " '좋아요',\n",
       " '귀하고 비싼 재료를 푸짐하게먹어서 너무좋았어요. 서울도심에서 이런퀄리티를 ㅜㅜ 무엇보다 찬들도깔끔해서 좋았습니다^^!',\n",
       " '너무 맛있게 먹고왔어요!! 사장님도 친절하시구요~~ 재방문의사 100%',\n",
       " '강도다리 세꼬시 가격대비 좀 비쌌어요. (1인분 4만\\n원) 길게썰어서 주지는 못한다고 했습니다. 집근처 \\n횟집 중간사이즈 4만원짜리에 3명 먹을 수 있...',\n",
       " '4인이서 갔는데 20만원쓴거 치고 진짜 별로다 가지마라',\n",
       " '굿',\n",
       " '전반적으로 만족해요. 직원분들도 친절한 편이고요. 특잡어회세꼬시(1인 4만) 먹었는데, 처음 봤을 때는 생각보다 양이 적은 것 같았는데 딱 기분 좋을 ...',\n",
       " '레전드 !! 술이 술술 들어가버렸다능 ㅠㅠ 존맛탱구리',\n",
       " '굿',\n",
       " '맛있어요.',\n",
       " '굿',\n",
       " '최고에요!',\n",
       " '좋아요',\n",
       " '최고에요!',\n",
       " '서비스도 좋고 맛있게 먹었어요~~^^',\n",
       " '나쁘지않음 괜찮습니다',\n",
       " '스끼가 있는집은 아니였고요\\n양은 배가 고픈 상태가 아니여서 적당했고요\\n서비스는 친절하셨어요',\n",
       " '룸에 테이블이 있어서 좋네요. 주류 추가주문도 빠르게 해주고 맛도 좋았습니다.',\n",
       " '예약일자 20일인대 취소하려구 들어갔더니 방문완료가 됬네요',\n",
       " '예약확정과 동시에 방문완료 처리가됨\\n이럴거면 왜 예약을 받는건지 네이버 예약 받지말던가',\n",
       " '좋았습니다',\n",
       " '괜찮았어요',\n",
       " '분위기좋아요',\n",
       " '좋아요',\n",
       " '쯔끼다시가 별로 없어서 좀 아쉬웠지만 회는 괜찮았어요.',\n",
       " '좋았습니다',\n",
       " '굿',\n",
       " '회가 뭔가가 싱싱하다는 느낌이 전혀 안났어요... 미 리 썰어놓은 느낌... 전복은 엄청 비림 룸에서 먹었는 데 옆칸에 단체회식하는지 시끄러워서 코로 ...',\n",
       " '흠..예약이 된건지 안된건지 ㅜㅜㅜ \\n방문완료로뜨네요',\n",
       " '가격대비 조금 아쉬웠지만 맛있었어요',\n",
       " '좋은식사였습니다. 잘먹었습니다.',\n",
       " '특물회 양도 많고, 광어 외에 전복 멍게 오징어 등 다\\n양하게 들어있어 맛있습니다. 다만, 작년엔가는 물회\\n 보통도 있었는데 올해는 특물회만 있네요.',\n",
       " '서비스 좋고요 맛도 좋았습니다',\n",
       " '늘 친절하신 사장님 감사합니다.',\n",
       " '편한 예약 시스템 좋네요\\n맛있고 쾌적했어요',\n",
       " '두툼하고 신선하고 다양해서 좋았어요',\n",
       " '다양하고 신선한 회를 즐길수 있어서 좋았습니다. 담엔 저녁에 방문하고 싶습니다.',\n",
       " '강남 진동횟집만 다니다 같은 가게인줄 알고 갔습니 다 너무 비리고 느끼해서 도저히 못 먹겠어서 50분만 에 나왔네요 저 안 예민한데 여긴 너무 맛 없어...',\n",
       " '오랜만에 갔는데 역시 오랜 명성에 어울리는 맛집이네요',\n",
       " '회는 싱싱하고 좋았습니다 매운탕은 심심하고 약간 부족한 맛 이었어요^^ 조금더 개선하면 좋은 음식점이 될듯 해요',\n",
       " '스페셜로 주문하면, 전복빼고 전부 계속 리필이 된다 고 하였으나, 일부분의 회만 리필을 해주었으며, 리 필도 1회만 가능함. 전반적인 스끼다시의 구성...',\n",
       " '명성에 비해 그닥이었어요 \\n인당 4만원짜리였음에도 불구하고 양도 매우 적고 회가 말라있는 느낌',\n",
       " '깔끔한 태이블 맛이야 늘 최고고.. 다만 주문을 잘못\\n받은게..좀 속상하지만 어쨋든 잘먹엇습니다..',\n",
       " '맛있게 잘 먹었습니다.',\n",
       " '굿좋아요ㅡ',\n",
       " '회가 좀 신선하지 않은 것 같아요...^^;;',\n",
       " '맛있고 깨끗한 세꼬시 먹을 수 있는곳\\n영업만 더 오래 하셨음해요 ㅠㅠ',\n",
       " '세꼬시 등 전체적으로 맛은 괜찮으나, 매운탕은 맛이 덜했습니다. 그래도 전체적으로 조용히 이야기할수있어서 만족했습니다.',\n",
       " '비싼감이 있긴 하지만 접근성과 시설은 좋아요\\n나머지는 평균적임',\n",
       " '친절하고, 신선했어요\\n와인콜키지프리되서 더 좋구요\\n사람 많은 이유를 알겠더라구요. 추천해요',\n",
       " '괜찮아요 맛있게 먹었습니다',\n",
       " '가볍게 한잔 하기 좋습니다.',\n",
       " '전복꼬들꼬들 맛났습니다',\n",
       " '산우럭탕 먹었어요 \\n예존ㅂㅎ단 못한듯하지만 맛있게 먹었습니다',\n",
       " '우럭매운탕 굿!',\n",
       " '회 맛있고 좋아요! \\n방도 따로 잡아줘서 잘 먹었는데 소리가 아주조금 세는건 조금 아쉽네요 ㅎ',\n",
       " '회 신선하고 좋아요~\\n\\n좀 더 저렴했으면 더 좋을듯 합니다.',\n",
       " '회는 싱싱하고 좋았으나 서비스가 좀 무뚝뚝해요',\n",
       " '신사동 보단 좀 ㅠㅠ',\n",
       " '신사동 진동에 비해 나무 떨어짐ㅠ',\n",
       " '세꼬시 정식을 추천합니다.',\n",
       " '횟감 신선해서 좋았어요~~',\n",
       " '왠만함 리뷰같은 것 안쓰는데..이집 최악의 횟집으로 기억에남을 듯. 가격대비 훌륭? 명성대비 최악의 퀄리티의 회를 드시게됩니다..가격대비로도 ...',\n",
       " '회 그 자체로는 괜찮은편이었으나 주변 안주가 가격대비 많이 부실한 것 같아요. 주변 안주를 좋아하시는 분이라면 별로 추천해 드리고 싶지 않네요',\n",
       " '잡어회가 먹기 좋게 썰어져 나온다. 중간중간에 특별 히 호출하지 않아도 찾아와서 부족한 부분을 채워주 는 서비스가 좋았다. 회를 어떻게 먹어야 맛있...',\n",
       " '미역국이 맛있습니다.',\n",
       " '괜춘해요;)',\n",
       " '맛있어요!!!',\n",
       " '3명이 가서 1인당 4만원짜리 특잡어세꼬시 먹었습니\\n다. 2층 홀인데도 칸막이가 쳐져 있어서 오붓하게 먹\\n었습니다. 회 양도 많고 가격대비 괜찮은 곳입니다.',\n",
       " '너무 친절하고 넘넘 맛있어요. 더운날 물회한그릇하니 더위가 싹~~!\\n많이 파세요~~',\n",
       " '옆자리에 다른 손님들이 너무 시끄러워서 대화를 나누기가 힘들었네요. 분위기가 조용했으면 더 좋을텐데 아쉬웠어요.',\n",
       " '항상 서비스 좋습니다!',\n",
       " '모임장소로 예약했는데 회도 쫄깃하게맛있고 친절하고 서비스도주시고 만족스러웠습니다',\n",
       " '사장님과 일하시는 분들 친절하심. 다만 음식은 살\\n짝만 더 푸짐했으면 좋겠습니다. 주차비가 비싸고 손\\n님이 지불해야하니 (공터같은 주차장에 만원 ...',\n",
       " '좋아요',\n",
       " '사장님 친절하시고, 푸짐합니다. 서비스도 챙겨주셔서 방문한 일행 모두 만족해하면서 식사하였습니다.']"
      ]
     },
     "execution_count": 181,
     "metadata": {},
     "output_type": "execute_result"
    }
   ],
   "source": [
    "review_list"
   ]
  },
  {
   "cell_type": "code",
   "execution_count": 156,
   "id": "22a56d74",
   "metadata": {},
   "outputs": [],
   "source": [
    "menu_elements  = driver.find_elements(By.CSS_SELECTOR,'div.place_fixed_subtab > div > div:nth-child(1) > div > div > div > span > a > span:first-child')"
   ]
  },
  {
   "cell_type": "code",
   "execution_count": 160,
   "id": "179e442e",
   "metadata": {},
   "outputs": [
    {
     "data": {
      "text/plain": [
       "'고기'"
      ]
     },
     "execution_count": 160,
     "metadata": {},
     "output_type": "execute_result"
    }
   ],
   "source": [
    "menu_elements[13].text"
   ]
  },
  {
   "cell_type": "code",
   "execution_count": 162,
   "id": "8cd5f572",
   "metadata": {},
   "outputs": [],
   "source": [
    "del menu_elements"
   ]
  },
  {
   "cell_type": "code",
   "execution_count": 193,
   "id": "94961bef",
   "metadata": {},
   "outputs": [],
   "source": [
    "def ex1():\n",
    "    seminar = {'정성원': 'SSS'}\n",
    "    ex2(seminar)\n",
    "    return seminar"
   ]
  },
  {
   "cell_type": "code",
   "execution_count": 234,
   "id": "2c5241c9",
   "metadata": {},
   "outputs": [],
   "source": [
    "def ex2(seminar):\n",
    "    seminar['김동현'] = 'SS'\n",
    "    seminar['탄비르'] = ex3()"
   ]
  },
  {
   "cell_type": "code",
   "execution_count": 235,
   "id": "fbfb6718",
   "metadata": {},
   "outputs": [],
   "source": [
    "def ex3():\n",
    "    return 'SS'"
   ]
  },
  {
   "cell_type": "code",
   "execution_count": 236,
   "id": "b4671df8",
   "metadata": {},
   "outputs": [
    {
     "name": "stdout",
     "output_type": "stream",
     "text": [
      "{'정성원': 'SSS', '김동현': 'SS', '탄비르': 'SS'}\n"
     ]
    }
   ],
   "source": [
    "print(ex1())"
   ]
  },
  {
   "cell_type": "code",
   "execution_count": 201,
   "id": "24979f92",
   "metadata": {},
   "outputs": [],
   "source": [
    "del review_dic"
   ]
  },
  {
   "cell_type": "code",
   "execution_count": null,
   "id": "3fc728c7",
   "metadata": {},
   "outputs": [],
   "source": []
  }
 ],
 "metadata": {
  "kernelspec": {
   "display_name": "Python 3 (ipykernel)",
   "language": "python",
   "name": "python3"
  },
  "language_info": {
   "codemirror_mode": {
    "name": "ipython",
    "version": 3
   },
   "file_extension": ".py",
   "mimetype": "text/x-python",
   "name": "python",
   "nbconvert_exporter": "python",
   "pygments_lexer": "ipython3",
   "version": "3.9.12"
  }
 },
 "nbformat": 4,
 "nbformat_minor": 5
}
