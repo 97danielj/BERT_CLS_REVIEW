{
 "cells": [
  {
   "cell_type": "markdown",
   "id": "99af54ab",
   "metadata": {},
   "source": [
    "# 환경설정"
   ]
  },
  {
   "cell_type": "code",
   "execution_count": 3,
   "id": "813dbd78",
   "metadata": {},
   "outputs": [],
   "source": [
    "import time\n",
    "from selenium import webdriver\n",
    "from selenium.webdriver.common.keys import Keys\n",
    "from selenium.webdriver.common.by import By\n",
    "from selenium.webdriver.support.ui import WebDriverWait\n",
    "from selenium.webdriver.support import expected_conditions as EC\n",
    "from time import sleep\n",
    "from bs4 import BeautifulSoup\n",
    "import re\n",
    "import json\n",
    "#options = webdriver.ChromeOptions()\n",
    "#options.add_argument('headless')"
   ]
  },
  {
   "cell_type": "markdown",
   "id": "281712c5",
   "metadata": {},
   "source": [
    "# 크롬창 열기"
   ]
  },
  {
   "cell_type": "code",
   "execution_count": 4,
   "id": "370ffce8",
   "metadata": {},
   "outputs": [
    {
     "name": "stderr",
     "output_type": "stream",
     "text": [
      "C:\\Users\\DanielJeong\\AppData\\Local\\Temp\\ipykernel_5696\\2096135440.py:2: DeprecationWarning: executable_path has been deprecated, please pass in a Service object\n",
      "  driver = webdriver.Chrome('./chromedriver')  # 드라이버 경로\n"
     ]
    }
   ],
   "source": [
    "url = 'https://map.naver.com/v5/search'\n",
    "driver = webdriver.Chrome('./chromedriver')  # 드라이버 경로\n",
    "#driver = webdriver.Chrome('./chromedriver',chrome_options=options) # 크롬창 숨기기\n",
    "driver.get(url)\n",
    "key_word_list = ['노량진수산시장 횟집', '송파구 횟집', '강서구 횟집', '강남구 횟집', '노원구 횟집', '은평구 횟집']"
   ]
  },
  {
   "cell_type": "code",
   "execution_count": 5,
   "id": "afa5ef51",
   "metadata": {},
   "outputs": [],
   "source": [
    "key_word = ['노량진수산시장 횟집']"
   ]
  },
  {
   "cell_type": "code",
   "execution_count": 6,
   "id": "7360183c",
   "metadata": {},
   "outputs": [],
   "source": [
    "# css 찾을때 까지 10초대기\n",
    "def time_wait(num, code):\n",
    "    try:\n",
    "        wait = WebDriverWait(driver, num).until(\n",
    "            EC.presence_of_element_located((By.CSS_SELECTOR, code)))\n",
    "    except:\n",
    "        print(code, '태그를 찾지 못하였습니다.')\n",
    "        driver.quit()\n",
    "    return wait"
   ]
  },
  {
   "cell_type": "code",
   "execution_count": 65,
   "id": "5a4257d7",
   "metadata": {},
   "outputs": [],
   "source": [
    "def find_search_input(key_word):\n",
    "    # 검색창 찾기\n",
    "    driver.switch_to.default_content()\n",
    "    time_wait(2, 'div.input_box > input.input_search')\n",
    "    search = driver.find_element(By.CSS_SELECTOR,'div.input_box > input.input_search')\n",
    "    search.send_keys(key_word)  # 검색어 입력\n",
    "    search.send_keys(Keys.ENTER)  # 엔터버튼 누르기\n",
    "    \n",
    "    res = driver.page_source  # 페이지 소스 가져오기\n",
    "    soup = BeautifulSoup(res, 'html.parser')  # html 파싱하여  가져온다\n",
    "    sleep(1)"
   ]
  },
  {
   "cell_type": "code",
   "execution_count": 8,
   "id": "38510e7d",
   "metadata": {},
   "outputs": [],
   "source": [
    "# frame 변경 메소드\n",
    "def switch_frame(frame):\n",
    "    driver.switch_to.default_content()  # frame 초기화\n",
    "    driver.switch_to.frame(frame)  # frame 변경\n",
    "    driver.implicitly_wait(1)\n"
   ]
  },
  {
   "cell_type": "code",
   "execution_count": 9,
   "id": "7611d926",
   "metadata": {},
   "outputs": [],
   "source": [
    "# 페이지 다운\n",
    "def page_down(num):\n",
    "    body = driver.find_element(By.CSS_SELECTOR,'body')\n",
    "    body.click()\n",
    "    for i in range(num):\n",
    "        body.send_keys(Keys.PAGE_DOWN)"
   ]
  },
  {
   "cell_type": "code",
   "execution_count": 29,
   "id": "4930c8fc",
   "metadata": {},
   "outputs": [],
   "source": [
    "# 페이지 다운\n",
    "def page_end():\n",
    "    body = driver.find_element(By.CSS_SELECTOR,'body')\n",
    "    body.click()\n",
    "    body.send_keys(Keys.END)"
   ]
  },
  {
   "cell_type": "code",
   "execution_count": 10,
   "id": "3f1ce22f",
   "metadata": {},
   "outputs": [],
   "source": [
    "def find_store_list():\n",
    "    # 매장 리스트\n",
    "    store_list = driver.find_elements(By.CSS_SELECTOR,'._22p-O')\n",
    "    # 페이지 리스트\n",
    "    next_btn = driver.find_elements(By.CSS_SELECTOR,'._2ky45 > a')\n",
    "    return store_list, next_btn"
   ]
  },
  {
   "cell_type": "code",
   "execution_count": 11,
   "id": "74f1001e",
   "metadata": {},
   "outputs": [],
   "source": [
    "def find_review_btn():\n",
    "    sleep(2)\n",
    "    time_wait(10,'a._2RG_o._tab-menu')\n",
    "    menu_list = driver.find_elements(By.CSS_SELECTOR,'a._2RG_o._tab-menu')\n",
    "    if len(menu_list) ==7:\n",
    "        return menu_list[-1]\n",
    "    else:\n",
    "        return menu_list[-2]"
   ]
  },
  {
   "cell_type": "code",
   "execution_count": 34,
   "id": "650c8d8e",
   "metadata": {},
   "outputs": [],
   "source": [
    "def crawling_visitor_review():\n",
    "    #-----리뷰 버튼 클릭-------\n",
    "    find_review_btn().click()\n",
    "    SCROLL_PAUSE_SEC = 1\n",
    "    \n",
    "    last_scroll = driver.execute_script(\"return document.body.scrollHeight\")\n",
    "    \n",
    "    while True:\n",
    "        driver.execute_script(\"window.scrollTo(0, document.body.scrollHeight);\")\n",
    "        time.sleep(SCROLL_PAUSE_SEC)\n",
    "        \n",
    "        try :\n",
    "            #더보기 버튼 클릭\n",
    "            driver.find_element(By.CSS_SELECTOR,'._3iTUo').click()\n",
    "            \n",
    "        except:\n",
    "            #더보기 버튼이 없다면 while문을 빠져나온다.\n",
    "            break\n",
    "            # 끝까지 스크롤 다운\n",
    "            \n",
    "        new_scroll = driver.execute_script(\"return document.body.scrollHeight\")\n",
    "        if last_scroll == new_scroll:\n",
    "            break\n",
    "        else:\n",
    "            last_scroll= new_scroll\n",
    "\n",
    "\n",
    "\n",
    "    #가게 리스트 마다 방문자 리뷰 가져오기\n",
    "    review_elements = driver.find_elements(By.CSS_SELECTOR,\"div.faZHB > a > span\")\n",
    "    review_list = []\n",
    "    for i in review_elements:\n",
    "        review_list.append(i.text)\n",
    "    \n",
    "    return review_list\n"
   ]
  },
  {
   "cell_type": "code",
   "execution_count": null,
   "id": "62362795",
   "metadata": {},
   "outputs": [],
   "source": [
    "def crawling_blog_review():\n",
    "    SCROLL_PAUSE_SEC = 3\n",
    "    sleep(SCROLL_PAUSE_SEC)\n",
    "    try :\n",
    "        blog_review_button = driver.find_element(By.CSS_SELECTOR, 'div._1tclc > div > a:nth-child(2)')\n",
    "        blog_review_button.click()\n",
    "    except:\n",
    "        print('블로그 리뷰가 없습니다.')\n",
    "        return\n",
    "    else:\n",
    "        driver.implicitly_wait(SCROLL_PAUSE_SEC)\n",
    "\n",
    "        last_scroll = driver.execute_script(\"return document.body.scrollHeight\")\n",
    "        while True:\n",
    "            driver.execute_script(\"window.scrollTo(0, document.body.scrollHeight);\")\n",
    "            time.sleep(1)\n",
    "\n",
    "            try :\n",
    "                #더보기 버튼 클릭\n",
    "                driver.find_element(By.CSS_SELECTOR,'a._3iTUo').click()\n",
    "                driver.implicitly_wait(SCROLL_PAUSE_SEC)\n",
    "            except:\n",
    "                break\n",
    "                # 끝까지 스크롤 다운\n",
    "\n",
    "            new_scroll = driver.execute_script(\"return document.body.scrollHeight\")\n",
    "            driver.implicitly_wait(SCROLL_PAUSE_SEC)\n",
    "            if last_scroll == new_scroll:\n",
    "                break\n",
    "            else:\n",
    "                last_scroll = new_scroll\n",
    "\n",
    "        #가게 리스트 마다 방문자 리뷰 가져오기\n",
    "        review_elements = driver.find_elements(By.CSS_SELECTOR,'div._3jvFk')\n",
    "        review_list = []\n",
    "        for i in review_elements:\n",
    "            review_list.append(i.text)\n",
    "        return review_list\n"
   ]
  },
  {
   "cell_type": "markdown",
   "id": "86de5a29",
   "metadata": {},
   "source": [
    "# 검색 지역 횟집의 리뷰를 크롤링."
   ]
  },
  {
   "cell_type": "code",
   "execution_count": 104,
   "id": "4db940d9",
   "metadata": {
    "scrolled": true
   },
   "outputs": [],
   "source": [
    "review_dic={}\n",
    "def review_crawling(key_word_list,nums):\n",
    "    WAIT=3\n",
    "    for key_word in key_word_list:\n",
    "        review_dic[key_word] = {}\n",
    "        #검색창을 찾아서 서치\n",
    "        find_search_input(key_word)\n",
    "        # searchIframe 변경\n",
    "        switch_frame('searchIframe')\n",
    "        driver.implicitly_wait(WAIT)\n",
    "        # 페이지 버튼의 수\n",
    "        pages = driver.find_elements(By.CSS_SELECTOR,'a._2tk2s')\n",
    "        for btn in range(nums): #페이지 버튼\n",
    "            if btn != 5:\n",
    "                pages[btn].click()\n",
    "            else:\n",
    "                driver.find_element(By.CSS_SELECTOR, 'div._2ky45 > a:last-child').click()\n",
    "            \n",
    "            page_down(40)\n",
    "            driver.implicitly_wait(2)\n",
    "            store_elements = driver.find_elements(By.CSS_SELECTOR,'div._3ZU00._1rBq3 > a:nth-child(1)')\n",
    "\n",
    "            #한 페이지의 50개의 매장들 하나씩 조회\n",
    "            for data in range(len(store_elements)):\n",
    "                driver.execute_script(\"window.scrollTo(0, 0);\")\n",
    "                driver.implicitly_wait(1)\n",
    "                store_elements[data].click() #li의 스토어를 클릭\n",
    "                driver.implicitly_wait(WAIT) # 2초 휴식\n",
    "                try:\n",
    "                    #다른 iframe으로 변경\n",
    "                    switch_frame('entryIframe')\n",
    "                    time_wait(2, '._3XamX')\n",
    "\n",
    "                    # -----매장명 가져오기-----\n",
    "                    store_name = driver.find_element(By.CSS_SELECTOR,'._3XamX').text\n",
    "                    driver.implicitly_wait(2)\n",
    "                    review_dic[key_word][store_name] = {}\n",
    "                    \n",
    "                    # -----위치 가져오기-----\n",
    "                    try : \n",
    "                        location = driver.find_element(By.CSS_SELECTOR, 'span._2yqUQ').text\n",
    "                        driver.implicitly_wait(WAIT)\n",
    "                        review_dic[key_word][store_name]['location'] = location\n",
    "                    except:\n",
    "                        pass\n",
    "                    \n",
    "                    # -----리뷰 크롤링---------\n",
    "                    # 방문자 리뷰 크롤링\n",
    "                    review_dic[key_word][store_name]['review'] = crawling_visitor_review()\n",
    "                    driver.implicitly_wait(WAIT)\n",
    "                    driver.execute_script(\"window.scrollTo(0, 0);\")\n",
    "                    driver.implicitly_wait(WAIT)\n",
    "                    # 블로거 리뷰 크롤링\n",
    "                    review_dic[key_word][store_name]['review'] = review_dic[key_word][store_name]['review']+crawling_blog_review()\n",
    "                    driver.implicitly_wait(WAIT)\n",
    "\n",
    "                except:\n",
    "                    pass\n",
    "                switch_frame('searchIframe')\n",
    "\n",
    "        # json 파일로 저장\n",
    "    with open('naver_review_dic.json', 'w', encoding='utf-8') as f:\n",
    "        json.dump(review_dic, f, indent=4, ensure_ascii=False)\n",
    "        \n",
    "            "
   ]
  },
  {
   "cell_type": "code",
   "execution_count": 108,
   "id": "2f0ca9dc",
   "metadata": {},
   "outputs": [
    {
     "name": "stderr",
     "output_type": "stream",
     "text": [
      "C:\\Users\\DanielJeong\\AppData\\Local\\Temp\\ipykernel_5696\\3255712442.py:5: DeprecationWarning: executable_path has been deprecated, please pass in a Service object\n",
      "  driver = webdriver.Chrome('./chromedriver')\n"
     ]
    }
   ],
   "source": [
    "# --크롬창을 숨기고 실행-- driver에 options를 추가해주면된다\n",
    "#options = webdriver.ChromeOptions()\n",
    "#options.add_argument('headless')\n",
    "url = 'https://map.naver.com/v5/search'\n",
    "driver = webdriver.Chrome('./chromedriver')\n",
    "#driver = webdriver.Chrome('./chromedriver',chrome_options=options) # 크롬창 숨기기\n",
    "driver.get(url)\n",
    "key_word_list = ['서울 횟집', '인천 횟집', '부산 횟집', '대구 횟집', ' 대전 횟집', '울산 횟집', '광주 횟집']"
   ]
  },
  {
   "cell_type": "code",
   "execution_count": 109,
   "id": "61bd6a69",
   "metadata": {},
   "outputs": [
    {
     "name": "stdout",
     "output_type": "stream",
     "text": [
      "블로그 리뷰가 없습니다.\n",
      "블로그 리뷰가 없습니다.\n",
      "블로그 리뷰가 없습니다.\n"
     ]
    },
    {
     "ename": "WebDriverException",
     "evalue": "Message: chrome not reachable\n  (Session info: chrome=104.0.5112.102)\nStacktrace:\nBacktrace:\n\tOrdinal0 [0x00B378B3+2193587]\n\tOrdinal0 [0x00AD0681+1771137]\n\tOrdinal0 [0x009E4070+802928]\n\tOrdinal0 [0x009D9AB2+760498]\n\tOrdinal0 [0x009CCEAF+708271]\n\tOrdinal0 [0x009D1142+725314]\n\tOrdinal0 [0x009D55C9+742857]\n\tOrdinal0 [0x009E5500+808192]\n\tOrdinal0 [0x00A3D2C2+1168066]\n\tOrdinal0 [0x00A2D5C6+1103302]\n\tOrdinal0 [0x00A077E0+948192]\n\tOrdinal0 [0x00A086E6+952038]\n\tGetHandleVerifier [0x00DE0CB2+2738370]\n\tGetHandleVerifier [0x00DD21B8+2678216]\n\tGetHandleVerifier [0x00BC17AA+512954]\n\tGetHandleVerifier [0x00BC0856+509030]\n\tOrdinal0 [0x00AD743B+1799227]\n\tOrdinal0 [0x00ADBB68+1817448]\n\tOrdinal0 [0x00ADBC55+1817685]\n\tOrdinal0 [0x00AE5230+1856048]\n\tBaseThreadInitThunk [0x76BEFA29+25]\n\tRtlGetAppContainerNamedObjectPath [0x76F475F4+228]\n\tRtlGetAppContainerNamedObjectPath [0x76F475C4+180]\n",
     "output_type": "error",
     "traceback": [
      "\u001b[1;31m---------------------------------------------------------------------------\u001b[0m",
      "\u001b[1;31mWebDriverException\u001b[0m                        Traceback (most recent call last)",
      "Input \u001b[1;32mIn [109]\u001b[0m, in \u001b[0;36m<cell line: 1>\u001b[1;34m()\u001b[0m\n\u001b[1;32m----> 1\u001b[0m \u001b[43mreview_crawling\u001b[49m\u001b[43m(\u001b[49m\u001b[43mkey_word_list\u001b[49m\u001b[43m,\u001b[49m\u001b[38;5;241;43m5\u001b[39;49m\u001b[43m)\u001b[49m\n",
      "Input \u001b[1;32mIn [104]\u001b[0m, in \u001b[0;36mreview_crawling\u001b[1;34m(key_word_list, nums)\u001b[0m\n\u001b[0;32m     57\u001b[0m             \u001b[38;5;28;01mexcept\u001b[39;00m:\n\u001b[0;32m     58\u001b[0m                 \u001b[38;5;28;01mpass\u001b[39;00m\n\u001b[1;32m---> 59\u001b[0m             \u001b[43mswitch_frame\u001b[49m\u001b[43m(\u001b[49m\u001b[38;5;124;43m'\u001b[39;49m\u001b[38;5;124;43msearchIframe\u001b[39;49m\u001b[38;5;124;43m'\u001b[39;49m\u001b[43m)\u001b[49m\n\u001b[0;32m     61\u001b[0m     \u001b[38;5;66;03m# json 파일로 저장\u001b[39;00m\n\u001b[0;32m     62\u001b[0m \u001b[38;5;28;01mwith\u001b[39;00m \u001b[38;5;28mopen\u001b[39m(\u001b[38;5;124m'\u001b[39m\u001b[38;5;124mnaver_review_dic.json\u001b[39m\u001b[38;5;124m'\u001b[39m, \u001b[38;5;124m'\u001b[39m\u001b[38;5;124mw\u001b[39m\u001b[38;5;124m'\u001b[39m, encoding\u001b[38;5;241m=\u001b[39m\u001b[38;5;124m'\u001b[39m\u001b[38;5;124mutf-8\u001b[39m\u001b[38;5;124m'\u001b[39m) \u001b[38;5;28;01mas\u001b[39;00m f:\n",
      "Input \u001b[1;32mIn [8]\u001b[0m, in \u001b[0;36mswitch_frame\u001b[1;34m(frame)\u001b[0m\n\u001b[0;32m      2\u001b[0m \u001b[38;5;28;01mdef\u001b[39;00m \u001b[38;5;21mswitch_frame\u001b[39m(frame):\n\u001b[1;32m----> 3\u001b[0m     \u001b[43mdriver\u001b[49m\u001b[38;5;241;43m.\u001b[39;49m\u001b[43mswitch_to\u001b[49m\u001b[38;5;241;43m.\u001b[39;49m\u001b[43mdefault_content\u001b[49m\u001b[43m(\u001b[49m\u001b[43m)\u001b[49m  \u001b[38;5;66;03m# frame 초기화\u001b[39;00m\n\u001b[0;32m      4\u001b[0m     driver\u001b[38;5;241m.\u001b[39mswitch_to\u001b[38;5;241m.\u001b[39mframe(frame)  \u001b[38;5;66;03m# frame 변경\u001b[39;00m\n\u001b[0;32m      5\u001b[0m     driver\u001b[38;5;241m.\u001b[39mimplicitly_wait(\u001b[38;5;241m1\u001b[39m)\n",
      "File \u001b[1;32m~\\AppData\\Roaming\\Python\\Python39\\site-packages\\selenium\\webdriver\\remote\\switch_to.py:68\u001b[0m, in \u001b[0;36mSwitchTo.default_content\u001b[1;34m(self)\u001b[0m\n\u001b[0;32m     59\u001b[0m \u001b[38;5;28;01mdef\u001b[39;00m \u001b[38;5;21mdefault_content\u001b[39m(\u001b[38;5;28mself\u001b[39m) \u001b[38;5;241m-\u001b[39m\u001b[38;5;241m>\u001b[39m \u001b[38;5;28;01mNone\u001b[39;00m:\n\u001b[0;32m     60\u001b[0m     \u001b[38;5;124;03m\"\"\"\u001b[39;00m\n\u001b[0;32m     61\u001b[0m \u001b[38;5;124;03m    Switch focus to the default frame.\u001b[39;00m\n\u001b[0;32m     62\u001b[0m \n\u001b[1;32m   (...)\u001b[0m\n\u001b[0;32m     66\u001b[0m \u001b[38;5;124;03m            driver.switch_to.default_content()\u001b[39;00m\n\u001b[0;32m     67\u001b[0m \u001b[38;5;124;03m    \"\"\"\u001b[39;00m\n\u001b[1;32m---> 68\u001b[0m     \u001b[38;5;28;43mself\u001b[39;49m\u001b[38;5;241;43m.\u001b[39;49m\u001b[43m_driver\u001b[49m\u001b[38;5;241;43m.\u001b[39;49m\u001b[43mexecute\u001b[49m\u001b[43m(\u001b[49m\u001b[43mCommand\u001b[49m\u001b[38;5;241;43m.\u001b[39;49m\u001b[43mSWITCH_TO_FRAME\u001b[49m\u001b[43m,\u001b[49m\u001b[43m \u001b[49m\u001b[43m{\u001b[49m\u001b[38;5;124;43m'\u001b[39;49m\u001b[38;5;124;43mid\u001b[39;49m\u001b[38;5;124;43m'\u001b[39;49m\u001b[43m:\u001b[49m\u001b[43m \u001b[49m\u001b[38;5;28;43;01mNone\u001b[39;49;00m\u001b[43m}\u001b[49m\u001b[43m)\u001b[49m\n",
      "File \u001b[1;32m~\\AppData\\Roaming\\Python\\Python39\\site-packages\\selenium\\webdriver\\remote\\webdriver.py:428\u001b[0m, in \u001b[0;36mWebDriver.execute\u001b[1;34m(self, driver_command, params)\u001b[0m\n\u001b[0;32m    426\u001b[0m response \u001b[38;5;241m=\u001b[39m \u001b[38;5;28mself\u001b[39m\u001b[38;5;241m.\u001b[39mcommand_executor\u001b[38;5;241m.\u001b[39mexecute(driver_command, params)\n\u001b[0;32m    427\u001b[0m \u001b[38;5;28;01mif\u001b[39;00m response:\n\u001b[1;32m--> 428\u001b[0m     \u001b[38;5;28;43mself\u001b[39;49m\u001b[38;5;241;43m.\u001b[39;49m\u001b[43merror_handler\u001b[49m\u001b[38;5;241;43m.\u001b[39;49m\u001b[43mcheck_response\u001b[49m\u001b[43m(\u001b[49m\u001b[43mresponse\u001b[49m\u001b[43m)\u001b[49m\n\u001b[0;32m    429\u001b[0m     response[\u001b[38;5;124m'\u001b[39m\u001b[38;5;124mvalue\u001b[39m\u001b[38;5;124m'\u001b[39m] \u001b[38;5;241m=\u001b[39m \u001b[38;5;28mself\u001b[39m\u001b[38;5;241m.\u001b[39m_unwrap_value(\n\u001b[0;32m    430\u001b[0m         response\u001b[38;5;241m.\u001b[39mget(\u001b[38;5;124m'\u001b[39m\u001b[38;5;124mvalue\u001b[39m\u001b[38;5;124m'\u001b[39m, \u001b[38;5;28;01mNone\u001b[39;00m))\n\u001b[0;32m    431\u001b[0m     \u001b[38;5;28;01mreturn\u001b[39;00m response\n",
      "File \u001b[1;32m~\\AppData\\Roaming\\Python\\Python39\\site-packages\\selenium\\webdriver\\remote\\errorhandler.py:243\u001b[0m, in \u001b[0;36mErrorHandler.check_response\u001b[1;34m(self, response)\u001b[0m\n\u001b[0;32m    241\u001b[0m         alert_text \u001b[38;5;241m=\u001b[39m value[\u001b[38;5;124m'\u001b[39m\u001b[38;5;124malert\u001b[39m\u001b[38;5;124m'\u001b[39m]\u001b[38;5;241m.\u001b[39mget(\u001b[38;5;124m'\u001b[39m\u001b[38;5;124mtext\u001b[39m\u001b[38;5;124m'\u001b[39m)\n\u001b[0;32m    242\u001b[0m     \u001b[38;5;28;01mraise\u001b[39;00m exception_class(message, screen, stacktrace, alert_text)  \u001b[38;5;66;03m# type: ignore[call-arg]  # mypy is not smart enough here\u001b[39;00m\n\u001b[1;32m--> 243\u001b[0m \u001b[38;5;28;01mraise\u001b[39;00m exception_class(message, screen, stacktrace)\n",
      "\u001b[1;31mWebDriverException\u001b[0m: Message: chrome not reachable\n  (Session info: chrome=104.0.5112.102)\nStacktrace:\nBacktrace:\n\tOrdinal0 [0x00B378B3+2193587]\n\tOrdinal0 [0x00AD0681+1771137]\n\tOrdinal0 [0x009E4070+802928]\n\tOrdinal0 [0x009D9AB2+760498]\n\tOrdinal0 [0x009CCEAF+708271]\n\tOrdinal0 [0x009D1142+725314]\n\tOrdinal0 [0x009D55C9+742857]\n\tOrdinal0 [0x009E5500+808192]\n\tOrdinal0 [0x00A3D2C2+1168066]\n\tOrdinal0 [0x00A2D5C6+1103302]\n\tOrdinal0 [0x00A077E0+948192]\n\tOrdinal0 [0x00A086E6+952038]\n\tGetHandleVerifier [0x00DE0CB2+2738370]\n\tGetHandleVerifier [0x00DD21B8+2678216]\n\tGetHandleVerifier [0x00BC17AA+512954]\n\tGetHandleVerifier [0x00BC0856+509030]\n\tOrdinal0 [0x00AD743B+1799227]\n\tOrdinal0 [0x00ADBB68+1817448]\n\tOrdinal0 [0x00ADBC55+1817685]\n\tOrdinal0 [0x00AE5230+1856048]\n\tBaseThreadInitThunk [0x76BEFA29+25]\n\tRtlGetAppContainerNamedObjectPath [0x76F475F4+228]\n\tRtlGetAppContainerNamedObjectPath [0x76F475C4+180]\n"
     ]
    }
   ],
   "source": [
    "review_crawling(key_word_list,5)"
   ]
  },
  {
   "cell_type": "code",
   "execution_count": null,
   "id": "2516dc9a",
   "metadata": {},
   "outputs": [],
   "source": [
    "\n",
    "url = 'https://map.naver.com/v5/search'\n",
    "driver = webdriver.Chrome('./chromedriver')  # 드라이버 경로\n",
    "#driver = webdriver.Chrome('./chromedriver',chrome_options=options) # 크롬창 숨기기\n",
    "driver.get(url)\n",
    "\n",
    "\n",
    "# sample"
   ]
  },
  {
   "cell_type": "code",
   "execution_count": null,
   "id": "0d290ffd",
   "metadata": {},
   "outputs": [],
   "source": [
    "find_search_input('부산 횟집')"
   ]
  },
  {
   "cell_type": "code",
   "execution_count": 94,
   "id": "cb26d0f6",
   "metadata": {},
   "outputs": [],
   "source": [
    "time_wait(2, 'div.input_box > input.input_search')\n",
    "search = driver.find_element(By.CSS_SELECTOR,'div.input_box > input.input_search')\n",
    "search.clear()\n",
    "key_word='서울 횟집'\n",
    "search.send_keys(key_word)  # 검색어 입력\n",
    "search.send_keys(Keys.ENTER)  # 엔터버튼 누르기\n",
    "\n",
    "res = driver.page_source  # 페이지 소스 가져오기\n",
    "soup = BeautifulSoup(res, 'html.parser')  # html 파싱하여  가져온다\n",
    "sleep(1)"
   ]
  },
  {
   "cell_type": "code",
   "execution_count": 95,
   "id": "611d18ed",
   "metadata": {},
   "outputs": [],
   "source": [
    "switch_frame('searchIframe')"
   ]
  },
  {
   "cell_type": "code",
   "execution_count": 96,
   "id": "294636c8",
   "metadata": {},
   "outputs": [],
   "source": [
    "pages = driver.find_elements(By.CSS_SELECTOR,'a._2tk2s')"
   ]
  },
  {
   "cell_type": "code",
   "execution_count": 97,
   "id": "b07493b1",
   "metadata": {},
   "outputs": [
    {
     "data": {
      "text/plain": [
       "[<selenium.webdriver.remote.webelement.WebElement (session=\"5a679fd7690dd032f16865d4329b8699\", element=\"4d559f8b-11c6-4f84-bb82-e26025bf2415\")>,\n",
       " <selenium.webdriver.remote.webelement.WebElement (session=\"5a679fd7690dd032f16865d4329b8699\", element=\"bdd84b56-dec8-4382-bdf2-66ee85b750a4\")>,\n",
       " <selenium.webdriver.remote.webelement.WebElement (session=\"5a679fd7690dd032f16865d4329b8699\", element=\"373816a7-b6d5-4b12-8f6e-e1300d0cd2dd\")>,\n",
       " <selenium.webdriver.remote.webelement.WebElement (session=\"5a679fd7690dd032f16865d4329b8699\", element=\"a5200dbe-fe7a-4c70-b4b8-4e121576543e\")>,\n",
       " <selenium.webdriver.remote.webelement.WebElement (session=\"5a679fd7690dd032f16865d4329b8699\", element=\"f3f7cccd-e177-4ef8-aac0-3b9057cc70bc\")>]"
      ]
     },
     "execution_count": 97,
     "metadata": {},
     "output_type": "execute_result"
    }
   ],
   "source": [
    "pages"
   ]
  },
  {
   "cell_type": "code",
   "execution_count": 98,
   "id": "6c5a8949",
   "metadata": {},
   "outputs": [],
   "source": [
    "pages[3].click()"
   ]
  },
  {
   "cell_type": "code",
   "execution_count": 101,
   "id": "f0c96c9e",
   "metadata": {},
   "outputs": [],
   "source": [
    "pages[4].click()"
   ]
  },
  {
   "cell_type": "code",
   "execution_count": 103,
   "id": "850dde74",
   "metadata": {},
   "outputs": [],
   "source": [
    "driver.find_element(By.CSS_SELECTOR, '#app-root > div > div > div._2ky45 > a:last-child').click()"
   ]
  },
  {
   "cell_type": "code",
   "execution_count": 100,
   "id": "229e24cf",
   "metadata": {},
   "outputs": [
    {
     "ename": "StaleElementReferenceException",
     "evalue": "Message: stale element reference: element is not attached to the page document\n  (Session info: chrome=104.0.5112.102)\nStacktrace:\nBacktrace:\n\tOrdinal0 [0x00B378B3+2193587]\n\tOrdinal0 [0x00AD0681+1771137]\n\tOrdinal0 [0x009E41A8+803240]\n\tOrdinal0 [0x009E6BB4+814004]\n\tOrdinal0 [0x009E6A72+813682]\n\tOrdinal0 [0x009E6D00+814336]\n\tOrdinal0 [0x00A13F19+999193]\n\tOrdinal0 [0x00A09146+954694]\n\tOrdinal0 [0x00A2D7AC+1103788]\n\tOrdinal0 [0x00A08C04+953348]\n\tOrdinal0 [0x00A2D9C4+1104324]\n\tOrdinal0 [0x00A3DAE2+1170146]\n\tOrdinal0 [0x00A2D5C6+1103302]\n\tOrdinal0 [0x00A077E0+948192]\n\tOrdinal0 [0x00A086E6+952038]\n\tGetHandleVerifier [0x00DE0CB2+2738370]\n\tGetHandleVerifier [0x00DD21B8+2678216]\n\tGetHandleVerifier [0x00BC17AA+512954]\n\tGetHandleVerifier [0x00BC0856+509030]\n\tOrdinal0 [0x00AD743B+1799227]\n\tOrdinal0 [0x00ADBB68+1817448]\n\tOrdinal0 [0x00ADBC55+1817685]\n\tOrdinal0 [0x00AE5230+1856048]\n\tBaseThreadInitThunk [0x76BEFA29+25]\n\tRtlGetAppContainerNamedObjectPath [0x76F475F4+228]\n\tRtlGetAppContainerNamedObjectPath [0x76F475C4+180]\n",
     "output_type": "error",
     "traceback": [
      "\u001b[1;31m---------------------------------------------------------------------------\u001b[0m",
      "\u001b[1;31mStaleElementReferenceException\u001b[0m            Traceback (most recent call last)",
      "Input \u001b[1;32mIn [100]\u001b[0m, in \u001b[0;36m<cell line: 1>\u001b[1;34m()\u001b[0m\n\u001b[1;32m----> 1\u001b[0m \u001b[43mpages\u001b[49m\u001b[43m[\u001b[49m\u001b[38;5;241;43m0\u001b[39;49m\u001b[43m]\u001b[49m\u001b[38;5;241;43m.\u001b[39;49m\u001b[43mclick\u001b[49m\u001b[43m(\u001b[49m\u001b[43m)\u001b[49m\n",
      "File \u001b[1;32m~\\AppData\\Roaming\\Python\\Python39\\site-packages\\selenium\\webdriver\\remote\\webelement.py:88\u001b[0m, in \u001b[0;36mWebElement.click\u001b[1;34m(self)\u001b[0m\n\u001b[0;32m     86\u001b[0m \u001b[38;5;28;01mdef\u001b[39;00m \u001b[38;5;21mclick\u001b[39m(\u001b[38;5;28mself\u001b[39m) \u001b[38;5;241m-\u001b[39m\u001b[38;5;241m>\u001b[39m \u001b[38;5;28;01mNone\u001b[39;00m:\n\u001b[0;32m     87\u001b[0m     \u001b[38;5;124;03m\"\"\"Clicks the element.\"\"\"\u001b[39;00m\n\u001b[1;32m---> 88\u001b[0m     \u001b[38;5;28;43mself\u001b[39;49m\u001b[38;5;241;43m.\u001b[39;49m\u001b[43m_execute\u001b[49m\u001b[43m(\u001b[49m\u001b[43mCommand\u001b[49m\u001b[38;5;241;43m.\u001b[39;49m\u001b[43mCLICK_ELEMENT\u001b[49m\u001b[43m)\u001b[49m\n",
      "File \u001b[1;32m~\\AppData\\Roaming\\Python\\Python39\\site-packages\\selenium\\webdriver\\remote\\webelement.py:396\u001b[0m, in \u001b[0;36mWebElement._execute\u001b[1;34m(self, command, params)\u001b[0m\n\u001b[0;32m    394\u001b[0m     params \u001b[38;5;241m=\u001b[39m {}\n\u001b[0;32m    395\u001b[0m params[\u001b[38;5;124m'\u001b[39m\u001b[38;5;124mid\u001b[39m\u001b[38;5;124m'\u001b[39m] \u001b[38;5;241m=\u001b[39m \u001b[38;5;28mself\u001b[39m\u001b[38;5;241m.\u001b[39m_id\n\u001b[1;32m--> 396\u001b[0m \u001b[38;5;28;01mreturn\u001b[39;00m \u001b[38;5;28;43mself\u001b[39;49m\u001b[38;5;241;43m.\u001b[39;49m\u001b[43m_parent\u001b[49m\u001b[38;5;241;43m.\u001b[39;49m\u001b[43mexecute\u001b[49m\u001b[43m(\u001b[49m\u001b[43mcommand\u001b[49m\u001b[43m,\u001b[49m\u001b[43m \u001b[49m\u001b[43mparams\u001b[49m\u001b[43m)\u001b[49m\n",
      "File \u001b[1;32m~\\AppData\\Roaming\\Python\\Python39\\site-packages\\selenium\\webdriver\\remote\\webdriver.py:428\u001b[0m, in \u001b[0;36mWebDriver.execute\u001b[1;34m(self, driver_command, params)\u001b[0m\n\u001b[0;32m    426\u001b[0m response \u001b[38;5;241m=\u001b[39m \u001b[38;5;28mself\u001b[39m\u001b[38;5;241m.\u001b[39mcommand_executor\u001b[38;5;241m.\u001b[39mexecute(driver_command, params)\n\u001b[0;32m    427\u001b[0m \u001b[38;5;28;01mif\u001b[39;00m response:\n\u001b[1;32m--> 428\u001b[0m     \u001b[38;5;28;43mself\u001b[39;49m\u001b[38;5;241;43m.\u001b[39;49m\u001b[43merror_handler\u001b[49m\u001b[38;5;241;43m.\u001b[39;49m\u001b[43mcheck_response\u001b[49m\u001b[43m(\u001b[49m\u001b[43mresponse\u001b[49m\u001b[43m)\u001b[49m\n\u001b[0;32m    429\u001b[0m     response[\u001b[38;5;124m'\u001b[39m\u001b[38;5;124mvalue\u001b[39m\u001b[38;5;124m'\u001b[39m] \u001b[38;5;241m=\u001b[39m \u001b[38;5;28mself\u001b[39m\u001b[38;5;241m.\u001b[39m_unwrap_value(\n\u001b[0;32m    430\u001b[0m         response\u001b[38;5;241m.\u001b[39mget(\u001b[38;5;124m'\u001b[39m\u001b[38;5;124mvalue\u001b[39m\u001b[38;5;124m'\u001b[39m, \u001b[38;5;28;01mNone\u001b[39;00m))\n\u001b[0;32m    431\u001b[0m     \u001b[38;5;28;01mreturn\u001b[39;00m response\n",
      "File \u001b[1;32m~\\AppData\\Roaming\\Python\\Python39\\site-packages\\selenium\\webdriver\\remote\\errorhandler.py:243\u001b[0m, in \u001b[0;36mErrorHandler.check_response\u001b[1;34m(self, response)\u001b[0m\n\u001b[0;32m    241\u001b[0m         alert_text \u001b[38;5;241m=\u001b[39m value[\u001b[38;5;124m'\u001b[39m\u001b[38;5;124malert\u001b[39m\u001b[38;5;124m'\u001b[39m]\u001b[38;5;241m.\u001b[39mget(\u001b[38;5;124m'\u001b[39m\u001b[38;5;124mtext\u001b[39m\u001b[38;5;124m'\u001b[39m)\n\u001b[0;32m    242\u001b[0m     \u001b[38;5;28;01mraise\u001b[39;00m exception_class(message, screen, stacktrace, alert_text)  \u001b[38;5;66;03m# type: ignore[call-arg]  # mypy is not smart enough here\u001b[39;00m\n\u001b[1;32m--> 243\u001b[0m \u001b[38;5;28;01mraise\u001b[39;00m exception_class(message, screen, stacktrace)\n",
      "\u001b[1;31mStaleElementReferenceException\u001b[0m: Message: stale element reference: element is not attached to the page document\n  (Session info: chrome=104.0.5112.102)\nStacktrace:\nBacktrace:\n\tOrdinal0 [0x00B378B3+2193587]\n\tOrdinal0 [0x00AD0681+1771137]\n\tOrdinal0 [0x009E41A8+803240]\n\tOrdinal0 [0x009E6BB4+814004]\n\tOrdinal0 [0x009E6A72+813682]\n\tOrdinal0 [0x009E6D00+814336]\n\tOrdinal0 [0x00A13F19+999193]\n\tOrdinal0 [0x00A09146+954694]\n\tOrdinal0 [0x00A2D7AC+1103788]\n\tOrdinal0 [0x00A08C04+953348]\n\tOrdinal0 [0x00A2D9C4+1104324]\n\tOrdinal0 [0x00A3DAE2+1170146]\n\tOrdinal0 [0x00A2D5C6+1103302]\n\tOrdinal0 [0x00A077E0+948192]\n\tOrdinal0 [0x00A086E6+952038]\n\tGetHandleVerifier [0x00DE0CB2+2738370]\n\tGetHandleVerifier [0x00DD21B8+2678216]\n\tGetHandleVerifier [0x00BC17AA+512954]\n\tGetHandleVerifier [0x00BC0856+509030]\n\tOrdinal0 [0x00AD743B+1799227]\n\tOrdinal0 [0x00ADBB68+1817448]\n\tOrdinal0 [0x00ADBC55+1817685]\n\tOrdinal0 [0x00AE5230+1856048]\n\tBaseThreadInitThunk [0x76BEFA29+25]\n\tRtlGetAppContainerNamedObjectPath [0x76F475F4+228]\n\tRtlGetAppContainerNamedObjectPath [0x76F475C4+180]\n"
     ]
    }
   ],
   "source": [
    "pages[0].click()"
   ]
  },
  {
   "cell_type": "code",
   "execution_count": null,
   "id": "6945c04b",
   "metadata": {},
   "outputs": [],
   "source": []
  }
 ],
 "metadata": {
  "kernelspec": {
   "display_name": "Python 3 (ipykernel)",
   "language": "python",
   "name": "python3"
  },
  "language_info": {
   "codemirror_mode": {
    "name": "ipython",
    "version": 3
   },
   "file_extension": ".py",
   "mimetype": "text/x-python",
   "name": "python",
   "nbconvert_exporter": "python",
   "pygments_lexer": "ipython3",
   "version": "3.9.12"
  }
 },
 "nbformat": 4,
 "nbformat_minor": 5
}
