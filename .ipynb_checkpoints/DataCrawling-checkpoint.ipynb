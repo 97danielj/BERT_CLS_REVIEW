{
 "cells": [
  {
   "cell_type": "markdown",
   "id": "99af54ab",
   "metadata": {},
   "source": [
    "# 환경설정"
   ]
  },
  {
   "cell_type": "code",
   "execution_count": 1,
   "id": "813dbd78",
   "metadata": {},
   "outputs": [],
   "source": [
    "import time\n",
    "from selenium import webdriver\n",
    "from selenium.webdriver.common.keys import Keys\n",
    "from selenium.webdriver.common.by import By\n",
    "from selenium.webdriver.support.ui import WebDriverWait\n",
    "from selenium.webdriver.support import expected_conditions as EC\n",
    "from time import sleep\n",
    "from bs4 import BeautifulSoup\n",
    "import re\n",
    "import json\n",
    "#options = webdriver.ChromeOptions()\n",
    "#options.add_argument('headless')"
   ]
  },
  {
   "cell_type": "markdown",
   "id": "281712c5",
   "metadata": {},
   "source": [
    "# 크롬창 열기"
   ]
  },
  {
   "cell_type": "code",
   "execution_count": 2,
   "id": "7360183c",
   "metadata": {},
   "outputs": [],
   "source": [
    "# css 찾을때 까지 10초대기\n",
    "def time_wait(num, code):\n",
    "    try:\n",
    "        wait = WebDriverWait(driver, num).until(\n",
    "            EC.presence_of_element_located((By.CSS_SELECTOR, code)))\n",
    "    except:\n",
    "        print(code, '태그를 찾지 못하였습니다.')\n",
    "        driver.quit()\n",
    "    return wait"
   ]
  },
  {
   "cell_type": "code",
   "execution_count": null,
   "id": "5a4257d7",
   "metadata": {},
   "outputs": [],
   "source": [
    "def find_search_input(key_word):\n",
    "    # 검색창 찾기\n",
    "    driver.switch_to.default_content()\n",
    "    time_wait(2, 'div.input_box > input.input_search')\n",
    "    search = driver.find_element(By.CSS_SELECTOR,'div.input_box > input.input_search')\n",
    "    search.send_keys(key_word)  # 검색어 입력\n",
    "    search.send_keys(Keys.ENTER)  # 엔터버튼 누르기\n",
    "    sleep(5)\n",
    "    res = driver.page_source  # 페이지 소스 가져오기\n",
    "    soup = BeautifulSoup(res, 'html.parser')  # html 파싱하여  가져온다\n",
    "    sleep(1)"
   ]
  },
  {
   "cell_type": "code",
   "execution_count": 4,
   "id": "38510e7d",
   "metadata": {},
   "outputs": [],
   "source": [
    "# frame 변경 메소드\n",
    "def switch_frame(frame):\n",
    "    driver.switch_to.default_content()  # frame 초기화\n",
    "    driver.switch_to.frame(frame)  # frame 변경\n",
    "    driver.implicitly_wait(1)\n"
   ]
  },
  {
   "cell_type": "code",
   "execution_count": 5,
   "id": "7611d926",
   "metadata": {},
   "outputs": [],
   "source": [
    "# 페이지 다운\n",
    "def page_down(num):\n",
    "    body = driver.find_element(By.CSS_SELECTOR,'body')\n",
    "    body.click()\n",
    "    for i in range(num):\n",
    "        body.send_keys(Keys.PAGE_DOWN)"
   ]
  },
  {
   "cell_type": "code",
   "execution_count": 6,
   "id": "4930c8fc",
   "metadata": {},
   "outputs": [],
   "source": [
    "# 페이지 다운\n",
    "def page_end():\n",
    "    body = driver.find_element(By.CSS_SELECTOR,'body')\n",
    "    body.click()\n",
    "    body.send_keys(Keys.END)"
   ]
  },
  {
   "cell_type": "code",
   "execution_count": 194,
   "id": "3f1ce22f",
   "metadata": {},
   "outputs": [],
   "source": [
    "def find_store_list():\n",
    "    # 매장 리스트\n",
    "    store_list = driver.find_elements(By.CSS_SELECTOR,'._22p-O')\n",
    "    # 페이지 리스트\n",
    "    next_btn = driver.find_elements(By.CSS_SELECTOR,'._2ky45 > a')\n",
    "    return store_list, next_btn"
   ]
  },
  {
   "cell_type": "code",
   "execution_count": 221,
   "id": "74f1001e",
   "metadata": {},
   "outputs": [],
   "source": [
    "def find_review_btn():\n",
    "    sleep(2)\n",
    "    time_wait(10,'a.tpj9w')\n",
    "    menu_list = driver.find_elements(By.CSS_SELECTOR,'a.tpj9w')\n",
    "    if len(menu_list) ==7:\n",
    "        return menu_list[-1]\n",
    "    else:\n",
    "        return menu_list[-2]"
   ]
  },
  {
   "cell_type": "code",
   "execution_count": 222,
   "id": "650c8d8e",
   "metadata": {},
   "outputs": [],
   "source": [
    "def crawling_visitor_review():\n",
    "    #-----리뷰 버튼 클릭-------\n",
    "    find_review_btn().click()\n",
    "    SCROLL_PAUSE_SEC = 1\n",
    "    \n",
    "    last_scroll = driver.execute_script(\"return document.body.scrollHeight\")\n",
    "    \n",
    "    while True:\n",
    "        driver.execute_script(\"window.scrollTo(0, document.body.scrollHeight);\")\n",
    "        time.sleep(SCROLL_PAUSE_SEC)\n",
    "        \n",
    "        try :\n",
    "            #더보기 버튼 클릭\n",
    "            driver.find_element(By.CSS_SELECTOR,'a.fvwqf').click()\n",
    "            \n",
    "        except:\n",
    "            #더보기 버튼이 없다면 while문을 빠져나온다.\n",
    "            break\n",
    "            # 끝까지 스크롤 다운\n",
    "            \n",
    "        new_scroll = driver.execute_script(\"return document.body.scrollHeight\")\n",
    "        if last_scroll == new_scroll:\n",
    "            break\n",
    "        else:\n",
    "            last_scroll= new_scroll\n",
    "\n",
    "\n",
    "\n",
    "    #가게 리스트 마다 방문자 리뷰 가져오기\n",
    "    review_elements = driver.find_elements(By.CSS_SELECTOR,\"div.ZZ4OK.IwhtZ > a > span\")\n",
    "    review_list = []\n",
    "    for i in review_elements:\n",
    "        review_list.append(i.text)\n",
    "    \n",
    "    return review_list\n"
   ]
  },
  {
   "cell_type": "markdown",
   "id": "3af8a130",
   "metadata": {},
   "source": [
    "# 블로그 리뷰 크롤링 함수\n",
    "## 불필요한 코퍼스가 많다."
   ]
  },
  {
   "cell_type": "code",
   "execution_count": 10,
   "id": "62362795",
   "metadata": {
    "collapsed": true
   },
   "outputs": [
    {
     "data": {
      "text/plain": [
       "'\\ndef crawling_blog_review():\\n    SCROLL_PAUSE_SEC = 3\\n    sleep(SCROLL_PAUSE_SEC)\\n    try :\\n        blog_review_button = driver.find_element(By.CSS_SELECTOR, \\'div._1tclc > div > a:nth-child(2)\\')\\n        blog_review_button.click()\\n    except:\\n        print(\\'블로그 리뷰가 없습니다.\\')\\n        return\\n    else:\\n        driver.implicitly_wait(SCROLL_PAUSE_SEC)\\n\\n        last_scroll = driver.execute_script(\"return document.body.scrollHeight\")\\n        while True:\\n            driver.execute_script(\"window.scrollTo(0, document.body.scrollHeight);\")\\n            time.sleep(1)\\n\\n            try :\\n                #더보기 버튼 클릭\\n                driver.find_element(By.CSS_SELECTOR,\\'a._3iTUo\\').click()\\n                driver.implicitly_wait(SCROLL_PAUSE_SEC)\\n            except:\\n                break\\n                # 끝까지 스크롤 다운\\n\\n            new_scroll = driver.execute_script(\"return document.body.scrollHeight\")\\n            driver.implicitly_wait(SCROLL_PAUSE_SEC)\\n            if last_scroll == new_scroll:\\n                break\\n            else:\\n                last_scroll = new_scroll\\n\\n        #가게 리스트 마다 방문자 리뷰 가져오기\\n        review_elements = driver.find_elements(By.CSS_SELECTOR,\\'div._3jvFk\\')\\n        review_list = []\\n        for i in review_elements:\\n            review_list.append(i.text)\\n        return review_list\\n'"
      ]
     },
     "execution_count": 10,
     "metadata": {},
     "output_type": "execute_result"
    }
   ],
   "source": [
    "'''\n",
    "def crawling_blog_review():\n",
    "    SCROLL_PAUSE_SEC = 3\n",
    "    sleep(SCROLL_PAUSE_SEC)\n",
    "    try :\n",
    "        blog_review_button = driver.find_element(By.CSS_SELECTOR, 'div._1tclc > div > a:nth-child(2)')\n",
    "        blog_review_button.click()\n",
    "    except:\n",
    "        print('블로그 리뷰가 없습니다.')\n",
    "        return\n",
    "    else:\n",
    "        driver.implicitly_wait(SCROLL_PAUSE_SEC)\n",
    "\n",
    "        last_scroll = driver.execute_script(\"return document.body.scrollHeight\")\n",
    "        while True:\n",
    "            driver.execute_script(\"window.scrollTo(0, document.body.scrollHeight);\")\n",
    "            time.sleep(1)\n",
    "\n",
    "            try :\n",
    "                #더보기 버튼 클릭\n",
    "                driver.find_element(By.CSS_SELECTOR,'a._3iTUo').click()\n",
    "                driver.implicitly_wait(SCROLL_PAUSE_SEC)\n",
    "            except:\n",
    "                break\n",
    "                # 끝까지 스크롤 다운\n",
    "\n",
    "            new_scroll = driver.execute_script(\"return document.body.scrollHeight\")\n",
    "            driver.implicitly_wait(SCROLL_PAUSE_SEC)\n",
    "            if last_scroll == new_scroll:\n",
    "                break\n",
    "            else:\n",
    "                last_scroll = new_scroll\n",
    "\n",
    "        #가게 리스트 마다 방문자 리뷰 가져오기\n",
    "        review_elements = driver.find_elements(By.CSS_SELECTOR,'div._3jvFk')\n",
    "        review_list = []\n",
    "        for i in review_elements:\n",
    "            review_list.append(i.text)\n",
    "        return review_list\n",
    "'''"
   ]
  },
  {
   "cell_type": "code",
   "execution_count": 244,
   "id": "d172e9c2",
   "metadata": {},
   "outputs": [],
   "source": [
    "def refresh():\n",
    "    sleep(3)\n",
    "    driver.refresh()\n",
    "    driver.implicitly_wait(3)\n",
    "    switch_frame('searchIframe')\n",
    "    driver.implicitly_wait(3)\n",
    "    driver.refresh()\n",
    "    driver.implicitly_wait(2)\n",
    "    switch_frame('searchIframe')\n",
    "    driver.implicitly_wait(2)\n",
    "    body = driver.find_element(By.CSS_SELECTOR,'body.place_on_pcmap')\n",
    "    body.click()\n",
    "    for i in range(40): \n",
    "        body.send_keys(Keys.PAGE_DOWN)\n",
    "    driver.implicitly_wait(3)\n",
    "    #page_down(5)\n",
    "    #driver.implicitly_wait(1)\n",
    "    #store_list 재탐색\n",
    "    store_elements = driver.find_elements(By.CSS_SELECTOR,'div.ouxiq.icT4K > a:nth-child(1)')\n",
    "    driver.implicitly_wait(3)"
   ]
  },
  {
   "cell_type": "code",
   "execution_count": 245,
   "id": "7fdd0607",
   "metadata": {},
   "outputs": [
    {
     "data": {
      "text/plain": [
       "[]"
      ]
     },
     "execution_count": 245,
     "metadata": {},
     "output_type": "execute_result"
    }
   ],
   "source": [
    "store_elements"
   ]
  },
  {
   "cell_type": "markdown",
   "id": "86de5a29",
   "metadata": {},
   "source": [
    "# 검색 지역 횟집의 리뷰를 크롤링."
   ]
  },
  {
   "cell_type": "code",
   "execution_count": 250,
   "id": "4db940d9",
   "metadata": {
    "scrolled": true
   },
   "outputs": [],
   "source": [
    "review_dic={}\n",
    "store_elements = []\n",
    "def review_crawling(key_word,nums):\n",
    "    WAIT=3\n",
    "    review_dic[key_word] = {} #첫 생성\n",
    "    #검색창을 찾아서 서치\n",
    "    find_search_input(key_word)\n",
    "    # searchIframe 변경\n",
    "    driver.implicitly_wait(2)\n",
    "    switch_frame('searchIframe')\n",
    "    driver.implicitly_wait(WAIT)\n",
    "    # 페이지 버튼의 수\n",
    "    pages = driver.find_elements(By.CSS_SELECTOR,'a.mBN2s')\n",
    "    for btn in range(nums): #페이지 버튼\n",
    "        if btn != 5:\n",
    "            pages[btn].click()\n",
    "        else:\n",
    "            driver.find_element(By.CSS_SELECTOR, 'ddiv.zRM9F > a:nth-child(7)').click()\n",
    "        driver.implicitly_wait(2)\n",
    "        page_down(40)\n",
    "        driver.implicitly_wait(WAIT)\n",
    "        page_down(5)\n",
    "        driver.implicitly_wait(2)\n",
    "        store_elements = driver.find_elements(By.CSS_SELECTOR,'div.ouxiq.icT4K > a:nth-child(1)')\n",
    "        driver.implicitly_wait(2)\n",
    "        #한 페이지의 50개의 매장들 하나씩 조회\n",
    "        #for idx in range(len(store_elements)):\n",
    "        for idx in range(6):\n",
    "            driver.implicitly_wait(1)\n",
    "            store_elements[idx].click() #li의 스토어를 클릭\n",
    "            driver.implicitly_wait(WAIT) # 2초 휴식\n",
    "            try:\n",
    "                #다른 iframe으로 변경\n",
    "                switch_frame('entryIframe')\n",
    "                time_wait(2, '.Fc1rA')\n",
    "\n",
    "                # -----매장명 가져오기-----\n",
    "                store_name = driver.find_element(By.CSS_SELECTOR,'.Fc1rA').text\n",
    "                driver.implicitly_wait(2)\n",
    "                review_dic[key_word][store_name] = {}\n",
    "\n",
    "                # -----위치 가져오기-----\n",
    "                try : \n",
    "                    location = driver.find_element(By.CSS_SELECTOR, 'span.IH7VW').text\n",
    "                    driver.implicitly_wait(WAIT)\n",
    "                    review_dic[key_word][store_name]['location'] = location\n",
    "                except:\n",
    "                    pass\n",
    "\n",
    "                # -----리뷰 크롤링---------\n",
    "                # 방문자 리뷰 크롤링\n",
    "                review_dic[key_word][store_name]['review'] = crawling_visitor_review()\n",
    "                driver.implicitly_wait(WAIT)\n",
    "                #driver.execute_script(\"window.scrollTo(0, 0);\")\n",
    "                #driver.implicitly_wait(WAIT)\n",
    "                # 블로거 리뷰 크롤링\n",
    "                #review_dic[key_word][store_name]['review'] = review_dic[key_word][store_name]['review']+crawling_blog_review()\n",
    "                #driver.implicitly_wait(WAIT)\n",
    "\n",
    "            except:\n",
    "                pass\n",
    "            switch_frame('searchIframe')\n",
    "            #refresh_point = (len(store_elements)-1)//3\n",
    "            refresh_point = 3\n",
    "            if idx == refresh_point:\n",
    "                sleep(3)\n",
    "                driver.refresh()\n",
    "                driver.implicitly_wait(3)\n",
    "                switch_frame('searchIframe')\n",
    "                driver.implicitly_wait(3)\n",
    "                driver.refresh()\n",
    "                driver.implicitly_wait(2)\n",
    "                switch_frame('searchIframe')\n",
    "                driver.implicitly_wait(2)\n",
    "                body = driver.find_element(By.CSS_SELECTOR,'body.place_on_pcmap')\n",
    "                body.click()\n",
    "                for i in range(40): \n",
    "                    body.send_keys(Keys.PAGE_DOWN)\n",
    "                driver.implicitly_wait(3)\n",
    "                #page_down(5)\n",
    "                #driver.implicitly_wait(1)\n",
    "                #store_list 재탐색\n",
    "                store_elements = driver.find_elements(By.CSS_SELECTOR,'div.ouxiq.icT4K > a:nth-child(1)')\n",
    "                driver.implicitly_wait(3)\n",
    "                \n",
    "            #elif idx == (refresh_point*2):\n",
    "            #   refresh()\n",
    "            \n",
    "\n",
    "        # json 파일로 저장\n",
    "    with open('naver_review_dic.json', 'w', encoding='utf-8') as f:\n",
    "        json.dump(review_dic, f, indent=4, ensure_ascii=False)\n",
    "        \n",
    "            "
   ]
  },
  {
   "cell_type": "code",
   "execution_count": 251,
   "id": "9d4c5ca7",
   "metadata": {},
   "outputs": [
    {
     "name": "stderr",
     "output_type": "stream",
     "text": [
      "C:\\Users\\DanielJeong\\AppData\\Local\\Temp\\ipykernel_8744\\145050225.py:5: DeprecationWarning: executable_path has been deprecated, please pass in a Service object\n",
      "  driver = webdriver.Chrome('./chromedriver')\n"
     ]
    }
   ],
   "source": [
    "# --크롬창을 숨기고 실행-- driver에 options를 추가해주면된다\n",
    "#options = webdriver.ChromeOptions()\n",
    "#options.add_argument('headless')\n",
    "url = 'https://map.naver.com/v5/search'\n",
    "driver = webdriver.Chrome('./chromedriver')\n",
    "#driver = webdriver.Chrome('./chromedriver',chrome_options=options) # 크롬창 숨기기\n",
    "driver.get(url)"
   ]
  },
  {
   "cell_type": "code",
   "execution_count": 252,
   "id": "5a982963",
   "metadata": {},
   "outputs": [],
   "source": [
    "key_word_list = ['서울 횟집', '인천 횟집', '부산 횟집', '대구 횟집', ' 대전 횟집', '울산 횟집', '광주 횟집']"
   ]
  },
  {
   "cell_type": "code",
   "execution_count": 253,
   "id": "2f0ca9dc",
   "metadata": {},
   "outputs": [],
   "source": [
    "review_crawling(key_word_list[0],1)"
   ]
  },
  {
   "cell_type": "code",
   "execution_count": 254,
   "id": "3f5a80b1",
   "metadata": {},
   "outputs": [
    {
     "data": {
      "text/plain": [
       "3"
      ]
     },
     "execution_count": 254,
     "metadata": {},
     "output_type": "execute_result"
    }
   ],
   "source": [
    "len(review_dic['서울 횟집'])"
   ]
  },
  {
   "cell_type": "code",
   "execution_count": 257,
   "id": "50a48d63",
   "metadata": {},
   "outputs": [
    {
     "data": {
      "text/plain": [
       "dict_keys(['달콤한어부', '목포회센타', '횟집울릉도'])"
      ]
     },
     "execution_count": 257,
     "metadata": {},
     "output_type": "execute_result"
    }
   ],
   "source": [
    "review_dic['서울 횟집'].keys()"
   ]
  },
  {
   "cell_type": "raw",
   "id": "2ccc89df",
   "metadata": {},
   "source": [
    "\n",
    "문제점\n",
    "1. 블로그 리뷰는 앞에 서사 부분이 너무 쓸모가 없다.\n",
    "2. 방문자 리뷰 크롤링시 한 페이지당 51개의 매장들이 있는데 중간에 통신(네트워크)가 끊겨서 페이지의 가게 리스트를 3단위씩 끊어서 저장 시킨다.\n",
    "=> '새로고침'키를 입력해주고 refresh_point, refresh_point*2 로 슬라이싱한다.\n",
    "=> 크롤링중 '새로고침'\n",
    "나눠서 창을 띄운다."
   ]
  },
  {
   "cell_type": "code",
   "execution_count": null,
   "id": "7016241b",
   "metadata": {},
   "outputs": [],
   "source": [
    "import json\n",
    "with open(\"naver_review_.json\", \"r\",) as f:\n",
    "    \n",
    "    "
   ]
  },
  {
   "cell_type": "code",
   "execution_count": 209,
   "id": "6e432dc9",
   "metadata": {},
   "outputs": [
    {
     "name": "stderr",
     "output_type": "stream",
     "text": [
      "C:\\Users\\DanielJeong\\AppData\\Local\\Temp\\ipykernel_8744\\145050225.py:5: DeprecationWarning: executable_path has been deprecated, please pass in a Service object\n",
      "  driver = webdriver.Chrome('./chromedriver')\n"
     ]
    }
   ],
   "source": [
    "# --크롬창을 숨기고 실행-- driver에 options를 추가해주면된다\n",
    "#options = webdriver.ChromeOptions()\n",
    "#options.add_argument('headless')\n",
    "url = 'https://map.naver.com/v5/search'\n",
    "driver = webdriver.Chrome('./chromedriver')\n",
    "#driver = webdriver.Chrome('./chromedriver',chrome_options=options) # 크롬창 숨기기\n",
    "driver.get(url)"
   ]
  },
  {
   "cell_type": "code",
   "execution_count": 210,
   "id": "5043d3ba",
   "metadata": {},
   "outputs": [],
   "source": [
    "find_search_input('서울 횟집')\n",
    "# searchIframe 변경\n",
    "switch_frame('searchIframe')\n",
    "driver.implicitly_wait(3)\n",
    "page_down(40)\n",
    "driver.implicitly_wait(3)\n",
    "page_down(5)\n"
   ]
  },
  {
   "cell_type": "code",
   "execution_count": 159,
   "id": "b99cbfe7",
   "metadata": {},
   "outputs": [],
   "source": [
    "store_elements = driver.find_elements(By.CSS_SELECTOR,'div._3ZU00._1rBq3 > a:nth-child(1)')"
   ]
  },
  {
   "cell_type": "code",
   "execution_count": 160,
   "id": "56a0486b",
   "metadata": {},
   "outputs": [
    {
     "data": {
      "text/plain": [
       "54"
      ]
     },
     "execution_count": 160,
     "metadata": {},
     "output_type": "execute_result"
    }
   ],
   "source": [
    "len(store_elements)"
   ]
  },
  {
   "cell_type": "code",
   "execution_count": 166,
   "id": "e6ea7496",
   "metadata": {},
   "outputs": [],
   "source": [
    "store_elements[26].click()"
   ]
  },
  {
   "cell_type": "code",
   "execution_count": 167,
   "id": "368c112b",
   "metadata": {},
   "outputs": [],
   "source": [
    "switch_frame('entryIframe')"
   ]
  },
  {
   "cell_type": "code",
   "execution_count": 168,
   "id": "6a71c2e7",
   "metadata": {},
   "outputs": [],
   "source": [
    "switch_frame('searchIframe')"
   ]
  },
  {
   "cell_type": "code",
   "execution_count": 177,
   "id": "7d98adf3",
   "metadata": {},
   "outputs": [],
   "source": [
    "driver.refresh()"
   ]
  },
  {
   "cell_type": "code",
   "execution_count": 178,
   "id": "0538372c",
   "metadata": {},
   "outputs": [],
   "source": [
    "switch_frame('searchIframe')"
   ]
  },
  {
   "cell_type": "code",
   "execution_count": 179,
   "id": "073011ac",
   "metadata": {},
   "outputs": [],
   "source": [
    "page_down(40)\n",
    "driver.implicitly_wait(3)\n",
    "page_down(5)"
   ]
  },
  {
   "cell_type": "code",
   "execution_count": 173,
   "id": "ffeb46c2",
   "metadata": {},
   "outputs": [],
   "source": [
    "store_elements = driver.find_elements(By.CSS_SELECTOR,'div._3ZU00._1rBq3 > a:nth-child(1)')"
   ]
  },
  {
   "cell_type": "code",
   "execution_count": 174,
   "id": "43546779",
   "metadata": {},
   "outputs": [
    {
     "data": {
      "text/plain": [
       "54"
      ]
     },
     "execution_count": 174,
     "metadata": {},
     "output_type": "execute_result"
    }
   ],
   "source": [
    "len(store_elements)"
   ]
  },
  {
   "cell_type": "code",
   "execution_count": 175,
   "id": "86f38b73",
   "metadata": {},
   "outputs": [],
   "source": [
    "store_elements[27].click()"
   ]
  },
  {
   "cell_type": "code",
   "execution_count": 227,
   "id": "e059197a",
   "metadata": {},
   "outputs": [],
   "source": [
    "driver.execute_script(\"window.scrollTo(0, document.body.scrollHeight);\")"
   ]
  },
  {
   "cell_type": "code",
   "execution_count": 228,
   "id": "53fc4469",
   "metadata": {},
   "outputs": [],
   "source": [
    "switch_frame('searchIframe')"
   ]
  },
  {
   "cell_type": "code",
   "execution_count": 230,
   "id": "b6590a9d",
   "metadata": {},
   "outputs": [],
   "source": [
    "driver.execute_script(\"window.scrollTo(0, document.body.scrollHeight);\")"
   ]
  },
  {
   "cell_type": "code",
   "execution_count": 231,
   "id": "cdcc797d",
   "metadata": {},
   "outputs": [],
   "source": [
    "page_down(20)"
   ]
  },
  {
   "cell_type": "code",
   "execution_count": null,
   "id": "4584048e",
   "metadata": {},
   "outputs": [],
   "source": []
  }
 ],
 "metadata": {
  "kernelspec": {
   "display_name": "Python 3 (ipykernel)",
   "language": "python",
   "name": "python3"
  },
  "language_info": {
   "codemirror_mode": {
    "name": "ipython",
    "version": 3
   },
   "file_extension": ".py",
   "mimetype": "text/x-python",
   "name": "python",
   "nbconvert_exporter": "python",
   "pygments_lexer": "ipython3",
   "version": "3.9.12"
  }
 },
 "nbformat": 4,
 "nbformat_minor": 5
}
