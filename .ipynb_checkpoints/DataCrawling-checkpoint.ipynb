{
 "cells": [
  {
   "cell_type": "code",
   "execution_count": 1,
   "id": "813dbd78",
   "metadata": {},
   "outputs": [],
   "source": [
    "import time\n",
    "from selenium import webdriver\n",
    "from selenium.webdriver.common.keys import Keys\n",
    "from selenium.webdriver.common.by import By\n",
    "from selenium.webdriver.support.ui import WebDriverWait\n",
    "from selenium.webdriver.support import expected_conditions as EC\n",
    "from time import sleep\n",
    "from bs4 import BeautifulSoup\n",
    "import re\n",
    "import json\n",
    "#options = webdriver.ChromeOptions()\n",
    "#options.add_argument('headless')"
   ]
  },
  {
   "cell_type": "code",
   "execution_count": 2,
   "id": "370ffce8",
   "metadata": {},
   "outputs": [
    {
     "name": "stderr",
     "output_type": "stream",
     "text": [
      "C:\\Users\\JSWonner\\AppData\\Local\\Temp\\ipykernel_16168\\2096135440.py:2: DeprecationWarning: executable_path has been deprecated, please pass in a Service object\n",
      "  driver = webdriver.Chrome('./chromedriver')  # 드라이버 경로\n"
     ]
    }
   ],
   "source": [
    "url = 'https://map.naver.com/v5/search'\n",
    "driver = webdriver.Chrome('./chromedriver')  # 드라이버 경로\n",
    "#driver = webdriver.Chrome('./chromedriver',chrome_options=options) # 크롬창 숨기기\n",
    "driver.get(url)\n",
    "key_word_list = ['노량진수산시장 횟집', '송파구 횟집', '강서구 횟집', '강남구 횟집', '노원구 횟집', '은평구 횟집']"
   ]
  },
  {
   "cell_type": "code",
   "execution_count": 3,
   "id": "afa5ef51",
   "metadata": {},
   "outputs": [],
   "source": [
    "key_word = ['노량진수산시장 횟집']"
   ]
  },
  {
   "cell_type": "code",
   "execution_count": 4,
   "id": "7360183c",
   "metadata": {},
   "outputs": [],
   "source": [
    "# css 찾을때 까지 10초대기\n",
    "def time_wait(num, code):\n",
    "    try:\n",
    "        wait = WebDriverWait(driver, num).until(\n",
    "            EC.presence_of_element_located((By.CSS_SELECTOR, code)))\n",
    "    except:\n",
    "        print(code, '태그를 찾지 못하였습니다.')\n",
    "        driver.quit()\n",
    "    return wait"
   ]
  },
  {
   "cell_type": "code",
   "execution_count": 5,
   "id": "fd966737",
   "metadata": {},
   "outputs": [
    {
     "data": {
      "text/plain": [
       "<selenium.webdriver.remote.webelement.WebElement (session=\"f4f86e01ee993138d7340febcca7fdc7\", element=\"cc3da95b-34d0-4613-9536-7226a11390b7\")>"
      ]
     },
     "execution_count": 5,
     "metadata": {},
     "output_type": "execute_result"
    }
   ],
   "source": [
    "# css를 찾을때 까지 10초 대기\n",
    "time_wait(10, 'div.input_box > input.input_search')"
   ]
  },
  {
   "cell_type": "code",
   "execution_count": 6,
   "id": "c45f37b9",
   "metadata": {},
   "outputs": [],
   "source": [
    "# 검색창 찾기\n",
    "search = driver.find_element(By.CSS_SELECTOR,'div.input_box > input.input_search')\n",
    "search.send_keys(key_word)  # 검색어 입력\n",
    "search.send_keys(Keys.ENTER)  # 엔터버튼 누르기"
   ]
  },
  {
   "cell_type": "code",
   "execution_count": 7,
   "id": "d3b6d633",
   "metadata": {},
   "outputs": [],
   "source": [
    "res = driver.page_source  # 페이지 소스 가져오기\n",
    "soup = BeautifulSoup(res, 'html.parser')  # html 파싱하여  가져온다"
   ]
  },
  {
   "cell_type": "code",
   "execution_count": 8,
   "id": "4eeb765b",
   "metadata": {},
   "outputs": [],
   "source": [
    "sleep(1)"
   ]
  },
  {
   "cell_type": "code",
   "execution_count": 9,
   "id": "38510e7d",
   "metadata": {},
   "outputs": [],
   "source": [
    "# frame 변경 메소드\n",
    "def switch_frame(frame):\n",
    "    driver.switch_to.default_content()  # frame 초기화\n",
    "    driver.switch_to.frame(frame)  # frame 변경\n",
    "    res\n",
    "    soup\n"
   ]
  },
  {
   "cell_type": "code",
   "execution_count": 10,
   "id": "7611d926",
   "metadata": {},
   "outputs": [],
   "source": [
    "# 페이지 다운\n",
    "def page_down(num):\n",
    "    body = driver.find_element(By.CSS_SELECTOR,'body')\n",
    "    body.click()\n",
    "    for i in range(num):\n",
    "        body.send_keys(Keys.PAGE_DOWN)"
   ]
  },
  {
   "cell_type": "code",
   "execution_count": 11,
   "id": "ee74d039",
   "metadata": {},
   "outputs": [],
   "source": [
    "# frame 변경\n",
    "switch_frame('searchIframe')\n",
    "page_down(40)\n",
    "sleep(5)"
   ]
  },
  {
   "cell_type": "code",
   "execution_count": 12,
   "id": "3f1ce22f",
   "metadata": {},
   "outputs": [],
   "source": [
    "# 매장 리스트\n",
    "store_list = driver.find_elements(By.CSS_SELECTOR,'._22p-O')\n",
    "# 페이지 리스트\n",
    "next_btn = driver.find_elements(By.CSS_SELECTOR,'._2ky45 > a')"
   ]
  },
  {
   "cell_type": "code",
   "execution_count": 13,
   "id": "03633fd8",
   "metadata": {},
   "outputs": [
    {
     "data": {
      "text/plain": [
       "50"
      ]
     },
     "execution_count": 13,
     "metadata": {},
     "output_type": "execute_result"
    }
   ],
   "source": [
    "len(store_list)"
   ]
  },
  {
   "cell_type": "code",
   "execution_count": 14,
   "id": "0f00777b",
   "metadata": {},
   "outputs": [
    {
     "data": {
      "text/plain": [
       "7"
      ]
     },
     "execution_count": 14,
     "metadata": {},
     "output_type": "execute_result"
    }
   ],
   "source": [
    "len(next_btn)"
   ]
  },
  {
   "cell_type": "code",
   "execution_count": 15,
   "id": "c0d8ded1",
   "metadata": {},
   "outputs": [],
   "source": [
    "# dictionary 생성\n",
    "store_dict = {'매장정보': []}"
   ]
  },
  {
   "cell_type": "code",
   "execution_count": 16,
   "id": "6f7a068f",
   "metadata": {},
   "outputs": [
    {
     "name": "stdout",
     "output_type": "stream",
     "text": [
      "[크롤링 시작...]\n"
     ]
    }
   ],
   "source": [
    "# 시작시간\n",
    "start = time.time()\n",
    "print('[크롤링 시작...]')"
   ]
  },
  {
   "cell_type": "code",
   "execution_count": 17,
   "id": "8cf78b41",
   "metadata": {},
   "outputs": [
    {
     "data": {
      "text/plain": [
       "1661063142.5905018"
      ]
     },
     "execution_count": 17,
     "metadata": {},
     "output_type": "execute_result"
    }
   ],
   "source": [
    "time.time()"
   ]
  },
  {
   "cell_type": "code",
   "execution_count": 77,
   "id": "74f1001e",
   "metadata": {},
   "outputs": [],
   "source": [
    "def find_review_btn():\n",
    "    menu_list = driver.find_elements(By.CSS_SELECTOR,'div.place_fixed_maintab a._2RG_o._tab-menu')\n",
    "    return menu_list[-2]"
   ]
  },
  {
   "cell_type": "code",
   "execution_count": 78,
   "id": "1dfd5a5f",
   "metadata": {},
   "outputs": [],
   "source": [
    "find_review_btn().click()"
   ]
  },
  {
   "cell_type": "code",
   "execution_count": 55,
   "id": "4db940d9",
   "metadata": {
    "scrolled": true
   },
   "outputs": [
    {
     "ename": "KeyboardInterrupt",
     "evalue": "",
     "output_type": "error",
     "traceback": [
      "\u001b[1;31m---------------------------------------------------------------------------\u001b[0m",
      "\u001b[1;31mKeyboardInterrupt\u001b[0m                         Traceback (most recent call last)",
      "Input \u001b[1;32mIn [55]\u001b[0m, in \u001b[0;36m<cell line: 1>\u001b[1;34m()\u001b[0m\n\u001b[0;32m      4\u001b[0m \u001b[38;5;28;01mfor\u001b[39;00m data \u001b[38;5;129;01min\u001b[39;00m \u001b[38;5;28mrange\u001b[39m(\u001b[38;5;28mlen\u001b[39m(store_list)): \u001b[38;5;66;03m#매장 리스트 만큼\u001b[39;00m\n\u001b[0;32m      5\u001b[0m     page[data]\u001b[38;5;241m.\u001b[39mclick() \u001b[38;5;66;03m#li의 페이지를 클릭\u001b[39;00m\n\u001b[1;32m----> 6\u001b[0m     \u001b[43msleep\u001b[49m\u001b[43m(\u001b[49m\u001b[38;5;241;43m2\u001b[39;49m\u001b[43m)\u001b[49m\n",
      "\u001b[1;31mKeyboardInterrupt\u001b[0m: "
     ]
    }
   ],
   "source": [
    "for btn in range(1, len(next_btn)+1): #btn[0]은 이미 store_list에 포함\n",
    "    store_list\n",
    "    page = driver.find_elements(By.CSS_SELECTOR,'div._3ZU00._1rBq3 > a:nth-child(1)')# 하이퍼링크\n",
    "    for data in range(len(store_list)): #매장 리스트 만큼\n",
    "        page[data].click() #li의 페이지를 클릭\n",
    "        sleep(2) # 2초 휴식\n",
    "        try:\n",
    "            switch_frame('entryIframe')\n",
    "            time_wait(5, '._3XamX')\n",
    "            # -----매장명 가져오기-----\n",
    "            store_name = driver.find_element(By.CSS_SELECTOR,'._3XamX').text\n",
    "            #-----리뷰 버튼 클릭-------\n",
    "            driver.find_element(By.CSS_SELECTOR,'div.place_fixed_maintab > div > div > div > div > a:nth-child(-1)').click()\n",
    "\n",
    "            SCROLL_PAUSE_SEC = 1\n",
    "\n",
    "            # 스크롤 높이 가져옴\n",
    "            last_height = driver.execute_script(\"return document.body.scrollHeight\")\n",
    "\n",
    "            while True:\n",
    "                # 끝까지 스크롤 다운\n",
    "                try : \n",
    "                    driver.execute_script(\"window.scrollTo(0, document.body.scrollHeight);\")\n",
    "\n",
    "\n",
    "                    #더보기 버튼 클릭\n",
    "                    driver.find_element(By.CSS_SELECTOR,'._3iTUo').click()\n",
    "\n",
    "                    # 1초 대기\n",
    "                    #time.sleep(SCROLL_PAUSE_SEC)\n",
    "\n",
    "                    # 스크롤 다운 후 스크롤 높이 다시 가져옴\n",
    "                    new_height = driver.execute_script(\"return document.body.scrollHeight\")\n",
    "                    last_height = new_height\n",
    "                except:\n",
    "                    break\n",
    "                \n",
    "            #가게 리스트 마다 리뷰 가져오기\n",
    "            review_list = []\n",
    "                \n",
    "                \n",
    "            \n",
    "        \n",
    "        "
   ]
  },
  {
   "cell_type": "code",
   "execution_count": 62,
   "id": "93112af3",
   "metadata": {},
   "outputs": [
    {
     "data": {
      "text/plain": [
       "<selenium.webdriver.remote.webelement.WebElement (session=\"f4f86e01ee993138d7340febcca7fdc7\", element=\"40076ecf-2b44-4ee6-8364-cc794da277e9\")>"
      ]
     },
     "execution_count": 62,
     "metadata": {},
     "output_type": "execute_result"
    }
   ],
   "source": [
    "switch_frame('entryIframe')\n",
    "time_wait(5, '._3XamX')"
   ]
  },
  {
   "cell_type": "code",
   "execution_count": 63,
   "id": "58be82ed",
   "metadata": {},
   "outputs": [
    {
     "ename": "NoSuchElementException",
     "evalue": "Message: no such element: Unable to locate element: {\"method\":\"css selector\",\"selector\":\"#app-root > div > div > div > div.place_fixed_maintab > div > div > div > div > a:nth-child(-1)\"}\n  (Session info: chrome=104.0.5112.102)\nStacktrace:\nBacktrace:\n\tOrdinal0 [0x006D78B3+2193587]\n\tOrdinal0 [0x00670681+1771137]\n\tOrdinal0 [0x005841A8+803240]\n\tOrdinal0 [0x005B24A0+992416]\n\tOrdinal0 [0x005B273B+993083]\n\tOrdinal0 [0x005DF7C2+1177538]\n\tOrdinal0 [0x005CD7F4+1103860]\n\tOrdinal0 [0x005DDAE2+1170146]\n\tOrdinal0 [0x005CD5C6+1103302]\n\tOrdinal0 [0x005A77E0+948192]\n\tOrdinal0 [0x005A86E6+952038]\n\tGetHandleVerifier [0x00980CB2+2738370]\n\tGetHandleVerifier [0x009721B8+2678216]\n\tGetHandleVerifier [0x007617AA+512954]\n\tGetHandleVerifier [0x00760856+509030]\n\tOrdinal0 [0x0067743B+1799227]\n\tOrdinal0 [0x0067BB68+1817448]\n\tOrdinal0 [0x0067BC55+1817685]\n\tOrdinal0 [0x00685230+1856048]\n\tBaseThreadInitThunk [0x75EAFA29+25]\n\tRtlGetAppContainerNamedObjectPath [0x77857A9E+286]\n\tRtlGetAppContainerNamedObjectPath [0x77857A6E+238]\n",
     "output_type": "error",
     "traceback": [
      "\u001b[1;31m---------------------------------------------------------------------------\u001b[0m",
      "\u001b[1;31mNoSuchElementException\u001b[0m                    Traceback (most recent call last)",
      "Input \u001b[1;32mIn [63]\u001b[0m, in \u001b[0;36m<cell line: 1>\u001b[1;34m()\u001b[0m\n\u001b[1;32m----> 1\u001b[0m review_button \u001b[38;5;241m=\u001b[39m \u001b[43mdriver\u001b[49m\u001b[38;5;241;43m.\u001b[39;49m\u001b[43mfind_element\u001b[49m\u001b[43m(\u001b[49m\u001b[43mBy\u001b[49m\u001b[38;5;241;43m.\u001b[39;49m\u001b[43mCSS_SELECTOR\u001b[49m\u001b[43m,\u001b[49m\u001b[38;5;124;43m'\u001b[39;49m\u001b[38;5;124;43m#app-root > div > div > div > div.place_fixed_maintab > div > div > div > div > a:nth-child(-1)\u001b[39;49m\u001b[38;5;124;43m'\u001b[39;49m\u001b[43m)\u001b[49m\n",
      "File \u001b[1;32m~\\AppData\\Roaming\\Python\\Python39\\site-packages\\selenium\\webdriver\\remote\\webdriver.py:855\u001b[0m, in \u001b[0;36mWebDriver.find_element\u001b[1;34m(self, by, value)\u001b[0m\n\u001b[0;32m    852\u001b[0m     by \u001b[38;5;241m=\u001b[39m By\u001b[38;5;241m.\u001b[39mCSS_SELECTOR\n\u001b[0;32m    853\u001b[0m     value \u001b[38;5;241m=\u001b[39m \u001b[38;5;124m'\u001b[39m\u001b[38;5;124m[name=\u001b[39m\u001b[38;5;124m\"\u001b[39m\u001b[38;5;132;01m%s\u001b[39;00m\u001b[38;5;124m\"\u001b[39m\u001b[38;5;124m]\u001b[39m\u001b[38;5;124m'\u001b[39m \u001b[38;5;241m%\u001b[39m value\n\u001b[1;32m--> 855\u001b[0m \u001b[38;5;28;01mreturn\u001b[39;00m \u001b[38;5;28;43mself\u001b[39;49m\u001b[38;5;241;43m.\u001b[39;49m\u001b[43mexecute\u001b[49m\u001b[43m(\u001b[49m\u001b[43mCommand\u001b[49m\u001b[38;5;241;43m.\u001b[39;49m\u001b[43mFIND_ELEMENT\u001b[49m\u001b[43m,\u001b[49m\u001b[43m \u001b[49m\u001b[43m{\u001b[49m\n\u001b[0;32m    856\u001b[0m \u001b[43m    \u001b[49m\u001b[38;5;124;43m'\u001b[39;49m\u001b[38;5;124;43musing\u001b[39;49m\u001b[38;5;124;43m'\u001b[39;49m\u001b[43m:\u001b[49m\u001b[43m \u001b[49m\u001b[43mby\u001b[49m\u001b[43m,\u001b[49m\n\u001b[0;32m    857\u001b[0m \u001b[43m    \u001b[49m\u001b[38;5;124;43m'\u001b[39;49m\u001b[38;5;124;43mvalue\u001b[39;49m\u001b[38;5;124;43m'\u001b[39;49m\u001b[43m:\u001b[49m\u001b[43m \u001b[49m\u001b[43mvalue\u001b[49m\u001b[43m}\u001b[49m\u001b[43m)\u001b[49m[\u001b[38;5;124m'\u001b[39m\u001b[38;5;124mvalue\u001b[39m\u001b[38;5;124m'\u001b[39m]\n",
      "File \u001b[1;32m~\\AppData\\Roaming\\Python\\Python39\\site-packages\\selenium\\webdriver\\remote\\webdriver.py:428\u001b[0m, in \u001b[0;36mWebDriver.execute\u001b[1;34m(self, driver_command, params)\u001b[0m\n\u001b[0;32m    426\u001b[0m response \u001b[38;5;241m=\u001b[39m \u001b[38;5;28mself\u001b[39m\u001b[38;5;241m.\u001b[39mcommand_executor\u001b[38;5;241m.\u001b[39mexecute(driver_command, params)\n\u001b[0;32m    427\u001b[0m \u001b[38;5;28;01mif\u001b[39;00m response:\n\u001b[1;32m--> 428\u001b[0m     \u001b[38;5;28;43mself\u001b[39;49m\u001b[38;5;241;43m.\u001b[39;49m\u001b[43merror_handler\u001b[49m\u001b[38;5;241;43m.\u001b[39;49m\u001b[43mcheck_response\u001b[49m\u001b[43m(\u001b[49m\u001b[43mresponse\u001b[49m\u001b[43m)\u001b[49m\n\u001b[0;32m    429\u001b[0m     response[\u001b[38;5;124m'\u001b[39m\u001b[38;5;124mvalue\u001b[39m\u001b[38;5;124m'\u001b[39m] \u001b[38;5;241m=\u001b[39m \u001b[38;5;28mself\u001b[39m\u001b[38;5;241m.\u001b[39m_unwrap_value(\n\u001b[0;32m    430\u001b[0m         response\u001b[38;5;241m.\u001b[39mget(\u001b[38;5;124m'\u001b[39m\u001b[38;5;124mvalue\u001b[39m\u001b[38;5;124m'\u001b[39m, \u001b[38;5;28;01mNone\u001b[39;00m))\n\u001b[0;32m    431\u001b[0m     \u001b[38;5;28;01mreturn\u001b[39;00m response\n",
      "File \u001b[1;32m~\\AppData\\Roaming\\Python\\Python39\\site-packages\\selenium\\webdriver\\remote\\errorhandler.py:243\u001b[0m, in \u001b[0;36mErrorHandler.check_response\u001b[1;34m(self, response)\u001b[0m\n\u001b[0;32m    241\u001b[0m         alert_text \u001b[38;5;241m=\u001b[39m value[\u001b[38;5;124m'\u001b[39m\u001b[38;5;124malert\u001b[39m\u001b[38;5;124m'\u001b[39m]\u001b[38;5;241m.\u001b[39mget(\u001b[38;5;124m'\u001b[39m\u001b[38;5;124mtext\u001b[39m\u001b[38;5;124m'\u001b[39m)\n\u001b[0;32m    242\u001b[0m     \u001b[38;5;28;01mraise\u001b[39;00m exception_class(message, screen, stacktrace, alert_text)  \u001b[38;5;66;03m# type: ignore[call-arg]  # mypy is not smart enough here\u001b[39;00m\n\u001b[1;32m--> 243\u001b[0m \u001b[38;5;28;01mraise\u001b[39;00m exception_class(message, screen, stacktrace)\n",
      "\u001b[1;31mNoSuchElementException\u001b[0m: Message: no such element: Unable to locate element: {\"method\":\"css selector\",\"selector\":\"#app-root > div > div > div > div.place_fixed_maintab > div > div > div > div > a:nth-child(-1)\"}\n  (Session info: chrome=104.0.5112.102)\nStacktrace:\nBacktrace:\n\tOrdinal0 [0x006D78B3+2193587]\n\tOrdinal0 [0x00670681+1771137]\n\tOrdinal0 [0x005841A8+803240]\n\tOrdinal0 [0x005B24A0+992416]\n\tOrdinal0 [0x005B273B+993083]\n\tOrdinal0 [0x005DF7C2+1177538]\n\tOrdinal0 [0x005CD7F4+1103860]\n\tOrdinal0 [0x005DDAE2+1170146]\n\tOrdinal0 [0x005CD5C6+1103302]\n\tOrdinal0 [0x005A77E0+948192]\n\tOrdinal0 [0x005A86E6+952038]\n\tGetHandleVerifier [0x00980CB2+2738370]\n\tGetHandleVerifier [0x009721B8+2678216]\n\tGetHandleVerifier [0x007617AA+512954]\n\tGetHandleVerifier [0x00760856+509030]\n\tOrdinal0 [0x0067743B+1799227]\n\tOrdinal0 [0x0067BB68+1817448]\n\tOrdinal0 [0x0067BC55+1817685]\n\tOrdinal0 [0x00685230+1856048]\n\tBaseThreadInitThunk [0x75EAFA29+25]\n\tRtlGetAppContainerNamedObjectPath [0x77857A9E+286]\n\tRtlGetAppContainerNamedObjectPath [0x77857A6E+238]\n"
     ]
    }
   ],
   "source": [
    "review_button = driver.find_element(By.CSS_SELECTOR,'#app-root > div > div > div > div.place_fixed_maintab > div > div > div > div > a:nth-child(-1)')"
   ]
  },
  {
   "cell_type": "code",
   "execution_count": null,
   "id": "f81417e1",
   "metadata": {},
   "outputs": [],
   "source": []
  },
  {
   "cell_type": "code",
   "execution_count": 60,
   "id": "e45a12ce",
   "metadata": {},
   "outputs": [],
   "source": [
    "review_button.click()"
   ]
  },
  {
   "cell_type": "code",
   "execution_count": 54,
   "id": "319e121f",
   "metadata": {},
   "outputs": [],
   "source": [
    "#for down in range(3):\n",
    "                #sleep(1)\n",
    "                #driver.execute_script(\"window.scrollTo(0, document.body.scrollHeight);\")"
   ]
  },
  {
   "cell_type": "code",
   "execution_count": 45,
   "id": "8096582d",
   "metadata": {},
   "outputs": [],
   "source": [
    "#driver.find_element(By.CSS_SELECTOR,'div._2kAri > a').click()"
   ]
  },
  {
   "cell_type": "code",
   "execution_count": 94,
   "id": "52c59b91",
   "metadata": {},
   "outputs": [],
   "source": [
    "ex_list = driver.find_elements(By.CSS_SELECTOR,'div.faZHB > a > span')\n"
   ]
  },
  {
   "cell_type": "code",
   "execution_count": 95,
   "id": "36b1da7f",
   "metadata": {},
   "outputs": [
    {
     "data": {
      "text/plain": [
       "'역시 믿고가는 형제수산! 미리손질을 다 해주셔서 먹기 매우편하고 두께도 기본적으로 두꺼워서 좋네요! 매운탕은 두말하면 잔소리!'"
      ]
     },
     "execution_count": 95,
     "metadata": {},
     "output_type": "execute_result"
    }
   ],
   "source": [
    "ex_list[2].text"
   ]
  },
  {
   "cell_type": "code",
   "execution_count": 61,
   "id": "b95768ff",
   "metadata": {},
   "outputs": [],
   "source": [
    "SCROLL_PAUSE_SEC = 1\n",
    "\n",
    "# 스크롤 높이 가져옴\n",
    "last_height = driver.execute_script(\"return document.body.scrollHeight\")\n",
    "\n",
    "while True:\n",
    "    # 끝까지 스크롤 다운\n",
    "    try : \n",
    "        driver.execute_script(\"window.scrollTo(0, document.body.scrollHeight);\")\n",
    "\n",
    "\n",
    "        #더보기 버튼 클릭\n",
    "        driver.find_element(By.CSS_SELECTOR,'._3iTUo').click()\n",
    "\n",
    "        # 1초 대기\n",
    "        #time.sleep(SCROLL_PAUSE_SEC)\n",
    "\n",
    "        # 스크롤 다운 후 스크롤 높이 다시 가져옴\n",
    "        new_height = driver.execute_script(\"return document.body.scrollHeight\")\n",
    "        last_height = new_height\n",
    "    except:\n",
    "        break\n",
    "    "
   ]
  },
  {
   "cell_type": "raw",
   "id": "b292acf9",
   "metadata": {},
   "source": [
    "끝까지 내려가기\n",
    "더보기 버튼 클릭하기\n",
    "길어진 스크롤높이 가져오기\n",
    "반복문 탈출 : 더보기 버튼이 더이상 없는 경우-> 오류 발생 -> 탈출"
   ]
  },
  {
   "cell_type": "code",
   "execution_count": null,
   "id": "3f457e25",
   "metadata": {},
   "outputs": [],
   "source": []
  }
 ],
 "metadata": {
  "kernelspec": {
   "display_name": "Python 3 (ipykernel)",
   "language": "python",
   "name": "python3"
  },
  "language_info": {
   "codemirror_mode": {
    "name": "ipython",
    "version": 3
   },
   "file_extension": ".py",
   "mimetype": "text/x-python",
   "name": "python",
   "nbconvert_exporter": "python",
   "pygments_lexer": "ipython3",
   "version": "3.9.12"
  }
 },
 "nbformat": 4,
 "nbformat_minor": 5
}
