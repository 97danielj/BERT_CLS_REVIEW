{
 "cells": [
  {
   "cell_type": "markdown",
   "id": "77f834a2",
   "metadata": {},
   "source": [
    "# 환경 설정"
   ]
  },
  {
   "cell_type": "code",
   "execution_count": 2,
   "id": "fcbadb3b",
   "metadata": {},
   "outputs": [],
   "source": [
    "import sys # 시스템\n",
    "import os  # 시스템\n",
    "\n",
    "# 데이터 다루기\n",
    "import pandas as pd\n",
    "import numpy as np\n",
    "\n",
    "# selenium 크롤링\n",
    "from selenium import webdriver  \n",
    "from selenium.webdriver import ActionChains as AC\n",
    "from selenium.webdriver.support.ui import WebDriverWait\n",
    "from selenium.webdriver.support import expected_conditions as EC\n",
    "from selenium.webdriver.common.by import By"
   ]
  },
  {
   "cell_type": "code",
   "execution_count": 3,
   "id": "4e94ad6c",
   "metadata": {},
   "outputs": [],
   "source": [
    "# beautifulsoup 크롤링\n",
    "import requests\n",
    "from bs4 import BeautifulSoup\n",
    "\n",
    "# lxml 크롤링\n",
    "import lxml.html\n",
    "\n",
    "# 시간 조절\n",
    "import time\n",
    "\n",
    "# 시간 측정\n",
    "from tqdm import notebook\n",
    "\n",
    "# 정규표현식\n",
    "import re\n",
    "\n",
    "# 경고 무시\n",
    "import warnings\n",
    "warnings.filterwarnings('ignore')"
   ]
  },
  {
   "cell_type": "code",
   "execution_count": 7,
   "id": "0c92af61",
   "metadata": {},
   "outputs": [],
   "source": [
    "# 지역 키워드를 입력하기\n",
    "keyword = '횟집'\n",
    "\n",
    "# page 정하기\n",
    "page = 1"
   ]
  },
  {
   "cell_type": "code",
   "execution_count": 28,
   "id": "2abaa54a",
   "metadata": {},
   "outputs": [],
   "source": [
    "# 크롬창 띄우기\n",
    "driver = webdriver.Chrome('./chromedriver')\n",
    "driver.maximize_window() # 창 최대화\n",
    "\n",
    "# 키워드가 입력된 망고플레이트 사이트에 들어가기\n",
    "driver.get(\" https://www.mangoplate.com/search/{0}?keyword={0}&page={1}\".format(keyword, page)) \n",
    "time.sleep(2)"
   ]
  },
  {
   "cell_type": "code",
   "execution_count": 29,
   "id": "34c8ee84",
   "metadata": {},
   "outputs": [],
   "source": [
    "\n",
    "# 광고창 없애기\n",
    "\n",
    "# 광고창 iframe 접근하기\n",
    "driver.switch_to.frame(\"google_ads_iframe_/395211568/init/desktop_all_0\")\n",
    "\n",
    "# '다시 보지 않기' 버튼 클릭하기\n",
    "element = '#ad > div > button.ad_btn.ad_block_btn'\n",
    "driver.find_element(By.CSS_SELECTOR,element).click()\n"
   ]
  },
  {
   "cell_type": "code",
   "execution_count": 31,
   "id": "32878233",
   "metadata": {},
   "outputs": [
    {
     "ename": "InvalidSelectorException",
     "evalue": "Message: invalid selector: An invalid or illegal selector was specified\n  (Session info: chrome=104.0.5112.102)\nStacktrace:\nBacktrace:\n\tOrdinal0 [0x00B378B3+2193587]\n\tOrdinal0 [0x00AD0681+1771137]\n\tOrdinal0 [0x009E41A8+803240]\n\tOrdinal0 [0x009E6BB4+814004]\n\tOrdinal0 [0x009E6A72+813682]\n\tOrdinal0 [0x009E6D00+814336]\n\tOrdinal0 [0x00A121B5+991669]\n\tOrdinal0 [0x00A1273B+993083]\n\tOrdinal0 [0x00A3F7C2+1177538]\n\tOrdinal0 [0x00A2D7F4+1103860]\n\tOrdinal0 [0x00A3DAE2+1170146]\n\tOrdinal0 [0x00A2D5C6+1103302]\n\tOrdinal0 [0x00A077E0+948192]\n\tOrdinal0 [0x00A086E6+952038]\n\tGetHandleVerifier [0x00DE0CB2+2738370]\n\tGetHandleVerifier [0x00DD21B8+2678216]\n\tGetHandleVerifier [0x00BC17AA+512954]\n\tGetHandleVerifier [0x00BC0856+509030]\n\tOrdinal0 [0x00AD743B+1799227]\n\tOrdinal0 [0x00ADBB68+1817448]\n\tOrdinal0 [0x00ADBC55+1817685]\n\tOrdinal0 [0x00AE5230+1856048]\n\tBaseThreadInitThunk [0x76BEFA29+25]\n\tRtlGetAppContainerNamedObjectPath [0x76F475F4+228]\n\tRtlGetAppContainerNamedObjectPath [0x76F475C4+180]\n",
     "output_type": "error",
     "traceback": [
      "\u001b[1;31m---------------------------------------------------------------------------\u001b[0m",
      "\u001b[1;31mInvalidSelectorException\u001b[0m                  Traceback (most recent call last)",
      "Input \u001b[1;32mIn [31]\u001b[0m, in \u001b[0;36m<cell line: 3>\u001b[1;34m()\u001b[0m\n\u001b[0;32m      1\u001b[0m \u001b[38;5;66;03m# 첫 번째 음식점 클릭\u001b[39;00m\n\u001b[0;32m      2\u001b[0m element \u001b[38;5;241m=\u001b[39m \u001b[38;5;124m'\u001b[39m\u001b[38;5;124m/html/body/main/article/div[2]/div/div/section/div[3]/ul/li[1]/div[1]/figure/a/div/img\u001b[39m\u001b[38;5;124m'\u001b[39m\n\u001b[1;32m----> 3\u001b[0m \u001b[43mdriver\u001b[49m\u001b[38;5;241;43m.\u001b[39;49m\u001b[43mfind_element\u001b[49m\u001b[43m(\u001b[49m\u001b[43mBy\u001b[49m\u001b[38;5;241;43m.\u001b[39;49m\u001b[43mCSS_SELECTOR\u001b[49m\u001b[43m,\u001b[49m\u001b[43melement\u001b[49m\u001b[43m)\u001b[49m\u001b[38;5;241m.\u001b[39mclick()\n",
      "File \u001b[1;32m~\\AppData\\Roaming\\Python\\Python39\\site-packages\\selenium\\webdriver\\remote\\webdriver.py:855\u001b[0m, in \u001b[0;36mWebDriver.find_element\u001b[1;34m(self, by, value)\u001b[0m\n\u001b[0;32m    852\u001b[0m     by \u001b[38;5;241m=\u001b[39m By\u001b[38;5;241m.\u001b[39mCSS_SELECTOR\n\u001b[0;32m    853\u001b[0m     value \u001b[38;5;241m=\u001b[39m \u001b[38;5;124m'\u001b[39m\u001b[38;5;124m[name=\u001b[39m\u001b[38;5;124m\"\u001b[39m\u001b[38;5;132;01m%s\u001b[39;00m\u001b[38;5;124m\"\u001b[39m\u001b[38;5;124m]\u001b[39m\u001b[38;5;124m'\u001b[39m \u001b[38;5;241m%\u001b[39m value\n\u001b[1;32m--> 855\u001b[0m \u001b[38;5;28;01mreturn\u001b[39;00m \u001b[38;5;28;43mself\u001b[39;49m\u001b[38;5;241;43m.\u001b[39;49m\u001b[43mexecute\u001b[49m\u001b[43m(\u001b[49m\u001b[43mCommand\u001b[49m\u001b[38;5;241;43m.\u001b[39;49m\u001b[43mFIND_ELEMENT\u001b[49m\u001b[43m,\u001b[49m\u001b[43m \u001b[49m\u001b[43m{\u001b[49m\n\u001b[0;32m    856\u001b[0m \u001b[43m    \u001b[49m\u001b[38;5;124;43m'\u001b[39;49m\u001b[38;5;124;43musing\u001b[39;49m\u001b[38;5;124;43m'\u001b[39;49m\u001b[43m:\u001b[49m\u001b[43m \u001b[49m\u001b[43mby\u001b[49m\u001b[43m,\u001b[49m\n\u001b[0;32m    857\u001b[0m \u001b[43m    \u001b[49m\u001b[38;5;124;43m'\u001b[39;49m\u001b[38;5;124;43mvalue\u001b[39;49m\u001b[38;5;124;43m'\u001b[39;49m\u001b[43m:\u001b[49m\u001b[43m \u001b[49m\u001b[43mvalue\u001b[49m\u001b[43m}\u001b[49m\u001b[43m)\u001b[49m[\u001b[38;5;124m'\u001b[39m\u001b[38;5;124mvalue\u001b[39m\u001b[38;5;124m'\u001b[39m]\n",
      "File \u001b[1;32m~\\AppData\\Roaming\\Python\\Python39\\site-packages\\selenium\\webdriver\\remote\\webdriver.py:428\u001b[0m, in \u001b[0;36mWebDriver.execute\u001b[1;34m(self, driver_command, params)\u001b[0m\n\u001b[0;32m    426\u001b[0m response \u001b[38;5;241m=\u001b[39m \u001b[38;5;28mself\u001b[39m\u001b[38;5;241m.\u001b[39mcommand_executor\u001b[38;5;241m.\u001b[39mexecute(driver_command, params)\n\u001b[0;32m    427\u001b[0m \u001b[38;5;28;01mif\u001b[39;00m response:\n\u001b[1;32m--> 428\u001b[0m     \u001b[38;5;28;43mself\u001b[39;49m\u001b[38;5;241;43m.\u001b[39;49m\u001b[43merror_handler\u001b[49m\u001b[38;5;241;43m.\u001b[39;49m\u001b[43mcheck_response\u001b[49m\u001b[43m(\u001b[49m\u001b[43mresponse\u001b[49m\u001b[43m)\u001b[49m\n\u001b[0;32m    429\u001b[0m     response[\u001b[38;5;124m'\u001b[39m\u001b[38;5;124mvalue\u001b[39m\u001b[38;5;124m'\u001b[39m] \u001b[38;5;241m=\u001b[39m \u001b[38;5;28mself\u001b[39m\u001b[38;5;241m.\u001b[39m_unwrap_value(\n\u001b[0;32m    430\u001b[0m         response\u001b[38;5;241m.\u001b[39mget(\u001b[38;5;124m'\u001b[39m\u001b[38;5;124mvalue\u001b[39m\u001b[38;5;124m'\u001b[39m, \u001b[38;5;28;01mNone\u001b[39;00m))\n\u001b[0;32m    431\u001b[0m     \u001b[38;5;28;01mreturn\u001b[39;00m response\n",
      "File \u001b[1;32m~\\AppData\\Roaming\\Python\\Python39\\site-packages\\selenium\\webdriver\\remote\\errorhandler.py:243\u001b[0m, in \u001b[0;36mErrorHandler.check_response\u001b[1;34m(self, response)\u001b[0m\n\u001b[0;32m    241\u001b[0m         alert_text \u001b[38;5;241m=\u001b[39m value[\u001b[38;5;124m'\u001b[39m\u001b[38;5;124malert\u001b[39m\u001b[38;5;124m'\u001b[39m]\u001b[38;5;241m.\u001b[39mget(\u001b[38;5;124m'\u001b[39m\u001b[38;5;124mtext\u001b[39m\u001b[38;5;124m'\u001b[39m)\n\u001b[0;32m    242\u001b[0m     \u001b[38;5;28;01mraise\u001b[39;00m exception_class(message, screen, stacktrace, alert_text)  \u001b[38;5;66;03m# type: ignore[call-arg]  # mypy is not smart enough here\u001b[39;00m\n\u001b[1;32m--> 243\u001b[0m \u001b[38;5;28;01mraise\u001b[39;00m exception_class(message, screen, stacktrace)\n",
      "\u001b[1;31mInvalidSelectorException\u001b[0m: Message: invalid selector: An invalid or illegal selector was specified\n  (Session info: chrome=104.0.5112.102)\nStacktrace:\nBacktrace:\n\tOrdinal0 [0x00B378B3+2193587]\n\tOrdinal0 [0x00AD0681+1771137]\n\tOrdinal0 [0x009E41A8+803240]\n\tOrdinal0 [0x009E6BB4+814004]\n\tOrdinal0 [0x009E6A72+813682]\n\tOrdinal0 [0x009E6D00+814336]\n\tOrdinal0 [0x00A121B5+991669]\n\tOrdinal0 [0x00A1273B+993083]\n\tOrdinal0 [0x00A3F7C2+1177538]\n\tOrdinal0 [0x00A2D7F4+1103860]\n\tOrdinal0 [0x00A3DAE2+1170146]\n\tOrdinal0 [0x00A2D5C6+1103302]\n\tOrdinal0 [0x00A077E0+948192]\n\tOrdinal0 [0x00A086E6+952038]\n\tGetHandleVerifier [0x00DE0CB2+2738370]\n\tGetHandleVerifier [0x00DD21B8+2678216]\n\tGetHandleVerifier [0x00BC17AA+512954]\n\tGetHandleVerifier [0x00BC0856+509030]\n\tOrdinal0 [0x00AD743B+1799227]\n\tOrdinal0 [0x00ADBB68+1817448]\n\tOrdinal0 [0x00ADBC55+1817685]\n\tOrdinal0 [0x00AE5230+1856048]\n\tBaseThreadInitThunk [0x76BEFA29+25]\n\tRtlGetAppContainerNamedObjectPath [0x76F475F4+228]\n\tRtlGetAppContainerNamedObjectPath [0x76F475C4+180]\n"
     ]
    }
   ],
   "source": [
    "# 첫 번째 음식점 클릭\n",
    "element = '/html/body/main/article/div[2]/div/div/section/div[3]/ul/li[1]/div[1]/figure/a/div/img'\n",
    "driver.find_element(By.CSS_SELECTOR,element).click()"
   ]
  },
  {
   "cell_type": "code",
   "execution_count": null,
   "id": "91a034b3",
   "metadata": {},
   "outputs": [],
   "source": []
  }
 ],
 "metadata": {
  "kernelspec": {
   "display_name": "Python 3 (ipykernel)",
   "language": "python",
   "name": "python3"
  },
  "language_info": {
   "codemirror_mode": {
    "name": "ipython",
    "version": 3
   },
   "file_extension": ".py",
   "mimetype": "text/x-python",
   "name": "python",
   "nbconvert_exporter": "python",
   "pygments_lexer": "ipython3",
   "version": "3.9.12"
  }
 },
 "nbformat": 4,
 "nbformat_minor": 5
}
